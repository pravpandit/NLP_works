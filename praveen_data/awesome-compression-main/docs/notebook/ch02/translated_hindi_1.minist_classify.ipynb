{
 "cells": [
  {
   "cell_type": "markdown",
   "metadata": {},
   "source": [
    "# हस्तलिखित अंक पहचान"
   ]
  },
  {
   "cell_type": "code",
   "execution_count": null,
   "metadata": {},
   "outputs": [],
   "source": [
    "import copy\n",
    "import math\n",
    "import time\n",
    "import random\n",
    "from collections import OrderedDict, defaultdict\n",
    "from typing import Union, List\n",
    "\n",
    "import numpy as np\n",
    "import torch\n",
    "from matplotlib import pyplot as plt\n",
    "from torch import nn\n",
    "from torch.optim import *\n",
    "from torch.optim.lr_scheduler import *\n",
    "from torch.utils.data import DataLoader\n",
    "from torchvision.transforms import *\n",
    "from tqdm.auto import tqdm\n",
    "import torch.nn.functional as F\n",
    "from torchvision import datasets"
   ]
  },
  {
   "cell_type": "code",
   "execution_count": null,
   "metadata": {},
   "outputs": [],
   "source": [
    "random.seed(0)\n",
    "np.random.seed(0)\n",
    "torch.manual_seed(0)"
   ]
  },
  {
   "cell_type": "code",
   "execution_count": null,
   "metadata": {},
   "outputs": [],
   "source": [
    "# सामान्यीकरण सेट करें\n",
    "transform = transforms.Compose([transforms.ToTensor(), transforms.Normalize((0.1307,), (0.3081,))])\n",
    "\n",
    "# डेटा सेट प्राप्त करें\n",
    "train_dataset = datasets.MNIST(root='./data/mnist', train=True, download=True, transform=transform)  \n",
    "test_dataset = datasets.MNIST(root='./data/mnist', train=False, download=True, transform=transform)  # train=True训练集，=False测试集\n",
    "\n",
    "# डेटालोडर सेट करें\n",
    "batch_size = 64\n",
    "train_loader = DataLoader(train_dataset, batch_size=batch_size, shuffle=True)\n",
    "test_loader = DataLoader(test_dataset, batch_size=batch_size, shuffle=False)"
   ]
  },
  {
   "cell_type": "code",
   "execution_count": null,
   "metadata": {},
   "outputs": [],
   "source": [
    "# डेटा सेट प्रदर्शित करें\n",
    "fig = plt.figure()\n",
    "for i in range(12):\n",
    "    plt.subplot(3, 4, i+1)\n",
    "    plt.tight_layout()\n",
    "    plt.imshow(train_dataset.train_data[i], cmap='gray', interpolation='none')\n",
    "    plt.title(\"Labels: {}\".format(train_dataset.train_labels[i]))\n",
    "    plt.xticks([])\n",
    "    plt.yticks([])\n",
    "plt.show()"
   ]
  },
  {
   "cell_type": "code",
   "execution_count": null,
   "metadata": {},
   "outputs": [],
   "source": [
    "# LeNet नेटवर्क को परिभाषित करें\n",
    "class LeNet(nn.Module):\n",
    "    def __init__(self, num_classes=10):\n",
    "        super(LeNet, self).__init__()\n",
    "        self.conv1 = nn.Conv2d(in_channels=1, out_channels=6, kernel_size=5)\n",
    "        self.conv2 = nn.Conv2d(in_channels=6, out_channels=16, kernel_size=5)\n",
    "        self.maxpool = nn.MaxPool2d(kernel_size=2, stride=2)\n",
    "        self.fc1 = nn.Linear(in_features=16 * 4 * 4, out_features=120)\n",
    "        self.fc2 = nn.Linear(in_features=120, out_features=84)\n",
    "        self.fc3 = nn.Linear(in_features=84, out_features=num_classes)\n",
    "\n",
    "    def forward(self, x):\n",
    "        x = self.maxpool(F.relu(self.conv1(x)))\n",
    "        x = self.maxpool(F.relu(self.conv2(x)))\n",
    "\n",
    "        x = x.view(x.size()[0], -1)\n",
    "        x = F.relu(self.fc1(x))\n",
    "        x = F.relu(self.fc2(x))\n",
    "        x = self.fc3(x)\n",
    "\n",
    "        return x\n",
    "device = torch.device(\"cuda\" if torch.cuda.is_available() else \"cpu\")\n",
    "model = LeNet().to(device=device)"
   ]
  },
  {
   "cell_type": "code",
   "execution_count": null,
   "metadata": {},
   "outputs": [],
   "source": [
    "def train(\n",
    "  model: nn.Module,\n",
    "  dataloader: DataLoader,\n",
    "  criterion: nn.Module,\n",
    "  optimizer: Optimizer,\n",
    "  callbacks = None\n",
    ") -> None:\n",
    "  model.train()\n",
    "\n",
    "  for inputs, targets in tqdm(dataloader, desc='train', leave=False):\n",
    "    inputs = inputs\n",
    "    targets = targets\n",
    "# प्रिंट(इनपुट.आकार)\n",
    "# ग्रेडिएंट्स को रीसेट करें (अंतिम पुनरावृत्ति से)\n",
    "    optimizer.zero_grad()\n",
    "\n",
    "#आगे का अनुमान\n",
    "    outputs = model(inputs.cuda()).cpu()\n",
    "    loss = criterion(outputs, targets)\n",
    "\n",
    "#पिछड़ा प्रचार\n",
    "    loss.backward()\n",
    "\n",
    "# ऑप्टिमाइज़र अपडेट करें\n",
    "    optimizer.step()\n",
    "\n",
    "    if callbacks is not None:\n",
    "        for callback in callbacks:\n",
    "            callback()"
   ]
  },
  {
   "cell_type": "code",
   "execution_count": null,
   "metadata": {},
   "outputs": [],
   "source": [
    "@torch.inference_mode()\n",
    "def evaluate(\n",
    "  model: nn.Module,\n",
    "  dataloader: DataLoader,\n",
    "  verbose=True,\n",
    ") -> float:\n",
    "  model.eval()\n",
    "\n",
    "  num_samples = 0\n",
    "  num_correct = 0\n",
    "\n",
    "  for inputs, targets in tqdm(dataloader, desc=\"eval\", leave=False,\n",
    "                              disable=not verbose):\n",
    "\n",
    "#अनुमान\n",
    "    outputs = model(inputs.cuda()).cpu()\n",
    "\n",
    "# लॉग को क्लास इंडेक्स में बदलें\n",
    "    outputs = outputs.argmax(dim=1)\n",
    "\n",
    "# मेट्रिक्स अपडेट करें\n",
    "    num_samples += targets.size(0)\n",
    "    num_correct += (outputs == targets).sum()\n",
    "\n",
    "  return (num_correct / num_samples * 100).item()"
   ]
  },
  {
   "cell_type": "code",
   "execution_count": null,
   "metadata": {},
   "outputs": [],
   "source": [
    "lr = 0.01\n",
    "momentum = 0.5\n",
    "num_epoch = 5\n",
    "\n",
    "optimizer = torch.optim.SGD(model.parameters(),  lr=lr, momentum=momentum)  # lr学习率，momentum冲量\n",
    "criterion = nn.CrossEntropyLoss()  # 交叉熵损失\n",
    "\n",
    "\n",
    "best_accuracy = 0\n",
    "best_checkpoint = dict()\n",
    "gradients = dict()\n",
    "for epoch in range(num_epoch):\n",
    "    train(model, train_loader, criterion, optimizer)\n",
    "    accuracy = evaluate(model, test_loader)\n",
    "    is_best = accuracy > best_accuracy\n",
    "    if is_best:\n",
    "        best_checkpoint['state_dict'] = copy.deepcopy(model.state_dict())\n",
    "        best_accuracy = accuracy\n",
    "        \n",
    "# प्रत्येक ग्रेडिएंट को एक शब्दकोश में सहेजें\n",
    "        for name, parameter in model.named_parameters():\n",
    "            if parameter.grad is not None:\n",
    "# .clone() यह सुनिश्चित करता है कि हमारे पास ग्रेडिएंट की एक प्रति है, संदर्भ नहीं\n",
    "                gradients[name] = parameter.grad.clone()\n",
    "\n",
    "    print(f'Epoch{epoch+1:>2d} Accuracy {accuracy:.2f}% / Best Accuracy: {best_accuracy:.2f}%')\n",
    "\n",
    "\n",
    "torch.save(best_checkpoint['state_dict'], './model.pt')\n",
    "torch.save(gradients, './model_gradients.pt')\n",
    "\n",
    "print(f\"=> loading best checkpoint\")\n",
    "model.load_state_dict(best_checkpoint['state_dict'])"
   ]
  },
  {
   "cell_type": "code",
   "execution_count": null,
   "metadata": {},
   "outputs": [],
   "source": [
    "model_accuracy = evaluate(model, test_loader)\n",
    "print(f\"Model has accuracy={model_accuracy:.2f}%\")"
   ]
  }
 ],
 "metadata": {
  "kernelspec": {
   "display_name": "py39",
   "language": "python",
   "name": "python3"
  },
  "language_info": {
   "codemirror_mode": {
    "name": "ipython",
    "version": 3
   },
   "file_extension": ".py",
   "mimetype": "text/x-python",
   "name": "python",
   "nbconvert_exporter": "python",
   "pygments_lexer": "ipython3",
   "version": "3.8.18"
  }
 },
 "nbformat": 4,
 "nbformat_minor": 2
}
