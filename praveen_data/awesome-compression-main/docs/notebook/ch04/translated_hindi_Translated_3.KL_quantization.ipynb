{
 "cells": [
  {
   "cell_type": "markdown",
   "metadata": {},
   "source": [
    "#KLक्वांटिज़ेशन"
   ]
  },
  {
   "cell_type": "markdown",
   "metadata": {},
   "source": [
    "&emsp;&emsp;पिछले अनुभाग में प्रस्तुत रैखिक परिमाणीकरण को सममित परिमाणीकरण और असममित परिमाणीकरण में विभाजित किया गया है। असममित परिमाणीकरण में, डेटा में न्यूनतम और अधिकतम मान सीधे [-128, 127] पर मैप किए जाते हैं।\n",
    "इसी प्रकार, सममित परिमाणीकरण सीधे डेटा के अधिकतम निरपेक्ष मान को 127 पर मैप करता है।\n",
    "\n",
    "&emsp;&emsp;उपरोक्त दो प्रत्यक्ष मानचित्रण विधियां अपेक्षाकृत कठिन हैं, जबकि TensorRT में int8 परिमाणीकरण केएल विचलन टी के आधार पर सर्वोत्तम सीमा टी का चयन करता हैo 127 पर मैप करें। थ्रेशोल्ड टी से अधिक डेटा को सीधे थ्रेशोल्ड पर मैप किया जाएगा (ट्रंकेशन मैपिंग के समान)।\n",
    "\n",
    "![केएल परिमाणीकरण](../images/kl_quant.png)"
   ]
  },
  {
   "cell_type": "markdown",
   "metadata": {},
   "source": [
    "&emsp;&emsp;केएल विचलन का उपयोग अक्सर दो वितरणों पी और क्यू के बीच अंतर को मापने के लिए किया जाता है। केएल विचलन जितना छोटा होगा, दोनों वितरण उतने ही अधिक समान होंगे। इसका सूत्र इस प्रकार परिभाषित किया गया है:\n",
    "$$\n",
    "D_{KL} = \\sum_{i=1}^n P(i) \\log \\frac{P(i)}{Q(i)}\n",
    "$$\n",
    "\n",
    "&emsp;&emsp;यदि केएल विचलन मान छोटा है, तो इसका मतलब है कि दोनों वितरण अधिक समान हैं, जिसका अर्थ है कि सीमा |T| सबसे अच्छा है।"
   ]
  },
  {
   "cell_type": "markdown",
   "metadata": {},
   "source": [
    "## केएल विचलन परिमाणीकरण कार्यान्वयन चरण\n",
    "1. मूल इनपुट डेटा के आधार पर 2048 बिन के साथ एक हिस्टोग्राम बनाएं\n",
    "2. सर्वोत्तम विभाजन $bin_{i}$ ढूंढने के लिए [128, 2048] श्रेणी में चरण 3-5 के माध्यम से लूप करें;\n",
    "3. श्रेणी [0, $bin_{i}$] में हिस्टोग्राम डेटा को मूल P के रूप में उपयोग किया जाता है, और $bin_{i}$ के बाद हिस्टोग्राम डेटा को संक्षेपित किया जाता है और $bin_{i-1}$ में जोड़ा जाता है विभाजन के रूप में $bin_{i}$ के साथ अंतिम P वितरण बनाएं।\n",
    "4. क्यू वितरण बनाने के लिए पी वितरण की मात्रा निर्धारित करें (आम तौर पर, डीडिब्बे को विभाजित और मर्ज करें, और क्यू वितरण के अनुरूप डिब्बे के मूल्य के रूप में विलय के बाद औसत मूल्य की गणना करें)।\n",
    "5. पी वितरण और क्यू वितरण के केएल विचलन की गणना करें।\n",
    "6. न्यूनतम केएल विचलन के आधार पर सर्वश्रेष्ठ $bin_{best}$ का चयन करें, और अंतिम सीमा सीमा के रूप में $bin_{best}$ का उपयोग करें, जिसे 127 की सीमा टी पर मैप किया गया है।\n",
    "7. सर्वोत्तम सीमा टी, स्केल = टी/127 के आधार पर पैमाने की गणना करें।\n",
    "8. मूल डेटा की मात्रा निर्धारित करें (वजन, सक्रियण मान)।ईएस, आदि) सममित परिमाणीकरण पर आधारित है।"
   ]
  },
  {
   "cell_type": "code",
   "execution_count": 10,
   "metadata": {},
   "outputs": [
    {
     "name": "stdout",
     "output_type": "stream",
     "text": [
      "maximum activation value 305.47503366510796\n",
      "threshold:  1537\n",
      "threshold edges: 229.25779833160348\n"
     ]
    },
    {
     "data": {
      "image/png": "[encoded data removed]",
      "text/plain": [
       "<Figure size 640x480 with 1 Axes>"
      ]
     },
     "metadata": {},
     "output_type": "display_data"
    }
   ],
   "source": [
    "import random\n",
    "import numpy as np\n",
    "import matplotlib.pyplot as plt  \n",
    "import copy\n",
    "import scipy.stats as stats\n",
    "\n",
    "# बेतरतीब ढंग से परीक्षण डेटा उत्पन्न करें\n",
    "def generator_P(size):\n",
    "    walk = []\n",
    "    avg = random.uniform(0.000, 0.999)\n",
    "    std = random.uniform(50.000, 99.999)\n",
    "    for _ in range(size):\n",
    "        walk.append(random.gauss(avg, std)) # 生成符合高斯分布的随机数\n",
    "    return walk\n",
    "\n",
    "# नैन मानों को रोकने के लिए चिकनी पी और क्यू, क्योंकि केएल विचलन लॉग (पी/क्यू) की गणना करेगा, और जब क्यू 0 है तो नैन दिखाई देगा\n",
    "def smooth_distribution(p, eps=0.0001):\n",
    "    is_zeros = (p == 0).astype(np.float32)\n",
    "    is_nonzeros = (p != 0).astype(np.float32)\n",
    "    n_zeros = is_zeros.sum()\n",
    "    n_nonzeros = p.size - n_zeros\n",
    "    if not n_nonzeros:\n",
    "        raise ValueError('The discrete probability distribution is malformed. All entries are 0.')\n",
    "    eps1 = eps * float(n_zeros) / float(n_nonzeros)\n",
    "    assert eps1 < 1.0, 'n_zeros=%d, n_nonzeros=%d, eps1=%f' % (n_zeros, n_nonzeros, eps1)\n",
    "    hist = p.astype(np.float32)\n",
    "    hist += eps * is_zeros + (-eps1) * is_nonzeros\n",
    "    assert (hist <= 0).sum() == 0\n",
    "    return hist\n",
    "\n",
    "def threshold_distribution(distribution, target_bin = 128):\n",
    "    distribution = distribution[1:]\n",
    "    length = distribution.size # 2047\n",
    "    threshold_sum = sum(distribution[target_bin:]) # [128: ]\n",
    "    kl_divergence = np.zeros(length - target_bin) # 初始化 2047 - 128 = 1919 个KL散度值\n",
    "    \n",
    "    for threshold in range(target_bin, length): # 遍历threshold寻找KL散度最低的阈值\n",
    "        sliced_nd_hist = copy.deepcopy(distribution[:threshold]) # [0, threshold）内的作为P\n",
    "        p = sliced_nd_hist.copy() # 生成p\n",
    "\n",
    "        p[threshold - 1] += threshold_sum # 把 [threshold:] 后的累加和加到 p[threshold - 1] 中\n",
    "        threshold_sum = threshold_sum - distribution[threshold] # 更新下一轮的累加和，即上一轮的累加和减去即将移入P分布的区间数据\n",
    "\n",
    "        is_nonzeros = (p != 0).astype(np.int64) # [0:threshold]内不为0的区间\n",
    "        \n",
    "        quantized_bins = np.zeros(target_bin, dtype = np.int64) # 初始化量化后的bins\n",
    "        num_merged_bins = sliced_nd_hist.size // target_bin # 计算多少个区间需要合并来计算平均值，例如最初有8个bins，需要合并到4个bins，则每两个bins需要进行合并\n",
    "\n",
    "#डिब्बे मर्ज करें\n",
    "        for j in range(target_bin): \n",
    "            start = j * num_merged_bins # 合并开始的bins\n",
    "            stop = start + num_merged_bins # 合并结束的bins\n",
    "            quantized_bins[j] = sliced_nd_hist[start:stop].sum() # 计算区间内bins的总和\n",
    "        quantized_bins[-1] += sliced_nd_hist[target_bin * num_merged_bins:].sum()\n",
    "\n",
    "#Q की गणना करें\n",
    "        q = np.zeros(sliced_nd_hist.size, dtype = np.float64) # 初始化量化后的q\n",
    "        for j in range(target_bin):\n",
    "            start = j * num_merged_bins\n",
    "            if j == target_bin - 1:\n",
    "                stop = -1\n",
    "            else:\n",
    "                stop = start + num_merged_bins # 每num_merged_bins个bins进行合并组成q\n",
    "            norm = is_nonzeros[start:stop].sum() # 看看合并区间里，不为0的区间个数\n",
    "            if norm != 0:\n",
    "                q[start:stop] = float(quantized_bins[j]) / float(norm) # 用均值（假如区间内都不为0）填充q\n",
    "        \n",
    "# पी और क्यू को चिकना करना\n",
    "        p = smooth_distribution(p)\n",
    "        q = smooth_distribution(q)\n",
    "# पी और क्यू के बीच केएल विचलन की गणना करें\n",
    "        kl_divergence[threshold - target_bin] = stats.entropy(p, q)\n",
    "\n",
    "# सीमा के अनुरूप न्यूनतम केएल विचलन का सूचकांक ज्ञात करें\n",
    "    min_kl_divergence = np.argmin(kl_divergence)\n",
    "    threshold_value = min_kl_divergence + target_bin # 计算真正的threshold, 基于最初的128, 因为一开始就是从128开始不断向外计算来扩大P的范围\n",
    "\n",
    "    return threshold_value\n",
    "\n",
    "if __name__ == '__main__':\n",
    "    \n",
    "    int_max = 127\n",
    "# परीक्षण डेटा को बेतरतीब ढंग से प्रारंभ करें\n",
    "    size = 20000\n",
    "    P = generator_P(size) \n",
    "    P = np.array(P)\n",
    "    P = P[P > 0] # 保留大于0的数\n",
    "    print(\"maximum activation value\", max(np.absolute(P))) # 最大的激活值\n",
    "\n",
    "    hist, bin_edges = np.histogram(P, bins = 2048) # 生成直方图 hist表示每一个bins对应的数量, bins表示截止 \n",
    "    threshold = threshold_distribution(hist, target_bin = 128) # 返回KL散度最小的划分bins\n",
    "    print(\"threshold: \", threshold)\n",
    "    print(\"threshold edges:\", bin_edges[threshold]) # 截止到threshold对应的bins, 能够表示的范围 bin_edges[-1]表示上面最大的激活值，即能够表示所有数\n",
    "\n",
    "# पैमाने की गणना करें\n",
    "    scale = bin_edges[threshold] / int_max # 即bin_edges[threshold] / 127 \n",
    "    \n",
    "# स्प्लिट_ज़ी समूहों में विभाजित करें, घनत्व इंगित करता है कि मानकीकृत है या नहीं\n",
    "    plt.title(\"Relu activation value Histogram\")\n",
    "    plt.xlabel(\"Activation values\")\n",
    "    plt.ylabel(\"Normalized number of Counts\")\n",
    "    plt.hist(P, bins=2047)\n",
    "    plt.vlines(bin_edges[threshold], 0, 30, colors = \"r\", linestyles = \"dashed\") # 红线向左就是能够表示的所有范围\n",
    "    plt.show()\n"
   ]
  },
  {
   "cell_type": "code",
   "execution_count": null,
   "metadata": {},
   "outputs": [],
   "source": []
  }
 ],
 "metadata": {
  "kernelspec": {
   "display_name": "learning",
   "language": "python",
   "name": "python3"
  },
  "language_info": {
   "codemirror_mode": {
    "name": "ipython",
    "version": 3
   },
   "file_extension": ".py",
   "mimetype": "text/x-python",
   "name": "python",
   "nbconvert_exporter": "python",
   "pygments_lexer": "ipython3",
   "version": "3.11.7"
  }
 },
 "nbformat": 4,
 "nbformat_minor": 2
}
