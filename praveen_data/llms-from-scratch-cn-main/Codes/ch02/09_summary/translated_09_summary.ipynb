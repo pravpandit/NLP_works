{
 "cells": [
  {
   "cell_type": "markdown",
   "id": "0315c598-701f-46ff-8806-15813cad0e51",
   "metadata": {},
   "source": [
    "# **2.9 Summary**\n",
    "\n",
    "- Large language models need to convert text data into vectors, called embeddings, because they cannot process raw text. Embeddings convert discrete data, such as words or images, into a continuous vector space, making it compatible with the operation of neural networks.\n",
    "\n",
    "- In the first step, the raw text is broken down into tokens, which can be words or characters. Then, the tokens are converted into integer representations, called token IDs.\n",
    "\n",
    "- Special tags, such as <|unk|> and <|endoftext|>, are used to enhance the model's understanding and handle various cases, such as unknown words or boundaries between unrelated text.\n",
    "\n",
    "- The Byte Pair Encoding (BPE) tagger used in large language models such as GPT-2 and GPT-3 can effectively handle unknown words by breaking them down into subword units or individual characters.\n",
    "\n",
    "- We use a sliding window method on the tokenized data to generate the input-target pairs required for large language model training.\n",
    "\n",
    "- The embedding layer in PyTorch acts as a lookup operation, retrieving the vector corresponding to the token ID. The resulting embedding vectors provide a continuous representation of the tokens, which is essential for training deep learning models such as large language models.\n",
    "\n",
    "- While token embeddings provide a consistent vector representation for each token, they lack the notion of the token's position in the sequence. To address this, there are two main types of positional embeddings:Absolute position embedding and relative position embedding. OpenAI's GPT model uses absolute position embeddings, which are added to the token embedding vector and optimized during model training."
   ]
  }
 ],
 "metadata": {
  "kernelspec": {
   "display_name": "Python 3 (ipykernel)",
   "language": "python",
   "name": "python3"
  },
  "language_info": {
   "codemirror_mode": {
    "name": "ipython",
    "version": 3
   },
   "file_extension": ".py",
   "mimetype": "text/x-python",
   "name": "python",
   "nbconvert_exporter": "python",
   "pygments_lexer": "ipython3",
   "version": "3.8.17"
  }
 },
 "nbformat": 4,
 "nbformat_minor": 5
}
