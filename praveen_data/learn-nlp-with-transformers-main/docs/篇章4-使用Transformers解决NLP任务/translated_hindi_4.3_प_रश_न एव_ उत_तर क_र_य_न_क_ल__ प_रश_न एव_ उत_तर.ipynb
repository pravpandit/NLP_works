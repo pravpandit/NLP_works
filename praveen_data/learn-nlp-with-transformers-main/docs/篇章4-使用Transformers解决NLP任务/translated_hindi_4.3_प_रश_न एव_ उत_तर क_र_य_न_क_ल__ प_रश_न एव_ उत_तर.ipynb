{
 "cells": [
  {
   "cell_type": "markdown",
   "metadata": {
    "id": "X4cRE8IbIrIV"
   },
   "source": [
    "इस लेख में शामिल जप्टर नोटबुक [अध्याय 4 कोड आधार](https://github.com/datawhalechina/learn-nlp-with-transformers/tree/main/docs/%E7%AF%87%E7%AB) में है %A04 -%E4%BD%BF%E7%94%A8ट्रांसफॉर्मर%E8%A7%A3%E5%86%B3NLP%E4%BB%BB%E5%8A%A1)।\r\n",
    "\r\n",
    "इस ट्यूटोरियल को सीधे खोलने के लिए Google Colab नोटबुक का उपयोग करने की अनुशंसा की जाती है, ताकि आप प्रासंगिक डेटा सेट और मॉडल जल्दी से डाउनलोड कर सकें।\r\n",
    "यदि आप इस नोटबुक को Google के कोलाब में खोल रहे हैं, तो आपको ट्रांसफॉर्मर और 🤗डेटासेट लाइब्रेरी इंस्टॉल करने की आवश्यकता हो सकती है। इसे स्थापित करने के लिए निम्नलिखित कमांड को अनकम्मेंट करें।"
   ]
  },
  {
   "cell_type": "code",
   "execution_count": 1,
   "metadata": {
    "id": "MOsHUjgdIrIW"
   },
   "outputs": [],
   "source": [
    "# !पिप डेटासेट ट्रांसफार्मर स्थापित करें"
   ]
  },
  {
   "cell_type": "markdown",
   "metadata": {
    "id": "rEJBSTyZIrIb"
   },
   "source": [
    "# मशीन प्रश्न उत्तर कार्यों पर ट्रांसफार्मर मॉडल को फाइन-ट्यून करें"
   ]
  },
  {
   "cell_type": "markdown",
   "metadata": {
    "id": "nm8eowt6YBU6"
   },
   "source": [
    "इस नोटबुक में, हम सीखेंगे कि मशीन प्रश्न उत्तर कार्यों को हल करने के लिए [🤗 ट्रांसफॉर्मर्स] (https://github.com/huggingface/transformers) के ट्रांसफॉर्मर मॉडल को कैसे ठीक किया जाए। यह लेख मुख्य रूप से निष्कर्षण प्रश्न और उत्तर कार्य को हल करता है: एक प्रश्न और पाठ का एक टुकड़ा दिया गया है, उस पाठ खंड (स्पैन) को ढूंढें जो पाठ से प्रश्न का उत्तर दे सकता है। `ट्रेनर` एपीआई और डेटासेट पैकेज का उपयोग करके, हम आसानी से डेटासेट लोड करेंगे और फिर ट्रांसफार्मर को फाइन-ट्यून करेंगे। नीचे दिया गया चित्र एक सरल उदाहरण देता है\n",
    "![QA कार्य का प्रतिनिधित्व करने वाला विजेट अनुमान](images/question_answering.png)\n",
    "\n",
    "**नोट:** नोट: इस लेख का प्रश्न और उत्तर कार्य पाठ से उत्तर निकालना है, न कि सीधे उत्तर उत्पन्न करना!"
   ]
  },
  {
   "cell_type": "markdown",
   "metadata": {
    "id": "4RRkXuteIrIh"
   },
   "source": [
    "इस नोटबुक में डिज़ाइन किए गए उदाहरणों का उपयोग SQUAD 1 और SQUAD 2 के समान किसी भी निष्कर्षण प्रश्न का उत्तर देने वाले कार्यों को हल करने के लिए किया जा सकता है, और [मॉडल हब] (https://huggingface.co/models) में किसी भी मॉडल चेकपॉइंट का उपयोग कर सकते हैं, जब तक इन मॉडल में एक टोकन वर्गीकरण प्रमुख और एक तेज़ टोकननाइज़र शामिल है। मॉडल और तेज़ टोकननाइज़र के बीच संबंधित संबंध के लिए, देखें: [यह तालिका](https://huggingface.co/transformers/index.html#bigtable)।\n",
    "\n",
    "\n",
    "यदि आपका डेटा सेट इस नोटबुक से भिन्न है, तो आप केवल मामूली समायोजन के साथ इस नोटबुक का सीधे उपयोग कर सकते हैं। बेशक, आपके हार्डवेयर डिवाइस (कंप्यूटर मेमोरी, ग्राफिक्स कार्ड आकार) के आधार पर, आपको आउट-ऑफ-मेमोरी त्रुटियों से बचने के लिए बैच आकार को उचित रूप से समायोजित करने की आवश्यकता है।\n",
    "उन तीन मापदंडों को सेट करें, फिर बाकी नोटबुक सुचारू रूप से चलनी चाहिए:"
   ]
  },
  {
   "cell_type": "code",
   "execution_count": null,
   "metadata": {
    "id": "zVvslsfMIrIh"
   },
   "outputs": [],
   "source": [
    "# स्क्वाड_v2 सही या गलत के बराबर है अर्थात क्रमशः SQUAD v1 या SQUAD v2 का उपयोग करना।\n",
    "# यदि आप अन्य डेटा सेट का उपयोग कर रहे हैं, तो True का अर्थ है कि मॉडल \"अनिवार्य\" प्रश्नों का उत्तर दे सकता है, अर्थात, कुछ प्रश्न उत्तर नहीं देते हैं, जबकि False का अर्थ है कि सभी प्रश्नों का उत्तर दिया जाना चाहिए।\n",
    "squad_v2 = False\r\n",
    "model_checkpoint = \"distilbert-base-uncased\"\r\n",
    "batch_size = 16"
   ]
  },
  {
   "cell_type": "markdown",
   "metadata": {
    "id": "whPRbBNbIrIl"
   },
   "source": [
    "## डेटा सेट लोड करें"
   ]
  },
  {
   "cell_type": "markdown",
   "metadata": {
    "id": "W7QYTpxXIrIl"
   },
   "source": [
    "हम डेटा डाउनलोड करने और हमें आवश्यक मूल्यांकन संकेतक प्राप्त करने के लिए (बेंचमार्क बेंचमार्क की तुलना में) [🤗 डेटासेट] (https://github.com/huggingface/datasets) लाइब्रेरी का उपयोग करेंगे।\r\n",
    "\r\n",
    "इन दोनों कार्यों को `load_dataset` और `load_metric` फ़ंक्शन का उपयोग करके आसानी से पूरा किया जा सकता है।"
   ]
  },
  {
   "cell_type": "code",
   "execution_count": null,
   "metadata": {
    "id": "IreSlFmlIrIm"
   },
   "outputs": [],
   "source": [
    "from datasets import load_dataset, load_metric"
   ]
  },
  {
   "cell_type": "markdown",
   "metadata": {
    "id": "CKx2zKs5IrIq"
   },
   "source": [
    "उदाहरण के लिए, हम इस नोटबुक में [SQUAD डेटासेट](https://rajpurkar.github.io/SQuAD-explorer/) का उपयोग करेंगे। इसी प्रकार, यह नोटबुक सभी डेटासेट लाइब्रेरीज़ में उपलब्ध कराए गए सभी प्रश्न और उत्तर डेटा सेटों के लिए भी अनुकूलित है।\r\n",
    "\r\n",
    "यदि आप अपने स्वयं के डेटासेट (json या csv प्रारूप) का उपयोग कर रहे हैं, तो कस्टम लोड करने का तरीका जानने के लिए कृपया [डेटासेट दस्तावेज़] (https://huggingface.co/docs/datasets/loading_datasets.html#from-local-files) देखें डेटा सेट का. आपको प्रत्येक कॉलम के लिए उपयोग किए गए नामों को समायोजित करने की आवश्यकता हो सकती है।"
   ]
  },
  {
   "cell_type": "code",
   "execution_count": null,
   "metadata": {
    "id": "s_AY1ATSIrIq"
   },
   "outputs": [],
   "source": [
    "# डेटा डाउनलोड करें (सुनिश्चित करें कि नेटवर्क है)\n",
    "datasets = load_dataset(\"squad_v2\" if squad_v2 else \"squad\")"
   ]
  },
  {
   "cell_type": "markdown",
   "metadata": {},
   "source": [
    "इसके अलावा, आप हमारे द्वारा प्रदान किए गए [लिंक] (https://gas.graviti.cn/dataset/datawhale/SQuAD) से डेटा को डाउनलोड और डीकंप्रेस भी कर सकते हैं, और डीकंप्रेस्ड 2 json फ़ाइलों को `docs/अध्याय 4' में कॉपी कर सकते हैं। -/डेटासेट/स्क्वाड निर्देशिका में एनएलपी कार्यों को हल करने के लिए ट्रांसफॉर्मर का उपयोग करें, और फिर इसे निम्नलिखित कोड के साथ लोड करें।"
   ]
  },
  {
   "cell_type": "code",
   "execution_count": null,
   "metadata": {},
   "outputs": [],
   "source": [
    "import os\r\n",
    "\r\n",
    "data_path = './dataset/squad/'\r\n",
    "path = os.path.join(data_path, 'squad.py')\r\n",
    "cache_dir = os.path.join(data_path, 'cache')\r\n",
    "data_files = {\"train\": os.path.join(data_path, \"train-v1.1.json\"), \"validation\": os.path.join(data_path, \"dev-v1.1.json\")}\r\n",
    "datasets = load_dataset(path, data_files=data_files, cache_dir=cache_dir)"
   ]
  },
  {
   "cell_type": "markdown",
   "metadata": {
    "id": "RzfPtOMoIrIu"
   },
   "source": [
    "यह `डेटासेट` ऑब्जेक्ट एक [`डेटासेटडिक्ट`](https://huggingface.co/docs/datasets/package_reference/main_classes.html#datasetdict) संरचना है, जो क्रमशः प्रशिक्षण, सत्यापन और परीक्षण इस निर्देश की एक कुंजी के अनुरूप है।"
   ]
  },
  {
   "cell_type": "code",
   "execution_count": null,
   "metadata": {
    "id": "GWiVUF0jIrIv",
    "outputId": "35e3ea43-f397-4a54-c90c-f2cf8d36873e"
   },
   "outputs": [
    {
     "data": {
      "text/plain": [
       "DatasetDict({\n",
       "    train: Dataset({\n",
       "        features: ['id', 'title', 'context', 'question', 'answers'],\n",
       "        num_rows: 87599\n",
       "    })\n",
       "    validation: Dataset({\n",
       "        features: ['id', 'title', 'context', 'question', 'answers'],\n",
       "        num_rows: 10570\n",
       "    })\n",
       "})"
      ]
     },
     "execution_count": 9,
     "metadata": {
      "tags": []
     },
     "output_type": "execute_result"
    }
   ],
   "source": [
    "# निम्नलिखित डेटासेट और उनके गुण देखें\n",
    "datasets"
   ]
  },
  {
   "cell_type": "markdown",
   "metadata": {
    "id": "5_Tr9XWDYBVA"
   },
   "source": [
    "चाहे वह प्रशिक्षण सेट हो, सत्यापन सेट हो या परीक्षण सेट हो, प्रत्येक प्रश्न और उत्तर डेटा नमूने में तीन कुंजी होंगी: \"संदर्भ\", \"प्रश्न\" और \"उत्तर\"।\n",
    "\n",
    "हम किसी नमूने का चयन करने के लिए सबस्क्रिप्ट का उपयोग कर सकते हैं।"
   ]
  },
  {
   "cell_type": "code",
   "execution_count": null,
   "metadata": {
    "id": "X6HrpprwIrIz",
    "outputId": "d7670bc0-42e4-4c09-8a6a-5c018ded7d95"
   },
   "outputs": [
    {
     "data": {
      "text/plain": [
       "{'answers': {'answer_start': [515], 'text': ['Saint Bernadette Soubirous']},\n",
       " 'context': 'Architecturally, the school has a Catholic character. Atop the Main Building\\'s gold dome is a golden statue of the Virgin Mary. Immediately in front of the Main Building and facing it, is a copper statue of Christ with arms upraised with the legend \"Venite Ad Me Omnes\". Next to the Main Building is the Basilica of the Sacred Heart. Immediately behind the basilica is the Grotto, a Marian place of prayer and reflection. It is a replica of the grotto at Lourdes, France where the Virgin Mary reputedly appeared to Saint Bernadette Soubirous in 1858. At the end of the main drive (and in a direct line that connects through 3 statues and the Gold Dome), is a simple, modern stone statue of Mary.',\n",
       " 'id': '5733be284776f41900661182',\n",
       " 'question': 'To whom did the Virgin Mary allegedly appear in 1858 in Lourdes France?',\n",
       " 'title': 'University_of_Notre_Dame'}"
      ]
     },
     "execution_count": 12,
     "metadata": {
      "tags": []
     },
     "output_type": "execute_result"
    }
   ],
   "source": [
    "datasets[\"train\"][0]\r\n",
    "#answer उत्तर का प्रतिनिधित्व करता है\n",
    "# संदर्भ एक पाठ खंड का प्रतिनिधित्व करता है\n",
    "# प्रश्न एक प्रश्न का प्रतिनिधित्व करता है"
   ]
  },
  {
   "cell_type": "markdown",
   "metadata": {
    "id": "s5GXOp9PYBVA"
   },
   "source": [
    "उत्तरों की व्याख्या पर ध्यान दें। पाठ खंड में उत्तर पाठ देने के अलावा, उत्तर उत्तर का स्थान भी देता है (वर्ण से शुरू करके गणना की गई, उपरोक्त उदाहरण 515वां स्थान है)।\n",
    "\n",
    "यह समझने के लिए कि डेटा कैसा दिखता है, निम्न फ़ंक्शन प्रदर्शित करने के लिए डेटा सेट से यादृच्छिक रूप से कुछ उदाहरणों का चयन करेगा।"
   ]
  },
  {
   "cell_type": "code",
   "execution_count": null,
   "metadata": {
    "id": "i3j8APAoIrI3"
   },
   "outputs": [],
   "source": [
    "from datasets import ClassLabel, Sequence\r\n",
    "import random\r\n",
    "import pandas as pd\r\n",
    "from IPython.display import display, HTML\r\n",
    "\r\n",
    "def show_random_elements(dataset, num_examples=10):\r\n",
    "    assert num_examples <= len(dataset), \"Can't pick more elements than there are in the dataset.\"\r\n",
    "    picks = []\r\n",
    "    for _ in range(num_examples):\r\n",
    "        pick = random.randint(0, len(dataset)-1)\r\n",
    "        while pick in picks:\r\n",
    "            pick = random.randint(0, len(dataset)-1)\r\n",
    "        picks.append(pick)\r\n",
    "    \r\n",
    "    df = pd.DataFrame(dataset[picks])\r\n",
    "    for column, typ in dataset.features.items():\r\n",
    "        if isinstance(typ, ClassLabel):\r\n",
    "            df[column] = df[column].transform(lambda i: typ.names[i])\r\n",
    "        elif isinstance(typ, Sequence) and isinstance(typ.feature, ClassLabel):\r\n",
    "            df[column] = df[column].transform(lambda x: [typ.feature.names[i] for i in x])\r\n",
    "    display(HTML(df.to_html()))"
   ]
  },
  {
   "cell_type": "code",
   "execution_count": null,
   "metadata": {
    "id": "SZy5tRB_IrI7",
    "outputId": "ba8f2124-e485-488f-8c0c-254f34f24f13",
    "scrolled": true
   },
   "outputs": [
    {
     "data": {
      "text/html": [
       "<table border=\"1\" class=\"dataframe\">\n",
       "  <thead>\n",
       "    <tr style=\"text-align: right;\">\n",
       "      <th></th>\n",
       "      <th>answers</th>\n",
       "      <th>context</th>\n",
       "      <th>id</th>\n",
       "      <th>question</th>\n",
       "      <th>title</th>\n",
       "    </tr>\n",
       "  </thead>\n",
       "  <tbody>\n",
       "    <tr>\n",
       "      <th>0</th>\n",
       "      <td>{'answer_start': [185], 'text': ['diesel fuel']}</td>\n",
       "      <td>In Alberta, five bitumen upgraders produce synthetic crude oil and a variety of other products: The Suncor Energy upgrader near Fort McMurray, Alberta produces synthetic crude oil plus diesel fuel; the Syncrude Canada, Canadian Natural Resources, and Nexen upgraders near Fort McMurray produce synthetic crude oil; and the Shell Scotford Upgrader near Edmonton produces synthetic crude oil plus an intermediate feedstock for the nearby Shell Oil Refinery. A sixth upgrader, under construction in 2015 near Redwater, Alberta, will upgrade half of its crude bitumen directly to diesel fuel, with the remainder of the output being sold as feedstock to nearby oil refineries and petrochemical plants.</td>\n",
       "      <td>571b074c9499d21900609be3</td>\n",
       "      <td>Besides crude oil, what does the Suncor Energy plant produce?</td>\n",
       "      <td>Asphalt</td>\n",
       "    </tr>\n",
       "    <tr>\n",
       "      <th>1</th>\n",
       "      <td>{'answer_start': [191], 'text': ['the GIOVE satellites for the Galileo system']}</td>\n",
       "      <td>Compass-M1 is an experimental satellite launched for signal testing and validation and for the frequency filing on 14 April 2007. The role of Compass-M1 for Compass is similar to the role of the GIOVE satellites for the Galileo system. The orbit of Compass-M1 is nearly circular, has an altitude of 21,150 km and an inclination of 55.5 degrees.</td>\n",
       "      <td>56e1161ccd28a01900c6757b</td>\n",
       "      <td>The purpose of the Compass-M1 satellite is similar to the purpose of what other satellite?</td>\n",
       "      <td>BeiDou_Navigation_Satellite_System</td>\n",
       "    </tr>\n",
       "  </tbody>\n",
       "</table>"
      ],
      "text/plain": [
       "<IPython.core.display.HTML object>"
      ]
     },
     "metadata": {
      "tags": []
     },
     "output_type": "display_data"
    }
   ],
   "source": [
    "show_random_elements(datasets[\"train\"], num_examples=2)"
   ]
  },
  {
   "cell_type": "markdown",
   "metadata": {
    "id": "n9qywopnIrJH"
   },
   "source": [
    "## प्रशिक्षण डेटा को प्रीप्रोसेस करना"
   ]
  },
  {
   "cell_type": "markdown",
   "metadata": {
    "id": "YVx71GdAIrJH"
   },
   "source": [
    "मॉडल में डेटा फीड करने से पहले, हमें डेटा को प्रीप्रोसेस करना होगा। प्रीप्रोसेसिंग टूल को 'टोकनाइज़र' कहा जाता है। `टोकनाइज़र` पहले इनपुट को टोकनाइज़ करता है, फिर टोकन को प्री-मॉडल में आवश्यक संबंधित टोकन आईडी में परिवर्तित करता है, और फिर इसे मॉडल द्वारा आवश्यक इनपुट प्रारूप में परिवर्तित करता है।\n",
    "\n",
    "डेटा प्रीप्रोसेसिंग के उद्देश्य को प्राप्त करने के लिए, हम अपने टोकननाइज़र को इंस्टेंट करने के लिए `AutoTokenizer.from_pretrained` विधि का उपयोग करते हैं, जो सुनिश्चित करता है:\n",
    "\n",
    "- हमें एक टोकननाइज़र मिलता है जो पूर्व-प्रशिक्षित मॉडल वन-टू-वन से मेल खाता है।\n",
    "- निर्दिष्ट मॉडल चेकपॉइंट के अनुरूप टोकननाइज़र का उपयोग करते समय, हम मॉडल द्वारा आवश्यक शब्दावली लाइब्रेरी भी डाउनलोड करते हैं, सटीक होने के लिए, टोकन शब्दावली।\n",
    "\n",
    "डाउनलोड किए गए टोकन शब्दावली को कैश किया जाएगा ताकि दोबारा उपयोग करने पर इसे दोबारा डाउनलोड न किया जा सके।"
   ]
  },
  {
   "cell_type": "code",
   "execution_count": null,
   "metadata": {
    "id": "eXNLu_-nIrJI"
   },
   "outputs": [],
   "source": [
    "from transformers import AutoTokenizer\r\n",
    "    \r\n",
    "tokenizer = AutoTokenizer.from_pretrained(model_checkpoint)"
   ]
  },
  {
   "cell_type": "markdown",
   "metadata": {
    "id": "Vl6IidfdIrJK"
   },
   "source": [
    "निम्नलिखित कोड के लिए आवश्यक है कि टोकननाइज़र ट्रांसफार्मर.PreTrainedTokenizerFast प्रकार का होना चाहिए, क्योंकि हमें प्रीप्रोसेसिंग के दौरान फास्ट टोकननाइज़र की कुछ विशेष सुविधाओं (जैसे मल्टी-थ्रेडेड फास्ट टोकननाइज़र) का उपयोग करने की आवश्यकता होती है।\n",
    "\n",
    "मॉडलों के अनुरूप लगभग सभी टोकननाइजरों में संगत तेज टोकननाइजर होते हैं। हम [मॉडल टोकनाइज़र कॉरेस्पोंडेंस टेबल] (https://huggingface.co/transformers/index.html#bigtable) में सभी पूर्व-प्रशिक्षित मॉडलों के अनुरूप टोकननाइज़र की विशेषताओं को देख सकते हैं।"
   ]
  },
  {
   "cell_type": "code",
   "execution_count": null,
   "metadata": {
    "id": "w0UUlLKzYBVD"
   },
   "outputs": [],
   "source": [
    "import transformers\r\n",
    "assert isinstance(tokenizer, transformers.PreTrainedTokenizerFast)"
   ]
  },
  {
   "cell_type": "code",
   "execution_count": null,
   "metadata": {
    "id": "UdHO2nryYBVE",
    "outputId": "af9ba744-7aa9-44a8-b0c8-2b60b21bf786"
   },
   "outputs": [
    {
     "name": "stdout",
     "output_type": "stream",
     "text": [
      "单个文本tokenize: ['what', 'is', 'your', 'name', '?']\n",
      "2个文本tokenize: ['[CLS]', 'my', 'name', 'is', 'sy', '##lva', '##in', '.', '[SEP]']\n"
     ]
    }
   ],
   "source": [
    "# यदि हम टोकननाइज़र प्रीप्रोसेसिंग के बाद टेक्स्ट प्रारूप देखना चाहते हैं, तो हम केवल टोकननाइज़र की टोकननाइज़ विधि का उपयोग करते हैं। विशेष टोकन जोड़ने का अर्थ है पूर्व-प्रशिक्षित मॉडल के लिए आवश्यक विशेष टोकन जोड़ना।\n",
    "print(\"单个文本tokenize: {}\".format(tokenizer.tokenize(\"What is your name?\"), add_special_tokens=True))\r\n",
    "print(\"2个文本tokenize: {}\".format(tokenizer.tokenize(\"My name is Sylvain.\", add_special_tokens=True)))\r\n",
    "# प्री-ट्रेनिंग मॉडल के लिए आवश्यक इनपुट प्रारूप टोकन आईडी है, और एक एटेटनियन मास्क भी आवश्यक है। पूर्व-प्रशिक्षित मॉडल प्रारूप द्वारा आवश्यक इनपुट प्राप्त करने के लिए आप निम्न विधि का उपयोग कर सकते हैं।"
   ]
  },
  {
   "cell_type": "markdown",
   "metadata": {
    "id": "rowT4iCLIrJK"
   },
   "source": [
    "टोकननाइज़र या तो एक टेक्स्ट या टेक्स्ट की एक जोड़ी को प्रीप्रोसेस कर सकता है। टोकननाइज़र प्रीप्रोसेसिंग के बाद प्राप्त डेटा प्री-ट्रेनिंग मॉडल के इनपुट प्रारूप से मिलता है।"
   ]
  },
  {
   "cell_type": "code",
   "execution_count": null,
   "metadata": {
    "id": "_E0gsIhoYBVF",
    "outputId": "e810df73-25ff-4fd9-edff-417bbe9679b4"
   },
   "outputs": [
    {
     "data": {
      "text/plain": [
       "{'input_ids': [101, 2054, 2003, 2115, 2171, 1029, 102], 'attention_mask': [1, 1, 1, 1, 1, 1, 1]}"
      ]
     },
     "execution_count": 32,
     "metadata": {
      "tags": []
     },
     "output_type": "execute_result"
    }
   ],
   "source": [
    "# एकल पाठ को प्रीप्रोसेस करें\n",
    "tokenizer(\"What is your name?\")"
   ]
  },
  {
   "cell_type": "code",
   "execution_count": null,
   "metadata": {
    "id": "a5hBlsrHIrJL",
    "outputId": "acdaa98a-a8cd-4a20-89b8-cc26437bbe90"
   },
   "outputs": [
    {
     "data": {
      "text/plain": [
       "{'input_ids': [101, 2054, 2003, 2115, 2171, 1029, 102, 2026, 2171, 2003, 25353, 22144, 2378, 1012, 102], 'attention_mask': [1, 1, 1, 1, 1, 1, 1, 1, 1, 1, 1, 1, 1, 1, 1]}"
      ]
     },
     "execution_count": 33,
     "metadata": {
      "tags": []
     },
     "output_type": "execute_result"
    }
   ],
   "source": [
    "# दो टेक्स्ट को प्रीप्रोसेस करें। आप देख सकते हैं कि टोकनाइज़र शुरुआत में 101 टोकन आईडी जोड़ता है, टेक्स्ट के दो टुकड़ों को अलग करने के लिए बीच में 102 टोकन आईडी का उपयोग करता है, और अंत में 102 के साथ समाप्त होता है। ये नियम पूर्व-प्रशिक्षित मॉडलों के लिए डिज़ाइन किए गए हैं।\n",
    "tokenizer(\"What is your name?\", \"My name is Sylvain.\")"
   ]
  },
  {
   "cell_type": "markdown",
   "metadata": {
    "id": "Q0tivQQwYBVG"
   },
   "source": [
    "ऊपर देखी गई टोकन आईडी, जो कि इनपुट_आईडी हैं, आम तौर पर पूर्व-प्रशिक्षित मॉडल के नाम के साथ बदलती रहती हैं। इसका कारण यह है कि विभिन्न पूर्व-प्रशिक्षण मॉडल पूर्व-प्रशिक्षण के दौरान अलग-अलग नियम निर्धारित करते हैं। लेकिन जब तक टोकननाइजर और मॉडल के नाम सुसंगत हैं, तब तक टोकननाइजर द्वारा पूर्व-संसाधित इनपुट प्रारूप मॉडल की जरूरतों को पूरा करेगा। प्रीप्रोसेसिंग के बारे में अधिक जानकारी के लिए, कृपया [यह ट्यूटोरियल](https://huggingface.co/transformers/preprocessing.html) देखें\n",
    "\n",
    "अब हमें यह भी सोचने की ज़रूरत है कि पूर्व-प्रशिक्षित मशीन प्रश्न उत्तर देने वाले मॉडल बहुत लंबे पाठ को कैसे संभालते हैं। सामान्यतया, पूर्व-प्रशिक्षित मॉडल इनपुट के लिए अधिकतम लंबाई की आवश्यकता होती है, इसलिए हम आमतौर पर अत्यधिक लंबे इनपुट को छोटा कर देते हैं। हालाँकि, यदि हम प्रश्न और उत्तर डेटा ट्रिपलेट <प्रश्न, संदर्भ, उत्तर> में बहुत लंबे संदर्भ को छोटा करते हैं, तो हम उत्तर खो सकते हैं (क्योंकि हम उत्तर के रूप में संदर्भ से एक छोटा सा टुकड़ा निकालते हैं)। इस समस्या को हल करने के लिए, नीचे दिया गया कोड एक उदाहरण ढूंढता है जो लंबाई से अधिक है और फिर आपको दिखाता है कि इसे कैसे संभालना है। हम सुपर लंबे इनपुट को कई छोटे इनपुट में काटते हैं, और प्रत्येक इनपुट को मॉडल की अधिकतम लंबाई इनपुट आवश्यकता को पूरा करना होगा। चूँकि उत्तर कहीं न कहीं स्लाइस के साथ मौजूद हो सकता है, हमें आसन्न स्लाइस के बीच प्रतिच्छेदन की अनुमति देने की आवश्यकता है, जो कोड में `doc_stride` पैरामीटर द्वारा नियंत्रित होता है।.\n",
    "\n",
    "मशीन प्रश्न उत्तर देने वाले पूर्व-प्रशिक्षण मॉडल आमतौर पर प्रश्न और संदर्भ को इनपुट के रूप में जोड़ते हैं, और फिर मॉडल को संदर्भ से उत्तर ढूंढने देते हैं।"
   ]
  },
  {
   "cell_type": "code",
   "execution_count": null,
   "metadata": {
    "id": "qDHb6I5aYBVH"
   },
   "outputs": [],
   "source": [
    "max_length = 384 # 输入feature的最大长度，question和context拼接之后\r\n",
    "doc_stride = 128 # 2个切片之间的重合token数量。"
   ]
  },
  {
   "cell_type": "markdown",
   "metadata": {
    "id": "OVKI8CGNYBVH"
   },
   "source": [
    "फॉर लूप एक अत्यंत लंबे नमूने को खोजने के लिए डेटा सेट को पार करता है। इस नोटबुक उदाहरण में मॉडल द्वारा आवश्यक अधिकतम इनपुट 384 है (512 भी आमतौर पर उपयोग किया जाता है)"
   ]
  },
  {
   "cell_type": "code",
   "execution_count": null,
   "metadata": {
    "id": "7Ma0M9v_YBVH"
   },
   "outputs": [],
   "source": [
    "for i, example in enumerate(datasets[\"train\"]):\r\n",
    "    if len(tokenizer(example[\"question\"], example[\"context\"])[\"input_ids\"]) > 384:\r\n",
    "        break\r\n",
    "example = datasets[\"train\"][i]"
   ]
  },
  {
   "cell_type": "markdown",
   "metadata": {
    "id": "A84Fzhp9YBVI"
   },
   "source": [
    "यदि छोटा नहीं किया गया है, तो इनपुट लंबाई 396 है"
   ]
  },
  {
   "cell_type": "code",
   "execution_count": null,
   "metadata": {
    "id": "WySoZrRwYBVI",
    "outputId": "53943502-8f19-4a8f-bf98-18fe0cf096a4"
   },
   "outputs": [
    {
     "data": {
      "text/plain": [
       "396"
      ]
     },
     "execution_count": 14,
     "metadata": {
      "tags": []
     },
     "output_type": "execute_result"
    }
   ],
   "source": [
    "len(tokenizer(example[\"question\"], example[\"context\"])[\"input_ids\"])"
   ]
  },
  {
   "cell_type": "markdown",
   "metadata": {
    "id": "RaygYboUYBVI"
   },
   "source": [
    "अब यदि हम 384 की अधिकतम लंबाई तक काट-छांट करते हैं, तो हम लंबे भाग की जानकारी खो देंगे"
   ]
  },
  {
   "cell_type": "code",
   "execution_count": null,
   "metadata": {
    "id": "MXb6ChXWYBVJ",
    "outputId": "fd940c60-69d9-44fc-d8ea-35c58bf54422"
   },
   "outputs": [
    {
     "data": {
      "text/plain": [
       "384"
      ]
     },
     "execution_count": 37,
     "metadata": {
      "tags": []
     },
     "output_type": "execute_result"
    }
   ],
   "source": [
    "len(tokenizer(example[\"question\"], example[\"context\"], max_length=max_length, truncation=\"only_second\")[\"input_ids\"])"
   ]
  },
  {
   "cell_type": "markdown",
   "metadata": {
    "id": "738aDe4aYBVJ"
   },
   "source": [
    "ध्यान दें कि आम तौर पर बोलते हुए, हम केवल संदर्भ को काटते हैं, प्रश्न को नहीं क्योंकि संदर्भ प्रश्न के बाद जोड़ा जाता है और दूसरे पाठ से मेल खाता है, .tokenizer को नियंत्रित करने के लिए `only_third` का उपयोग किया जाता है और नियंत्रित करने के लिए `doc_stride` का उपयोग किया जाता है। टुकड़ा करना। उनके बीच ओवरलैप लंबाई।"
   ]
  },
  {
   "cell_type": "code",
   "execution_count": null,
   "metadata": {
    "id": "bLvoOEUIYBVJ"
   },
   "outputs": [],
   "source": [
    "tokenized_example = tokenizer(\r\n",
    "    example[\"question\"],\r\n",
    "    example[\"context\"],\r\n",
    "    max_length=max_length,\r\n",
    "    truncation=\"only_second\",\r\n",
    "    return_overflowing_tokens=True,\r\n",
    "    stride=doc_stride\r\n",
    ")"
   ]
  },
  {
   "cell_type": "markdown",
   "metadata": {
    "id": "nOA0Y8dGYBVK"
   },
   "source": [
    "बहुत लंबे इनपुट को स्लाइस करने के कारण, हमें कई इनपुट मिलते हैं, इन इनपुट इनपुट_आईडी की संबंधित लंबाई हैं"
   ]
  },
  {
   "cell_type": "code",
   "execution_count": null,
   "metadata": {
    "id": "PEZwY2IzYBVK",
    "outputId": "d4eb8bd4-81fa-4aa5-aae2-bf90bd7b2bc1"
   },
   "outputs": [
    {
     "data": {
      "text/plain": [
       "[384, 157]"
      ]
     },
     "execution_count": 40,
     "metadata": {
      "tags": []
     },
     "output_type": "execute_result"
    }
   ],
   "source": [
    "[len(x) for x in tokenized_example[\"input_ids\"]]"
   ]
  },
  {
   "cell_type": "markdown",
   "metadata": {
    "id": "XuVGMM2BYBVL"
   },
   "source": [
    "हम पूर्व-संसाधित टोकन आईडी और इनपुट_आईडी को टेक्स्ट प्रारूप में पुनर्स्थापित कर सकते हैं:"
   ]
  },
  {
   "cell_type": "code",
   "execution_count": null,
   "metadata": {
    "id": "cBs66sJXYBVL",
    "outputId": "dca34307-56e2-45b3-bc21-e6a656c2f8d7"
   },
   "outputs": [
    {
     "name": "stdout",
     "output_type": "stream",
     "text": [
      "切片: 0\n",
      "[CLS] how many wins does the notre dame men's basketball team have? [SEP] the men's basketball team has over 1, 600 wins, one of only 12 schools who have reached that mark, and have appeared in 28 ncaa tournaments. former player austin carr holds the record for most points scored in a single game of the tournament with 61. although the team has never won the ncaa tournament, they were named by the helms athletic foundation as national champions twice. the team has orchestrated a number of upsets of number one ranked teams, the most notable of which was ending ucla's record 88 - game winning streak in 1974. the team has beaten an additional eight number - one teams, and those nine wins rank second, to ucla's 10, all - time in wins against the top team. the team plays in newly renovated purcell pavilion ( within the edmund p. joyce center ), which reopened for the beginning of the 2009 – 2010 season. the team is coached by mike brey, who, as of the 2014 – 15 season, his fifteenth at notre dame, has achieved a 332 - 165 record. in 2009 they were invited to the nit, where they advanced to the semifinals but were beaten by penn state who went on and beat baylor in the championship. the 2010 – 11 team concluded its regular season ranked number seven in the country, with a record of 25 – 5, brey's fifth straight 20 - win season, and a second - place finish in the big east. during the 2014 - 15 season, the team went 32 - 6 and won the acc conference tournament, later advancing to the elite 8, where the fighting irish lost on a missed buzzer - beater against then undefeated kentucky. led by nba draft picks jerian grant and pat connaughton, the fighting irish beat the eventual national champion duke blue devils twice during the season. the 32 wins were [SEP]\n",
      "切片: 1\n",
      "[CLS] how many wins does the notre dame men's basketball team have? [SEP] championship. the 2010 – 11 team concluded its regular season ranked number seven in the country, with a record of 25 – 5, brey's fifth straight 20 - win season, and a second - place finish in the big east. during the 2014 - 15 season, the team went 32 - 6 and won the acc conference tournament, later advancing to the elite 8, where the fighting irish lost on a missed buzzer - beater against then undefeated kentucky. led by nba draft picks jerian grant and pat connaughton, the fighting irish beat the eventual national champion duke blue devils twice during the season. the 32 wins were the most by the fighting irish team since 1908 - 09. [SEP]\n"
     ]
    }
   ],
   "source": [
    "for i, x in enumerate(tokenized_example[\"input_ids\"][:2]):\n",
    "    print(\"切片: {}\".format(i))\n",
    "    print(tokenizer.decode(x))"
   ]
  },
  {
   "cell_type": "markdown",
   "metadata": {
    "id": "F9IYlTYgYBVL"
   },
   "source": [
    "चूँकि हमने बहुत लंबे पाठ को काट दिया है, इसलिए हमें उत्तर का स्थान (संदर्भ के प्रत्येक भाग की शुरुआत के सापेक्ष) फिर से खोजने की आवश्यकता है। मशीन प्रश्न उत्तर मॉडल प्रशिक्षण लेबल के रूप में उत्तर की स्थिति (उत्तर की प्रारंभिक स्थिति और अंतिम स्थिति, प्रारंभ और अंत) का उपयोग करेगा (उत्तर के टोकन आईडीएस के बजाय)। इसलिए, स्लाइसिंग के लिए मूल इनपुट के साथ एक संगत संबंध होना आवश्यक है, और स्लाइसिंग के बाद संदर्भ में प्रत्येक टोकन की स्थिति और मूल अल्ट्रा-लॉन्ग संदर्भ में स्थिति के बीच संबंधित संबंध होना चाहिए। आप इस पत्राचार का मानचित्र प्राप्त करने के लिए टोकननाइज़र में `रिटर्न_ऑफ़सेट्स_मैपिंग` पैरामीटर का उपयोग कर सकते हैं:"
   ]
  },
  {
   "cell_type": "code",
   "execution_count": null,
   "metadata": {
    "id": "W8PK9eS5YBVM",
    "outputId": "d9bcf780-2654-43dc-afd3-4b023a9e0229"
   },
   "outputs": [
    {
     "name": "stdout",
     "output_type": "stream",
     "text": [
      "[(0, 0), (0, 3), (4, 8), (9, 13), (14, 18), (19, 22), (23, 28), (29, 33), (34, 37), (37, 38), (38, 39), (40, 50), (51, 55), (56, 60), (60, 61), (0, 0), (0, 3), (4, 7), (7, 8), (8, 9), (10, 20), (21, 25), (26, 29), (30, 34), (35, 36), (36, 37), (37, 40), (41, 45), (45, 46), (47, 50), (51, 53), (54, 58), (59, 61), (62, 69), (70, 73), (74, 78), (79, 86), (87, 91), (92, 96), (96, 97), (98, 101), (102, 106), (107, 115), (116, 118), (119, 121), (122, 126), (127, 138), (138, 139), (140, 146), (147, 153), (154, 160), (161, 165), (166, 171), (172, 175), (176, 182), (183, 186), (187, 191), (192, 198), (199, 205), (206, 208), (209, 210), (211, 217), (218, 222), (223, 225), (226, 229), (230, 240), (241, 245), (246, 248), (248, 249), (250, 258), (259, 262), (263, 267), (268, 271), (272, 277), (278, 281), (282, 285), (286, 290), (291, 301), (301, 302), (303, 307), (308, 312), (313, 318), (319, 321), (322, 325), (326, 330), (330, 331), (332, 340), (341, 351), (352, 354), (355, 363), (364, 373), (374, 379), (379, 380), (381, 384), (385, 389), (390, 393), (394, 406), (407, 408), (409, 415), (416, 418)]\n",
      "[0, 0]\n"
     ]
    }
   ],
   "source": [
    "tokenized_example = tokenizer(\n",
    "    example[\"question\"],\n",
    "    example[\"context\"],\n",
    "    max_length=max_length,\n",
    "    truncation=\"only_second\",\n",
    "    return_overflowing_tokens=True,\n",
    "    return_offsets_mapping=True,\n",
    "    stride=doc_stride\n",
    ")\n",
    "#स्लाइस से पहले और बाद में स्थिति सबस्क्रिप्ट के बीच संबंधित संबंध प्रिंट करें\n",
    "print(tokenized_example[\"offset_mapping\"][0][:100])"
   ]
  },
  {
   "cell_type": "markdown",
   "metadata": {
    "id": "wGeKX0oxYBVM"
   },
   "source": [
    "ऊपर जो छपा है वह मूल संदर्भ स्लाइस मेंटोकनाइज्ड_उदाहरण के स्लाइस 0 के पहले 100 टोकन की स्थिति है। ध्यान दें कि पहला टोकन `[CLS]` (0, 0) पर सेट है क्योंकि यह टोकन प्रश्न या उत्तर का हिस्सा नहीं है। दूसरे टोकन के अनुरूप प्रारंभिक और अंतिम स्थिति 0 और 3 हैं। हम स्लाइसिंग के बाद टोकन आईडी के अनुसार संबंधित टोकन को परिवर्तित कर सकते हैं; फिर स्लाइसिंग से पहले टोकन स्थिति पर वापस मैप करने के लिए `ऑफसेट_मैपिंग` पैरामीटर का उपयोग करें और टोकन को मूल स्थिति में ढूंढें। चूँकि प्रश्न को संदर्भ के सामने रखा गया है, आप इसे सीधे सबस्क्रिप्ट के आधार पर प्रश्न से पा सकते हैं।"
   ]
  },
  {
   "cell_type": "code",
   "execution_count": null,
   "metadata": {
    "id": "gv9vD3r6YBVN",
    "outputId": "204f24b3-5feb-4106-f9b4-eb52b5e62fee"
   },
   "outputs": [
    {
     "name": "stdout",
     "output_type": "stream",
     "text": [
      "how How\n"
     ]
    }
   ],
   "source": [
    "first_token_id = tokenized_example[\"input_ids\"][0][1]\n",
    "offsets = tokenized_example[\"offset_mapping\"][0][1]\n",
    "print(tokenizer.convert_ids_to_tokens([first_token_id])[0], example[\"question\"][offsets[0]:offsets[1]])"
   ]
  },
  {
   "cell_type": "markdown",
   "metadata": {
    "id": "4SpfrDNzYBVN"
   },
   "source": [
    "इसलिए, हमें स्लाइसिंग से पहले और बाद में स्थिति का पत्राचार मिलता है। हमें प्रश्न और संदर्भ में अंतर करने के लिए `sequence_ids` पैरामीटर का भी उपयोग करने की आवश्यकता है।"
   ]
  },
  {
   "cell_type": "code",
   "execution_count": null,
   "metadata": {
    "id": "gRQPZUQPYBVN",
    "outputId": "94e9a2d8-fc4e-472f-9ddb-61be9641e38d"
   },
   "outputs": [
    {
     "name": "stdout",
     "output_type": "stream",
     "text": [
      "[None, 0, 0, 0, 0, 0, 0, 0, 0, 0, 0, 0, 0, 0, 0, None, 1, 1, 1, 1, 1, 1, 1, 1, 1, 1, 1, 1, 1, 1, 1, 1, 1, 1, 1, 1, 1, 1, 1, 1, 1, 1, 1, 1, 1, 1, 1, 1, 1, 1, 1, 1, 1, 1, 1, 1, 1, 1, 1, 1, 1, 1, 1, 1, 1, 1, 1, 1, 1, 1, 1, 1, 1, 1, 1, 1, 1, 1, 1, 1, 1, 1, 1, 1, 1, 1, 1, 1, 1, 1, 1, 1, 1, 1, 1, 1, 1, 1, 1, 1, 1, 1, 1, 1, 1, 1, 1, 1, 1, 1, 1, 1, 1, 1, 1, 1, 1, 1, 1, 1, 1, 1, 1, 1, 1, 1, 1, 1, 1, 1, 1, 1, 1, 1, 1, 1, 1, 1, 1, 1, 1, 1, 1, 1, 1, 1, 1, 1, 1, 1, 1, 1, 1, 1, 1, 1, 1, 1, 1, 1, 1, 1, 1, 1, 1, 1, 1, 1, 1, 1, 1, 1, 1, 1, 1, 1, 1, 1, 1, 1, 1, 1, 1, 1, 1, 1, 1, 1, 1, 1, 1, 1, 1, 1, 1, 1, 1, 1, 1, 1, 1, 1, 1, 1, 1, 1, 1, 1, 1, 1, 1, 1, 1, 1, 1, 1, 1, 1, 1, 1, 1, 1, 1, 1, 1, 1, 1, 1, 1, 1, 1, 1, 1, 1, 1, 1, 1, 1, 1, 1, 1, 1, 1, 1, 1, 1, 1, 1, 1, 1, 1, 1, 1, 1, 1, 1, 1, 1, 1, 1, 1, 1, 1, 1, 1, 1, 1, 1, 1, 1, 1, 1, 1, 1, 1, 1, 1, 1, 1, 1, 1, 1, 1, 1, 1, 1, 1, 1, 1, 1, 1, 1, 1, 1, 1, 1, 1, 1, 1, 1, 1, 1, 1, 1, 1, 1, 1, 1, 1, 1, 1, 1, 1, 1, 1, 1, 1, 1, 1, 1, 1, 1, 1, 1, 1, 1, 1, 1, 1, 1, 1, 1, 1, 1, 1, 1, 1, 1, 1, 1, 1, 1, 1, 1, 1, 1, 1, 1, 1, 1, 1, 1, 1, 1, 1, 1, 1, 1, 1, 1, 1, 1, 1, 1, 1, 1, 1, 1, 1, 1, 1, 1, 1, 1, 1, 1, 1, 1, 1, 1, 1, 1, 1, None]\n"
     ]
    }
   ],
   "source": [
    "sequence_ids = tokenized_example.sequence_ids()\n",
    "print(sequence_ids)"
   ]
  },
  {
   "cell_type": "markdown",
   "metadata": {
    "id": "jCtYEPCsYBVO"
   },
   "source": [
    "'कोई नहीं' विशेष टोकन से मेल खाता है, और फिर 0 या 1 अंक पहले पाठ और दूसरे पाठ का प्रतिनिधित्व करते हैं क्योंकि हम पहले क्यूस्टिन और दूसरे संदर्भ में पास होते हैं, वे क्रमशः प्रश्न और संदर्भ से मेल खाते हैं। अंत में, हम प्रीप्रोसेसिंग के बाद फीचर्स में एनोटेटेड उत्तर का स्थान पा सकते हैं:"
   ]
  },
  {
   "cell_type": "code",
   "execution_count": null,
   "metadata": {
    "id": "ZK2Modc7YBVO",
    "outputId": "ad67bfcb-ad7f-4df1-9696-eda61d49e499"
   },
   "outputs": [
    {
     "name": "stdout",
     "output_type": "stream",
     "text": [
      "start_position: 23, end_position: 26\n"
     ]
    }
   ],
   "source": [
    "answers = example[\"answers\"]\n",
    "start_char = answers[\"answer_start\"][0]\n",
    "end_char = start_char + len(answers[\"text\"][0])\n",
    "\n",
    "# वर्तमान टेक्स्ट का स्टार्ट टोकन इंडेक्स ढूंढें।\n",
    "token_start_index = 0\n",
    "while sequence_ids[token_start_index] != 1:\n",
    "    token_start_index += 1\n",
    "\n",
    "# वर्तमान पाठ का अंतिम टोकन आईडीनेक्स ढूंढें।\n",
    "token_end_index = len(tokenized_example[\"input_ids\"][0]) - 1\n",
    "while sequence_ids[token_end_index] != 1:\n",
    "    token_end_index -= 1\n",
    "\n",
    "# जांचें कि क्या उत्तर पाठ अंतराल के बाहर है, इस मामले में, इसका मतलब है कि नमूने का डेटा सीएलएस टोकन स्थिति पर चिह्नित है।\n",
    "offsets = tokenized_example[\"offset_mapping\"][0]\n",
    "if (offsets[token_start_index][0] <= start_char and offsets[token_end_index][1] >= end_char):\n",
    "# टोकन_स्टार्ट_इंडेक्स और टोकन_एंड_इंडेक्स को उत्तर स्थिति के दोनों ओर ले जाएं।\n",
    "# नोट: उत्तर अंत में सीमा स्थिति में है।\n",
    "    while token_start_index < len(offsets) and offsets[token_start_index][0] <= start_char:\n",
    "        token_start_index += 1\n",
    "    start_position = token_start_index - 1\n",
    "    while offsets[token_end_index][1] >= end_char:\n",
    "        token_end_index -= 1\n",
    "    end_position = token_end_index + 1\n",
    "    print(\"start_position: {}, end_position: {}\".format(start_position, end_position))\n",
    "else:\n",
    "    print(\"The answer is not in this feature.\")"
   ]
  },
  {
   "cell_type": "markdown",
   "metadata": {
    "id": "d5H2Rv7PYBVP"
   },
   "source": [
    "हमें उत्तर के स्थान को सत्यापित करने की आवश्यकता है। सत्यापन विधि है: संबंधित टोकन आईडी प्राप्त करने के लिए उत्तर के स्थान सबस्क्रिप्ट का उपयोग करें, फिर इसे टेक्स्ट में बदलें, और फिर इसकी तुलना मूल उत्तर से करें।"
   ]
  },
  {
   "cell_type": "code",
   "execution_count": null,
   "metadata": {
    "id": "mdmegUoSYBVP",
    "outputId": "b5979cb1-9fbb-4863-cccc-ad0c5d5ce760"
   },
   "outputs": [
    {
     "name": "stdout",
     "output_type": "stream",
     "text": [
      "over 1, 600\n",
      "over 1,600\n"
     ]
    }
   ],
   "source": [
    "print(tokenizer.decode(tokenized_example[\"input_ids\"][0][start_position: end_position+1]))\n",
    "print(answers[\"text\"][0])"
   ]
  },
  {
   "cell_type": "markdown",
   "metadata": {
    "id": "9HKReju5YBVQ"
   },
   "source": [
    "कभी-कभी प्रश्न को संदर्भ से जोड़ा जाता है, और कभी-कभी संदर्भ को प्रश्न से जोड़ा जाता है। विभिन्न मॉडलों की अलग-अलग आवश्यकताएं होती हैं, इसलिए हमें निर्दिष्ट करने के लिए `पैडिंग_साइड` पैरामीटर का उपयोग करने की आवश्यकता होती है।"
   ]
  },
  {
   "cell_type": "code",
   "execution_count": null,
   "metadata": {
    "id": "DryiuiaMYBVQ"
   },
   "outputs": [],
   "source": [
    "pad_on_right = tokenizer.padding_side == \"right\" #context在右边"
   ]
  },
  {
   "cell_type": "markdown",
   "metadata": {
    "id": "1BDIIhJmYBVR"
   },
   "source": [
    "अब, सभी चरणों को एक साथ रखें। ऐसे मामले के लिए जहां संदर्भ में कोई उत्तर नहीं है, हम सीधे उत्तर की चिह्नित प्रारंभिक स्थिति और समाप्ति स्थिति को सीएलएस की सबस्क्रिप्ट पर रखते हैं। यदि `allow_impossible_answers` पैरामीटर `गलत` है, तो इन अनुत्तरित नमूनों को छोड़ दिया जाएगा। संक्षिप्तता के लिए, आइए पहले हैंडल को फेंक दें।"
   ]
  },
  {
   "cell_type": "code",
   "execution_count": null,
   "metadata": {
    "id": "mObBCXnrYBVR"
   },
   "outputs": [],
   "source": [
    "def prepare_train_features(examples):\n",
    "# उदाहरणों को न केवल ट्रंकेट (छंटना) और पैडिंग (पूर्ण) करना आवश्यक है, बल्कि सभी जानकारी को बनाए रखना भी आवश्यक है, इसलिए स्लाइसिंग विधि का उपयोग किया जाता है।\n",
    "# प्रत्येक लंबे पाठ उदाहरण को कई इनपुट में विभाजित किया जाएगा, और दो आसन्न इनपुट के बीच एक प्रतिच्छेदन होगा।\n",
    "    tokenized_examples = tokenizer(\n",
    "        examples[\"question\" if pad_on_right else \"context\"],\n",
    "        examples[\"context\" if pad_on_right else \"question\"],\n",
    "        truncation=\"only_second\" if pad_on_right else \"only_first\",\n",
    "        max_length=max_length,\n",
    "        stride=doc_stride,\n",
    "        return_overflowing_tokens=True,\n",
    "        return_offsets_mapping=True,\n",
    "        padding=\"max_length\",\n",
    "    )\n",
    "\n",
    "# हम स्लाइस आईडी को मूल आईडी पर मैप करने के लिए ओवरफ़्लो_टू_सैंपल_मैपिंग पैरामीटर का उपयोग करते हैं।\n",
    "# उदाहरण के लिए, यदि 2 उदाहरणों को 4 टुकड़ों में काटा जाता है, तो संबंधित टुकड़े [0, 0, 1, 1] होते हैं, और पहले दो टुकड़े मूल पहले उदाहरण के अनुरूप होते हैं।\n",
    "    sample_mapping = tokenized_examples.pop(\"overflow_to_sample_mapping\")\n",
    "#ऑफ़सेट_मैपिंग भी 4 स्लाइस से मेल खाती है\n",
    "#ऑफ़सेट_मैपिंग पैरामीटर हमें मूल इनपुट पर मैप करने में मदद करता है क्योंकि उत्तर मूल इनपुट पर एनोटेट किया गया है, यह हमें उत्तर की शुरुआती और अंतिम स्थिति ढूंढने में मदद करता है।\n",
    "    offset_mapping = tokenized_examples.pop(\"offset_mapping\")\n",
    "\n",
    "# डेटा पुनः लेबल करें\n",
    "    tokenized_examples[\"start_positions\"] = []\n",
    "    tokenized_examples[\"end_positions\"] = []\n",
    "\n",
    "    for i, offsets in enumerate(offset_mapping):\n",
    "# प्रत्येक स्लाइस को प्रोसेस करें\n",
    "# सीएलएस के उत्तर के बिना नमूनों को चिह्नित करें\n",
    "        input_ids = tokenized_examples[\"input_ids\"][i]\n",
    "        cls_index = input_ids.index(tokenizer.cls_token_id)\n",
    "\n",
    "# प्रश्न और संदर्भ के बीच अंतर करें\n",
    "        sequence_ids = tokenized_examples.sequence_ids(i)\n",
    "\n",
    "# मूल उदाहरण सबस्क्रिप्ट प्राप्त करें.\n",
    "        sample_index = sample_mapping[i]\n",
    "        answers = examples[\"answers\"][sample_index]\n",
    "# यदि कोई उत्तर नहीं है, तो उत्तर के रूप में सीएलएस के स्थान का उपयोग करें।\n",
    "        if len(answers[\"answer_start\"]) == 0:\n",
    "            tokenized_examples[\"start_positions\"].append(cls_index)\n",
    "            tokenized_examples[\"end_positions\"].append(cls_index)\n",
    "        else:\n",
    "# उत्तर की वर्ण स्तर प्रारंभ/अंत स्थिति।\n",
    "            start_char = answers[\"answer_start\"][0]\n",
    "            end_char = start_char + len(answers[\"text\"][0])\n",
    "\n",
    "# टोकन लेवल इंडेक्स प्रारंभ ढूंढें।\n",
    "            token_start_index = 0\n",
    "            while sequence_ids[token_start_index] != (1 if pad_on_right else 0):\n",
    "                token_start_index += 1\n",
    "\n",
    "# टोकन लेवल इंडेक्स का अंत ढूंढें।\n",
    "            token_end_index = len(input_ids) - 1\n",
    "            while sequence_ids[token_end_index] != (1 if pad_on_right else 0):\n",
    "                token_end_index -= 1\n",
    "\n",
    "# जांचें कि क्या उत्तर पाठ की लंबाई से अधिक है। यदि यह अधिक है, तो सीएलएस सूचकांक का उपयोग एनोटेशन के रूप में भी किया जाएगा।\n",
    "            if not (offsets[token_start_index][0] <= start_char and offsets[token_end_index][1] >= end_char):\n",
    "                tokenized_examples[\"start_positions\"].append(cls_index)\n",
    "                tokenized_examples[\"end_positions\"].append(cls_index)\n",
    "            else:\n",
    "# यदि यह अधिक नहीं है, तो उत्तर टोकन की आरंभ और समाप्ति स्थिति ज्ञात करें। .\n",
    "# नोट: यदि उत्तर अंतिम शब्द (एज केस) है तो हम अंतिम ऑफसेट के बाद जा सकते हैं।\n",
    "                while token_start_index < len(offsets) and offsets[token_start_index][0] <= start_char:\n",
    "                    token_start_index += 1\n",
    "                tokenized_examples[\"start_positions\"].append(token_start_index - 1)\n",
    "                while offsets[token_end_index][1] >= end_char:\n",
    "                    token_end_index -= 1\n",
    "                tokenized_examples[\"end_positions\"].append(token_end_index + 1)\n",
    "\n",
    "    return tokenized_examples"
   ]
  },
  {
   "cell_type": "markdown",
   "metadata": {
    "id": "0lm8ozrJIrJR"
   },
   "source": [
    "उपरोक्त प्रीप्रोसेसिंग फ़ंक्शन एक नमूना या एकाधिक नमूना उदाहरणों को संसाधित कर सकता है। यदि कई नमूनों को संसाधित किया जाता है, तो कई नमूनों को पूर्व-संसाधित करने के बाद परिणामों की एक सूची वापस कर दी जाती है।"
   ]
  },
  {
   "cell_type": "code",
   "execution_count": null,
   "metadata": {
    "id": "-b70jh26IrJS"
   },
   "outputs": [],
   "source": [
    "features = prepare_train_features(datasets['train'][:5])\n",
    "# 5 नमूनों की प्रक्रिया करें"
   ]
  },
  {
   "cell_type": "markdown",
   "metadata": {
    "id": "zS-6iXTkIrJT"
   },
   "source": [
    "इसके बाद, डेटासेट में सभी नमूनों को प्रीप्रोसेस करें। प्रसंस्करण विधि `मैप` फ़ंक्शन का उपयोग करना है और सभी नमूनों को (मैप) करने के लिए प्रीप्रोसेसिंग फ़ंक्शन `prepare_train_features` लागू करना है।"
   ]
  },
  {
   "cell_type": "code",
   "execution_count": null,
   "metadata": {
    "id": "DDtsaJeVIrJT"
   },
   "outputs": [],
   "source": [
    "tokenized_datasets = datasets.map(prepare_train_features, batched=True, remove_columns=datasets[\"train\"].column_names)"
   ]
  },
  {
   "cell_type": "markdown",
   "metadata": {
    "id": "voWiw8C7IrJV"
   },
   "source": [
    "इससे भी बेहतर, अगली बार संसाधित होने पर पुनर्गणना से बचने के लिए लौटाए गए परिणाम स्वचालित रूप से कैश किए जाएंगे (लेकिन कृपया यह भी ध्यान दें कि यदि इनपुट बदल दिया जाता है, तो यह कैश से प्रभावित हो सकता है!)। डेटासेट लाइब्रेरी फ़ंक्शन यह निर्धारित करने के लिए इनपुट पैरामीटर का पता लगाएगा कि क्या परिवर्तन हैं। यदि कोई परिवर्तन नहीं हैं, तो कैश्ड डेटा का उपयोग किया जाएगा। यदि परिवर्तन हैं, तो डेटा को पुन: संसाधित किया जाएगा। लेकिन यदि इनपुट पैरामीटर अपरिवर्तित रहते हैं और आप इनपुट बदलना चाहते हैं, तो कैश को साफ़ करना और समायोजित करना सबसे अच्छा है। साफ़ करने का तरीका `load_from_cache_file=False` पैरामीटर का उपयोग करना है। इसके अलावा, ऊपर इस्तेमाल किया गया `बैच = ट्रू` पैरामीटर टोकननाइज़र की एक विशेषता है, जिसके बारे में माना जाता है कि यह एक ही समय में समानांतर में इनपुट को संसाधित करने के लिए कई थ्रेड्स का उपयोग करता है।"
   ]
  },
  {
   "cell_type": "markdown",
   "metadata": {
    "id": "545PP3o8IrJV"
   },
   "source": [
    "## फाइन-ट्यूनिंग फाइन-ट्यूनिंग मॉडल"
   ]
  },
  {
   "cell_type": "markdown",
   "metadata": {
    "id": "FBiW8UpKIrJW"
   },
   "source": [
    "वर्तमान में, हमने प्रशिक्षण/फाइन-ट्यूनिंग के लिए आवश्यक डेटा को पूर्व-प्रसंस्कृत किया है, और अब हम पूर्व-प्रशिक्षित मॉडल डाउनलोड करते हैं। चूँकि हम जो कर रहे हैं वह एक मशीनी प्रश्न उत्तर देने वाला कार्य है, इसलिए हम इस वर्ग `AutoModelForQuestionAnswering` का उपयोग करते हैं। टोकननाइज़र के समान, मॉडल को भी `from_pretrained` विधि का उपयोग करके लोड किया जाता है।"
   ]
  },
  {
   "cell_type": "code",
   "execution_count": null,
   "metadata": {
    "id": "TlqNaB8jIrJW",
    "outputId": "84916cf3-6e6c-47f3-d081-032ec30a4132"
   },
   "outputs": [
    {
     "name": "stderr",
     "output_type": "stream",
     "text": [
      "Downloading: 100%|██████████| 268M/268M [00:46<00:00, 5.79MB/s]\n",
      "Some weights of the model checkpoint at distilbert-base-uncased were not used when initializing DistilBertForQuestionAnswering: ['vocab_transform.weight', 'vocab_transform.bias', 'vocab_layer_norm.weight', 'vocab_layer_norm.bias', 'vocab_projector.weight', 'vocab_projector.bias']\n",
      "- This IS expected if you are initializing DistilBertForQuestionAnswering from the checkpoint of a model trained on another task or with another architecture (e.g. initializing a BertForSequenceClassification model from a BertForPreTraining model).\n",
      "- This IS NOT expected if you are initializing DistilBertForQuestionAnswering from the checkpoint of a model that you expect to be exactly identical (initializing a BertForSequenceClassification model from a BertForSequenceClassification model).\n",
      "Some weights of DistilBertForQuestionAnswering were not initialized from the model checkpoint at distilbert-base-uncased and are newly initialized: ['qa_outputs.weight', 'qa_outputs.bias']\n",
      "You should probably TRAIN this model on a down-stream task to be able to use it for predictions and inference.\n"
     ]
    }
   ],
   "source": [
    "from transformers import AutoModelForQuestionAnswering, TrainingArguments, Trainer\r\n",
    "\r\n",
    "model = AutoModelForQuestionAnswering.from_pretrained(model_checkpoint)"
   ]
  },
  {
   "cell_type": "markdown",
   "metadata": {
    "id": "CczA5lJlIrJX"
   },
   "source": [
    "चूंकि हमारा फाइन-ट्यूनिंग कार्य एक मशीन प्रश्न उत्तर देने वाला कार्य है, और हम एक पूर्व-प्रशिक्षित भाषा मॉडल लोड कर रहे हैं, उपरोक्त हमें संकेत देगा कि मॉडल लोड करते समय कुछ बेमेल तंत्रिका नेटवर्क पैरामीटर हटा दिए गए थे (पूर्व का तंत्रिका नेटवर्क प्रमुख) -प्रशिक्षित भाषा मॉडल इसे फेंक दें, और मशीन प्रश्न उत्तर के तंत्रिका नेटवर्क प्रमुख को बेतरतीब ढंग से प्रारंभ करें)।\n",
    "\n",
    "इन बेतरतीब ढंग से आरंभ किए गए मापदंडों के कारण, हमें अपने मॉडल को नए डेटा सेट पर फिर से ठीक करने की आवश्यकता है।"
   ]
  },
  {
   "cell_type": "markdown",
   "metadata": {
    "id": "_N8urzhyIrJY"
   },
   "source": [
    "`ट्रेनर` प्रशिक्षण उपकरण प्राप्त करने के लिए, हमें 3 तत्वों की भी आवश्यकता है, जिनमें से सबसे महत्वपूर्ण है प्रशिक्षण सेटिंग्स/पैरामीटर [`ट्रेनिंगआर्ग्यूमेंट्स`](https://huggingface.co/transformers/main_classes/trainer.html# ट्रांसफार्मर। प्रशिक्षण तर्क)। इस प्रशिक्षण सेटिंग में वे सभी गुण शामिल हैं जो प्रशिक्षण प्रक्रिया को परिभाषित करते हैं। इसके लिए एक फ़ोल्डर नाम की भी आवश्यकता होती है. इस फ़ोल्डर का उपयोग मॉडल और अन्य मॉडल कॉन्फ़िगरेशन को सहेजने के लिए किया जाएगा।"
   ]
  },
  {
   "cell_type": "code",
   "execution_count": null,
   "metadata": {
    "id": "Bliy8zgjIrJY"
   },
   "outputs": [],
   "source": [
    "args = TrainingArguments(\r\n",
    "    f\"test-squad\",\r\n",
    "    evaluation_strategy = \"epoch\",\r\n",
    "    learning_rate=2e-5, #学习率\r\n",
    "    per_device_train_batch_size=batch_size,\r\n",
    "    per_device_eval_batch_size=batch_size,\r\n",
    "    num_train_epochs=3, # 训练的论次\r\n",
    "    weight_decay=0.01,\r\n",
    ")"
   ]
  },
  {
   "cell_type": "markdown",
   "metadata": {
    "id": "km3pGVdTIrJc"
   },
   "source": [
    "उपरोक्त `मूल्यांकन_रणनीति = \"युग\" पैरामीटर प्रशिक्षण कोड बताता है: हम प्रत्येक युग के लिए एक सत्यापन मूल्यांकन करेंगे।\n",
    "\n",
    "उपरोक्त `बैच_आकार` को इस नोटबुक से पहले परिभाषित किया गया था।"
   ]
  },
  {
   "cell_type": "markdown",
   "metadata": {
    "id": "9G0oFbpTYBVX"
   },
   "source": [
    "हम मॉडल में प्रीप्रोसेस्ड डेटा फीड करने के लिए default_data_colllator का उपयोग करते हैं।"
   ]
  },
  {
   "cell_type": "code",
   "execution_count": null,
   "metadata": {
    "id": "4nTsgJKRYBVX"
   },
   "outputs": [],
   "source": [
    "from transformers import default_data_collator\r\n",
    "\r\n",
    "data_collator = default_data_collator"
   ]
  },
  {
   "cell_type": "markdown",
   "metadata": {
    "id": "rXuFTAzDIrJe"
   },
   "source": [
    "ट्रेनिंग के दौरान हम सिर्फ नुकसान का आकलन करेंगे. मूल्यांकन मेट्रिक्स के आधार पर मॉडल का मूल्यांकन अगले भाग में छोड़ दिया जाएगा।\n",
    "\n",
    "आपको केवल मॉडल, प्रशिक्षण पैरामीटर, डेटा, पहले उपयोग किए गए टोकननाइज़र और डेटा डिलीवरी टूल default_data_collater को ट्रानियर में पास करने की आवश्यकता है।"
   ]
  },
  {
   "cell_type": "code",
   "execution_count": null,
   "metadata": {
    "id": "imY1oC3SIrJf"
   },
   "outputs": [],
   "source": [
    "trainer = Trainer(\r\n",
    "    model,\r\n",
    "    args,\r\n",
    "    train_dataset=tokenized_datasets[\"train\"],\r\n",
    "    eval_dataset=tokenized_datasets[\"validation\"],\r\n",
    "    data_collator=data_collator,\r\n",
    "    tokenizer=tokenizer,\r\n",
    ")"
   ]
  },
  {
   "cell_type": "markdown",
   "metadata": {
    "id": "CdzABDVcIrJg"
   },
   "source": [
    "प्रशिक्षण शुरू करने के लिए `ट्रेन` विधि को कॉल करें"
   ]
  },
  {
   "cell_type": "code",
   "execution_count": null,
   "metadata": {
    "id": "fWZRjmU6r-RP"
   },
   "outputs": [],
   "source": [
    "trainer.train()"
   ]
  },
  {
   "cell_type": "markdown",
   "metadata": {
    "id": "d_G79pAyYBVY"
   },
   "source": [
    "चूँकि प्रशिक्षण का समय बहुत लंबा है, यदि इसे स्थानीय मैक पर प्रशिक्षित किया जाता है, तो प्रत्येक ईपीको को गायब होने में लगभग 2 लगते हैं, इसलिए प्रत्येक प्रशिक्षण के बाद निम्नलिखित मॉडल सहेजा जाता है।"
   ]
  },
  {
   "cell_type": "code",
   "execution_count": null,
   "metadata": {
    "id": "qYP7NNo3YBVZ"
   },
   "outputs": [],
   "source": [
    "trainer.save_model(\"test-squad-trained\")"
   ]
  },
  {
   "cell_type": "markdown",
   "metadata": {
    "id": "RwFvugZTYBVZ"
   },
   "source": [
    "## मूल्यांकनमूल्यांकन"
   ]
  },
  {
   "cell_type": "markdown",
   "metadata": {
    "id": "3fcMB_uGYBVZ"
   },
   "source": [
    "मॉडल मूल्यांकन थोड़ा अधिक जटिल होगा। हमें मॉडल के आउटपुट को उस टेक्स्ट प्रारूप में पोस्ट-प्रोसेस करना होगा जिसकी हमें आवश्यकता है। मॉडल स्वयं उत्तर की आरंभ/अंत स्थिति के लॉग की भविष्यवाणी करता है। यदि हम मूल्यांकन करते समय मॉडल को एक बैच खिलाते हैं, तो आउटपुट इस प्रकार होगा:"
   ]
  },
  {
   "cell_type": "code",
   "execution_count": null,
   "metadata": {
    "id": "XzkOFb3uYBVZ"
   },
   "outputs": [],
   "source": [
    "import torch\r\n",
    "\r\n",
    "for batch in trainer.get_eval_dataloader():\r\n",
    "    break\r\n",
    "batch = {k: v.to(trainer.args.device) for k, v in batch.items()}\r\n",
    "with torch.no_grad():\r\n",
    "    output = trainer.model(**batch)\r\n",
    "output.keys()"
   ]
  },
  {
   "cell_type": "markdown",
   "metadata": {
    "id": "G4McnKTSYBVa"
   },
   "source": [
    "मॉडल का आउटपुट एक तानाशाही-जैसी डेटा संरचना है, जिसमें हानि (क्योंकि लेबल प्रदान किया गया है, सभी में हानि है), उत्तर प्रारंभ और अंत लॉग शामिल हैं। भविष्यवाणी के नतीजे निकालते समय हमें नुकसान को देखने की ज़रूरत नहीं है, बस सीधे लॉगिट्स को देखें।"
   ]
  },
  {
   "cell_type": "code",
   "execution_count": null,
   "metadata": {
    "id": "yNYbBFcvYBVa",
    "outputId": "7f752049-0965-4484-96b2-d2326c6f5dcf"
   },
   "outputs": [
    {
     "data": {
      "text/plain": [
       "(torch.Size([16, 384]), torch.Size([16, 384]))"
      ]
     },
     "execution_count": 35,
     "metadata": {
      "tags": []
     },
     "output_type": "execute_result"
    }
   ],
   "source": [
    "output.start_logits.shape, output.end_logits.shape"
   ]
  },
  {
   "cell_type": "markdown",
   "metadata": {
    "id": "2qQ4y1cwYBVa"
   },
   "source": [
    "प्रत्येक सुविधा में प्रत्येक टोकन में एक लॉगिट होगा। उत्तर की भविष्यवाणी करने का सबसे सरल तरीका उत्तर की वास्तविक स्थिति के रूप में प्रारंभ लॉग में सबसे बड़ी सबस्क्रिप्ट का चयन करना है, और उत्तर की अंतिम स्थिति के रूप में अंतिम लॉग में सबसे बड़ी सबस्क्रिप्ट का चयन करना है।"
   ]
  },
  {
   "cell_type": "code",
   "execution_count": null,
   "metadata": {
    "id": "sTZn5YtxYBVb",
    "outputId": "8818a3c5-1eda-4926-9d37-af2a0124b59f"
   },
   "outputs": [
    {
     "data": {
      "text/plain": [
       "(tensor([ 46,  57,  78,  43, 118,  15,  72,  35,  15,  34,  73,  41,  80,  91,\n",
       "         156,  35], device='cuda:0'),\n",
       " tensor([ 47,  58,  81,  55, 118, 110,  75,  37, 110,  36,  76,  53,  83,  94,\n",
       "         158,  35], device='cuda:0'))"
      ]
     },
     "execution_count": 36,
     "metadata": {
      "tags": []
     },
     "output_type": "execute_result"
    }
   ],
   "source": [
    "output.start_logits.argmax(dim=-1), output.end_logits.argmax(dim=-1)"
   ]
  },
  {
   "cell_type": "markdown",
   "metadata": {
    "id": "po1DsUQdYBVb"
   },
   "source": [
    "उपरोक्त रणनीतियाँ अधिकांश मामलों में अच्छी हैं। हालाँकि, यदि हमारा इनपुट हमें बताता है कि उत्तर नहीं मिल सकता है: उदाहरण के लिए, प्रारंभ की स्थिति अंत की स्थिति से बड़ी है, या प्रारंभ और अंत की स्थिति प्रश्न का बिंदु है।\n",
    "\n",
    "इस समय, सरल तरीका यह है कि हमें अपने उत्तर के रूप में दूसरी सबसे अच्छी भविष्यवाणी को चुनना होगा। यदि यह संभव नहीं है, तो हम तीसरी सबसे अच्छी भविष्यवाणी को देखेंगे, इत्यादि।\n",
    "\n",
    "चूँकि उपरोक्त विधि से व्यवहार्य उत्तर खोजना आसान नहीं है, इसलिए हमें अधिक उचित विधि के बारे में सोचने की आवश्यकता है। हम एक नया स्कोर प्राप्त करने के लिए प्रारंभ और अंत के लॉगिट जोड़ते हैं, और फिर प्रारंभ और अंत के सर्वोत्तम `n_best_size` जोड़े को देखते हैं। संबंधित उत्तर `n_best_size` आरंभ और अंत जोड़े से प्राप्त किए जाते हैं, और फिर उत्तरों की जाँच यह देखने के लिए की जाती है कि क्या वे मान्य हैं, अंत में, उन्हें उनके अंकों के अनुसार रेट किया जाता है, और उच्चतम स्कोर वाले को उत्तर के रूप में चुना जाता है ."
   ]
  },
  {
   "cell_type": "code",
   "execution_count": null,
   "metadata": {
    "id": "ZBWVTvBTYBVb"
   },
   "outputs": [],
   "source": [
    "n_best_size = 20"
   ]
  },
  {
   "cell_type": "code",
   "execution_count": null,
   "metadata": {
    "id": "h9BOWPEoYBVb"
   },
   "outputs": [],
   "source": [
    "import numpy as np\r\n",
    "\r\n",
    "start_logits = output.start_logits[0].cpu().numpy()\r\n",
    "end_logits = output.end_logits[0].cpu().numpy()\r\n",
    "# सर्वोत्तम आरंभ और अंत लॉग स्थान एकत्र करें:\n",
    "start_indexes = np.argsort(start_logits)[-1 : -n_best_size - 1 : -1].tolist()\r\n",
    "end_indexes = np.argsort(end_logits)[-1 : -n_best_size - 1 : -1].tolist()\r\n",
    "valid_answers = []\r\n",
    "for start_index in start_indexes:\r\n",
    "    for end_index in end_indexes:\r\n",
    "        if start_index <= end_index: # 如果start小雨end，那么合理的\r\n",
    "            valid_answers.append(\r\n",
    "                {\r\n",
    "                    \"score\": start_logits[start_index] + end_logits[end_index],\r\n",
    "                    \"text\": \"\" # 后续需要根据token的下标将答案找出来\r\n",
    "                }\r\n",
    "            )"
   ]
  },
  {
   "cell_type": "markdown",
   "metadata": {
    "id": "Be7maAWsYBVc"
   },
   "source": [
    "फिर हम सर्वोत्तम उत्तर खोजने के लिए `valid_answers` को `स्कोर` के अनुसार क्रमबद्ध करते हैं। अंतिम चरण यह जांचना है कि क्या प्रारंभ और अंत स्थिति के अनुरूप पाठ संदर्भ में है और प्रश्न में नहीं है।\n",
    "\n",
    "इसे पूरा करने के लिए, हमें सत्यापन सुविधाओं में निम्नलिखित दो जानकारी जोड़ने की आवश्यकता है:\n",
    "- उदाहरण की आईडी जिसने सुविधा उत्पन्न की। चूँकि प्रत्येक उदाहरण कई सुविधाएँ उत्पन्न कर सकता है, प्रत्येक सुविधा/स्लाइस की विशेषताओं को उनके संबंधित उदाहरण जानने की आवश्यकता होती है।\n",
    "- ऑफसेट मैपिंग: चरित्र की सबस्क्रिप्ट स्थिति के आधार पर प्रत्येक स्लाइस के टोकन की स्थिति को मूल पाठ में मैप करें।\n",
    "\n",
    "इसलिए हमने निम्नलिखित सत्यापन सेट को पुन: संसाधित किया। प्रशिक्षण से निपटने के दौरान यह `prepare_train_features` से थोड़ा अलग है।"
   ]
  },
  {
   "cell_type": "code",
   "execution_count": null,
   "metadata": {
    "id": "AJpleD_oYBVc"
   },
   "outputs": [],
   "source": [
    "\r\n",
    "def prepare_validation_features(examples):\r\n",
    "# हमारे उदाहरणों को ट्रंकेशन और शायद पैडिंग के साथ टोकनाइज़ करें, लेकिन एक स्ट्राइड का उपयोग करके ओवरफ़्लो बनाए रखें\n",
    "# एक उदाहरण में एक संदर्भ लंबा होने पर कई विशेषताएं देना संभव है, उनमें से प्रत्येक विशेषता में एक है\n",
    "# संदर्भ जो पिछली सुविधा के संदर्भ को थोड़ा ओवरलैप करता है।\n",
    "    tokenized_examples = tokenizer(\r\n",
    "        examples[\"question\" if pad_on_right else \"context\"],\r\n",
    "        examples[\"context\" if pad_on_right else \"question\"],\r\n",
    "        truncation=\"only_second\" if pad_on_right else \"only_first\",\r\n",
    "        max_length=max_length,\r\n",
    "        stride=doc_stride,\r\n",
    "        return_overflowing_tokens=True,\r\n",
    "        return_offsets_mapping=True,\r\n",
    "        padding=\"max_length\",\r\n",
    "    )\r\n",
    "\r\n",
    "# चूंकि एक उदाहरण हमें कई विशेषताएं दे सकता है यदि इसका संदर्भ लंबा है, तो हमें एक सुविधा से लेकर एक मानचित्र की आवश्यकता है\n",
    "# इसका संगत उदाहरण यह कुंजी हमें बस यही देती है।\n",
    "    sample_mapping = tokenized_examples.pop(\"overflow_to_sample_mapping\")\r\n",
    "\r\n",
    "# हम example_id रखते हैं जिसने हमें यह सुविधा दी है और हम ऑफसेट मैपिंग संग्रहीत करेंगे।\n",
    "    tokenized_examples[\"example_id\"] = []\r\n",
    "\r\n",
    "    for i in range(len(tokenized_examples[\"input_ids\"])):\r\n",
    "# उस उदाहरण के अनुरूप अनुक्रम को पकड़ें (यह जानने के लिए कि संदर्भ क्या है और प्रश्न क्या है)।\n",
    "        sequence_ids = tokenized_examples.sequence_ids(i)\r\n",
    "        context_index = 1 if pad_on_right else 0\r\n",
    "\r\n",
    "# एक उदाहरण कई स्पैन दे सकता है, यह टेक्स्ट के इस स्पैन वाले उदाहरण का सूचकांक है।\n",
    "        sample_index = sample_mapping[i]\r\n",
    "        tokenized_examples[\"example_id\"].append(examples[\"id\"][sample_index])\r\n",
    "\r\n",
    "# ऑफसेट_मैपिंग को कोई नहीं पर सेट करें जो संदर्भ का हिस्सा नहीं है, इसलिए यह निर्धारित करना आसान है कि कोई टोकन है या नहीं\n",
    "# स्थिति संदर्भ का हिस्सा है या नहीं.\n",
    "        tokenized_examples[\"offset_mapping\"][i] = [\r\n",
    "            (o if sequence_ids[k] == context_index else None)\r\n",
    "            for k, o in enumerate(tokenized_examples[\"offset_mapping\"][i])\r\n",
    "        ]\r\n",
    "\r\n",
    "    return tokenized_examples"
   ]
  },
  {
   "cell_type": "markdown",
   "metadata": {
    "id": "rmaTICcJYBVd"
   },
   "source": [
    "पहले की तरह प्रत्येक सत्यापन सेट नमूने पर `prepare_validation_features` फ़ंक्शन लागू करें।"
   ]
  },
  {
   "cell_type": "code",
   "execution_count": null,
   "metadata": {
    "colab": {
     "referenced_widgets": [
      "32ba04d6240149f49eb48c8d8b7f9aae"
     ]
    },
    "id": "xDfua4clYBVd",
    "outputId": "4789e3b2-52f0-4ca0-9d01-8c2b8e10a167"
   },
   "outputs": [
    {
     "data": {
      "application/vnd.jupyter.widget-view+json": {
       "model_id": "32ba04d6240149f49eb48c8d8b7f9aae",
       "version_major": 2,
       "version_minor": 0
      },
      "text/plain": [
       "HBox(children=(FloatProgress(value=0.0, max=11.0), HTML(value='')))"
      ]
     },
     "metadata": {
      "tags": []
     },
     "output_type": "display_data"
    },
    {
     "name": "stdout",
     "output_type": "stream",
     "text": [
      "\n"
     ]
    }
   ],
   "source": [
    "validation_features = datasets[\"validation\"].map(\r\n",
    "    prepare_validation_features,\r\n",
    "    batched=True,\r\n",
    "    remove_columns=datasets[\"validation\"].column_names\r\n",
    ")"
   ]
  },
  {
   "cell_type": "markdown",
   "metadata": {
    "id": "dNECLWJLYBVe"
   },
   "source": [
    "सभी पूर्वानुमान परिणाम प्राप्त करने के लिए `ट्रेनर.प्रिडिक्ट` पद्धति का उपयोग करें"
   ]
  },
  {
   "cell_type": "code",
   "execution_count": null,
   "metadata": {
    "id": "HTbFJ3FhYBVe"
   },
   "outputs": [],
   "source": [
    "raw_predictions = trainer.predict(validation_features)"
   ]
  },
  {
   "cell_type": "markdown",
   "metadata": {
    "id": "QlTxqJN3YBVe"
   },
   "source": [
    "यह `ट्रेनर` *कुछ विशेषताओं को छुपाता है* जिनका उपयोग मॉडल प्रशिक्षण के दौरान नहीं किया जाता है (यहां `example_id` और `offset_mapping` हैं, जिनका उपयोग पोस्ट-प्रोसेसिंग के दौरान किया जाएगा), इसलिए हमें इन्हें वापस सेट करने की आवश्यकता है:"
   ]
  },
  {
   "cell_type": "code",
   "execution_count": null,
   "metadata": {
    "id": "nyQsRyqGYBVe"
   },
   "outputs": [],
   "source": [
    "validation_features.set_format(type=validation_features.format[\"type\"], columns=list(validation_features.features.keys()))"
   ]
  },
  {
   "cell_type": "markdown",
   "metadata": {
    "id": "Ac0BahcRYBVf"
   },
   "source": [
    "जब टोकन स्थिति प्रश्न भाग से मेल खाती है, तो `prepare_validation_features` फ़ंक्शन ऑफसेट मैपिंग को `कोई नहीं` पर सेट करता है, इसलिए हम ऑफसेट मैपिंग के आधार पर आसानी से पहचान सकते हैं कि टोकन संदर्भ में है या नहीं। हम विशेष रूप से लंबे उत्तरों को फेंकना भी समाप्त कर देते हैं।"
   ]
  },
  {
   "cell_type": "code",
   "execution_count": null,
   "metadata": {
    "id": "dcqAk9GgYBVf"
   },
   "outputs": [],
   "source": [
    "max_answer_length = 30"
   ]
  },
  {
   "cell_type": "code",
   "execution_count": null,
   "metadata": {
    "id": "5wBRLoJoYBVf",
    "outputId": "6e889849-7d40-4003-8d8d-546b8c6eb6a1"
   },
   "outputs": [
    {
     "data": {
      "text/plain": [
       "[{'score': 16.706663, 'text': 'Denver Broncos'},\n",
       " {'score': 14.635585,\n",
       "  'text': 'Denver Broncos defeated the National Football Conference (NFC) champion Carolina Panthers'},\n",
       " {'score': 13.234194, 'text': 'Carolina Panthers'},\n",
       " {'score': 12.468662, 'text': 'Broncos'},\n",
       " {'score': 11.709289, 'text': 'Denver'},\n",
       " {'score': 10.397583,\n",
       "  'text': 'Broncos defeated the National Football Conference (NFC) champion Carolina Panthers'},\n",
       " {'score': 10.104669,\n",
       "  'text': 'American Football Conference (AFC) champion Denver Broncos'},\n",
       " {'score': 9.721636,\n",
       "  'text': 'The American Football Conference (AFC) champion Denver Broncos'},\n",
       " {'score': 9.007437,\n",
       "  'text': 'Denver Broncos defeated the National Football Conference (NFC) champion Carolina Panthers 24–10'},\n",
       " {'score': 8.834958,\n",
       "  'text': 'Denver Broncos defeated the National Football Conference (NFC) champion Carolina'},\n",
       " {'score': 8.38701,\n",
       "  'text': 'Denver Broncos defeated the National Football Conference (NFC)'},\n",
       " {'score': 8.143825,\n",
       "  'text': 'Denver Broncos defeated the National Football Conference (NFC) champion Carolina Panthers 24–10 to earn their third Super Bowl title.'},\n",
       " {'score': 8.03359,\n",
       "  'text': 'American Football Conference (AFC) champion Denver Broncos defeated the National Football Conference (NFC) champion Carolina Panthers'},\n",
       " {'score': 7.832466,\n",
       "  'text': 'Denver Broncos defeated the National Football Conference (NFC'},\n",
       " {'score': 7.650557,\n",
       "  'text': 'The American Football Conference (AFC) champion Denver Broncos defeated the National Football Conference (NFC) champion Carolina Panthers'},\n",
       " {'score': 7.6060467, 'text': 'Carolina Panthers 24–10'},\n",
       " {'score': 7.5795317,\n",
       "  'text': 'Denver Broncos defeated the National Football Conference'},\n",
       " {'score': 7.433568, 'text': 'Carolina'},\n",
       " {'score': 6.742434,\n",
       "  'text': 'Carolina Panthers 24–10 to earn their third Super Bowl title.'},\n",
       " {'score': 6.71136,\n",
       "  'text': 'Denver Broncos defeated the National Football Conference (NFC) champion Carolina Panthers 24'}]"
      ]
     },
     "execution_count": 44,
     "metadata": {
      "tags": []
     },
     "output_type": "execute_result"
    }
   ],
   "source": [
    "start_logits = output.start_logits[0].cpu().numpy()\r\n",
    "end_logits = output.end_logits[0].cpu().numpy()\r\n",
    "offset_mapping = validation_features[0][\"offset_mapping\"]\r\n",
    "# पहली विशेषता पहले उदाहरण से आती है। अधिक सामान्य मामले के लिए, हमें example_id का मिलान करना होगा\n",
    "# एक उदाहरण सूचकांक\n",
    "context = datasets[\"validation\"][0][\"context\"]\r\n",
    "\r\n",
    "# सर्वोत्तम प्रारंभ/अंत लॉग वाले सूचकांक एकत्रित करें:\n",
    "start_indexes = np.argsort(start_logits)[-1 : -n_best_size - 1 : -1].tolist()\r\n",
    "end_indexes = np.argsort(end_logits)[-1 : -n_best_size - 1 : -1].tolist()\r\n",
    "valid_answers = []\r\n",
    "for start_index in start_indexes:\r\n",
    "    for end_index in end_indexes:\r\n",
    "# दायरे से बाहर उत्तरों पर विचार न करें, क्योंकि या तो सूचकांक सीमा से बाहर हैं या अनुरूप हैं\n",
    "# इनपुट_आईडी के उस भाग के लिए जो संदर्भ में नहीं है।\n",
    "        if (\r\n",
    "            start_index >= len(offset_mapping)\r\n",
    "            or end_index >= len(offset_mapping)\r\n",
    "            or offset_mapping[start_index] is None\r\n",
    "            or offset_mapping[end_index] is None\r\n",
    "        ):\r\n",
    "            continue\r\n",
    "# ऐसे उत्तरों पर विचार न करें जिनकी लंबाई या तो < 0 या > max_answer_length हो।\n",
    "        if end_index < start_index or end_index - start_index + 1 > max_answer_length:\r\n",
    "            continue\r\n",
    "        if start_index <= end_index: # We need to refine that test to check the answer is inside the context\r\n",
    "            start_char = offset_mapping[start_index][0]\r\n",
    "            end_char = offset_mapping[end_index][1]\r\n",
    "            valid_answers.append(\r\n",
    "                {\r\n",
    "                    \"score\": start_logits[start_index] + end_logits[end_index],\r\n",
    "                    \"text\": context[start_char: end_char]\r\n",
    "                }\r\n",
    "            )\r\n",
    "\r\n",
    "valid_answers = sorted(valid_answers, key=lambda x: x[\"score\"], reverse=True)[:n_best_size]\r\n",
    "valid_answers"
   ]
  },
  {
   "cell_type": "code",
   "execution_count": null,
   "metadata": {
    "id": "nLHf5tsBYBVg"
   },
   "outputs": [],
   "source": [
    "将预测答案和真实答案进行比较即可:"
   ]
  },
  {
   "cell_type": "code",
   "execution_count": null,
   "metadata": {
    "id": "MPqG0pyiYBVg",
    "outputId": "fa1a7b51-09fb-4ce4-e858-456205dbdb31"
   },
   "outputs": [
    {
     "data": {
      "text/plain": [
       "{'answer_start': [177, 177, 177],\n",
       " 'text': ['Denver Broncos', 'Denver Broncos', 'Denver Broncos']}"
      ]
     },
     "execution_count": 45,
     "metadata": {
      "tags": []
     },
     "output_type": "execute_result"
    }
   ],
   "source": [
    "datasets[\"validation\"][0][\"answers\"]"
   ]
  },
  {
   "cell_type": "markdown",
   "metadata": {
    "id": "-Vl2BpcVYBVh"
   },
   "source": [
    "आप देख सकते हैं कि मॉडल सही ढंग से बनाया गया है!\n",
    "\n",
    "जैसा कि उपरोक्त उदाहरण में बताया गया है, चूँकि पहली विशेषता पहले उदाहरण से आनी चाहिए, यह अपेक्षाकृत आसान है। अन्य आशंकाओं के लिए, हमें विशेषताओं और उदाहरणों के मानचित्र की आवश्यकता है। इसी तरह, चूंकि एक उदाहरण को कई विशेषताओं में विभाजित किया जा सकता है, इसलिए हमें सभी सुविधाओं में सभी उत्तर एकत्र करने की भी आवश्यकता है। निम्नलिखित कोड एक्समैपल सबस्क्रिप्ट को फीचर्स सबस्क्रिप्ट में मैप करता है।"
   ]
  },
  {
   "cell_type": "code",
   "execution_count": null,
   "metadata": {
    "id": "VgOFWhElYBVh"
   },
   "outputs": [],
   "source": [
    "import collections\r\n",
    "\r\n",
    "examples = datasets[\"validation\"]\r\n",
    "features = validation_features\r\n",
    "\r\n",
    "example_id_to_index = {k: i for i, k in enumerate(examples[\"id\"])}\r\n",
    "features_per_example = collections.defaultdict(list)\r\n",
    "for i, feature in enumerate(features):\r\n",
    "    features_per_example[example_id_to_index[feature[\"example_id\"]]].append(i)"
   ]
  },
  {
   "cell_type": "markdown",
   "metadata": {
    "id": "nXJ-THjzYBVh"
   },
   "source": [
    "पोस्ट-प्रोसेसिंग प्रक्रिया मूल रूप से पूरी हो चुकी है। आखिरी बात यह है कि उत्तर न देने की स्थिति को कैसे हल किया जाए (जब स्क्वाड_v2=सही हो)। उपरोक्त कोड केवल संदर्भ में उत्तरों पर विचार करता है, इसलिए हमें बिना उत्तर के पूर्वानुमान स्कोर भी एकत्र करने की आवश्यकता है (उत्तर के बिना पूर्वानुमान सीएलएसटी टोकन की शुरुआत और अंत के अनुरूप हैं)। यदि एक उदाहरण के नमूने में कई विशेषताएं हैं, तो हमें यह भी अनुमान लगाने की आवश्यकता है कि क्या कई विशेषताओं में कोई उत्तर नहीं है। इसलिए, बिना उत्तर का अंतिम स्कोर सभी सुविधाओं में सबसे कम बिना उत्तर वाला स्कोर होता है।\n",
    "\n",
    "जब तक किसी भी उत्तर का अंतिम स्कोर अन्य सभी उत्तरों के स्कोर से अधिक नहीं होता, तब तक प्रश्न अनुत्तरित रहता है।\n",
    "\n",
    "सब कुछ संयोजित करने के लिए:"
   ]
  },
  {
   "cell_type": "code",
   "execution_count": null,
   "metadata": {
    "id": "00SHF2PzYBVh"
   },
   "outputs": [],
   "source": [
    "from tqdm.auto import tqdm\r\n",
    "\r\n",
    "def postprocess_qa_predictions(examples, features, raw_predictions, n_best_size = 20, max_answer_length = 30):\r\n",
    "    all_start_logits, all_end_logits = raw_predictions\r\n",
    "# इसकी संबंधित विशेषताओं के लिए एक मानचित्र उदाहरण बनाएं।\n",
    "    example_id_to_index = {k: i for i, k in enumerate(examples[\"id\"])}\r\n",
    "    features_per_example = collections.defaultdict(list)\r\n",
    "    for i, feature in enumerate(features):\r\n",
    "        features_per_example[example_id_to_index[feature[\"example_id\"]]].append(i)\r\n",
    "\r\n",
    "# जो शब्दकोष हमें भरने हैं.\n",
    "    predictions = collections.OrderedDict()\r\n",
    "\r\n",
    "#लॉगिंग.\n",
    "    print(f\"Post-processing {len(examples)} example predictions split into {len(features)} features.\")\r\n",
    "\r\n",
    "# आइए सभी उदाहरणों पर नज़र डालें!\n",
    "    for example_index, example in enumerate(tqdm(examples)):\r\n",
    "# वे वर्तमान उदाहरण से जुड़ी सुविधाओं के सूचकांक हैं।\n",
    "        feature_indices = features_per_example[example_index]\r\n",
    "\r\n",
    "        min_null_score = None # Only used if squad_v2 is True.\r\n",
    "        valid_answers = []\r\n",
    "        \r\n",
    "        context = example[\"context\"]\r\n",
    "# वर्तमान उदाहरण से जुड़ी सभी सुविधाओं के माध्यम से लूपिंग।\n",
    "        for feature_index in feature_indices:\r\n",
    "# हम इस सुविधा के लिए मॉडल की भविष्यवाणियों को पकड़ते हैं।\n",
    "            start_logits = all_start_logits[feature_index]\r\n",
    "            end_logits = all_end_logits[feature_index]\r\n",
    "# यही वह चीज़ है जो हमें मूल में पाठों की अवधि के लिए हमारे लॉग में कुछ स्थितियों को मैप करने की अनुमति देगी\n",
    "# प्रसंग।\n",
    "            offset_mapping = features[feature_index][\"offset_mapping\"]\r\n",
    "\r\n",
    "# न्यूनतम शून्य पूर्वानुमान अपडेट करें.\n",
    "            cls_index = features[feature_index][\"input_ids\"].index(tokenizer.cls_token_id)\r\n",
    "            feature_null_score = start_logits[cls_index] + end_logits[cls_index]\r\n",
    "            if min_null_score is None or min_null_score < feature_null_score:\r\n",
    "                min_null_score = feature_null_score\r\n",
    "\r\n",
    "# `n_best_size` के बड़े प्रारंभ और अंत लॉग के लिए सभी संभावनाओं पर गौर करें।\n",
    "            start_indexes = np.argsort(start_logits)[-1 : -n_best_size - 1 : -1].tolist()\r\n",
    "            end_indexes = np.argsort(end_logits)[-1 : -n_best_size - 1 : -1].tolist()\r\n",
    "            for start_index in start_indexes:\r\n",
    "                for end_index in end_indexes:\r\n",
    "# दायरे से बाहर उत्तरों पर विचार न करें, क्योंकि या तो सूचकांक सीमा से बाहर हैं या अनुरूप हैं\n",
    "# इनपुट_आईडी के उस भाग के लिए जो संदर्भ में नहीं है।\n",
    "                    if (\r\n",
    "                        start_index >= len(offset_mapping)\r\n",
    "                        or end_index >= len(offset_mapping)\r\n",
    "                        or offset_mapping[start_index] is None\r\n",
    "                        or offset_mapping[end_index] is None\r\n",
    "                    ):\r\n",
    "                        continue\r\n",
    "# ऐसे उत्तरों पर विचार न करें जिनकी लंबाई या तो < 0 या > max_answer_length हो।\n",
    "                    if end_index < start_index or end_index - start_index + 1 > max_answer_length:\r\n",
    "                        continue\r\n",
    "\r\n",
    "                    start_char = offset_mapping[start_index][0]\r\n",
    "                    end_char = offset_mapping[end_index][1]\r\n",
    "                    valid_answers.append(\r\n",
    "                        {\r\n",
    "                            \"score\": start_logits[start_index] + end_logits[end_index],\r\n",
    "                            \"text\": context[start_char: end_char]\r\n",
    "                        }\r\n",
    "                    )\r\n",
    "        \r\n",
    "        if len(valid_answers) > 0:\r\n",
    "            best_answer = sorted(valid_answers, key=lambda x: x[\"score\"], reverse=True)[0]\r\n",
    "        else:\r\n",
    "# अत्यंत दुर्लभ किनारे वाले मामले में हमारे पास एक भी गैर-शून्य भविष्यवाणी नहीं है, हम बचने के लिए एक नकली भविष्यवाणी बनाते हैं\n",
    "# असफलता।\n",
    "            best_answer = {\"text\": \"\", \"score\": 0.0}\r\n",
    "        \r\n",
    "# आइए अपना अंतिम उत्तर चुनें: सबसे अच्छा या शून्य उत्तर (केवल स्क्वाड_v2 के लिए)\n",
    "        if not squad_v2:\r\n",
    "            predictions[example[\"id\"]] = best_answer[\"text\"]\r\n",
    "        else:\r\n",
    "            answer = best_answer[\"text\"] if best_answer[\"score\"] > min_null_score else \"\"\r\n",
    "            predictions[example[\"id\"]] = answer\r\n",
    "\r\n",
    "    return predictions"
   ]
  },
  {
   "cell_type": "markdown",
   "metadata": {
    "id": "sfpxu9j3YBV-"
   },
   "source": [
    "पोस्ट-प्रोसेसिंग फ़ंक्शन को मूल पूर्वानुमान पर लागू करें:"
   ]
  },
  {
   "cell_type": "code",
   "execution_count": null,
   "metadata": {
    "colab": {
     "referenced_widgets": [
      "347ebed36d3541388e4e821372e91aa4"
     ]
    },
    "id": "Df4vY9d1YBV_",
    "outputId": "026516bc-d0e4-439a-b77a-daf738f61aa1"
   },
   "outputs": [
    {
     "name": "stdout",
     "output_type": "stream",
     "text": [
      "Post-processing 10570 example predictions split into 10784 features.\n"
     ]
    },
    {
     "data": {
      "application/vnd.jupyter.widget-view+json": {
       "model_id": "347ebed36d3541388e4e821372e91aa4",
       "version_major": 2,
       "version_minor": 0
      },
      "text/plain": [
       "HBox(children=(FloatProgress(value=0.0, max=10570.0), HTML(value='')))"
      ]
     },
     "metadata": {
      "tags": []
     },
     "output_type": "display_data"
    },
    {
     "name": "stdout",
     "output_type": "stream",
     "text": [
      "\n"
     ]
    }
   ],
   "source": [
    "final_predictions = postprocess_qa_predictions(datasets[\"validation\"], validation_features, raw_predictions.predictions)"
   ]
  },
  {
   "cell_type": "markdown",
   "metadata": {
    "id": "AoRhXyiPYBV_"
   },
   "source": [
    "फिर हम मूल्यांकन मेट्रिक्स लोड करते हैं:"
   ]
  },
  {
   "cell_type": "code",
   "execution_count": null,
   "metadata": {
    "id": "LYNJLOAbYBV_"
   },
   "outputs": [],
   "source": [
    "metric = load_metric(\"squad_v2\" if squad_v2 else \"squad\")"
   ]
  },
  {
   "cell_type": "markdown",
   "metadata": {},
   "source": [
    "उसी तरह, आप लोड करने के लिए हमारे द्वारा प्रदान की गई स्थानीय स्क्रिप्ट का भी उपयोग कर सकते हैं:"
   ]
  },
  {
   "cell_type": "code",
   "execution_count": null,
   "metadata": {},
   "outputs": [],
   "source": [
    "metric_path = './dataset/metrics/squad.py'\r\n",
    "metric = load_metric(metric_path)"
   ]
  },
  {
   "cell_type": "markdown",
   "metadata": {
    "id": "HckepCtJYBWA"
   },
   "source": [
    "फिर हम भविष्यवाणियों और टिप्पणियों के आधार पर मूल्यांकन मेट्रिक्स की गणना करते हैं। उचित तुलना के लिए, हमें पूर्वानुमानों और टिप्पणियों को प्रारूपित करने की आवश्यकता है। स्क्वाड2 के लिए, मूल्यांकन संकेतक को `no_answer_probability` पैरामीटर की भी आवश्यकता होती है (चूंकि कोई उत्तर नहीं है, यह सीधे एक खाली स्ट्रिंग पर सेट होता है, इसलिए यह पैरामीटर सीधे यहां 0.0 पर सेट होता है)"
   ]
  },
  {
   "cell_type": "code",
   "execution_count": null,
   "metadata": {
    "id": "k4y-LM_cYBWA",
    "outputId": "a122acf7-203c-4eb3-d26b-99b05b78a2df"
   },
   "outputs": [
    {
     "data": {
      "text/plain": [
       "{'exact_match': 76.74550614947965, 'f1': 85.13412652023338}"
      ]
     },
     "execution_count": 50,
     "metadata": {
      "tags": []
     },
     "output_type": "execute_result"
    }
   ],
   "source": [
    "if squad_v2:\r\n",
    "    formatted_predictions = [{\"id\": k, \"prediction_text\": v, \"no_answer_probability\": 0.0} for k, v in predictions.items()]\r\n",
    "else:\r\n",
    "    formatted_predictions = [{\"id\": k, \"prediction_text\": v} for k, v in final_predictions.items()]\r\n",
    "references = [{\"id\": ex[\"id\"], \"answers\": ex[\"answers\"]} for ex in datasets[\"validation\"]]\r\n",
    "metric.compute(predictions=formatted_predictions, references=references)"
   ]
  },
  {
   "cell_type": "markdown",
   "metadata": {
    "id": "exnxfrEKYBWA"
   },
   "source": [
    "अंत में, [मॉडल अपलोड करने का तरीका देखें](https://huggingface.co/transformers/model_sharing.html) और मॉडल को [🤗 मॉडल हब](https://huggingface.co/models) पर अपलोड करना न भूलें। फिर आप अपने मॉडल का उपयोग सीधे नाम से कर सकते हैं, ठीक इस नोटबुक की शुरुआत की तरह।"
   ]
  },
  {
   "cell_type": "code",
   "execution_count": null,
   "metadata": {
    "id": "uAYJ1DnfYBWA"
   },
   "outputs": [],
   "source": []
  }
 ],
 "metadata": {
  "colab": {
   "name": "4.3-问答任务-抽取式问答",
   "provenance": []
  },
  "interpreter": {
   "hash": "3bfce0b4c492a35815b5705a19fe374a7eea0baaa08b34d90450caf1fe9ce20b"
  },
  "kernelspec": {
   "display_name": "Python 3.8.10 64-bit ('venv': virtualenv)",
   "name": "python3"
  },
  "language_info": {
   "name": "python",
   "version": ""
  },
  "metadata": {
   "interpreter": {
    "hash": "dea1d2a4b8017c12e0b65317b2730de6c54ea697ad6dca9df4eaf20de101624f"
   }
  },
  "widgets": {
   "application/vnd.jupyter.widget-state+json": {}
  }
 },
 "nbformat": 4,
 "nbformat_minor": 2
}
