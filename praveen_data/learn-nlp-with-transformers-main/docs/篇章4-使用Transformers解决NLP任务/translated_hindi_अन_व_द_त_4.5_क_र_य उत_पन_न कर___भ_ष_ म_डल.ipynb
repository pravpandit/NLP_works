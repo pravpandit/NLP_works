{
 "cells": [
  {
   "cell_type": "markdown",
   "metadata": {
    "id": "bTAeNLV3WdB0"
   },
   "source": [
    "इस लेख में शामिल जप्टर नोटबुक [अध्याय 4 कोड बेस](https://github.com/datawhalechina/learn-nlp-with-transformers/tree/main/docs/%E7%AF%87%E7%) में है AB%A04-%E4%BD%BF%E7%94%A8Transformers%E8%A7%A3%E5%86%B3NLP%E4%BB%BB%E5%8A%A1).\n",
    "\n",
    "प्रासंगिक डेटासेट और मॉडल को तुरंत डाउनलोड करने के लिए इस ट्यूटोरियल को सीधे Google कोलाब नोटबुक का उपयोग करके खोलने की अनुशंसा की जाती है।\n",
    "यदि आप इस नोटबुक को Google कोलैब में खोल रहे हैं, तो आपको ट्रांसफॉर्मर और 🤗डेटासेट लाइब्रेरीज़ को इंस्टॉल करने की आवश्यकता हो सकती हैउन्हें स्थापित करने के लिए निम्नलिखित आदेश।"
   ]
  },
  {
   "cell_type": "code",
   "execution_count": null,
   "metadata": {
    "id": "bAWdZQdTWdB3"
   },
   "outputs": [],
   "source": [
    "# !पिप डेटासेट ट्रांसफार्मर स्थापित करें\n",
    "# -i https://pypi.tona.tsinghua.edu.cn/simple"
   ]
  },
  {
   "cell_type": "markdown",
   "metadata": {
    "id": "7FC_ZTXsWdB3"
   },
   "source": [
    "यदि आप इस ज्यूपिटर नोटबुक को अपनी स्थानीय मशीन पर खोल रहे हैं, तो कृपया सुनिश्चित करें कि आपके वातावरण में उपरोक्त पुस्तकालयों के नवीनतम संस्करण स्थापित हैं।\n",
    "\n",
    "आप इस ज्यूपिटर नोटबुक के लिए विशिष्ट पायथन स्क्रिप्ट फ़ाइल [यहां] (https://github.com/huggingface/transformers/tree/master/examples/langage-modeling) पा सकते हैं और आप अपने मॉडल को एक वितरित में फाइन-ट्यून भी कर सकते हैं एकाधिक जीपीयू या टीपीयू का उपयोग करने का तरीका।"
   ]
  },
  {
   "cell_type": "markdown",
   "metadata": {
    "id": "BgQvrzh3WdB4"
   },
   "source": [
    "# भाषा मॉडल को ठीक करें"
   ]
  },
  {
   "cell_type": "markdown",
   "metadata": {
    "id": "hqHxDcitWdB4"
   },
   "source": [
    "इस ज्यूपिटर नोटबुक में, हम बताएंगे कि भाषा मॉडलिंग कार्य का उपयोग करके किसी भी [🤗ट्रांसफॉर्मर्स](https://github.com/huggingface/transformers) मॉडल को कैसे फाइन-ट्यून किया जाए।\n",
    "\n",
    "यह ट्यूटोरियल दो प्रकार के भाषा मॉडलिंग कार्यों को कवर करेगा:\n",
    "\n",
    "+ कारण भाषा मॉडलिंग (सीएलएम): मॉडल को वाक्य में अगले स्थान पर चरित्र की भविष्यवाणी करने की आवश्यकता है (बीईआरटी-जैसे मॉडल के डिकोडर और जीपीटी के समान, जहां वर्ण बाएं से दाएं इनपुट हैं यह सुनिश्चित करने के लिए)। धोखा नहीं देता, एक ध्यानमास्क का उपयोग मॉडल को उसके बाद के वर्णों को देखने से रोकने के लिए किया जाता है, उदाहरण के लिए, जब मॉडल वाक्य में स्थिति i+1 पर वर्ण की भविष्यवाणी करने का प्रयास करता है, तो यह मास्क उसे स्थिति i के बाद के वर्णों तक पहुंचने से रोक देगा।\n",
    "\n",
    "![अनुमान प्रतिनिधित्व कारण भाषा मॉडलिंग कार्य छवि](./images/causal_भाषा_modeling.png)\n",
    "\n",
    "+ नकाबपोश भाषा मॉडलिंग (एमएलएम): मॉडल को कुछ वर्णों को पुनर्प्राप्त करने की आवश्यकता है जो इनपुट से बाहर \"मास्क\" किए गए थे (बीईआरटी-जैसे मॉडल के लिए पूर्व-प्रशिक्षण कार्य)।वह मॉडल पूरे वाक्य को देख सकता है, इसलिए मॉडल \"\\[MASK\\]\" टैग के पहले और बाद के वर्णों के आधार पर \"\\[MASK\\]\" टैग से पहले के चरित्र की भविष्यवाणी कर सकता है।\n",
    "\n",
    "![विजेट अनुमान नकाबपोश भाषा मॉडलिंग कार्य का प्रतिनिधित्व करता है](images/masked_langage_modeling.png)\n",
    "\n",
    "आगे, हम बताएंगे कि प्रत्येक कार्य के लिए डेटासेट को आसानी से कैसे लोड और प्रीप्रोसेस किया जाए, और \"ट्रेनर\" एपीआई का उपयोग करके मॉडल को कैसे ठीक किया जाए।\n",
    "\n",
    "बेशक, आप इस ज्यूपिटर नोटबुक के पायथन स्क्रिप्ट संस्करण को सीधे भी चला सकते हैंएक वितरित वातावरण या टीपीयू, जो [उदाहरण फ़ोल्डर] (https://github.com/huggingface/transformers/tree/master/examples) में पाया जा सकता है।"
   ]
  },
  {
   "cell_type": "markdown",
   "metadata": {
    "id": "GobLIFiRWdB5"
   },
   "source": [
    "## डेटा तैयार करें"
   ]
  },
  {
   "cell_type": "markdown",
   "metadata": {
    "id": "Tfkh562BWdB5"
   },
   "source": [
    "निम्नलिखित कार्यों में, हम एक उदाहरण के रूप में [विकीटेक्स्ट 2](https://huggingface.co/datasets/wikitext#data-instances) डेटासेट का उपयोग करेंगे। आप इस डेटासेट को 🤗Datasets लाइब्रेरी के माध्यम से लोड कर सकते हैं:"
   ]
  },
  {
   "cell_type": "code",
   "execution_count": 1,
   "metadata": {
    "id": "vtDCQuMSWdB5"
   },
   "outputs": [
    {
     "name": "stderr",
     "output_type": "stream",
     "text": [
      "Reusing dataset wikitext (/Users/niepig/.cache/huggingface/datasets/wikitext/wikitext-2-raw-v1/1.0.0/aa5e094000ec7afeb74c3be92c88313cd6f132d564c7effd961c10fd47c76f20)\n"
     ]
    }
   ],
   "source": [
    "from datasets import load_dataset\n",
    "datasets = load_dataset('wikitext', 'wikitext-2-raw-v1')"
   ]
  },
  {
   "cell_type": "markdown",
   "metadata": {
    "id": "IqMUxoJrWdB7"
   },
   "source": [
    "यदि आपको निम्न त्रुटि मिलती है:\n",
    "![अनुरोध त्रुटि](images/request_error.png)\n",
    "\n",
    "समाधान:\n",
    "\n",
    "मैक उपयोगकर्ता: ```/etc/hosts``` फ़ाइल में ```199.232.68.133 raw.githubusercontent.com``` एक पंक्ति जोड़ें\n",
    "\n",
    "Windowso उपयोगकर्ता: ```C:\\Windows\\System32\\drivers\\etc\\hosts``` फ़ाइल में एक पंक्ति ```199.232.68.133 raw.githubusercontent.com`` जोड़ें"
   ]
  },
  {
   "cell_type": "markdown",
   "metadata": {
    "id": "Wjl5FpYDWdB7"
   },
   "source": [
    "निःसंदेह आप उपरोक्त डेटासेट को [हब](https://huggingface.co/datasets) पर सार्वजनिक रूप से उपलब्ध किसी भी डेटासेट से बदल सकते हैं, या अपनी स्वयं की फ़ाइलों का उपयोग कर सकते हैं, बस निम्नलिखित सेल को अनकम्मेंट करें और पथ को उस पथ से बदलें जो आगे ले जाएगा आपके फ़ाइल पथ पर:"
   ]
  },
  {
   "cell_type": "code",
   "execution_count": null,
   "metadata": {
    "id": "fncDchlaWdB7"
   },
   "outputs": [],
   "source": [
    "# डेटासेट = लोड_डेटासेट (\"टेक्स्ट\", डेटा_फ़ाइल्स = {\"ट्रेन\": path_to_train.txt, \"सत्यापन\": path_to_validation.txt}"
   ]
  },
  {
   "cell_type": "markdown",
   "metadata": {
    "id": "ODIsscsTWdB8"
   },
   "source": [
    "आप सीएसवी या JSON फ़ाइलों से भी डेटासेट लोड कर सकते हैं, अधिक जानकारी के लिए [पूर्ण दस्तावेज़] (https://huggingface.co/docs/datasets/loading_datasets.html#from-local-files) देखें।\n",
    "\n",
    "डेटासेट में वास्तविक तत्व तक पहुंचने के लिए, आपको पहले एक कुंजी का चयन करना होगा और फिर एक इंडेक्स देना होगा:"
   ]
  },
  {
   "cell_type": "code",
   "execution_count": 2,
   "metadata": {
    "colab": {
     "base_uri": "https://localhost:8080/"
    },
    "id": "H887z9CbWdB8",
    "outputId": "f9d05402-f99b-40da-b672-887e6a8c5597"
   },
   "outputs": [
    {
     "data": {
      "text/plain": [
       "{'text': ' The game \\'s battle system , the BliTZ system , is carried over directly from Valkyira Chronicles . During missions , players select each unit using a top @-@ down perspective of the battlefield map : once a character is selected , the player moves the character around the battlefield in third @-@ person . A character can only act once per @-@ turn , but characters can be granted multiple turns at the expense of other characters \\' turns . Each character has a field and distance of movement limited by their Action Gauge . Up to nine characters can be assigned to a single mission . During gameplay , characters will call out if something happens to them , such as their health points ( HP ) getting low or being knocked out by enemy attacks . Each character has specific \" Potentials \" , skills unique to each character . They are divided into \" Personal Potential \" , which are innate skills that remain unaltered unless otherwise dictated by the story and can either help or impede a character , and \" Battle Potentials \" , which are grown throughout the game and always grant boons to a character . To learn Battle Potentials , each character has a unique \" Masters Table \" , a grid @-@ based skill table that can be used to acquire and link different skills . Characters also have Special Abilities that grant them temporary boosts on the battlefield : Kurt can activate \" Direct Command \" and move around the battlefield without depleting his Action Point gauge , the character Reila can shift into her \" Valkyria Form \" and become invincible , while Imca can target multiple enemy units with her heavy weapon . \\n'}"
      ]
     },
     "execution_count": 2,
     "metadata": {},
     "output_type": "execute_result"
    }
   ],
   "source": [
    "datasets[\"train\"][10]"
   ]
  },
  {
   "cell_type": "markdown",
   "metadata": {
    "id": "Y3vbv6yHWdB8"
   },
   "source": [
    "डेटा की संरचना को शीघ्रता से समझने के लिए, नीचे दिया गया फ़ंक्शन डेटासेट से कुछ यादृच्छिक रूप से चयनित उदाहरण प्रदर्शित करेगा।"
   ]
  },
  {
   "cell_type": "code",
   "execution_count": 3,
   "metadata": {
    "id": "II9ha_LmWdB9"
   },
   "outputs": [],
   "source": [
    "from datasets import ClassLabel\n",
    "import random\n",
    "import pandas as pd\n",
    "from IPython.display import display, HTML\n",
    "\n",
    "def show_random_elements(dataset, num_examples=10):\n",
    "    assert num_examples <= len(dataset), \"Can't pick more elements than there are in the dataset.\"\n",
    "    picks = []\n",
    "    for _ in range(num_examples):\n",
    "        pick = random.randint(0, len(dataset)-1)\n",
    "        while pick in picks:\n",
    "            pick = random.randint(0, len(dataset)-1)\n",
    "        picks.append(pick)\n",
    "    \n",
    "    df = pd.DataFrame(dataset[picks])\n",
    "    for column, typ in dataset.features.items():\n",
    "        if isinstance(typ, ClassLabel):\n",
    "            df[column] = df[column].transform(lambda i: typ.names[i])\n",
    "    display(HTML(df.to_html()))"
   ]
  },
  {
   "cell_type": "code",
   "execution_count": 4,
   "metadata": {
    "colab": {
     "base_uri": "https://localhost:8080/",
     "height": 427
    },
    "id": "LaCaYQyJWdB9",
    "outputId": "8fcf2a87-fa7c-46b1-bd03-26325ce69da9"
   },
   "outputs": [
    {
     "data": {
      "text/html": [
       "<table border=\"1\" class=\"dataframe\">\n",
       "  <thead>\n",
       "    <tr style=\"text-align: right;\">\n",
       "      <th></th>\n",
       "      <th>text</th>\n",
       "    </tr>\n",
       "  </thead>\n",
       "  <tbody>\n",
       "    <tr>\n",
       "      <th>0</th>\n",
       "      <td>On 3 March 1967 , parliament decided to build four short take @-@ off and landing airports along the Helgeland coast between Trondheim and Bodø . Braathens placed an order for a de Havilland Canada DHC @-@ 6 Twin Otter and planned to start the company Braathens STOL . It applied to operate the route without subsidies , but the concession was rejected and granted with subsidies to Widerøe , which had been operating the routes using seaplanes . \\n</td>\n",
       "    </tr>\n",
       "    <tr>\n",
       "      <th>1</th>\n",
       "      <td></td>\n",
       "    </tr>\n",
       "    <tr>\n",
       "      <th>2</th>\n",
       "      <td>Rao Ramesh was cast as a tantrik who helps Gill 's character in the present era . Mumaith Khan was selected for another item number , a remix version of the hit song \" Bangaru Kodipetta \" from Gharana Mogudu ( 1992 ) ; Gharana Mogudu 's music was also composed by M. M. Keeravani . Chiranjeevi made a special appearance after the song , making Magadheera the first film he appeared in after his entry into politics . When Rajamouli suggested the idea of a cameo appearance , Chiranjeevi was initially hesitant till the director narrated the complete sequence and the importance of the song . \\n</td>\n",
       "    </tr>\n",
       "    <tr>\n",
       "      <th>3</th>\n",
       "      <td></td>\n",
       "    </tr>\n",
       "    <tr>\n",
       "      <th>4</th>\n",
       "      <td></td>\n",
       "    </tr>\n",
       "    <tr>\n",
       "      <th>5</th>\n",
       "      <td>= = = Total Nonstop Action Wrestling ( 2015 – present ) = = = \\n</td>\n",
       "    </tr>\n",
       "    <tr>\n",
       "      <th>6</th>\n",
       "      <td>The Daily Telegraph gave the visual novel the award for \" Best Script \" in its video game awards of 2011 , stating that \" Love 's layered narrative of a high school teacher embroiled in his student ’ s worries goes places most mainstream video games wouldn 't dare . \" \\n</td>\n",
       "    </tr>\n",
       "    <tr>\n",
       "      <th>7</th>\n",
       "      <td></td>\n",
       "    </tr>\n",
       "    <tr>\n",
       "      <th>8</th>\n",
       "      <td></td>\n",
       "    </tr>\n",
       "    <tr>\n",
       "      <th>9</th>\n",
       "      <td></td>\n",
       "    </tr>\n",
       "  </tbody>\n",
       "</table>"
      ],
      "text/plain": [
       "<IPython.core.display.HTML object>"
      ]
     },
     "metadata": {},
     "output_type": "display_data"
    }
   ],
   "source": [
    "show_random_elements(datasets[\"train\"])"
   ]
  },
  {
   "cell_type": "markdown",
   "metadata": {
    "id": "LH0Uk_OsWdB9"
   },
   "source": [
    "जैसा कि हम देख सकते हैं, कुछ पाठ विकिपीडिया लेखों के पूर्ण पैराग्राफ हैं, जबकि अन्य केवल शीर्षक या खाली पंक्तियाँ हैं।"
   ]
  },
  {
   "cell_type": "markdown",
   "metadata": {
    "id": "9Nu5lPu8WdB-"
   },
   "source": [
    "## कारणात्मक भाषा मॉडलिंग (सीएलएम)"
   ]
  },
  {
   "cell_type": "markdown",
   "metadata": {
    "id": "v7gOchUNWdB-"
   },
   "source": [
    "कॉज़ल लैंग्वेज मॉडल (सीएलएम) के लिए, हम पहले डेटासेट में सभी टेक्स्ट प्राप्त करते हैं और उन्हें टोकन देने के बाद उन्हें जोड़ते हैं, फिर, हम उन्हें विशिष्ट अनुक्रम लंबाई के उदाहरणों में विभाजित करेंगे। इस तरह, मॉडल को निरंतर भाग प्राप्त होंगे इस प्रकार पाठ करें:\n",
    "\n",
    "```\n",
    "पाठ 1\n",
    "```\n",
    "या\n",
    "```\n",
    "टेक्स्ट1 का अंत [BOS_TOKEN] टेक्स्ट2 की शुरुआत\n",
    "```\n",
    "\n",
    "इस पर निर्भर करते हुए कि क्या वे डेटासेट में कई मूल पाठों को फैलाते हैं, लेबल इनपुट के समान होंगे, लेकिन बाईं ओर स्थानांतरित हो जाएंगे।\n",
    "\n",
    "इस उदाहरण में, हम उपयोग करेंगे[`distilgpt2`](https://huggingface.co/distilgpt2) मॉडल आप [यहां](https://huggingface.co/models?filter=causal-lm) सूचीबद्ध किसी भी चेकपॉइंट को चुन सकते हैं।"
   ]
  },
  {
   "cell_type": "code",
   "execution_count": 5,
   "metadata": {
    "id": "z37txOiBWdB-"
   },
   "outputs": [],
   "source": [
    "model_checkpoint = \"distilgpt2\""
   ]
  },
  {
   "cell_type": "markdown",
   "metadata": {
    "id": "mk8BWvYWWdB-"
   },
   "source": [
    "मॉडल को प्रशिक्षित करते समय उपयोग की जाने वाली शब्दावली के साथ सभी पाठ को टोकननाइज़ करने के लिए, हमें एक पूर्व-प्रशिक्षित टोकननाइज़र डाउनलोड करना होगा। यह सब ऑटोटोकनाइज़र क्लास के साथ किया जा सकता है:"
   ]
  },
  {
   "cell_type": "code",
   "execution_count": 6,
   "metadata": {
    "id": "mQwZ5UssWdB_"
   },
   "outputs": [],
   "source": [
    "from transformers import AutoTokenizer\n",
    "    \n",
    "tokenizer = AutoTokenizer.from_pretrained(model_checkpoint, use_fast=True)"
   ]
  },
  {
   "cell_type": "markdown",
   "metadata": {
    "id": "hAQJGvMxWdB_"
   },
   "source": [
    "अब हम अपने सभी टेक्स्ट पर टोकननाइज़र को कॉल कर सकते हैं, जो डेटासेट लाइब्रेरी से मैप विधि का उपयोग करके किया जा सकता है, सबसे पहले, हम एक फ़ंक्शन को परिभाषित करते हैं जो हमारे टेक्स्ट पर टोकननाइज़र को कॉल करता है:"
   ]
  },
  {
   "cell_type": "code",
   "execution_count": 7,
   "metadata": {
    "id": "wxhKKMYgWdB_"
   },
   "outputs": [],
   "source": [
    "def tokenize_function(examples):\n",
    "    return tokenizer(examples[\"text\"])"
   ]
  },
  {
   "cell_type": "markdown",
   "metadata": {
    "id": "FM_kMpbCWdB_"
   },
   "source": [
    "फिर हम प्रीप्रोसेसिंग को तेज करने के लिए बैच=ट्रू और 4 प्रक्रियाओं का उपयोग करके इसे डेटासेट ऑब्जेक्ट में टोकननाइजेशन पर लागू करते हैं, हमें बाद में टेक्स्ट कॉलम की आवश्यकता नहीं होती है, इसलिए हम इसे छोड़ देते हैं।"
   ]
  },
  {
   "cell_type": "code",
   "execution_count": null,
   "metadata": {
    "id": "rNb1U12YWdCA"
   },
   "outputs": [],
   "source": [
    "tokenized_datasets = datasets.map(tokenize_function, batched=True, num_proc=4, remove_columns=[\"text\"])"
   ]
  },
  {
   "cell_type": "markdown",
   "metadata": {
    "id": "bc2niRZJWdCA"
   },
   "source": [
    "यदि अब हम डेटासेट के एक तत्व को देखते हैं, तो हम देखते हैं कि टेक्स्ट को मॉडल द्वारा आवश्यक इनपुट_आईड्स द्वारा प्रतिस्थापित कर दिया गया है:"
   ]
  },
  {
   "cell_type": "code",
   "execution_count": 9,
   "metadata": {
    "colab": {
     "base_uri": "https://localhost:8080/"
    },
    "id": "HgC4UWv8WdCA",
    "outputId": "e3257089-88b6-4b15-fbe1-45073073ad3e"
   },
   "outputs": [
    {
     "data": {
      "text/plain": [
       "{'attention_mask': [1, 1, 1, 1, 1, 1, 1, 1, 1],\n",
       " 'input_ids': [796, 569, 18354, 7496, 17740, 6711, 796, 220, 198]}"
      ]
     },
     "execution_count": 9,
     "metadata": {},
     "output_type": "execute_result"
    }
   ],
   "source": [
    "tokenized_datasets[\"train\"][1]"
   ]
  },
  {
   "cell_type": "markdown",
   "metadata": {
    "id": "TpKE1TJXWdCA"
   },
   "source": [
    "अगला चरण थोड़ा अधिक कठिन है: हमें सभी पाठों को एक साथ जोड़ना होगा और फिर परिणाम को एक विशिष्ट `ब्लॉक_साइज़` के छोटे हिस्सों में विभाजित करना होगा, ऐसा करने के लिए, हम विकल्प `बैच` के साथ फिर से `मैप` विधि का उपयोग करेंगे =True`। यह विकल्प हमें अलग-अलग संख्या में नमूने लौटाते हुए डेटासेट में उदाहरणों की संख्या को अलग-अलग करने की अनुमति देता है। इस तरह, हम उदाहरणों के एक बैच से नए उदाहरण बना सकते हैं।\n",
    "\n",
    "सबसे पहले, हमें मॉडल को पूर्व-प्रशिक्षित करते समय उपयोग की जाने वाली अधिकतम लंबाई प्राप्त करने की आवश्यकता हैयदि आपकी वीडियो मेमोरी फट जाती है तो उम लंबाई यहां 128 पर सेट है।"
   ]
  },
  {
   "cell_type": "code",
   "execution_count": 10,
   "metadata": {
    "id": "uEnLI7LJWdCB"
   },
   "outputs": [],
   "source": [
    "# ब्लॉक_आकार = टोकननाइज़र.मॉडल_मैक्स_लेंथ\n",
    "block_size = 128"
   ]
  },
  {
   "cell_type": "markdown",
   "metadata": {
    "id": "IwZu_FSjWdCB"
   },
   "source": [
    "फिर हम अपने टेक्स्ट को समूहीकृत करने के लिए प्रीप्रोसेसिंग फ़ंक्शन लिखते हैं:"
   ]
  },
  {
   "cell_type": "code",
   "execution_count": 11,
   "metadata": {
    "id": "OhhL0v2FWdCB"
   },
   "outputs": [],
   "source": [
    "def group_texts(examples):\n",
    "# सभी पाठ को संयोजित करें\n",
    "    concatenated_examples = {k: sum(examples[k], []) for k in examples.keys()}\n",
    "    total_length = len(concatenated_examples[list(examples.keys())[0]])\n",
    "# हम शेष के अनुरूप भाग को हटा देते हैं, लेकिन यदि मॉडल इसका समर्थन करता है, तो आप आवश्यकतानुसार इस भाग को कस्टमाइज़ कर सकते हैं।\n",
    "    total_length = (total_length // block_size) * block_size\n",
    "# max_len द्वारा विभाजित.\n",
    "    result = {\n",
    "        k: [t[i : i + block_size] for i in range(0, total_length, block_size)]\n",
    "        for k, t in concatenated_examples.items()\n",
    "    }\n",
    "    result[\"labels\"] = result[\"input_ids\"].copy()\n",
    "    return result"
   ]
  },
  {
   "cell_type": "markdown",
   "metadata": {
    "id": "DpsALat7WdCC"
   },
   "source": [
    "सबसे पहले, ध्यान दें कि हमने लेबल के लिए इनपुट को डुप्लिकेट किया है।\n",
    "\n",
    "ऐसा इसलिए है क्योंकि 🤗 ट्रांसफार्मर लाइब्रेरी के मॉडल डिफ़ॉल्ट रूप से दाईं ओर शिफ्ट होते हैं, इसलिए हमें इसे मैन्युअल रूप से करने की आवश्यकता नहीं है।\n",
    "\n",
    "यह भी ध्यान दें कि डिफ़ॉल्ट रूप से, `मैप` विधि प्रीप्रोसेसिंग फ़ंक्शन द्वारा संसाधित करने के लिए 1,000 उदाहरणों का एक बैच भेजेगी, इसलिए यहां, हम शेष को हटा रहे हैं, जिससे प्रत्येक 1,000 उदाहरणों में संयोजित टोकन टेक्स्ट को `ब्लॉक_साइज़` का गुणक बना दिया जाएगा। आप उच्च बैच आकार पास करके इस व्यवहार को बदल सकते हैं (जो कि ओनिश्चित रूप से अधिक धीरे-धीरे संसाधित किया जाना चाहिए)। प्रीप्रोसेसिंग को तेज़ करने के लिए आप `मल्टीप्रोसेसिंग` का भी उपयोग कर सकते हैं:"
   ]
  },
  {
   "cell_type": "code",
   "execution_count": null,
   "metadata": {
    "id": "lmoi9YUZWdCC"
   },
   "outputs": [],
   "source": [
    "lm_datasets = tokenized_datasets.map(\n",
    "    group_texts,\n",
    "    batched=True,\n",
    "    batch_size=1000,\n",
    "    num_proc=4,\n",
    ")"
   ]
  },
  {
   "cell_type": "markdown",
   "metadata": {
    "id": "qPkZvXnCWdCD"
   },
   "source": [
    "अब हम जाँच सकते हैं कि क्या डेटासेट बदल गया है: अब नमूनों में `ब्लॉक_साइज़` लगातार वर्णों के ब्लॉक हैं, जो संभवतः कई मूल पाठों तक फैले हुए हैं।"
   ]
  },
  {
   "cell_type": "code",
   "execution_count": 13,
   "metadata": {
    "colab": {
     "base_uri": "https://localhost:8080/",
     "height": 86
    },
    "id": "49I25iXJWdCD",
    "outputId": "f7f0364e-7ac0-44e0-aed1-d483b1dda631"
   },
   "outputs": [
    {
     "data": {
      "text/plain": [
       "' game and follows the \" Nameless \", a penal military unit serving the nation of Gallia during the Second Europan War who perform secret black operations and are pitted against the Imperial unit \" Calamaty Raven \". \\n The game began development in 2010, carrying over a large portion of the work done on Valkyria Chronicles II. While it retained the standard features of the series, it also underwent multiple adjustments, such as making the game more forgiving for series newcomers. Character designer Raita Honjou and composer Hitoshi Sakimoto both returned from previous entries, along with Valkyria Chronicles II director Takeshi Oz'"
      ]
     },
     "execution_count": 13,
     "metadata": {},
     "output_type": "execute_result"
    }
   ],
   "source": [
    "tokenizer.decode(lm_datasets[\"train\"][1][\"input_ids\"])"
   ]
  },
  {
   "cell_type": "markdown",
   "metadata": {
    "id": "qVkDCaz5WdCD"
   },
   "source": [
    "अब जब डेटा साफ हो गया है, तो हम अपने ट्रेनर को इंस्टेंट कर सकते हैं, हम एक मॉडल बनाएंगे:"
   ]
  },
  {
   "cell_type": "code",
   "execution_count": 14,
   "metadata": {
    "colab": {
     "base_uri": "https://localhost:8080/",
     "height": 66,
     "referenced_widgets": [
      "f9a94ec0a95a435b8f58cc67994099f7",
      "782ab18684dd4f36a403d180138e8f1d",
      "6d8e4de69163477891b6636d869f6e4e",
      "27a5fef432d24131b2678f9cf5906a4f",
      "36d6db8a50de4a3c886647f31b60b621",
      "969eb6b77105455cab015cb8574b1bd3",
      "a0d0fe9dec9b413fa80fa4d678dcb9c3",
      "7ecafb32516947aa9ace74da667d9665"
     ]
    },
    "id": "jm5DOjPOWdCD",
    "outputId": "5ec1e6e5-66ef-4033-fdc4-3ee3ee6e0dd9"
   },
   "outputs": [],
   "source": [
    "from transformers import AutoModelForCausalLM\n",
    "model = AutoModelForCausalLM.from_pretrained(model_checkpoint)"
   ]
  },
  {
   "cell_type": "markdown",
   "metadata": {
    "id": "sAFO2Y6_WdCE"
   },
   "source": [
    "टॉर्च संस्करण की जाँच करें"
   ]
  },
  {
   "cell_type": "code",
   "execution_count": 15,
   "metadata": {
    "colab": {
     "base_uri": "https://localhost:8080/"
    },
    "id": "11XlW2ogWdCE",
    "outputId": "d8e8c62e-dfc0-43d1-b377-2b1796a52f56"
   },
   "outputs": [
    {
     "name": "stdout",
     "output_type": "stream",
     "text": [
      "True\n"
     ]
    }
   ],
   "source": [
    "\n",
    "import importlib.util\n",
    "# आयातित आयातलिब_मेटाडेटा\n",
    "a = importlib.util.find_spec(\"torch\") is not None\n",
    "print(a)\n",
    "# _मशाल_संस्करण = आयातलिब_मेटाडेटा.संस्करण(\"मशाल\")\n",
    "# प्रिंट(_मशाल_संस्करण)"
   ]
  },
  {
   "cell_type": "markdown",
   "metadata": {
    "id": "y8_qK5i3WdCE"
   },
   "source": [
    "और कुछ `प्रशिक्षण तर्क`:"
   ]
  },
  {
   "cell_type": "code",
   "execution_count": 16,
   "metadata": {
    "id": "WWhPVy82WdCE"
   },
   "outputs": [],
   "source": [
    "from transformers import Trainer, TrainingArguments"
   ]
  },
  {
   "cell_type": "code",
   "execution_count": 17,
   "metadata": {
    "id": "qGz6BxoOWdCF"
   },
   "outputs": [],
   "source": [
    "training_args = TrainingArguments(\n",
    "    \"test-clm\",\n",
    "    evaluation_strategy = \"epoch\",\n",
    "    learning_rate=2e-5,\n",
    "    weight_decay=0.01,\n",
    ")"
   ]
  },
  {
   "cell_type": "markdown",
   "metadata": {
    "id": "efdl12AIWdCF"
   },
   "source": [
    "हम यह सब `ट्रेनर` वर्ग को सौंपते हैं:"
   ]
  },
  {
   "cell_type": "code",
   "execution_count": 18,
   "metadata": {
    "id": "1ukmE65zWdCF"
   },
   "outputs": [],
   "source": [
    "trainer = Trainer(\n",
    "    model=model,\n",
    "    args=training_args,\n",
    "    train_dataset=lm_datasets[\"train\"],\n",
    "    eval_dataset=lm_datasets[\"validation\"],\n",
    ")"
   ]
  },
  {
   "cell_type": "markdown",
   "metadata": {
    "id": "UDn2o1gSWdCF"
   },
   "source": [
    "तब हम अपने मॉडल को प्रशिक्षित कर सकते हैं:"
   ]
  },
  {
   "cell_type": "code",
   "execution_count": 19,
   "metadata": {
    "id": "a55CO2xGWdCF"
   },
   "outputs": [
    {
     "name": "stderr",
     "output_type": "stream",
     "text": [
      "  0%|          | 31/7002 [04:16<14:27:52,  7.47s/it]"
     ]
    }
   ],
   "source": [
    "trainer.train()"
   ]
  },
  {
   "cell_type": "markdown",
   "metadata": {
    "id": "PAFX3mCwWdCG"
   },
   "source": [
    "एक बार प्रशिक्षण पूरा हो जाने पर, हम अपने मॉडल का मूल्यांकन कर सकते हैं और सत्यापन सेट पर इसकी उलझन इस प्रकार जान सकते हैं:"
   ]
  },
  {
   "cell_type": "code",
   "execution_count": null,
   "metadata": {
    "id": "g1A7eBP3WdCG"
   },
   "outputs": [],
   "source": [
    "import math\n",
    "eval_results = trainer.evaluate()\n",
    "print(f\"Perplexity: {math.exp(eval_results['eval_loss']):.2f}\")"
   ]
  },
  {
   "cell_type": "markdown",
   "metadata": {
    "id": "lJzcfmsVWdCG"
   },
   "source": [
    "## मास्क लैंग्वेज मॉडलिंग (एमएलएम)"
   ]
  },
  {
   "cell_type": "markdown",
   "metadata": {
    "id": "sr5UHTPjWdCG"
   },
   "source": [
    "मास्क्ड लैंग्वेज मॉडल (एमएलएम) हम एक अतिरिक्त चरण के साथ पहले की तरह ही डेटासेट प्रीप्रोसेसिंग का उपयोग करेंगे:\n",
    "\n",
    "हम कुछ वर्णों को बेतरतीब ढंग से \"मास्क\" करेंगे (उन्हें \"[MASK]\" से बदल देंगे) और लेबल को इस प्रकार समायोजित करेंगे कि लेबल केवल \"[MASK]\" स्थिति में हों (क्योंकि हमें उन वर्णों की भविष्यवाणी करने की आवश्यकता नहीं है जो \"मास्क\" नहीं हैं ).\n",
    "\n",
    "इस उदाहरण में, हम [`distilroberta-base`](https://huggingface.co/distilroberta-base) मॉडल का उपयोग करेंगे। आप [यहां](https://huggingface.co) सूचीबद्ध किसी भी चेकपॉइंट को चुन सकते हैं/मॉडल?फ़िल्टर=कारण-एलएम):"
   ]
  },
  {
   "cell_type": "code",
   "execution_count": null,
   "metadata": {
    "id": "2X4qJPeXWdCG"
   },
   "outputs": [],
   "source": [
    "model_checkpoint = \"distilroberta-base\""
   ]
  },
  {
   "cell_type": "markdown",
   "metadata": {
    "id": "GMDHywzqWdCH"
   },
   "source": [
    "हम पहले की तरह ही टोकननाइज़र फ़ंक्शन लागू कर सकते हैं, हमें बस अपने द्वारा चुने गए चेकपॉइंट का उपयोग करने के लिए अपने टोकननाइज़र को अपडेट करना होगा:"
   ]
  },
  {
   "cell_type": "code",
   "execution_count": null,
   "metadata": {
    "id": "sgIqOa4uWdCH"
   },
   "outputs": [],
   "source": [
    "tokenizer = AutoTokenizer.from_pretrained(model_checkpoint, use_fast=True)\n",
    "tokenized_datasets = datasets.map(tokenize_function, batched=True, num_proc=4, remove_columns=[\"text\"])"
   ]
  },
  {
   "cell_type": "markdown",
   "metadata": {
    "id": "O4BALsgJWdCH"
   },
   "source": [
    "पहले की तरह, हम पाठों को एक साथ समूहित करते हैं और उन्हें लंबाई `ब्लॉक_साइज़` के नमूनों में विभाजित करते हैं, यदि आपके डेटासेट में अलग-अलग वाक्य हैं, तो आप इस चरण को छोड़ सकते हैं।"
   ]
  },
  {
   "cell_type": "code",
   "execution_count": null,
   "metadata": {
    "id": "d4jJo5X2WdCH"
   },
   "outputs": [],
   "source": [
    "lm_datasets = tokenized_datasets.map(\n",
    "    group_texts,\n",
    "    batched=True,\n",
    "    batch_size=1000,\n",
    "    num_proc=4,\n",
    ")"
   ]
  },
  {
   "cell_type": "markdown",
   "metadata": {
    "id": "2wbjmPZQWdCI"
   },
   "source": [
    "बाकी सब कुछ वैसा ही है जैसा हमने पहले किया था, दो अपवादों को छोड़कर, पहले हम नकाबपोश भाषा मॉडलिंग के लिए उपयुक्त मॉडल का उपयोग करते हैं:"
   ]
  },
  {
   "cell_type": "code",
   "execution_count": null,
   "metadata": {
    "id": "LkJuOG4oWdCI"
   },
   "outputs": [],
   "source": [
    "from transformers import AutoModelForMaskedLM\n",
    "model = AutoModelForMaskedLM.from_pretrained(model_checkpoint)"
   ]
  },
  {
   "cell_type": "markdown",
   "metadata": {
    "id": "MVKOscEdWdCI"
   },
   "source": [
    "दूसरे, हम एक विशेष डेटा_कोलेटर का उपयोग करते हैं। डेटा_कोलेटर एक फ़ंक्शन है जो नमूने लेने और उन्हें टेंसर में बैच करने के लिए जिम्मेदार है।\n",
    "\n",
    "पिछले उदाहरण में, हमारे पास करने के लिए कुछ खास नहीं था, इसलिए हमने इस पैरामीटर के लिए केवल डिफ़ॉल्ट मान का उपयोग किया था। यहां हम यादृच्छिक \"MASK\" कर रहे हैं।\n",
    "\n",
    "हम इसे प्रीप्रोसेसिंग चरण (`टोकनाइज़र`) के रूप में कर सकते हैं, लेकिन प्रत्येक चरण में वर्णों को हमेशा उसी तरह से मास्क किया जाता है, डेटा_कोलेटर में इस चरण को करके, हम यह सुनिश्चित कर सकते हैं कि यादृच्छिक मास्किंग होहर बार जब हम डेटा की जांच करते हैं तो यह एक नए तरीके से किया जाता है।\n",
    "\n",
    "मास्किंग को लागू करने के लिए, `ट्रांसफॉर्मर्स` मास्क किए गए भाषा मॉडल के लिए `डेटाकोलेटरफॉरलैंग्वेजमॉडलिंग` प्रदान करता है। हम मास्किंग की संभावना को समायोजित कर सकते हैं:"
   ]
  },
  {
   "cell_type": "code",
   "execution_count": null,
   "metadata": {
    "id": "A-k8wJK7WdCI"
   },
   "outputs": [],
   "source": [
    "from transformers import DataCollatorForLanguageModeling\n",
    "data_collator = DataCollatorForLanguageModeling(tokenizer=tokenizer, mlm_probability=0.15)"
   ]
  },
  {
   "cell_type": "markdown",
   "metadata": {
    "id": "m83JcPGyWdCI"
   },
   "source": [
    "फिर हमें सब कुछ प्रशिक्षक को सौंपना होगा और प्रशिक्षण शुरू करना होगा:"
   ]
  },
  {
   "cell_type": "code",
   "execution_count": null,
   "metadata": {
    "id": "I12S2ZQxWdCJ"
   },
   "outputs": [],
   "source": [
    "trainer = Trainer(\n",
    "    model=model,\n",
    "    args=training_args,\n",
    "    train_dataset=lm_datasets[\"train\"],\n",
    "    eval_dataset=lm_datasets[\"validation\"],\n",
    "    data_collator=data_collator,\n",
    ")"
   ]
  },
  {
   "cell_type": "code",
   "execution_count": null,
   "metadata": {
    "id": "u_4PHx1CWdCJ"
   },
   "outputs": [],
   "source": [
    "trainer.train()"
   ]
  },
  {
   "cell_type": "markdown",
   "metadata": {
    "id": "MDKbrOmzWdCJ"
   },
   "source": [
    "पहले की तरह, हम सत्यापन सेट पर अपने मॉडल का मूल्यांकन कर सकते हैं।\n",
    "\n",
    "सीएलएम उद्देश्य की तुलना में उलझन बहुत कम है क्योंकि एमएलएम उद्देश्य के लिए हमें शेष टोकन तक पहुंच रखते हुए केवल छिपे हुए टोकन (यहां कुल का 15%) पर भविष्यवाणियां करने की आवश्यकता है।\n",
    "\n",
    "इसलिए, मॉडल के लिए यह एक आसान काम है।"
   ]
  },
  {
   "cell_type": "code",
   "execution_count": null,
   "metadata": {
    "id": "60hUa-W5WdCJ"
   },
   "outputs": [],
   "source": [
    "eval_results = trainer.evaluate()\n",
    "print(f\"Perplexity: {math.exp(eval_results['eval_loss']):.2f}\")"
   ]
  },
  {
   "cell_type": "code",
   "execution_count": null,
   "metadata": {
    "id": "uPa5UTWWWdCK"
   },
   "outputs": [],
   "source": [
    "不要忘记将你的模型[上传](https://huggingface.co/transformers/model_sharing.html)到[🤗 模型中心](https://huggingface.co/models)。"
   ]
  }
 ],
 "metadata": {
  "colab": {
   "collapsed_sections": [],
   "name": "4.5-生成任务-语言模型",
   "provenance": []
  },
  "interpreter": {
   "hash": "3bfce0b4c492a35815b5705a19fe374a7eea0baaa08b34d90450caf1fe9ce20b"
  },
  "kernelspec": {
   "display_name": "Python 3.8.10 64-bit ('venv': virtualenv)",
   "name": "python3"
  },
  "language_info": {
   "codemirror_mode": {
    "name": "ipython",
    "version": 3
   },
   "file_extension": ".py",
   "mimetype": "text/x-python",
   "name": "python",
   "nbconvert_exporter": "python",
   "pygments_lexer": "ipython3",
   "version": "3.8.10"
  },
  "widgets": {
   "application/vnd.jupyter.widget-state+json": {
    "27a5fef432d24131b2678f9cf5906a4f": {
     "model_module": "@jupyter-widgets/controls",
     "model_name": "HTMLModel",
     "state": {
      "_dom_classes": [],
      "_model_module": "@jupyter-widgets/controls",
      "_model_module_version": "1.5.0",
      "_model_name": "HTMLModel",
      "_view_count": null,
      "_view_module": "@jupyter-widgets/controls",
      "_view_module_version": "1.5.0",
      "_view_name": "HTMLView",
      "description": "",
      "description_tooltip": null,
      "layout": "IPY_MODEL_7ecafb32516947aa9ace74da667d9665",
      "placeholder": "​",
      "style": "IPY_MODEL_a0d0fe9dec9b413fa80fa4d678dcb9c3",
      "value": " 353M/353M [00:11&lt;00:00, 31.6MB/s]"
     }
    },
    "36d6db8a50de4a3c886647f31b60b621": {
     "model_module": "@jupyter-widgets/controls",
     "model_name": "ProgressStyleModel",
     "state": {
      "_model_module": "@jupyter-widgets/controls",
      "_model_module_version": "1.5.0",
      "_model_name": "ProgressStyleModel",
      "_view_count": null,
      "_view_module": "@jupyter-widgets/base",
      "_view_module_version": "1.2.0",
      "_view_name": "StyleView",
      "bar_color": null,
      "description_width": "initial"
     }
    },
    "6d8e4de69163477891b6636d869f6e4e": {
     "model_module": "@jupyter-widgets/controls",
     "model_name": "FloatProgressModel",
     "state": {
      "_dom_classes": [],
      "_model_module": "@jupyter-widgets/controls",
      "_model_module_version": "1.5.0",
      "_model_name": "FloatProgressModel",
      "_view_count": null,
      "_view_module": "@jupyter-widgets/controls",
      "_view_module_version": "1.5.0",
      "_view_name": "ProgressView",
      "bar_style": "success",
      "description": "Downloading: 100%",
      "description_tooltip": null,
      "layout": "IPY_MODEL_969eb6b77105455cab015cb8574b1bd3",
      "max": 352833716,
      "min": 0,
      "orientation": "horizontal",
      "style": "IPY_MODEL_36d6db8a50de4a3c886647f31b60b621",
      "value": 352833716
     }
    },
    "782ab18684dd4f36a403d180138e8f1d": {
     "model_module": "@jupyter-widgets/base",
     "model_name": "LayoutModel",
     "state": {
      "_model_module": "@jupyter-widgets/base",
      "_model_module_version": "1.2.0",
      "_model_name": "LayoutModel",
      "_view_count": null,
      "_view_module": "@jupyter-widgets/base",
      "_view_module_version": "1.2.0",
      "_view_name": "LayoutView",
      "align_content": null,
      "align_items": null,
      "align_self": null,
      "border": null,
      "bottom": null,
      "display": null,
      "flex": null,
      "flex_flow": null,
      "grid_area": null,
      "grid_auto_columns": null,
      "grid_auto_flow": null,
      "grid_auto_rows": null,
      "grid_column": null,
      "grid_gap": null,
      "grid_row": null,
      "grid_template_areas": null,
      "grid_template_columns": null,
      "grid_template_rows": null,
      "height": null,
      "justify_content": null,
      "justify_items": null,
      "left": null,
      "margin": null,
      "max_height": null,
      "max_width": null,
      "min_height": null,
      "min_width": null,
      "object_fit": null,
      "object_position": null,
      "order": null,
      "overflow": null,
      "overflow_x": null,
      "overflow_y": null,
      "padding": null,
      "right": null,
      "top": null,
      "visibility": null,
      "width": null
     }
    },
    "7ecafb32516947aa9ace74da667d9665": {
     "model_module": "@jupyter-widgets/base",
     "model_name": "LayoutModel",
     "state": {
      "_model_module": "@jupyter-widgets/base",
      "_model_module_version": "1.2.0",
      "_model_name": "LayoutModel",
      "_view_count": null,
      "_view_module": "@jupyter-widgets/base",
      "_view_module_version": "1.2.0",
      "_view_name": "LayoutView",
      "align_content": null,
      "align_items": null,
      "align_self": null,
      "border": null,
      "bottom": null,
      "display": null,
      "flex": null,
      "flex_flow": null,
      "grid_area": null,
      "grid_auto_columns": null,
      "grid_auto_flow": null,
      "grid_auto_rows": null,
      "grid_column": null,
      "grid_gap": null,
      "grid_row": null,
      "grid_template_areas": null,
      "grid_template_columns": null,
      "grid_template_rows": null,
      "height": null,
      "justify_content": null,
      "justify_items": null,
      "left": null,
      "margin": null,
      "max_height": null,
      "max_width": null,
      "min_height": null,
      "min_width": null,
      "object_fit": null,
      "object_position": null,
      "order": null,
      "overflow": null,
      "overflow_x": null,
      "overflow_y": null,
      "padding": null,
      "right": null,
      "top": null,
      "visibility": null,
      "width": null
     }
    },
    "969eb6b77105455cab015cb8574b1bd3": {
     "model_module": "@jupyter-widgets/base",
     "model_name": "LayoutModel",
     "state": {
      "_model_module": "@jupyter-widgets/base",
      "_model_module_version": "1.2.0",
      "_model_name": "LayoutModel",
      "_view_count": null,
      "_view_module": "@jupyter-widgets/base",
      "_view_module_version": "1.2.0",
      "_view_name": "LayoutView",
      "align_content": null,
      "align_items": null,
      "align_self": null,
      "border": null,
      "bottom": null,
      "display": null,
      "flex": null,
      "flex_flow": null,
      "grid_area": null,
      "grid_auto_columns": null,
      "grid_auto_flow": null,
      "grid_auto_rows": null,
      "grid_column": null,
      "grid_gap": null,
      "grid_row": null,
      "grid_template_areas": null,
      "grid_template_columns": null,
      "grid_template_rows": null,
      "height": null,
      "justify_content": null,
      "justify_items": null,
      "left": null,
      "margin": null,
      "max_height": null,
      "max_width": null,
      "min_height": null,
      "min_width": null,
      "object_fit": null,
      "object_position": null,
      "order": null,
      "overflow": null,
      "overflow_x": null,
      "overflow_y": null,
      "padding": null,
      "right": null,
      "top": null,
      "visibility": null,
      "width": null
     }
    },
    "a0d0fe9dec9b413fa80fa4d678dcb9c3": {
     "model_module": "@jupyter-widgets/controls",
     "model_name": "DescriptionStyleModel",
     "state": {
      "_model_module": "@jupyter-widgets/controls",
      "_model_module_version": "1.5.0",
      "_model_name": "DescriptionStyleModel",
      "_view_count": null,
      "_view_module": "@jupyter-widgets/base",
      "_view_module_version": "1.2.0",
      "_view_name": "StyleView",
      "description_width": ""
     }
    },
    "f9a94ec0a95a435b8f58cc67994099f7": {
     "model_module": "@jupyter-widgets/controls",
     "model_name": "HBoxModel",
     "state": {
      "_dom_classes": [],
      "_model_module": "@jupyter-widgets/controls",
      "_model_module_version": "1.5.0",
      "_model_name": "HBoxModel",
      "_view_count": null,
      "_view_module": "@jupyter-widgets/controls",
      "_view_module_version": "1.5.0",
      "_view_name": "HBoxView",
      "box_style": "",
      "children": [
       "IPY_MODEL_6d8e4de69163477891b6636d869f6e4e",
       "IPY_MODEL_27a5fef432d24131b2678f9cf5906a4f"
      ],
      "layout": "IPY_MODEL_782ab18684dd4f36a403d180138e8f1d"
     }
    }
   }
  }
 },
 "nbformat": 4,
 "nbformat_minor": 2
}
