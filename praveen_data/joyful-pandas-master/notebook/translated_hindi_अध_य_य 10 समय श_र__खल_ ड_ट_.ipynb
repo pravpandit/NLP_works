{
 "cells": [
  {
   "cell_type": "markdown",
   "metadata": {},
   "source": [
    "<केंद्र><h1>अध्याय 10 समय श्रृंखला डेटा</h1></केंद्र>"
   ]
  },
  {
   "cell_type": "code",
   "execution_count": 1,
   "metadata": {},
   "outputs": [],
   "source": [
    "import numpy as np\n",
    "import pandas as pd"
   ]
  },
  {
   "cell_type": "markdown",
   "metadata": {},
   "source": [
    "## 1. समय श्रृंखला में मूल वस्तुएँ\n",
    "\n",
    "समय श्रृंखला की अवधारणा दैनिक जीवन में बहुत आम है, लेकिन एक विशिष्ट समय श्रृंखला घटना के लिए, इसे कई समय वस्तुओं के परिप्रेक्ष्य से वर्णित किया जा सकता है। उदाहरण के लिए, आपको सोमवार, 7 सितंबर, 2020 को सुबह 8 बजे कक्षा में जाना होगा। यह कक्षा उस दिन सुबह 10 बजे समाप्त होगी। इसमें समय की कौन सी अवधारणाएँ शामिल हैं?\n",
    "\n",
    "* सबसे पहले, दिनांक समय की अवधारणा दिखाई देगी, अर्थात, '2020-9-7 08:00:00' और '2020-9-7 10:00:00' के दो समय बिंदु क्रमशः वर्ग और का प्रतिनिधित्व करते हैं। कक्षा से बाहर निकलने का समय समाप्त होता है, जिसे 'पांडा' में 'टाइमस्टैम्प' कहा जाता है। उसी समय, टाइमस्टैम्प की एक श्रृंखला एक `DatetimeIndex` बना सकती है, और इसे `Series` में रखने के बाद, `Series` का प्रकार `datetime64[ns]` हो जाता है, या यदि कोई समय क्षेत्र शामिल होता है, तो यह है `datetime64[ns, tz]`, जहां tz टाइमज़ोन का संक्षिप्त रूप है।\n",
    "\n",
    "* दूसरा, समय डेल्टा की अवधारणा प्रकट होगी, अर्थात, कक्षा के लिए आवश्यक समय दो `टाइमस्टैम्प` के बीच के अंतर के परिणामस्वरूप समय का अंतर होगा, जिसे पांडा में `टाइमडेल्टा` द्वारा दर्शाया गया है। इसी तरह, समय के अंतर की एक श्रृंखला `टाइमडेल्टाइंडेक्स` का गठन करती है, और इसे `सीरीज़` में रखने के बाद, `सीरीज़` का वर्गप्रकार `timedelta64[ns]` हो जाता है।\n",
    "\n",
    "* तीसरा, समय अवधि की अवधारणा सामने आएगी, यानी कक्षाएं 8 बजे से 10 बजे तक जारी रहेंगी, जिसे `पांडा` में `अवधि` द्वारा दर्शाया गया है। इसी प्रकार, समय अवधि की एक श्रृंखला `PeriodIndex` बनाती है, और इसे `Series` में रखने के बाद, `Series` का प्रकार `Period` हो जाता है।\n",
    "\n",
    "* चौथा, दिनांक ऑफसेट की अवधारणा दिखाई देगी। मान लीजिए कि आपको केवल यह पता है कि आपको सितंबर के पहले सोमवार को सुबह 8 बजे कक्षा में जाना है, लेकिन विशिष्ट तिथि नहीं पता है, तो आपको इस प्रकार की आवश्यकता को संभालने के लिए एक प्रकार की आवश्यकता होगी। . दूसरे उदाहरण के लिए, यदि आप जानना चाहते हैं कि 7 सितंबर, 2020 के बाद 30वां कार्य दिवस कौन सा है, तो समय का अंतर आपकी समस्या का समाधान नहीं कर सकता है, इसलिए 'पांडा' में 'DateOffset' दिखाई देता है। साथ ही, 'पांडा' में समय ऑफसेट के कॉलम के लिए विशेष रूप से डिज़ाइन किया गया कोई भंडारण प्रकार नहीं है, क्योंकि मांग बल्कि अजीब है, हमें केवल एक एकीकृत विशेष तिथि ऑफसेट बनाने की आवश्यकता है समय सुविधाओं के एक बैच के लिए.\n",
    "\n",
    "इस सरल उदाहरण के माध्यम से, आप आधिकारिक दस्तावेज़ (https://pandas.pydata.org/docs/user_guide/timeseries.html#overview) में इस [तालिका] को आसानी से सारांशित कर सकते हैं:|संकल्पना |. एकल तत्व प्रकार |. सरणी प्रकार |\n",
    "|:----------|:----------|:-----------|:---------- |\n",
    "| दिनांक समय | `टाइमस्टैम्प` | `डेटटाइमइंडेक्स` | `डेटटाइम64[एनएस]`|\n",
    "|समय डेल्टा |. `टाइमडेल्टा` |. `टाइमडेल्टा64[एनएस]`|\n",
    "|समय अवधि |. `पीरियडइंडेक्स` |\n",
    "|दिनांक ऑफसेट | `दिनांकऑफसेट`| `कोई नहीं` | `कोई नहीं`|\n",
    "\n",
    "चूँकि समयावधि वस्तु `पीरियड/पीरियडइंडेक्स` की उपयोग आवृत्ति अधिक नहीं है, इसलिए हम इसकी व्याख्या नहीं करेंगे, लेकिन केवल टाइमस्टैम्प अनुक्रम, समय अंतर अनुक्रम और दिनांक ऑफसेट के बारे में संबंधित सामग्री की व्याख्या करेंगे।\n",
    "\n",
    "## 2. टाइमस्टैम्प\n",
    "### 1. टाइमस्टैम्प का निर्माण और गुण\n",
    "\n",
    "एकल टाइमस्टैम्प का निर्माण `pd.Timestamp` का उपयोग करके कार्यान्वित किया जाता है, और आम तौर पर सामान्य दिनांक प्रारूपों को सफलतापूर्वक परिवर्तित किया जा सकता है:"
   ]
  },
  {
   "cell_type": "code",
   "execution_count": 2,
   "metadata": {},
   "outputs": [
    {
     "data": {
      "text/plain": [
       "Timestamp('2020-01-01 00:00:00')"
      ]
     },
     "execution_count": 2,
     "metadata": {},
     "output_type": "execute_result"
    }
   ],
   "source": [
    "ts = pd.Timestamp('2020/1/1')\n",
    "ts"
   ]
  },
  {
   "cell_type": "code",
   "execution_count": 3,
   "metadata": {},
   "outputs": [
    {
     "data": {
      "text/plain": [
       "Timestamp('2020-01-01 08:10:30')"
      ]
     },
     "execution_count": 3,
     "metadata": {},
     "output_type": "execute_result"
    }
   ],
   "source": [
    "ts = pd.Timestamp('2020-1-1 08:10:30')\n",
    "ts"
   ]
  },
  {
   "cell_type": "markdown",
   "metadata": {},
   "source": [
    "विशिष्ट मान `वर्ष, माह, दिन, घंटा, मिनट, सेकंड` के माध्यम से प्राप्त किए जा सकते हैं:"
   ]
  },
  {
   "cell_type": "code",
   "execution_count": 4,
   "metadata": {},
   "outputs": [
    {
     "data": {
      "text/plain": [
       "2020"
      ]
     },
     "execution_count": 4,
     "metadata": {},
     "output_type": "execute_result"
    }
   ],
   "source": [
    "ts.year"
   ]
  },
  {
   "cell_type": "code",
   "execution_count": 5,
   "metadata": {},
   "outputs": [
    {
     "data": {
      "text/plain": [
       "1"
      ]
     },
     "execution_count": 5,
     "metadata": {},
     "output_type": "execute_result"
    }
   ],
   "source": [
    "ts.month"
   ]
  },
  {
   "cell_type": "code",
   "execution_count": 6,
   "metadata": {},
   "outputs": [
    {
     "data": {
      "text/plain": [
       "1"
      ]
     },
     "execution_count": 6,
     "metadata": {},
     "output_type": "execute_result"
    }
   ],
   "source": [
    "ts.day"
   ]
  },
  {
   "cell_type": "code",
   "execution_count": 7,
   "metadata": {},
   "outputs": [
    {
     "data": {
      "text/plain": [
       "8"
      ]
     },
     "execution_count": 7,
     "metadata": {},
     "output_type": "execute_result"
    }
   ],
   "source": [
    "ts.hour"
   ]
  },
  {
   "cell_type": "code",
   "execution_count": 8,
   "metadata": {},
   "outputs": [
    {
     "data": {
      "text/plain": [
       "10"
      ]
     },
     "execution_count": 8,
     "metadata": {},
     "output_type": "execute_result"
    }
   ],
   "source": [
    "ts.minute"
   ]
  },
  {
   "cell_type": "code",
   "execution_count": 9,
   "metadata": {},
   "outputs": [
    {
     "data": {
      "text/plain": [
       "30"
      ]
     },
     "execution_count": 9,
     "metadata": {},
     "output_type": "execute_result"
    }
   ],
   "source": [
    "ts.second"
   ]
  },
  {
   "cell_type": "markdown",
   "metadata": {},
   "source": [
    "`पांडा` में, टाइमस्टैम्प की न्यूनतम सटीकता नैनोसेकंड `ns` है क्योंकि 64-बिट स्टोरेज का उपयोग किया जाता है, प्रतिनिधित्व योग्य समय सीमा की गणना लगभग निम्नानुसार की जा सकती है:\n",
    "$$\\rm समय\\,सीमा = \\frac{2^{64}}{10^9\\गुना 60\\गुना 60\\गुना 24\\गुना 365} \\लगभग 585 (वर्ष)$$\n",
    "टाइमस्टैम्प द्वारा दर्शाई गई सीमा `pd.Timestamp.max` और `pd.Timestamp.min` के माध्यम से प्राप्त की जा सकती है, और आप देख सकते हैं कि अंतराल द्वारा दर्शाई गई वर्षों की वास्तविक संख्या ऊपर की गणना के अनुसार है:"
   ]
  },
  {
   "cell_type": "code",
   "execution_count": 10,
   "metadata": {},
   "outputs": [
    {
     "data": {
      "text/plain": [
       "Timestamp('2262-04-11 23:47:16.854775807')"
      ]
     },
     "execution_count": 10,
     "metadata": {},
     "output_type": "execute_result"
    }
   ],
   "source": [
    "pd.Timestamp.max"
   ]
  },
  {
   "cell_type": "code",
   "execution_count": 11,
   "metadata": {},
   "outputs": [
    {
     "data": {
      "text/plain": [
       "Timestamp('1677-09-21 00:12:43.145225')"
      ]
     },
     "execution_count": 11,
     "metadata": {},
     "output_type": "execute_result"
    }
   ],
   "source": [
    "pd.Timestamp.min"
   ]
  },
  {
   "cell_type": "code",
   "execution_count": 12,
   "metadata": {},
   "outputs": [
    {
     "data": {
      "text/plain": [
       "585"
      ]
     },
     "execution_count": 12,
     "metadata": {},
     "output_type": "execute_result"
    }
   ],
   "source": [
    "pd.Timestamp.max.year - pd.Timestamp.min.year"
   ]
  },
  {
   "cell_type": "markdown",
   "metadata": {},
   "source": [
    "### 2. दिनांक समय अनुक्रम का निर्माण\n",
    "\n",
    "टाइमस्टैम्प का एक सेट एक समय श्रृंखला बना सकता है, जिसे `to_datetime` और `date_range` का उपयोग करके उत्पन्न किया जा सकता है। उनमें से, `to_datetime` टाइमस्टैम्प प्रारूप में वस्तुओं की एक सूची को `datetime64[ns]` प्रकार की समय श्रृंखला में परिवर्तित कर सकता है:"
   ]
  },
  {
   "cell_type": "code",
   "execution_count": 13,
   "metadata": {},
   "outputs": [
    {
     "data": {
      "text/plain": [
       "0   2019-10-05\n",
       "1   2019-09-04\n",
       "2   2019-09-12\n",
       "3   2020-01-03\n",
       "4   2019-11-06\n",
       "Name: Test_Date, dtype: datetime64[ns]"
      ]
     },
     "execution_count": 13,
     "metadata": {},
     "output_type": "execute_result"
    }
   ],
   "source": [
    "pd.to_datetime(['2020-1-1', '2020-1-3', '2020-1-6'])\n",
    "df = pd.read_csv('../data/learn_pandas.csv')\n",
    "s = pd.to_datetime(df.Test_Date)\n",
    "s.head()"
   ]
  },
  {
   "cell_type": "markdown",
   "metadata": {},
   "source": [
    "दुर्लभ मामलों में, जब टाइमस्टैम्प का प्रारूप रूपांतरण को संतुष्ट नहीं करता है, तो आप मिलान के लिए `प्रारूप` के उपयोग को बाध्य कर सकते हैं:"
   ]
  },
  {
   "cell_type": "code",
   "execution_count": 14,
   "metadata": {},
   "outputs": [
    {
     "data": {
      "text/plain": [
       "DatetimeIndex(['2020-01-01', '2020-01-03'], dtype='datetime64[ns]', freq=None)"
      ]
     },
     "execution_count": 14,
     "metadata": {},
     "output_type": "execute_result"
    }
   ],
   "source": [
    "temp = pd.to_datetime(['2020\\\\1\\\\1','2020\\\\1\\\\3'],format='%Y\\\\%m\\\\%d')\n",
    "temp"
   ]
  },
  {
   "cell_type": "markdown",
   "metadata": {},
   "source": [
    "ध्यान दें कि चूँकि उपरोक्त `पांडा` के अंदर `श्रृंखला` के बजाय एक सूची है, जो लौटाया गया है वह `DatetimeIndex` है। यदि आप इसे `datetime64[ns]` के अनुक्रम में परिवर्तित करना चाहते हैं, तो आपको स्पष्ट रूप से `का उपयोग करना होगा। इसे परिवर्तित करने के लिए श्रृंखला`:"
   ]
  },
  {
   "cell_type": "code",
   "execution_count": 15,
   "metadata": {},
   "outputs": [
    {
     "data": {
      "text/plain": [
       "0   2020-01-01\n",
       "1   2020-01-03\n",
       "dtype: datetime64[ns]"
      ]
     },
     "execution_count": 15,
     "metadata": {},
     "output_type": "execute_result"
    }
   ],
   "source": [
    "pd.Series(temp).head()"
   ]
  },
  {
   "cell_type": "markdown",
   "metadata": {},
   "source": [
    "इसके अलावा, एक `to_datetime` ऑपरेशन भी है जो एक तालिका के कई कॉलम समय विशेषताओं को एक समय श्रृंखला में जोड़ता है। इस समय कॉलम का नाम निम्नलिखित दिए गए समय कीवर्ड कॉलम नाम के अनुरूप होना चाहिए:"
   ]
  },
  {
   "cell_type": "code",
   "execution_count": 16,
   "metadata": {},
   "outputs": [
    {
     "data": {
      "text/plain": [
       "0   2020-01-01 10:30:20\n",
       "1   2020-01-02 20:50:40\n",
       "dtype: datetime64[ns]"
      ]
     },
     "execution_count": 16,
     "metadata": {},
     "output_type": "execute_result"
    }
   ],
   "source": [
    "df_date_cols = pd.DataFrame({'year': [2020, 2020],\n",
    "                             'month': [1, 1],\n",
    "                             'day': [1, 2],\n",
    "                             'hour': [10, 20],\n",
    "                             'minute': [30, 50],\n",
    "                             'second': [20, 40]})\n",
    "pd.to_datetime(df_date_cols)"
   ]
  },
  {
   "cell_type": "markdown",
   "metadata": {},
   "source": [
    "`date_range` निरंतर अंतराल समय उत्पन्न करने की एक विधि है। इसके महत्वपूर्ण पैरामीटर `प्रारंभ, अंत, आवृत्ति, अवधि` हैं, जो क्रमशः प्रारंभ समय, समाप्ति समय, समय अंतराल और टाइमस्टैम्प की संख्या का प्रतिनिधित्व करते हैं। उनमें से, यदि चार में से तीन पैरामीटर निर्धारित किए जाते हैं, तो शेष एक को तदनुसार निर्धारित किया जाएगा। यहां ध्यान दें कि यदि इसे समापन बिंदु के रूप में उपयोग किया जाता है तो प्रारंभ या समाप्ति तिथि शामिल की जाएगी:"
   ]
  },
  {
   "cell_type": "code",
   "execution_count": 17,
   "metadata": {},
   "outputs": [
    {
     "data": {
      "text/plain": [
       "DatetimeIndex(['2020-01-01', '2020-01-11', '2020-01-21'], dtype='datetime64[ns]', freq='10D')"
      ]
     },
     "execution_count": 17,
     "metadata": {},
     "output_type": "execute_result"
    }
   ],
   "source": [
    "pd.date_range('2020-1-1','2020-1-21', freq='10D') # 包含"
   ]
  },
  {
   "cell_type": "code",
   "execution_count": 18,
   "metadata": {},
   "outputs": [
    {
     "data": {
      "text/plain": [
       "DatetimeIndex(['2020-01-01', '2020-01-11', '2020-01-21', '2020-01-31',\n",
       "               '2020-02-10', '2020-02-20'],\n",
       "              dtype='datetime64[ns]', freq='10D')"
      ]
     },
     "execution_count": 18,
     "metadata": {},
     "output_type": "execute_result"
    }
   ],
   "source": [
    "pd.date_range('2020-1-1','2020-2-28', freq='10D')"
   ]
  },
  {
   "cell_type": "code",
   "execution_count": 19,
   "metadata": {},
   "outputs": [
    {
     "data": {
      "text/plain": [
       "DatetimeIndex(['2020-01-01 00:00:00', '2020-01-12 14:24:00',\n",
       "               '2020-01-24 04:48:00', '2020-02-04 19:12:00',\n",
       "               '2020-02-16 09:36:00', '2020-02-28 00:00:00'],\n",
       "              dtype='datetime64[ns]', freq=None)"
      ]
     },
     "execution_count": 19,
     "metadata": {},
     "output_type": "execute_result"
    }
   ],
   "source": [
    "pd.date_range('2020-1-1', '2020-2-28', periods=6) # 由于结束日期无法取到，freq不为10天"
   ]
  },
  {
   "cell_type": "markdown",
   "metadata": {},
   "source": [
    "यहां `freq` पैरामीटर `DateOffset` ऑब्जेक्ट से निकटता से संबंधित है, और इसका विशिष्ट उपयोग धारा 4 में पेश किया जाएगा।\n",
    "#### [अभ्यास]\n",
    "`टाइमस्टैम्प` पर एक `मान` विशेषता परिभाषित की गई है। लौटाया गया पूर्णांक मान 1 जनवरी, 1970 को शून्य बजे से दिए गए टाइमस्टैम्प तक नैनोसेकंड की संख्या का प्रतिनिधित्व करता है। कृपया इस विशेषता का उपयोग यादृच्छिक रूप से उत्पन्न दिनांक अंतराल के निर्माण के लिए करें दिनांक अनुक्रम के अंतर्गत.\n",
    "#### 【अंत】\n",
    "अंत में, हम एक अनुक्रम `asfreq` की नमूना आवृत्ति को बदलने की एक विधि पेश करेंगे, जो किसी दिए गए `freq` के आधार पर अनुक्रम पर `reindex` के समान संचालन कर सकता है:"
   ]
  },
  {
   "cell_type": "code",
   "execution_count": 20,
   "metadata": {},
   "outputs": [
    {
     "data": {
      "text/plain": [
       "2020-01-01    0.393911\n",
       "2020-01-03    0.703650\n",
       "2020-01-05    0.650046\n",
       "2020-01-07    0.726203\n",
       "2020-01-09    0.126783\n",
       "dtype: float64"
      ]
     },
     "execution_count": 20,
     "metadata": {},
     "output_type": "execute_result"
    }
   ],
   "source": [
    "s = pd.Series(np.random.rand(5), index=pd.to_datetime(['2020-1-%d'%i for i in range(1,10,2)]))\n",
    "s.head()"
   ]
  },
  {
   "cell_type": "code",
   "execution_count": 21,
   "metadata": {},
   "outputs": [
    {
     "data": {
      "text/plain": [
       "2020-01-01    0.393911\n",
       "2020-01-02         NaN\n",
       "2020-01-03    0.703650\n",
       "2020-01-04         NaN\n",
       "2020-01-05    0.650046\n",
       "Freq: D, dtype: float64"
      ]
     },
     "execution_count": 21,
     "metadata": {},
     "output_type": "execute_result"
    }
   ],
   "source": [
    "s.asfreq('D').head()"
   ]
  },
  {
   "cell_type": "code",
   "execution_count": 22,
   "metadata": {},
   "outputs": [
    {
     "data": {
      "text/plain": [
       "2020-01-01 00:00:00    0.393911\n",
       "2020-01-01 12:00:00         NaN\n",
       "2020-01-02 00:00:00         NaN\n",
       "2020-01-02 12:00:00         NaN\n",
       "2020-01-03 00:00:00    0.703650\n",
       "Freq: 12H, dtype: float64"
      ]
     },
     "execution_count": 22,
     "metadata": {},
     "output_type": "execute_result"
    }
   ],
   "source": [
    "s.asfreq('12H').head()"
   ]
  },
  {
   "cell_type": "markdown",
   "metadata": {},
   "source": [
    "####【टिप्पणी】\n",
    "जैसा कि पहले उल्लेख किया गया है, `datetime64[ns]` को अनिवार्य रूप से एक बड़े पूर्णांक के रूप में समझा जा सकता है, इस प्रकार के अनुक्रम के लिए, आप अधिकतम टाइमस्टैम्प, न्यूनतम टाइमस्टैम्प और \"औसत\" टाइमस्टैम्प प्राप्त करने के लिए `max, min, औसत` का उपयोग कर सकते हैं। .\n",
    "#### 【अंत】\n",
    "### 3. डीटी ऑब्जेक्ट\n",
    "\n",
    "जैसे श्रेणीगत डेटा और टेक्स्ट डेटा के संचालन को पूरा करने के लिए 'कैट, स्ट्र' को 'श्रेणी, स्ट्रिंग' के अनुक्रम पर परिभाषित किया गया है, वैसे ही 'डीटी' ऑब्जेक्ट को कई समय श्रृंखला से संबंधित संचालन को पूरा करने के लिए समय श्रृंखला प्रकार के अनुक्रम पर परिभाषित किया गया है। . यहां, `datetime64[ns]` प्रकार के लिए, इसे मोटे तौर पर तीन प्रकार के ऑपरेशनों में विभाजित किया जा सकता है: समय-संबंधित विशेषताओं को निकालना, यह निर्धारित करना कि टाइमस्टैम्प शर्तों को पूरा करता है या नहीं, और राउंडिंग ऑपरेशन।\n",
    "\n",
    "पहले प्रकार के ऑपरेशन की सामान्य विशेषताओं में शामिल हैं: `दिनांक, समय, वर्ष, महीना, दिन, घंटा, मिनट, दूसरा, माइक्रोसेकंड, नैनोसेकंड, सप्ताह का दिन, वर्ष का दिन, सप्ताह का वर्ष, माह का दिन, तिमाही`, जहां क्रमशः `दिनों का महीना, तिमाही` का प्रतिनिधित्व होता है A महीने में दिन और तिमाही होते हैं।"
   ]
  },
  {
   "cell_type": "code",
   "execution_count": 23,
   "metadata": {},
   "outputs": [
    {
     "data": {
      "text/plain": [
       "0    2020-01-01\n",
       "1    2020-01-02\n",
       "2    2020-01-03\n",
       "dtype: object"
      ]
     },
     "execution_count": 23,
     "metadata": {},
     "output_type": "execute_result"
    }
   ],
   "source": [
    "s = pd.Series(pd.date_range('2020-1-1','2020-1-3', freq='D'))\n",
    "s.dt.date"
   ]
  },
  {
   "cell_type": "code",
   "execution_count": 24,
   "metadata": {},
   "outputs": [
    {
     "data": {
      "text/plain": [
       "0    00:00:00\n",
       "1    00:00:00\n",
       "2    00:00:00\n",
       "dtype: object"
      ]
     },
     "execution_count": 24,
     "metadata": {},
     "output_type": "execute_result"
    }
   ],
   "source": [
    "s.dt.time"
   ]
  },
  {
   "cell_type": "code",
   "execution_count": 25,
   "metadata": {},
   "outputs": [
    {
     "data": {
      "text/plain": [
       "0    1\n",
       "1    2\n",
       "2    3\n",
       "dtype: int64"
      ]
     },
     "execution_count": 25,
     "metadata": {},
     "output_type": "execute_result"
    }
   ],
   "source": [
    "s.dt.day"
   ]
  },
  {
   "cell_type": "code",
   "execution_count": 26,
   "metadata": {},
   "outputs": [
    {
     "data": {
      "text/plain": [
       "0    31\n",
       "1    31\n",
       "2    31\n",
       "dtype: int64"
      ]
     },
     "execution_count": 26,
     "metadata": {},
     "output_type": "execute_result"
    }
   ],
   "source": [
    "s.dt.daysinmonth"
   ]
  },
  {
   "cell_type": "markdown",
   "metadata": {},
   "source": [
    "इन विशेषताओं में, सबसे अधिक उपयोग किया जाने वाला `dayofweek` है, जो सप्ताह का दिन लौटाता है, सोमवार को 0, मंगलवार को 1, और इसी तरह:"
   ]
  },
  {
   "cell_type": "code",
   "execution_count": 27,
   "metadata": {},
   "outputs": [
    {
     "data": {
      "text/plain": [
       "0    2\n",
       "1    3\n",
       "2    4\n",
       "dtype: int64"
      ]
     },
     "execution_count": 27,
     "metadata": {},
     "output_type": "execute_result"
    }
   ],
   "source": [
    "s.dt.dayofweek"
   ]
  },
  {
   "cell_type": "markdown",
   "metadata": {},
   "source": [
    "इसके अलावा, आप `month_name,day_name` के माध्यम से अंग्रेजी महीने का नाम और सप्ताह का नाम वापस कर सकते हैं। ध्यान दें कि वे विशेषताएँ नहीं बल्कि विधियाँ हैं:"
   ]
  },
  {
   "cell_type": "code",
   "execution_count": 28,
   "metadata": {},
   "outputs": [
    {
     "data": {
      "text/plain": [
       "0    January\n",
       "1    January\n",
       "2    January\n",
       "dtype: object"
      ]
     },
     "execution_count": 28,
     "metadata": {},
     "output_type": "execute_result"
    }
   ],
   "source": [
    "s.dt.month_name()"
   ]
  },
  {
   "cell_type": "code",
   "execution_count": 29,
   "metadata": {},
   "outputs": [
    {
     "data": {
      "text/plain": [
       "0    Wednesday\n",
       "1     Thursday\n",
       "2       Friday\n",
       "dtype: object"
      ]
     },
     "execution_count": 29,
     "metadata": {},
     "output_type": "execute_result"
    }
   ],
   "source": [
    "s.dt.day_name()"
   ]
  },
  {
   "cell_type": "markdown",
   "metadata": {},
   "source": [
    "दूसरे प्रकार के निर्णय ऑपरेशन का उपयोग मुख्य रूप से यह जांचने के लिए किया जाता है कि यह महीने/तिमाही/वर्ष का पहला या आखिरी दिन है:"
   ]
  },
  {
   "cell_type": "code",
   "execution_count": 30,
   "metadata": {},
   "outputs": [
    {
     "data": {
      "text/plain": [
       "0     True\n",
       "1    False\n",
       "2    False\n",
       "dtype: bool"
      ]
     },
     "execution_count": 30,
     "metadata": {},
     "output_type": "execute_result"
    }
   ],
   "source": [
    "s.dt.is_year_start # 还可选 is_quarter/month_start"
   ]
  },
  {
   "cell_type": "code",
   "execution_count": 31,
   "metadata": {},
   "outputs": [
    {
     "data": {
      "text/plain": [
       "0    False\n",
       "1    False\n",
       "2    False\n",
       "dtype: bool"
      ]
     },
     "execution_count": 31,
     "metadata": {},
     "output_type": "execute_result"
    }
   ],
   "source": [
    "s.dt.is_year_end # 还可选 is_quarter/month_end"
   ]
  },
  {
   "cell_type": "markdown",
   "metadata": {},
   "source": [
    "तीसरे प्रकार के राउंडिंग ऑपरेशन में `राउंड, सील, फ़्लोर` शामिल हैं, उनका सामान्य पैरामीटर `फ़्रीक` है, आमतौर पर उपयोग किए जाने वाले में `एच, मिनट, एस` (घंटे, मिनट, सेकंड) शामिल हैं, सभी वैकल्पिक `फ़्रीक` कृपया देखें [यहां](https://pandas.pydata.org/docs/user_guide/timeseries.html#offset-aliases>)।"
   ]
  },
  {
   "cell_type": "code",
   "execution_count": 32,
   "metadata": {},
   "outputs": [
    {
     "data": {
      "text/plain": [
       "0   2020-01-01 20:35:00\n",
       "1   2020-01-01 21:20:00\n",
       "2   2020-01-01 22:05:00\n",
       "dtype: datetime64[ns]"
      ]
     },
     "execution_count": 32,
     "metadata": {},
     "output_type": "execute_result"
    }
   ],
   "source": [
    "s = pd.Series(pd.date_range('2020-1-1 20:35:00', '2020-1-1 22:35:00', freq='45min'))\n",
    "s"
   ]
  },
  {
   "cell_type": "code",
   "execution_count": 33,
   "metadata": {},
   "outputs": [
    {
     "data": {
      "text/plain": [
       "0   2020-01-01 21:00:00\n",
       "1   2020-01-01 21:00:00\n",
       "2   2020-01-01 22:00:00\n",
       "dtype: datetime64[ns]"
      ]
     },
     "execution_count": 33,
     "metadata": {},
     "output_type": "execute_result"
    }
   ],
   "source": [
    "s.dt.round('1H')"
   ]
  },
  {
   "cell_type": "code",
   "execution_count": 34,
   "metadata": {},
   "outputs": [
    {
     "data": {
      "text/plain": [
       "0   2020-01-01 21:00:00\n",
       "1   2020-01-01 22:00:00\n",
       "2   2020-01-01 23:00:00\n",
       "dtype: datetime64[ns]"
      ]
     },
     "execution_count": 34,
     "metadata": {},
     "output_type": "execute_result"
    }
   ],
   "source": [
    "s.dt.ceil('1H')"
   ]
  },
  {
   "cell_type": "code",
   "execution_count": 35,
   "metadata": {},
   "outputs": [
    {
     "data": {
      "text/plain": [
       "0   2020-01-01 20:00:00\n",
       "1   2020-01-01 21:00:00\n",
       "2   2020-01-01 22:00:00\n",
       "dtype: datetime64[ns]"
      ]
     },
     "execution_count": 35,
     "metadata": {},
     "output_type": "execute_result"
    }
   ],
   "source": [
    "s.dt.floor('1H')"
   ]
  },
  {
   "cell_type": "markdown",
   "metadata": {},
   "source": [
    "### 4. टाइमस्टैम्प स्लाइसिंग और इंडेक्सिंग\n",
    "\n",
    "सामान्यतया, टाइमस्टैम्प अनुक्रम का उपयोग एक सूचकांक के रूप में किया जाता है। यदि आप एक निश्चित उप-टाइमस्टैम्प अनुक्रम का चयन करना चाहते हैं, तो पहली विधि बूलियन स्थिति के साथ संयोजन में `dt` ऑब्जेक्ट का उपयोग करना है। दूसरा तरीका स्लाइसिंग का उपयोग करना है, जिसका उपयोग अक्सर निरंतर टाइमस्टैम्प के लिए किया जाता है। यहां कुछ उदाहरण दिए गए हैं:"
   ]
  },
  {
   "cell_type": "code",
   "execution_count": 36,
   "metadata": {},
   "outputs": [
    {
     "data": {
      "text/plain": [
       "2020-01-01    0\n",
       "2020-01-02    1\n",
       "2020-01-03    1\n",
       "2020-01-04    0\n",
       "2020-01-05    0\n",
       "Freq: D, dtype: int32"
      ]
     },
     "execution_count": 36,
     "metadata": {},
     "output_type": "execute_result"
    }
   ],
   "source": [
    "s = pd.Series(np.random.randint(2,size=366), index=pd.date_range('2020-01-01','2020-12-31'))\n",
    "idx = pd.Series(s.index).dt\n",
    "s.head()"
   ]
  },
  {
   "cell_type": "markdown",
   "metadata": {},
   "source": [
    "उदाहरण 1: प्रत्येक माह का पहला या आखिरी दिन"
   ]
  },
  {
   "cell_type": "code",
   "execution_count": 37,
   "metadata": {},
   "outputs": [
    {
     "data": {
      "text/plain": [
       "2020-01-01    0\n",
       "2020-01-31    1\n",
       "2020-02-01    1\n",
       "2020-02-29    1\n",
       "2020-03-01    0\n",
       "dtype: int32"
      ]
     },
     "execution_count": 37,
     "metadata": {},
     "output_type": "execute_result"
    }
   ],
   "source": [
    "s[(idx.is_month_start|idx.is_month_end).values].head()"
   ]
  },
  {
   "cell_type": "markdown",
   "metadata": {},
   "source": [
    "उदाहरण2: सप्ताहांत"
   ]
  },
  {
   "cell_type": "code",
   "execution_count": 38,
   "metadata": {},
   "outputs": [
    {
     "data": {
      "text/plain": [
       "2020-01-04    0\n",
       "2020-01-05    0\n",
       "2020-01-11    1\n",
       "2020-01-12    0\n",
       "2020-01-18    0\n",
       "dtype: int32"
      ]
     },
     "execution_count": 38,
     "metadata": {},
     "output_type": "execute_result"
    }
   ],
   "source": [
    "s[idx.dayofweek.isin([5,6]).values].head()"
   ]
  },
  {
   "cell_type": "markdown",
   "metadata": {},
   "source": [
    "उदाहरण3: एक दिन का मूल्य प्राप्त करें"
   ]
  },
  {
   "cell_type": "code",
   "execution_count": 39,
   "metadata": {},
   "outputs": [
    {
     "data": {
      "text/plain": [
       "0"
      ]
     },
     "execution_count": 39,
     "metadata": {},
     "output_type": "execute_result"
    }
   ],
   "source": [
    "s['2020-01-01']"
   ]
  },
  {
   "cell_type": "code",
   "execution_count": 40,
   "metadata": {},
   "outputs": [
    {
     "data": {
      "text/plain": [
       "0"
      ]
     },
     "execution_count": 40,
     "metadata": {},
     "output_type": "execute_result"
    }
   ],
   "source": [
    "s['20200101'] # 自动转换标准格式"
   ]
  },
  {
   "cell_type": "markdown",
   "metadata": {},
   "source": [
    "उदाहरण4: जुलाई निकालें"
   ]
  },
  {
   "cell_type": "code",
   "execution_count": 41,
   "metadata": {},
   "outputs": [
    {
     "data": {
      "text/plain": [
       "2020-07-01    1\n",
       "2020-07-02    1\n",
       "2020-07-03    0\n",
       "2020-07-04    1\n",
       "2020-07-05    0\n",
       "Freq: D, dtype: int32"
      ]
     },
     "execution_count": 41,
     "metadata": {},
     "output_type": "execute_result"
    }
   ],
   "source": [
    "s['2020-07'].head()"
   ]
  },
  {
   "cell_type": "markdown",
   "metadata": {},
   "source": [
    "उदाहरण5: मई की शुरुआत से 15 जुलाई तक की अवधि निकालें"
   ]
  },
  {
   "cell_type": "code",
   "execution_count": 42,
   "metadata": {},
   "outputs": [
    {
     "data": {
      "text/plain": [
       "2020-05-01    1\n",
       "2020-05-02    1\n",
       "2020-05-03    1\n",
       "2020-05-04    1\n",
       "2020-05-05    1\n",
       "Freq: D, dtype: int32"
      ]
     },
     "execution_count": 42,
     "metadata": {},
     "output_type": "execute_result"
    }
   ],
   "source": [
    "s['2020-05':'2020-7-15'].head()"
   ]
  },
  {
   "cell_type": "code",
   "execution_count": 43,
   "metadata": {},
   "outputs": [
    {
     "data": {
      "text/plain": [
       "2020-07-11    1\n",
       "2020-07-12    1\n",
       "2020-07-13    1\n",
       "2020-07-14    1\n",
       "2020-07-15    1\n",
       "Freq: D, dtype: int32"
      ]
     },
     "execution_count": 43,
     "metadata": {},
     "output_type": "execute_result"
    }
   ],
   "source": [
    "s['2020-05':'2020-7-15'].tail()"
   ]
  },
  {
   "cell_type": "markdown",
   "metadata": {},
   "source": [
    "## 3. समय का अंतर\n",
    "### 1. टाइमडेल्टा की उत्पत्ति\n",
    "\n",
    "जैसा कि पहले खंड में बताया गया है, समय के अंतर को दो टाइमस्टैम्प के बीच के अंतर के रूप में समझा जा सकता है, जिसे `pd.Timedelta` के माध्यम से भी बनाया जा सकता है:"
   ]
  },
  {
   "cell_type": "code",
   "execution_count": 44,
   "metadata": {},
   "outputs": [
    {
     "data": {
      "text/plain": [
       "Timedelta('1 days 00:25:00')"
      ]
     },
     "execution_count": 44,
     "metadata": {},
     "output_type": "execute_result"
    }
   ],
   "source": [
    "pd.Timestamp('20200102 08:00:00')-pd.Timestamp('20200101 07:35:00')"
   ]
  },
  {
   "cell_type": "code",
   "execution_count": 45,
   "metadata": {},
   "outputs": [
    {
     "data": {
      "text/plain": [
       "Timedelta('1 days 00:25:00')"
      ]
     },
     "execution_count": 45,
     "metadata": {},
     "output_type": "execute_result"
    }
   ],
   "source": [
    "pd.Timedelta(days=1, minutes=25) # 需要注意加s"
   ]
  },
  {
   "cell_type": "code",
   "execution_count": 46,
   "metadata": {},
   "outputs": [
    {
     "data": {
      "text/plain": [
       "Timedelta('1 days 00:25:00')"
      ]
     },
     "execution_count": 46,
     "metadata": {},
     "output_type": "execute_result"
    }
   ],
   "source": [
    "pd.Timedelta('1 days 25 minutes') # 字符串生成"
   ]
  },
  {
   "cell_type": "markdown",
   "metadata": {},
   "source": [
    "समय अंतर अनुक्रम उत्पन्न करने का मुख्य तरीका `pd.to_timedelta` है, जिसका प्रकार `timedelta64[ns]` है:"
   ]
  },
  {
   "cell_type": "code",
   "execution_count": 47,
   "metadata": {},
   "outputs": [
    {
     "data": {
      "text/plain": [
       "0   0 days 00:04:34\n",
       "1   0 days 00:04:20\n",
       "2   0 days 00:05:22\n",
       "3   0 days 00:04:08\n",
       "4   0 days 00:05:22\n",
       "Name: Time_Record, dtype: timedelta64[ns]"
      ]
     },
     "execution_count": 47,
     "metadata": {},
     "output_type": "execute_result"
    }
   ],
   "source": [
    "s = pd.to_timedelta(df.Time_Record)\n",
    "s.head()"
   ]
  },
  {
   "cell_type": "markdown",
   "metadata": {},
   "source": [
    "`date_range` की तरह, `timedelta_range` का उपयोग करके समय अंतर श्रृंखला भी उत्पन्न की जा सकती है, दोनों के पैरामीटर समान हैं:"
   ]
  },
  {
   "cell_type": "code",
   "execution_count": 48,
   "metadata": {},
   "outputs": [
    {
     "data": {
      "text/plain": [
       "TimedeltaIndex(['0 days 00:00:00', '0 days 00:06:00', '0 days 00:12:00'], dtype='timedelta64[ns]', freq='6T')"
      ]
     },
     "execution_count": 48,
     "metadata": {},
     "output_type": "execute_result"
    }
   ],
   "source": [
    "pd.timedelta_range('0s', '1000s', freq='6min')"
   ]
  },
  {
   "cell_type": "code",
   "execution_count": 49,
   "metadata": {},
   "outputs": [
    {
     "data": {
      "text/plain": [
       "TimedeltaIndex(['0 days 00:00:00', '0 days 00:08:20', '0 days 00:16:40'], dtype='timedelta64[ns]', freq=None)"
      ]
     },
     "execution_count": 49,
     "metadata": {},
     "output_type": "execute_result"
    }
   ],
   "source": [
    "pd.timedelta_range('0s', '1000s', periods=3)"
   ]
  },
  {
   "cell_type": "markdown",
   "metadata": {},
   "source": [
    "'टाइमडेल्टा' अनुक्रम के लिए, 'डीटी' ऑब्जेक्ट को भी परिभाषित किया गया है। ऊपर परिभाषित मुख्य विशेषताओं में 'दिन, सेकंड, माइक्रोसेकंड, नैनोसेकंड' शामिल हैं, जो क्रमशः संबंधित समय अंतर विशेषताओं को लौटाते हैं। यह ध्यान दिया जाना चाहिए कि यहां 'सेकंड' का तात्पर्य शुद्ध सेकंड से नहीं है, बल्कि दिनों की शेष संख्या लेने के बाद शेष सेकंड की संख्या से है:"
   ]
  },
  {
   "cell_type": "code",
   "execution_count": 50,
   "metadata": {},
   "outputs": [
    {
     "data": {
      "text/plain": [
       "0    274\n",
       "1    260\n",
       "2    322\n",
       "3    248\n",
       "4    322\n",
       "Name: Time_Record, dtype: int64"
      ]
     },
     "execution_count": 50,
     "metadata": {},
     "output_type": "execute_result"
    }
   ],
   "source": [
    "s.dt.seconds.head()"
   ]
  },
  {
   "cell_type": "markdown",
   "metadata": {},
   "source": [
    "यदि आप शेष दिनों की संख्या नहीं लेना चाहते हैं और सीधे सेकंड की संख्या से मेल खाना चाहते हैं, तो आप `total_thirds` का उपयोग कर सकते हैं"
   ]
  },
  {
   "cell_type": "code",
   "execution_count": 51,
   "metadata": {},
   "outputs": [
    {
     "data": {
      "text/plain": [
       "0    274.0\n",
       "1    260.0\n",
       "2    322.0\n",
       "3    248.0\n",
       "4    322.0\n",
       "Name: Time_Record, dtype: float64"
      ]
     },
     "execution_count": 51,
     "metadata": {},
     "output_type": "execute_result"
    }
   ],
   "source": [
    "s.dt.total_seconds().head()"
   ]
  },
  {
   "cell_type": "markdown",
   "metadata": {},
   "source": [
    "टाइमस्टैम्प अनुक्रमों के समान, राउंडिंग फ़ंक्शंस का उपयोग `dt` ऑब्जेक्ट पर भी किया जा सकता है:"
   ]
  },
  {
   "cell_type": "code",
   "execution_count": 52,
   "metadata": {},
   "outputs": [
    {
     "data": {
      "text/plain": [
       "0   0 days 00:05:00\n",
       "1   0 days 00:04:00\n",
       "2   0 days 00:05:00\n",
       "3   0 days 00:04:00\n",
       "4   0 days 00:05:00\n",
       "Name: Time_Record, dtype: timedelta64[ns]"
      ]
     },
     "execution_count": 52,
     "metadata": {},
     "output_type": "execute_result"
    }
   ],
   "source": [
    "pd.to_timedelta(df.Time_Record).dt.round('min').head()"
   ]
  },
  {
   "cell_type": "markdown",
   "metadata": {},
   "source": [
    "### 2. टाइमडेल्टा ऑपरेशन\n",
    "\n",
    "समय के अंतर द्वारा समर्थित तीन प्रकार के सामान्य ऑपरेशन हैं: स्केलर के साथ गुणा, टाइमस्टैम्प के साथ जोड़ और घटाव, समय के अंतर के साथ जोड़, घटाव और विभाजन:"
   ]
  },
  {
   "cell_type": "code",
   "execution_count": 53,
   "metadata": {},
   "outputs": [
    {
     "data": {
      "text/plain": [
       "Timedelta('2 days 00:00:00')"
      ]
     },
     "execution_count": 53,
     "metadata": {},
     "output_type": "execute_result"
    }
   ],
   "source": [
    "td1 = pd.Timedelta(days=1)\n",
    "td2 = pd.Timedelta(days=3)\n",
    "ts = pd.Timestamp('20200101')\n",
    "td1 * 2"
   ]
  },
  {
   "cell_type": "code",
   "execution_count": 54,
   "metadata": {},
   "outputs": [
    {
     "data": {
      "text/plain": [
       "Timedelta('2 days 00:00:00')"
      ]
     },
     "execution_count": 54,
     "metadata": {},
     "output_type": "execute_result"
    }
   ],
   "source": [
    "td2 - td1"
   ]
  },
  {
   "cell_type": "code",
   "execution_count": 55,
   "metadata": {},
   "outputs": [
    {
     "data": {
      "text/plain": [
       "Timestamp('2020-01-02 00:00:00')"
      ]
     },
     "execution_count": 55,
     "metadata": {},
     "output_type": "execute_result"
    }
   ],
   "source": [
    "ts + td1"
   ]
  },
  {
   "cell_type": "code",
   "execution_count": 56,
   "metadata": {},
   "outputs": [
    {
     "data": {
      "text/plain": [
       "Timestamp('2019-12-31 00:00:00')"
      ]
     },
     "execution_count": 56,
     "metadata": {},
     "output_type": "execute_result"
    }
   ],
   "source": [
    "ts - td1"
   ]
  },
  {
   "cell_type": "markdown",
   "metadata": {},
   "source": [
    "इन परिचालनों को समय अंतर अनुक्रमों में प्रत्यारोपित किया जा सकता है:"
   ]
  },
  {
   "cell_type": "code",
   "execution_count": 57,
   "metadata": {},
   "outputs": [
    {
     "data": {
      "text/plain": [
       "TimedeltaIndex(['5 days', '10 days', '15 days', '20 days', '25 days'], dtype='timedelta64[ns]', freq='5D')"
      ]
     },
     "execution_count": 57,
     "metadata": {},
     "output_type": "execute_result"
    }
   ],
   "source": [
    "td1 = pd.timedelta_range(start='1 days', periods=5)\n",
    "td2 = pd.timedelta_range(start='12 hours', freq='2H', periods=5)\n",
    "ts = pd.date_range('20200101', '20200105')\n",
    "td1 * 5"
   ]
  },
  {
   "cell_type": "code",
   "execution_count": 58,
   "metadata": {},
   "outputs": [
    {
     "data": {
      "text/plain": [
       "0    0 days\n",
       "1    2 days\n",
       "2    6 days\n",
       "3   12 days\n",
       "4   20 days\n",
       "dtype: timedelta64[ns]"
      ]
     },
     "execution_count": 58,
     "metadata": {},
     "output_type": "execute_result"
    }
   ],
   "source": [
    "td1 * pd.Series(list(range(5))) # 逐个相乘"
   ]
  },
  {
   "cell_type": "code",
   "execution_count": 59,
   "metadata": {},
   "outputs": [
    {
     "data": {
      "text/plain": [
       "TimedeltaIndex(['0 days 12:00:00', '1 days 10:00:00', '2 days 08:00:00',\n",
       "                '3 days 06:00:00', '4 days 04:00:00'],\n",
       "               dtype='timedelta64[ns]', freq=None)"
      ]
     },
     "execution_count": 59,
     "metadata": {},
     "output_type": "execute_result"
    }
   ],
   "source": [
    "td1 - td2"
   ]
  },
  {
   "cell_type": "code",
   "execution_count": 60,
   "metadata": {},
   "outputs": [
    {
     "data": {
      "text/plain": [
       "DatetimeIndex(['2020-01-02', '2020-01-03', '2020-01-04', '2020-01-05',\n",
       "               '2020-01-06'],\n",
       "              dtype='datetime64[ns]', freq='D')"
      ]
     },
     "execution_count": 60,
     "metadata": {},
     "output_type": "execute_result"
    }
   ],
   "source": [
    "td1 + pd.Timestamp('20200101')"
   ]
  },
  {
   "cell_type": "code",
   "execution_count": 61,
   "metadata": {},
   "outputs": [
    {
     "data": {
      "text/plain": [
       "DatetimeIndex(['2020-01-02', '2020-01-04', '2020-01-06', '2020-01-08',\n",
       "               '2020-01-10'],\n",
       "              dtype='datetime64[ns]', freq=None)"
      ]
     },
     "execution_count": 61,
     "metadata": {},
     "output_type": "execute_result"
    }
   ],
   "source": [
    "td1 + ts # 逐个相加"
   ]
  },
  {
   "cell_type": "markdown",
   "metadata": {},
   "source": [
    "## 4. दिनांक ऑफसेट\n",
    "### 1. ऑफसेट वस्तु\n",
    "\n",
    "तिथि ऑफसेट कैलेंडर से संबंधित एक विशेष समय अंतर है, उदाहरण के लिए, पहले खंड में दो प्रश्नों पर वापस जाएं: सितंबर 2020 में पहले सोमवार की तारीख कैसे खोजें, और 7 सितंबर के बाद 30 वां दिन कैसे खोजें। 2020 कार्य दिवस कौन सा दिन है?"
   ]
  },
  {
   "cell_type": "code",
   "execution_count": 62,
   "metadata": {},
   "outputs": [
    {
     "data": {
      "text/plain": [
       "Timestamp('2020-09-07 00:00:00')"
      ]
     },
     "execution_count": 62,
     "metadata": {},
     "output_type": "execute_result"
    }
   ],
   "source": [
    "pd.Timestamp('20200831') + pd.offsets.WeekOfMonth(week=0,weekday=0)"
   ]
  },
  {
   "cell_type": "code",
   "execution_count": 63,
   "metadata": {},
   "outputs": [
    {
     "data": {
      "text/plain": [
       "Timestamp('2020-10-19 00:00:00')"
      ]
     },
     "execution_count": 63,
     "metadata": {},
     "output_type": "execute_result"
    }
   ],
   "source": [
    "pd.Timestamp('20200907') + pd.offsets.BDay(30)"
   ]
  },
  {
   "cell_type": "markdown",
   "metadata": {},
   "source": [
    "जैसा कि आप उपरोक्त उदाहरण से देख सकते हैं, `ऑफ़सेट` ऑब्जेक्ट को `pd.offsets` में परिभाषित किया गया है। `+` का उपयोग करते समय अगली निकटतम तिथि प्राप्त करें, और `-` का उपयोग करते समय पिछली पिछली तिथि प्राप्त करें:"
   ]
  },
  {
   "cell_type": "code",
   "execution_count": 64,
   "metadata": {},
   "outputs": [
    {
     "data": {
      "text/plain": [
       "Timestamp('2020-08-03 00:00:00')"
      ]
     },
     "execution_count": 64,
     "metadata": {},
     "output_type": "execute_result"
    }
   ],
   "source": [
    "pd.Timestamp('20200831') - pd.offsets.WeekOfMonth(week=0,weekday=0)"
   ]
  },
  {
   "cell_type": "code",
   "execution_count": 65,
   "metadata": {},
   "outputs": [
    {
     "data": {
      "text/plain": [
       "Timestamp('2020-07-27 00:00:00')"
      ]
     },
     "execution_count": 65,
     "metadata": {},
     "output_type": "execute_result"
    }
   ],
   "source": [
    "pd.Timestamp('20200907') - pd.offsets.BDay(30)"
   ]
  },
  {
   "cell_type": "code",
   "execution_count": 66,
   "metadata": {},
   "outputs": [
    {
     "data": {
      "text/plain": [
       "Timestamp('2020-09-30 00:00:00')"
      ]
     },
     "execution_count": 66,
     "metadata": {},
     "output_type": "execute_result"
    }
   ],
   "source": [
    "pd.Timestamp('20200907') + pd.offsets.MonthEnd()"
   ]
  },
  {
   "cell_type": "markdown",
   "metadata": {},
   "source": [
    "आमतौर पर उपयोग किए जाने वाले दिनांक ऑफसेट का वर्णन नीचे किया गया है। आप यहां [दस्तावेज़](https://pandas.pydata.org/docs/user_guide/timeseries.html#dateoffset-objects) देख सकते हैं। दस्तावेज़ में सूचीबद्ध 'ऑफ़सेट' में, एक विशेष 'ऑफ़सेट' ऑब्जेक्ट 'सीडे' को पेश करने की आवश्यकता है। 'छुट्टियाँ' और वीकमास्क पैरामीटर क्रमशः कस्टम तिथियों और सप्ताहों को फ़िल्टर कर सकते हैं फ़िल्टर की गई सूची, बाद वाले को तीन-अक्षर वाले सप्ताह संक्षिप्ताक्षरों से बनी एक सप्ताह स्ट्रिंग में पारित किया जाता है, और इसका कार्य केवल उन सप्ताहों को बनाए रखना है जो स्ट्रिंग में दिखाई देते हैं:"
   ]
  },
  {
   "cell_type": "code",
   "execution_count": 67,
   "metadata": {},
   "outputs": [
    {
     "data": {
      "text/plain": [
       "2020-01-08    2\n",
       "2020-01-09    3\n",
       "2020-01-10    4\n",
       "2020-01-11    5\n",
       "Freq: D, dtype: int64"
      ]
     },
     "execution_count": 67,
     "metadata": {},
     "output_type": "execute_result"
    }
   ],
   "source": [
    "my_filter = pd.offsets.CDay(n=1,weekmask='Wed Fri',holidays=['20200109'])\n",
    "dr = pd.date_range('20200108', '20200111')\n",
    "dr.to_series().dt.dayofweek"
   ]
  },
  {
   "cell_type": "code",
   "execution_count": 68,
   "metadata": {},
   "outputs": [
    {
     "data": {
      "text/plain": [
       "[Timestamp('2020-01-10 00:00:00'),\n",
       " Timestamp('2020-01-10 00:00:00'),\n",
       " Timestamp('2020-01-15 00:00:00'),\n",
       " Timestamp('2020-01-15 00:00:00')]"
      ]
     },
     "execution_count": 68,
     "metadata": {},
     "output_type": "execute_result"
    }
   ],
   "source": [
    "[i + my_filter for i in dr]"
   ]
  },
  {
   "cell_type": "markdown",
   "metadata": {},
   "source": [
    "उपरोक्त उदाहरण में, `n` का अर्थ है एक दिन `CDay` जोड़ना, `dr` में पहला दिन `20200108` है, लेकिन चूंकि अगले दिन `20200109` को बाहर रखा गया है, और `20200110` एक कानूनी शुक्रवार है, इसलिए कनवर्ट करें `20200110` तक, और अन्य बाद की तारीखें इसी तरह संसाधित की जाती हैं।\n",
    "#### [सावधानी] `ऑफ़सेट` के भाग का उपयोग न करें\n",
    "वर्तमान संस्करण में कुछ ``बग्स'' के कारण, ``दिन'' स्तर से नीचे ``ऑफ़सेट'' ऑब्जेक्ट का उपयोग न करें, जैसे ``घंटा, सेकंड'', आदि, कृपया संबंधित ``का उपयोग करें टाइमडेल्टा`` ऑब्जेक्ट बदलें।\n",
    "#### 【अंत】\n",
    "### 2. ऑफसेट स्ट्रिंग\n",
    "\n",
    "जैसा कि पहले उल्लेख किया गया है, `date_range` का `freq` मान `Offset` ऑब्जेक्ट का उपयोग करके प्राप्त किया जा सकता है। साथ ही, `pandas` में लगभग हर `Offset` ऑब्जेक्ट एक दिनांक ऑफ़सेट स्ट्रिंग (`फ़्रीक्वेंसी स्ट्रिंग्स/) से बंधा होता है। ऑफसेट उपनाम`) आप इसके बजाय उपयोग करने के लिए `ऑफसेट` से संबंधित स्ट्रिंग निर्दिष्ट कर सकते हैं। यहां कुछ सामान्य उदाहरण दिए गए हैं."
   ]
  },
  {
   "cell_type": "code",
   "execution_count": 69,
   "metadata": {},
   "outputs": [
    {
     "data": {
      "text/plain": [
       "DatetimeIndex(['2020-01-01', '2020-02-01', '2020-03-01'], dtype='datetime64[ns]', freq='MS')"
      ]
     },
     "execution_count": 69,
     "metadata": {},
     "output_type": "execute_result"
    }
   ],
   "source": [
    "pd.date_range('20200101','20200331', freq='MS') # 月初"
   ]
  },
  {
   "cell_type": "code",
   "execution_count": 70,
   "metadata": {},
   "outputs": [
    {
     "data": {
      "text/plain": [
       "DatetimeIndex(['2020-01-31', '2020-02-29', '2020-03-31'], dtype='datetime64[ns]', freq='M')"
      ]
     },
     "execution_count": 70,
     "metadata": {},
     "output_type": "execute_result"
    }
   ],
   "source": [
    "pd.date_range('20200101','20200331', freq='M') # 月末"
   ]
  },
  {
   "cell_type": "code",
   "execution_count": 71,
   "metadata": {},
   "outputs": [
    {
     "data": {
      "text/plain": [
       "DatetimeIndex(['2020-01-01', '2020-01-02', '2020-01-03', '2020-01-06',\n",
       "               '2020-01-07', '2020-01-08', '2020-01-09', '2020-01-10'],\n",
       "              dtype='datetime64[ns]', freq='B')"
      ]
     },
     "execution_count": 71,
     "metadata": {},
     "output_type": "execute_result"
    }
   ],
   "source": [
    "pd.date_range('20200101','20200110', freq='B') # 工作日"
   ]
  },
  {
   "cell_type": "code",
   "execution_count": 72,
   "metadata": {},
   "outputs": [
    {
     "data": {
      "text/plain": [
       "DatetimeIndex(['2020-01-06', '2020-01-13', '2020-01-20', '2020-01-27'], dtype='datetime64[ns]', freq='W-MON')"
      ]
     },
     "execution_count": 72,
     "metadata": {},
     "output_type": "execute_result"
    }
   ],
   "source": [
    "pd.date_range('20200101','20200201', freq='W-MON') # 周一"
   ]
  },
  {
   "cell_type": "code",
   "execution_count": 73,
   "metadata": {},
   "outputs": [
    {
     "data": {
      "text/plain": [
       "DatetimeIndex(['2020-01-06'], dtype='datetime64[ns]', freq='WOM-1MON')"
      ]
     },
     "execution_count": 73,
     "metadata": {},
     "output_type": "execute_result"
    }
   ],
   "source": [
    "pd.date_range('20200101','20200201', freq='WOM-1MON') # 每月第一个周一"
   ]
  },
  {
   "cell_type": "markdown",
   "metadata": {},
   "source": [
    "उपरोक्त स्ट्रिंग्स निम्नलिखित `ऑफ़सेट` ऑब्जेक्ट का उपयोग करने के बराबर हैं:"
   ]
  },
  {
   "cell_type": "code",
   "execution_count": 74,
   "metadata": {},
   "outputs": [
    {
     "data": {
      "text/plain": [
       "DatetimeIndex(['2020-01-01', '2020-02-01', '2020-03-01'], dtype='datetime64[ns]', freq='MS')"
      ]
     },
     "execution_count": 74,
     "metadata": {},
     "output_type": "execute_result"
    }
   ],
   "source": [
    "pd.date_range('20200101','20200331', freq=pd.offsets.MonthBegin())"
   ]
  },
  {
   "cell_type": "code",
   "execution_count": 75,
   "metadata": {},
   "outputs": [
    {
     "data": {
      "text/plain": [
       "DatetimeIndex(['2020-01-31', '2020-02-29', '2020-03-31'], dtype='datetime64[ns]', freq='M')"
      ]
     },
     "execution_count": 75,
     "metadata": {},
     "output_type": "execute_result"
    }
   ],
   "source": [
    "pd.date_range('20200101','20200331', freq=pd.offsets.MonthEnd())"
   ]
  },
  {
   "cell_type": "code",
   "execution_count": 76,
   "metadata": {},
   "outputs": [
    {
     "data": {
      "text/plain": [
       "DatetimeIndex(['2020-01-01', '2020-01-02', '2020-01-03', '2020-01-06',\n",
       "               '2020-01-07', '2020-01-08', '2020-01-09', '2020-01-10'],\n",
       "              dtype='datetime64[ns]', freq='B')"
      ]
     },
     "execution_count": 76,
     "metadata": {},
     "output_type": "execute_result"
    }
   ],
   "source": [
    "pd.date_range('20200101','20200110', freq=pd.offsets.BDay())"
   ]
  },
  {
   "cell_type": "code",
   "execution_count": 77,
   "metadata": {},
   "outputs": [
    {
     "data": {
      "text/plain": [
       "DatetimeIndex(['2020-01-06', '2020-01-13', '2020-01-20', '2020-01-27'], dtype='datetime64[ns]', freq='C')"
      ]
     },
     "execution_count": 77,
     "metadata": {},
     "output_type": "execute_result"
    }
   ],
   "source": [
    "pd.date_range('20200101','20200201', freq=pd.offsets.CDay(weekmask='Mon'))"
   ]
  },
  {
   "cell_type": "code",
   "execution_count": 78,
   "metadata": {},
   "outputs": [
    {
     "data": {
      "text/plain": [
       "DatetimeIndex(['2020-01-06'], dtype='datetime64[ns]', freq='WOM-1MON')"
      ]
     },
     "execution_count": 78,
     "metadata": {},
     "output_type": "execute_result"
    }
   ],
   "source": [
    "pd.date_range('20200101','20200201', freq=pd.offsets.WeekOfMonth(week=0,weekday=0))"
   ]
  },
  {
   "cell_type": "markdown",
   "metadata": {},
   "source": [
    "#### 【चेतावनी】समय क्षेत्र मुद्दों पर स्पष्टीकरण\n",
    "विभिन्न समय वस्तुओं के विकास में, `पायथन` में निर्मित `डेटटाइम` मॉड्यूल का उपयोग करने के अलावा, `पांडा` बड़े पैमाने पर समय क्षेत्र के मुद्दों से निपटने के लिए `डेटयूटिल` मॉड्यूल का भी उपयोग करता है। जैसा कि हम सभी जानते हैं, हमारे देश में डेलाइट सेविंग टाइम समायोजन समय नहीं है, लेकिन कुछ देश ऐसा करते हैं, जिसके परिणामस्वरूप एक दिन 23/24/25 घंटे का हो सकता है, जो एक `रिलेटिवडेल्टा` है, जो `ऑफ़सेट` बनाता है ऑब्जेक्ट और 'टाइमडेल्टा' ऑब्जेक्ट में एक ही समस्या के लिए अलग-अलग परिणाम होते हैं, और नियम भी अपेक्षाकृत जटिल होते हैं। आधिकारिक दस्तावेज़ के लेखन में कुछ विवरण त्रुटियां हैं, और विवरण में एकीकृत सुधार करना मुश्किल है क्योंकि इसमें शामिल है। `ऑफ़सेट से संबंधित कई घटक`। इसलिए, यह ट्यूटोरियल समय क्षेत्र प्रसंस्करण पर बिल्कुल भी विचार नहीं करता है। यदि आप समय क्षेत्र प्रसंस्करण के समय ऑफसेट पर चर्चा करने में रुचि रखते हैं, तो आप मुझसे संपर्क कर सकते हैं या [यहां] (https://github.com/pandas-dev/pandas) देख सकते हैं। /पुल/36516) चर्चा।\n",
    "#### 【अंत】\n",
    "## 5. स्लाइडिंग विंडो और टाइमिंग में ग्रुपिंग\n",
    "### 1. स्लाइडिंग विंडो\n",
    "\n",
    "समय श्रृंखला के तथाकथित स्लाइडिंग विंडो फ़ंक्शन का अर्थ है कि स्लाइडिंग विंडो को `freq` कीवर्ड द्वारा प्रतिस्थापित किया गया है। एक विशिष्ट एप्लिकेशन केस नीचे दिया गया है: शेयर बाजार में एक संकेतक है जिसे `BOLL` संकेतक कहा जाता है, जिसमें शामिल हैं केंद्रीय प्रक्षेपवक्र रेखा.इसमें तीन लाइनें शामिल हैं: ऊपरी रेल लाइन और निचली रेल लाइन विशिष्ट गणना विधियां हैं 'एन' दैनिक औसत लाइन, 'एन' दैनिक औसत प्लस दो बार 'एन' दैनिक मानक विचलन लाइन, और 'एन' दैनिक औसत माइनस दो बार। `एन` दैनिक मानक विचलन रेखा। `एन = 30` के लिए `BOLL` संकेतक की गणना करने के लिए `रोलिंग` ऑब्जेक्ट का उपयोग करके निम्नानुसार लिखा जा सकता है:"
   ]
  },
  {
   "cell_type": "code",
   "execution_count": 79,
   "metadata": {},
   "outputs": [
    {
     "data": {
      "text/plain": [
       "2020-01-01   -1\n",
       "2020-01-02   -2\n",
       "2020-01-03   -1\n",
       "2020-01-06   -1\n",
       "2020-01-07   -2\n",
       "Freq: B, dtype: int32"
      ]
     },
     "execution_count": 79,
     "metadata": {},
     "output_type": "execute_result"
    }
   ],
   "source": [
    "import matplotlib.pyplot as plt\n",
    "idx = pd.date_range('20200101', '20201231', freq='B')\n",
    "np.random.seed(2020)\n",
    "data = np.random.randint(-1,2,len(idx)).cumsum() # 随机游动构造模拟序列\n",
    "s = pd.Series(data,index=idx)\n",
    "s.head()"
   ]
  },
  {
   "cell_type": "code",
   "execution_count": 80,
   "metadata": {},
   "outputs": [
    {
     "data": {
      "text/plain": [
       "[<matplotlib.lines.Line2D at 0x26941924dc8>]"
      ]
     },
     "execution_count": 80,
     "metadata": {},
     "output_type": "execute_result"
    },
    {
     "data": {
      "image/png": "[encoded data removed]",
      "image/svg+xml": [
       "<?xml version=\"1.0\" encoding=\"utf-8\" standalone=\"no\"?>\r\n",
       "<!DOCTYPE svg PUBLIC \"-//W3C//DTD SVG 1.1//EN\"\r\n",
       "  \"http://www.w3.org/Graphics/SVG/1.1/DTD/svg11.dtd\">\r\n",
       "<!-- Created with matplotlib (https://matplotlib.org/) -->\r\n",
       "<svg height=\"263.63625pt\" version=\"1.1\" viewBox=\"0 0 377.449285 263.63625\" width=\"377.449285pt\" xmlns=\"http://www.w3.org/2000/svg\" xmlns:xlink=\"http://www.w3.org/1999/xlink\">\r\n",
       " <metadata>\r\n",
       "  <rdf:RDF xmlns:cc=\"http://creativecommons.org/ns#\" xmlns:dc=\"http://purl.org/dc/elements/1.1/\" xmlns:rdf=\"http://www.w3.org/1999/02/22-rdf-syntax-ns#\">\r\n",
       "   <cc:Work>\r\n",
       "    <dc:type rdf:resource=\"http://purl.org/dc/dcmitype/StillImage\"/>\r\n",
       "    <dc:date>2020-12-07T18:54:48.900759</dc:date>\r\n",
       "    <dc:format>image/svg+xml</dc:format>\r\n",
       "    <dc:creator>\r\n",
       "     <cc:Agent>\r\n",
       "      <dc:title>Matplotlib v3.3.2, https://matplotlib.org/</dc:title>\r\n",
       "     </cc:Agent>\r\n",
       "    </dc:creator>\r\n",
       "   </cc:Work>\r\n",
       "  </rdf:RDF>\r\n",
       " </metadata>\r\n",
       " <defs>\r\n",
       "  <style type=\"text/css\">*{stroke-linecap:butt;stroke-linejoin:round;}</style>\r\n",
       " </defs>\r\n",
       " <g id=\"figure_1\">\r\n",
       "  <g id=\"patch_1\">\r\n",
       "   <path d=\"M 0 263.63625 \r\n",
       "L 377.449285 263.63625 \r\n",
       "L 377.449285 0 \r\n",
       "L 0 0 \r\n",
       "z\r\n",
       "\" style=\"fill:none;\"/>\r\n",
       "  </g>\r\n",
       "  <g id=\"axes_1\">\r\n",
       "   <g id=\"patch_2\">\r\n",
       "    <path d=\"M 28.942188 239.758125 \r\n",
       "L 363.742188 239.758125 \r\n",
       "L 363.742188 22.318125 \r\n",
       "L 28.942188 22.318125 \r\n",
       "z\r\n",
       "\" style=\"fill:#ffffff;\"/>\r\n",
       "   </g>\r\n",
       "   <g id=\"matplotlib.axis_1\">\r\n",
       "    <g id=\"xtick_1\">\r\n",
       "     <g id=\"line2d_1\">\r\n",
       "      <defs>\r\n",
       "       <path d=\"M 0 0 \r\n",
       "L 0 3.5 \r\n",
       "\" id=\"m4553b258b0\" style=\"stroke:#000000;stroke-width:0.8;\"/>\r\n",
       "      </defs>\r\n",
       "      <g>\r\n",
       "       <use style=\"stroke:#000000;stroke-width:0.8;\" x=\"44.160369\" xlink:href=\"#m4553b258b0\" y=\"239.758125\"/>\r\n",
       "      </g>\r\n",
       "     </g>\r\n",
       "     <g id=\"text_1\">\r\n",
       "      <!-- 2020-01 -->\r\n",
       "      <g transform=\"translate(23.268963 254.356563)scale(0.1 -0.1)\">\r\n",
       "       <defs>\r\n",
       "        <path d=\"M 19.1875 8.296875 \r\n",
       "L 53.609375 8.296875 \r\n",
       "L 53.609375 0 \r\n",
       "L 7.328125 0 \r\n",
       "L 7.328125 8.296875 \r\n",
       "Q 12.9375 14.109375 22.625 23.890625 \r\n",
       "Q 32.328125 33.6875 34.8125 36.53125 \r\n",
       "Q 39.546875 41.84375 41.421875 45.53125 \r\n",
       "Q 43.3125 49.21875 43.3125 52.78125 \r\n",
       "Q 43.3125 58.59375 39.234375 62.25 \r\n",
       "Q 35.15625 65.921875 28.609375 65.921875 \r\n",
       "Q 23.96875 65.921875 18.8125 64.3125 \r\n",
       "Q 13.671875 62.703125 7.8125 59.421875 \r\n",
       "L 7.8125 69.390625 \r\n",
       "Q 13.765625 71.78125 18.9375 73 \r\n",
       "Q 24.125 74.21875 28.421875 74.21875 \r\n",
       "Q 39.75 74.21875 46.484375 68.546875 \r\n",
       "Q 53.21875 62.890625 53.21875 53.421875 \r\n",
       "Q 53.21875 48.921875 51.53125 44.890625 \r\n",
       "Q 49.859375 40.875 45.40625 35.40625 \r\n",
       "Q 44.1875 33.984375 37.640625 27.21875 \r\n",
       "Q 31.109375 20.453125 19.1875 8.296875 \r\n",
       "z\r\n",
       "\" id=\"DejaVuSans-50\"/>\r\n",
       "        <path d=\"M 31.78125 66.40625 \r\n",
       "Q 24.171875 66.40625 20.328125 58.90625 \r\n",
       "Q 16.5 51.421875 16.5 36.375 \r\n",
       "Q 16.5 21.390625 20.328125 13.890625 \r\n",
       "Q 24.171875 6.390625 31.78125 6.390625 \r\n",
       "Q 39.453125 6.390625 43.28125 13.890625 \r\n",
       "Q 47.125 21.390625 47.125 36.375 \r\n",
       "Q 47.125 51.421875 43.28125 58.90625 \r\n",
       "Q 39.453125 66.40625 31.78125 66.40625 \r\n",
       "z\r\n",
       "M 31.78125 74.21875 \r\n",
       "Q 44.046875 74.21875 50.515625 64.515625 \r\n",
       "Q 56.984375 54.828125 56.984375 36.375 \r\n",
       "Q 56.984375 17.96875 50.515625 8.265625 \r\n",
       "Q 44.046875 -1.421875 31.78125 -1.421875 \r\n",
       "Q 19.53125 -1.421875 13.0625 8.265625 \r\n",
       "Q 6.59375 17.96875 6.59375 36.375 \r\n",
       "Q 6.59375 54.828125 13.0625 64.515625 \r\n",
       "Q 19.53125 74.21875 31.78125 74.21875 \r\n",
       "z\r\n",
       "\" id=\"DejaVuSans-48\"/>\r\n",
       "        <path d=\"M 4.890625 31.390625 \r\n",
       "L 31.203125 31.390625 \r\n",
       "L 31.203125 23.390625 \r\n",
       "L 4.890625 23.390625 \r\n",
       "z\r\n",
       "\" id=\"DejaVuSans-45\"/>\r\n",
       "        <path d=\"M 12.40625 8.296875 \r\n",
       "L 28.515625 8.296875 \r\n",
       "L 28.515625 63.921875 \r\n",
       "L 10.984375 60.40625 \r\n",
       "L 10.984375 69.390625 \r\n",
       "L 28.421875 72.90625 \r\n",
       "L 38.28125 72.90625 \r\n",
       "L 38.28125 8.296875 \r\n",
       "L 54.390625 8.296875 \r\n",
       "L 54.390625 0 \r\n",
       "L 12.40625 0 \r\n",
       "z\r\n",
       "\" id=\"DejaVuSans-49\"/>\r\n",
       "       </defs>\r\n",
       "       <use xlink:href=\"#DejaVuSans-50\"/>\r\n",
       "       <use x=\"63.623047\" xlink:href=\"#DejaVuSans-48\"/>\r\n",
       "       <use x=\"127.246094\" xlink:href=\"#DejaVuSans-50\"/>\r\n",
       "       <use x=\"190.869141\" xlink:href=\"#DejaVuSans-48\"/>\r\n",
       "       <use x=\"254.492188\" xlink:href=\"#DejaVuSans-45\"/>\r\n",
       "       <use x=\"290.576172\" xlink:href=\"#DejaVuSans-48\"/>\r\n",
       "       <use x=\"354.199219\" xlink:href=\"#DejaVuSans-49\"/>\r\n",
       "      </g>\r\n",
       "     </g>\r\n",
       "    </g>\r\n",
       "    <g id=\"xtick_2\">\r\n",
       "     <g id=\"line2d_2\">\r\n",
       "      <g>\r\n",
       "       <use style=\"stroke:#000000;stroke-width:0.8;\" x=\"94.192748\" xlink:href=\"#m4553b258b0\" y=\"239.758125\"/>\r\n",
       "      </g>\r\n",
       "     </g>\r\n",
       "     <g id=\"text_2\">\r\n",
       "      <!-- 2020-03 -->\r\n",
       "      <g transform=\"translate(73.301342 254.356563)scale(0.1 -0.1)\">\r\n",
       "       <defs>\r\n",
       "        <path d=\"M 40.578125 39.3125 \r\n",
       "Q 47.65625 37.796875 51.625 33 \r\n",
       "Q 55.609375 28.21875 55.609375 21.1875 \r\n",
       "Q 55.609375 10.40625 48.1875 4.484375 \r\n",
       "Q 40.765625 -1.421875 27.09375 -1.421875 \r\n",
       "Q 22.515625 -1.421875 17.65625 -0.515625 \r\n",
       "Q 12.796875 0.390625 7.625 2.203125 \r\n",
       "L 7.625 11.71875 \r\n",
       "Q 11.71875 9.328125 16.59375 8.109375 \r\n",
       "Q 21.484375 6.890625 26.8125 6.890625 \r\n",
       "Q 36.078125 6.890625 40.9375 10.546875 \r\n",
       "Q 45.796875 14.203125 45.796875 21.1875 \r\n",
       "Q 45.796875 27.640625 41.28125 31.265625 \r\n",
       "Q 36.765625 34.90625 28.71875 34.90625 \r\n",
       "L 20.21875 34.90625 \r\n",
       "L 20.21875 43.015625 \r\n",
       "L 29.109375 43.015625 \r\n",
       "Q 36.375 43.015625 40.234375 45.921875 \r\n",
       "Q 44.09375 48.828125 44.09375 54.296875 \r\n",
       "Q 44.09375 59.90625 40.109375 62.90625 \r\n",
       "Q 36.140625 65.921875 28.71875 65.921875 \r\n",
       "Q 24.65625 65.921875 20.015625 65.03125 \r\n",
       "Q 15.375 64.15625 9.8125 62.3125 \r\n",
       "L 9.8125 71.09375 \r\n",
       "Q 15.4375 72.65625 20.34375 73.4375 \r\n",
       "Q 25.25 74.21875 29.59375 74.21875 \r\n",
       "Q 40.828125 74.21875 47.359375 69.109375 \r\n",
       "Q 53.90625 64.015625 53.90625 55.328125 \r\n",
       "Q 53.90625 49.265625 50.4375 45.09375 \r\n",
       "Q 46.96875 40.921875 40.578125 39.3125 \r\n",
       "z\r\n",
       "\" id=\"DejaVuSans-51\"/>\r\n",
       "       </defs>\r\n",
       "       <use xlink:href=\"#DejaVuSans-50\"/>\r\n",
       "       <use x=\"63.623047\" xlink:href=\"#DejaVuSans-48\"/>\r\n",
       "       <use x=\"127.246094\" xlink:href=\"#DejaVuSans-50\"/>\r\n",
       "       <use x=\"190.869141\" xlink:href=\"#DejaVuSans-48\"/>\r\n",
       "       <use x=\"254.492188\" xlink:href=\"#DejaVuSans-45\"/>\r\n",
       "       <use x=\"290.576172\" xlink:href=\"#DejaVuSans-48\"/>\r\n",
       "       <use x=\"354.199219\" xlink:href=\"#DejaVuSans-51\"/>\r\n",
       "      </g>\r\n",
       "     </g>\r\n",
       "    </g>\r\n",
       "    <g id=\"xtick_3\">\r\n",
       "     <g id=\"line2d_3\">\r\n",
       "      <g>\r\n",
       "       <use style=\"stroke:#000000;stroke-width:0.8;\" x=\"145.058999\" xlink:href=\"#m4553b258b0\" y=\"239.758125\"/>\r\n",
       "      </g>\r\n",
       "     </g>\r\n",
       "     <g id=\"text_3\">\r\n",
       "      <!-- 2020-05 -->\r\n",
       "      <g transform=\"translate(124.167593 254.356563)scale(0.1 -0.1)\">\r\n",
       "       <defs>\r\n",
       "        <path d=\"M 10.796875 72.90625 \r\n",
       "L 49.515625 72.90625 \r\n",
       "L 49.515625 64.59375 \r\n",
       "L 19.828125 64.59375 \r\n",
       "L 19.828125 46.734375 \r\n",
       "Q 21.96875 47.46875 24.109375 47.828125 \r\n",
       "Q 26.265625 48.1875 28.421875 48.1875 \r\n",
       "Q 40.625 48.1875 47.75 41.5 \r\n",
       "Q 54.890625 34.8125 54.890625 23.390625 \r\n",
       "Q 54.890625 11.625 47.5625 5.09375 \r\n",
       "Q 40.234375 -1.421875 26.90625 -1.421875 \r\n",
       "Q 22.3125 -1.421875 17.546875 -0.640625 \r\n",
       "Q 12.796875 0.140625 7.71875 1.703125 \r\n",
       "L 7.71875 11.625 \r\n",
       "Q 12.109375 9.234375 16.796875 8.0625 \r\n",
       "Q 21.484375 6.890625 26.703125 6.890625 \r\n",
       "Q 35.15625 6.890625 40.078125 11.328125 \r\n",
       "Q 45.015625 15.765625 45.015625 23.390625 \r\n",
       "Q 45.015625 31 40.078125 35.4375 \r\n",
       "Q 35.15625 39.890625 26.703125 39.890625 \r\n",
       "Q 22.75 39.890625 18.8125 39.015625 \r\n",
       "Q 14.890625 38.140625 10.796875 36.28125 \r\n",
       "z\r\n",
       "\" id=\"DejaVuSans-53\"/>\r\n",
       "       </defs>\r\n",
       "       <use xlink:href=\"#DejaVuSans-50\"/>\r\n",
       "       <use x=\"63.623047\" xlink:href=\"#DejaVuSans-48\"/>\r\n",
       "       <use x=\"127.246094\" xlink:href=\"#DejaVuSans-50\"/>\r\n",
       "       <use x=\"190.869141\" xlink:href=\"#DejaVuSans-48\"/>\r\n",
       "       <use x=\"254.492188\" xlink:href=\"#DejaVuSans-45\"/>\r\n",
       "       <use x=\"290.576172\" xlink:href=\"#DejaVuSans-48\"/>\r\n",
       "       <use x=\"354.199219\" xlink:href=\"#DejaVuSans-53\"/>\r\n",
       "      </g>\r\n",
       "     </g>\r\n",
       "    </g>\r\n",
       "    <g id=\"xtick_4\">\r\n",
       "     <g id=\"line2d_4\">\r\n",
       "      <g>\r\n",
       "       <use style=\"stroke:#000000;stroke-width:0.8;\" x=\"195.925251\" xlink:href=\"#m4553b258b0\" y=\"239.758125\"/>\r\n",
       "      </g>\r\n",
       "     </g>\r\n",
       "     <g id=\"text_4\">\r\n",
       "      <!-- 2020-07 -->\r\n",
       "      <g transform=\"translate(175.033845 254.356563)scale(0.1 -0.1)\">\r\n",
       "       <defs>\r\n",
       "        <path d=\"M 8.203125 72.90625 \r\n",
       "L 55.078125 72.90625 \r\n",
       "L 55.078125 68.703125 \r\n",
       "L 28.609375 0 \r\n",
       "L 18.3125 0 \r\n",
       "L 43.21875 64.59375 \r\n",
       "L 8.203125 64.59375 \r\n",
       "z\r\n",
       "\" id=\"DejaVuSans-55\"/>\r\n",
       "       </defs>\r\n",
       "       <use xlink:href=\"#DejaVuSans-50\"/>\r\n",
       "       <use x=\"63.623047\" xlink:href=\"#DejaVuSans-48\"/>\r\n",
       "       <use x=\"127.246094\" xlink:href=\"#DejaVuSans-50\"/>\r\n",
       "       <use x=\"190.869141\" xlink:href=\"#DejaVuSans-48\"/>\r\n",
       "       <use x=\"254.492188\" xlink:href=\"#DejaVuSans-45\"/>\r\n",
       "       <use x=\"290.576172\" xlink:href=\"#DejaVuSans-48\"/>\r\n",
       "       <use x=\"354.199219\" xlink:href=\"#DejaVuSans-55\"/>\r\n",
       "      </g>\r\n",
       "     </g>\r\n",
       "    </g>\r\n",
       "    <g id=\"xtick_5\">\r\n",
       "     <g id=\"line2d_5\">\r\n",
       "      <g>\r\n",
       "       <use style=\"stroke:#000000;stroke-width:0.8;\" x=\"247.625376\" xlink:href=\"#m4553b258b0\" y=\"239.758125\"/>\r\n",
       "      </g>\r\n",
       "     </g>\r\n",
       "     <g id=\"text_5\">\r\n",
       "      <!-- 2020-09 -->\r\n",
       "      <g transform=\"translate(226.733969 254.356563)scale(0.1 -0.1)\">\r\n",
       "       <defs>\r\n",
       "        <path d=\"M 10.984375 1.515625 \r\n",
       "L 10.984375 10.5 \r\n",
       "Q 14.703125 8.734375 18.5 7.8125 \r\n",
       "Q 22.3125 6.890625 25.984375 6.890625 \r\n",
       "Q 35.75 6.890625 40.890625 13.453125 \r\n",
       "Q 46.046875 20.015625 46.78125 33.40625 \r\n",
       "Q 43.953125 29.203125 39.59375 26.953125 \r\n",
       "Q 35.25 24.703125 29.984375 24.703125 \r\n",
       "Q 19.046875 24.703125 12.671875 31.3125 \r\n",
       "Q 6.296875 37.9375 6.296875 49.421875 \r\n",
       "Q 6.296875 60.640625 12.9375 67.421875 \r\n",
       "Q 19.578125 74.21875 30.609375 74.21875 \r\n",
       "Q 43.265625 74.21875 49.921875 64.515625 \r\n",
       "Q 56.59375 54.828125 56.59375 36.375 \r\n",
       "Q 56.59375 19.140625 48.40625 8.859375 \r\n",
       "Q 40.234375 -1.421875 26.421875 -1.421875 \r\n",
       "Q 22.703125 -1.421875 18.890625 -0.6875 \r\n",
       "Q 15.09375 0.046875 10.984375 1.515625 \r\n",
       "z\r\n",
       "M 30.609375 32.421875 \r\n",
       "Q 37.25 32.421875 41.125 36.953125 \r\n",
       "Q 45.015625 41.5 45.015625 49.421875 \r\n",
       "Q 45.015625 57.28125 41.125 61.84375 \r\n",
       "Q 37.25 66.40625 30.609375 66.40625 \r\n",
       "Q 23.96875 66.40625 20.09375 61.84375 \r\n",
       "Q 16.21875 57.28125 16.21875 49.421875 \r\n",
       "Q 16.21875 41.5 20.09375 36.953125 \r\n",
       "Q 23.96875 32.421875 30.609375 32.421875 \r\n",
       "z\r\n",
       "\" id=\"DejaVuSans-57\"/>\r\n",
       "       </defs>\r\n",
       "       <use xlink:href=\"#DejaVuSans-50\"/>\r\n",
       "       <use x=\"63.623047\" xlink:href=\"#DejaVuSans-48\"/>\r\n",
       "       <use x=\"127.246094\" xlink:href=\"#DejaVuSans-50\"/>\r\n",
       "       <use x=\"190.869141\" xlink:href=\"#DejaVuSans-48\"/>\r\n",
       "       <use x=\"254.492188\" xlink:href=\"#DejaVuSans-45\"/>\r\n",
       "       <use x=\"290.576172\" xlink:href=\"#DejaVuSans-48\"/>\r\n",
       "       <use x=\"354.199219\" xlink:href=\"#DejaVuSans-57\"/>\r\n",
       "      </g>\r\n",
       "     </g>\r\n",
       "    </g>\r\n",
       "    <g id=\"xtick_6\">\r\n",
       "     <g id=\"line2d_6\">\r\n",
       "      <g>\r\n",
       "       <use style=\"stroke:#000000;stroke-width:0.8;\" x=\"298.491627\" xlink:href=\"#m4553b258b0\" y=\"239.758125\"/>\r\n",
       "      </g>\r\n",
       "     </g>\r\n",
       "     <g id=\"text_6\">\r\n",
       "      <!-- 2020-11 -->\r\n",
       "      <g transform=\"translate(277.600221 254.356563)scale(0.1 -0.1)\">\r\n",
       "       <use xlink:href=\"#DejaVuSans-50\"/>\r\n",
       "       <use x=\"63.623047\" xlink:href=\"#DejaVuSans-48\"/>\r\n",
       "       <use x=\"127.246094\" xlink:href=\"#DejaVuSans-50\"/>\r\n",
       "       <use x=\"190.869141\" xlink:href=\"#DejaVuSans-48\"/>\r\n",
       "       <use x=\"254.492188\" xlink:href=\"#DejaVuSans-45\"/>\r\n",
       "       <use x=\"290.576172\" xlink:href=\"#DejaVuSans-49\"/>\r\n",
       "       <use x=\"354.199219\" xlink:href=\"#DejaVuSans-49\"/>\r\n",
       "      </g>\r\n",
       "     </g>\r\n",
       "    </g>\r\n",
       "    <g id=\"xtick_7\">\r\n",
       "     <g id=\"line2d_7\">\r\n",
       "      <g>\r\n",
       "       <use style=\"stroke:#000000;stroke-width:0.8;\" x=\"349.357879\" xlink:href=\"#m4553b258b0\" y=\"239.758125\"/>\r\n",
       "      </g>\r\n",
       "     </g>\r\n",
       "     <g id=\"text_7\">\r\n",
       "      <!-- 2021-01 -->\r\n",
       "      <g transform=\"translate(328.466472 254.356563)scale(0.1 -0.1)\">\r\n",
       "       <use xlink:href=\"#DejaVuSans-50\"/>\r\n",
       "       <use x=\"63.623047\" xlink:href=\"#DejaVuSans-48\"/>\r\n",
       "       <use x=\"127.246094\" xlink:href=\"#DejaVuSans-50\"/>\r\n",
       "       <use x=\"190.869141\" xlink:href=\"#DejaVuSans-49\"/>\r\n",
       "       <use x=\"254.492188\" xlink:href=\"#DejaVuSans-45\"/>\r\n",
       "       <use x=\"290.576172\" xlink:href=\"#DejaVuSans-48\"/>\r\n",
       "       <use x=\"354.199219\" xlink:href=\"#DejaVuSans-49\"/>\r\n",
       "      </g>\r\n",
       "     </g>\r\n",
       "    </g>\r\n",
       "   </g>\r\n",
       "   <g id=\"matplotlib.axis_2\">\r\n",
       "    <g id=\"ytick_1\">\r\n",
       "     <g id=\"line2d_8\">\r\n",
       "      <defs>\r\n",
       "       <path d=\"M 0 0 \r\n",
       "L -3.5 0 \r\n",
       "\" id=\"md0df6c0ceb\" style=\"stroke:#000000;stroke-width:0.8;\"/>\r\n",
       "      </defs>\r\n",
       "      <g>\r\n",
       "       <use style=\"stroke:#000000;stroke-width:0.8;\" x=\"28.942188\" xlink:href=\"#md0df6c0ceb\" y=\"215.651438\"/>\r\n",
       "      </g>\r\n",
       "     </g>\r\n",
       "     <g id=\"text_8\">\r\n",
       "      <!-- −5 -->\r\n",
       "      <g transform=\"translate(7.2 219.450657)scale(0.1 -0.1)\">\r\n",
       "       <defs>\r\n",
       "        <path d=\"M 10.59375 35.5 \r\n",
       "L 73.1875 35.5 \r\n",
       "L 73.1875 27.203125 \r\n",
       "L 10.59375 27.203125 \r\n",
       "z\r\n",
       "\" id=\"DejaVuSans-8722\"/>\r\n",
       "       </defs>\r\n",
       "       <use xlink:href=\"#DejaVuSans-8722\"/>\r\n",
       "       <use x=\"83.789062\" xlink:href=\"#DejaVuSans-53\"/>\r\n",
       "      </g>\r\n",
       "     </g>\r\n",
       "    </g>\r\n",
       "    <g id=\"ytick_2\">\r\n",
       "     <g id=\"line2d_9\">\r\n",
       "      <g>\r\n",
       "       <use style=\"stroke:#000000;stroke-width:0.8;\" x=\"28.942188\" xlink:href=\"#md0df6c0ceb\" y=\"183.118885\"/>\r\n",
       "      </g>\r\n",
       "     </g>\r\n",
       "     <g id=\"text_9\">\r\n",
       "      <!-- 0 -->\r\n",
       "      <g transform=\"translate(15.579688 186.918104)scale(0.1 -0.1)\">\r\n",
       "       <use xlink:href=\"#DejaVuSans-48\"/>\r\n",
       "      </g>\r\n",
       "     </g>\r\n",
       "    </g>\r\n",
       "    <g id=\"ytick_3\">\r\n",
       "     <g id=\"line2d_10\">\r\n",
       "      <g>\r\n",
       "       <use style=\"stroke:#000000;stroke-width:0.8;\" x=\"28.942188\" xlink:href=\"#md0df6c0ceb\" y=\"150.586333\"/>\r\n",
       "      </g>\r\n",
       "     </g>\r\n",
       "     <g id=\"text_10\">\r\n",
       "      <!-- 5 -->\r\n",
       "      <g transform=\"translate(15.579688 154.385552)scale(0.1 -0.1)\">\r\n",
       "       <use xlink:href=\"#DejaVuSans-53\"/>\r\n",
       "      </g>\r\n",
       "     </g>\r\n",
       "    </g>\r\n",
       "    <g id=\"ytick_4\">\r\n",
       "     <g id=\"line2d_11\">\r\n",
       "      <g>\r\n",
       "       <use style=\"stroke:#000000;stroke-width:0.8;\" x=\"28.942188\" xlink:href=\"#md0df6c0ceb\" y=\"118.05378\"/>\r\n",
       "      </g>\r\n",
       "     </g>\r\n",
       "     <g id=\"text_11\">\r\n",
       "      <!-- 10 -->\r\n",
       "      <g transform=\"translate(9.217188 121.852999)scale(0.1 -0.1)\">\r\n",
       "       <use xlink:href=\"#DejaVuSans-49\"/>\r\n",
       "       <use x=\"63.623047\" xlink:href=\"#DejaVuSans-48\"/>\r\n",
       "      </g>\r\n",
       "     </g>\r\n",
       "    </g>\r\n",
       "    <g id=\"ytick_5\">\r\n",
       "     <g id=\"line2d_12\">\r\n",
       "      <g>\r\n",
       "       <use style=\"stroke:#000000;stroke-width:0.8;\" x=\"28.942188\" xlink:href=\"#md0df6c0ceb\" y=\"85.521227\"/>\r\n",
       "      </g>\r\n",
       "     </g>\r\n",
       "     <g id=\"text_12\">\r\n",
       "      <!-- 15 -->\r\n",
       "      <g transform=\"translate(9.217188 89.320446)scale(0.1 -0.1)\">\r\n",
       "       <use xlink:href=\"#DejaVuSans-49\"/>\r\n",
       "       <use x=\"63.623047\" xlink:href=\"#DejaVuSans-53\"/>\r\n",
       "      </g>\r\n",
       "     </g>\r\n",
       "    </g>\r\n",
       "    <g id=\"ytick_6\">\r\n",
       "     <g id=\"line2d_13\">\r\n",
       "      <g>\r\n",
       "       <use style=\"stroke:#000000;stroke-width:0.8;\" x=\"28.942188\" xlink:href=\"#md0df6c0ceb\" y=\"52.988675\"/>\r\n",
       "      </g>\r\n",
       "     </g>\r\n",
       "     <g id=\"text_13\">\r\n",
       "      <!-- 20 -->\r\n",
       "      <g transform=\"translate(9.217188 56.787893)scale(0.1 -0.1)\">\r\n",
       "       <use xlink:href=\"#DejaVuSans-50\"/>\r\n",
       "       <use x=\"63.623047\" xlink:href=\"#DejaVuSans-48\"/>\r\n",
       "      </g>\r\n",
       "     </g>\r\n",
       "    </g>\r\n",
       "   </g>\r\n",
       "   <g id=\"line2d_14\">\r\n",
       "    <path clip-path=\"url(#pf9773a3fc8)\" d=\"M 44.160369 189.625396 \r\n",
       "L 44.994242 196.131907 \r\n",
       "L 45.828115 189.625396 \r\n",
       "L 48.329734 189.625396 \r\n",
       "L 49.163607 196.131907 \r\n",
       "L 49.99748 196.131907 \r\n",
       "L 51.665226 209.144928 \r\n",
       "L 54.166845 215.651438 \r\n",
       "L 55.000718 209.144928 \r\n",
       "L 55.834591 209.144928 \r\n",
       "L 57.502337 196.131907 \r\n",
       "L 60.003956 189.625396 \r\n",
       "L 60.837829 189.625396 \r\n",
       "L 63.339448 209.144928 \r\n",
       "L 65.841067 215.651438 \r\n",
       "L 66.67494 209.144928 \r\n",
       "L 67.508813 215.651438 \r\n",
       "L 71.678178 215.651438 \r\n",
       "L 72.512051 209.144928 \r\n",
       "L 73.345923 209.144928 \r\n",
       "L 74.179796 202.638417 \r\n",
       "L 77.515288 202.638417 \r\n",
       "L 80.85078 176.612375 \r\n",
       "L 83.352399 176.612375 \r\n",
       "L 84.186272 183.118885 \r\n",
       "L 85.854018 170.105864 \r\n",
       "L 86.687891 176.612375 \r\n",
       "L 89.18951 170.105864 \r\n",
       "L 90.023383 176.612375 \r\n",
       "L 90.857256 176.612375 \r\n",
       "L 91.691129 183.118885 \r\n",
       "L 92.525002 183.118885 \r\n",
       "L 95.026621 176.612375 \r\n",
       "L 95.860494 170.105864 \r\n",
       "L 96.694367 176.612375 \r\n",
       "L 98.362113 176.612375 \r\n",
       "L 100.863732 170.105864 \r\n",
       "L 101.697605 163.599354 \r\n",
       "L 102.531478 163.599354 \r\n",
       "L 103.365351 170.105864 \r\n",
       "L 104.199224 163.599354 \r\n",
       "L 106.700843 170.105864 \r\n",
       "L 108.368588 157.092843 \r\n",
       "L 109.202461 163.599354 \r\n",
       "L 110.036334 157.092843 \r\n",
       "L 112.537953 157.092843 \r\n",
       "L 114.205699 144.079822 \r\n",
       "L 115.873445 157.092843 \r\n",
       "L 118.375064 150.586333 \r\n",
       "L 119.208937 157.092843 \r\n",
       "L 121.710556 137.573312 \r\n",
       "L 124.212175 144.079822 \r\n",
       "L 125.879921 131.066801 \r\n",
       "L 126.713794 131.066801 \r\n",
       "L 127.547667 137.573312 \r\n",
       "L 135.886397 137.573312 \r\n",
       "L 136.72027 144.079822 \r\n",
       "L 137.554143 144.079822 \r\n",
       "L 138.388016 137.573312 \r\n",
       "L 139.221889 137.573312 \r\n",
       "L 141.723508 144.079822 \r\n",
       "L 142.557381 137.573312 \r\n",
       "L 143.391254 137.573312 \r\n",
       "L 144.225126 131.066801 \r\n",
       "L 145.058999 131.066801 \r\n",
       "L 147.560618 137.573312 \r\n",
       "L 150.062237 157.092843 \r\n",
       "L 150.89611 150.586333 \r\n",
       "L 153.397729 157.092843 \r\n",
       "L 154.231602 157.092843 \r\n",
       "L 155.065475 150.586333 \r\n",
       "L 155.899348 157.092843 \r\n",
       "L 156.733221 150.586333 \r\n",
       "L 159.23484 150.586333 \r\n",
       "L 160.068713 144.079822 \r\n",
       "L 162.570332 144.079822 \r\n",
       "L 165.071951 137.573312 \r\n",
       "L 166.739697 124.560291 \r\n",
       "L 168.407443 137.573312 \r\n",
       "L 170.909062 137.573312 \r\n",
       "L 171.742935 144.079822 \r\n",
       "L 172.576808 137.573312 \r\n",
       "L 173.410681 137.573312 \r\n",
       "L 174.244554 144.079822 \r\n",
       "L 176.746173 137.573312 \r\n",
       "L 179.247791 137.573312 \r\n",
       "L 180.081664 131.066801 \r\n",
       "L 182.583283 124.560291 \r\n",
       "L 184.251029 124.560291 \r\n",
       "L 185.918775 111.54727 \r\n",
       "L 189.254267 111.54727 \r\n",
       "L 190.08814 118.05378 \r\n",
       "L 191.755886 105.040759 \r\n",
       "L 194.257505 105.040759 \r\n",
       "L 195.925251 92.027738 \r\n",
       "L 196.759124 98.534248 \r\n",
       "L 197.592997 98.534248 \r\n",
       "L 200.094616 92.027738 \r\n",
       "L 200.928489 92.027738 \r\n",
       "L 201.762362 98.534248 \r\n",
       "L 202.596235 98.534248 \r\n",
       "L 203.430108 105.040759 \r\n",
       "L 205.931727 105.040759 \r\n",
       "L 207.599473 118.05378 \r\n",
       "L 208.433346 111.54727 \r\n",
       "L 209.267219 118.05378 \r\n",
       "L 213.436584 118.05378 \r\n",
       "L 214.270456 124.560291 \r\n",
       "L 215.104329 124.560291 \r\n",
       "L 217.605948 118.05378 \r\n",
       "L 218.439821 118.05378 \r\n",
       "L 219.273694 111.54727 \r\n",
       "L 220.94144 124.560291 \r\n",
       "L 223.443059 131.066801 \r\n",
       "L 224.276932 124.560291 \r\n",
       "L 225.110805 131.066801 \r\n",
       "L 225.944678 124.560291 \r\n",
       "L 229.28017 124.560291 \r\n",
       "L 230.114043 131.066801 \r\n",
       "L 230.947916 124.560291 \r\n",
       "L 231.781789 131.066801 \r\n",
       "L 232.615662 131.066801 \r\n",
       "L 235.117281 124.560291 \r\n",
       "L 236.785027 137.573312 \r\n",
       "L 237.6189 131.066801 \r\n",
       "L 238.452773 137.573312 \r\n",
       "L 242.622138 137.573312 \r\n",
       "L 243.456011 131.066801 \r\n",
       "L 244.289884 137.573312 \r\n",
       "L 246.791503 137.573312 \r\n",
       "L 247.625376 131.066801 \r\n",
       "L 248.459249 131.066801 \r\n",
       "L 250.126994 118.05378 \r\n",
       "L 253.462486 118.05378 \r\n",
       "L 254.296359 111.54727 \r\n",
       "L 255.130232 118.05378 \r\n",
       "L 258.465724 118.05378 \r\n",
       "L 260.13347 105.040759 \r\n",
       "L 260.967343 105.040759 \r\n",
       "L 261.801216 111.54727 \r\n",
       "L 264.302835 105.040759 \r\n",
       "L 265.136708 98.534248 \r\n",
       "L 265.970581 98.534248 \r\n",
       "L 266.804454 105.040759 \r\n",
       "L 267.638327 105.040759 \r\n",
       "L 270.139946 111.54727 \r\n",
       "L 270.973819 111.54727 \r\n",
       "L 273.475438 131.066801 \r\n",
       "L 275.977057 124.560291 \r\n",
       "L 277.644803 124.560291 \r\n",
       "L 278.478676 118.05378 \r\n",
       "L 279.312549 124.560291 \r\n",
       "L 281.814168 131.066801 \r\n",
       "L 282.648041 131.066801 \r\n",
       "L 283.481914 124.560291 \r\n",
       "L 285.149659 137.573312 \r\n",
       "L 287.651278 137.573312 \r\n",
       "L 289.319024 124.560291 \r\n",
       "L 293.488389 124.560291 \r\n",
       "L 294.322262 118.05378 \r\n",
       "L 295.156135 118.05378 \r\n",
       "L 295.990008 111.54727 \r\n",
       "L 296.823881 118.05378 \r\n",
       "L 299.3255 118.05378 \r\n",
       "L 302.660992 92.027738 \r\n",
       "L 305.996484 92.027738 \r\n",
       "L 306.830357 85.521227 \r\n",
       "L 307.66423 92.027738 \r\n",
       "L 308.498103 85.521227 \r\n",
       "L 310.999722 85.521227 \r\n",
       "L 311.833595 92.027738 \r\n",
       "L 312.667468 92.027738 \r\n",
       "L 314.335214 79.014717 \r\n",
       "L 316.836833 72.508206 \r\n",
       "L 318.504579 72.508206 \r\n",
       "L 320.172324 59.495185 \r\n",
       "L 322.673943 52.988675 \r\n",
       "L 323.507816 52.988675 \r\n",
       "L 324.341689 46.482164 \r\n",
       "L 325.175562 52.988675 \r\n",
       "L 326.009435 52.988675 \r\n",
       "L 328.511054 59.495185 \r\n",
       "L 329.344927 52.988675 \r\n",
       "L 330.1788 52.988675 \r\n",
       "L 331.012673 46.482164 \r\n",
       "L 331.846546 46.482164 \r\n",
       "L 334.348165 52.988675 \r\n",
       "L 335.182038 52.988675 \r\n",
       "L 336.015911 46.482164 \r\n",
       "L 337.683657 46.482164 \r\n",
       "L 340.185276 52.988675 \r\n",
       "L 341.019149 52.988675 \r\n",
       "L 343.520768 72.508206 \r\n",
       "L 346.022387 66.001696 \r\n",
       "L 346.85626 59.495185 \r\n",
       "L 347.690133 59.495185 \r\n",
       "L 348.524006 66.001696 \r\n",
       "L 348.524006 66.001696 \r\n",
       "\" style=\"fill:none;stroke:#1f77b4;stroke-linecap:square;stroke-width:1.5;\"/>\r\n",
       "   </g>\r\n",
       "   <g id=\"line2d_15\">\r\n",
       "    <path clip-path=\"url(#pf9773a3fc8)\" d=\"M 44.160369 189.625396 \r\n",
       "L 44.994242 192.878651 \r\n",
       "L 45.828115 191.794233 \r\n",
       "L 48.329734 191.252024 \r\n",
       "L 49.163607 192.228 \r\n",
       "L 49.99748 192.878651 \r\n",
       "L 50.831353 194.272904 \r\n",
       "L 51.665226 196.131907 \r\n",
       "L 54.166845 198.300743 \r\n",
       "L 55.000718 199.385162 \r\n",
       "L 55.834591 200.272413 \r\n",
       "L 56.668464 200.46958 \r\n",
       "L 57.502337 200.135913 \r\n",
       "L 60.003956 199.385162 \r\n",
       "L 60.837829 198.734511 \r\n",
       "L 61.671702 198.571848 \r\n",
       "L 62.505575 198.811058 \r\n",
       "L 63.339448 199.385162 \r\n",
       "L 65.841067 200.241282 \r\n",
       "L 66.67494 200.686464 \r\n",
       "L 68.342686 202.046916 \r\n",
       "L 69.176559 203.229918 \r\n",
       "L 71.678178 204.807254 \r\n",
       "L 72.512051 205.004421 \r\n",
       "L 73.345923 205.891672 \r\n",
       "L 75.013669 206.483173 \r\n",
       "L 77.515288 206.356423 \r\n",
       "L 78.349161 205.891672 \r\n",
       "L 80.016907 203.525669 \r\n",
       "L 80.85078 202.046916 \r\n",
       "L 83.352399 201.089248 \r\n",
       "L 84.186272 200.272413 \r\n",
       "L 85.020145 199.680912 \r\n",
       "L 86.687891 197.906409 \r\n",
       "L 89.18951 195.822073 \r\n",
       "L 90.023383 194.948905 \r\n",
       "L 90.857256 193.174402 \r\n",
       "L 91.691129 191.9914 \r\n",
       "L 92.525002 190.512647 \r\n",
       "L 95.026621 187.456559 \r\n",
       "L 95.860494 186.667891 \r\n",
       "L 96.694367 184.893388 \r\n",
       "L 98.362113 181.935884 \r\n",
       "L 101.697605 178.682628 \r\n",
       "L 102.531478 176.908125 \r\n",
       "L 104.199224 174.542122 \r\n",
       "L 106.700843 173.82387 \r\n",
       "L 107.534716 173.35912 \r\n",
       "L 110.036334 170.697365 \r\n",
       "L 112.537953 169.796031 \r\n",
       "L 113.371826 168.922862 \r\n",
       "L 115.039572 166.556859 \r\n",
       "L 115.873445 165.669607 \r\n",
       "L 118.375064 163.28952 \r\n",
       "L 119.208937 163.007853 \r\n",
       "L 120.876683 160.641849 \r\n",
       "L 121.710556 158.867346 \r\n",
       "L 125.046048 155.614091 \r\n",
       "L 125.879921 153.839588 \r\n",
       "L 126.713794 152.360836 \r\n",
       "L 127.547667 151.177834 \r\n",
       "L 130.049286 149.037164 \r\n",
       "L 130.883159 148.516079 \r\n",
       "L 131.717032 147.037327 \r\n",
       "L 132.550905 145.854325 \r\n",
       "L 133.384778 144.967074 \r\n",
       "L 135.886397 143.150321 \r\n",
       "L 136.72027 143.192571 \r\n",
       "L 138.388016 142.009569 \r\n",
       "L 139.221889 141.713818 \r\n",
       "L 141.723508 140.67165 \r\n",
       "L 142.557381 140.530816 \r\n",
       "L 143.391254 139.939316 \r\n",
       "L 144.225126 138.756314 \r\n",
       "L 145.058999 137.869062 \r\n",
       "L 147.560618 137.573312 \r\n",
       "L 149.228364 138.164813 \r\n",
       "L 150.89611 139.939316 \r\n",
       "L 153.397729 141.291318 \r\n",
       "L 156.733221 144.079822 \r\n",
       "L 159.23484 145.009324 \r\n",
       "L 160.068713 144.967074 \r\n",
       "L 160.902586 145.262824 \r\n",
       "L 162.570332 145.262824 \r\n",
       "L 165.071951 145.628991 \r\n",
       "L 165.905824 144.967074 \r\n",
       "L 166.739697 144.079822 \r\n",
       "L 167.57357 143.784072 \r\n",
       "L 168.407443 143.784072 \r\n",
       "L 170.909062 144.69949 \r\n",
       "L 172.576808 144.671323 \r\n",
       "L 174.244554 144.079822 \r\n",
       "L 176.746173 142.840487 \r\n",
       "L 177.580046 142.60107 \r\n",
       "L 180.081664 139.939316 \r\n",
       "L 183.417156 137.277561 \r\n",
       "L 185.084902 134.911557 \r\n",
       "L 185.918775 133.432805 \r\n",
       "L 188.420394 131.376635 \r\n",
       "L 191.755886 127.813546 \r\n",
       "L 194.257505 126.10946 \r\n",
       "L 195.091378 124.856041 \r\n",
       "L 197.592997 118.941032 \r\n",
       "L 200.928489 114.504774 \r\n",
       "L 202.596235 110.955769 \r\n",
       "L 203.430108 109.477016 \r\n",
       "L 205.931727 106.899762 \r\n",
       "L 206.7656 107.111012 \r\n",
       "L 207.599473 106.815262 \r\n",
       "L 208.433346 106.223761 \r\n",
       "L 209.267219 105.92801 \r\n",
       "L 211.768838 105.660427 \r\n",
       "L 212.602711 106.223761 \r\n",
       "L 213.436584 106.519511 \r\n",
       "L 214.270456 107.111012 \r\n",
       "L 215.104329 107.406763 \r\n",
       "L 217.605948 107.829264 \r\n",
       "L 218.439821 108.294014 \r\n",
       "L 219.273694 108.589765 \r\n",
       "L 220.107567 109.477016 \r\n",
       "L 220.94144 110.955769 \r\n",
       "L 223.443059 113.096439 \r\n",
       "L 224.276932 113.617523 \r\n",
       "L 225.110805 115.392026 \r\n",
       "L 225.944678 116.870778 \r\n",
       "L 226.778551 118.05378 \r\n",
       "L 230.114043 120.419784 \r\n",
       "L 231.781789 122.194287 \r\n",
       "L 232.615662 122.785788 \r\n",
       "L 235.951154 123.96879 \r\n",
       "L 236.785027 124.856041 \r\n",
       "L 237.6189 125.447542 \r\n",
       "L 238.452773 126.334793 \r\n",
       "L 240.954392 127.038961 \r\n",
       "L 241.788265 127.517795 \r\n",
       "L 242.622138 128.405047 \r\n",
       "L 243.456011 128.996548 \r\n",
       "L 244.289884 130.17955 \r\n",
       "L 246.791503 131.376635 \r\n",
       "L 249.293121 131.362552 \r\n",
       "L 250.126994 130.771051 \r\n",
       "L 252.628613 130.756967 \r\n",
       "L 255.130232 128.996548 \r\n",
       "L 255.964105 128.700797 \r\n",
       "L 258.465724 127.968463 \r\n",
       "L 260.13347 126.334793 \r\n",
       "L 261.801216 123.96879 \r\n",
       "L 264.302835 122.08162 \r\n",
       "L 265.136708 121.011285 \r\n",
       "L 265.970581 119.236782 \r\n",
       "L 267.638327 116.279277 \r\n",
       "L 270.139946 114.335774 \r\n",
       "L 270.973819 114.209024 \r\n",
       "L 271.807692 113.321772 \r\n",
       "L 272.641565 113.026022 \r\n",
       "L 273.475438 113.026022 \r\n",
       "L 275.977057 112.786605 \r\n",
       "L 276.81093 113.321772 \r\n",
       "L 277.644803 113.617523 \r\n",
       "L 278.478676 113.617523 \r\n",
       "L 279.312549 114.209024 \r\n",
       "L 281.814168 114.645608 \r\n",
       "L 282.648041 115.392026 \r\n",
       "L 283.481914 115.687776 \r\n",
       "L 284.315787 116.575028 \r\n",
       "L 285.149659 118.05378 \r\n",
       "L 288.485151 120.419784 \r\n",
       "L 289.319024 121.307035 \r\n",
       "L 290.98677 123.673039 \r\n",
       "L 293.488389 125.489792 \r\n",
       "L 294.322262 125.151792 \r\n",
       "L 295.156135 125.447542 \r\n",
       "L 296.823881 125.447542 \r\n",
       "L 299.3255 124.870124 \r\n",
       "L 300.159373 124.26454 \r\n",
       "L 300.993246 123.377289 \r\n",
       "L 301.827119 122.194287 \r\n",
       "L 302.660992 120.715534 \r\n",
       "L 305.162611 119.293115 \r\n",
       "L 305.996484 118.05378 \r\n",
       "L 307.66423 114.209024 \r\n",
       "L 308.498103 112.434521 \r\n",
       "L 310.999722 109.068599 \r\n",
       "L 311.833595 108.294014 \r\n",
       "L 314.335214 102.083254 \r\n",
       "L 317.670706 97.351247 \r\n",
       "L 320.172324 89.957485 \r\n",
       "L 323.507816 84.338225 \r\n",
       "L 324.341689 81.08497 \r\n",
       "L 326.009435 76.057212 \r\n",
       "L 329.344927 72.508206 \r\n",
       "L 330.1788 70.733703 \r\n",
       "L 331.846546 66.888947 \r\n",
       "L 334.348165 64.142693 \r\n",
       "L 335.182038 63.635692 \r\n",
       "L 336.015911 61.861189 \r\n",
       "L 337.683657 57.720682 \r\n",
       "L 340.185276 55.157512 \r\n",
       "L 341.019149 55.058928 \r\n",
       "L 341.853022 54.467427 \r\n",
       "L 342.686895 54.171677 \r\n",
       "L 343.520768 54.171677 \r\n",
       "L 346.022387 53.918176 \r\n",
       "L 347.690133 54.467427 \r\n",
       "L 348.524006 55.058928 \r\n",
       "L 348.524006 55.058928 \r\n",
       "\" style=\"fill:none;stroke:#ff7f0e;stroke-linecap:square;stroke-width:1.5;\"/>\r\n",
       "   </g>\r\n",
       "   <g id=\"line2d_16\">\r\n",
       "    <path clip-path=\"url(#pf9773a3fc8)\" d=\"M 44.994242 183.677056 \r\n",
       "L 45.828115 184.281162 \r\n",
       "L 48.329734 184.745513 \r\n",
       "L 49.163607 185.100475 \r\n",
       "L 49.99748 185.751126 \r\n",
       "L 50.831353 184.435984 \r\n",
       "L 51.665226 182.220402 \r\n",
       "L 54.166845 179.897553 \r\n",
       "L 55.834591 181.619958 \r\n",
       "L 56.668464 182.632778 \r\n",
       "L 57.502337 182.889804 \r\n",
       "L 60.003956 181.889097 \r\n",
       "L 60.837829 181.137695 \r\n",
       "L 61.671702 181.521976 \r\n",
       "L 62.505575 182.185158 \r\n",
       "L 63.339448 182.536085 \r\n",
       "L 65.841067 182.246194 \r\n",
       "L 66.67494 182.724426 \r\n",
       "L 67.508813 182.71325 \r\n",
       "L 68.342686 182.82541 \r\n",
       "L 69.176559 184.008412 \r\n",
       "L 72.512051 186.36376 \r\n",
       "L 73.345923 188.502292 \r\n",
       "L 75.013669 190.092034 \r\n",
       "L 77.515288 189.604753 \r\n",
       "L 78.349161 188.972362 \r\n",
       "L 79.183034 187.026659 \r\n",
       "L 80.016907 183.731102 \r\n",
       "L 80.85078 179.361816 \r\n",
       "L 84.186272 174.077916 \r\n",
       "L 85.020145 171.937058 \r\n",
       "L 85.854018 168.565043 \r\n",
       "L 86.687891 166.238806 \r\n",
       "L 89.18951 161.769657 \r\n",
       "L 90.023383 160.722559 \r\n",
       "L 90.857256 159.400834 \r\n",
       "L 91.691129 158.742842 \r\n",
       "L 95.026621 159.145138 \r\n",
       "L 95.860494 158.065375 \r\n",
       "L 96.694367 159.122093 \r\n",
       "L 97.52824 159.834303 \r\n",
       "L 98.362113 161.209623 \r\n",
       "L 100.863732 162.64921 \r\n",
       "L 101.697605 161.000617 \r\n",
       "L 102.531478 161.628002 \r\n",
       "L 103.365351 162.839476 \r\n",
       "L 104.199224 162.238523 \r\n",
       "L 106.700843 161.776154 \r\n",
       "L 107.534716 160.819459 \r\n",
       "L 108.368588 158.247706 \r\n",
       "L 109.202461 157.71269 \r\n",
       "L 110.036334 155.720089 \r\n",
       "L 112.537953 153.607398 \r\n",
       "L 113.371826 151.127206 \r\n",
       "L 114.205699 147.048999 \r\n",
       "L 115.039572 145.032477 \r\n",
       "L 115.873445 144.273323 \r\n",
       "L 118.375064 143.780319 \r\n",
       "L 119.208937 143.786347 \r\n",
       "L 120.04281 142.910909 \r\n",
       "L 120.876683 140.672147 \r\n",
       "L 121.710556 137.929947 \r\n",
       "L 124.212175 137.658326 \r\n",
       "L 125.046048 135.561963 \r\n",
       "L 126.713794 129.22775 \r\n",
       "L 127.547667 127.792609 \r\n",
       "L 130.049286 126.913205 \r\n",
       "L 130.883159 126.378871 \r\n",
       "L 131.717032 126.667827 \r\n",
       "L 132.550905 126.518744 \r\n",
       "L 133.384778 126.004746 \r\n",
       "L 135.886397 126.54369 \r\n",
       "L 136.72027 126.981313 \r\n",
       "L 137.554143 127.611562 \r\n",
       "L 139.221889 126.93362 \r\n",
       "L 141.723508 127.908903 \r\n",
       "L 143.391254 128.199776 \r\n",
       "L 144.225126 129.222142 \r\n",
       "L 145.058999 129.37158 \r\n",
       "L 148.394491 129.37158 \r\n",
       "L 149.228364 128.4027 \r\n",
       "L 150.062237 126.396023 \r\n",
       "L 150.89611 126.898158 \r\n",
       "L 153.397729 126.700809 \r\n",
       "L 154.231602 126.256997 \r\n",
       "L 155.065475 126.571711 \r\n",
       "L 155.899348 126.493357 \r\n",
       "L 156.733221 127.041778 \r\n",
       "L 160.068713 128.265805 \r\n",
       "L 160.902586 128.88287 \r\n",
       "L 162.570332 128.88287 \r\n",
       "L 165.071951 129.217739 \r\n",
       "L 165.905824 127.789766 \r\n",
       "L 166.739697 124.820216 \r\n",
       "L 167.57357 123.915576 \r\n",
       "L 168.407443 123.915576 \r\n",
       "L 170.909062 125.884641 \r\n",
       "L 171.742935 126.308009 \r\n",
       "L 172.576808 126.308009 \r\n",
       "L 173.410681 125.76443 \r\n",
       "L 174.244554 125.676631 \r\n",
       "L 176.746173 125.084007 \r\n",
       "L 177.580046 125.12758 \r\n",
       "L 178.413919 125.378679 \r\n",
       "L 179.247791 125.935191 \r\n",
       "L 180.081664 125.159117 \r\n",
       "L 182.583283 124.563894 \r\n",
       "L 183.417156 123.092105 \r\n",
       "L 184.251029 122.222632 \r\n",
       "L 185.084902 119.535783 \r\n",
       "L 185.918775 115.67839 \r\n",
       "L 188.420394 112.306369 \r\n",
       "L 189.254267 110.03395 \r\n",
       "L 190.08814 108.747156 \r\n",
       "L 190.922013 106.505714 \r\n",
       "L 191.755886 103.468413 \r\n",
       "L 194.257505 99.790721 \r\n",
       "L 195.091378 96.608129 \r\n",
       "L 195.925251 91.891539 \r\n",
       "L 197.592997 87.49994 \r\n",
       "L 200.094616 84.925041 \r\n",
       "L 200.928489 82.953128 \r\n",
       "L 201.762362 82.242072 \r\n",
       "L 202.596235 82.021987 \r\n",
       "L 203.430108 83.024919 \r\n",
       "L 205.931727 85.460693 \r\n",
       "L 207.599473 86.66285 \r\n",
       "L 209.267219 88.287506 \r\n",
       "L 211.768838 87.768227 \r\n",
       "L 212.602711 87.980601 \r\n",
       "L 213.436584 87.712456 \r\n",
       "L 214.270456 86.87692 \r\n",
       "L 215.104329 86.329779 \r\n",
       "L 217.605948 85.833243 \r\n",
       "L 218.439821 86.389836 \r\n",
       "L 219.273694 86.693955 \r\n",
       "L 220.107567 87.707117 \r\n",
       "L 220.94144 89.740119 \r\n",
       "L 224.276932 91.847624 \r\n",
       "L 225.110805 94.656925 \r\n",
       "L 225.944678 98.627618 \r\n",
       "L 226.778551 101.495778 \r\n",
       "L 229.28017 106.807141 \r\n",
       "L 230.114043 106.774298 \r\n",
       "L 230.947916 109.427827 \r\n",
       "L 231.781789 110.454747 \r\n",
       "L 232.615662 110.616986 \r\n",
       "L 235.117281 112.523343 \r\n",
       "L 235.951154 112.674816 \r\n",
       "L 236.785027 112.493004 \r\n",
       "L 237.6189 113.20367 \r\n",
       "L 238.452773 113.520456 \r\n",
       "L 240.954392 113.098504 \r\n",
       "L 241.788265 113.190931 \r\n",
       "L 242.622138 114.116609 \r\n",
       "L 243.456011 115.445402 \r\n",
       "L 244.289884 118.613007 \r\n",
       "L 246.791503 120.904435 \r\n",
       "L 247.625376 121.141877 \r\n",
       "L 249.293121 121.141877 \r\n",
       "L 250.126994 119.078438 \r\n",
       "L 252.628613 118.089347 \r\n",
       "L 253.462486 116.682609 \r\n",
       "L 254.296359 114.069903 \r\n",
       "L 255.130232 112.740133 \r\n",
       "L 255.964105 111.879256 \r\n",
       "L 258.465724 110.211983 \r\n",
       "L 259.299597 108.53229 \r\n",
       "L 260.967343 102.466692 \r\n",
       "L 261.801216 101.28369 \r\n",
       "L 264.302835 98.630657 \r\n",
       "L 265.970581 93.636727 \r\n",
       "L 266.804454 92.847347 \r\n",
       "L 267.638327 92.45923 \r\n",
       "L 270.139946 93.12358 \r\n",
       "L 270.973819 93.473923 \r\n",
       "L 271.807692 95.280647 \r\n",
       "L 272.641565 96.020278 \r\n",
       "L 273.475438 96.020278 \r\n",
       "L 275.977057 95.513542 \r\n",
       "L 276.81093 95.73329 \r\n",
       "L 277.644803 95.485203 \r\n",
       "L 279.312549 95.519269 \r\n",
       "L 281.814168 94.227582 \r\n",
       "L 283.481914 94.231618 \r\n",
       "L 284.315787 94.240015 \r\n",
       "L 285.149659 94.637228 \r\n",
       "L 287.651278 95.518017 \r\n",
       "L 288.485151 96.142496 \r\n",
       "L 289.319024 97.976733 \r\n",
       "L 290.152897 101.474008 \r\n",
       "L 290.98677 105.581193 \r\n",
       "L 293.488389 111.665508 \r\n",
       "L 294.322262 111.293082 \r\n",
       "L 295.156135 112.561895 \r\n",
       "L 296.823881 112.561895 \r\n",
       "L 299.3255 111.550873 \r\n",
       "L 300.159373 110.079084 \r\n",
       "L 300.993246 106.997334 \r\n",
       "L 301.827119 102.707644 \r\n",
       "L 302.660992 97.416674 \r\n",
       "L 305.162611 92.428539 \r\n",
       "L 305.996484 89.374478 \r\n",
       "L 306.830357 84.776462 \r\n",
       "L 307.66423 82.16746 \r\n",
       "L 308.498103 78.525566 \r\n",
       "L 311.833595 74.995885 \r\n",
       "L 312.667468 74.952164 \r\n",
       "L 313.501341 73.755609 \r\n",
       "L 314.335214 71.307876 \r\n",
       "L 316.836833 68.29472 \r\n",
       "L 317.670706 65.822842 \r\n",
       "L 318.504579 64.209864 \r\n",
       "L 319.338452 61.277395 \r\n",
       "L 320.172324 57.733412 \r\n",
       "L 322.673943 53.566066 \r\n",
       "L 324.341689 46.448777 \r\n",
       "L 326.009435 42.764587 \r\n",
       "L 328.511054 41.222736 \r\n",
       "L 329.344927 39.882836 \r\n",
       "L 330.1788 38.311187 \r\n",
       "L 331.846546 33.944946 \r\n",
       "L 335.182038 33.171547 \r\n",
       "L 336.015911 32.201761 \r\n",
       "L 336.849784 32.708938 \r\n",
       "L 337.683657 34.241603 \r\n",
       "L 340.185276 37.537798 \r\n",
       "L 341.019149 37.838997 \r\n",
       "L 342.686895 39.896071 \r\n",
       "L 343.520768 39.896071 \r\n",
       "L 346.022387 39.494421 \r\n",
       "L 346.85626 39.896071 \r\n",
       "L 347.690133 40.025895 \r\n",
       "L 348.524006 39.826855 \r\n",
       "L 348.524006 39.826855 \r\n",
       "\" style=\"fill:none;stroke:#2ca02c;stroke-linecap:square;stroke-width:1.5;\"/>\r\n",
       "   </g>\r\n",
       "   <g id=\"line2d_17\">\r\n",
       "    <path clip-path=\"url(#pf9773a3fc8)\" d=\"M 44.994242 202.080247 \r\n",
       "L 45.828115 199.307304 \r\n",
       "L 48.329734 197.758534 \r\n",
       "L 49.163607 199.355525 \r\n",
       "L 49.99748 200.006176 \r\n",
       "L 50.831353 204.109823 \r\n",
       "L 51.665226 210.043411 \r\n",
       "L 54.166845 216.703934 \r\n",
       "L 55.000718 218.042202 \r\n",
       "L 55.834591 218.924869 \r\n",
       "L 56.668464 218.306383 \r\n",
       "L 57.502337 217.382022 \r\n",
       "L 60.003956 216.881227 \r\n",
       "L 60.837829 216.331327 \r\n",
       "L 61.671702 215.62172 \r\n",
       "L 62.505575 215.436958 \r\n",
       "L 63.339448 216.234238 \r\n",
       "L 65.841067 218.236369 \r\n",
       "L 66.67494 218.648502 \r\n",
       "L 67.508813 220.084914 \r\n",
       "L 69.176559 222.451424 \r\n",
       "L 71.678178 223.813988 \r\n",
       "L 72.512051 223.645082 \r\n",
       "L 73.345923 223.281053 \r\n",
       "L 75.013669 222.874312 \r\n",
       "L 77.515288 223.108093 \r\n",
       "L 78.349161 222.810983 \r\n",
       "L 79.183034 222.390682 \r\n",
       "L 80.016907 223.320235 \r\n",
       "L 80.85078 224.732016 \r\n",
       "L 83.352399 226.756508 \r\n",
       "L 84.186272 226.466911 \r\n",
       "L 85.020145 227.424766 \r\n",
       "L 85.854018 229.022278 \r\n",
       "L 86.687891 229.574012 \r\n",
       "L 89.18951 229.874489 \r\n",
       "L 90.023383 229.17525 \r\n",
       "L 90.857256 226.947969 \r\n",
       "L 91.691129 225.239958 \r\n",
       "L 92.525002 222.209173 \r\n",
       "L 95.026621 215.767981 \r\n",
       "L 95.860494 215.270407 \r\n",
       "L 96.694367 210.664683 \r\n",
       "L 97.52824 206.994969 \r\n",
       "L 98.362113 202.662144 \r\n",
       "L 100.863732 196.152549 \r\n",
       "L 101.697605 196.364639 \r\n",
       "L 102.531478 192.188249 \r\n",
       "L 103.365351 188.610771 \r\n",
       "L 104.199224 186.845721 \r\n",
       "L 106.700843 185.871587 \r\n",
       "L 107.534716 185.898781 \r\n",
       "L 108.368588 186.69603 \r\n",
       "L 109.202461 185.456544 \r\n",
       "L 110.036334 185.674642 \r\n",
       "L 112.537953 185.984663 \r\n",
       "L 113.371826 186.718519 \r\n",
       "L 114.205699 188.430722 \r\n",
       "L 115.039572 188.08124 \r\n",
       "L 115.873445 187.065892 \r\n",
       "L 118.375064 182.798721 \r\n",
       "L 119.208937 182.229359 \r\n",
       "L 120.04281 180.738793 \r\n",
       "L 120.876683 180.611551 \r\n",
       "L 121.710556 179.804745 \r\n",
       "L 124.212175 175.288025 \r\n",
       "L 125.046048 175.666219 \r\n",
       "L 125.879921 175.372482 \r\n",
       "L 126.713794 175.493922 \r\n",
       "L 127.547667 174.563059 \r\n",
       "L 130.049286 171.161122 \r\n",
       "L 130.883159 170.653288 \r\n",
       "L 131.717032 167.406827 \r\n",
       "L 132.550905 165.189906 \r\n",
       "L 133.384778 163.929401 \r\n",
       "L 135.886397 159.756952 \r\n",
       "L 136.72027 159.403829 \r\n",
       "L 137.554143 157.590578 \r\n",
       "L 138.388016 156.702715 \r\n",
       "L 139.221889 156.494017 \r\n",
       "L 141.723508 153.434397 \r\n",
       "L 142.557381 153.055854 \r\n",
       "L 143.391254 151.678855 \r\n",
       "L 144.225126 148.290486 \r\n",
       "L 145.058999 146.366544 \r\n",
       "L 147.560618 145.803469 \r\n",
       "L 148.394491 146.366544 \r\n",
       "L 149.228364 147.926925 \r\n",
       "L 150.062237 151.708105 \r\n",
       "L 150.89611 152.980473 \r\n",
       "L 153.397729 155.881827 \r\n",
       "L 154.231602 157.762141 \r\n",
       "L 155.065475 158.630429 \r\n",
       "L 155.899348 160.483285 \r\n",
       "L 156.733221 161.117866 \r\n",
       "L 159.23484 162.118212 \r\n",
       "L 160.068713 161.668343 \r\n",
       "L 162.570332 161.642778 \r\n",
       "L 165.905824 162.144381 \r\n",
       "L 166.739697 163.339428 \r\n",
       "L 167.57357 163.652568 \r\n",
       "L 168.407443 163.652568 \r\n",
       "L 170.909062 163.514339 \r\n",
       "L 171.742935 163.034637 \r\n",
       "L 173.410681 162.986716 \r\n",
       "L 174.244554 162.483013 \r\n",
       "L 177.580046 160.074559 \r\n",
       "L 178.413919 158.048957 \r\n",
       "L 179.247791 155.717943 \r\n",
       "L 180.081664 154.719514 \r\n",
       "L 182.583283 151.202397 \r\n",
       "L 183.417156 151.463018 \r\n",
       "L 184.251029 149.966486 \r\n",
       "L 185.084902 150.287332 \r\n",
       "L 185.918775 151.18722 \r\n",
       "L 188.420394 150.446901 \r\n",
       "L 189.254267 150.91665 \r\n",
       "L 190.08814 150.428942 \r\n",
       "L 190.922013 150.895881 \r\n",
       "L 191.755886 152.158679 \r\n",
       "L 194.257505 152.428198 \r\n",
       "L 195.925251 153.680036 \r\n",
       "L 196.759124 151.734106 \r\n",
       "L 200.094616 146.225178 \r\n",
       "L 200.928489 146.056421 \r\n",
       "L 201.762362 143.21847 \r\n",
       "L 202.596235 139.88955 \r\n",
       "L 203.430108 135.929113 \r\n",
       "L 205.931727 128.338831 \r\n",
       "L 206.7656 128.127042 \r\n",
       "L 207.599473 126.967674 \r\n",
       "L 208.433346 124.903707 \r\n",
       "L 209.267219 123.568515 \r\n",
       "L 211.768838 123.552626 \r\n",
       "L 213.436584 125.326567 \r\n",
       "L 214.270456 127.345105 \r\n",
       "L 215.104329 128.483746 \r\n",
       "L 218.439821 130.198193 \r\n",
       "L 219.273694 130.485575 \r\n",
       "L 220.107567 131.246915 \r\n",
       "L 223.443059 134.834324 \r\n",
       "L 224.276932 135.387422 \r\n",
       "L 225.110805 136.127127 \r\n",
       "L 225.944678 135.113938 \r\n",
       "L 229.28017 133.018425 \r\n",
       "L 230.114043 134.06527 \r\n",
       "L 230.947916 133.186244 \r\n",
       "L 231.781789 133.933826 \r\n",
       "L 232.615662 134.95459 \r\n",
       "L 235.117281 134.738235 \r\n",
       "L 235.951154 135.262763 \r\n",
       "L 236.785027 137.219078 \r\n",
       "L 237.6189 137.691415 \r\n",
       "L 238.452773 139.149131 \r\n",
       "L 240.954392 140.979418 \r\n",
       "L 242.622138 142.693484 \r\n",
       "L 243.456011 142.547693 \r\n",
       "L 244.289884 141.746093 \r\n",
       "L 246.791503 141.848835 \r\n",
       "L 247.625376 141.583227 \r\n",
       "L 249.293121 141.583227 \r\n",
       "L 250.126994 142.463663 \r\n",
       "L 253.462486 143.67649 \r\n",
       "L 254.296359 145.106195 \r\n",
       "L 255.130232 145.252963 \r\n",
       "L 255.964105 145.522339 \r\n",
       "L 258.465724 145.724942 \r\n",
       "L 259.299597 145.911799 \r\n",
       "L 260.13347 147.272193 \r\n",
       "L 260.967343 147.836892 \r\n",
       "L 261.801216 146.65389 \r\n",
       "L 264.302835 145.532582 \r\n",
       "L 265.136708 146.002763 \r\n",
       "L 265.970581 144.836837 \r\n",
       "L 266.804454 142.668712 \r\n",
       "L 267.638327 140.099325 \r\n",
       "L 270.139946 135.547968 \r\n",
       "L 270.973819 134.944125 \r\n",
       "L 271.807692 131.362898 \r\n",
       "L 272.641565 130.031766 \r\n",
       "L 275.977057 130.059668 \r\n",
       "L 277.644803 131.749843 \r\n",
       "L 278.478676 131.749843 \r\n",
       "L 279.312549 132.898778 \r\n",
       "L 281.814168 135.063634 \r\n",
       "L 282.648041 136.51244 \r\n",
       "L 283.481914 137.143935 \r\n",
       "L 284.315787 138.910041 \r\n",
       "L 285.149659 141.470332 \r\n",
       "L 287.651278 144.30755 \r\n",
       "L 288.485151 144.697072 \r\n",
       "L 289.319024 144.637338 \r\n",
       "L 290.152897 143.506067 \r\n",
       "L 290.98677 141.764885 \r\n",
       "L 293.488389 139.314077 \r\n",
       "L 294.322262 139.010501 \r\n",
       "L 295.156135 138.33319 \r\n",
       "L 296.823881 138.33319 \r\n",
       "L 299.3255 138.189376 \r\n",
       "L 300.159373 138.449997 \r\n",
       "L 300.993246 139.757243 \r\n",
       "L 301.827119 141.68093 \r\n",
       "L 302.660992 144.014395 \r\n",
       "L 305.996484 146.733082 \r\n",
       "L 306.830357 147.190592 \r\n",
       "L 307.66423 146.250587 \r\n",
       "L 308.498103 146.343476 \r\n",
       "L 310.999722 142.366728 \r\n",
       "L 311.833595 141.592144 \r\n",
       "L 312.667468 137.495358 \r\n",
       "L 313.501341 134.551407 \r\n",
       "L 314.335214 132.858633 \r\n",
       "L 316.836833 128.773777 \r\n",
       "L 317.670706 128.879651 \r\n",
       "L 318.504579 125.760621 \r\n",
       "L 320.172324 122.181558 \r\n",
       "L 322.673943 118.096057 \r\n",
       "L 323.507816 118.799366 \r\n",
       "L 326.009435 109.349837 \r\n",
       "L 328.511054 105.65268 \r\n",
       "L 329.344927 105.133577 \r\n",
       "L 331.012673 101.204452 \r\n",
       "L 331.846546 99.832949 \r\n",
       "L 334.348165 94.976375 \r\n",
       "L 335.182038 94.099837 \r\n",
       "L 336.015911 91.520617 \r\n",
       "L 336.849784 86.872933 \r\n",
       "L 337.683657 81.199762 \r\n",
       "L 340.185276 72.777225 \r\n",
       "L 341.019149 72.278859 \r\n",
       "L 341.853022 69.985573 \r\n",
       "L 342.686895 68.447282 \r\n",
       "L 346.85626 68.447282 \r\n",
       "L 347.690133 68.908959 \r\n",
       "L 348.524006 70.291001 \r\n",
       "L 348.524006 70.291001 \r\n",
       "\" style=\"fill:none;stroke:#d62728;stroke-linecap:square;stroke-width:1.5;\"/>\r\n",
       "   </g>\r\n",
       "   <g id=\"patch_3\">\r\n",
       "    <path d=\"M 28.942188 239.758125 \r\n",
       "L 28.942188 22.318125 \r\n",
       "\" style=\"fill:none;stroke:#000000;stroke-linecap:square;stroke-linejoin:miter;stroke-width:0.8;\"/>\r\n",
       "   </g>\r\n",
       "   <g id=\"patch_4\">\r\n",
       "    <path d=\"M 363.742188 239.758125 \r\n",
       "L 363.742188 22.318125 \r\n",
       "\" style=\"fill:none;stroke:#000000;stroke-linecap:square;stroke-linejoin:miter;stroke-width:0.8;\"/>\r\n",
       "   </g>\r\n",
       "   <g id=\"patch_5\">\r\n",
       "    <path d=\"M 28.942188 239.758125 \r\n",
       "L 363.742188 239.758125 \r\n",
       "\" style=\"fill:none;stroke:#000000;stroke-linecap:square;stroke-linejoin:miter;stroke-width:0.8;\"/>\r\n",
       "   </g>\r\n",
       "   <g id=\"patch_6\">\r\n",
       "    <path d=\"M 28.942188 22.318125 \r\n",
       "L 363.742188 22.318125 \r\n",
       "\" style=\"fill:none;stroke:#000000;stroke-linecap:square;stroke-linejoin:miter;stroke-width:0.8;\"/>\r\n",
       "   </g>\r\n",
       "   <g id=\"text_14\">\r\n",
       "    <!-- BOLL LINES -->\r\n",
       "    <g transform=\"translate(161.812188 16.318125)scale(0.12 -0.12)\">\r\n",
       "     <defs>\r\n",
       "      <path d=\"M 19.671875 34.8125 \r\n",
       "L 19.671875 8.109375 \r\n",
       "L 35.5 8.109375 \r\n",
       "Q 43.453125 8.109375 47.28125 11.40625 \r\n",
       "Q 51.125 14.703125 51.125 21.484375 \r\n",
       "Q 51.125 28.328125 47.28125 31.5625 \r\n",
       "Q 43.453125 34.8125 35.5 34.8125 \r\n",
       "z\r\n",
       "M 19.671875 64.796875 \r\n",
       "L 19.671875 42.828125 \r\n",
       "L 34.28125 42.828125 \r\n",
       "Q 41.5 42.828125 45.03125 45.53125 \r\n",
       "Q 48.578125 48.25 48.578125 53.8125 \r\n",
       "Q 48.578125 59.328125 45.03125 62.0625 \r\n",
       "Q 41.5 64.796875 34.28125 64.796875 \r\n",
       "z\r\n",
       "M 9.8125 72.90625 \r\n",
       "L 35.015625 72.90625 \r\n",
       "Q 46.296875 72.90625 52.390625 68.21875 \r\n",
       "Q 58.5 63.53125 58.5 54.890625 \r\n",
       "Q 58.5 48.1875 55.375 44.234375 \r\n",
       "Q 52.25 40.28125 46.1875 39.3125 \r\n",
       "Q 53.46875 37.75 57.5 32.78125 \r\n",
       "Q 61.53125 27.828125 61.53125 20.40625 \r\n",
       "Q 61.53125 10.640625 54.890625 5.3125 \r\n",
       "Q 48.25 0 35.984375 0 \r\n",
       "L 9.8125 0 \r\n",
       "z\r\n",
       "\" id=\"DejaVuSans-66\"/>\r\n",
       "      <path d=\"M 39.40625 66.21875 \r\n",
       "Q 28.65625 66.21875 22.328125 58.203125 \r\n",
       "Q 16.015625 50.203125 16.015625 36.375 \r\n",
       "Q 16.015625 22.609375 22.328125 14.59375 \r\n",
       "Q 28.65625 6.59375 39.40625 6.59375 \r\n",
       "Q 50.140625 6.59375 56.421875 14.59375 \r\n",
       "Q 62.703125 22.609375 62.703125 36.375 \r\n",
       "Q 62.703125 50.203125 56.421875 58.203125 \r\n",
       "Q 50.140625 66.21875 39.40625 66.21875 \r\n",
       "z\r\n",
       "M 39.40625 74.21875 \r\n",
       "Q 54.734375 74.21875 63.90625 63.9375 \r\n",
       "Q 73.09375 53.65625 73.09375 36.375 \r\n",
       "Q 73.09375 19.140625 63.90625 8.859375 \r\n",
       "Q 54.734375 -1.421875 39.40625 -1.421875 \r\n",
       "Q 24.03125 -1.421875 14.8125 8.828125 \r\n",
       "Q 5.609375 19.09375 5.609375 36.375 \r\n",
       "Q 5.609375 53.65625 14.8125 63.9375 \r\n",
       "Q 24.03125 74.21875 39.40625 74.21875 \r\n",
       "z\r\n",
       "\" id=\"DejaVuSans-79\"/>\r\n",
       "      <path d=\"M 9.8125 72.90625 \r\n",
       "L 19.671875 72.90625 \r\n",
       "L 19.671875 8.296875 \r\n",
       "L 55.171875 8.296875 \r\n",
       "L 55.171875 0 \r\n",
       "L 9.8125 0 \r\n",
       "z\r\n",
       "\" id=\"DejaVuSans-76\"/>\r\n",
       "      <path id=\"DejaVuSans-32\"/>\r\n",
       "      <path d=\"M 9.8125 72.90625 \r\n",
       "L 19.671875 72.90625 \r\n",
       "L 19.671875 0 \r\n",
       "L 9.8125 0 \r\n",
       "z\r\n",
       "\" id=\"DejaVuSans-73\"/>\r\n",
       "      <path d=\"M 9.8125 72.90625 \r\n",
       "L 23.09375 72.90625 \r\n",
       "L 55.421875 11.921875 \r\n",
       "L 55.421875 72.90625 \r\n",
       "L 64.984375 72.90625 \r\n",
       "L 64.984375 0 \r\n",
       "L 51.703125 0 \r\n",
       "L 19.390625 60.984375 \r\n",
       "L 19.390625 0 \r\n",
       "L 9.8125 0 \r\n",
       "z\r\n",
       "\" id=\"DejaVuSans-78\"/>\r\n",
       "      <path d=\"M 9.8125 72.90625 \r\n",
       "L 55.90625 72.90625 \r\n",
       "L 55.90625 64.59375 \r\n",
       "L 19.671875 64.59375 \r\n",
       "L 19.671875 43.015625 \r\n",
       "L 54.390625 43.015625 \r\n",
       "L 54.390625 34.71875 \r\n",
       "L 19.671875 34.71875 \r\n",
       "L 19.671875 8.296875 \r\n",
       "L 56.78125 8.296875 \r\n",
       "L 56.78125 0 \r\n",
       "L 9.8125 0 \r\n",
       "z\r\n",
       "\" id=\"DejaVuSans-69\"/>\r\n",
       "      <path d=\"M 53.515625 70.515625 \r\n",
       "L 53.515625 60.890625 \r\n",
       "Q 47.90625 63.578125 42.921875 64.890625 \r\n",
       "Q 37.9375 66.21875 33.296875 66.21875 \r\n",
       "Q 25.25 66.21875 20.875 63.09375 \r\n",
       "Q 16.5 59.96875 16.5 54.203125 \r\n",
       "Q 16.5 49.359375 19.40625 46.890625 \r\n",
       "Q 22.3125 44.4375 30.421875 42.921875 \r\n",
       "L 36.375 41.703125 \r\n",
       "Q 47.40625 39.59375 52.65625 34.296875 \r\n",
       "Q 57.90625 29 57.90625 20.125 \r\n",
       "Q 57.90625 9.515625 50.796875 4.046875 \r\n",
       "Q 43.703125 -1.421875 29.984375 -1.421875 \r\n",
       "Q 24.8125 -1.421875 18.96875 -0.25 \r\n",
       "Q 13.140625 0.921875 6.890625 3.21875 \r\n",
       "L 6.890625 13.375 \r\n",
       "Q 12.890625 10.015625 18.65625 8.296875 \r\n",
       "Q 24.421875 6.59375 29.984375 6.59375 \r\n",
       "Q 38.421875 6.59375 43.015625 9.90625 \r\n",
       "Q 47.609375 13.234375 47.609375 19.390625 \r\n",
       "Q 47.609375 24.75 44.3125 27.78125 \r\n",
       "Q 41.015625 30.8125 33.5 32.328125 \r\n",
       "L 27.484375 33.5 \r\n",
       "Q 16.453125 35.6875 11.515625 40.375 \r\n",
       "Q 6.59375 45.0625 6.59375 53.421875 \r\n",
       "Q 6.59375 63.09375 13.40625 68.65625 \r\n",
       "Q 20.21875 74.21875 32.171875 74.21875 \r\n",
       "Q 37.3125 74.21875 42.625 73.28125 \r\n",
       "Q 47.953125 72.359375 53.515625 70.515625 \r\n",
       "z\r\n",
       "\" id=\"DejaVuSans-83\"/>\r\n",
       "     </defs>\r\n",
       "     <use xlink:href=\"#DejaVuSans-66\"/>\r\n",
       "     <use x=\"66.853516\" xlink:href=\"#DejaVuSans-79\"/>\r\n",
       "     <use x=\"145.564453\" xlink:href=\"#DejaVuSans-76\"/>\r\n",
       "     <use x=\"201.277344\" xlink:href=\"#DejaVuSans-76\"/>\r\n",
       "     <use x=\"256.990234\" xlink:href=\"#DejaVuSans-32\"/>\r\n",
       "     <use x=\"288.777344\" xlink:href=\"#DejaVuSans-76\"/>\r\n",
       "     <use x=\"344.490234\" xlink:href=\"#DejaVuSans-73\"/>\r\n",
       "     <use x=\"373.982422\" xlink:href=\"#DejaVuSans-78\"/>\r\n",
       "     <use x=\"448.787109\" xlink:href=\"#DejaVuSans-69\"/>\r\n",
       "     <use x=\"511.970703\" xlink:href=\"#DejaVuSans-83\"/>\r\n",
       "    </g>\r\n",
       "   </g>\r\n",
       "  </g>\r\n",
       " </g>\r\n",
       " <defs>\r\n",
       "  <clipPath id=\"pf9773a3fc8\">\r\n",
       "   <rect height=\"217.44\" width=\"334.8\" x=\"28.942188\" y=\"22.318125\"/>\r\n",
       "  </clipPath>\r\n",
       " </defs>\r\n",
       "</svg>\r\n"
      ],
      "text/plain": [
       "<Figure size 432x288 with 1 Axes>"
      ]
     },
     "metadata": {
      "needs_background": "light"
     },
     "output_type": "display_data"
    }
   ],
   "source": [
    "r = s.rolling('30D')\n",
    "plt.plot(s)\n",
    "plt.title('BOLL LINES')\n",
    "plt.plot(r.mean())\n",
    "plt.plot(r.mean()+r.std()*2)\n",
    "plt.plot(r.mean()-r.std()*2)"
   ]
  },
  {
   "cell_type": "markdown",
   "metadata": {},
   "source": [
    "`shift` फ़ंक्शन के लिए, `datetime64` द्वारा अनुक्रमित अनुक्रम पर कार्य करते समय, आप स्लाइडिंग के लिए `freq` इकाई निर्दिष्ट कर सकते हैं:"
   ]
  },
  {
   "cell_type": "code",
   "execution_count": 81,
   "metadata": {},
   "outputs": [
    {
     "data": {
      "text/plain": [
       "2020-02-20   -1\n",
       "2020-02-21   -2\n",
       "2020-02-22   -1\n",
       "2020-02-25   -1\n",
       "2020-02-26   -2\n",
       "dtype: int32"
      ]
     },
     "execution_count": 81,
     "metadata": {},
     "output_type": "execute_result"
    }
   ],
   "source": [
    "s.shift(freq='50D').head()"
   ]
  },
  {
   "cell_type": "markdown",
   "metadata": {},
   "source": [
    "इसके अलावा, `datetime64[ns]` के अनुक्रम पर `diff` निष्पादित करने के बाद, `timedelta64[ns]` का अनुक्रम प्राप्त किया जा सकता है, जो उपयोगकर्ताओं को आदेशित समय श्रृंखला के अंतराल को आसानी से देखने की अनुमति देता है:"
   ]
  },
  {
   "cell_type": "code",
   "execution_count": 82,
   "metadata": {},
   "outputs": [
    {
     "data": {
      "text/plain": [
       "0   2020-01-01\n",
       "1   2020-01-02\n",
       "2   2020-01-03\n",
       "3   2020-01-06\n",
       "4   2020-01-07\n",
       "dtype: datetime64[ns]"
      ]
     },
     "execution_count": 82,
     "metadata": {},
     "output_type": "execute_result"
    }
   ],
   "source": [
    "my_series = pd.Series(s.index)\n",
    "my_series.head()"
   ]
  },
  {
   "cell_type": "code",
   "execution_count": 83,
   "metadata": {},
   "outputs": [
    {
     "data": {
      "text/plain": [
       "0      NaT\n",
       "1   1 days\n",
       "2   1 days\n",
       "3   3 days\n",
       "4   1 days\n",
       "dtype: timedelta64[ns]"
      ]
     },
     "execution_count": 83,
     "metadata": {},
     "output_type": "execute_result"
    }
   ],
   "source": [
    "my_series.diff(1).head()"
   ]
  },
  {
   "cell_type": "markdown",
   "metadata": {},
   "source": [
    "### 2. पुनः नमूनाकरण\n",
    "\n",
    "पुन: नमूनाकरण वस्तु `रीसैंपल` अध्याय 4 में ग्रुपिंग ऑब्जेक्ट `ग्रुपबाय` के समान है। पूर्व एक समूहीकरण वस्तु है जिसे समय श्रृंखला की समूह गणना के लिए डिज़ाइन किया गया है।\n",
    "\n",
    "उदाहरण के लिए, उपरोक्त श्रृंखला के लिए हर 10 दिनों में माध्य की गणना करें:"
   ]
  },
  {
   "cell_type": "code",
   "execution_count": 84,
   "metadata": {},
   "outputs": [
    {
     "data": {
      "text/plain": [
       "2020-01-01   -2.000000\n",
       "2020-01-11   -3.166667\n",
       "2020-01-21   -3.625000\n",
       "2020-01-31   -4.000000\n",
       "2020-02-10   -0.375000\n",
       "Freq: 10D, dtype: float64"
      ]
     },
     "execution_count": 84,
     "metadata": {},
     "output_type": "execute_result"
    }
   ],
   "source": [
    "s.resample('10D').mean().head()"
   ]
  },
  {
   "cell_type": "markdown",
   "metadata": {},
   "source": [
    "उसी समय, यदि कोई अंतर्निहित परिभाषित प्रसंस्करण फ़ंक्शन नहीं है, तो आप इसे `लागू करें` विधि के माध्यम से अनुकूलित कर सकते हैं:"
   ]
  },
  {
   "cell_type": "code",
   "execution_count": 85,
   "metadata": {},
   "outputs": [
    {
     "data": {
      "text/plain": [
       "2020-01-01    3\n",
       "2020-01-11    4\n",
       "2020-01-21    4\n",
       "2020-01-31    2\n",
       "2020-02-10    4\n",
       "Freq: 10D, dtype: int32"
      ]
     },
     "execution_count": 85,
     "metadata": {},
     "output_type": "execute_result"
    }
   ],
   "source": [
    "s.resample('10D').apply(lambda x:x.max()-x.min()).head() # 极差"
   ]
  },
  {
   "cell_type": "markdown",
   "metadata": {},
   "source": [
    "`रीसैंपल` में समूह सीमा मानों के प्रसंस्करण पर विशेष ध्यान दें। डिफ़ॉल्ट रूप से, शुरुआती मूल्य की गणना न्यूनतम टाइमस्टैम्प के अनुरूप तिथि पर `00:00:00` से शुरू होकर `freq` को बढ़ाकर की जाती है। न्यूनतम टाइमस्टैम्प का अधिकतम टाइमस्टैम्प प्रारंभिक मान के रूप में संबंधित टाइमस्टैम्प है, और फिर `freq` पैरामीटर समूहीकरण के लिए एक विभाजन नोड के रूप में हर बार जमा होता है। अंतराल बाईं ओर बंद होता है और दाईं ओर खुला होता है। एक असमान उदाहरण नीचे बनाया गया है:"
   ]
  },
  {
   "cell_type": "code",
   "execution_count": 86,
   "metadata": {},
   "outputs": [
    {
     "data": {
      "text/plain": [
       "2020-01-01 08:26:35   -1\n",
       "2020-01-01 08:27:52   -1\n",
       "2020-01-01 08:29:09   -2\n",
       "2020-01-01 08:30:26   -3\n",
       "2020-01-01 08:31:43   -4\n",
       "Freq: 77S, dtype: int32"
      ]
     },
     "execution_count": 86,
     "metadata": {},
     "output_type": "execute_result"
    }
   ],
   "source": [
    "idx = pd.date_range('20200101 8:26:35', '20200101 9:31:58', freq='77s')\n",
    "data = np.random.randint(-1,2,len(idx)).cumsum()\n",
    "s = pd.Series(data,index=idx)\n",
    "s.head()"
   ]
  },
  {
   "cell_type": "markdown",
   "metadata": {},
   "source": [
    "निम्नलिखित के अनुरूप पहले समूह का प्रारंभिक मान `08:24:00` है, जो उस दिन 0 बजे से 72 `freq=7 मिनट` जोड़कर प्राप्त किया जाता है। यदि एक और `freq` जोड़ा जाता है, तो अनुक्रम का न्यूनतम मान पार हो जाएगा `08:26:35`:"
   ]
  },
  {
   "cell_type": "code",
   "execution_count": 87,
   "metadata": {},
   "outputs": [
    {
     "data": {
      "text/plain": [
       "2020-01-01 08:24:00   -1.750000\n",
       "2020-01-01 08:31:00   -2.600000\n",
       "2020-01-01 08:38:00   -2.166667\n",
       "2020-01-01 08:45:00    0.200000\n",
       "2020-01-01 08:52:00    2.833333\n",
       "Freq: 7T, dtype: float64"
      ]
     },
     "execution_count": 87,
     "metadata": {},
     "output_type": "execute_result"
    }
   ],
   "source": [
    "s.resample('7min').mean().head()"
   ]
  },
  {
   "cell_type": "markdown",
   "metadata": {},
   "source": [
    "कभी-कभी, उपयोगकर्ता अनुक्रम के न्यूनतम टाइमस्टैम्प से शुरू करके `freq` को बढ़ाकर समूह बनाना चाहते हैं, इस मामले में, `origin` पैरामीटर को `start` के रूप में निर्दिष्ट किया जा सकता है:"
   ]
  },
  {
   "cell_type": "code",
   "execution_count": 88,
   "metadata": {},
   "outputs": [
    {
     "data": {
      "text/plain": [
       "2020-01-01 08:26:35   -2.333333\n",
       "2020-01-01 08:33:35   -2.400000\n",
       "2020-01-01 08:40:35   -1.333333\n",
       "2020-01-01 08:47:35    1.200000\n",
       "2020-01-01 08:54:35    3.166667\n",
       "Freq: 7T, dtype: float64"
      ]
     },
     "execution_count": 88,
     "metadata": {},
     "output_type": "execute_result"
    }
   ],
   "source": [
    "s.resample('7min', origin='start').mean().head()"
   ]
  },
  {
   "cell_type": "markdown",
   "metadata": {},
   "source": [
    "रिटर्न वैल्यू में, यह ध्यान दिया जाना चाहिए कि सूचकांक आम तौर पर समूह का पहला टाइमस्टैम्प है, लेकिन `एम, ए, क्यू, बीएम, बीए, बीक्यू, डब्ल्यू` संबंधित अंतराल का अंतिम टाइमस्टैम्प है:"
   ]
  },
  {
   "cell_type": "code",
   "execution_count": 89,
   "metadata": {},
   "outputs": [
    {
     "data": {
      "text/plain": [
       "2020-01-31    0.451613\n",
       "2020-02-29    0.448276\n",
       "2020-03-31    0.516129\n",
       "2020-04-30    0.566667\n",
       "2020-05-31    0.451613\n",
       "Freq: M, dtype: float64"
      ]
     },
     "execution_count": 89,
     "metadata": {},
     "output_type": "execute_result"
    }
   ],
   "source": [
    "s = pd.Series(np.random.randint(2,size=366), index=pd.date_range('2020-01-01', '2020-12-31'))\n",
    "s.resample('M').mean().head()"
   ]
  },
  {
   "cell_type": "code",
   "execution_count": 90,
   "metadata": {},
   "outputs": [
    {
     "data": {
      "text/plain": [
       "2020-01-01    0.451613\n",
       "2020-02-01    0.448276\n",
       "2020-03-01    0.516129\n",
       "2020-04-01    0.566667\n",
       "2020-05-01    0.451613\n",
       "Freq: MS, dtype: float64"
      ]
     },
     "execution_count": 90,
     "metadata": {},
     "output_type": "execute_result"
    }
   ],
   "source": [
    "s.resample('MS').mean().head() # 结果一样，但索引不同"
   ]
  },
  {
   "cell_type": "markdown",
   "metadata": {},
   "source": [
    "## 6. अभ्यास\n",
    "### Ex1: सौर विकिरण डेटा सेट\n",
    "\n",
    "सौर विकिरण पर एक डेटा सेट है:"
   ]
  },
  {
   "cell_type": "code",
   "execution_count": 91,
   "metadata": {},
   "outputs": [
    {
     "data": {
      "text/html": [
       "<div>\n",
       "<style scoped>\n",
       "    .dataframe tbody tr th:only-of-type {\n",
       "        vertical-align: middle;\n",
       "    }\n",
       "\n",
       "    .dataframe tbody tr th {\n",
       "        vertical-align: top;\n",
       "    }\n",
       "\n",
       "    .dataframe thead th {\n",
       "        text-align: right;\n",
       "    }\n",
       "</style>\n",
       "<table border=\"1\" class=\"dataframe\">\n",
       "  <thead>\n",
       "    <tr style=\"text-align: right;\">\n",
       "      <th></th>\n",
       "      <th>Data</th>\n",
       "      <th>Time</th>\n",
       "      <th>Radiation</th>\n",
       "      <th>Temperature</th>\n",
       "    </tr>\n",
       "  </thead>\n",
       "  <tbody>\n",
       "    <tr>\n",
       "      <th>0</th>\n",
       "      <td>9/29/2016 12:00:00 AM</td>\n",
       "      <td>23:55:26</td>\n",
       "      <td>1.21</td>\n",
       "      <td>48</td>\n",
       "    </tr>\n",
       "    <tr>\n",
       "      <th>1</th>\n",
       "      <td>9/29/2016 12:00:00 AM</td>\n",
       "      <td>23:50:23</td>\n",
       "      <td>1.21</td>\n",
       "      <td>48</td>\n",
       "    </tr>\n",
       "    <tr>\n",
       "      <th>2</th>\n",
       "      <td>9/29/2016 12:00:00 AM</td>\n",
       "      <td>23:45:26</td>\n",
       "      <td>1.23</td>\n",
       "      <td>48</td>\n",
       "    </tr>\n",
       "  </tbody>\n",
       "</table>\n",
       "</div>"
      ],
      "text/plain": [
       "                    Data      Time  Radiation  Temperature\n",
       "0  9/29/2016 12:00:00 AM  23:55:26       1.21           48\n",
       "1  9/29/2016 12:00:00 AM  23:50:23       1.21           48\n",
       "2  9/29/2016 12:00:00 AM  23:45:26       1.23           48"
      ]
     },
     "execution_count": 91,
     "metadata": {},
     "output_type": "execute_result"
    }
   ],
   "source": [
    "df = pd.read_csv('../data/solar.csv', usecols=['Data','Time','Radiation','Temperature'])\n",
    "df.head(3)"
   ]
  },
  {
   "cell_type": "markdown",
   "metadata": {},
   "source": [
    "1. `दिनांक, समय` को एक समय कॉलम `दिनांक समय` में मर्ज करें, और इसे सॉर्ट करने के लिए एक सूचकांक के रूप में उपयोग करें।\n",
    "2. प्रत्येक रिकॉर्ड के बीच का समय अंतराल स्पष्ट रूप से सुसंगत नहीं है। कृपया निम्नलिखित समस्याओं का समाधान करें:\n",
    "* अंतराल के पहले तीन अधिकतम मूल्यों के अनुरूप टाइमस्टैम्प के तीन सेट खोजें।\n",
    "* क्या कोई अनुमानित सीमा है जिसमें अधिकांश अंतराल इसी सीमा के अंतर्गत आते हैं? यदि यह मौजूद है, तो कृपया इस सीमा में नमूना अंतराल सेकंड का एक हिस्टोग्राम बनाएं और `bins=50` सेट करें।\n",
    "3. निम्नलिखित संकेतकों के अनुरूप 'श्रृंखला' खोजें:\n",
    "* तापमान और विकिरण के बीच 6 घंटे का स्लाइडिंग सहसंबंध गुणांक\n",
    "* तीन बजे, नौ बजे, पंद्रह बजे और इक्कीस बजे में विभाजित, समय अंतराल का तापमान माध्य क्रम जिसमें अवलोकन स्थित है\n",
    "* प्रत्येक अवलोकन के लिए 6 घंटे पहले की विकिरण मात्रा (सामान्यतया, यह सटीक रूप से प्राप्त नहीं की जाएगी, इस मामले में, नवीनतम टाइमस्टैम्प के अनुरूप विकिरण मात्रा का उपयोग किया जाएगा)\n",
    "### Ex2: फल बिक्री डेटा सेट\n",
    "\n",
    "2019 में दैनिक फल बिक्री रिकॉर्ड तालिका है:"
   ]
  },
  {
   "cell_type": "code",
   "execution_count": 92,
   "metadata": {},
   "outputs": [
    {
     "data": {
      "text/html": [
       "<div>\n",
       "<style scoped>\n",
       "    .dataframe tbody tr th:only-of-type {\n",
       "        vertical-align: middle;\n",
       "    }\n",
       "\n",
       "    .dataframe tbody tr th {\n",
       "        vertical-align: top;\n",
       "    }\n",
       "\n",
       "    .dataframe thead th {\n",
       "        text-align: right;\n",
       "    }\n",
       "</style>\n",
       "<table border=\"1\" class=\"dataframe\">\n",
       "  <thead>\n",
       "    <tr style=\"text-align: right;\">\n",
       "      <th></th>\n",
       "      <th>Date</th>\n",
       "      <th>Fruit</th>\n",
       "      <th>Sale</th>\n",
       "    </tr>\n",
       "  </thead>\n",
       "  <tbody>\n",
       "    <tr>\n",
       "      <th>0</th>\n",
       "      <td>2019-04-18</td>\n",
       "      <td>Peach</td>\n",
       "      <td>15</td>\n",
       "    </tr>\n",
       "    <tr>\n",
       "      <th>1</th>\n",
       "      <td>2019-12-29</td>\n",
       "      <td>Peach</td>\n",
       "      <td>15</td>\n",
       "    </tr>\n",
       "    <tr>\n",
       "      <th>2</th>\n",
       "      <td>2019-06-05</td>\n",
       "      <td>Peach</td>\n",
       "      <td>19</td>\n",
       "    </tr>\n",
       "  </tbody>\n",
       "</table>\n",
       "</div>"
      ],
      "text/plain": [
       "         Date  Fruit  Sale\n",
       "0  2019-04-18  Peach    15\n",
       "1  2019-12-29  Peach    15\n",
       "2  2019-06-05  Peach    19"
      ]
     },
     "execution_count": 92,
     "metadata": {},
     "output_type": "execute_result"
    }
   ],
   "source": [
    "df = pd.read_csv('../data/fruit.csv')\n",
    "df.head(3)"
   ]
  },
  {
   "cell_type": "markdown",
   "metadata": {},
   "source": [
    "1. निम्नलिखित संकेतकों के आँकड़े:\n",
    "* प्रत्येक माह की पहली छमाही (15 तारीख को या उससे पहले) और महीने की दूसरी छमाही में अंगूर की बिक्री का अनुपात\n",
    "*प्रत्येक माह के अंतिम दिन नाशपाती की बिक्री का योग\n",
    "*प्रत्येक माह के अंतिम कार्य दिवस पर नाशपाती की बिक्री का योग\n",
    "* प्रत्येक माह के अंतिम पांच दिनों में सेब की औसत बिक्री\n",
    "2. मासिक आधार पर सोमवार से रविवार तक प्रत्येक किस्म के फल के रिकॉर्ड की औसत संख्या की गणना करें, पंक्ति सूचकांक की बाहरी परत फल का नाम है, आंतरिक परत महीना है, और स्तंभ सूचकांक सप्ताह है .\n",
    "3. दैनिक आधार पर पिछले 10 कार्य दिवसों के लिए Apple बिक्री औसत अनुक्रम की गणना करें, और गैर-कार्य दिवस मानों को पिछले कार्य दिवस के परिणामों से भरें।"
   ]
  }
 ],
 "metadata": {
  "kernelspec": {
   "display_name": "Python 3.7.9 64-bit ('ML': conda)",
   "metadata": {
    "interpreter": {
     "hash": "539eeca01c4a82e9e0248c7d96d3e95516d644c0bbc096dd3e480eeded1964cf"
    }
   },
   "name": "python3"
  },
  "language_info": {
   "codemirror_mode": {
    "name": "ipython",
    "version": 3
   },
   "file_extension": ".py",
   "mimetype": "text/x-python",
   "name": "python",
   "nbconvert_exporter": "python",
   "pygments_lexer": "ipython3",
   "version": "3.7.9-final"
  }
 },
 "nbformat": 4,
 "nbformat_minor": 2
}
