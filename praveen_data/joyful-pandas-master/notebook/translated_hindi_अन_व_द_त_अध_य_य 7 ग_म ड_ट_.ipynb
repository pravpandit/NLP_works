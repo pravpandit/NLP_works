{
 "cells": [
  {
   "cell_type": "markdown",
   "metadata": {},
   "source": [
    "<केंद्र><h1>अध्याय 7 गुम डेटा</h1></केंद्र>"
   ]
  },
  {
   "cell_type": "code",
   "execution_count": 1,
   "metadata": {},
   "outputs": [],
   "source": [
    "import numpy as np\n",
    "import pandas as pd"
   ]
  },
  {
   "cell_type": "markdown",
   "metadata": {},
   "source": [
    "## 1. सांख्यिकी और लुप्त मानों का विलोपन\n",
    "### 1. गुम सूचना के आँकड़े\n",
    "\n",
    "गुम डेटा के लिए, आप यह जांचने के लिए `isna` या `isnull` (दोनों फ़ंक्शन समान हैं) का उपयोग कर सकते हैं कि क्या प्रत्येक सेल `मीन` के साथ संयुक्त है, प्रत्येक कॉलम में लापता मानों का अनुपात हो सकता है गणना:"
   ]
  },
  {
   "cell_type": "code",
   "execution_count": 2,
   "metadata": {},
   "outputs": [
    {
     "data": {
      "text/html": [
       "<div>\n",
       "<style scoped>\n",
       "    .dataframe tbody tr th:only-of-type {\n",
       "        vertical-align: middle;\n",
       "    }\n",
       "\n",
       "    .dataframe tbody tr th {\n",
       "        vertical-align: top;\n",
       "    }\n",
       "\n",
       "    .dataframe thead th {\n",
       "        text-align: right;\n",
       "    }\n",
       "</style>\n",
       "<table border=\"1\" class=\"dataframe\">\n",
       "  <thead>\n",
       "    <tr style=\"text-align: right;\">\n",
       "      <th></th>\n",
       "      <th>Grade</th>\n",
       "      <th>Name</th>\n",
       "      <th>Gender</th>\n",
       "      <th>Height</th>\n",
       "      <th>Weight</th>\n",
       "      <th>Transfer</th>\n",
       "    </tr>\n",
       "  </thead>\n",
       "  <tbody>\n",
       "    <tr>\n",
       "      <th>0</th>\n",
       "      <td>False</td>\n",
       "      <td>False</td>\n",
       "      <td>False</td>\n",
       "      <td>False</td>\n",
       "      <td>False</td>\n",
       "      <td>False</td>\n",
       "    </tr>\n",
       "    <tr>\n",
       "      <th>1</th>\n",
       "      <td>False</td>\n",
       "      <td>False</td>\n",
       "      <td>False</td>\n",
       "      <td>False</td>\n",
       "      <td>False</td>\n",
       "      <td>False</td>\n",
       "    </tr>\n",
       "    <tr>\n",
       "      <th>2</th>\n",
       "      <td>False</td>\n",
       "      <td>False</td>\n",
       "      <td>False</td>\n",
       "      <td>False</td>\n",
       "      <td>False</td>\n",
       "      <td>False</td>\n",
       "    </tr>\n",
       "    <tr>\n",
       "      <th>3</th>\n",
       "      <td>False</td>\n",
       "      <td>False</td>\n",
       "      <td>False</td>\n",
       "      <td>True</td>\n",
       "      <td>False</td>\n",
       "      <td>False</td>\n",
       "    </tr>\n",
       "    <tr>\n",
       "      <th>4</th>\n",
       "      <td>False</td>\n",
       "      <td>False</td>\n",
       "      <td>False</td>\n",
       "      <td>False</td>\n",
       "      <td>False</td>\n",
       "      <td>False</td>\n",
       "    </tr>\n",
       "  </tbody>\n",
       "</table>\n",
       "</div>"
      ],
      "text/plain": [
       "   Grade   Name  Gender  Height  Weight  Transfer\n",
       "0  False  False   False   False   False     False\n",
       "1  False  False   False   False   False     False\n",
       "2  False  False   False   False   False     False\n",
       "3  False  False   False    True   False     False\n",
       "4  False  False   False   False   False     False"
      ]
     },
     "execution_count": 2,
     "metadata": {},
     "output_type": "execute_result"
    }
   ],
   "source": [
    "df = pd.read_csv('../data/learn_pandas.csv', usecols = ['Grade', 'Name', 'Gender', 'Height', 'Weight', 'Transfer'])\n",
    "df.isna().head()"
   ]
  },
  {
   "cell_type": "code",
   "execution_count": 3,
   "metadata": {},
   "outputs": [
    {
     "data": {
      "text/plain": [
       "Grade       0.000\n",
       "Name        0.000\n",
       "Gender      0.000\n",
       "Height      0.085\n",
       "Weight      0.055\n",
       "Transfer    0.060\n",
       "dtype: float64"
      ]
     },
     "execution_count": 3,
     "metadata": {},
     "output_type": "execute_result"
    }
   ],
   "source": [
    "df.isna().mean() # 查看缺失的比例"
   ]
  },
  {
   "cell_type": "markdown",
   "metadata": {},
   "source": [
    "यदि आप उन पंक्तियों को देखना चाहते हैं जहां कोई कॉलम गायब है या गायब नहीं है, तो आप बूलियन इंडेक्सिंग के लिए `सीरीज` पर `isna` या `notna` का उपयोग कर सकते हैं। उदाहरण के लिए, उन पंक्तियों को देखने के लिए जहां ऊंचाई गायब है:"
   ]
  },
  {
   "cell_type": "code",
   "execution_count": 4,
   "metadata": {},
   "outputs": [
    {
     "data": {
      "text/html": [
       "<div>\n",
       "<style scoped>\n",
       "    .dataframe tbody tr th:only-of-type {\n",
       "        vertical-align: middle;\n",
       "    }\n",
       "\n",
       "    .dataframe tbody tr th {\n",
       "        vertical-align: top;\n",
       "    }\n",
       "\n",
       "    .dataframe thead th {\n",
       "        text-align: right;\n",
       "    }\n",
       "</style>\n",
       "<table border=\"1\" class=\"dataframe\">\n",
       "  <thead>\n",
       "    <tr style=\"text-align: right;\">\n",
       "      <th></th>\n",
       "      <th>Grade</th>\n",
       "      <th>Name</th>\n",
       "      <th>Gender</th>\n",
       "      <th>Height</th>\n",
       "      <th>Weight</th>\n",
       "      <th>Transfer</th>\n",
       "    </tr>\n",
       "  </thead>\n",
       "  <tbody>\n",
       "    <tr>\n",
       "      <th>3</th>\n",
       "      <td>Sophomore</td>\n",
       "      <td>Xiaojuan Sun</td>\n",
       "      <td>Female</td>\n",
       "      <td>NaN</td>\n",
       "      <td>41.0</td>\n",
       "      <td>N</td>\n",
       "    </tr>\n",
       "    <tr>\n",
       "      <th>12</th>\n",
       "      <td>Senior</td>\n",
       "      <td>Peng You</td>\n",
       "      <td>Female</td>\n",
       "      <td>NaN</td>\n",
       "      <td>48.0</td>\n",
       "      <td>NaN</td>\n",
       "    </tr>\n",
       "    <tr>\n",
       "      <th>26</th>\n",
       "      <td>Junior</td>\n",
       "      <td>Yanli You</td>\n",
       "      <td>Female</td>\n",
       "      <td>NaN</td>\n",
       "      <td>48.0</td>\n",
       "      <td>N</td>\n",
       "    </tr>\n",
       "    <tr>\n",
       "      <th>36</th>\n",
       "      <td>Freshman</td>\n",
       "      <td>Xiaojuan Qin</td>\n",
       "      <td>Male</td>\n",
       "      <td>NaN</td>\n",
       "      <td>79.0</td>\n",
       "      <td>Y</td>\n",
       "    </tr>\n",
       "    <tr>\n",
       "      <th>60</th>\n",
       "      <td>Freshman</td>\n",
       "      <td>Yanpeng Lv</td>\n",
       "      <td>Male</td>\n",
       "      <td>NaN</td>\n",
       "      <td>65.0</td>\n",
       "      <td>N</td>\n",
       "    </tr>\n",
       "  </tbody>\n",
       "</table>\n",
       "</div>"
      ],
      "text/plain": [
       "        Grade          Name  Gender  Height  Weight Transfer\n",
       "3   Sophomore  Xiaojuan Sun  Female     NaN    41.0        N\n",
       "12     Senior      Peng You  Female     NaN    48.0      NaN\n",
       "26     Junior     Yanli You  Female     NaN    48.0        N\n",
       "36   Freshman  Xiaojuan Qin    Male     NaN    79.0        Y\n",
       "60   Freshman    Yanpeng Lv    Male     NaN    65.0        N"
      ]
     },
     "execution_count": 4,
     "metadata": {},
     "output_type": "execute_result"
    }
   ],
   "source": [
    "df[df.Height.isna()].head()"
   ]
  },
  {
   "cell_type": "markdown",
   "metadata": {},
   "source": [
    "यदि आप एक ही समय में सभी गायब कॉलम, कम से कम एक गायब कॉलम, या कोई गायब कॉलम वाली पंक्तियों को पुनः प्राप्त करना चाहते हैं, तो आप `isna, notna` और `any, all` के संयोजन का उपयोग कर सकते हैं इन तीन स्थितियों में ऊंचाई, वजन और स्थानांतरण स्थिति के तीन कॉलम:"
   ]
  },
  {
   "cell_type": "code",
   "execution_count": 5,
   "metadata": {},
   "outputs": [
    {
     "data": {
      "text/html": [
       "<div>\n",
       "<style scoped>\n",
       "    .dataframe tbody tr th:only-of-type {\n",
       "        vertical-align: middle;\n",
       "    }\n",
       "\n",
       "    .dataframe tbody tr th {\n",
       "        vertical-align: top;\n",
       "    }\n",
       "\n",
       "    .dataframe thead th {\n",
       "        text-align: right;\n",
       "    }\n",
       "</style>\n",
       "<table border=\"1\" class=\"dataframe\">\n",
       "  <thead>\n",
       "    <tr style=\"text-align: right;\">\n",
       "      <th></th>\n",
       "      <th>Grade</th>\n",
       "      <th>Name</th>\n",
       "      <th>Gender</th>\n",
       "      <th>Height</th>\n",
       "      <th>Weight</th>\n",
       "      <th>Transfer</th>\n",
       "    </tr>\n",
       "  </thead>\n",
       "  <tbody>\n",
       "    <tr>\n",
       "      <th>102</th>\n",
       "      <td>Junior</td>\n",
       "      <td>Chengli Zhao</td>\n",
       "      <td>Male</td>\n",
       "      <td>NaN</td>\n",
       "      <td>NaN</td>\n",
       "      <td>NaN</td>\n",
       "    </tr>\n",
       "  </tbody>\n",
       "</table>\n",
       "</div>"
      ],
      "text/plain": [
       "      Grade          Name Gender  Height  Weight Transfer\n",
       "102  Junior  Chengli Zhao   Male     NaN     NaN      NaN"
      ]
     },
     "execution_count": 5,
     "metadata": {},
     "output_type": "execute_result"
    }
   ],
   "source": [
    "sub_set = df[['Height', 'Weight', 'Transfer']]\n",
    "df[sub_set.isna().all(1)] # 全部缺失"
   ]
  },
  {
   "cell_type": "code",
   "execution_count": 6,
   "metadata": {},
   "outputs": [
    {
     "data": {
      "text/html": [
       "<div>\n",
       "<style scoped>\n",
       "    .dataframe tbody tr th:only-of-type {\n",
       "        vertical-align: middle;\n",
       "    }\n",
       "\n",
       "    .dataframe tbody tr th {\n",
       "        vertical-align: top;\n",
       "    }\n",
       "\n",
       "    .dataframe thead th {\n",
       "        text-align: right;\n",
       "    }\n",
       "</style>\n",
       "<table border=\"1\" class=\"dataframe\">\n",
       "  <thead>\n",
       "    <tr style=\"text-align: right;\">\n",
       "      <th></th>\n",
       "      <th>Grade</th>\n",
       "      <th>Name</th>\n",
       "      <th>Gender</th>\n",
       "      <th>Height</th>\n",
       "      <th>Weight</th>\n",
       "      <th>Transfer</th>\n",
       "    </tr>\n",
       "  </thead>\n",
       "  <tbody>\n",
       "    <tr>\n",
       "      <th>3</th>\n",
       "      <td>Sophomore</td>\n",
       "      <td>Xiaojuan Sun</td>\n",
       "      <td>Female</td>\n",
       "      <td>NaN</td>\n",
       "      <td>41.0</td>\n",
       "      <td>N</td>\n",
       "    </tr>\n",
       "    <tr>\n",
       "      <th>9</th>\n",
       "      <td>Junior</td>\n",
       "      <td>Juan Xu</td>\n",
       "      <td>Female</td>\n",
       "      <td>164.8</td>\n",
       "      <td>NaN</td>\n",
       "      <td>N</td>\n",
       "    </tr>\n",
       "    <tr>\n",
       "      <th>12</th>\n",
       "      <td>Senior</td>\n",
       "      <td>Peng You</td>\n",
       "      <td>Female</td>\n",
       "      <td>NaN</td>\n",
       "      <td>48.0</td>\n",
       "      <td>NaN</td>\n",
       "    </tr>\n",
       "    <tr>\n",
       "      <th>21</th>\n",
       "      <td>Senior</td>\n",
       "      <td>Xiaopeng Shen</td>\n",
       "      <td>Male</td>\n",
       "      <td>166.0</td>\n",
       "      <td>62.0</td>\n",
       "      <td>NaN</td>\n",
       "    </tr>\n",
       "    <tr>\n",
       "      <th>26</th>\n",
       "      <td>Junior</td>\n",
       "      <td>Yanli You</td>\n",
       "      <td>Female</td>\n",
       "      <td>NaN</td>\n",
       "      <td>48.0</td>\n",
       "      <td>N</td>\n",
       "    </tr>\n",
       "  </tbody>\n",
       "</table>\n",
       "</div>"
      ],
      "text/plain": [
       "        Grade           Name  Gender  Height  Weight Transfer\n",
       "3   Sophomore   Xiaojuan Sun  Female     NaN    41.0        N\n",
       "9      Junior        Juan Xu  Female   164.8     NaN        N\n",
       "12     Senior       Peng You  Female     NaN    48.0      NaN\n",
       "21     Senior  Xiaopeng Shen    Male   166.0    62.0      NaN\n",
       "26     Junior      Yanli You  Female     NaN    48.0        N"
      ]
     },
     "execution_count": 6,
     "metadata": {},
     "output_type": "execute_result"
    }
   ],
   "source": [
    "df[sub_set.isna().any(1)].head() # 至少有一个缺失"
   ]
  },
  {
   "cell_type": "code",
   "execution_count": 7,
   "metadata": {},
   "outputs": [
    {
     "data": {
      "text/html": [
       "<div>\n",
       "<style scoped>\n",
       "    .dataframe tbody tr th:only-of-type {\n",
       "        vertical-align: middle;\n",
       "    }\n",
       "\n",
       "    .dataframe tbody tr th {\n",
       "        vertical-align: top;\n",
       "    }\n",
       "\n",
       "    .dataframe thead th {\n",
       "        text-align: right;\n",
       "    }\n",
       "</style>\n",
       "<table border=\"1\" class=\"dataframe\">\n",
       "  <thead>\n",
       "    <tr style=\"text-align: right;\">\n",
       "      <th></th>\n",
       "      <th>Grade</th>\n",
       "      <th>Name</th>\n",
       "      <th>Gender</th>\n",
       "      <th>Height</th>\n",
       "      <th>Weight</th>\n",
       "      <th>Transfer</th>\n",
       "    </tr>\n",
       "  </thead>\n",
       "  <tbody>\n",
       "    <tr>\n",
       "      <th>0</th>\n",
       "      <td>Freshman</td>\n",
       "      <td>Gaopeng Yang</td>\n",
       "      <td>Female</td>\n",
       "      <td>158.9</td>\n",
       "      <td>46.0</td>\n",
       "      <td>N</td>\n",
       "    </tr>\n",
       "    <tr>\n",
       "      <th>1</th>\n",
       "      <td>Freshman</td>\n",
       "      <td>Changqiang You</td>\n",
       "      <td>Male</td>\n",
       "      <td>166.5</td>\n",
       "      <td>70.0</td>\n",
       "      <td>N</td>\n",
       "    </tr>\n",
       "    <tr>\n",
       "      <th>2</th>\n",
       "      <td>Senior</td>\n",
       "      <td>Mei Sun</td>\n",
       "      <td>Male</td>\n",
       "      <td>188.9</td>\n",
       "      <td>89.0</td>\n",
       "      <td>N</td>\n",
       "    </tr>\n",
       "    <tr>\n",
       "      <th>4</th>\n",
       "      <td>Sophomore</td>\n",
       "      <td>Gaojuan You</td>\n",
       "      <td>Male</td>\n",
       "      <td>174.0</td>\n",
       "      <td>74.0</td>\n",
       "      <td>N</td>\n",
       "    </tr>\n",
       "    <tr>\n",
       "      <th>5</th>\n",
       "      <td>Freshman</td>\n",
       "      <td>Xiaoli Qian</td>\n",
       "      <td>Female</td>\n",
       "      <td>158.0</td>\n",
       "      <td>51.0</td>\n",
       "      <td>N</td>\n",
       "    </tr>\n",
       "  </tbody>\n",
       "</table>\n",
       "</div>"
      ],
      "text/plain": [
       "       Grade            Name  Gender  Height  Weight Transfer\n",
       "0   Freshman    Gaopeng Yang  Female   158.9    46.0        N\n",
       "1   Freshman  Changqiang You    Male   166.5    70.0        N\n",
       "2     Senior         Mei Sun    Male   188.9    89.0        N\n",
       "4  Sophomore     Gaojuan You    Male   174.0    74.0        N\n",
       "5   Freshman     Xiaoli Qian  Female   158.0    51.0        N"
      ]
     },
     "execution_count": 7,
     "metadata": {},
     "output_type": "execute_result"
    }
   ],
   "source": [
    "df[sub_set.notna().all(1)].head() # 没有缺失"
   ]
  },
  {
   "cell_type": "markdown",
   "metadata": {},
   "source": [
    "### 2. गुम सूचना को हटाना\n",
    "\n",
    "डेटा प्रोसेसिंग में, लापता मानों के आकार, अनुपात या अन्य विशेषताओं के आधार पर पंक्ति नमूने या कॉलम सुविधाओं को हटाना अक्सर आवश्यक होता है। `पांडा` इस ऑपरेशन को करने के लिए `ड्रॉपना` फ़ंक्शन प्रदान करता है।\n",
    "\n",
    "`ड्रॉपना` के मुख्य पैरामीटर अक्ष दिशा `अक्ष` हैं (डिफ़ॉल्ट 0 है, यानी पंक्तियों को हटाएं), हटाने की विधि `कैसे`, गैर-लापता मानों की संख्या की सीमा हटा दिया गया `थ्रेश` (संबंधित आयामजो इस संख्या तक नहीं पहुंचेंगे उन्हें हटा दिया जाएगा), और वैकल्पिक विलोपन उपसमुच्चय 'उपसमूह', उनमें से 'कैसे' में चुनने के लिए मुख्य रूप से दो पैरामीटर हैं: 'कोई भी' और 'सभी'।\n",
    "\n",
    "उदाहरण के लिए, कम से कम एक गायब ऊँचाई और वजन वाली पंक्तियाँ हटाएँ:"
   ]
  },
  {
   "cell_type": "code",
   "execution_count": 8,
   "metadata": {},
   "outputs": [
    {
     "data": {
      "text/plain": [
       "(174, 6)"
      ]
     },
     "execution_count": 8,
     "metadata": {},
     "output_type": "execute_result"
    }
   ],
   "source": [
    "res = df.dropna(how = 'any', subset = ['Height', 'Weight'])\n",
    "res.shape"
   ]
  },
  {
   "cell_type": "markdown",
   "metadata": {},
   "source": [
    "उदाहरण के लिए, 15 से अधिक लुप्त मान वाले कॉलम को हटाने के लिए:"
   ]
  },
  {
   "cell_type": "code",
   "execution_count": 9,
   "metadata": {},
   "outputs": [
    {
     "data": {
      "text/html": [
       "<div>\n",
       "<style scoped>\n",
       "    .dataframe tbody tr th:only-of-type {\n",
       "        vertical-align: middle;\n",
       "    }\n",
       "\n",
       "    .dataframe tbody tr th {\n",
       "        vertical-align: top;\n",
       "    }\n",
       "\n",
       "    .dataframe thead th {\n",
       "        text-align: right;\n",
       "    }\n",
       "</style>\n",
       "<table border=\"1\" class=\"dataframe\">\n",
       "  <thead>\n",
       "    <tr style=\"text-align: right;\">\n",
       "      <th></th>\n",
       "      <th>Grade</th>\n",
       "      <th>Name</th>\n",
       "      <th>Gender</th>\n",
       "      <th>Weight</th>\n",
       "      <th>Transfer</th>\n",
       "    </tr>\n",
       "  </thead>\n",
       "  <tbody>\n",
       "    <tr>\n",
       "      <th>0</th>\n",
       "      <td>Freshman</td>\n",
       "      <td>Gaopeng Yang</td>\n",
       "      <td>Female</td>\n",
       "      <td>46.0</td>\n",
       "      <td>N</td>\n",
       "    </tr>\n",
       "    <tr>\n",
       "      <th>1</th>\n",
       "      <td>Freshman</td>\n",
       "      <td>Changqiang You</td>\n",
       "      <td>Male</td>\n",
       "      <td>70.0</td>\n",
       "      <td>N</td>\n",
       "    </tr>\n",
       "    <tr>\n",
       "      <th>2</th>\n",
       "      <td>Senior</td>\n",
       "      <td>Mei Sun</td>\n",
       "      <td>Male</td>\n",
       "      <td>89.0</td>\n",
       "      <td>N</td>\n",
       "    </tr>\n",
       "    <tr>\n",
       "      <th>3</th>\n",
       "      <td>Sophomore</td>\n",
       "      <td>Xiaojuan Sun</td>\n",
       "      <td>Female</td>\n",
       "      <td>41.0</td>\n",
       "      <td>N</td>\n",
       "    </tr>\n",
       "    <tr>\n",
       "      <th>4</th>\n",
       "      <td>Sophomore</td>\n",
       "      <td>Gaojuan You</td>\n",
       "      <td>Male</td>\n",
       "      <td>74.0</td>\n",
       "      <td>N</td>\n",
       "    </tr>\n",
       "  </tbody>\n",
       "</table>\n",
       "</div>"
      ],
      "text/plain": [
       "       Grade            Name  Gender  Weight Transfer\n",
       "0   Freshman    Gaopeng Yang  Female    46.0        N\n",
       "1   Freshman  Changqiang You    Male    70.0        N\n",
       "2     Senior         Mei Sun    Male    89.0        N\n",
       "3  Sophomore    Xiaojuan Sun  Female    41.0        N\n",
       "4  Sophomore     Gaojuan You    Male    74.0        N"
      ]
     },
     "execution_count": 9,
     "metadata": {},
     "output_type": "execute_result"
    }
   ],
   "source": [
    "res = df.dropna(1, thresh=df.shape[0]-15) # 身高被删除\n",
    "res.head()"
   ]
  },
  {
   "cell_type": "markdown",
   "metadata": {},
   "source": [
    "बेशक, `ड्रॉपना` के बिना भी ऐसा करना संभव है। उदाहरण के लिए, ऊपर उल्लिखित दो ऑपरेशन बूलियन इंडेक्सिंग का उपयोग करके भी किए जा सकते हैं:"
   ]
  },
  {
   "cell_type": "code",
   "execution_count": 10,
   "metadata": {},
   "outputs": [
    {
     "data": {
      "text/plain": [
       "(174, 6)"
      ]
     },
     "execution_count": 10,
     "metadata": {},
     "output_type": "execute_result"
    }
   ],
   "source": [
    "res = df.loc[df[['Height', 'Weight']].notna().all(1)]\n",
    "res.shape"
   ]
  },
  {
   "cell_type": "code",
   "execution_count": 11,
   "metadata": {},
   "outputs": [
    {
     "data": {
      "text/html": [
       "<div>\n",
       "<style scoped>\n",
       "    .dataframe tbody tr th:only-of-type {\n",
       "        vertical-align: middle;\n",
       "    }\n",
       "\n",
       "    .dataframe tbody tr th {\n",
       "        vertical-align: top;\n",
       "    }\n",
       "\n",
       "    .dataframe thead th {\n",
       "        text-align: right;\n",
       "    }\n",
       "</style>\n",
       "<table border=\"1\" class=\"dataframe\">\n",
       "  <thead>\n",
       "    <tr style=\"text-align: right;\">\n",
       "      <th></th>\n",
       "      <th>Grade</th>\n",
       "      <th>Name</th>\n",
       "      <th>Gender</th>\n",
       "      <th>Weight</th>\n",
       "      <th>Transfer</th>\n",
       "    </tr>\n",
       "  </thead>\n",
       "  <tbody>\n",
       "    <tr>\n",
       "      <th>0</th>\n",
       "      <td>Freshman</td>\n",
       "      <td>Gaopeng Yang</td>\n",
       "      <td>Female</td>\n",
       "      <td>46.0</td>\n",
       "      <td>N</td>\n",
       "    </tr>\n",
       "    <tr>\n",
       "      <th>1</th>\n",
       "      <td>Freshman</td>\n",
       "      <td>Changqiang You</td>\n",
       "      <td>Male</td>\n",
       "      <td>70.0</td>\n",
       "      <td>N</td>\n",
       "    </tr>\n",
       "    <tr>\n",
       "      <th>2</th>\n",
       "      <td>Senior</td>\n",
       "      <td>Mei Sun</td>\n",
       "      <td>Male</td>\n",
       "      <td>89.0</td>\n",
       "      <td>N</td>\n",
       "    </tr>\n",
       "    <tr>\n",
       "      <th>3</th>\n",
       "      <td>Sophomore</td>\n",
       "      <td>Xiaojuan Sun</td>\n",
       "      <td>Female</td>\n",
       "      <td>41.0</td>\n",
       "      <td>N</td>\n",
       "    </tr>\n",
       "    <tr>\n",
       "      <th>4</th>\n",
       "      <td>Sophomore</td>\n",
       "      <td>Gaojuan You</td>\n",
       "      <td>Male</td>\n",
       "      <td>74.0</td>\n",
       "      <td>N</td>\n",
       "    </tr>\n",
       "  </tbody>\n",
       "</table>\n",
       "</div>"
      ],
      "text/plain": [
       "       Grade            Name  Gender  Weight Transfer\n",
       "0   Freshman    Gaopeng Yang  Female    46.0        N\n",
       "1   Freshman  Changqiang You    Male    70.0        N\n",
       "2     Senior         Mei Sun    Male    89.0        N\n",
       "3  Sophomore    Xiaojuan Sun  Female    41.0        N\n",
       "4  Sophomore     Gaojuan You    Male    74.0        N"
      ]
     },
     "execution_count": 11,
     "metadata": {},
     "output_type": "execute_result"
    }
   ],
   "source": [
    "res = df.loc[:, ~(df.isna().sum()>15)]\n",
    "res.head()"
   ]
  },
  {
   "cell_type": "markdown",
   "metadata": {},
   "source": [
    "## 2. लुप्त मानों की पूर्ति एवं प्रक्षेप\n",
    "### 1. भराव भरना\n",
    "\n",
    "`फिलना` में आमतौर पर उपयोग किए जाने वाले तीन पैरामीटर हैं: `वैल्यू, मेथड, लिमिट`। उनमें से `वैल्यू` फिलिंग वैल्यू है, जो इंडेक्स से एलिमेंट तक एक स्केलर या डिक्शनरी मैपिंग हो सकता है; `मेथड` फिलिंग है; विधि, जिसके दो प्रकार हैं: पिछले तत्वों को भरने के लिए `ffill` और निम्नलिखित तत्वों को भरने के लिए `bfill` `limit` पैरामीटर लगातार गायब v के लिए भरने की अधिकतम संख्या को इंगित करता हैalues.\n",
    "\n",
    "आइए उपयोग को स्पष्ट करने के लिए एक सरल `श्रृंखला` बनाएं:"
   ]
  },
  {
   "cell_type": "code",
   "execution_count": 12,
   "metadata": {},
   "outputs": [
    {
     "data": {
      "text/plain": [
       "a    NaN\n",
       "a    1.0\n",
       "a    NaN\n",
       "b    NaN\n",
       "c    2.0\n",
       "d    NaN\n",
       "dtype: float64"
      ]
     },
     "execution_count": 12,
     "metadata": {},
     "output_type": "execute_result"
    }
   ],
   "source": [
    "s = pd.Series([np.nan, 1, np.nan, np.nan, 2, np.nan], list('aaabcd'))\n",
    "s"
   ]
  },
  {
   "cell_type": "code",
   "execution_count": 13,
   "metadata": {},
   "outputs": [
    {
     "data": {
      "text/plain": [
       "a    NaN\n",
       "a    1.0\n",
       "a    1.0\n",
       "b    1.0\n",
       "c    2.0\n",
       "d    2.0\n",
       "dtype: float64"
      ]
     },
     "execution_count": 13,
     "metadata": {},
     "output_type": "execute_result"
    }
   ],
   "source": [
    "s.fillna(method='ffill') # 用前面的值向后填充"
   ]
  },
  {
   "cell_type": "code",
   "execution_count": 14,
   "metadata": {},
   "outputs": [
    {
     "data": {
      "text/plain": [
       "a    NaN\n",
       "a    1.0\n",
       "a    1.0\n",
       "b    NaN\n",
       "c    2.0\n",
       "d    2.0\n",
       "dtype: float64"
      ]
     },
     "execution_count": 14,
     "metadata": {},
     "output_type": "execute_result"
    }
   ],
   "source": [
    "s.fillna(method='ffill', limit=1) # 连续出现的缺失，最多填充一次"
   ]
  },
  {
   "cell_type": "code",
   "execution_count": 15,
   "metadata": {},
   "outputs": [
    {
     "data": {
      "text/plain": [
       "a    1.5\n",
       "a    1.0\n",
       "a    1.5\n",
       "b    1.5\n",
       "c    2.0\n",
       "d    1.5\n",
       "dtype: float64"
      ]
     },
     "execution_count": 15,
     "metadata": {},
     "output_type": "execute_result"
    }
   ],
   "source": [
    "s.fillna(s.mean()) # value为标量"
   ]
  },
  {
   "cell_type": "code",
   "execution_count": 16,
   "metadata": {},
   "outputs": [
    {
     "data": {
      "text/plain": [
       "a    100.0\n",
       "a      1.0\n",
       "a    100.0\n",
       "b      NaN\n",
       "c      2.0\n",
       "d    200.0\n",
       "dtype: float64"
      ]
     },
     "execution_count": 16,
     "metadata": {},
     "output_type": "execute_result"
    }
   ],
   "source": [
    "s.fillna({'a': 100, 'd': 200}) # 通过索引映射填充的值"
   ]
  },
  {
   "cell_type": "markdown",
   "metadata": {},
   "source": [
    "कभी-कभी, अधिक उचित रूप से भरने के लिए, आपको पहले समूह बनाना होगा और फिर संचालित करना होगा। उदाहरण के लिए, ग्रेड के अनुसार ऊंचाई का औसत मान भरें:"
   ]
  },
  {
   "cell_type": "code",
   "execution_count": 17,
   "metadata": {},
   "outputs": [
    {
     "data": {
      "text/plain": [
       "0    158.900000\n",
       "1    166.500000\n",
       "2    188.900000\n",
       "3    163.075862\n",
       "4    174.000000\n",
       "Name: Height, dtype: float64"
      ]
     },
     "execution_count": 17,
     "metadata": {},
     "output_type": "execute_result"
    }
   ],
   "source": [
    "df.groupby('Grade')['Height'].transform(lambda x: x.fillna(x.mean())).head()"
   ]
  },
  {
   "cell_type": "markdown",
   "metadata": {},
   "source": [
    "#### 【अभ्यास】\n",
    "निम्नलिखित नियमों के अनुसार लुप्त मानों को एक क्रम में भरें: यदि कोई लुप्त मान अकेला दिखाई देता है, तो उसे पहले और बाद के माध्य से भरें, यदि लुप्त मान लगातार दिखाई देते हैं, तो उसे न भरें, अर्थात। अनुक्रम `[1, NaN, 3, NaN, NaN]` `[1, 2, 3, NaN, NaN]` से भरा है, कृपया इसे लागू करने के लिए `fillna` फ़ंक्शन का उपयोग करें (संकेत: `सीमा का उपयोग करें `पैरामीटर)\n",
    "#### 【अंत】\n",
    "### 2. इंटरपोलेशन फ़ंक्शन\n",
    "\n",
    "`इंटरपोलेट` फ़ंक्शन के विवरण में [दस्तावेज़](https://pandas.pydata.org/docs/reference/api/pandas.Series.interpolate.html#pandas.Series.interpolate), कई इंटरपोलेशन विधियां सूचीबद्ध हैं, जिनमें `Scipy` में बड़ी संख्या में विधियां शामिल हैं क्योंकि कई इंटरपोलेशन विधियों में अपेक्षाकृत जटिल गणित शामिल है ज्ञान, यहां केवल तीन सामान्य और सरल मामलों पर चर्चा की गई है, अर्थात् रैखिक प्रक्षेप, निकटतम पड़ोसी प्रक्षेप और सूचकांक प्रक्षेप।\n",
    "\n",
    "`इंटरपोलेट` के लिए, इंटरपोलेशन विधि के अलावा (डिफ़ॉल्ट `रैखिक` रैखिक इंटरपोल है)tion), `फ़िलना` के समान दो सामान्य पैरामीटर हैं, एक दिशा को नियंत्रित करने के लिए `limit_direction` है, और दूसरा `limi` है जो इंटरपोलेट करने के लिए लगातार लापता मानों की अधिकतम संख्या को नियंत्रित करता है। प्रतिबंधित इंटरपोलेशन की डिफ़ॉल्ट दिशा `फॉरवर्ड` है, जो `फिलना` की `मेथड` में `फिल` के समान है। यदि आप बैकवर्ड प्रतिबंधित इंटरपोलेशन या द्विदिश प्रतिबंधित इंटरपोलेशन चाहते हैं, तो आप इसे `बैकवर्ड` या` दोनों के रूप में निर्दिष्ट कर सकते हैं। `."
   ]
  },
  {
   "cell_type": "code",
   "execution_count": 18,
   "metadata": {},
   "outputs": [
    {
     "data": {
      "text/plain": [
       "array([nan, nan,  1., nan, nan, nan,  2., nan, nan])"
      ]
     },
     "execution_count": 18,
     "metadata": {},
     "output_type": "execute_result"
    }
   ],
   "source": [
    "s = pd.Series([np.nan, np.nan, 1, np.nan, np.nan, np.nan, 2, np.nan, np.nan])\n",
    "s.values"
   ]
  },
  {
   "cell_type": "markdown",
   "metadata": {},
   "source": [
    "उदाहरण के लिए, डिफ़ॉल्ट रैखिक इंटरपोलेशन विधि के तहत, `पिछड़ा` और द्विदिश सीमित इंटरपोलेशन क्रमशः किया जाता है, और लगातार पंक्तियों की अधिकतम संख्या 1 तक सीमित होती है:"
   ]
  },
  {
   "cell_type": "code",
   "execution_count": 19,
   "metadata": {},
   "outputs": [
    {
     "data": {
      "text/plain": [
       "array([ nan, 1.  , 1.  ,  nan,  nan, 1.75, 2.  ,  nan,  nan])"
      ]
     },
     "execution_count": 19,
     "metadata": {},
     "output_type": "execute_result"
    }
   ],
   "source": [
    "res = s.interpolate(limit_direction='backward', limit=1)\n",
    "res.values"
   ]
  },
  {
   "cell_type": "code",
   "execution_count": 20,
   "metadata": {},
   "outputs": [
    {
     "data": {
      "text/plain": [
       "array([ nan, 1.  , 1.  , 1.25,  nan, 1.75, 2.  , 2.  ,  nan])"
      ]
     },
     "execution_count": 20,
     "metadata": {},
     "output_type": "execute_result"
    }
   ],
   "source": [
    "res = s.interpolate(limit_direction='both', limit=1)\n",
    "res.values"
   ]
  },
  {
   "cell_type": "markdown",
   "metadata": {},
   "source": [
    "दूसरा सामान्य प्रक्षेप निकटतम पड़ोसी प्रक्षेप है, जहां लुप्त मान निकटतम गैर-लुप्त मान के समान है:"
   ]
  },
  {
   "cell_type": "code",
   "execution_count": 21,
   "metadata": {},
   "outputs": [
    {
     "data": {
      "text/plain": [
       "array([nan, nan,  1.,  1.,  1.,  2.,  2., nan, nan])"
      ]
     },
     "execution_count": 21,
     "metadata": {},
     "output_type": "execute_result"
    }
   ],
   "source": [
    "s.interpolate('nearest').values"
   ]
  },
  {
   "cell_type": "markdown",
   "metadata": {},
   "source": [
    "अंत में, आइए इंडेक्स इंटरपोलेशन का परिचय दें, जो इंडेक्स आकार के आधार पर रैखिक इंटरपोलेशन है, उदाहरण के लिए, प्रदर्शन के लिए असमान दूरी वाले इंडेक्स का निर्माण करें:"
   ]
  },
  {
   "cell_type": "code",
   "execution_count": 22,
   "metadata": {},
   "outputs": [
    {
     "data": {
      "text/plain": [
       "0      0.0\n",
       "1      NaN\n",
       "10    10.0\n",
       "dtype: float64"
      ]
     },
     "execution_count": 22,
     "metadata": {},
     "output_type": "execute_result"
    }
   ],
   "source": [
    "s = pd.Series([0,np.nan,10],index=[0,1,10])\n",
    "s"
   ]
  },
  {
   "cell_type": "code",
   "execution_count": 23,
   "metadata": {},
   "outputs": [
    {
     "data": {
      "text/plain": [
       "0      0.0\n",
       "1      5.0\n",
       "10    10.0\n",
       "dtype: float64"
      ]
     },
     "execution_count": 23,
     "metadata": {},
     "output_type": "execute_result"
    }
   ],
   "source": [
    "s.interpolate() # 默认的线性插值，等价于计算中点的值"
   ]
  },
  {
   "cell_type": "code",
   "execution_count": 24,
   "metadata": {},
   "outputs": [
    {
     "data": {
      "text/plain": [
       "0      0.0\n",
       "1      1.0\n",
       "10    10.0\n",
       "dtype: float64"
      ]
     },
     "execution_count": 24,
     "metadata": {},
     "output_type": "execute_result"
    }
   ],
   "source": [
    "s.interpolate(method='index') # 和索引有关的线性插值，计算相应索引大小对应的值"
   ]
  },
  {
   "cell_type": "markdown",
   "metadata": {},
   "source": [
    "साथ ही, इस पद्धति का उपयोग टाइमस्टैम्प इंडेक्स के लिए भी किया जा सकता है। समय श्रृंखला के बारे में अन्य विषयों पर अध्याय 10 में चर्चा की जाएगी। यहां एक सरल उदाहरण दिया गया है:"
   ]
  },
  {
   "cell_type": "code",
   "execution_count": 25,
   "metadata": {},
   "outputs": [
    {
     "data": {
      "text/plain": [
       "2020-01-01     0.0\n",
       "2020-01-02     NaN\n",
       "2020-01-11    10.0\n",
       "dtype: float64"
      ]
     },
     "execution_count": 25,
     "metadata": {},
     "output_type": "execute_result"
    }
   ],
   "source": [
    "s = pd.Series([0,np.nan,10], index=pd.to_datetime(['20200101', '20200102', '20200111']))\n",
    "s"
   ]
  },
  {
   "cell_type": "code",
   "execution_count": 26,
   "metadata": {},
   "outputs": [
    {
     "data": {
      "text/plain": [
       "2020-01-01     0.0\n",
       "2020-01-02     5.0\n",
       "2020-01-11    10.0\n",
       "dtype: float64"
      ]
     },
     "execution_count": 26,
     "metadata": {},
     "output_type": "execute_result"
    }
   ],
   "source": [
    "s.interpolate()"
   ]
  },
  {
   "cell_type": "code",
   "execution_count": 27,
   "metadata": {},
   "outputs": [
    {
     "data": {
      "text/plain": [
       "2020-01-01     0.0\n",
       "2020-01-02     1.0\n",
       "2020-01-11    10.0\n",
       "dtype: float64"
      ]
     },
     "execution_count": 27,
     "metadata": {},
     "output_type": "execute_result"
    }
   ],
   "source": [
    "s.interpolate(method='index')"
   ]
  },
  {
   "cell_type": "markdown",
   "metadata": {},
   "source": [
    "#### 【नोट】बहुपद और तख़्ता प्रक्षेप पर नोट्स\n",
    "यदि `बहुपद` की प्रक्षेप विधि को `इंटरपोलेट` में चुना जाता है, तो यह आंतरिक रूप से `scipy.interpolate.interp1d(*,*,kind=order)` को कॉल करता है, जो आंतरिक रूप से `make_interp_spline` विधि को कॉल करता है, इसलिए यह वास्तव में स्पलाइन इंटरपोलेशन है `numpy` में `polyfit` के समान बहुपद फिटिंग इंटरपोलेशन के बजाय और जब `spline` विधि का चयन किया जाता है, तो `pandas` साधारण spline interpolati के बजाय `scipy.interpolate.UnivariateSpline` को कॉल करता है;इस भाग का दस्तावेज़ विवरण भ्रामक है, और इस पैरामीटर का डिज़ाइन भी अनुचित है। इन दो प्रकार की इंटरपोलेशन विधियों का उपयोग करते समय, उपयोगकर्ताओं को अपनी वास्तविक आवश्यकताओं के अनुसार उचित इंटरपोलेशन विधि चुनने में सावधानी बरतनी चाहिए।\n",
    "#### 【अंत】\n",
    "## 3. अशक्त प्रकार\n",
    "### 1. लुप्त प्रतीक एवं उसके दोष\n",
    "\n",
    "`पायथन` में, लुप्त मानों को `कोई नहीं` द्वारा दर्शाया जाता है, जो स्वयं को छोड़कर किसी अन्य तत्व के बराबर नहीं है:"
   ]
  },
  {
   "cell_type": "code",
   "execution_count": 28,
   "metadata": {},
   "outputs": [
    {
     "data": {
      "text/plain": [
       "True"
      ]
     },
     "execution_count": 28,
     "metadata": {},
     "output_type": "execute_result"
    }
   ],
   "source": [
    "None == None"
   ]
  },
  {
   "cell_type": "code",
   "execution_count": 29,
   "metadata": {},
   "outputs": [
    {
     "data": {
      "text/plain": [
       "False"
      ]
     },
     "execution_count": 29,
     "metadata": {},
     "output_type": "execute_result"
    }
   ],
   "source": [
    "None == False"
   ]
  },
  {
   "cell_type": "code",
   "execution_count": 30,
   "metadata": {},
   "outputs": [
    {
     "data": {
      "text/plain": [
       "False"
      ]
     },
     "execution_count": 30,
     "metadata": {},
     "output_type": "execute_result"
    }
   ],
   "source": [
    "None == []"
   ]
  },
  {
   "cell_type": "code",
   "execution_count": 31,
   "metadata": {},
   "outputs": [
    {
     "data": {
      "text/plain": [
       "False"
      ]
     },
     "execution_count": 31,
     "metadata": {},
     "output_type": "execute_result"
    }
   ],
   "source": [
    "None == ''"
   ]
  },
  {
   "cell_type": "markdown",
   "metadata": {},
   "source": [
    "Numpy में, np.nan का उपयोग लापता मानों को दर्शाने के लिए किया जाता है, किसी अन्य तत्व के साथ असमान होने के अलावा, स्वयं के साथ तुलना परिणाम भी गलत होता है:"
   ]
  },
  {
   "cell_type": "code",
   "execution_count": 32,
   "metadata": {},
   "outputs": [
    {
     "data": {
      "text/plain": [
       "False"
      ]
     },
     "execution_count": 32,
     "metadata": {},
     "output_type": "execute_result"
    }
   ],
   "source": [
    "np.nan == np.nan"
   ]
  },
  {
   "cell_type": "code",
   "execution_count": 33,
   "metadata": {},
   "outputs": [
    {
     "data": {
      "text/plain": [
       "False"
      ]
     },
     "execution_count": 33,
     "metadata": {},
     "output_type": "execute_result"
    }
   ],
   "source": [
    "np.nan == None"
   ]
  },
  {
   "cell_type": "code",
   "execution_count": 34,
   "metadata": {},
   "outputs": [
    {
     "data": {
      "text/plain": [
       "False"
      ]
     },
     "execution_count": 34,
     "metadata": {},
     "output_type": "execute_result"
    }
   ],
   "source": [
    "np.nan == False"
   ]
  },
  {
   "cell_type": "markdown",
   "metadata": {},
   "source": [
    "यह ध्यान देने योग्य है कि यद्यपि लापता अनुक्रमों या तालिकाओं के तत्वों की तुलना करते समय np.nan की संबंधित स्थिति गलत लौट आएगी, दो तालिकाओं या दो अनुक्रमों की पहचान का परीक्षण करने के लिए बराबर फ़ंक्शन का उपयोग करते समय, यह स्वचालित रूप से उन स्थितियों को छोड़ देगा जहां दोनों तालिकाएं हैं गुम मान हैं और सीधे सत्य लौटाते हैं:"
   ]
  },
  {
   "cell_type": "code",
   "execution_count": 35,
   "metadata": {},
   "outputs": [
    {
     "data": {
      "text/plain": [
       "0     True\n",
       "1    False\n",
       "dtype: bool"
      ]
     },
     "execution_count": 35,
     "metadata": {},
     "output_type": "execute_result"
    }
   ],
   "source": [
    "s1 = pd.Series([1, np.nan])\n",
    "s2 = pd.Series([1, 2])\n",
    "s3 = pd.Series([1, np.nan])\n",
    "s1 == 1"
   ]
  },
  {
   "cell_type": "code",
   "execution_count": 36,
   "metadata": {},
   "outputs": [
    {
     "data": {
      "text/plain": [
       "False"
      ]
     },
     "execution_count": 36,
     "metadata": {},
     "output_type": "execute_result"
    }
   ],
   "source": [
    "s1.equals(s2)"
   ]
  },
  {
   "cell_type": "code",
   "execution_count": 37,
   "metadata": {},
   "outputs": [
    {
     "data": {
      "text/plain": [
       "True"
      ]
     },
     "execution_count": 37,
     "metadata": {},
     "output_type": "execute_result"
    }
   ],
   "source": [
    "s1.equals(s3)"
   ]
  },
  {
   "cell_type": "markdown",
   "metadata": {},
   "source": [
    "समय श्रृंखला वस्तुओं में, `पांडा` लापता मानों को संदर्भित करने के लिए `pd.NaT` का उपयोग करता है, जिसका प्रभाव `np.nan` के समान होता है (समय श्रृंखला वस्तुओं और निर्माणों पर अध्याय 10 में चर्चा की जाएगी):"
   ]
  },
  {
   "cell_type": "code",
   "execution_count": 38,
   "metadata": {},
   "outputs": [
    {
     "data": {
      "text/plain": [
       "TimedeltaIndex(['0 days 00:00:30', NaT], dtype='timedelta64[ns]', freq=None)"
      ]
     },
     "execution_count": 38,
     "metadata": {},
     "output_type": "execute_result"
    }
   ],
   "source": [
    "pd.to_timedelta(['30s', np.nan]) # Timedelta中的NaT"
   ]
  },
  {
   "cell_type": "code",
   "execution_count": 39,
   "metadata": {},
   "outputs": [
    {
     "data": {
      "text/plain": [
       "DatetimeIndex(['2020-01-01', 'NaT'], dtype='datetime64[ns]', freq=None)"
      ]
     },
     "execution_count": 39,
     "metadata": {},
     "output_type": "execute_result"
    }
   ],
   "source": [
    "pd.to_datetime(['20200101', np.nan]) # Datetime中的NaT"
   ]
  },
  {
   "cell_type": "markdown",
   "metadata": {},
   "source": [
    "तो समय वस्तुओं में लुप्त मानों को दर्शाने के लिए `pd.NaT` क्यों पेश करें? यदि हम अभी भी उन्हें `np.nan` के रूप में संग्रहीत करते हैं, तो क्या समस्याएँ हैं? `पांडा` में, हम प्रकार की वस्तुओं को देख सकते हैं `ऑब्जेक्ट`, जो एक मिश्रित ऑब्जेक्ट प्रकार है। यदि एक ही समय में `सीरीज़` में कई प्रकार के तत्व संग्रहीत हैं, तो इसका प्रकार `ऑब्जेक्ट` बन जाएगा। उदाहरण के लिए, एक सूची जो पूर्णांक और स्ट्रिंग दोनों को संग्रहीत करती है:"
   ]
  },
  {
   "cell_type": "code",
   "execution_count": 40,
   "metadata": {},
   "outputs": [
    {
     "data": {
      "text/plain": [
       "0      1\n",
       "1    two\n",
       "dtype: object"
      ]
     },
     "execution_count": 40,
     "metadata": {},
     "output_type": "execute_result"
    }
   ],
   "source": [
    "pd.Series([1, 'two'])"
   ]
  },
  {
   "cell_type": "markdown",
   "metadata": {},
   "source": [
    "`NaT` समस्या की जड़ इस तथ्य से आती है कि `np.nan` स्वयं एक फ़्लोटिंग-पॉइंट प्रकार है। यदि फ़्लोटिंग-पॉइंट और समय प्रकार को एक साथ संग्रहीत किया जाता है, तो एक नया अंतर्निहित लापता प्रकार को संभालने के लिए डिज़ाइन नहीं किया गया है यह, यह एक अस्पष्ट 'ऑब्जेक्ट' प्रकार बन जाएगा, जो स्पष्ट रूप से वांछनीय नहीं है।"
   ]
  },
  {
   "cell_type": "code",
   "execution_count": 41,
   "metadata": {},
   "outputs": [
    {
     "data": {
      "text/plain": [
       "float"
      ]
     },
     "execution_count": 41,
     "metadata": {},
     "output_type": "execute_result"
    }
   ],
   "source": [
    "type(np.nan)"
   ]
  },
  {
   "cell_type": "markdown",
   "metadata": {},
   "source": [
    "उसी समय, `np.nan` की फ़्लोटिंग-पॉइंट प्रकृति के कारण, यदि पूर्णांकों की `श्रृंखला` में कोई लुप्त मान है, तो इसका प्रकार `float64` में परिवर्तित हो जाएगा और यदि कोई लुप्त मान है; बूलियन श्रृंखला में, इसका प्रकार `बूल` के बजाय `ऑब्जेक्ट` में परिवर्तित हो जाएगा:"
   ]
  },
  {
   "cell_type": "code",
   "execution_count": 42,
   "metadata": {},
   "outputs": [
    {
     "data": {
      "text/plain": [
       "dtype('float64')"
      ]
     },
     "execution_count": 42,
     "metadata": {},
     "output_type": "execute_result"
    }
   ],
   "source": [
    "pd.Series([1, np.nan]).dtype"
   ]
  },
  {
   "cell_type": "code",
   "execution_count": 43,
   "metadata": {},
   "outputs": [
    {
     "data": {
      "text/plain": [
       "dtype('O')"
      ]
     },
     "execution_count": 43,
     "metadata": {},
     "output_type": "execute_result"
    }
   ],
   "source": [
    "pd.Series([True, False, np.nan]).dtype"
   ]
  },
  {
   "cell_type": "markdown",
   "metadata": {},
   "source": [
    "इसलिए, `1.0.0` संस्करण में प्रवेश करने के बाद, `पांडा` ने इन दोषों से निपटने के लिए एक नया लापता प्रकार `pd.NA` और तीन `nullable` अनुक्रम प्रकार डिजाइन करने का प्रयास किया, जो `Int, boolean` और `string हैं `.\n",
    "\n",
    "### 2. निरर्थक प्रकार के गुण\n",
    "\n",
    "शाब्दिक अर्थ से, 'Nullable' खाली है, जिसका अर्थ है कि अनुक्रम प्रकार लापता मानों से प्रभावित नहीं होता है। उदाहरण के लिए, उपरोक्त तीन 'Nullable' प्रकारों में लुप्त मानों को संग्रहीत करने से 'पांडा' निर्मित हो जाएगा -in `pd.NA`:"
   ]
  },
  {
   "cell_type": "code",
   "execution_count": 44,
   "metadata": {},
   "outputs": [
    {
     "data": {
      "text/plain": [
       "0    <NA>\n",
       "1       1\n",
       "dtype: Int64"
      ]
     },
     "execution_count": 44,
     "metadata": {},
     "output_type": "execute_result"
    }
   ],
   "source": [
    "pd.Series([np.nan, 1], dtype = 'Int64') # \"i\"是大写的"
   ]
  },
  {
   "cell_type": "code",
   "execution_count": 45,
   "metadata": {},
   "outputs": [
    {
     "data": {
      "text/plain": [
       "0    <NA>\n",
       "1    True\n",
       "dtype: boolean"
      ]
     },
     "execution_count": 45,
     "metadata": {},
     "output_type": "execute_result"
    }
   ],
   "source": [
    "pd.Series([np.nan, True], dtype = 'boolean')"
   ]
  },
  {
   "cell_type": "code",
   "execution_count": 46,
   "metadata": {},
   "outputs": [
    {
     "data": {
      "text/plain": [
       "0      <NA>\n",
       "1    my_str\n",
       "dtype: string"
      ]
     },
     "execution_count": 46,
     "metadata": {},
     "output_type": "execute_result"
    }
   ],
   "source": [
    "pd.Series([np.nan, 'my_str'], dtype = 'string')"
   ]
  },
  {
   "cell_type": "markdown",
   "metadata": {},
   "source": [
    "`Int` के अनुक्रम में, जब भी संभव हो लौटाए गए परिणाम `Nullable` प्रकार के होंगे:"
   ]
  },
  {
   "cell_type": "code",
   "execution_count": 47,
   "metadata": {},
   "outputs": [
    {
     "data": {
      "text/plain": [
       "0    <NA>\n",
       "1       1\n",
       "dtype: Int64"
      ]
     },
     "execution_count": 47,
     "metadata": {},
     "output_type": "execute_result"
    }
   ],
   "source": [
    "pd.Series([np.nan, 0], dtype = 'Int64') + 1"
   ]
  },
  {
   "cell_type": "code",
   "execution_count": 48,
   "metadata": {},
   "outputs": [
    {
     "data": {
      "text/plain": [
       "0    <NA>\n",
       "1    True\n",
       "dtype: boolean"
      ]
     },
     "execution_count": 48,
     "metadata": {},
     "output_type": "execute_result"
    }
   ],
   "source": [
    "pd.Series([np.nan, 0], dtype = 'Int64') == 0"
   ]
  },
  {
   "cell_type": "code",
   "execution_count": 49,
   "metadata": {},
   "outputs": [
    {
     "data": {
      "text/plain": [
       "0    NaN\n",
       "1    0.0\n",
       "dtype: float64"
      ]
     },
     "execution_count": 49,
     "metadata": {},
     "output_type": "execute_result"
    }
   ],
   "source": [
    "pd.Series([np.nan, 0], dtype = 'Int64') * 0.5 # 只能是浮点"
   ]
  },
  {
   "cell_type": "markdown",
   "metadata": {},
   "source": [
    "`बूलियन` प्रकार के अनुक्रम के लिए, `बूल` अनुक्रम से व्यवहार में दो मुख्य अंतर हैं:\n",
    "\n",
    "पहला यह है कि लुप्त मानों वाली बूलियन सूची को इंडेक्सर में नहीं चुना जा सकता है, जबकि `बूलियन` लुप्त मानों को `गलत` मानता है:"
   ]
  },
  {
   "cell_type": "code",
   "execution_count": 50,
   "metadata": {},
   "outputs": [
    {
     "data": {
      "text/plain": [
       "0    a\n",
       "dtype: object"
      ]
     },
     "execution_count": 50,
     "metadata": {},
     "output_type": "execute_result"
    }
   ],
   "source": [
    "s = pd.Series(['a', 'b'])\n",
    "s_bool = pd.Series([True, np.nan])\n",
    "s_boolean = pd.Series([True, np.nan]).astype('boolean')\n",
    "# s[s_bool] # त्रुटि\n",
    "s[s_boolean]"
   ]
  },
  {
   "cell_type": "markdown",
   "metadata": {},
   "source": [
    "दूसरा बिंदु यह है कि तार्किक संचालन करते समय, 'बूल' प्रकार हमेशा लापता मूल्य पर 'गलत' लौटाता है, जबकि 'बूलियन' इस आधार पर संबंधित मान लौटाएगा कि तार्किक ऑपरेशन एक अद्वितीय परिणाम निर्धारित कर सकता है या नहीं एक अद्वितीय परिणाम निर्धारित करने का मतलब है? आइए एक सरल उदाहरण लें: `True |. pd.NA` लुप्त मूल्य की परवाह किए बिना हमेशा `True` लौटाएगा; लुप्त मान, और `pd.NA` होगाइस मामले में l लौटाया जाएगा; `गलत और pd.NA` गायब मूल्य की परवाह किए बिना हमेशा `गलत` लौटाएगा।"
   ]
  },
  {
   "cell_type": "code",
   "execution_count": 51,
   "metadata": {},
   "outputs": [
    {
     "data": {
      "text/plain": [
       "0    True\n",
       "1    <NA>\n",
       "dtype: boolean"
      ]
     },
     "execution_count": 51,
     "metadata": {},
     "output_type": "execute_result"
    }
   ],
   "source": [
    "s_boolean & True"
   ]
  },
  {
   "cell_type": "code",
   "execution_count": 52,
   "metadata": {},
   "outputs": [
    {
     "data": {
      "text/plain": [
       "0    True\n",
       "1    True\n",
       "dtype: boolean"
      ]
     },
     "execution_count": 52,
     "metadata": {},
     "output_type": "execute_result"
    }
   ],
   "source": [
    "s_boolean | True"
   ]
  },
  {
   "cell_type": "code",
   "execution_count": 53,
   "metadata": {},
   "outputs": [
    {
     "data": {
      "text/plain": [
       "0    False\n",
       "1     <NA>\n",
       "dtype: boolean"
      ]
     },
     "execution_count": 53,
     "metadata": {},
     "output_type": "execute_result"
    }
   ],
   "source": [
    "~s_boolean # 取反操作同样是无法唯一地判断缺失结果"
   ]
  },
  {
   "cell_type": "markdown",
   "metadata": {},
   "source": [
    "`स्ट्रिंग` प्रकार के विशिष्ट गुणों पर टेक्स्ट डेटा पर अगले अध्याय में चर्चा की जाएगी।\n",
    "\n",
    "आम तौर पर, वास्तविक डेटा को संसाधित करते समय, आप डेटा सेट को पढ़ने के बाद इसे `convert_dtypes` के माध्यम से `Nullable` प्रकार में परिवर्तित कर सकते हैं:"
   ]
  },
  {
   "cell_type": "code",
   "execution_count": 54,
   "metadata": {},
   "outputs": [
    {
     "data": {
      "text/plain": [
       "School          string\n",
       "Grade           string\n",
       "Name            string\n",
       "Gender          string\n",
       "Height         float64\n",
       "Weight           Int64\n",
       "Transfer        string\n",
       "Test_Number      Int64\n",
       "Test_Date       string\n",
       "Time_Record     string\n",
       "dtype: object"
      ]
     },
     "execution_count": 54,
     "metadata": {},
     "output_type": "execute_result"
    }
   ],
   "source": [
    "df = pd.read_csv('../data/learn_pandas.csv')\n",
    "df = df.convert_dtypes()\n",
    "df.dtypes"
   ]
  },
  {
   "cell_type": "markdown",
   "metadata": {},
   "source": [
    "### 3. लुप्त डेटा की गणना और समूहीकरण\n",
    "\n",
    "जोड़ और गुणन का उपयोग करके फ़ंक्शन को `sum, prod` कहते समय, गायब डेटा को क्रमशः 0 और 1 के रूप में माना जाता है, जो मूल गणना परिणामों को नहीं बदलता है:"
   ]
  },
  {
   "cell_type": "code",
   "execution_count": 55,
   "metadata": {},
   "outputs": [
    {
     "data": {
      "text/plain": [
       "14.0"
      ]
     },
     "execution_count": 55,
     "metadata": {},
     "output_type": "execute_result"
    }
   ],
   "source": [
    "s = pd.Series([2,3,np.nan,4,5])\n",
    "s.sum()"
   ]
  },
  {
   "cell_type": "code",
   "execution_count": 56,
   "metadata": {},
   "outputs": [
    {
     "data": {
      "text/plain": [
       "120.0"
      ]
     },
     "execution_count": 56,
     "metadata": {},
     "output_type": "execute_result"
    }
   ],
   "source": [
    "s.prod()"
   ]
  },
  {
   "cell_type": "markdown",
   "metadata": {},
   "source": [
    "संचयी फ़ंक्शन का उपयोग करते समय, लापता मान स्वचालित रूप से छोड़ दिए जाते हैं:"
   ]
  },
  {
   "cell_type": "code",
   "execution_count": 57,
   "metadata": {},
   "outputs": [
    {
     "data": {
      "text/plain": [
       "0     2.0\n",
       "1     5.0\n",
       "2     NaN\n",
       "3     9.0\n",
       "4    14.0\n",
       "dtype: float64"
      ]
     },
     "execution_count": 57,
     "metadata": {},
     "output_type": "execute_result"
    }
   ],
   "source": [
    "s.cumsum()"
   ]
  },
  {
   "cell_type": "markdown",
   "metadata": {},
   "source": [
    "एकल स्केलर ऑपरेशन करते समय, `np.nan ** 0` और `1 ** np.nan` के दो मामलों को छोड़कर, जो निश्चित मान हैं, ऑपरेशन के सभी परिणाम गायब हैं (`pd का व्यवहार) .NA` इसके अनुरूप है), और `np.nan` को तुलना ऑपरेशन में `False` लौटाना होगा, जबकि `pd.NA` `pd.NA` लौटाता है:"
   ]
  },
  {
   "cell_type": "code",
   "execution_count": 58,
   "metadata": {},
   "outputs": [
    {
     "data": {
      "text/plain": [
       "False"
      ]
     },
     "execution_count": 58,
     "metadata": {},
     "output_type": "execute_result"
    }
   ],
   "source": [
    "np.nan == 0"
   ]
  },
  {
   "cell_type": "code",
   "execution_count": 59,
   "metadata": {},
   "outputs": [
    {
     "data": {
      "text/plain": [
       "<NA>"
      ]
     },
     "execution_count": 59,
     "metadata": {},
     "output_type": "execute_result"
    }
   ],
   "source": [
    "pd.NA == 0"
   ]
  },
  {
   "cell_type": "code",
   "execution_count": 60,
   "metadata": {},
   "outputs": [
    {
     "data": {
      "text/plain": [
       "False"
      ]
     },
     "execution_count": 60,
     "metadata": {},
     "output_type": "execute_result"
    }
   ],
   "source": [
    "np.nan > 0"
   ]
  },
  {
   "cell_type": "code",
   "execution_count": 61,
   "metadata": {},
   "outputs": [
    {
     "data": {
      "text/plain": [
       "<NA>"
      ]
     },
     "execution_count": 61,
     "metadata": {},
     "output_type": "execute_result"
    }
   ],
   "source": [
    "pd.NA > 0"
   ]
  },
  {
   "cell_type": "code",
   "execution_count": 62,
   "metadata": {},
   "outputs": [
    {
     "data": {
      "text/plain": [
       "nan"
      ]
     },
     "execution_count": 62,
     "metadata": {},
     "output_type": "execute_result"
    }
   ],
   "source": [
    "np.nan + 1"
   ]
  },
  {
   "cell_type": "code",
   "execution_count": 63,
   "metadata": {},
   "outputs": [
    {
     "data": {
      "text/plain": [
       "nan"
      ]
     },
     "execution_count": 63,
     "metadata": {},
     "output_type": "execute_result"
    }
   ],
   "source": [
    "np.log(np.nan)"
   ]
  },
  {
   "cell_type": "code",
   "execution_count": 64,
   "metadata": {},
   "outputs": [
    {
     "data": {
      "text/plain": [
       "nan"
      ]
     },
     "execution_count": 64,
     "metadata": {},
     "output_type": "execute_result"
    }
   ],
   "source": [
    "np.add(np.nan, 1)"
   ]
  },
  {
   "cell_type": "code",
   "execution_count": 65,
   "metadata": {},
   "outputs": [
    {
     "data": {
      "text/plain": [
       "1.0"
      ]
     },
     "execution_count": 65,
     "metadata": {},
     "output_type": "execute_result"
    }
   ],
   "source": [
    "np.nan ** 0"
   ]
  },
  {
   "cell_type": "code",
   "execution_count": 66,
   "metadata": {},
   "outputs": [
    {
     "data": {
      "text/plain": [
       "1"
      ]
     },
     "execution_count": 66,
     "metadata": {},
     "output_type": "execute_result"
    }
   ],
   "source": [
    "pd.NA ** 0"
   ]
  },
  {
   "cell_type": "code",
   "execution_count": 67,
   "metadata": {},
   "outputs": [
    {
     "data": {
      "text/plain": [
       "1.0"
      ]
     },
     "execution_count": 67,
     "metadata": {},
     "output_type": "execute_result"
    }
   ],
   "source": [
    "1 ** np.nan"
   ]
  },
  {
   "cell_type": "code",
   "execution_count": 68,
   "metadata": {},
   "outputs": [
    {
     "data": {
      "text/plain": [
       "1"
      ]
     },
     "execution_count": 68,
     "metadata": {},
     "output_type": "execute_result"
    }
   ],
   "source": [
    "1 ** pd.NA"
   ]
  },
  {
   "cell_type": "markdown",
   "metadata": {},
   "source": [
    "यह भी ध्यान दिया जाना चाहिए कि यद्यपि दो फ़ंक्शन `diff, pct_change` के समान कार्य हैं, वे लापता मानों को अलग-अलग तरीके से संभालते हैं, पहले में, लापता गणना में शामिल सभी भाग लापता मानों पर सेट होते हैं, जबकि बाद में, लुप्त मान स्थितियाँ 0% की परिवर्तन दर पर सेट हैं:"
   ]
  },
  {
   "cell_type": "code",
   "execution_count": 69,
   "metadata": {},
   "outputs": [
    {
     "data": {
      "text/plain": [
       "0    NaN\n",
       "1    1.0\n",
       "2    NaN\n",
       "3    NaN\n",
       "4    1.0\n",
       "dtype: float64"
      ]
     },
     "execution_count": 69,
     "metadata": {},
     "output_type": "execute_result"
    }
   ],
   "source": [
    "s.diff()"
   ]
  },
  {
   "cell_type": "code",
   "execution_count": 70,
   "metadata": {},
   "outputs": [
    {
     "data": {
      "text/plain": [
       "0         NaN\n",
       "1    0.500000\n",
       "2    0.000000\n",
       "3    0.333333\n",
       "4    0.250000\n",
       "dtype: float64"
      ]
     },
     "execution_count": 70,
     "metadata": {},
     "output_type": "execute_result"
    }
   ],
   "source": [
    "s.pct_change()"
   ]
  },
  {
   "cell_type": "markdown",
   "metadata": {},
   "source": [
    "कुछ फ़ंक्शंस के लिए, लापता को एक श्रेणी के रूप में माना जा सकता है, उदाहरण के लिए, `groupby, get_dummies` में, आप लापता श्रेणियों को जोड़ने के लिए संबंधित पैरामीटर सेट कर सकते हैं:"
   ]
  },
  {
   "cell_type": "code",
   "execution_count": 71,
   "metadata": {},
   "outputs": [
    {
     "data": {
      "text/html": [
       "<div>\n",
       "<style scoped>\n",
       "    .dataframe tbody tr th:only-of-type {\n",
       "        vertical-align: middle;\n",
       "    }\n",
       "\n",
       "    .dataframe tbody tr th {\n",
       "        vertical-align: top;\n",
       "    }\n",
       "\n",
       "    .dataframe thead th {\n",
       "        text-align: right;\n",
       "    }\n",
       "</style>\n",
       "<table border=\"1\" class=\"dataframe\">\n",
       "  <thead>\n",
       "    <tr style=\"text-align: right;\">\n",
       "      <th></th>\n",
       "      <th>category</th>\n",
       "      <th>value</th>\n",
       "    </tr>\n",
       "  </thead>\n",
       "  <tbody>\n",
       "    <tr>\n",
       "      <th>0</th>\n",
       "      <td>a</td>\n",
       "      <td>1</td>\n",
       "    </tr>\n",
       "    <tr>\n",
       "      <th>1</th>\n",
       "      <td>a</td>\n",
       "      <td>3</td>\n",
       "    </tr>\n",
       "    <tr>\n",
       "      <th>2</th>\n",
       "      <td>b</td>\n",
       "      <td>5</td>\n",
       "    </tr>\n",
       "    <tr>\n",
       "      <th>3</th>\n",
       "      <td>NaN</td>\n",
       "      <td>7</td>\n",
       "    </tr>\n",
       "    <tr>\n",
       "      <th>4</th>\n",
       "      <td>NaN</td>\n",
       "      <td>9</td>\n",
       "    </tr>\n",
       "  </tbody>\n",
       "</table>\n",
       "</div>"
      ],
      "text/plain": [
       "  category  value\n",
       "0        a      1\n",
       "1        a      3\n",
       "2        b      5\n",
       "3      NaN      7\n",
       "4      NaN      9"
      ]
     },
     "execution_count": 71,
     "metadata": {},
     "output_type": "execute_result"
    }
   ],
   "source": [
    "df_nan = pd.DataFrame({'category':['a','a','b',np.nan,np.nan], 'value':[1,3,5,7,9]})\n",
    "df_nan"
   ]
  },
  {
   "cell_type": "code",
   "execution_count": 72,
   "metadata": {},
   "outputs": [
    {
     "data": {
      "text/plain": [
       "category\n",
       "a      2\n",
       "b      5\n",
       "NaN    8\n",
       "Name: value, dtype: int64"
      ]
     },
     "execution_count": 72,
     "metadata": {},
     "output_type": "execute_result"
    }
   ],
   "source": [
    "df_nan.groupby('category', dropna=False)['value'].mean() # pandas版本大于1.1.0"
   ]
  },
  {
   "cell_type": "code",
   "execution_count": 73,
   "metadata": {},
   "outputs": [
    {
     "data": {
      "text/html": [
       "<div>\n",
       "<style scoped>\n",
       "    .dataframe tbody tr th:only-of-type {\n",
       "        vertical-align: middle;\n",
       "    }\n",
       "\n",
       "    .dataframe tbody tr th {\n",
       "        vertical-align: top;\n",
       "    }\n",
       "\n",
       "    .dataframe thead th {\n",
       "        text-align: right;\n",
       "    }\n",
       "</style>\n",
       "<table border=\"1\" class=\"dataframe\">\n",
       "  <thead>\n",
       "    <tr style=\"text-align: right;\">\n",
       "      <th></th>\n",
       "      <th>a</th>\n",
       "      <th>b</th>\n",
       "      <th>NaN</th>\n",
       "    </tr>\n",
       "  </thead>\n",
       "  <tbody>\n",
       "    <tr>\n",
       "      <th>0</th>\n",
       "      <td>1</td>\n",
       "      <td>0</td>\n",
       "      <td>0</td>\n",
       "    </tr>\n",
       "    <tr>\n",
       "      <th>1</th>\n",
       "      <td>1</td>\n",
       "      <td>0</td>\n",
       "      <td>0</td>\n",
       "    </tr>\n",
       "    <tr>\n",
       "      <th>2</th>\n",
       "      <td>0</td>\n",
       "      <td>1</td>\n",
       "      <td>0</td>\n",
       "    </tr>\n",
       "    <tr>\n",
       "      <th>3</th>\n",
       "      <td>0</td>\n",
       "      <td>0</td>\n",
       "      <td>1</td>\n",
       "    </tr>\n",
       "    <tr>\n",
       "      <th>4</th>\n",
       "      <td>0</td>\n",
       "      <td>0</td>\n",
       "      <td>1</td>\n",
       "    </tr>\n",
       "  </tbody>\n",
       "</table>\n",
       "</div>"
      ],
      "text/plain": [
       "   a  b  NaN\n",
       "0  1  0    0\n",
       "1  1  0    0\n",
       "2  0  1    0\n",
       "3  0  0    1\n",
       "4  0  0    1"
      ]
     },
     "execution_count": 73,
     "metadata": {},
     "output_type": "execute_result"
    }
   ],
   "source": [
    "pd.get_dummies(df_nan.category, dummy_na=True)"
   ]
  },
  {
   "cell_type": "markdown",
   "metadata": {},
   "source": [
    "##4. व्यायाम\n",
    "### Ex1: लुप्त मानों और श्रेणियों के बीच सहसंबंध परीक्षण\n",
    "डेटा प्रोसेसिंग में, बहुत सारे गायब मान वाले कॉलम अक्सर हटा दिए जाते हैं जब तक कि गायब मान लेबल के साथ दृढ़ता से सहसंबद्ध न हों, नीचे एक बाइनरी वर्गीकरण समस्या के लिए एक डेटा सेट है, जहां `X_1, X_2` हैं फ़ीचर वेरिएबल्स और `y` एक बाइनरी वर्गीकरण लेबल है।"
   ]
  },
  {
   "cell_type": "code",
   "execution_count": 74,
   "metadata": {},
   "outputs": [
    {
     "data": {
      "text/html": [
       "<div>\n",
       "<style scoped>\n",
       "    .dataframe tbody tr th:only-of-type {\n",
       "        vertical-align: middle;\n",
       "    }\n",
       "\n",
       "    .dataframe tbody tr th {\n",
       "        vertical-align: top;\n",
       "    }\n",
       "\n",
       "    .dataframe thead th {\n",
       "        text-align: right;\n",
       "    }\n",
       "</style>\n",
       "<table border=\"1\" class=\"dataframe\">\n",
       "  <thead>\n",
       "    <tr style=\"text-align: right;\">\n",
       "      <th></th>\n",
       "      <th>X_1</th>\n",
       "      <th>X_2</th>\n",
       "      <th>y</th>\n",
       "    </tr>\n",
       "  </thead>\n",
       "  <tbody>\n",
       "    <tr>\n",
       "      <th>0</th>\n",
       "      <td>NaN</td>\n",
       "      <td>NaN</td>\n",
       "      <td>0</td>\n",
       "    </tr>\n",
       "    <tr>\n",
       "      <th>1</th>\n",
       "      <td>NaN</td>\n",
       "      <td>NaN</td>\n",
       "      <td>0</td>\n",
       "    </tr>\n",
       "    <tr>\n",
       "      <th>2</th>\n",
       "      <td>NaN</td>\n",
       "      <td>NaN</td>\n",
       "      <td>0</td>\n",
       "    </tr>\n",
       "    <tr>\n",
       "      <th>3</th>\n",
       "      <td>43.0</td>\n",
       "      <td>NaN</td>\n",
       "      <td>0</td>\n",
       "    </tr>\n",
       "    <tr>\n",
       "      <th>4</th>\n",
       "      <td>NaN</td>\n",
       "      <td>NaN</td>\n",
       "      <td>0</td>\n",
       "    </tr>\n",
       "  </tbody>\n",
       "</table>\n",
       "</div>"
      ],
      "text/plain": [
       "    X_1  X_2  y\n",
       "0   NaN  NaN  0\n",
       "1   NaN  NaN  0\n",
       "2   NaN  NaN  0\n",
       "3  43.0  NaN  0\n",
       "4   NaN  NaN  0"
      ]
     },
     "execution_count": 74,
     "metadata": {},
     "output_type": "execute_result"
    }
   ],
   "source": [
    "df = pd.read_csv('../data/missing_chi.csv')\n",
    "df.head()"
   ]
  },
  {
   "cell_type": "code",
   "execution_count": 75,
   "metadata": {},
   "outputs": [
    {
     "data": {
      "text/plain": [
       "X_1    0.855\n",
       "X_2    0.894\n",
       "y      0.000\n",
       "dtype: float64"
      ]
     },
     "execution_count": 75,
     "metadata": {},
     "output_type": "execute_result"
    }
   ],
   "source": [
    "df.isna().mean()"
   ]
  },
  {
   "cell_type": "code",
   "execution_count": 76,
   "metadata": {},
   "outputs": [
    {
     "data": {
      "text/plain": [
       "0    0.918\n",
       "1    0.082\n",
       "Name: y, dtype: float64"
      ]
     },
     "execution_count": 76,
     "metadata": {},
     "output_type": "execute_result"
    }
   ],
   "source": [
    "df.y.value_counts(normalize=True)"
   ]
  },
  {
   "cell_type": "markdown",
   "metadata": {},
   "source": [
    "वास्तव में, कभी-कभी गायब मूल्यों की उपस्थिति या अनुपस्थिति स्वयं एक विशेषता होती है, और कुछ मामलों में यह लापता मूल्यों की उपस्थिति या अनुपस्थिति के संबंध में लेबल के सकारात्मक या नकारात्मक से संबंधित हो सकती है लेबल की सकारात्मक या नकारात्मक प्रकृति, ची-स्क्वायर परीक्षण का उपयोग आंकड़ों में यह सुनिश्चित करने के लिए किया जा सकता है कि गायब सुविधाओं वाले सकारात्मक उदाहरणों के अनुसार, गायब सुविधाओं वाले नकारात्मक उदाहरणों के अनुसार, उनके बीच कोई संबंध है या नहींगायब विशेषताएं, और बिना गायब सुविधाओं वाले नकारात्मक उदाहरण, इसे चार मामलों में विभाजित किया जा सकता है, और संबंधित नमूना संख्याएं $n_{11}, n_{10}, n_{01}, n_{00}$ हैं असंबंधित हैं, तो गायब फीचर में सकारात्मक उदाहरणों का सैद्धांतिक मूल्य $\\times$कुल सकारात्मक उदाहरणों में गायब फीचर की कुल संख्या के अनुपात के करीब होना चाहिए, यानी:\n",
    "\n",
    "$$E_{11} = n_{11} \\लगभग (n_{11}+n_{10})\\times\\frac{n_{11}+n_{01}}{n_{11}+n_{10}+ n_{01}+n_{00}} = F_{11}$$\n",
    "\n",
    "वही टी हैअन्य तीन मामलों के लिए, अब वास्तविक मूल्य और सैद्धांतिक मूल्य को क्रमशः $E_{ij}, F_{ij}$ के रूप में दर्ज किया जाए। फिर हम आशा करते हैं कि निम्नलिखित आँकड़ा यथासंभव छोटा है, जिसका अर्थ है कि वास्तविक मूल्य असंबंधित मामले के सैद्धांतिक मूल्य के करीब है:\n",
    "\n",
    "$$S = \\sum_{i\\in \\{0,1\\}}\\sum_{j\\in \\{0,1\\}} \\frac{(E_{ij}-F_{ij})^2}{ F_{ij}}$$\n",
    "\n",
    "यह साबित करने के लिए कि उपरोक्त आँकड़ा लगभग $1$ की स्वतंत्रता की डिग्री के साथ काई-स्क्वायर वितरण का पालन करता है, अर्थात, $S\\overset{\\cdot}{\\sim} \\chi^2(1)$. इसलिए, सहसंबंध का आकलन $P(\\chi^2(1)>S)$ की संभावना की गणना करके किया जा सकता है जब यह संभावना $0.05$ से कम होती है, तो गायब स्थिति और सकारात्मक या नकारात्मक लेबल के बीच एक संबंध होता है, यानी अप्रासंगिक परिस्थितियों में सैद्धांतिक मूल्य वास्तविक मूल्य से काफी अलग होता है।\n",
    "\n",
    "ऊपर उल्लिखित संभाव्यता आंकड़ों में $2\\times2$ आकस्मिकता तालिका परीक्षण समस्या का $p$ मान है, जोch को `scipy.stats.chi2.sf(S, 1)` के माध्यम से प्राप्त किया जा सकता है। कृपया उपरोक्त सामग्री के अनुसार क्रमशः `X_1, X_2` कॉलम का परीक्षण करें।\n",
    "\n",
    "### Ex2: प्रतिगमन मॉडल के साथ वर्गीकरण समस्याओं का समाधान करें\n",
    "\n",
    "`केएनएन` एक पर्यवेक्षित शिक्षण मॉडल है जो प्रतिगमन और वर्गीकरण दोनों समस्याओं को हल कर सकता है। श्रेणीबद्ध चर के लिए, `केएनएन` वर्गीकरण मॉडल का उपयोग लापता नमूनों की विशेषताओं के बीच की दूरी को मापने के लिए किया जा सकता है अन्य सभी नमूनेविशेषताएं। जब मॉडल पैरामीटर `n_neighbors=n` दिया जाता है, तो नमूने के निकटतम $n$ में से सबसे अधिक नमूनों वाली श्रेणी की गणना की जाती है, और इस श्रेणी का उपयोग नमूने की लुप्त भविष्यवाणी श्रेणी के रूप में किया जाता है नीचे दिए गए चित्र में, अज्ञात श्रेणी के पीले होने की भविष्यवाणी की गई है:\n",
    "\n",
    "<img src='../source/_static/ch7_ex.png' चौड़ाई='25%'>\n",
    "\n",
    "उपरोक्त रंगीन बिंदुओं का विशिष्ट डेटा इस प्रकार प्रदान किया गया है:"
   ]
  },
  {
   "cell_type": "code",
   "execution_count": 77,
   "metadata": {},
   "outputs": [
    {
     "data": {
      "text/html": [
       "<div>\n",
       "<style scoped>\n",
       "    .dataframe tbody tr th:only-of-type {\n",
       "        vertical-align: middle;\n",
       "    }\n",
       "\n",
       "    .dataframe tbody tr th {\n",
       "        vertical-align: top;\n",
       "    }\n",
       "\n",
       "    .dataframe thead th {\n",
       "        text-align: right;\n",
       "    }\n",
       "</style>\n",
       "<table border=\"1\" class=\"dataframe\">\n",
       "  <thead>\n",
       "    <tr style=\"text-align: right;\">\n",
       "      <th></th>\n",
       "      <th>X1</th>\n",
       "      <th>X2</th>\n",
       "      <th>Color</th>\n",
       "    </tr>\n",
       "  </thead>\n",
       "  <tbody>\n",
       "    <tr>\n",
       "      <th>0</th>\n",
       "      <td>-2.5</td>\n",
       "      <td>2.8</td>\n",
       "      <td>Blue</td>\n",
       "    </tr>\n",
       "    <tr>\n",
       "      <th>1</th>\n",
       "      <td>-1.5</td>\n",
       "      <td>1.8</td>\n",
       "      <td>Blue</td>\n",
       "    </tr>\n",
       "    <tr>\n",
       "      <th>2</th>\n",
       "      <td>-0.8</td>\n",
       "      <td>2.8</td>\n",
       "      <td>Blue</td>\n",
       "    </tr>\n",
       "  </tbody>\n",
       "</table>\n",
       "</div>"
      ],
      "text/plain": [
       "    X1   X2 Color\n",
       "0 -2.5  2.8  Blue\n",
       "1 -1.5  1.8  Blue\n",
       "2 -0.8  2.8  Blue"
      ]
     },
     "execution_count": 77,
     "metadata": {},
     "output_type": "execute_result"
    }
   ],
   "source": [
    "df = pd.read_excel('../data/color.xlsx')\n",
    "df.head(3)"
   ]
  },
  {
   "cell_type": "markdown",
   "metadata": {},
   "source": [
    "यह ज्ञात है कि अनुमानित किए जाने वाले नमूना बिंदु $X_1=0.8, X_2=-0.2$ हैं, तो अनुमानित श्रेणी को निम्नानुसार लिखा जा सकता है:"
   ]
  },
  {
   "cell_type": "code",
   "execution_count": 78,
   "metadata": {},
   "outputs": [
    {
     "data": {
      "text/plain": [
       "array(['Yellow'], dtype=object)"
      ]
     },
     "execution_count": 78,
     "metadata": {},
     "output_type": "execute_result"
    }
   ],
   "source": [
    "from sklearn.neighbors import KNeighborsClassifier\n",
    "clf = KNeighborsClassifier(n_neighbors=6)\n",
    "clf.fit(df.iloc[:,:2], df.Color)\n",
    "clf.predict([[0.8, -0.2]])"
   ]
  },
  {
   "cell_type": "markdown",
   "metadata": {},
   "source": [
    "1. प्रतिगमन समस्याओं के लिए, एक विशिष्ट मूल्य की आवश्यकता होती है, इसलिए अनुमानित मूल्य सबसे हाल के $n$ नमूनों के अनुरूप औसत मूल्य से प्राप्त किया जाता है। कृपया उपरोक्त वर्गीकरण समस्या को एक प्रतिगमन समस्या में परिवर्तित करें, और केवल `KNeighborsRegressor` का उपयोग करें उपरोक्त `KNeighborsClassifier` फ़ंक्शन को पूरा करें।\n",
    "2. कृपया 'ऑडिट' डेटासेट में 'रोजगार' वेरिएबल के लिए लापता मानों को इंटरपोल करने के लिए प्रश्न 1 में दी गई विधि का उपयोग करें।"
   ]
  },
  {
   "cell_type": "code",
   "execution_count": 79,
   "metadata": {},
   "outputs": [
    {
     "data": {
      "text/html": [
       "<div>\n",
       "<style scoped>\n",
       "    .dataframe tbody tr th:only-of-type {\n",
       "        vertical-align: middle;\n",
       "    }\n",
       "\n",
       "    .dataframe tbody tr th {\n",
       "        vertical-align: top;\n",
       "    }\n",
       "\n",
       "    .dataframe thead th {\n",
       "        text-align: right;\n",
       "    }\n",
       "</style>\n",
       "<table border=\"1\" class=\"dataframe\">\n",
       "  <thead>\n",
       "    <tr style=\"text-align: right;\">\n",
       "      <th></th>\n",
       "      <th>ID</th>\n",
       "      <th>Age</th>\n",
       "      <th>Employment</th>\n",
       "      <th>Marital</th>\n",
       "      <th>Income</th>\n",
       "      <th>Gender</th>\n",
       "      <th>Hours</th>\n",
       "    </tr>\n",
       "  </thead>\n",
       "  <tbody>\n",
       "    <tr>\n",
       "      <th>0</th>\n",
       "      <td>1004641</td>\n",
       "      <td>38</td>\n",
       "      <td>Private</td>\n",
       "      <td>Unmarried</td>\n",
       "      <td>81838.00</td>\n",
       "      <td>Female</td>\n",
       "      <td>72</td>\n",
       "    </tr>\n",
       "    <tr>\n",
       "      <th>1</th>\n",
       "      <td>1010229</td>\n",
       "      <td>35</td>\n",
       "      <td>Private</td>\n",
       "      <td>Absent</td>\n",
       "      <td>72099.00</td>\n",
       "      <td>Male</td>\n",
       "      <td>30</td>\n",
       "    </tr>\n",
       "    <tr>\n",
       "      <th>2</th>\n",
       "      <td>1024587</td>\n",
       "      <td>32</td>\n",
       "      <td>Private</td>\n",
       "      <td>Divorced</td>\n",
       "      <td>154676.74</td>\n",
       "      <td>Male</td>\n",
       "      <td>40</td>\n",
       "    </tr>\n",
       "  </tbody>\n",
       "</table>\n",
       "</div>"
      ],
      "text/plain": [
       "        ID  Age Employment    Marital     Income  Gender  Hours\n",
       "0  1004641   38    Private  Unmarried   81838.00  Female     72\n",
       "1  1010229   35    Private     Absent   72099.00    Male     30\n",
       "2  1024587   32    Private   Divorced  154676.74    Male     40"
      ]
     },
     "execution_count": 79,
     "metadata": {},
     "output_type": "execute_result"
    }
   ],
   "source": [
    "df = pd.read_csv('../data/audit.csv')\n",
    "df.head(3)"
   ]
  }
 ],
 "metadata": {
  "kernelspec": {
   "display_name": "PyCharm (pythonProject)",
   "language": "python",
   "name": "pycharm-f7427e7c"
  },
  "language_info": {
   "codemirror_mode": {
    "name": "ipython",
    "version": 3
   },
   "file_extension": ".py",
   "mimetype": "text/x-python",
   "name": "python",
   "nbconvert_exporter": "python",
   "pygments_lexer": "ipython3",
   "version": "3.7.9-final"
  }
 },
 "nbformat": 4,
 "nbformat_minor": 2
}
