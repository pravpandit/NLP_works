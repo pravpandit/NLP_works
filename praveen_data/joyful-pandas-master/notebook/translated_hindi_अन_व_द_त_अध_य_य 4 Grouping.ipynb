{
 "cells": [
  {
   "cell_type": "markdown",
   "metadata": {},
   "source": [
    "<केंद्र><h1>अध्याय 4 समूहीकरण</h1></केंद्र>"
   ]
  },
  {
   "cell_type": "code",
   "execution_count": 1,
   "metadata": {},
   "outputs": [],
   "source": [
    "import numpy as np\n",
    "import pandas as pd"
   ]
  },
  {
   "cell_type": "markdown",
   "metadata": {},
   "source": [
    "## 1. ग्रुपिंग मोड और उसके ऑब्जेक्ट\n",
    "### 1. सामान्य ग्रुपिंग मोड\n",
    "समूहीकरण संचालन का दैनिक जीवन में व्यापक रूप से उपयोग किया जाता है, उदाहरण के लिए:\n",
    "\n",
    "* $\\color{#FF0000}{sex}$ समूहन के अनुसार, राष्ट्रीय जनसंख्या के $\\color{#00FF00}{औसत मूल्य}$ की गणना करें $\\color{#00FF00}{जीवन प्रत्याशा}$\n",
    "* $\\color{#FF0000}{season}$ ग्रुपिंग के अनुसार, प्रत्येक सीज़न का $\\color{#00FF00}{तापमान}$ $\\color{#0000FF}{इन-ग्रुप मानकीकरण}$ होता है\n",
    "* $\\color{#FF0000}{class}$ के अनुसार $\\color{#00FF0 को फ़िल्टर करें0}समूह के भीतर 80 अंक से अधिक के औसत मूल्य के साथ $\\color{#00FF00}{गणित स्कोर}$ का वर्ग"
   ]
  },
  {
   "cell_type": "markdown",
   "metadata": {},
   "source": [
    "उपरोक्त उदाहरणों से यह देखना मुश्किल नहीं है कि ग्रुपिंग ऑपरेशन को कार्यान्वित करने के लिए, तीन तत्वों को स्पष्ट किया जाना चाहिए: $\\color{#FF0000}{ग्रुपिंग आधार}$, $\\color{#00FF00}{डेटा स्रोत}$ , $\\color{#0000FF}{ऑपरेशन और उसका रिटर्न परिणाम}$ साथ ही, पर्याप्तता के दृष्टिकोण से, यदि इन तीन पहलुओं को स्पष्ट किया जाता है, तो एक ग्रुपिंग ऑपरेशन निर्धारित किया जा सकता है, इसलिए ग्रुपिंग कोड का सामान्य पैटर्न है:\n",
    "```\n",
    "df.groupby(समूहीकरण आधार)[डेटा स्रोत].उपयोग ऑपरेशन\n",
    "```\n",
    "एफया उदाहरण के लिए, पहले उदाहरण में कोड इस प्रकार होना चाहिए:\n",
    "```\n",
    "df.groupby('लिंग')['दीर्घायु'].mean()\n",
    "```"
   ]
  },
  {
   "cell_type": "markdown",
   "metadata": {},
   "source": [
    "अब आइए छात्र शारीरिक परीक्षण डेटा सेट पर वापस जाएं। यदि हम लिंग के आधार पर औसत ऊंचाई की गणना करना चाहते हैं, तो हम इसे इस प्रकार लिख सकते हैं:"
   ]
  },
  {
   "cell_type": "code",
   "execution_count": 2,
   "metadata": {},
   "outputs": [
    {
     "data": {
      "text/plain": [
       "Gender\n",
       "Female    159.6\n",
       "Male      173.4\n",
       "Name: Height, dtype: float64"
      ]
     },
     "execution_count": 2,
     "metadata": {},
     "output_type": "execute_result"
    }
   ],
   "source": [
    "df = pd.read_csv('../data/learn_pandas.csv')\n",
    "df.groupby('Gender')['Height'].median()"
   ]
  },
  {
   "cell_type": "markdown",
   "metadata": {},
   "source": [
    "### 2. समूहीकरण का सार\n",
    "ऊपर उल्लिखित सभी उदाहरण एक ही आयाम के आधार पर समूहीकृत हैं, जैसे लिंग यदि आप स्कूल और लिंग के आधार पर समूह बनाना चाहते हैं और औसत ऊंचाई की गणना करना चाहते हैं, तो हम इसे इस प्रकार लिख सकते हैं:"
   ]
  },
  {
   "cell_type": "code",
   "execution_count": 3,
   "metadata": {},
   "outputs": [
    {
     "data": {
      "text/plain": [
       "School                         Gender\n",
       "Fudan University               Female    158.776923\n",
       "                               Male      174.212500\n",
       "Peking University              Female    158.666667\n",
       "                               Male      172.030000\n",
       "Shanghai Jiao Tong University  Female    159.122500\n",
       "                               Male      176.760000\n",
       "Tsinghua University            Female    159.753333\n",
       "                               Male      171.638889\n",
       "Name: Height, dtype: float64"
      ]
     },
     "execution_count": 3,
     "metadata": {},
     "output_type": "execute_result"
    }
   ],
   "source": [
    "df.groupby(['School', 'Gender'])['Height'].mean()"
   ]
  },
  {
   "cell_type": "markdown",
   "metadata": {},
   "source": [
    "अब तक, 'ग्रुपबाय' के समूहीकरण मानदंड को सीधे कॉलम से नाम से प्राप्त किया जा सकता है, उदाहरण के लिए, यदि आप कुछ जटिल तर्क के आधार पर समूह बनाना चाहते हैं, तो समूह बनाएं कि क्या छात्र का वजन समग्र औसत से अधिक है, और औसत ऊंचाई की भी गणना करें। .\n",
    "\n",
    "सबसे पहले, आपको समूहीकरण की शर्तें लिखनी चाहिए:"
   ]
  },
  {
   "cell_type": "code",
   "execution_count": 4,
   "metadata": {},
   "outputs": [],
   "source": [
    "condition = df.Weight > df.Weight.mean()"
   ]
  },
  {
   "cell_type": "markdown",
   "metadata": {},
   "source": [
    "फिर इसे `groupby` में पास करें:"
   ]
  },
  {
   "cell_type": "code",
   "execution_count": 5,
   "metadata": {},
   "outputs": [
    {
     "data": {
      "text/plain": [
       "Weight\n",
       "False    159.034646\n",
       "True     172.705357\n",
       "Name: Height, dtype: float64"
      ]
     },
     "execution_count": 5,
     "metadata": {},
     "output_type": "execute_result"
    }
   ],
   "source": [
    "df.groupby(condition)['Height'].mean()"
   ]
  },
  {
   "cell_type": "markdown",
   "metadata": {},
   "source": [
    "#### 【अभ्यास】\n",
    "कृपया वजन को तीन समूहों में विभाजित करें: ऊपरी और निचले चतुर्थक के अनुसार उच्च, सामान्य और निम्न, और ऊंचाई के औसत की गणना करें।\n",
    "#### 【अंत】\n",
    "जैसा कि सूचकांक से देखा जा सकता है, अंतिम परिणाम वास्तव में शर्त सूची में तत्व के मूल्य के अनुसार समूहीकृत किया गया है (यहां 'सही' और 'गलत' है) इस विचार को सत्यापित करने के लिए निम्नलिखित एक यादृच्छिक अक्षर अनुक्रम का उपयोग करता है:"
   ]
  },
  {
   "cell_type": "code",
   "execution_count": 6,
   "metadata": {},
   "outputs": [
    {
     "data": {
      "text/plain": [
       "a    163.094828\n",
       "b    163.874603\n",
       "c    162.666129\n",
       "Name: Height, dtype: float64"
      ]
     },
     "execution_count": 6,
     "metadata": {},
     "output_type": "execute_result"
    }
   ],
   "source": [
    "item = np.random.choice(list('abc'), df.shape[0])\n",
    "df.groupby(item)['Height'].mean()"
   ]
  },
  {
   "cell_type": "markdown",
   "metadata": {},
   "source": [
    "यहां सूचकांक मूल आइटम में तत्व है। यदि कई अनुक्रमों को 'ग्रुपबाय' में पारित किया जाता है, तो अंतिम समूहन दो अनुक्रमों की संबंधित पंक्तियों के अद्वितीय संयोजन पर आधारित होता है:"
   ]
  },
  {
   "cell_type": "code",
   "execution_count": 7,
   "metadata": {},
   "outputs": [
    {
     "data": {
      "text/plain": [
       "Weight   \n",
       "False   a    159.334146\n",
       "        b    159.257143\n",
       "        c    158.543182\n",
       "True    a    172.164706\n",
       "        b    173.109524\n",
       "        c    172.744444\n",
       "Name: Height, dtype: float64"
      ]
     },
     "execution_count": 7,
     "metadata": {},
     "output_type": "execute_result"
    }
   ],
   "source": [
    "df.groupby([condition, item])['Height'].mean()"
   ]
  },
  {
   "cell_type": "markdown",
   "metadata": {},
   "source": [
    "इससे, हम देख सकते हैं कि पहले पारित किया गया कॉलम नाम केवल एक साधारण नोटेशन है, यह एक या अधिक कॉलम में पास होने के बराबर है। अंतिम समूहन डेटा स्रोत संयोजन के अद्वितीय मूल्य पर आधारित है समूह श्रेणी को 'ड्रॉप_डुप्लिकेट्स' के माध्यम से जाना जा सकता है:"
   ]
  },
  {
   "cell_type": "code",
   "execution_count": 8,
   "metadata": {},
   "outputs": [
    {
     "data": {
      "text/html": [
       "<div>\n",
       "<style scoped>\n",
       "    .dataframe tbody tr th:only-of-type {\n",
       "        vertical-align: middle;\n",
       "    }\n",
       "\n",
       "    .dataframe tbody tr th {\n",
       "        vertical-align: top;\n",
       "    }\n",
       "\n",
       "    .dataframe thead th {\n",
       "        text-align: right;\n",
       "    }\n",
       "</style>\n",
       "<table border=\"1\" class=\"dataframe\">\n",
       "  <thead>\n",
       "    <tr style=\"text-align: right;\">\n",
       "      <th></th>\n",
       "      <th>School</th>\n",
       "      <th>Gender</th>\n",
       "    </tr>\n",
       "  </thead>\n",
       "  <tbody>\n",
       "    <tr>\n",
       "      <th>0</th>\n",
       "      <td>Shanghai Jiao Tong University</td>\n",
       "      <td>Female</td>\n",
       "    </tr>\n",
       "    <tr>\n",
       "      <th>1</th>\n",
       "      <td>Peking University</td>\n",
       "      <td>Male</td>\n",
       "    </tr>\n",
       "    <tr>\n",
       "      <th>2</th>\n",
       "      <td>Shanghai Jiao Tong University</td>\n",
       "      <td>Male</td>\n",
       "    </tr>\n",
       "    <tr>\n",
       "      <th>3</th>\n",
       "      <td>Fudan University</td>\n",
       "      <td>Female</td>\n",
       "    </tr>\n",
       "    <tr>\n",
       "      <th>4</th>\n",
       "      <td>Fudan University</td>\n",
       "      <td>Male</td>\n",
       "    </tr>\n",
       "    <tr>\n",
       "      <th>5</th>\n",
       "      <td>Tsinghua University</td>\n",
       "      <td>Female</td>\n",
       "    </tr>\n",
       "    <tr>\n",
       "      <th>9</th>\n",
       "      <td>Peking University</td>\n",
       "      <td>Female</td>\n",
       "    </tr>\n",
       "    <tr>\n",
       "      <th>16</th>\n",
       "      <td>Tsinghua University</td>\n",
       "      <td>Male</td>\n",
       "    </tr>\n",
       "  </tbody>\n",
       "</table>\n",
       "</div>"
      ],
      "text/plain": [
       "                           School  Gender\n",
       "0   Shanghai Jiao Tong University  Female\n",
       "1               Peking University    Male\n",
       "2   Shanghai Jiao Tong University    Male\n",
       "3                Fudan University  Female\n",
       "4                Fudan University    Male\n",
       "5             Tsinghua University  Female\n",
       "9               Peking University  Female\n",
       "16            Tsinghua University    Male"
      ]
     },
     "execution_count": 8,
     "metadata": {},
     "output_type": "execute_result"
    }
   ],
   "source": [
    "df[['School', 'Gender']].drop_duplicates()"
   ]
  },
  {
   "cell_type": "code",
   "execution_count": 9,
   "metadata": {},
   "outputs": [
    {
     "data": {
      "text/plain": [
       "School                         Gender\n",
       "Fudan University               Female    158.776923\n",
       "                               Male      174.212500\n",
       "Peking University              Female    158.666667\n",
       "                               Male      172.030000\n",
       "Shanghai Jiao Tong University  Female    159.122500\n",
       "                               Male      176.760000\n",
       "Tsinghua University            Female    159.753333\n",
       "                               Male      171.638889\n",
       "Name: Height, dtype: float64"
      ]
     },
     "execution_count": 9,
     "metadata": {},
     "output_type": "execute_result"
    }
   ],
   "source": [
    "df.groupby([df['School'], df['Gender']])['Height'].mean()"
   ]
  },
  {
   "cell_type": "markdown",
   "metadata": {},
   "source": [
    "### 3. ग्रुपबी ऑब्जेक्ट\n",
    "यह देखा जा सकता है कि ग्रुपिंग ऑपरेशन करते समय, बुलाए गए सभी तरीके `पांडा` में `ग्रुपबी` ऑब्जेक्ट से होते हैं, जो कई तरीकों को परिभाषित करता है और इसमें कुछ सुविधाजनक गुण होते हैं।"
   ]
  },
  {
   "cell_type": "code",
   "execution_count": 10,
   "metadata": {},
   "outputs": [
    {
     "data": {
      "text/plain": [
       "<pandas.core.groupby.generic.DataFrameGroupBy object at 0x000001C1E7AB1408>"
      ]
     },
     "execution_count": 10,
     "metadata": {},
     "output_type": "execute_result"
    }
   ],
   "source": [
    "gb = df.groupby(['School', 'Grade'])\n",
    "gb"
   ]
  },
  {
   "cell_type": "markdown",
   "metadata": {},
   "source": [
    "`एनग्रुप्स` विशेषता के माध्यम से, आप समूहों की संख्या प्राप्त कर सकते हैं:"
   ]
  },
  {
   "cell_type": "code",
   "execution_count": 11,
   "metadata": {},
   "outputs": [
    {
     "data": {
      "text/plain": [
       "16"
      ]
     },
     "execution_count": 11,
     "metadata": {},
     "output_type": "execute_result"
    }
   ],
   "source": [
    "gb.ngroups"
   ]
  },
  {
   "cell_type": "markdown",
   "metadata": {},
   "source": [
    "`समूह` विशेषता के माध्यम से, आप $\\color{#FF0000}{group name}$ से $\\color{#FF0000}{group अनुक्रमणिका सूची}$ तक एक शब्दकोश मैपिंग वापस कर सकते हैं:"
   ]
  },
  {
   "cell_type": "code",
   "execution_count": 12,
   "metadata": {},
   "outputs": [
    {
     "data": {
      "text/plain": [
       "dict_keys([('Fudan University', 'Freshman'), ('Fudan University', 'Junior'), ('Fudan University', 'Senior'), ('Fudan University', 'Sophomore'), ('Peking University', 'Freshman'), ('Peking University', 'Junior'), ('Peking University', 'Senior'), ('Peking University', 'Sophomore'), ('Shanghai Jiao Tong University', 'Freshman'), ('Shanghai Jiao Tong University', 'Junior'), ('Shanghai Jiao Tong University', 'Senior'), ('Shanghai Jiao Tong University', 'Sophomore'), ('Tsinghua University', 'Freshman'), ('Tsinghua University', 'Junior'), ('Tsinghua University', 'Senior'), ('Tsinghua University', 'Sophomore')])"
      ]
     },
     "execution_count": 12,
     "metadata": {},
     "output_type": "execute_result"
    }
   ],
   "source": [
    "res = gb.groups\n",
    "res.keys() # 字典的值由于是索引，元素个数过多，此处只展示字典的键"
   ]
  },
  {
   "cell_type": "markdown",
   "metadata": {},
   "source": [
    "#### 【अभ्यास】\n",
    "पिछले अनुभाग में बताया गया था कि 'ड्रॉप_डुप्लिकेट्स' के माध्यम से विशिष्ट समूह श्रेणियां कैसे प्राप्त करें। अब कृपया समान फ़ंक्शन को पूरा करने के लिए 'समूह' विशेषता का उपयोग करें।\n",
    "#### 【अंत】\n",
    "जब `आकार` का उपयोग `डेटाफ़्रेम` विशेषता के रूप में किया जाता है, तो लौटाया गया मान तालिका की लंबाई को तालिका की चौड़ाई से गुणा किया जाता है, लेकिन `ग्रुपबी` ऑब्जेक्ट पर, इसका मतलब प्रत्येक समूह में तत्वों की संख्या की गणना करना है:"
   ]
  },
  {
   "cell_type": "code",
   "execution_count": 13,
   "metadata": {},
   "outputs": [
    {
     "data": {
      "text/plain": [
       "School                         Grade    \n",
       "Fudan University               Freshman      9\n",
       "                               Junior       12\n",
       "                               Senior       11\n",
       "                               Sophomore     8\n",
       "Peking University              Freshman     13\n",
       "                               Junior        8\n",
       "                               Senior        8\n",
       "                               Sophomore     5\n",
       "Shanghai Jiao Tong University  Freshman     13\n",
       "                               Junior       17\n",
       "                               Senior       22\n",
       "                               Sophomore     5\n",
       "Tsinghua University            Freshman     17\n",
       "                               Junior       22\n",
       "                               Senior       14\n",
       "                               Sophomore    16\n",
       "dtype: int64"
      ]
     },
     "execution_count": 13,
     "metadata": {},
     "output_type": "execute_result"
    }
   ],
   "source": [
    "gb.size()"
   ]
  },
  {
   "cell_type": "markdown",
   "metadata": {},
   "source": [
    "समूह के अनुरूप पंक्ति को सीधे प्राप्त करने के लिए `get_group` विधि का उपयोग किया जा सकता है, इस समय, समूह का विशिष्ट नाम ज्ञात होना चाहिए:"
   ]
  },
  {
   "cell_type": "code",
   "execution_count": 14,
   "metadata": {},
   "outputs": [
    {
     "data": {
      "text/html": [
       "<div>\n",
       "<style scoped>\n",
       "    .dataframe tbody tr th:only-of-type {\n",
       "        vertical-align: middle;\n",
       "    }\n",
       "\n",
       "    .dataframe tbody tr th {\n",
       "        vertical-align: top;\n",
       "    }\n",
       "\n",
       "    .dataframe thead th {\n",
       "        text-align: right;\n",
       "    }\n",
       "</style>\n",
       "<table border=\"1\" class=\"dataframe\">\n",
       "  <thead>\n",
       "    <tr style=\"text-align: right;\">\n",
       "      <th></th>\n",
       "      <th>School</th>\n",
       "      <th>Grade</th>\n",
       "      <th>Name</th>\n",
       "      <th>Gender</th>\n",
       "      <th>Height</th>\n",
       "      <th>Weight</th>\n",
       "      <th>Transfer</th>\n",
       "      <th>Test_Number</th>\n",
       "      <th>Test_Date</th>\n",
       "      <th>Time_Record</th>\n",
       "    </tr>\n",
       "  </thead>\n",
       "  <tbody>\n",
       "    <tr>\n",
       "      <th>15</th>\n",
       "      <td>Fudan University</td>\n",
       "      <td>Freshman</td>\n",
       "      <td>Changqiang Yang</td>\n",
       "      <td>Female</td>\n",
       "      <td>156.0</td>\n",
       "      <td>49.0</td>\n",
       "      <td>N</td>\n",
       "      <td>3</td>\n",
       "      <td>2020/1/1</td>\n",
       "      <td>0:05:25</td>\n",
       "    </tr>\n",
       "    <tr>\n",
       "      <th>28</th>\n",
       "      <td>Fudan University</td>\n",
       "      <td>Freshman</td>\n",
       "      <td>Gaoqiang Qin</td>\n",
       "      <td>Female</td>\n",
       "      <td>170.2</td>\n",
       "      <td>63.0</td>\n",
       "      <td>N</td>\n",
       "      <td>2</td>\n",
       "      <td>2020/1/7</td>\n",
       "      <td>0:05:24</td>\n",
       "    </tr>\n",
       "    <tr>\n",
       "      <th>63</th>\n",
       "      <td>Fudan University</td>\n",
       "      <td>Freshman</td>\n",
       "      <td>Gaofeng Zhao</td>\n",
       "      <td>Female</td>\n",
       "      <td>152.2</td>\n",
       "      <td>43.0</td>\n",
       "      <td>N</td>\n",
       "      <td>2</td>\n",
       "      <td>2019/10/31</td>\n",
       "      <td>0:04:00</td>\n",
       "    </tr>\n",
       "    <tr>\n",
       "      <th>70</th>\n",
       "      <td>Fudan University</td>\n",
       "      <td>Freshman</td>\n",
       "      <td>Yanquan Wang</td>\n",
       "      <td>Female</td>\n",
       "      <td>163.5</td>\n",
       "      <td>55.0</td>\n",
       "      <td>N</td>\n",
       "      <td>1</td>\n",
       "      <td>2019/11/19</td>\n",
       "      <td>0:04:07</td>\n",
       "    </tr>\n",
       "    <tr>\n",
       "      <th>73</th>\n",
       "      <td>Fudan University</td>\n",
       "      <td>Freshman</td>\n",
       "      <td>Feng Wang</td>\n",
       "      <td>Male</td>\n",
       "      <td>176.3</td>\n",
       "      <td>74.0</td>\n",
       "      <td>N</td>\n",
       "      <td>1</td>\n",
       "      <td>2019/9/26</td>\n",
       "      <td>0:03:31</td>\n",
       "    </tr>\n",
       "    <tr>\n",
       "      <th>105</th>\n",
       "      <td>Fudan University</td>\n",
       "      <td>Freshman</td>\n",
       "      <td>Qiang Shi</td>\n",
       "      <td>Female</td>\n",
       "      <td>164.5</td>\n",
       "      <td>52.0</td>\n",
       "      <td>N</td>\n",
       "      <td>1</td>\n",
       "      <td>2019/12/11</td>\n",
       "      <td>0:04:23</td>\n",
       "    </tr>\n",
       "    <tr>\n",
       "      <th>108</th>\n",
       "      <td>Fudan University</td>\n",
       "      <td>Freshman</td>\n",
       "      <td>Yanqiang Xu</td>\n",
       "      <td>Female</td>\n",
       "      <td>152.4</td>\n",
       "      <td>38.0</td>\n",
       "      <td>N</td>\n",
       "      <td>1</td>\n",
       "      <td>2019/12/8</td>\n",
       "      <td>0:05:03</td>\n",
       "    </tr>\n",
       "    <tr>\n",
       "      <th>157</th>\n",
       "      <td>Fudan University</td>\n",
       "      <td>Freshman</td>\n",
       "      <td>Xiaoli Lv</td>\n",
       "      <td>Female</td>\n",
       "      <td>152.5</td>\n",
       "      <td>45.0</td>\n",
       "      <td>N</td>\n",
       "      <td>2</td>\n",
       "      <td>2019/9/11</td>\n",
       "      <td>0:04:17</td>\n",
       "    </tr>\n",
       "    <tr>\n",
       "      <th>186</th>\n",
       "      <td>Fudan University</td>\n",
       "      <td>Freshman</td>\n",
       "      <td>Yanjuan Zhao</td>\n",
       "      <td>Female</td>\n",
       "      <td>NaN</td>\n",
       "      <td>53.0</td>\n",
       "      <td>N</td>\n",
       "      <td>2</td>\n",
       "      <td>2019/10/9</td>\n",
       "      <td>0:04:21</td>\n",
       "    </tr>\n",
       "  </tbody>\n",
       "</table>\n",
       "</div>"
      ],
      "text/plain": [
       "               School     Grade             Name  Gender  Height  Weight  \\\n",
       "15   Fudan University  Freshman  Changqiang Yang  Female   156.0    49.0   \n",
       "28   Fudan University  Freshman     Gaoqiang Qin  Female   170.2    63.0   \n",
       "63   Fudan University  Freshman     Gaofeng Zhao  Female   152.2    43.0   \n",
       "70   Fudan University  Freshman     Yanquan Wang  Female   163.5    55.0   \n",
       "73   Fudan University  Freshman        Feng Wang    Male   176.3    74.0   \n",
       "105  Fudan University  Freshman        Qiang Shi  Female   164.5    52.0   \n",
       "108  Fudan University  Freshman      Yanqiang Xu  Female   152.4    38.0   \n",
       "157  Fudan University  Freshman        Xiaoli Lv  Female   152.5    45.0   \n",
       "186  Fudan University  Freshman     Yanjuan Zhao  Female     NaN    53.0   \n",
       "\n",
       "    Transfer  Test_Number   Test_Date Time_Record  \n",
       "15         N            3    2020/1/1     0:05:25  \n",
       "28         N            2    2020/1/7     0:05:24  \n",
       "63         N            2  2019/10/31     0:04:00  \n",
       "70         N            1  2019/11/19     0:04:07  \n",
       "73         N            1   2019/9/26     0:03:31  \n",
       "105        N            1  2019/12/11     0:04:23  \n",
       "108        N            1   2019/12/8     0:05:03  \n",
       "157        N            2   2019/9/11     0:04:17  \n",
       "186        N            2   2019/10/9     0:04:21  "
      ]
     },
     "execution_count": 14,
     "metadata": {},
     "output_type": "execute_result"
    }
   ],
   "source": [
    "gb.get_group(('Fudan University', 'Freshman'))"
   ]
  },
  {
   "cell_type": "markdown",
   "metadata": {},
   "source": [
    "यहां 2 विशेषताएँ और 2 विधियाँ हैं, और पिछले `मीन` और `मीडियन` `ग्रुपबी` ऑब्जेक्ट पर विधियाँ हैं। ये फ़ंक्शन कई अन्य फ़ंक्शंस के समान हैं, और इन्हें निम्नलिखित अनुभागों में पेश किया जाएगा।\n",
    "### 4. समूहीकरण के तीन प्रमुख कार्य\n",
    "समूहीकरण के कुछ बुनियादी ज्ञान से परिचित होने के बाद, शुरुआत में तीन उदाहरणों पर वापस जाएं, और आपको कुछ सुराग मिल सकते हैं, यानी, इन तीन प्रकार के समूहन द्वारा लौटाए गए डेटा प्रकार समान नहीं हैं:\n",
    "\n",
    "* पहले मेंउदाहरण के लिए, प्रत्येक समूह एक अदिश मान लौटाता है, जो औसत, माध्यिका, समूह क्षमता `आकार` आदि हो सकता है।\n",
    "\n",
    "* दूसरे उदाहरण में, मूल अनुक्रम को मानकीकृत किया गया है, अर्थात, प्रत्येक समूह एक 'श्रृंखला' प्रकार लौटाता है\n",
    "\n",
    "* तीसरे उदाहरण में, यह न तो एक अदिश है और न ही एक अनुक्रम है, और पूरे समूह की पंक्ति वापस कर दी गई है, अर्थात, `डेटाफ़्रेम` प्रकार वापस कर दिया गया है\n",
    "\n",
    "इससे, समूहीकरण के तीन प्रमुख संचालन प्राप्त होते हैं: एकत्रीकरण, परिवर्तन और फ़िल्टरिंग, जो ऑप के अनुरूप हैंक्रमशः तीन उदाहरणों के अनुपात निम्नलिखित संबंधित `एजीजी`, `ट्रांसफॉर्म` और `फ़िल्टर` कार्यों और उनके संचालन का परिचय देंगे।\n",
    "## 2. समग्र कार्य\n",
    "### 1. अंतर्निहित समग्र कार्य\n",
    "एजीजी को पेश करने से पहले, हमें पहले ग्रुपबी ऑब्जेक्ट में सीधे परिभाषित कुछ समग्र कार्यों को समझना चाहिए, क्योंकि उनकी गति मूल रूप से आंतरिक रूप से अनुकूलित होती है और फ़ंक्शन का उपयोग करते समय स्केलर मान लौटाने के सिद्धांत के आधार पर प्राथमिकता दी जानी चाहिएs, इसमें निम्नलिखित कार्य शामिल हैं: `अधिकतम/मिनट/माध्य/माध्य/गणना/सभी/कोई/idxmax/idxmin/mad/nunique/skew/मात्रा/योग/std/var/sem/आकार/उत्पाद`।"
   ]
  },
  {
   "cell_type": "code",
   "execution_count": 15,
   "metadata": {},
   "outputs": [
    {
     "data": {
      "text/plain": [
       "Gender\n",
       "Female    143\n",
       "Male      199\n",
       "Name: Height, dtype: int64"
      ]
     },
     "execution_count": 15,
     "metadata": {},
     "output_type": "execute_result"
    }
   ],
   "source": [
    "gb = df.groupby('Gender')['Height']\n",
    "gb.idxmin()"
   ]
  },
  {
   "cell_type": "code",
   "execution_count": 16,
   "metadata": {},
   "outputs": [
    {
     "data": {
      "text/plain": [
       "Gender\n",
       "Female    166.8\n",
       "Male      185.9\n",
       "Name: Height, dtype: float64"
      ]
     },
     "execution_count": 16,
     "metadata": {},
     "output_type": "execute_result"
    }
   ],
   "source": [
    "gb.quantile(0.95)"
   ]
  },
  {
   "cell_type": "markdown",
   "metadata": {},
   "source": [
    "#### 【अभ्यास】\n",
    "कृपया `सभी/कोई/पागल/तिरछा/सेम/प्रोड` फ़ंक्शंस का अर्थ स्पष्ट करने के लिए दस्तावेज़ देखें।\n",
    "#### 【अंत】\n",
    "जब आने वाले डेटा स्रोत में एकाधिक कॉलम होते हैं, तो इन समग्र कार्यों की गणना कॉलम के अनुसार पुनरावृत्त रूप से की जाएगी:"
   ]
  },
  {
   "cell_type": "code",
   "execution_count": 17,
   "metadata": {},
   "outputs": [
    {
     "data": {
      "text/html": [
       "<div>\n",
       "<style scoped>\n",
       "    .dataframe tbody tr th:only-of-type {\n",
       "        vertical-align: middle;\n",
       "    }\n",
       "\n",
       "    .dataframe tbody tr th {\n",
       "        vertical-align: top;\n",
       "    }\n",
       "\n",
       "    .dataframe thead th {\n",
       "        text-align: right;\n",
       "    }\n",
       "</style>\n",
       "<table border=\"1\" class=\"dataframe\">\n",
       "  <thead>\n",
       "    <tr style=\"text-align: right;\">\n",
       "      <th></th>\n",
       "      <th>Height</th>\n",
       "      <th>Weight</th>\n",
       "    </tr>\n",
       "    <tr>\n",
       "      <th>Gender</th>\n",
       "      <th></th>\n",
       "      <th></th>\n",
       "    </tr>\n",
       "  </thead>\n",
       "  <tbody>\n",
       "    <tr>\n",
       "      <th>Female</th>\n",
       "      <td>170.2</td>\n",
       "      <td>63.0</td>\n",
       "    </tr>\n",
       "    <tr>\n",
       "      <th>Male</th>\n",
       "      <td>193.9</td>\n",
       "      <td>89.0</td>\n",
       "    </tr>\n",
       "  </tbody>\n",
       "</table>\n",
       "</div>"
      ],
      "text/plain": [
       "        Height  Weight\n",
       "Gender                \n",
       "Female   170.2    63.0\n",
       "Male     193.9    89.0"
      ]
     },
     "execution_count": 17,
     "metadata": {},
     "output_type": "execute_result"
    }
   ],
   "source": [
    "gb = df.groupby('Gender')[['Height', 'Weight']]\n",
    "gb.max()"
   ]
  },
  {
   "cell_type": "markdown",
   "metadata": {},
   "source": [
    "### 2. एजी विधि\n",
    "हालाँकि `ग्रुपबी` ऑब्जेक्ट पर कई सुविधाजनक फ़ंक्शन परिभाषित हैं, फिर भी निम्नलिखित असुविधाएँ हैं:\n",
    "\n",
    "* एक ही समय में एकाधिक फ़ंक्शन का उपयोग करने में असमर्थ\n",
    "* किसी विशिष्ट कॉलम के लिए विशिष्ट समुच्चय फ़ंक्शन का उपयोग करने में असमर्थ\n",
    "* कस्टम एग्रीगेट फ़ंक्शन का उपयोग करने में असमर्थ\n",
    "* एकत्रीकरण से पहले परिणाम कॉलम नाम को सीधे अनुकूलित करने में असमर्थ\n",
    "\n",
    "यहां `एजीजी` फ़ंक्शन के साथ इन चार प्रकार की समस्याओं को हल करने का तरीका बताया गया है:\n",
    "\n",
    "[ए] एकाधिक फ़ंक्शन का उपयोग करें\n",
    "\n",
    "एकाधिक ए का उपयोग करते समयएग्रीगेट फ़ंक्शंस, आपको एक सूची के रूप में अंतर्निहित एग्रीगेट फ़ंक्शंस के अनुरूप स्ट्रिंग्स को पास करने की आवश्यकता है। पहले उल्लिखित सभी स्ट्रिंग्स कानूनी हैं।"
   ]
  },
  {
   "cell_type": "code",
   "execution_count": 18,
   "metadata": {},
   "outputs": [
    {
     "data": {
      "text/html": [
       "<div>\n",
       "<style scoped>\n",
       "    .dataframe tbody tr th:only-of-type {\n",
       "        vertical-align: middle;\n",
       "    }\n",
       "\n",
       "    .dataframe tbody tr th {\n",
       "        vertical-align: top;\n",
       "    }\n",
       "\n",
       "    .dataframe thead tr th {\n",
       "        text-align: left;\n",
       "    }\n",
       "\n",
       "    .dataframe thead tr:last-of-type th {\n",
       "        text-align: right;\n",
       "    }\n",
       "</style>\n",
       "<table border=\"1\" class=\"dataframe\">\n",
       "  <thead>\n",
       "    <tr>\n",
       "      <th></th>\n",
       "      <th colspan=\"3\" halign=\"left\">Height</th>\n",
       "      <th colspan=\"3\" halign=\"left\">Weight</th>\n",
       "    </tr>\n",
       "    <tr>\n",
       "      <th></th>\n",
       "      <th>sum</th>\n",
       "      <th>idxmax</th>\n",
       "      <th>skew</th>\n",
       "      <th>sum</th>\n",
       "      <th>idxmax</th>\n",
       "      <th>skew</th>\n",
       "    </tr>\n",
       "    <tr>\n",
       "      <th>Gender</th>\n",
       "      <th></th>\n",
       "      <th></th>\n",
       "      <th></th>\n",
       "      <th></th>\n",
       "      <th></th>\n",
       "      <th></th>\n",
       "    </tr>\n",
       "  </thead>\n",
       "  <tbody>\n",
       "    <tr>\n",
       "      <th>Female</th>\n",
       "      <td>21014.0</td>\n",
       "      <td>28</td>\n",
       "      <td>-0.219253</td>\n",
       "      <td>6469.0</td>\n",
       "      <td>28</td>\n",
       "      <td>-0.268482</td>\n",
       "    </tr>\n",
       "    <tr>\n",
       "      <th>Male</th>\n",
       "      <td>8854.9</td>\n",
       "      <td>193</td>\n",
       "      <td>0.437535</td>\n",
       "      <td>3929.0</td>\n",
       "      <td>2</td>\n",
       "      <td>-0.332393</td>\n",
       "    </tr>\n",
       "  </tbody>\n",
       "</table>\n",
       "</div>"
      ],
      "text/plain": [
       "         Height                   Weight                 \n",
       "            sum idxmax      skew     sum idxmax      skew\n",
       "Gender                                                   \n",
       "Female  21014.0     28 -0.219253  6469.0     28 -0.268482\n",
       "Male     8854.9    193  0.437535  3929.0      2 -0.332393"
      ]
     },
     "execution_count": 18,
     "metadata": {},
     "output_type": "execute_result"
    }
   ],
   "source": [
    "gb.agg(['sum', 'idxmax', 'skew'])"
   ]
  },
  {
   "cell_type": "markdown",
   "metadata": {},
   "source": [
    "परिणामों से, कॉलम इंडेक्स एक बहु-स्तरीय इंडेक्स है, पहली परत डेटा स्रोत है, और दूसरी परत एकत्रीकरण विधि है जिसे प्रत्येक कॉलम पर एक-एक करके लागू किया जाता है, इसलिए परिणाम 6 कॉलम है।\n",
    "\n",
    "[बी] विशिष्ट स्तंभों के लिए विशिष्ट एकत्रीकरण फ़ंक्शन का उपयोग करें\n",
    "\n",
    "विधियों और स्तंभों के बीच विशेष पत्राचार के लिए, इसे एक शब्दकोश का निर्माण करके और इसे `एजीजी` में पास करके प्राप्त किया जा सकता है, जहां शब्दकोश कॉलम नाम को कुंजी और समग्र स्ट्रिंग के रूप में उपयोग करता हैया मान के रूप में स्ट्रिंग सूची।"
   ]
  },
  {
   "cell_type": "code",
   "execution_count": 19,
   "metadata": {},
   "outputs": [
    {
     "data": {
      "text/html": [
       "<div>\n",
       "<style scoped>\n",
       "    .dataframe tbody tr th:only-of-type {\n",
       "        vertical-align: middle;\n",
       "    }\n",
       "\n",
       "    .dataframe tbody tr th {\n",
       "        vertical-align: top;\n",
       "    }\n",
       "\n",
       "    .dataframe thead tr th {\n",
       "        text-align: left;\n",
       "    }\n",
       "\n",
       "    .dataframe thead tr:last-of-type th {\n",
       "        text-align: right;\n",
       "    }\n",
       "</style>\n",
       "<table border=\"1\" class=\"dataframe\">\n",
       "  <thead>\n",
       "    <tr>\n",
       "      <th></th>\n",
       "      <th colspan=\"2\" halign=\"left\">Height</th>\n",
       "      <th>Weight</th>\n",
       "    </tr>\n",
       "    <tr>\n",
       "      <th></th>\n",
       "      <th>mean</th>\n",
       "      <th>max</th>\n",
       "      <th>count</th>\n",
       "    </tr>\n",
       "    <tr>\n",
       "      <th>Gender</th>\n",
       "      <th></th>\n",
       "      <th></th>\n",
       "      <th></th>\n",
       "    </tr>\n",
       "  </thead>\n",
       "  <tbody>\n",
       "    <tr>\n",
       "      <th>Female</th>\n",
       "      <td>159.19697</td>\n",
       "      <td>170.2</td>\n",
       "      <td>135</td>\n",
       "    </tr>\n",
       "    <tr>\n",
       "      <th>Male</th>\n",
       "      <td>173.62549</td>\n",
       "      <td>193.9</td>\n",
       "      <td>54</td>\n",
       "    </tr>\n",
       "  </tbody>\n",
       "</table>\n",
       "</div>"
      ],
      "text/plain": [
       "           Height        Weight\n",
       "             mean    max  count\n",
       "Gender                         \n",
       "Female  159.19697  170.2    135\n",
       "Male    173.62549  193.9     54"
      ]
     },
     "execution_count": 19,
     "metadata": {},
     "output_type": "execute_result"
    }
   ],
   "source": [
    "gb.agg({'Height':['mean','max'], 'Weight':'count'})"
   ]
  },
  {
   "cell_type": "markdown",
   "metadata": {},
   "source": [
    "#### 【अभ्यास】\n",
    "कृपया 【a】 में समतुल्य एकत्रीकरण कार्य को पूरा करने के लिए 【b】 में शब्दकोश इनपुट पद्धति का उपयोग करें।\n",
    "#### 【अंत】\n",
    "【सी】कस्टम फ़ंक्शन का उपयोग करें\n",
    "\n",
    "विशिष्ट कस्टम फ़ंक्शंस का उपयोग `एजीजी` में किया जा सकता है, $\\color{#FF0000}{ध्यान दें कि इनपुट फ़ंक्शन के पैरामीटर पिछले डेटा स्रोत में कॉलम हैं, और गणना कॉलम द्वारा कॉलम में की जाती है}$ ऊंचाई और वजन की सीमा की गणना करता है:"
   ]
  },
  {
   "cell_type": "code",
   "execution_count": 20,
   "metadata": {},
   "outputs": [
    {
     "data": {
      "text/html": [
       "<div>\n",
       "<style scoped>\n",
       "    .dataframe tbody tr th:only-of-type {\n",
       "        vertical-align: middle;\n",
       "    }\n",
       "\n",
       "    .dataframe tbody tr th {\n",
       "        vertical-align: top;\n",
       "    }\n",
       "\n",
       "    .dataframe thead th {\n",
       "        text-align: right;\n",
       "    }\n",
       "</style>\n",
       "<table border=\"1\" class=\"dataframe\">\n",
       "  <thead>\n",
       "    <tr style=\"text-align: right;\">\n",
       "      <th></th>\n",
       "      <th>Height</th>\n",
       "      <th>Weight</th>\n",
       "    </tr>\n",
       "    <tr>\n",
       "      <th>Gender</th>\n",
       "      <th></th>\n",
       "      <th></th>\n",
       "    </tr>\n",
       "  </thead>\n",
       "  <tbody>\n",
       "    <tr>\n",
       "      <th>Female</th>\n",
       "      <td>13.79697</td>\n",
       "      <td>13.918519</td>\n",
       "    </tr>\n",
       "    <tr>\n",
       "      <th>Male</th>\n",
       "      <td>17.92549</td>\n",
       "      <td>21.759259</td>\n",
       "    </tr>\n",
       "  </tbody>\n",
       "</table>\n",
       "</div>"
      ],
      "text/plain": [
       "          Height     Weight\n",
       "Gender                     \n",
       "Female  13.79697  13.918519\n",
       "Male    17.92549  21.759259"
      ]
     },
     "execution_count": 20,
     "metadata": {},
     "output_type": "execute_result"
    }
   ],
   "source": [
    "gb.agg(lambda x: x.mean()-x.min())"
   ]
  },
  {
   "cell_type": "markdown",
   "metadata": {},
   "source": [
    "#### 【अभ्यास】\n",
    "`ग्रुपबाय` ऑब्जेक्ट में, आप सांख्यिकीय जानकारी को सारांशित करने के लिए `वर्णन` विधि का उपयोग कर सकते हैं। कृपया इस विधि के समान कार्य को पूरा करने के लिए एक ही समय में एकाधिक एकत्रीकरण फ़ंक्शन का उपयोग करें।\n",
    "#### 【अंत】\n",
    "चूंकि अनुक्रम पारित किया गया है, इसलिए अनुक्रम पर विधियों और गुणों का उपयोग फ़ंक्शन में किया जा सकता है। आपको केवल यह सुनिश्चित करना होगा कि रिटर्न मान एक अदिश राशि है। निम्नलिखित उदाहरण का अर्थ है कि यदि समूह के संकेतक का माध्य समग्र माध्य से अधिक है संकेत काएटोर, हाई लौटाया जाता है, अन्यथा लो लौटाया जाता है।"
   ]
  },
  {
   "cell_type": "code",
   "execution_count": 21,
   "metadata": {},
   "outputs": [
    {
     "data": {
      "text/html": [
       "<div>\n",
       "<style scoped>\n",
       "    .dataframe tbody tr th:only-of-type {\n",
       "        vertical-align: middle;\n",
       "    }\n",
       "\n",
       "    .dataframe tbody tr th {\n",
       "        vertical-align: top;\n",
       "    }\n",
       "\n",
       "    .dataframe thead th {\n",
       "        text-align: right;\n",
       "    }\n",
       "</style>\n",
       "<table border=\"1\" class=\"dataframe\">\n",
       "  <thead>\n",
       "    <tr style=\"text-align: right;\">\n",
       "      <th></th>\n",
       "      <th>Height</th>\n",
       "      <th>Weight</th>\n",
       "    </tr>\n",
       "    <tr>\n",
       "      <th>Gender</th>\n",
       "      <th></th>\n",
       "      <th></th>\n",
       "    </tr>\n",
       "  </thead>\n",
       "  <tbody>\n",
       "    <tr>\n",
       "      <th>Female</th>\n",
       "      <td>Low</td>\n",
       "      <td>Low</td>\n",
       "    </tr>\n",
       "    <tr>\n",
       "      <th>Male</th>\n",
       "      <td>High</td>\n",
       "      <td>High</td>\n",
       "    </tr>\n",
       "  </tbody>\n",
       "</table>\n",
       "</div>"
      ],
      "text/plain": [
       "       Height Weight\n",
       "Gender              \n",
       "Female    Low    Low\n",
       "Male     High   High"
      ]
     },
     "execution_count": 21,
     "metadata": {},
     "output_type": "execute_result"
    }
   ],
   "source": [
    "def my_func(s):\n",
    "    res = 'High'\n",
    "    if s.mean() <= df[s.name].mean():\n",
    "        res = 'Low'\n",
    "    return res\n",
    "gb.agg(my_func)"
   ]
  },
  {
   "cell_type": "markdown",
   "metadata": {},
   "source": [
    "[डी] एकत्रीकरण परिणाम का नाम बदलें\n",
    "\n",
    "यदि आप एकत्रीकरण परिणाम के कॉलम नाम का नाम बदलना चाहते हैं, तो आपको केवल उपरोक्त फ़ंक्शन की स्थिति को टुपल में फिर से लिखना होगा, टुपल का पहला तत्व नया नाम है, और दूसरी स्थिति मूल फ़ंक्शन है, जिसमें शामिल है एकत्रीकरण स्ट्रिंग और कस्टम फ़ंक्शन यहां कुछ उदाहरण दिए गए हैं:"
   ]
  },
  {
   "cell_type": "code",
   "execution_count": 22,
   "metadata": {},
   "outputs": [
    {
     "data": {
      "text/html": [
       "<div>\n",
       "<style scoped>\n",
       "    .dataframe tbody tr th:only-of-type {\n",
       "        vertical-align: middle;\n",
       "    }\n",
       "\n",
       "    .dataframe tbody tr th {\n",
       "        vertical-align: top;\n",
       "    }\n",
       "\n",
       "    .dataframe thead tr th {\n",
       "        text-align: left;\n",
       "    }\n",
       "\n",
       "    .dataframe thead tr:last-of-type th {\n",
       "        text-align: right;\n",
       "    }\n",
       "</style>\n",
       "<table border=\"1\" class=\"dataframe\">\n",
       "  <thead>\n",
       "    <tr>\n",
       "      <th></th>\n",
       "      <th colspan=\"2\" halign=\"left\">Height</th>\n",
       "      <th colspan=\"2\" halign=\"left\">Weight</th>\n",
       "    </tr>\n",
       "    <tr>\n",
       "      <th></th>\n",
       "      <th>range</th>\n",
       "      <th>my_sum</th>\n",
       "      <th>range</th>\n",
       "      <th>my_sum</th>\n",
       "    </tr>\n",
       "    <tr>\n",
       "      <th>Gender</th>\n",
       "      <th></th>\n",
       "      <th></th>\n",
       "      <th></th>\n",
       "      <th></th>\n",
       "    </tr>\n",
       "  </thead>\n",
       "  <tbody>\n",
       "    <tr>\n",
       "      <th>Female</th>\n",
       "      <td>24.8</td>\n",
       "      <td>21014.0</td>\n",
       "      <td>29.0</td>\n",
       "      <td>6469.0</td>\n",
       "    </tr>\n",
       "    <tr>\n",
       "      <th>Male</th>\n",
       "      <td>38.2</td>\n",
       "      <td>8854.9</td>\n",
       "      <td>38.0</td>\n",
       "      <td>3929.0</td>\n",
       "    </tr>\n",
       "  </tbody>\n",
       "</table>\n",
       "</div>"
      ],
      "text/plain": [
       "       Height          Weight        \n",
       "        range   my_sum  range  my_sum\n",
       "Gender                               \n",
       "Female   24.8  21014.0   29.0  6469.0\n",
       "Male     38.2   8854.9   38.0  3929.0"
      ]
     },
     "execution_count": 22,
     "metadata": {},
     "output_type": "execute_result"
    }
   ],
   "source": [
    "gb.agg([('range', lambda x: x.max()-x.min()), ('my_sum', 'sum')])"
   ]
  },
  {
   "cell_type": "code",
   "execution_count": 23,
   "metadata": {},
   "outputs": [
    {
     "data": {
      "text/html": [
       "<div>\n",
       "<style scoped>\n",
       "    .dataframe tbody tr th:only-of-type {\n",
       "        vertical-align: middle;\n",
       "    }\n",
       "\n",
       "    .dataframe tbody tr th {\n",
       "        vertical-align: top;\n",
       "    }\n",
       "\n",
       "    .dataframe thead tr th {\n",
       "        text-align: left;\n",
       "    }\n",
       "\n",
       "    .dataframe thead tr:last-of-type th {\n",
       "        text-align: right;\n",
       "    }\n",
       "</style>\n",
       "<table border=\"1\" class=\"dataframe\">\n",
       "  <thead>\n",
       "    <tr>\n",
       "      <th></th>\n",
       "      <th colspan=\"2\" halign=\"left\">Height</th>\n",
       "      <th>Weight</th>\n",
       "    </tr>\n",
       "    <tr>\n",
       "      <th></th>\n",
       "      <th>my_func</th>\n",
       "      <th>sum</th>\n",
       "      <th>&lt;lambda&gt;</th>\n",
       "    </tr>\n",
       "    <tr>\n",
       "      <th>Gender</th>\n",
       "      <th></th>\n",
       "      <th></th>\n",
       "      <th></th>\n",
       "    </tr>\n",
       "  </thead>\n",
       "  <tbody>\n",
       "    <tr>\n",
       "      <th>Female</th>\n",
       "      <td>Low</td>\n",
       "      <td>21014.0</td>\n",
       "      <td>63.0</td>\n",
       "    </tr>\n",
       "    <tr>\n",
       "      <th>Male</th>\n",
       "      <td>High</td>\n",
       "      <td>8854.9</td>\n",
       "      <td>89.0</td>\n",
       "    </tr>\n",
       "  </tbody>\n",
       "</table>\n",
       "</div>"
      ],
      "text/plain": [
       "        Height            Weight\n",
       "       my_func      sum <lambda>\n",
       "Gender                          \n",
       "Female     Low  21014.0     63.0\n",
       "Male      High   8854.9     89.0"
      ]
     },
     "execution_count": 23,
     "metadata": {},
     "output_type": "execute_result"
    }
   ],
   "source": [
    "gb.agg({'Height': [('my_func', my_func), 'sum'], 'Weight': lambda x:x.max()})"
   ]
  },
  {
   "cell_type": "markdown",
   "metadata": {},
   "source": [
    "यह भी ध्यान दें कि एक या अधिक स्तंभों के लिए एकल समुच्चय का उपयोग करते समय, आपको उनका नाम बदलने के लिए वर्गाकार कोष्ठक जोड़ने की आवश्यकता होती है, अन्यथा आपको पता नहीं चलेगा कि यह एक नया नाम है या एक अंतर्निहित फ़ंक्शन स्ट्रिंग है जिसे हाथ से गलत तरीके से दर्ज किया गया था:"
   ]
  },
  {
   "cell_type": "code",
   "execution_count": 24,
   "metadata": {},
   "outputs": [
    {
     "data": {
      "text/html": [
       "<div>\n",
       "<style scoped>\n",
       "    .dataframe tbody tr th:only-of-type {\n",
       "        vertical-align: middle;\n",
       "    }\n",
       "\n",
       "    .dataframe tbody tr th {\n",
       "        vertical-align: top;\n",
       "    }\n",
       "\n",
       "    .dataframe thead tr th {\n",
       "        text-align: left;\n",
       "    }\n",
       "\n",
       "    .dataframe thead tr:last-of-type th {\n",
       "        text-align: right;\n",
       "    }\n",
       "</style>\n",
       "<table border=\"1\" class=\"dataframe\">\n",
       "  <thead>\n",
       "    <tr>\n",
       "      <th></th>\n",
       "      <th>Height</th>\n",
       "      <th>Weight</th>\n",
       "    </tr>\n",
       "    <tr>\n",
       "      <th></th>\n",
       "      <th>my_sum</th>\n",
       "      <th>my_sum</th>\n",
       "    </tr>\n",
       "    <tr>\n",
       "      <th>Gender</th>\n",
       "      <th></th>\n",
       "      <th></th>\n",
       "    </tr>\n",
       "  </thead>\n",
       "  <tbody>\n",
       "    <tr>\n",
       "      <th>Female</th>\n",
       "      <td>21014.0</td>\n",
       "      <td>6469.0</td>\n",
       "    </tr>\n",
       "    <tr>\n",
       "      <th>Male</th>\n",
       "      <td>8854.9</td>\n",
       "      <td>3929.0</td>\n",
       "    </tr>\n",
       "  </tbody>\n",
       "</table>\n",
       "</div>"
      ],
      "text/plain": [
       "         Height  Weight\n",
       "         my_sum  my_sum\n",
       "Gender                 \n",
       "Female  21014.0  6469.0\n",
       "Male     8854.9  3929.0"
      ]
     },
     "execution_count": 24,
     "metadata": {},
     "output_type": "execute_result"
    }
   ],
   "source": [
    "gb.agg([('my_sum', 'sum')])"
   ]
  },
  {
   "cell_type": "code",
   "execution_count": 25,
   "metadata": {},
   "outputs": [
    {
     "data": {
      "text/html": [
       "<div>\n",
       "<style scoped>\n",
       "    .dataframe tbody tr th:only-of-type {\n",
       "        vertical-align: middle;\n",
       "    }\n",
       "\n",
       "    .dataframe tbody tr th {\n",
       "        vertical-align: top;\n",
       "    }\n",
       "\n",
       "    .dataframe thead tr th {\n",
       "        text-align: left;\n",
       "    }\n",
       "\n",
       "    .dataframe thead tr:last-of-type th {\n",
       "        text-align: right;\n",
       "    }\n",
       "</style>\n",
       "<table border=\"1\" class=\"dataframe\">\n",
       "  <thead>\n",
       "    <tr>\n",
       "      <th></th>\n",
       "      <th colspan=\"2\" halign=\"left\">Height</th>\n",
       "      <th>Weight</th>\n",
       "    </tr>\n",
       "    <tr>\n",
       "      <th></th>\n",
       "      <th>my_func</th>\n",
       "      <th>sum</th>\n",
       "      <th>range</th>\n",
       "    </tr>\n",
       "    <tr>\n",
       "      <th>Gender</th>\n",
       "      <th></th>\n",
       "      <th></th>\n",
       "      <th></th>\n",
       "    </tr>\n",
       "  </thead>\n",
       "  <tbody>\n",
       "    <tr>\n",
       "      <th>Female</th>\n",
       "      <td>Low</td>\n",
       "      <td>21014.0</td>\n",
       "      <td>63.0</td>\n",
       "    </tr>\n",
       "    <tr>\n",
       "      <th>Male</th>\n",
       "      <td>High</td>\n",
       "      <td>8854.9</td>\n",
       "      <td>89.0</td>\n",
       "    </tr>\n",
       "  </tbody>\n",
       "</table>\n",
       "</div>"
      ],
      "text/plain": [
       "        Height          Weight\n",
       "       my_func      sum  range\n",
       "Gender                        \n",
       "Female     Low  21014.0   63.0\n",
       "Male      High   8854.9   89.0"
      ]
     },
     "execution_count": 25,
     "metadata": {},
     "output_type": "execute_result"
    }
   ],
   "source": [
    "gb.agg({'Height': [('my_func', my_func), 'sum'], 'Weight': [('range', lambda x:x.max())]})"
   ]
  },
  {
   "cell_type": "markdown",
   "metadata": {},
   "source": [
    "## III. परिवर्तन और फ़िल्टरिंग\n",
    "### 1. परिवर्तन कार्य और परिवर्तन विधि\n",
    "परिवर्तन फ़ंक्शन का रिटर्न मान समान लंबाई का अनुक्रम है। सबसे अधिक उपयोग किए जाने वाले अंतर्निहित परिवर्तन फ़ंक्शन संचय फ़ंक्शन हैं: `cumcount/cumsum/cumprod/cummax/cummin` इनका उपयोग एकत्रीकरण फ़ंक्शन के समान तरीके से किया जाता है , सिवाय इसके कि वे इंट्रा-ग्रुप संचय संचालन करते हैं, इसके अलावा, भरण-प्रकार और स्लाइडिंग-विंडो-प्रकार परिवर्तन कार्यों को परिभाषित किया गया है`ग्रुपबी` ऑब्जेक्ट पर इन कार्यों के सामान्य रूपों पर क्रमशः अध्याय 7 और अध्याय 10 में चर्चा की जाएगी, और इन्हें यहां छोड़ दिया गया है।"
   ]
  },
  {
   "cell_type": "code",
   "execution_count": 26,
   "metadata": {},
   "outputs": [
    {
     "data": {
      "text/html": [
       "<div>\n",
       "<style scoped>\n",
       "    .dataframe tbody tr th:only-of-type {\n",
       "        vertical-align: middle;\n",
       "    }\n",
       "\n",
       "    .dataframe tbody tr th {\n",
       "        vertical-align: top;\n",
       "    }\n",
       "\n",
       "    .dataframe thead th {\n",
       "        text-align: right;\n",
       "    }\n",
       "</style>\n",
       "<table border=\"1\" class=\"dataframe\">\n",
       "  <thead>\n",
       "    <tr style=\"text-align: right;\">\n",
       "      <th></th>\n",
       "      <th>Height</th>\n",
       "      <th>Weight</th>\n",
       "    </tr>\n",
       "  </thead>\n",
       "  <tbody>\n",
       "    <tr>\n",
       "      <th>0</th>\n",
       "      <td>158.9</td>\n",
       "      <td>46.0</td>\n",
       "    </tr>\n",
       "    <tr>\n",
       "      <th>1</th>\n",
       "      <td>166.5</td>\n",
       "      <td>70.0</td>\n",
       "    </tr>\n",
       "    <tr>\n",
       "      <th>2</th>\n",
       "      <td>188.9</td>\n",
       "      <td>89.0</td>\n",
       "    </tr>\n",
       "    <tr>\n",
       "      <th>3</th>\n",
       "      <td>NaN</td>\n",
       "      <td>46.0</td>\n",
       "    </tr>\n",
       "    <tr>\n",
       "      <th>4</th>\n",
       "      <td>188.9</td>\n",
       "      <td>89.0</td>\n",
       "    </tr>\n",
       "  </tbody>\n",
       "</table>\n",
       "</div>"
      ],
      "text/plain": [
       "   Height  Weight\n",
       "0   158.9    46.0\n",
       "1   166.5    70.0\n",
       "2   188.9    89.0\n",
       "3     NaN    46.0\n",
       "4   188.9    89.0"
      ]
     },
     "execution_count": 26,
     "metadata": {},
     "output_type": "execute_result"
    }
   ],
   "source": [
    "gb.cummax().head()"
   ]
  },
  {
   "cell_type": "markdown",
   "metadata": {},
   "source": [
    "#### 【अभ्यास】\n",
    "`ग्रुपबाय` ऑब्जेक्ट में, `रैंक` विधि भी एक उपयोगी परिवर्तन फ़ंक्शन है। कृपया इसके फ़ंक्शन को देखें और इसके उपयोग का एक उदाहरण दें।\n",
    "#### 【अंत】\n",
    "कस्टम ट्रांसफ़ॉर्मेशन का उपयोग करते समय, आपको `ट्रांसफ़ॉर्म` विधि का उपयोग करने की आवश्यकता होती है। तथाकथित कस्टम फ़ंक्शन, $\\color{#FF0000}{इसका इनपुट मान डेटा स्रोतों का एक अनुक्रम है}$, `एजीजी` के इनपुट प्रकार के अनुरूप है। , और इसका अंतिम रिटर्न परिणाम डेटा स्रोत के अनुरूप पंक्ति और स्तंभ अनुक्रमणिका वाला `डेटाफ़्रेम` है।"
   ]
  },
  {
   "cell_type": "markdown",
   "metadata": {},
   "source": [
    "अब हम समूह माध्य को घटाकर और समूह मानक विचलन से विभाजित करके ऊंचाई और वजन का मानकीकरण करते हैं:"
   ]
  },
  {
   "cell_type": "code",
   "execution_count": 27,
   "metadata": {},
   "outputs": [
    {
     "data": {
      "text/html": [
       "<div>\n",
       "<style scoped>\n",
       "    .dataframe tbody tr th:only-of-type {\n",
       "        vertical-align: middle;\n",
       "    }\n",
       "\n",
       "    .dataframe tbody tr th {\n",
       "        vertical-align: top;\n",
       "    }\n",
       "\n",
       "    .dataframe thead th {\n",
       "        text-align: right;\n",
       "    }\n",
       "</style>\n",
       "<table border=\"1\" class=\"dataframe\">\n",
       "  <thead>\n",
       "    <tr style=\"text-align: right;\">\n",
       "      <th></th>\n",
       "      <th>Height</th>\n",
       "      <th>Weight</th>\n",
       "    </tr>\n",
       "  </thead>\n",
       "  <tbody>\n",
       "    <tr>\n",
       "      <th>0</th>\n",
       "      <td>-0.058760</td>\n",
       "      <td>-0.354888</td>\n",
       "    </tr>\n",
       "    <tr>\n",
       "      <th>1</th>\n",
       "      <td>-1.010925</td>\n",
       "      <td>-0.355000</td>\n",
       "    </tr>\n",
       "    <tr>\n",
       "      <th>2</th>\n",
       "      <td>2.167063</td>\n",
       "      <td>2.089498</td>\n",
       "    </tr>\n",
       "    <tr>\n",
       "      <th>3</th>\n",
       "      <td>NaN</td>\n",
       "      <td>-1.279789</td>\n",
       "    </tr>\n",
       "    <tr>\n",
       "      <th>4</th>\n",
       "      <td>0.053133</td>\n",
       "      <td>0.159631</td>\n",
       "    </tr>\n",
       "  </tbody>\n",
       "</table>\n",
       "</div>"
      ],
      "text/plain": [
       "     Height    Weight\n",
       "0 -0.058760 -0.354888\n",
       "1 -1.010925 -0.355000\n",
       "2  2.167063  2.089498\n",
       "3       NaN -1.279789\n",
       "4  0.053133  0.159631"
      ]
     },
     "execution_count": 27,
     "metadata": {},
     "output_type": "execute_result"
    }
   ],
   "source": [
    "gb.transform(lambda x: (x-x.mean())/x.std()).head()"
   ]
  },
  {
   "cell_type": "markdown",
   "metadata": {},
   "source": [
    "#### 【अभ्यास】\n",
    "`ट्रांसफॉर्म` विधि के लिए, `एजीजी` जैसे शब्दकोश में पास करके निर्दिष्ट कॉलम पर एक विशिष्ट परिवर्तन का उपयोग करना संभव नहीं है। यदि आपको इस फ़ंक्शन को `ट्रांसफॉर्म` कॉल में लागू करने की आवश्यकता है, तो कृपया एक समाधान प्रदान करें।\n",
    "#### 【अंत】\n",
    "यह पहले उल्लेख किया गया था कि `ट्रांसफॉर्म` केवल समान लंबाई के अनुक्रम लौटा सकता है, लेकिन वास्तव में यह एक स्केलर भी लौटा सकता है, जिसके कारण परिणाम उस पूरे समूह में प्रसारित हो जाएगा, जो इस $\\color{#FF0000 से संबंधित है {स्केलर ब्रॉडसीast}$ तकनीक फीचर इंजीनियरिंग में बहुत आम है, उदाहरण के लिए, नमूने के लिंग समूह की औसत ऊंचाई और वजन का प्रतिनिधित्व करने के लिए सुविधाओं के दो नए कॉलम बनाएं:"
   ]
  },
  {
   "cell_type": "code",
   "execution_count": 28,
   "metadata": {},
   "outputs": [
    {
     "data": {
      "text/html": [
       "<div>\n",
       "<style scoped>\n",
       "    .dataframe tbody tr th:only-of-type {\n",
       "        vertical-align: middle;\n",
       "    }\n",
       "\n",
       "    .dataframe tbody tr th {\n",
       "        vertical-align: top;\n",
       "    }\n",
       "\n",
       "    .dataframe thead th {\n",
       "        text-align: right;\n",
       "    }\n",
       "</style>\n",
       "<table border=\"1\" class=\"dataframe\">\n",
       "  <thead>\n",
       "    <tr style=\"text-align: right;\">\n",
       "      <th></th>\n",
       "      <th>Height</th>\n",
       "      <th>Weight</th>\n",
       "    </tr>\n",
       "  </thead>\n",
       "  <tbody>\n",
       "    <tr>\n",
       "      <th>0</th>\n",
       "      <td>159.19697</td>\n",
       "      <td>47.918519</td>\n",
       "    </tr>\n",
       "    <tr>\n",
       "      <th>1</th>\n",
       "      <td>173.62549</td>\n",
       "      <td>72.759259</td>\n",
       "    </tr>\n",
       "    <tr>\n",
       "      <th>2</th>\n",
       "      <td>173.62549</td>\n",
       "      <td>72.759259</td>\n",
       "    </tr>\n",
       "    <tr>\n",
       "      <th>3</th>\n",
       "      <td>159.19697</td>\n",
       "      <td>47.918519</td>\n",
       "    </tr>\n",
       "    <tr>\n",
       "      <th>4</th>\n",
       "      <td>173.62549</td>\n",
       "      <td>72.759259</td>\n",
       "    </tr>\n",
       "  </tbody>\n",
       "</table>\n",
       "</div>"
      ],
      "text/plain": [
       "      Height     Weight\n",
       "0  159.19697  47.918519\n",
       "1  173.62549  72.759259\n",
       "2  173.62549  72.759259\n",
       "3  159.19697  47.918519\n",
       "4  173.62549  72.759259"
      ]
     },
     "execution_count": 28,
     "metadata": {},
     "output_type": "execute_result"
    }
   ],
   "source": [
    "gb.transform('mean').head() # 传入返回标量的函数也是可以的"
   ]
  },
  {
   "cell_type": "markdown",
   "metadata": {},
   "source": [
    "### 2. समूह सूचकांक और फ़िल्टरिंग\n",
    "\n",
    "पिछले अध्याय में, हमने इंडेक्स के उपयोग का परिचय दिया था, तो इंडेक्स और फ़िल्टरिंग के बीच क्या अंतर है?\n",
    "\n",
    "समूहीकरण में फ़िल्टरिंग समूहों के लिए फ़िल्टरिंग है, जबकि अनुक्रमण पंक्तियों के लिए फ़िल्टरिंग है। दूसरे अध्याय में रिटर्न मान, चाहे वह बूलियन सूची हो, तत्व सूची हो, या स्थिति सूची हो, अनिवार्य रूप से पंक्तियों के लिए फ़िल्टरिंग है। फ़िल्टरिंग शर्तों को पूरा करता है, तो इसे परिणाम तालिका में चुना जाएगा, अन्यथा इसका चयन नहीं किया जाएगा।समूह फ़िल्टरिंग पंक्ति फ़िल्टरिंग का एक सामान्यीकरण है, जिसका अर्थ है कि यदि किसी समूह की सभी पंक्तियों की गिनती का परिणाम 'सही' है, तो इसे बरकरार रखा जाएगा, और यदि यह 'गलत' देता है, तो समूह को फ़िल्टर किया जाएगा, और अंत में सभी को फ़िल्टर किया जाएगा। अनफ़िल्टर्ड समूहों से संबंधित पंक्तियों को संयोजित किया जाता है और `डेटाफ़्रेम` के रूप में लौटाया जाता है।\n",
    "\n",
    "`ग्रुपबाय` ऑब्जेक्ट में, `फ़िल्टर` विधि को समूह को फ़िल्टर करने के लिए परिभाषित किया गया है, जहां कस्टम फ़ंक्शन का इनपुट पैरामीटर `डेटाफ़्रेम` है जो डी का गठन करता हैएटीए स्रोत। पिछले उदाहरण में परिभाषित `ग्रुपबी` ऑब्जेक्ट में, इनपुट `डीएफ[['ऊंचाई', 'वजन']]` है, इसलिए सभी तालिका विधियों और गुणों का उपयोग कस्टम फ़ंक्शन के अनुसार किया जा सकता है, और आप केवल यह सुनिश्चित करने की आवश्यकता है कि कस्टम फ़ंक्शन का रिटर्न मान बूलियन मान है।\n",
    "\n",
    "उदाहरण के लिए, मूल तालिका में, 100 से अधिक क्षमता वाले सभी समूह फ़िल्टर करके प्राप्त किए जाते हैं:"
   ]
  },
  {
   "cell_type": "code",
   "execution_count": 29,
   "metadata": {},
   "outputs": [
    {
     "data": {
      "text/html": [
       "<div>\n",
       "<style scoped>\n",
       "    .dataframe tbody tr th:only-of-type {\n",
       "        vertical-align: middle;\n",
       "    }\n",
       "\n",
       "    .dataframe tbody tr th {\n",
       "        vertical-align: top;\n",
       "    }\n",
       "\n",
       "    .dataframe thead th {\n",
       "        text-align: right;\n",
       "    }\n",
       "</style>\n",
       "<table border=\"1\" class=\"dataframe\">\n",
       "  <thead>\n",
       "    <tr style=\"text-align: right;\">\n",
       "      <th></th>\n",
       "      <th>Height</th>\n",
       "      <th>Weight</th>\n",
       "    </tr>\n",
       "  </thead>\n",
       "  <tbody>\n",
       "    <tr>\n",
       "      <th>0</th>\n",
       "      <td>158.9</td>\n",
       "      <td>46.0</td>\n",
       "    </tr>\n",
       "    <tr>\n",
       "      <th>3</th>\n",
       "      <td>NaN</td>\n",
       "      <td>41.0</td>\n",
       "    </tr>\n",
       "    <tr>\n",
       "      <th>5</th>\n",
       "      <td>158.0</td>\n",
       "      <td>51.0</td>\n",
       "    </tr>\n",
       "    <tr>\n",
       "      <th>6</th>\n",
       "      <td>162.5</td>\n",
       "      <td>52.0</td>\n",
       "    </tr>\n",
       "    <tr>\n",
       "      <th>7</th>\n",
       "      <td>161.9</td>\n",
       "      <td>50.0</td>\n",
       "    </tr>\n",
       "  </tbody>\n",
       "</table>\n",
       "</div>"
      ],
      "text/plain": [
       "   Height  Weight\n",
       "0   158.9    46.0\n",
       "3     NaN    41.0\n",
       "5   158.0    51.0\n",
       "6   162.5    52.0\n",
       "7   161.9    50.0"
      ]
     },
     "execution_count": 29,
     "metadata": {},
     "output_type": "execute_result"
    }
   ],
   "source": [
    "gb.filter(lambda x: x.shape[0] > 100).head()"
   ]
  },
  {
   "cell_type": "markdown",
   "metadata": {},
   "source": [
    "#### 【अभ्यास】\n",
    "वैचारिक रूप से, अनुक्रमण फ़ंक्शन समूह फ़िल्टरिंग फ़ंक्शन का एक उपसमूह है। कृपया `loc[...]` फ़ंक्शन को पूरा करने के लिए `फ़िल्टर` फ़ंक्शन का उपयोग करें, यह माना जाता है कि \"`...`\" एक तत्व है सूची।\n",
    "#### 【अंत】\n",
    "## 4. क्रॉस-कॉलम ग्रुपिंग\n",
    "### 1. आवेदन का परिचय\n",
    "पिछले अनुभागों ने तीन प्रमुख समूहीकरण ऑपरेशन पेश किए, लेकिन वास्तव में एक सामान्य समूहीकरण परिदृश्य है जिसे ऊपर प्रस्तुत किसी भी तरीके से नियंत्रित नहीं किया जा सकता है, उदाहरण के लिए, बॉडी मास इंडेक्स बीएमआई को इस प्रकार परिभाषित किया गया है:\n",
    "$${\\rm बीएमआई} = {rm\\frac{वजन}{ऊंचाई^2}}$$\n",
    "जहां वजन और ऊंचाई की इकाइयां क्रमशः किलोग्राम और मीटर हैं, समूह द्वारा समूह बीएमआई के औसत की गणना करना आवश्यक है।\n",
    "\n",
    "सबसे पहले, यह स्पष्ट रूप से एक फ़िल्टरिंग ऑपरेशन नहीं है, इसलिए `फ़िल्टर` आवश्यकताओं को पूरा नहीं करता है; दूसरे, लौटाया गया माध्य अनुक्रम के बजाय एक अदिश है, इसलिए `ट्रांसफ़ॉर्म` अंततः आवश्यकताओं को पूरा नहीं करता है, ऐसा लगता है; इसे संभालने के लिए agg` फ़ंक्शन का उपयोग किया जा सकता है, लेकिन इसमें bee हैn ने पहले इस बात पर जोर दिया कि एकत्रीकरण फ़ंक्शन को कॉलम दर कॉलम संसाधित किया जाता है, और $\\color{#FF0000}{एक ही समय में डेटा के कई कॉलमों को संसाधित करना}$ संभव नहीं है, इसलिए, `लागू करें` फ़ंक्शन को हल करने के लिए पेश किया गया है इस समस्या।\n",
    "\n",
    "### 2. अप्लाई का प्रयोग\n",
    "डिज़ाइन के संदर्भ में, `लागू करें` के कस्टम फ़ंक्शन को दिए गए पैरामीटर बिल्कुल `फ़िल्टर` के समान हैं, सिवाय इसके कि बाद वाला केवल बूलियन मानों को वापस करने की अनुमति देता है। अब उपरोक्त गणना समस्या को हल करें फोलनिम्न:"
   ]
  },
  {
   "cell_type": "code",
   "execution_count": 30,
   "metadata": {},
   "outputs": [
    {
     "data": {
      "text/plain": [
       "Gender\n",
       "Female    18.860930\n",
       "Male      24.318654\n",
       "dtype: float64"
      ]
     },
     "execution_count": 30,
     "metadata": {},
     "output_type": "execute_result"
    }
   ],
   "source": [
    "def BMI(x):\n",
    "    Height = x['Height']/100\n",
    "    Weight = x['Weight']\n",
    "    BMI_value = Weight/Height**2\n",
    "    return BMI_value.mean()\n",
    "gb.apply(BMI)"
   ]
  },
  {
   "cell_type": "markdown",
   "metadata": {},
   "source": [
    "स्केलर लौटाने के अलावा, 'लागू करें' विधि एक-आयामी 'श्रृंखला' और दो-आयामी 'डेटाफ़्रेम' भी लौटा सकती है, लेकिन उनके द्वारा उत्पादित डेटा फ़्रेम के आयाम और बहु-स्तरीय सूचकांक के स्तरों की संख्या कैसी होनी चाहिए परिवर्तन? उदाहरणों के निम्नलिखित तीन सेटों से यह समझना बहुत आसान हो जाएगा कि परिणाम कैसे उत्पन्न होते हैं:"
   ]
  },
  {
   "cell_type": "markdown",
   "metadata": {},
   "source": [
    "[ए] स्केलर केस: परिणाम ``श्रृंखला`` है, और सूचकांक ``एजीजी`` के परिणाम के समान है"
   ]
  },
  {
   "cell_type": "code",
   "execution_count": 31,
   "metadata": {},
   "outputs": [
    {
     "data": {
      "text/plain": [
       "Gender  Test_Number\n",
       "Female  1              0\n",
       "        2              0\n",
       "        3              0\n",
       "Male    1              0\n",
       "        2              0\n",
       "        3              0\n",
       "dtype: int64"
      ]
     },
     "execution_count": 31,
     "metadata": {},
     "output_type": "execute_result"
    }
   ],
   "source": [
    "gb = df.groupby(['Gender','Test_Number'])[['Height','Weight']]\n",
    "gb.apply(lambda x: 0)"
   ]
  },
  {
   "cell_type": "code",
   "execution_count": 32,
   "metadata": {},
   "outputs": [
    {
     "data": {
      "text/plain": [
       "Gender  Test_Number\n",
       "Female  1              [0, 0]\n",
       "        2              [0, 0]\n",
       "        3              [0, 0]\n",
       "Male    1              [0, 0]\n",
       "        2              [0, 0]\n",
       "        3              [0, 0]\n",
       "dtype: object"
      ]
     },
     "execution_count": 32,
     "metadata": {},
     "output_type": "execute_result"
    }
   ],
   "source": [
    "gb.apply(lambda x: [0, 0]) # 虽然是列表，但是作为返回值仍然看作标量"
   ]
  },
  {
   "cell_type": "markdown",
   "metadata": {},
   "source": [
    "[बी] `सीरीज़` केस: परिणाम एक `डेटाफ़्रेम` है, पंक्ति सूचकांक स्केलर केस के समान है, और कॉलम इंडेक्स `सीरीज़` का सूचकांक है"
   ]
  },
  {
   "cell_type": "code",
   "execution_count": 33,
   "metadata": {},
   "outputs": [
    {
     "data": {
      "text/html": [
       "<div>\n",
       "<style scoped>\n",
       "    .dataframe tbody tr th:only-of-type {\n",
       "        vertical-align: middle;\n",
       "    }\n",
       "\n",
       "    .dataframe tbody tr th {\n",
       "        vertical-align: top;\n",
       "    }\n",
       "\n",
       "    .dataframe thead th {\n",
       "        text-align: right;\n",
       "    }\n",
       "</style>\n",
       "<table border=\"1\" class=\"dataframe\">\n",
       "  <thead>\n",
       "    <tr style=\"text-align: right;\">\n",
       "      <th></th>\n",
       "      <th></th>\n",
       "      <th>a</th>\n",
       "      <th>b</th>\n",
       "    </tr>\n",
       "    <tr>\n",
       "      <th>Gender</th>\n",
       "      <th>Test_Number</th>\n",
       "      <th></th>\n",
       "      <th></th>\n",
       "    </tr>\n",
       "  </thead>\n",
       "  <tbody>\n",
       "    <tr>\n",
       "      <th rowspan=\"3\" valign=\"top\">Female</th>\n",
       "      <th>1</th>\n",
       "      <td>0</td>\n",
       "      <td>0</td>\n",
       "    </tr>\n",
       "    <tr>\n",
       "      <th>2</th>\n",
       "      <td>0</td>\n",
       "      <td>0</td>\n",
       "    </tr>\n",
       "    <tr>\n",
       "      <th>3</th>\n",
       "      <td>0</td>\n",
       "      <td>0</td>\n",
       "    </tr>\n",
       "    <tr>\n",
       "      <th rowspan=\"3\" valign=\"top\">Male</th>\n",
       "      <th>1</th>\n",
       "      <td>0</td>\n",
       "      <td>0</td>\n",
       "    </tr>\n",
       "    <tr>\n",
       "      <th>2</th>\n",
       "      <td>0</td>\n",
       "      <td>0</td>\n",
       "    </tr>\n",
       "    <tr>\n",
       "      <th>3</th>\n",
       "      <td>0</td>\n",
       "      <td>0</td>\n",
       "    </tr>\n",
       "  </tbody>\n",
       "</table>\n",
       "</div>"
      ],
      "text/plain": [
       "                    a  b\n",
       "Gender Test_Number      \n",
       "Female 1            0  0\n",
       "       2            0  0\n",
       "       3            0  0\n",
       "Male   1            0  0\n",
       "       2            0  0\n",
       "       3            0  0"
      ]
     },
     "execution_count": 33,
     "metadata": {},
     "output_type": "execute_result"
    }
   ],
   "source": [
    "gb.apply(lambda x: pd.Series([0,0],index=['a','b']))"
   ]
  },
  {
   "cell_type": "markdown",
   "metadata": {},
   "source": [
    "#### 【अभ्यास】\n",
    "कृपया 'लागू करें' में पारित कस्टम फ़ंक्शन में समूह की कुछ विशेषताओं के आधार पर समान लंबाई लेकिन अलग-अलग अनुक्रमणिका वापस करने का प्रयास करें। क्या कोई त्रुटि होगी?\n",
    "#### 【अंत】\n",
    "【c】`DataFrame` केस: परिणाम एक `DataFrame` है, जिसमें प्रत्येक समूह के मूल `agg` परिणाम सूचकांक में अंतरतम पंक्ति सूचकांक जोड़ा जाता है, और एक ही समय में लौटाए गए `DataFrame` पंक्ति सूचकांक की एक और परत होती है , समूहीकृत परिणाम `डेटाफ़्रेम` का कॉलम इंडेक्स कॉलम के अनुरूप हैलौटाए गए `डेटाफ़्रेम` का सूचकांक।"
   ]
  },
  {
   "cell_type": "code",
   "execution_count": 34,
   "metadata": {},
   "outputs": [
    {
     "data": {
      "text/html": [
       "<div>\n",
       "<style scoped>\n",
       "    .dataframe tbody tr th:only-of-type {\n",
       "        vertical-align: middle;\n",
       "    }\n",
       "\n",
       "    .dataframe tbody tr th {\n",
       "        vertical-align: top;\n",
       "    }\n",
       "\n",
       "    .dataframe thead tr th {\n",
       "        text-align: left;\n",
       "    }\n",
       "\n",
       "    .dataframe thead tr:last-of-type th {\n",
       "        text-align: right;\n",
       "    }\n",
       "</style>\n",
       "<table border=\"1\" class=\"dataframe\">\n",
       "  <thead>\n",
       "    <tr>\n",
       "      <th></th>\n",
       "      <th></th>\n",
       "      <th></th>\n",
       "      <th>w</th>\n",
       "      <th>y</th>\n",
       "    </tr>\n",
       "    <tr>\n",
       "      <th></th>\n",
       "      <th></th>\n",
       "      <th></th>\n",
       "      <th>x</th>\n",
       "      <th>z</th>\n",
       "    </tr>\n",
       "    <tr>\n",
       "      <th>Gender</th>\n",
       "      <th>Test_Number</th>\n",
       "      <th></th>\n",
       "      <th></th>\n",
       "      <th></th>\n",
       "    </tr>\n",
       "  </thead>\n",
       "  <tbody>\n",
       "    <tr>\n",
       "      <th rowspan=\"6\" valign=\"top\">Female</th>\n",
       "      <th rowspan=\"2\" valign=\"top\">1</th>\n",
       "      <th>a</th>\n",
       "      <td>1.0</td>\n",
       "      <td>1.0</td>\n",
       "    </tr>\n",
       "    <tr>\n",
       "      <th>b</th>\n",
       "      <td>1.0</td>\n",
       "      <td>1.0</td>\n",
       "    </tr>\n",
       "    <tr>\n",
       "      <th rowspan=\"2\" valign=\"top\">2</th>\n",
       "      <th>a</th>\n",
       "      <td>1.0</td>\n",
       "      <td>1.0</td>\n",
       "    </tr>\n",
       "    <tr>\n",
       "      <th>b</th>\n",
       "      <td>1.0</td>\n",
       "      <td>1.0</td>\n",
       "    </tr>\n",
       "    <tr>\n",
       "      <th rowspan=\"2\" valign=\"top\">3</th>\n",
       "      <th>a</th>\n",
       "      <td>1.0</td>\n",
       "      <td>1.0</td>\n",
       "    </tr>\n",
       "    <tr>\n",
       "      <th>b</th>\n",
       "      <td>1.0</td>\n",
       "      <td>1.0</td>\n",
       "    </tr>\n",
       "    <tr>\n",
       "      <th rowspan=\"6\" valign=\"top\">Male</th>\n",
       "      <th rowspan=\"2\" valign=\"top\">1</th>\n",
       "      <th>a</th>\n",
       "      <td>1.0</td>\n",
       "      <td>1.0</td>\n",
       "    </tr>\n",
       "    <tr>\n",
       "      <th>b</th>\n",
       "      <td>1.0</td>\n",
       "      <td>1.0</td>\n",
       "    </tr>\n",
       "    <tr>\n",
       "      <th rowspan=\"2\" valign=\"top\">2</th>\n",
       "      <th>a</th>\n",
       "      <td>1.0</td>\n",
       "      <td>1.0</td>\n",
       "    </tr>\n",
       "    <tr>\n",
       "      <th>b</th>\n",
       "      <td>1.0</td>\n",
       "      <td>1.0</td>\n",
       "    </tr>\n",
       "    <tr>\n",
       "      <th rowspan=\"2\" valign=\"top\">3</th>\n",
       "      <th>a</th>\n",
       "      <td>1.0</td>\n",
       "      <td>1.0</td>\n",
       "    </tr>\n",
       "    <tr>\n",
       "      <th>b</th>\n",
       "      <td>1.0</td>\n",
       "      <td>1.0</td>\n",
       "    </tr>\n",
       "  </tbody>\n",
       "</table>\n",
       "</div>"
      ],
      "text/plain": [
       "                        w    y\n",
       "                        x    z\n",
       "Gender Test_Number            \n",
       "Female 1           a  1.0  1.0\n",
       "                   b  1.0  1.0\n",
       "       2           a  1.0  1.0\n",
       "                   b  1.0  1.0\n",
       "       3           a  1.0  1.0\n",
       "                   b  1.0  1.0\n",
       "Male   1           a  1.0  1.0\n",
       "                   b  1.0  1.0\n",
       "       2           a  1.0  1.0\n",
       "                   b  1.0  1.0\n",
       "       3           a  1.0  1.0\n",
       "                   b  1.0  1.0"
      ]
     },
     "execution_count": 34,
     "metadata": {},
     "output_type": "execute_result"
    }
   ],
   "source": [
    "gb.apply(lambda x: pd.DataFrame(np.ones((2,2)), index = ['a','b'], columns=pd.Index([('w','x'),('y','z')])))"
   ]
  },
  {
   "cell_type": "markdown",
   "metadata": {},
   "source": [
    "#### 【अभ्यास】\n",
    "कृपया `लागू करें` द्वारा पारित कस्टम फ़ंक्शन में समूह की कुछ विशेषताओं के आधार पर एक ही आकार के `डेटाफ़्रेम` को वापस करने का प्रयास करें, क्या कोई त्रुटि होगी? एक त्रुटि हो?\n",
    "#### 【अंत】\n",
    "अंत में, इस बात पर जोर दिया जाना चाहिए कि `लागू करें' फ़ंक्शन का लचीलापन कुछ प्रदर्शन की कीमत पर प्राप्त किया जाता है जब तक कि आपको क्रॉस-कॉलम समूह प्रसंस्करण का उपयोग करने की आवश्यकता न हो, आपको अन्य विशेष रूप से डिज़ाइन किए गए का उपयोग करना चाहिए`ग्रुपबाय` ऑब्जेक्ट विधियों को संपादित करें, अन्यथा प्रदर्शन में एक बड़ा अंतर होगा। साथ ही, एकत्रीकरण कार्यों और परिवर्तन कार्यों का उपयोग करते समय, आपको अंतर्निहित कार्यों का उपयोग करने को भी प्राथमिकता देनी चाहिए, जिन्हें प्रदर्शन के लिए अत्यधिक अनुकूलित किया गया है। आमतौर पर कस्टम फ़ंक्शंस का उपयोग करने की तुलना में तेज़ होते हैं।\n",
    "#### 【अभ्यास】\n",
    "`cov` और `corr` फ़ंक्शंस को `groupby` ऑब्जेक्ट में भी परिभाषित किया गया है, जो वैचारिक रूप से क्रॉस-कॉलम ग्रुप प्रोसेसिंग से भी संबंधित है। कृपया `gb` ob का उपयोग करेंपहले से परिभाषित ject, `gb.cov()` के समान फ़ंक्शन को कार्यान्वित करने के लिए apply फ़ंक्शन का उपयोग करें और उनके प्रदर्शन की तुलना करें।\n",
    "#### 【अंत】\n",
    "##5.व्यायाम\n",
    "### Ex1: कार डेटासेट\n",
    "एक कार डेटा सेट है, जहां `ब्रांड, डिस्प., एचपी` क्रमशः कार ब्रांड, इंजन क्षमता और इंजन आउटपुट का प्रतिनिधित्व करता है।"
   ]
  },
  {
   "cell_type": "code",
   "execution_count": 35,
   "metadata": {},
   "outputs": [
    {
     "data": {
      "text/html": [
       "<div>\n",
       "<style scoped>\n",
       "    .dataframe tbody tr th:only-of-type {\n",
       "        vertical-align: middle;\n",
       "    }\n",
       "\n",
       "    .dataframe tbody tr th {\n",
       "        vertical-align: top;\n",
       "    }\n",
       "\n",
       "    .dataframe thead th {\n",
       "        text-align: right;\n",
       "    }\n",
       "</style>\n",
       "<table border=\"1\" class=\"dataframe\">\n",
       "  <thead>\n",
       "    <tr style=\"text-align: right;\">\n",
       "      <th></th>\n",
       "      <th>Brand</th>\n",
       "      <th>Price</th>\n",
       "      <th>Country</th>\n",
       "      <th>Reliability</th>\n",
       "      <th>Mileage</th>\n",
       "      <th>Type</th>\n",
       "      <th>Weight</th>\n",
       "      <th>Disp.</th>\n",
       "      <th>HP</th>\n",
       "    </tr>\n",
       "  </thead>\n",
       "  <tbody>\n",
       "    <tr>\n",
       "      <th>0</th>\n",
       "      <td>Eagle Summit 4</td>\n",
       "      <td>8895</td>\n",
       "      <td>USA</td>\n",
       "      <td>4.0</td>\n",
       "      <td>33</td>\n",
       "      <td>Small</td>\n",
       "      <td>2560</td>\n",
       "      <td>97</td>\n",
       "      <td>113</td>\n",
       "    </tr>\n",
       "    <tr>\n",
       "      <th>1</th>\n",
       "      <td>Ford Escort   4</td>\n",
       "      <td>7402</td>\n",
       "      <td>USA</td>\n",
       "      <td>2.0</td>\n",
       "      <td>33</td>\n",
       "      <td>Small</td>\n",
       "      <td>2345</td>\n",
       "      <td>114</td>\n",
       "      <td>90</td>\n",
       "    </tr>\n",
       "    <tr>\n",
       "      <th>2</th>\n",
       "      <td>Ford Festiva 4</td>\n",
       "      <td>6319</td>\n",
       "      <td>Korea</td>\n",
       "      <td>4.0</td>\n",
       "      <td>37</td>\n",
       "      <td>Small</td>\n",
       "      <td>1845</td>\n",
       "      <td>81</td>\n",
       "      <td>63</td>\n",
       "    </tr>\n",
       "  </tbody>\n",
       "</table>\n",
       "</div>"
      ],
      "text/plain": [
       "             Brand  Price Country  Reliability  Mileage   Type  Weight  Disp.  \\\n",
       "0   Eagle Summit 4   8895     USA          4.0       33  Small    2560     97   \n",
       "1  Ford Escort   4   7402     USA          2.0       33  Small    2345    114   \n",
       "2   Ford Festiva 4   6319   Korea          4.0       37  Small    1845     81   \n",
       "\n",
       "    HP  \n",
       "0  113  \n",
       "1   90  \n",
       "2   63  "
      ]
     },
     "execution_count": 35,
     "metadata": {},
     "output_type": "execute_result"
    }
   ],
   "source": [
    "df = pd.read_csv('../data/car.csv')\n",
    "df.head(3)"
   ]
  },
  {
   "cell_type": "markdown",
   "metadata": {},
   "source": [
    "1. सबसे पहले उन कारों को फ़िल्टर करें जो 2 से अधिक 'देशों' से संबंधित हैं, अर्थात, यदि कार का 'देश' समग्र डेटा सेट में 2 बार से अधिक दिखाई नहीं देता है, तो इसे हटा दें, और फिर मूल्य माध्य की गणना करें, मूल्य भिन्नता गुणांक, और 'देश' को समूहीकृत करके 'देश' में कारों की संख्या, भिन्नता के गुणांक की गणना मानक विचलन को माध्य से विभाजित करके की जाती है, और परिणाम में भिन्नता के गुणांक का नाम बदलकर 'CoV' कर दिया जाता है।\n",
    "2. पहले तीसरे, मध्य तीसरे, ए द्वारा समूहd तालिका में स्थिति का अंतिम तिहाई, और `मूल्य` के माध्य की गणना करें।\n",
    "3. 'प्रकार' प्रकार को समूहित करें, क्रमशः 'मूल्य' और 'एचपी' के अधिकतम और न्यूनतम मानों की गणना करें, और परिणाम एक बहु-स्तरीय सूचकांक उत्पन्न करेगा। बहु-स्तरीय कॉलम को मर्ज करने के लिए कृपया अंडरस्कोर का उपयोग करें एकल-स्तरीय सूचकांक में अनुक्रमणिका।\n",
    "4. 'प्रकार' प्रकार को समूहित करें, और समूह के भीतर 'एचपी' को 'न्यूनतम-अधिकतम' के साथ सामान्य करें।\n",
    "5. 'प्रकार' प्रकार को समूहित करें, और 'Disp.' और 'HP' के बीच सहसंबंध गुणांक की गणना करें।"
   ]
  },
  {
   "cell_type": "markdown",
   "metadata": {},
   "source": [
    "### Ex2: ट्रांसफ़ॉर्म फ़ंक्शन लागू करें\n",
    "* `groupby` ऑब्जेक्ट का कंस्ट्रक्टर `my_groupby(df, Group_cols)` है\n",
    "* सिंगल-कॉलम और मल्टी-कॉलम ग्रुपिंग का समर्थन करता है\n",
    "* स्केलर प्रसारण के साथ `my_groupby(df)[col].transform(my_func)` फ़ंक्शन का समर्थन करता है\n",
    "* `पांडा` के `रूपांतरण` की गणना सभी स्तंभों में नहीं की जा सकती, कृपया इस फ़ंक्शन का समर्थन करें, यानी, अभी भी `श्रृंखला` लौटाएं लेकिन `कॉल` पैरामीटर एकाधिक कॉलम है\n",
    "* प्रदर्शन और अपवाद प्रबंधन पर विचार करने की आवश्यकता नहीं है, बस एबो को लागू करेंवे कार्य करते हैं, और यह देखने के लिए कि क्या वे सुसंगत हैं, परीक्षण उदाहरण देते हुए परिणामों की तुलना `पांडा` में `ट्रांसफॉर्म` से करें"
   ]
  }
 ],
 "metadata": {
  "kernelspec": {
   "display_name": "PyCharm (pythonProject)",
   "language": "python",
   "name": "pycharm-f7427e7c"
  },
  "language_info": {
   "codemirror_mode": {
    "name": "ipython",
    "version": 3
   },
   "file_extension": ".py",
   "mimetype": "text/x-python",
   "name": "python",
   "nbconvert_exporter": "python",
   "pygments_lexer": "ipython3",
   "version": "3.7.9-final"
  }
 },
 "nbformat": 4,
 "nbformat_minor": 2
}
