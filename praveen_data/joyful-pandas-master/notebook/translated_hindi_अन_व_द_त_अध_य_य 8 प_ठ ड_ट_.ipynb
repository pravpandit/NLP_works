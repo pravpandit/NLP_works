{
 "cells": [
  {
   "cell_type": "markdown",
   "metadata": {},
   "source": [
    "<केंद्र><h1>अध्याय 8 पाठ डेटा</h1></केंद्र>"
   ]
  },
  {
   "cell_type": "code",
   "execution_count": 1,
   "metadata": {},
   "outputs": [],
   "source": [
    "import numpy as np\n",
    "import pandas as pd"
   ]
  },
  {
   "cell_type": "markdown",
   "metadata": {},
   "source": [
    "## 1. स्ट्र ऑब्जेक्ट\n",
    "### 1. स्ट्र ऑब्जेक्ट का डिज़ाइन इरादा\n",
    "\n",
    "`str` ऑब्जेक्ट `इंडेक्स` या `सीरीज़` पर परिभाषित एक विशेषता है, जिसका उपयोग विशेष रूप से प्रत्येक तत्व की पाठ सामग्री को संसाधित करने के लिए किया जाता है, इसलिए, किसी अनुक्रम के पाठ को संसाधित करने के लिए इसमें बड़ी संख्या में विधियाँ परिभाषित होती हैं। आपको सबसे पहले इसका `str` ऑब्जेक्ट प्राप्त करना होगा। पायथन मानक लाइब्रेरी में एक `str` मॉड्यूल भी है। उपयोग की सुविधा के लिए, `पांडा` ने कई कार्यों के लिए इसके डिज़ाइन की प्रतिलिपि बनाई है, जैसे कि परिवर्तित करने का संचालनअपरकेस में अक्षर:"
   ]
  },
  {
   "cell_type": "code",
   "execution_count": 2,
   "metadata": {},
   "outputs": [
    {
     "data": {
      "text/plain": [
       "'ABCD'"
      ]
     },
     "execution_count": 2,
     "metadata": {},
     "output_type": "execute_result"
    }
   ],
   "source": [
    "var = 'abcd'\n",
    "str.upper(var) # Python内置str模块"
   ]
  },
  {
   "cell_type": "code",
   "execution_count": 3,
   "metadata": {},
   "outputs": [
    {
     "data": {
      "text/plain": [
       "<pandas.core.strings.accessor.StringMethods at 0x1488ea6db08>"
      ]
     },
     "execution_count": 3,
     "metadata": {},
     "output_type": "execute_result"
    }
   ],
   "source": [
    "s = pd.Series(['abcd', 'efg', 'hi'])\n",
    "s.str"
   ]
  },
  {
   "cell_type": "code",
   "execution_count": 4,
   "metadata": {},
   "outputs": [
    {
     "data": {
      "text/plain": [
       "0    ABCD\n",
       "1     EFG\n",
       "2      HI\n",
       "dtype: object"
      ]
     },
     "execution_count": 4,
     "metadata": {},
     "output_type": "execute_result"
    }
   ],
   "source": [
    "s.str.upper() # pandas中str对象上的upper方法"
   ]
  },
  {
   "cell_type": "markdown",
   "metadata": {},
   "source": [
    "`एपीआई` दस्तावेज़ के अनुसार, `पांडा` में 50 `str` ऑब्जेक्ट विधियों में से 31 का नाम और कार्य मानक लाइब्रेरी में `str` मॉड्यूल विधियों के समान है, जो अनुक्रमों के बैच प्रसंस्करण के लिए एक शक्तिशाली उपकरण प्रदान करता है।\n",
    "\n",
    "### 2. [] अनुक्रमणिका\n",
    "\n",
    "`str` ऑब्जेक्ट के लिए, इसे स्ट्रिंग पर क्रमांकन ऑपरेशन के रूप में समझा जा सकता है, उदाहरण के लिए, एक सामान्य स्ट्रिंग में, `[]` का उपयोग किसी तत्व को एक निश्चित स्थिति में पुनः प्राप्त करने के लिए किया जा सकता है:"
   ]
  },
  {
   "cell_type": "code",
   "execution_count": 5,
   "metadata": {},
   "outputs": [
    {
     "data": {
      "text/plain": [
       "'a'"
      ]
     },
     "execution_count": 5,
     "metadata": {},
     "output_type": "execute_result"
    }
   ],
   "source": [
    "var[0]"
   ]
  },
  {
   "cell_type": "markdown",
   "metadata": {},
   "source": [
    "आप स्लाइस करके भी सबस्ट्रिंग प्राप्त कर सकते हैं:"
   ]
  },
  {
   "cell_type": "code",
   "execution_count": 6,
   "metadata": {},
   "outputs": [
    {
     "data": {
      "text/plain": [
       "'db'"
      ]
     },
     "execution_count": 6,
     "metadata": {},
     "output_type": "execute_result"
    }
   ],
   "source": [
    "var[-1: 0: -2]"
   ]
  },
  {
   "cell_type": "markdown",
   "metadata": {},
   "source": [
    "किसी str ऑब्जेक्ट पर [] इंडेक्सर का उपयोग करके, आप बिल्कुल समान कार्यक्षमता प्राप्त कर सकते हैं, सीमा से बाहर होने पर लापता मान लौटा सकते हैं:"
   ]
  },
  {
   "cell_type": "code",
   "execution_count": 7,
   "metadata": {},
   "outputs": [
    {
     "data": {
      "text/plain": [
       "0    a\n",
       "1    e\n",
       "2    h\n",
       "dtype: object"
      ]
     },
     "execution_count": 7,
     "metadata": {},
     "output_type": "execute_result"
    }
   ],
   "source": [
    "s.str[0]"
   ]
  },
  {
   "cell_type": "code",
   "execution_count": 8,
   "metadata": {},
   "outputs": [
    {
     "data": {
      "text/plain": [
       "0    db\n",
       "1     g\n",
       "2     i\n",
       "dtype: object"
      ]
     },
     "execution_count": 8,
     "metadata": {},
     "output_type": "execute_result"
    }
   ],
   "source": [
    "s.str[-1: 0: -2]"
   ]
  },
  {
   "cell_type": "code",
   "execution_count": 9,
   "metadata": {},
   "outputs": [
    {
     "data": {
      "text/plain": [
       "0      c\n",
       "1      g\n",
       "2    NaN\n",
       "dtype: object"
      ]
     },
     "execution_count": 9,
     "metadata": {},
     "output_type": "execute_result"
    }
   ],
   "source": [
    "s.str[2]"
   ]
  },
  {
   "cell_type": "markdown",
   "metadata": {},
   "source": [
    "### 3. स्ट्रिंग प्रकार\n",
    "\n",
    "जैसा कि पिछले अध्याय में बताया गया है, स्ट्रिंग प्रकार को पांडा के 1.0.0 संस्करण से पेश किया गया था। इसके परिचय के लिए प्रेरणा यह है कि सभी स्ट्रिंग प्रकार ऑब्जेक्ट प्रकार की एक श्रृंखला में संग्रहीत होते हैं, लेकिन ऑब्जेक्ट प्रकार को केवल मिश्रित प्रकार ही संग्रहीत करना चाहिए। फ्लोटिंग पॉइंट, स्ट्रिंग, डिक्शनरी, सूची, कस्टम प्रकार इत्यादि के रूप में। इसलिए, स्ट्रिंग्स के लिए अपना स्वयं का डेटा स्टोरेज प्रकार जैसे संख्यात्मक प्रकार या श्रेणी होना आवश्यक है, इसलिए स्ट्रिंग प्रकार पेश किया गया था।\n",
    "\n",
    "सामान्य तौर पर, परिणामऑब्जेक्ट और स्ट्रिंग प्रकारों के अधिकांश अनुक्रमों के लिए str ऑब्जेक्ट विधि का उपयोग सुसंगत है, लेकिन निम्नलिखित दो बिंदुओं में महत्वपूर्ण अंतर हैं:\n",
    "\n",
    "सबसे पहले, str विशेषता का उपयोग केवल तभी किया जाना चाहिए जब प्रत्येक अनुक्रम में मान स्ट्रिंग हों, लेकिन यह आवश्यक नहीं है। आवश्यक शर्त यह है कि अनुक्रम में कम से कम एक पुनरावृत्त वस्तु हो, जिसमें स्ट्रिंग्स शामिल हों, लेकिन इन्हीं तक सीमित न हों , शब्दकोश, और सूचियाँ एक पुनरावर्तनीय वस्तु के लिए, परिणाम str के str ऑब्जेक्ट द्वारा लौटाए जाते हैंआईएनजी प्रकार और ऑब्जेक्ट प्रकार का स्ट्र ऑब्जेक्ट भिन्न हो सकते हैं।"
   ]
  },
  {
   "cell_type": "code",
   "execution_count": 10,
   "metadata": {},
   "outputs": [
    {
     "data": {
      "text/plain": [
       "0    temp_1\n",
       "1         b\n",
       "2       NaN\n",
       "3         y\n",
       "dtype: object"
      ]
     },
     "execution_count": 10,
     "metadata": {},
     "output_type": "execute_result"
    }
   ],
   "source": [
    "s = pd.Series([{1: 'temp_1', 2: 'temp_2'}, ['a', 'b'], 0.5, 'my_string'])\n",
    "s.str[1]"
   ]
  },
  {
   "cell_type": "code",
   "execution_count": 11,
   "metadata": {},
   "outputs": [
    {
     "data": {
      "text/plain": [
       "0    1\n",
       "1    '\n",
       "2    .\n",
       "3    y\n",
       "dtype: string"
      ]
     },
     "execution_count": 11,
     "metadata": {},
     "output_type": "execute_result"
    }
   ],
   "source": [
    "s.astype('string').str[1]"
   ]
  },
  {
   "cell_type": "markdown",
   "metadata": {},
   "source": [
    "अंतिम स्ट्रिंग तत्व को छोड़कर, पहले तीन तत्वों द्वारा लौटाए गए मान भिन्न हैं। इसका कारण यह है कि जब अनुक्रम प्रकार `ऑब्जेक्ट` होता है, तो प्रत्येक तत्व पर `[]` अनुक्रमण किया जाता है temp_1 स्ट्रिंग लौटा दी जाती है, सूचियों के लिए, दूसरा मान लौटा दिया जाता है, और तीसरा एक गैर-पुनरावर्तनीय ऑब्जेक्ट है, जो लुप्त मान लौटाता है। चौथा `[]` स्ट्रिंग पर अनुक्रमण है स्ट्रिंग` प्रकार पहले पूरे तत्व को एक लिटरा में परिवर्तित करता हैएल स्ट्रिंग। उदाहरण के लिए, किसी सूची के लिए, पहला तत्व \"{\" है, और अंतिम स्ट्रिंग तत्व के लिए, रूपांतरण से पहले और बाद में प्रतिनिधित्व विधि समान है, इसलिए परिणाम `ऑब्जेक्ट` प्रकार के अनुरूप है।\n",
    "\n",
    "कुछ ऑब्जेक्ट के लिए अलग-अलग `str` क्रमबद्धता विधियों के अलावा, दोनों के बीच एक और अंतर यह है कि `स्ट्रिंग` प्रकार एक `Nulable` प्रकार है, लेकिन `ऑब्जेक्ट` प्रकार स्ट्रिंग के अनुक्रम के लिए नहीं है , यदि str विधि का रिटर्न मान एक पूर्णांक हैश्रृंखला या एक बूलियन श्रृंखला, संबंधित dtype क्रमशः Int और Boolean का अशक्त प्रकार है, जबकि ऑब्जेक्ट प्रकार एक ही समय में लापता मानों की उपस्थिति या अनुपस्थिति के आधार पर क्रमशः int/float और bool/ऑब्जेक्ट लौटाएगा , स्ट्रिंग तुलना संचालन में भी समान विशेषताएं होती हैं, स्ट्रिंग Nullable.ble` प्रकार लौटाती है, लेकिन `ऑब्जेक्ट` नहीं।"
   ]
  },
  {
   "cell_type": "code",
   "execution_count": 12,
   "metadata": {},
   "outputs": [
    {
     "data": {
      "text/plain": [
       "0    1\n",
       "dtype: int64"
      ]
     },
     "execution_count": 12,
     "metadata": {},
     "output_type": "execute_result"
    }
   ],
   "source": [
    "s = pd.Series(['a'])\n",
    "s.str.len()"
   ]
  },
  {
   "cell_type": "code",
   "execution_count": 13,
   "metadata": {},
   "outputs": [
    {
     "data": {
      "text/plain": [
       "0    1\n",
       "dtype: Int64"
      ]
     },
     "execution_count": 13,
     "metadata": {},
     "output_type": "execute_result"
    }
   ],
   "source": [
    "s.astype('string').str.len()"
   ]
  },
  {
   "cell_type": "code",
   "execution_count": 14,
   "metadata": {},
   "outputs": [
    {
     "data": {
      "text/plain": [
       "0    True\n",
       "dtype: bool"
      ]
     },
     "execution_count": 14,
     "metadata": {},
     "output_type": "execute_result"
    }
   ],
   "source": [
    "s == 'a'"
   ]
  },
  {
   "cell_type": "code",
   "execution_count": 15,
   "metadata": {},
   "outputs": [
    {
     "data": {
      "text/plain": [
       "0    True\n",
       "dtype: boolean"
      ]
     },
     "execution_count": 15,
     "metadata": {},
     "output_type": "execute_result"
    }
   ],
   "source": [
    "s.astype('string') == 'a'"
   ]
  },
  {
   "cell_type": "code",
   "execution_count": 16,
   "metadata": {},
   "outputs": [],
   "source": [
    "s = pd.Series(['a', np.nan]) # 带有缺失值"
   ]
  },
  {
   "cell_type": "code",
   "execution_count": 17,
   "metadata": {},
   "outputs": [
    {
     "data": {
      "text/plain": [
       "0    1.0\n",
       "1    NaN\n",
       "dtype: float64"
      ]
     },
     "execution_count": 17,
     "metadata": {},
     "output_type": "execute_result"
    }
   ],
   "source": [
    "s.str.len()"
   ]
  },
  {
   "cell_type": "code",
   "execution_count": 18,
   "metadata": {},
   "outputs": [
    {
     "data": {
      "text/plain": [
       "0       1\n",
       "1    <NA>\n",
       "dtype: Int64"
      ]
     },
     "execution_count": 18,
     "metadata": {},
     "output_type": "execute_result"
    }
   ],
   "source": [
    "s.astype('string').str.len()"
   ]
  },
  {
   "cell_type": "code",
   "execution_count": 19,
   "metadata": {},
   "outputs": [
    {
     "data": {
      "text/plain": [
       "0     True\n",
       "1    False\n",
       "dtype: bool"
      ]
     },
     "execution_count": 19,
     "metadata": {},
     "output_type": "execute_result"
    }
   ],
   "source": [
    "s == 'a'"
   ]
  },
  {
   "cell_type": "code",
   "execution_count": 20,
   "metadata": {},
   "outputs": [
    {
     "data": {
      "text/plain": [
       "0    True\n",
       "1    <NA>\n",
       "dtype: boolean"
      ]
     },
     "execution_count": 20,
     "metadata": {},
     "output_type": "execute_result"
    }
   ],
   "source": [
    "s.astype('string') == 'a'"
   ]
  },
  {
   "cell_type": "markdown",
   "metadata": {},
   "source": [
    "अंत में, यह ध्यान दिया जाना चाहिए कि उन अनुक्रमों के लिए जिनके तत्व सभी संख्यात्मक प्रकार हैं, भले ही उनके प्रकार `ऑब्जेक्ट` या `श्रेणी` हों, यदि आपको संख्याओं को `के रूप में मानने की आवश्यकता है तो सीधे` str` विशेषता का उपयोग करने की अनुमति नहीं है स्ट्रिंग` प्रकार, आप `स्ट्रिंग` प्रकार की `श्रृंखला` में रूपांतरण को बाध्य करने के लिए `astype` का उपयोग कर सकते हैं:"
   ]
  },
  {
   "cell_type": "code",
   "execution_count": 21,
   "metadata": {},
   "outputs": [
    {
     "data": {
      "text/plain": [
       "0    2\n",
       "1    4\n",
       "2    7\n",
       "dtype: string"
      ]
     },
     "execution_count": 21,
     "metadata": {},
     "output_type": "execute_result"
    }
   ],
   "source": [
    "s = pd.Series([12, 345, 6789])\n",
    "s.astype('string').str[1]"
   ]
  },
  {
   "cell_type": "markdown",
   "metadata": {},
   "source": [
    "## 2. नियमित अभिव्यक्ति की मूल बातें\n",
    "\n",
    "इस अनुभाग में दो तालिकाएँ रेगुलर एक्सप्रेशन प्रोजेक्ट [learn-regex-zh](https://github.com/cdoco/learn-regex-zh) से आती हैं, जो `MIT` ओपन सोर्स लाइसेंस समझौते का उपयोग करता है केवल नियमित अभिव्यक्तियों के मूल उपयोग का परिचय दें। जिन पाठकों को व्यवस्थित रूप से सीखने की आवश्यकता है, वे पुस्तक [रेगुलर एक्सप्रेशन्स मस्ट नो] (https://book.douban.com/subject/26285406/) का संदर्भ ले सकते हैं।\n",
    "\n",
    "### 1. सामान्य वर्णों का मिलान\n",
    "\n",
    "रेगुलर एक्सप्रेशन एक उपकरण है जो माएक निश्चित नियमित पैटर्न के अनुसार एक स्ट्रिंग में सामग्री को बाएं से दाएं सेट करता है, सामान्य वर्णों के लिए, यह उनका स्थान ढूंढ सकता है। प्रदर्शन की सुविधा के लिए, 'पायथन' में 're' मॉड्यूल के 'findall' फ़ंक्शन का उपयोग किया जाता है। उन सभी पैटर्न से मिलान करने के लिए जो प्रकट हुए हैं लेकिन ओवरलैप नहीं हुए हैं। पहला पैरामीटर नियमित अभिव्यक्ति है, और दूसरा पैरामीटर मिलान की जाने वाली स्ट्रिंग है। उदाहरण के लिए, निम्नलिखित स्ट्रिंग में `सेब` ढूंढें:"
   ]
  },
  {
   "cell_type": "code",
   "execution_count": 22,
   "metadata": {},
   "outputs": [
    {
     "data": {
      "text/plain": [
       "['Apple', 'Apple']"
      ]
     },
     "execution_count": 22,
     "metadata": {},
     "output_type": "execute_result"
    }
   ],
   "source": [
    "import re\n",
    "re.findall(r'Apple', 'Apple! This Is an Apple!')"
   ]
  },
  {
   "cell_type": "markdown",
   "metadata": {},
   "source": [
    "### 2. मेटाकैरेक्टर मूल बातें\n",
    "|मेटाकैरेक्टर |. विवरण |\n",
    "|. :----|\n",
    "|. न्यूलाइन को छोड़कर किसी भी वर्ण से मेल खाता है|\n",
    "|\\[ \\] |. वर्ण वर्ग, कोष्ठक में मौजूद किसी भी वर्ण से मेल खाता है|\n",
    "|\\[^ \\] |। नकारात्मक वर्ण वर्ग, कोष्ठक में शामिल न किए गए किसी भी वर्ण से मेल खाता है|\n",
    "|\\* | पिछले उपअभिव्यक्ति से शून्य या अधिक बार मेल खाता है|\n",
    "|\\+ | पिछले उपअभिव्यक्ति से एक या अधिक बार मेल खाता है|\n",
    "|? पिछले उपअभिव्यक्ति से शून्य या एक बार मेल खाता है|\n",
    "|{n,m} | घुंघराले ब्रेसिज़, पूर्व से मेल खाता हैपिछला अक्षर कम से कम n बार, लेकिन m बार से अधिक नहीं|\n",
    "|(xyz) | वर्ण समूह, वर्ण xyz से सटीक क्रम में मेल खाता है|\n",
    "|\\|. शाखा संरचना, प्रतीक के पहले या बाद के वर्ण से मेल खाती है|\n",
    "|\\\\ |. एस्केप कैरेक्टर, जो मेटाकैरेक्टर के मूल अर्थ को पुनर्स्थापित कर सकता है|\n",
    "|^ |. एक पंक्ति की शुरुआत से मेल खाता है|\n",
    "|$ | एक पंक्ति के अंत से मेल खाता है|"
   ]
  },
  {
   "cell_type": "code",
   "execution_count": 23,
   "metadata": {},
   "outputs": [
    {
     "data": {
      "text/plain": [
       "['a', 'b', 'c']"
      ]
     },
     "execution_count": 23,
     "metadata": {},
     "output_type": "execute_result"
    }
   ],
   "source": [
    "re.findall(r'.', 'abc')"
   ]
  },
  {
   "cell_type": "code",
   "execution_count": 24,
   "metadata": {},
   "outputs": [
    {
     "data": {
      "text/plain": [
       "['a', 'c']"
      ]
     },
     "execution_count": 24,
     "metadata": {},
     "output_type": "execute_result"
    }
   ],
   "source": [
    "re.findall(r'[ac]', 'abc')"
   ]
  },
  {
   "cell_type": "code",
   "execution_count": 25,
   "metadata": {},
   "outputs": [
    {
     "data": {
      "text/plain": [
       "['b']"
      ]
     },
     "execution_count": 25,
     "metadata": {},
     "output_type": "execute_result"
    }
   ],
   "source": [
    "re.findall(r'[^ac]', 'abc')"
   ]
  },
  {
   "cell_type": "code",
   "execution_count": 26,
   "metadata": {},
   "outputs": [
    {
     "data": {
      "text/plain": [
       "['aa', 'aa', 'bb', 'bb']"
      ]
     },
     "execution_count": 26,
     "metadata": {},
     "output_type": "execute_result"
    }
   ],
   "source": [
    "re.findall(r'[ab]{2}', 'aaaabbbb') # {n}指匹配n次"
   ]
  },
  {
   "cell_type": "code",
   "execution_count": 27,
   "metadata": {},
   "outputs": [
    {
     "data": {
      "text/plain": [
       "['aaa', 'bbb']"
      ]
     },
     "execution_count": 27,
     "metadata": {},
     "output_type": "execute_result"
    }
   ],
   "source": [
    "re.findall(r'aaa|bbb', 'aaaabbbb')"
   ]
  },
  {
   "cell_type": "code",
   "execution_count": 28,
   "metadata": {},
   "outputs": [
    {
     "data": {
      "text/plain": [
       "['a', 'a', 'a', 'a']"
      ]
     },
     "execution_count": 28,
     "metadata": {},
     "output_type": "execute_result"
    }
   ],
   "source": [
    "re.findall(r'a\\\\?|a\\*', 'aa?a*a')"
   ]
  },
  {
   "cell_type": "code",
   "execution_count": 29,
   "metadata": {},
   "outputs": [
    {
     "data": {
      "text/plain": [
       "['ab', 'aa', 'c', 'ad', 'aa', 'e']"
      ]
     },
     "execution_count": 29,
     "metadata": {},
     "output_type": "execute_result"
    }
   ],
   "source": [
    "re.findall(r'a?.', 'abaacadaae')"
   ]
  },
  {
   "cell_type": "markdown",
   "metadata": {},
   "source": [
    "### 3. संक्षिप्त वर्ण सेट\n",
    "इसके अलावा, नियमित अभिव्यक्तियों में एक अन्य प्रकार का संक्षिप्त वर्ण सेट होता है, जो वर्णों के एक सेट के बराबर होता है:\n",
    "\n",
    "|संक्षिप्तीकरण |.विवरण |\n",
    "|. :----|\n",
    "|\\\\w | सभी अक्षरों, संख्याओं और अंडरस्कोर से मेल खाता है: \\[a-zA-Z0-9\\_\\] |\n",
    "|\\\\W |. गैर-अक्षरों और संख्याओं से मेल खाता है: \\[^\\\\w\\]|\n",
    "|\\\\d | संख्याओं से मेल खाता है: \\[0-9\\]|\n",
    "|\\\\D | गैर-संख्याओं से मेल खाता है: \\[^\\\\d\\]|\n",
    "|\\\\s |. अंतरिक्ष वर्णों से मेल खाता है: \\[\\\\t\\\\n\\\\f\\\\r\\\\p{Z}\\]|\n",
    "|\\\\S | गैर-स्पेस वर्णों से मेल खाता है:\\[^\\\\s\\]|\n",
    "|\\\\B |. गैर-रिक्त वर्णों के समूह के आरंभ या अंत से मेल खाता है, किसी विशिष्ट वर्ण से नहीं|"
   ]
  },
  {
   "cell_type": "code",
   "execution_count": 30,
   "metadata": {},
   "outputs": [
    {
     "data": {
      "text/plain": [
       "['is', 'Is']"
      ]
     },
     "execution_count": 30,
     "metadata": {},
     "output_type": "execute_result"
    }
   ],
   "source": [
    "re.findall(r'.s', 'Apple! This Is an Apple!')"
   ]
  },
  {
   "cell_type": "code",
   "execution_count": 31,
   "metadata": {},
   "outputs": [
    {
     "data": {
      "text/plain": [
       "['09', '7w', 'c_', '9q']"
      ]
     },
     "execution_count": 31,
     "metadata": {},
     "output_type": "execute_result"
    }
   ],
   "source": [
    "re.findall(r'\\w{2}', '09 8? 7w c_ 9q p@')"
   ]
  },
  {
   "cell_type": "code",
   "execution_count": 32,
   "metadata": {},
   "outputs": [
    {
     "data": {
      "text/plain": [
       "['8?', 'p@']"
      ]
     },
     "execution_count": 32,
     "metadata": {},
     "output_type": "execute_result"
    }
   ],
   "source": [
    "re.findall(r'\\w\\W\\B', '09 8? 7w c_ 9q p@')"
   ]
  },
  {
   "cell_type": "code",
   "execution_count": 33,
   "metadata": {},
   "outputs": [
    {
     "data": {
      "text/plain": [
       "['t d', 'g w', 's t', 'e s']"
      ]
     },
     "execution_count": 33,
     "metadata": {},
     "output_type": "execute_result"
    }
   ],
   "source": [
    "re.findall(r'.\\s.', 'Constant dropping wears the stone.')"
   ]
  },
  {
   "cell_type": "code",
   "execution_count": 34,
   "metadata": {},
   "outputs": [
    {
     "data": {
      "text/plain": [
       "[('黄浦区', '方浜中路', '249号'), ('宝山区', '密山路', '5号')]"
      ]
     },
     "execution_count": 34,
     "metadata": {},
     "output_type": "execute_result"
    }
   ],
   "source": [
    "re.findall(r'上海市(.{2,3}区)(.{2,3}路)(\\d+号)', '上海市黄浦区方浜中路249号 上海市宝山区密山路5号')"
   ]
  },
  {
   "cell_type": "markdown",
   "metadata": {},
   "source": [
    "## 3. पांच प्रकार के टेक्स्ट प्रोसेसिंग ऑपरेशन\n",
    "### 1. विभाजन\n",
    "\n",
    "`str.split` एक स्ट्रिंग के कॉलम को विभाजित कर सकता है। पहला पैरामीटर एक नियमित अभिव्यक्ति है। वैकल्पिक पैरामीटर में बाएं से दाएं विभाजन की अधिकतम संख्या `n` और एकाधिक कॉलम `विस्तार` तक विस्तार करना है या नहीं।"
   ]
  },
  {
   "cell_type": "code",
   "execution_count": 35,
   "metadata": {},
   "outputs": [
    {
     "data": {
      "text/plain": [
       "0    [上海, 黄浦, 方浜中, 249号]\n",
       "1       [上海, 宝山, 密山, 5号]\n",
       "dtype: object"
      ]
     },
     "execution_count": 35,
     "metadata": {},
     "output_type": "execute_result"
    }
   ],
   "source": [
    "s = pd.Series(['上海市黄浦区方浜中路249号', '上海市宝山区密山路5号'])\n",
    "s.str.split('[市区路]')"
   ]
  },
  {
   "cell_type": "code",
   "execution_count": 36,
   "metadata": {},
   "outputs": [
    {
     "data": {
      "text/html": [
       "<div>\n",
       "<style scoped>\n",
       "    .dataframe tbody tr th:only-of-type {\n",
       "        vertical-align: middle;\n",
       "    }\n",
       "\n",
       "    .dataframe tbody tr th {\n",
       "        vertical-align: top;\n",
       "    }\n",
       "\n",
       "    .dataframe thead th {\n",
       "        text-align: right;\n",
       "    }\n",
       "</style>\n",
       "<table border=\"1\" class=\"dataframe\">\n",
       "  <thead>\n",
       "    <tr style=\"text-align: right;\">\n",
       "      <th></th>\n",
       "      <th>0</th>\n",
       "      <th>1</th>\n",
       "      <th>2</th>\n",
       "    </tr>\n",
       "  </thead>\n",
       "  <tbody>\n",
       "    <tr>\n",
       "      <th>0</th>\n",
       "      <td>上海</td>\n",
       "      <td>黄浦</td>\n",
       "      <td>方浜中路249号</td>\n",
       "    </tr>\n",
       "    <tr>\n",
       "      <th>1</th>\n",
       "      <td>上海</td>\n",
       "      <td>宝山</td>\n",
       "      <td>密山路5号</td>\n",
       "    </tr>\n",
       "  </tbody>\n",
       "</table>\n",
       "</div>"
      ],
      "text/plain": [
       "    0   1         2\n",
       "0  上海  黄浦  方浜中路249号\n",
       "1  上海  宝山     密山路5号"
      ]
     },
     "execution_count": 36,
     "metadata": {},
     "output_type": "execute_result"
    }
   ],
   "source": [
    "s.str.split('[市区路]', n=2, expand=True)"
   ]
  },
  {
   "cell_type": "markdown",
   "metadata": {},
   "source": [
    "एक समान फ़ंक्शन `str.rsplit` है, अंतर यह है कि `n` पैरामीटर का उपयोग करते समय, विभाजन की अधिकतम संख्या दाएं से बाएं तक सीमित होती है, हालांकि, वर्तमान संस्करण में, `rsplit` विभाजन के लिए नियमित अभिव्यक्तियों का उपयोग नहीं कर सकता है एक `बग` के कारण:"
   ]
  },
  {
   "cell_type": "code",
   "execution_count": 37,
   "metadata": {},
   "outputs": [
    {
     "data": {
      "text/html": [
       "<div>\n",
       "<style scoped>\n",
       "    .dataframe tbody tr th:only-of-type {\n",
       "        vertical-align: middle;\n",
       "    }\n",
       "\n",
       "    .dataframe tbody tr th {\n",
       "        vertical-align: top;\n",
       "    }\n",
       "\n",
       "    .dataframe thead th {\n",
       "        text-align: right;\n",
       "    }\n",
       "</style>\n",
       "<table border=\"1\" class=\"dataframe\">\n",
       "  <thead>\n",
       "    <tr style=\"text-align: right;\">\n",
       "      <th></th>\n",
       "      <th>0</th>\n",
       "    </tr>\n",
       "  </thead>\n",
       "  <tbody>\n",
       "    <tr>\n",
       "      <th>0</th>\n",
       "      <td>上海市黄浦区方浜中路249号</td>\n",
       "    </tr>\n",
       "    <tr>\n",
       "      <th>1</th>\n",
       "      <td>上海市宝山区密山路5号</td>\n",
       "    </tr>\n",
       "  </tbody>\n",
       "</table>\n",
       "</div>"
      ],
      "text/plain": [
       "                0\n",
       "0  上海市黄浦区方浜中路249号\n",
       "1     上海市宝山区密山路5号"
      ]
     },
     "execution_count": 37,
     "metadata": {},
     "output_type": "execute_result"
    }
   ],
   "source": [
    "s.str.rsplit('[市区路]', n=2, expand=True)"
   ]
  },
  {
   "cell_type": "markdown",
   "metadata": {},
   "source": [
    "### 2. विलय\n",
    "\n",
    "विलय के लिए दो फ़ंक्शन हैं, अर्थात् `str.join` और `str.cat`। `str.join` का अर्थ है 'सीरीज़' में स्ट्रिंग सूची को एक निश्चित कनेक्टर से जोड़ना, और यदि कोई गैर है तो लापता मान वापस करना। सूची में -स्ट्रिंग तत्व:"
   ]
  },
  {
   "cell_type": "code",
   "execution_count": 38,
   "metadata": {},
   "outputs": [
    {
     "data": {
      "text/plain": [
       "0    a-b\n",
       "1    NaN\n",
       "2    NaN\n",
       "dtype: object"
      ]
     },
     "execution_count": 38,
     "metadata": {},
     "output_type": "execute_result"
    }
   ],
   "source": [
    "s = pd.Series([['a','b'], [1, 'a'], [['a', 'b'], 'c']])\n",
    "s.str.join('-')"
   ]
  },
  {
   "cell_type": "markdown",
   "metadata": {},
   "source": [
    "`str.cat` का उपयोग दो अनुक्रमों को मर्ज करने के लिए किया जाता है। मुख्य पैरामीटर कनेक्टर `sep`, कनेक्शन फॉर्म `join`, और लापता मान प्रतिस्थापन प्रतीक `na_rep` हैं। कनेक्शन फॉर्म इंडेक्स के साथ बाईं ओर जुड़ जाता है कुंजी के रूप में."
   ]
  },
  {
   "cell_type": "code",
   "execution_count": 39,
   "metadata": {},
   "outputs": [
    {
     "data": {
      "text/plain": [
       "0    a-cat\n",
       "1    b-dog\n",
       "dtype: object"
      ]
     },
     "execution_count": 39,
     "metadata": {},
     "output_type": "execute_result"
    }
   ],
   "source": [
    "s1 = pd.Series(['a','b'])\n",
    "s2 = pd.Series(['cat','dog'])\n",
    "s1.str.cat(s2,sep='-')"
   ]
  },
  {
   "cell_type": "code",
   "execution_count": 40,
   "metadata": {},
   "outputs": [
    {
     "data": {
      "text/plain": [
       "0      a-?\n",
       "1    b-cat\n",
       "2    ?-dog\n",
       "dtype: object"
      ]
     },
     "execution_count": 40,
     "metadata": {},
     "output_type": "execute_result"
    }
   ],
   "source": [
    "s2.index = [1, 2]\n",
    "s1.str.cat(s2, sep='-', na_rep='?', join='outer')"
   ]
  },
  {
   "cell_type": "markdown",
   "metadata": {},
   "source": [
    "### 3. मिलान\n",
    "\n",
    "`str.contains` एक बूलियन अनुक्रम लौटाता है कि प्रत्येक स्ट्रिंग में नियमित पैटर्न है या नहीं:"
   ]
  },
  {
   "cell_type": "code",
   "execution_count": 41,
   "metadata": {},
   "outputs": [
    {
     "data": {
      "text/plain": [
       "0     True\n",
       "1     True\n",
       "2    False\n",
       "dtype: bool"
      ]
     },
     "execution_count": 41,
     "metadata": {},
     "output_type": "execute_result"
    }
   ],
   "source": [
    "s = pd.Series(['my cat', 'he is fat', 'railway station'])\n",
    "s.str.contains('\\s\\wat')"
   ]
  },
  {
   "cell_type": "markdown",
   "metadata": {},
   "source": [
    "`str.startswith` और `str.endswith` दिए गए पैटर्न के साथ शुरू और समाप्त होने वाली प्रत्येक स्ट्रिंग का बूलियन अनुक्रम लौटाते हैं, न ही नियमित अभिव्यक्ति का समर्थन करते हैं:"
   ]
  },
  {
   "cell_type": "code",
   "execution_count": 42,
   "metadata": {},
   "outputs": [
    {
     "data": {
      "text/plain": [
       "0     True\n",
       "1    False\n",
       "2    False\n",
       "dtype: bool"
      ]
     },
     "execution_count": 42,
     "metadata": {},
     "output_type": "execute_result"
    }
   ],
   "source": [
    "s.str.startswith('my')"
   ]
  },
  {
   "cell_type": "code",
   "execution_count": 43,
   "metadata": {},
   "outputs": [
    {
     "data": {
      "text/plain": [
       "0     True\n",
       "1     True\n",
       "2    False\n",
       "dtype: bool"
      ]
     },
     "execution_count": 43,
     "metadata": {},
     "output_type": "execute_result"
    }
   ],
   "source": [
    "s.str.endswith('t')"
   ]
  },
  {
   "cell_type": "markdown",
   "metadata": {},
   "source": [
    "यदि आपको किसी स्ट्रिंग की शुरुआत या अंत के पैटर्न का पता लगाने के लिए नियमित अभिव्यक्ति का उपयोग करने की आवश्यकता है, तो आप `str.match` का उपयोग कर सकते हैं, जो एक बूलियन अनुक्रम लौटाता है कि प्रत्येक स्ट्रिंग की शुरुआत दिए गए नियमित पैटर्न से मिलती है या नहीं:"
   ]
  },
  {
   "cell_type": "code",
   "execution_count": 44,
   "metadata": {},
   "outputs": [
    {
     "data": {
      "text/plain": [
       "0     True\n",
       "1     True\n",
       "2    False\n",
       "dtype: bool"
      ]
     },
     "execution_count": 44,
     "metadata": {},
     "output_type": "execute_result"
    }
   ],
   "source": [
    "s.str.match('m|h')"
   ]
  },
  {
   "cell_type": "code",
   "execution_count": 45,
   "metadata": {},
   "outputs": [
    {
     "data": {
      "text/plain": [
       "0    False\n",
       "1     True\n",
       "2     True\n",
       "dtype: bool"
      ]
     },
     "execution_count": 45,
     "metadata": {},
     "output_type": "execute_result"
    }
   ],
   "source": [
    "s.str[::-1].str.match('ta[f|g]|n') # 反转后匹配"
   ]
  },
  {
   "cell_type": "markdown",
   "metadata": {},
   "source": [
    "बेशक, इसे `str.contains` की नियमित अभिव्यक्ति में `^` और `$` का उपयोग करके भी प्राप्त किया जा सकता है:"
   ]
  },
  {
   "cell_type": "code",
   "execution_count": 46,
   "metadata": {},
   "outputs": [
    {
     "data": {
      "text/plain": [
       "0     True\n",
       "1     True\n",
       "2    False\n",
       "dtype: bool"
      ]
     },
     "execution_count": 46,
     "metadata": {},
     "output_type": "execute_result"
    }
   ],
   "source": [
    "s.str.contains('^[m|h]')"
   ]
  },
  {
   "cell_type": "code",
   "execution_count": 47,
   "metadata": {},
   "outputs": [
    {
     "data": {
      "text/plain": [
       "0    False\n",
       "1     True\n",
       "2     True\n",
       "dtype: bool"
      ]
     },
     "execution_count": 47,
     "metadata": {},
     "output_type": "execute_result"
    }
   ],
   "source": [
    "s.str.contains('[f|g]at|n$')"
   ]
  },
  {
   "cell_type": "markdown",
   "metadata": {},
   "source": [
    "बूलियन मान लौटाने वाले उपरोक्त मिलान फ़ंक्शन के अलावा, एक मिलान फ़ंक्शन भी है जो एक इंडेक्स लौटाता है, अर्थात् `str.find` और `str.rfind`, जो पहले मैच के इंडेक्स को बाएं से दाएं और से लौटाता है क्रमशः दाएं से बाएं, और यदि नहीं मिला तो -1 लौटाएं। यह ध्यान दिया जाना चाहिए कि ये दोनों फ़ंक्शन नियमित मिलान का समर्थन नहीं करते हैं और केवल वर्ण सबस्ट्रिंग के मिलान के लिए उपयोग किए जा सकते हैं:"
   ]
  },
  {
   "cell_type": "code",
   "execution_count": 48,
   "metadata": {},
   "outputs": [
    {
     "data": {
      "text/plain": [
       "0    11\n",
       "dtype: int64"
      ]
     },
     "execution_count": 48,
     "metadata": {},
     "output_type": "execute_result"
    }
   ],
   "source": [
    "s = pd.Series(['This is an apple. That is not an apple.'])\n",
    "s.str.find('apple')"
   ]
  },
  {
   "cell_type": "code",
   "execution_count": 49,
   "metadata": {},
   "outputs": [
    {
     "data": {
      "text/plain": [
       "0    33\n",
       "dtype: int64"
      ]
     },
     "execution_count": 49,
     "metadata": {},
     "output_type": "execute_result"
    }
   ],
   "source": [
    "s.str.rfind('apple')"
   ]
  },
  {
   "cell_type": "markdown",
   "metadata": {},
   "source": [
    "### 4. प्रतिस्थापन\n",
    "\n",
    "`str.replace` और `replace` समान फ़ंक्शन नहीं हैं। स्ट्रिंग प्रतिस्थापन करते समय पूर्व का उपयोग किया जाना चाहिए।"
   ]
  },
  {
   "cell_type": "code",
   "execution_count": 50,
   "metadata": {},
   "outputs": [
    {
     "data": {
      "text/plain": [
       "0    a_new_b\n",
       "1      c_new\n",
       "dtype: object"
      ]
     },
     "execution_count": 50,
     "metadata": {},
     "output_type": "execute_result"
    }
   ],
   "source": [
    "s = pd.Series(['a_1_b','c_?'])\n",
    "s.str.replace('\\d|\\?', 'new', regex=True)"
   ]
  },
  {
   "cell_type": "markdown",
   "metadata": {},
   "source": [
    "जब आपको अलग-अलग हिस्सों को अलग-अलग तरीके से बदलने की आवश्यकता होती है, तो आप `उपसमूह` विधि का उपयोग कर सकते हैं, और इस समय आप उन्हें अलग से संसाधित करने के लिए एक कस्टम प्रतिस्थापन फ़ंक्शन पास कर सकते हैं। ध्यान दें कि `समूह (k)` मिलान किए गए `k`th का प्रतिनिधित्व करता है उपसमूह (कोष्ठक के बीच की सामग्री):"
   ]
  },
  {
   "cell_type": "code",
   "execution_count": 51,
   "metadata": {},
   "outputs": [
    {
     "data": {
      "text/plain": [
       "0    Shanghai HP District Mid Fangbin Road No. 249\n",
       "1           Shanghai BS District Mishan Road No. 5\n",
       "2           Beijing CP District Beinong Road No. 2\n",
       "dtype: object"
      ]
     },
     "execution_count": 51,
     "metadata": {},
     "output_type": "execute_result"
    }
   ],
   "source": [
    "s = pd.Series(['上海市黄浦区方浜中路249号',\n",
    "                '上海市宝山区密山路5号',\n",
    "                '北京市昌平区北农路2号'])\n",
    "pat = '(\\w+市)(\\w+区)(\\w+路)(\\d+号)'\n",
    "city = {'上海市': 'Shanghai', '北京市': 'Beijing'}\n",
    "district = {'昌平区': 'CP District',\n",
    "            '黄浦区': 'HP District',\n",
    "            '宝山区': 'BS District'}\n",
    "road = {'方浜中路': 'Mid Fangbin Road',\n",
    "        '密山路': 'Mishan Road',\n",
    "        '北农路': 'Beinong Road'}\n",
    "def my_func(m):\n",
    "    str_city = city[m.group(1)]\n",
    "    str_district = district[m.group(2)]\n",
    "    str_road = road[m.group(3)]\n",
    "    str_no = 'No. ' + m.group(4)[:-1]\n",
    "    return ' '.join([str_city,\n",
    "                     str_district,\n",
    "                     str_road,\n",
    "                     str_no])\n",
    "s.str.replace(pat, my_func, regex=True)"
   ]
  },
  {
   "cell_type": "markdown",
   "metadata": {},
   "source": [
    "यहां संख्यात्मक पहचानकर्ता सहज नहीं हैं, आप उपसमूहों के अर्थ को अधिक स्पष्ट रूप से लिखने के लिए नामित उपसमूहों का उपयोग कर सकते हैं:"
   ]
  },
  {
   "cell_type": "code",
   "execution_count": 52,
   "metadata": {},
   "outputs": [
    {
     "data": {
      "text/plain": [
       "0    Shanghai HP District Mid Fangbin Road No. 249\n",
       "1           Shanghai BS District Mishan Road No. 5\n",
       "2           Beijing CP District Beinong Road No. 2\n",
       "dtype: object"
      ]
     },
     "execution_count": 52,
     "metadata": {},
     "output_type": "execute_result"
    }
   ],
   "source": [
    "pat = '(?P<市名>\\w+市)(?P<区名>\\w+区)(?P<路名>\\w+路)(?P<编号>\\d+号)'\n",
    "def my_func(m):\n",
    "    str_city = city[m.group('市名')]\n",
    "    str_district = district[m.group('区名')]\n",
    "    str_road = road[m.group('路名')]\n",
    "    str_no = 'No. ' + m.group('编号')[:-1]\n",
    "    return ' '.join([str_city,\n",
    "                     str_district,\n",
    "                     str_road,\n",
    "                     str_no])\n",
    "s.str.replace(pat, my_func, regex=True)"
   ]
  },
  {
   "cell_type": "markdown",
   "metadata": {},
   "source": [
    "हालाँकि यह यहाँ थोड़ा जटिल लगता है, वास्तविक डेटा प्रोसेसिंग में संबंधित प्रतिस्थापन आमतौर पर डिक्शनरी मैपिंग के निर्माण के लिए कोड के माध्यम से डेटा प्राप्त करता है, जो विशिष्ट लेखन में बहुत सरल है।\n",
    "\n",
    "### 5. निष्कर्षण\n",
    "\n",
    "निष्कर्षण को एक मिलान ऑपरेशन के रूप में माना जा सकता है जो एक विशिष्ट तत्व (बूलियन मान या तत्व के अनुरूप सूचकांक स्थिति के बजाय) लौटाता है, या ऊपर उल्लिखित `str.split` उदाहरण में, सीमांकक करेगा बीई हटा दिया गया, जो वह प्रभाव नहीं है जो उपयोगकर्ता चाहता है। इस मामले में, `str.extract` का उपयोग निष्कर्षण के लिए किया जा सकता है:"
   ]
  },
  {
   "cell_type": "code",
   "execution_count": 53,
   "metadata": {},
   "outputs": [
    {
     "data": {
      "text/html": [
       "<div>\n",
       "<style scoped>\n",
       "    .dataframe tbody tr th:only-of-type {\n",
       "        vertical-align: middle;\n",
       "    }\n",
       "\n",
       "    .dataframe tbody tr th {\n",
       "        vertical-align: top;\n",
       "    }\n",
       "\n",
       "    .dataframe thead th {\n",
       "        text-align: right;\n",
       "    }\n",
       "</style>\n",
       "<table border=\"1\" class=\"dataframe\">\n",
       "  <thead>\n",
       "    <tr style=\"text-align: right;\">\n",
       "      <th></th>\n",
       "      <th>0</th>\n",
       "      <th>1</th>\n",
       "      <th>2</th>\n",
       "      <th>3</th>\n",
       "    </tr>\n",
       "  </thead>\n",
       "  <tbody>\n",
       "    <tr>\n",
       "      <th>0</th>\n",
       "      <td>上海市</td>\n",
       "      <td>黄浦区</td>\n",
       "      <td>方浜中路</td>\n",
       "      <td>249号</td>\n",
       "    </tr>\n",
       "    <tr>\n",
       "      <th>1</th>\n",
       "      <td>上海市</td>\n",
       "      <td>宝山区</td>\n",
       "      <td>密山路</td>\n",
       "      <td>5号</td>\n",
       "    </tr>\n",
       "    <tr>\n",
       "      <th>2</th>\n",
       "      <td>北京市</td>\n",
       "      <td>昌平区</td>\n",
       "      <td>北农路</td>\n",
       "      <td>2号</td>\n",
       "    </tr>\n",
       "  </tbody>\n",
       "</table>\n",
       "</div>"
      ],
      "text/plain": [
       "     0    1     2     3\n",
       "0  上海市  黄浦区  方浜中路  249号\n",
       "1  上海市  宝山区   密山路    5号\n",
       "2  北京市  昌平区   北农路    2号"
      ]
     },
     "execution_count": 53,
     "metadata": {},
     "output_type": "execute_result"
    }
   ],
   "source": [
    "pat = '(\\w+市)(\\w+区)(\\w+路)(\\d+号)'\n",
    "s.str.extract(pat)"
   ]
  },
  {
   "cell_type": "markdown",
   "metadata": {},
   "source": [
    "उपसमूहों का नामकरण करके, आप सीधे नव निर्मित `डेटाफ़्रेम` के कॉलम को नाम दे सकते हैं:"
   ]
  },
  {
   "cell_type": "code",
   "execution_count": 54,
   "metadata": {},
   "outputs": [
    {
     "data": {
      "text/html": [
       "<div>\n",
       "<style scoped>\n",
       "    .dataframe tbody tr th:only-of-type {\n",
       "        vertical-align: middle;\n",
       "    }\n",
       "\n",
       "    .dataframe tbody tr th {\n",
       "        vertical-align: top;\n",
       "    }\n",
       "\n",
       "    .dataframe thead th {\n",
       "        text-align: right;\n",
       "    }\n",
       "</style>\n",
       "<table border=\"1\" class=\"dataframe\">\n",
       "  <thead>\n",
       "    <tr style=\"text-align: right;\">\n",
       "      <th></th>\n",
       "      <th>市名</th>\n",
       "      <th>区名</th>\n",
       "      <th>路名</th>\n",
       "      <th>编号</th>\n",
       "    </tr>\n",
       "  </thead>\n",
       "  <tbody>\n",
       "    <tr>\n",
       "      <th>0</th>\n",
       "      <td>上海市</td>\n",
       "      <td>黄浦区</td>\n",
       "      <td>方浜中路</td>\n",
       "      <td>249号</td>\n",
       "    </tr>\n",
       "    <tr>\n",
       "      <th>1</th>\n",
       "      <td>上海市</td>\n",
       "      <td>宝山区</td>\n",
       "      <td>密山路</td>\n",
       "      <td>5号</td>\n",
       "    </tr>\n",
       "    <tr>\n",
       "      <th>2</th>\n",
       "      <td>北京市</td>\n",
       "      <td>昌平区</td>\n",
       "      <td>北农路</td>\n",
       "      <td>2号</td>\n",
       "    </tr>\n",
       "  </tbody>\n",
       "</table>\n",
       "</div>"
      ],
      "text/plain": [
       "    市名   区名    路名    编号\n",
       "0  上海市  黄浦区  方浜中路  249号\n",
       "1  上海市  宝山区   密山路    5号\n",
       "2  北京市  昌平区   北农路    2号"
      ]
     },
     "execution_count": 54,
     "metadata": {},
     "output_type": "execute_result"
    }
   ],
   "source": [
    "pat = '(?P<市名>\\w+市)(?P<区名>\\w+区)(?P<路名>\\w+路)(?P<编号>\\d+号)'\n",
    "s.str.extract(pat)"
   ]
  },
  {
   "cell_type": "markdown",
   "metadata": {},
   "source": [
    "`str.extractall` `str.extract` से भिन्न है जो केवल एक बार मेल खाता है। यह उन सभी पैटर्न से मेल खाएगा जो शर्तों को पूरा करते हैं। यदि कई परिणाम हैं, तो उन्हें एक बहु-स्तरीय सूचकांक में संग्रहीत किया जाता है।"
   ]
  },
  {
   "cell_type": "code",
   "execution_count": 55,
   "metadata": {},
   "outputs": [
    {
     "data": {
      "text/html": [
       "<div>\n",
       "<style scoped>\n",
       "    .dataframe tbody tr th:only-of-type {\n",
       "        vertical-align: middle;\n",
       "    }\n",
       "\n",
       "    .dataframe tbody tr th {\n",
       "        vertical-align: top;\n",
       "    }\n",
       "\n",
       "    .dataframe thead th {\n",
       "        text-align: right;\n",
       "    }\n",
       "</style>\n",
       "<table border=\"1\" class=\"dataframe\">\n",
       "  <thead>\n",
       "    <tr style=\"text-align: right;\">\n",
       "      <th></th>\n",
       "      <th></th>\n",
       "      <th>0</th>\n",
       "      <th>1</th>\n",
       "    </tr>\n",
       "    <tr>\n",
       "      <th></th>\n",
       "      <th>match</th>\n",
       "      <th></th>\n",
       "      <th></th>\n",
       "    </tr>\n",
       "  </thead>\n",
       "  <tbody>\n",
       "    <tr>\n",
       "      <th rowspan=\"2\" valign=\"top\">my_A</th>\n",
       "      <th>0</th>\n",
       "      <td>135</td>\n",
       "      <td>15</td>\n",
       "    </tr>\n",
       "    <tr>\n",
       "      <th>1</th>\n",
       "      <td>26</td>\n",
       "      <td>5</td>\n",
       "    </tr>\n",
       "    <tr>\n",
       "      <th rowspan=\"2\" valign=\"top\">my_B</th>\n",
       "      <th>0</th>\n",
       "      <td>674</td>\n",
       "      <td>2</td>\n",
       "    </tr>\n",
       "    <tr>\n",
       "      <th>1</th>\n",
       "      <td>25</td>\n",
       "      <td>6</td>\n",
       "    </tr>\n",
       "  </tbody>\n",
       "</table>\n",
       "</div>"
      ],
      "text/plain": [
       "              0   1\n",
       "     match         \n",
       "my_A 0      135  15\n",
       "     1       26   5\n",
       "my_B 0      674   2\n",
       "     1       25   6"
      ]
     },
     "execution_count": 55,
     "metadata": {},
     "output_type": "execute_result"
    }
   ],
   "source": [
    "s = pd.Series(['A135T15,A26S5','B674S2,B25T6'], index = ['my_A','my_B'])\n",
    "pat = '[A|B](\\d+)[T|S](\\d+)'\n",
    "s.str.extractall(pat)"
   ]
  },
  {
   "cell_type": "code",
   "execution_count": 56,
   "metadata": {},
   "outputs": [
    {
     "data": {
      "text/html": [
       "<div>\n",
       "<style scoped>\n",
       "    .dataframe tbody tr th:only-of-type {\n",
       "        vertical-align: middle;\n",
       "    }\n",
       "\n",
       "    .dataframe tbody tr th {\n",
       "        vertical-align: top;\n",
       "    }\n",
       "\n",
       "    .dataframe thead th {\n",
       "        text-align: right;\n",
       "    }\n",
       "</style>\n",
       "<table border=\"1\" class=\"dataframe\">\n",
       "  <thead>\n",
       "    <tr style=\"text-align: right;\">\n",
       "      <th></th>\n",
       "      <th></th>\n",
       "      <th>name1</th>\n",
       "      <th>name2</th>\n",
       "    </tr>\n",
       "    <tr>\n",
       "      <th></th>\n",
       "      <th>match</th>\n",
       "      <th></th>\n",
       "      <th></th>\n",
       "    </tr>\n",
       "  </thead>\n",
       "  <tbody>\n",
       "    <tr>\n",
       "      <th rowspan=\"2\" valign=\"top\">my_A</th>\n",
       "      <th>0</th>\n",
       "      <td>135</td>\n",
       "      <td>15</td>\n",
       "    </tr>\n",
       "    <tr>\n",
       "      <th>1</th>\n",
       "      <td>26</td>\n",
       "      <td>5</td>\n",
       "    </tr>\n",
       "    <tr>\n",
       "      <th rowspan=\"2\" valign=\"top\">my_B</th>\n",
       "      <th>0</th>\n",
       "      <td>674</td>\n",
       "      <td>2</td>\n",
       "    </tr>\n",
       "    <tr>\n",
       "      <th>1</th>\n",
       "      <td>25</td>\n",
       "      <td>6</td>\n",
       "    </tr>\n",
       "  </tbody>\n",
       "</table>\n",
       "</div>"
      ],
      "text/plain": [
       "           name1 name2\n",
       "     match            \n",
       "my_A 0       135    15\n",
       "     1        26     5\n",
       "my_B 0       674     2\n",
       "     1        25     6"
      ]
     },
     "execution_count": 56,
     "metadata": {},
     "output_type": "execute_result"
    }
   ],
   "source": [
    "pat_with_name = '[A|B](?P<name1>\\d+)[T|S](?P<name2>\\d+)'\n",
    "s.str.extractall(pat_with_name)"
   ]
  },
  {
   "cell_type": "markdown",
   "metadata": {},
   "source": [
    "`str.findall` का फ़ंक्शन `str.extractall` के समान है, अंतर यह है कि पहला परिणाम को एक सूची में संग्रहीत करता है, जबकि बाद वाला उन्हें बहु-स्तरीय सूचकांक के रूप में संसाधित करता है, प्रत्येक पंक्ति केवल एक सेट से मेल खाती है सभी मिलानों को एक सूची में संयोजित करने के बजाय मिलान करें।"
   ]
  },
  {
   "cell_type": "code",
   "execution_count": 57,
   "metadata": {},
   "outputs": [
    {
     "data": {
      "text/plain": [
       "my_A    [(135, 15), (26, 5)]\n",
       "my_B     [(674, 2), (25, 6)]\n",
       "dtype: object"
      ]
     },
     "execution_count": 57,
     "metadata": {},
     "output_type": "execute_result"
    }
   ],
   "source": [
    "s.str.findall(pat)"
   ]
  },
  {
   "cell_type": "markdown",
   "metadata": {},
   "source": [
    "## 4. सामान्य स्ट्रिंग फ़ंक्शंस\n",
    "\n",
    "ऊपर प्रस्तुत पांच प्रकार के स्ट्रिंग ऑपरेशन फ़ंक्शंस के अलावा, कुछ अन्य व्यावहारिक तरीकों को `str` ऑब्जेक्ट पर परिभाषित किया गया है, जिन्हें यहां प्रस्तुत किया गया है:\n",
    "\n",
    "### 1. अक्षर प्रकार के कार्य\n",
    "\n",
    "पांच फ़ंक्शन `अपर, लोअर, टाइटल, कैपिटलाइज़, स्वैपकेस` का उपयोग मुख्य रूप से लेटर केस रूपांतरण के लिए किया जाता है, निम्नलिखित उदाहरणों से उनके कार्यों को समझना आसान है:"
   ]
  },
  {
   "cell_type": "code",
   "execution_count": 58,
   "metadata": {},
   "outputs": [
    {
     "data": {
      "text/plain": [
       "0                 LOWER\n",
       "1              CAPITALS\n",
       "2    THIS IS A SENTENCE\n",
       "3              SWAPCASE\n",
       "dtype: object"
      ]
     },
     "execution_count": 58,
     "metadata": {},
     "output_type": "execute_result"
    }
   ],
   "source": [
    "s = pd.Series(['lower', 'CAPITALS', 'this is a sentence', 'SwApCaSe'])\n",
    "s.str.upper()"
   ]
  },
  {
   "cell_type": "code",
   "execution_count": 59,
   "metadata": {},
   "outputs": [
    {
     "data": {
      "text/plain": [
       "0                 lower\n",
       "1              capitals\n",
       "2    this is a sentence\n",
       "3              swapcase\n",
       "dtype: object"
      ]
     },
     "execution_count": 59,
     "metadata": {},
     "output_type": "execute_result"
    }
   ],
   "source": [
    "s.str.lower()"
   ]
  },
  {
   "cell_type": "code",
   "execution_count": 60,
   "metadata": {},
   "outputs": [
    {
     "data": {
      "text/plain": [
       "0                 Lower\n",
       "1              Capitals\n",
       "2    This Is A Sentence\n",
       "3              Swapcase\n",
       "dtype: object"
      ]
     },
     "execution_count": 60,
     "metadata": {},
     "output_type": "execute_result"
    }
   ],
   "source": [
    "s.str.title()"
   ]
  },
  {
   "cell_type": "code",
   "execution_count": 61,
   "metadata": {},
   "outputs": [
    {
     "data": {
      "text/plain": [
       "0                 Lower\n",
       "1              Capitals\n",
       "2    This is a sentence\n",
       "3              Swapcase\n",
       "dtype: object"
      ]
     },
     "execution_count": 61,
     "metadata": {},
     "output_type": "execute_result"
    }
   ],
   "source": [
    "s.str.capitalize()"
   ]
  },
  {
   "cell_type": "code",
   "execution_count": 62,
   "metadata": {},
   "outputs": [
    {
     "data": {
      "text/plain": [
       "0                 LOWER\n",
       "1              capitals\n",
       "2    THIS IS A SENTENCE\n",
       "3              sWaPcAsE\n",
       "dtype: object"
      ]
     },
     "execution_count": 62,
     "metadata": {},
     "output_type": "execute_result"
    }
   ],
   "source": [
    "s.str.swapcase()"
   ]
  },
  {
   "cell_type": "markdown",
   "metadata": {},
   "source": [
    "### 2. संख्यात्मक कार्य\n",
    "\n",
    "यहां हमें `pd.to_numeric` विधि पर ध्यान केंद्रित करने की आवश्यकता है। हालांकि यह `str` ऑब्जेक्ट पर एक विधि नहीं है, यह संख्यात्मक मानों को वर्ण प्रारूप में जल्दी से परिवर्तित और फ़िल्टर कर सकता है। इसके मुख्य मापदंडों में `त्रुटियां` शामिल हैं और 'डाउनकास्ट', जो क्रमशः गैर-संख्यात्मक मानों के प्रसंस्करण मोड और रूपांतरण प्रकार का प्रतिनिधित्व करते हैं, उनमें से तीन 'त्रुटि' विकल्प हैं जिन्हें संख्यात्मक मानों में परिवर्तित नहीं किया जा सकता है, 'उठाएं, जबरदस्ती करें, अनदेखा करें। `, जो क्रमशः इंगित करते हैंप्रत्यक्ष त्रुटि रिपोर्टिंग, अनुपलब्ध के रूप में सेटिंग, और मूल स्ट्रिंग को बनाए रखना।"
   ]
  },
  {
   "cell_type": "code",
   "execution_count": 63,
   "metadata": {},
   "outputs": [
    {
     "data": {
      "text/plain": [
       "0       1\n",
       "1     2.2\n",
       "2      2e\n",
       "3      ??\n",
       "4    -2.1\n",
       "5       0\n",
       "dtype: object"
      ]
     },
     "execution_count": 63,
     "metadata": {},
     "output_type": "execute_result"
    }
   ],
   "source": [
    "s = pd.Series(['1', '2.2', '2e', '??', '-2.1', '0'])\n",
    "pd.to_numeric(s, errors='ignore')"
   ]
  },
  {
   "cell_type": "code",
   "execution_count": 64,
   "metadata": {},
   "outputs": [
    {
     "data": {
      "text/plain": [
       "0    1.0\n",
       "1    2.2\n",
       "2    NaN\n",
       "3    NaN\n",
       "4   -2.1\n",
       "5    0.0\n",
       "dtype: float64"
      ]
     },
     "execution_count": 64,
     "metadata": {},
     "output_type": "execute_result"
    }
   ],
   "source": [
    "pd.to_numeric(s, errors='coerce')"
   ]
  },
  {
   "cell_type": "markdown",
   "metadata": {},
   "source": [
    "डेटा साफ़ करते समय, आप गैर-संख्यात्मक पंक्तियों को तुरंत देखने के लिए `ज़बरदस्ती` सेटिंग का उपयोग कर सकते हैं:"
   ]
  },
  {
   "cell_type": "code",
   "execution_count": 65,
   "metadata": {},
   "outputs": [
    {
     "data": {
      "text/plain": [
       "2    2e\n",
       "3    ??\n",
       "dtype: object"
      ]
     },
     "execution_count": 65,
     "metadata": {},
     "output_type": "execute_result"
    }
   ],
   "source": [
    "s[pd.to_numeric(s, errors='coerce').isna()]"
   ]
  },
  {
   "cell_type": "markdown",
   "metadata": {},
   "source": [
    "### 3. सांख्यिकीय कार्य\n",
    "\n",
    "`गिनती` और `लेन` क्रमशः नियमित पैटर्न की घटनाओं की संख्या और स्ट्रिंग की लंबाई लौटाते हैं:"
   ]
  },
  {
   "cell_type": "code",
   "execution_count": 66,
   "metadata": {},
   "outputs": [
    {
     "data": {
      "text/plain": [
       "0    2\n",
       "1    2\n",
       "dtype: int64"
      ]
     },
     "execution_count": 66,
     "metadata": {},
     "output_type": "execute_result"
    }
   ],
   "source": [
    "s = pd.Series(['cat rat fat at', 'get feed sheet heat'])\n",
    "s.str.count('[r|f]at|ee')"
   ]
  },
  {
   "cell_type": "code",
   "execution_count": 67,
   "metadata": {},
   "outputs": [
    {
     "data": {
      "text/plain": [
       "0    14\n",
       "1    19\n",
       "dtype: int64"
      ]
     },
     "execution_count": 67,
     "metadata": {},
     "output_type": "execute_result"
    }
   ],
   "source": [
    "s.str.len()"
   ]
  },
  {
   "cell_type": "markdown",
   "metadata": {},
   "source": [
    "### 4. प्रारूप कार्य\n",
    "फॉर्मेट फ़ंक्शंस को मुख्य रूप से दो श्रेणियों में विभाजित किया गया है, पहला है स्पेस रिमूवल टाइप, और दूसरा है फिलिंग टाइप। इनमें से पहली श्रेणी में तीन प्रकार के फ़ंक्शन हैं, अर्थात् 'स्ट्रिप, आरस्ट्रिप, एलस्ट्रिप', जो प्रतिनिधित्व करते हैं। दोनों तरफ रिक्त स्थान, दाईं ओर रिक्त स्थान और बाईं ओर रिक्त स्थान हटाना ये फ़ंक्शन डेटा सफाई में उपयोगी होते हैं, खासकर जब कॉलम नाम में अवैध रिक्त स्थान होते हैं।"
   ]
  },
  {
   "cell_type": "code",
   "execution_count": 68,
   "metadata": {},
   "outputs": [
    {
     "data": {
      "text/plain": [
       "Int64Index([4, 4, 4], dtype='int64')"
      ]
     },
     "execution_count": 68,
     "metadata": {},
     "output_type": "execute_result"
    }
   ],
   "source": [
    "my_index = pd.Index([' col1', 'col2 ', ' col3 '])\n",
    "my_index.str.strip().str.len()"
   ]
  },
  {
   "cell_type": "code",
   "execution_count": 69,
   "metadata": {},
   "outputs": [
    {
     "data": {
      "text/plain": [
       "Int64Index([5, 4, 5], dtype='int64')"
      ]
     },
     "execution_count": 69,
     "metadata": {},
     "output_type": "execute_result"
    }
   ],
   "source": [
    "my_index.str.rstrip().str.len()"
   ]
  },
  {
   "cell_type": "code",
   "execution_count": 70,
   "metadata": {},
   "outputs": [
    {
     "data": {
      "text/plain": [
       "Int64Index([4, 5, 5], dtype='int64')"
      ]
     },
     "execution_count": 70,
     "metadata": {},
     "output_type": "execute_result"
    }
   ],
   "source": [
    "my_index.str.lstrip().str.len()"
   ]
  },
  {
   "cell_type": "markdown",
   "metadata": {},
   "source": [
    "पैडिंग फ़ंक्शंस में से, `पैड` सबसे लचीला है, क्योंकि यह आपको स्ट्रिंग की लंबाई, पैडिंग दिशा और पैडिंग सामग्री का चयन करने की अनुमति देता है:"
   ]
  },
  {
   "cell_type": "code",
   "execution_count": 71,
   "metadata": {},
   "outputs": [
    {
     "data": {
      "text/plain": [
       "0    ****a\n",
       "1    ****b\n",
       "2    ****c\n",
       "dtype: object"
      ]
     },
     "execution_count": 71,
     "metadata": {},
     "output_type": "execute_result"
    }
   ],
   "source": [
    "s = pd.Series(['a','b','c'])\n",
    "s.str.pad(5,'left','*')"
   ]
  },
  {
   "cell_type": "code",
   "execution_count": 72,
   "metadata": {},
   "outputs": [
    {
     "data": {
      "text/plain": [
       "0    a****\n",
       "1    b****\n",
       "2    c****\n",
       "dtype: object"
      ]
     },
     "execution_count": 72,
     "metadata": {},
     "output_type": "execute_result"
    }
   ],
   "source": [
    "s.str.pad(5,'right','*')"
   ]
  },
  {
   "cell_type": "code",
   "execution_count": 73,
   "metadata": {},
   "outputs": [
    {
     "data": {
      "text/plain": [
       "0    **a**\n",
       "1    **b**\n",
       "2    **c**\n",
       "dtype: object"
      ]
     },
     "execution_count": 73,
     "metadata": {},
     "output_type": "execute_result"
    }
   ],
   "source": [
    "s.str.pad(5,'both','*')"
   ]
  },
  {
   "cell_type": "markdown",
   "metadata": {},
   "source": [
    "उपरोक्त तीन स्थितियों को क्रमशः `rjust, ljust,center`` का उपयोग करके समान रूप से पूरा किया जा सकता है। यह ध्यान दिया जाना चाहिए कि `ljust`` बाएं पैडिंग के बजाय दाएं पैडिंग को संदर्भित करता है:"
   ]
  },
  {
   "cell_type": "code",
   "execution_count": 74,
   "metadata": {},
   "outputs": [
    {
     "data": {
      "text/plain": [
       "0    ****a\n",
       "1    ****b\n",
       "2    ****c\n",
       "dtype: object"
      ]
     },
     "execution_count": 74,
     "metadata": {},
     "output_type": "execute_result"
    }
   ],
   "source": [
    "s.str.rjust(5, '*')"
   ]
  },
  {
   "cell_type": "code",
   "execution_count": 75,
   "metadata": {},
   "outputs": [
    {
     "data": {
      "text/plain": [
       "0    a****\n",
       "1    b****\n",
       "2    c****\n",
       "dtype: object"
      ]
     },
     "execution_count": 75,
     "metadata": {},
     "output_type": "execute_result"
    }
   ],
   "source": [
    "s.str.ljust(5, '*')"
   ]
  },
  {
   "cell_type": "code",
   "execution_count": 76,
   "metadata": {},
   "outputs": [
    {
     "data": {
      "text/plain": [
       "0    **a**\n",
       "1    **b**\n",
       "2    **c**\n",
       "dtype: object"
      ]
     },
     "execution_count": 76,
     "metadata": {},
     "output_type": "execute_result"
    }
   ],
   "source": [
    "s.str.center(5, '*')"
   ]
  },
  {
   "cell_type": "markdown",
   "metadata": {},
   "source": [
    "एक्सेल फ़ाइलों को पढ़ते समय, अक्सर संख्याओं में अग्रणी शून्य जोड़ने की आवश्यकता होती है, उदाहरण के लिए, स्टॉक कोड में पढ़ते समय, \"000007\" को मान 7 के रूप में माना जाता है। उपरोक्त बाएं-भरण फ़ंक्शन का उपयोग करने के अलावा, आप ऐसा कर सकते हैं। पांडा में इसे प्राप्त करने के लिए zfill का भी उपयोग करें।"
   ]
  },
  {
   "cell_type": "code",
   "execution_count": 77,
   "metadata": {},
   "outputs": [
    {
     "data": {
      "text/plain": [
       "0    000007\n",
       "1    000155\n",
       "2    303000\n",
       "dtype: string"
      ]
     },
     "execution_count": 77,
     "metadata": {},
     "output_type": "execute_result"
    }
   ],
   "source": [
    "s = pd.Series([7, 155, 303000]).astype('string')\n",
    "s.str.pad(6,'left','0')"
   ]
  },
  {
   "cell_type": "code",
   "execution_count": 78,
   "metadata": {},
   "outputs": [
    {
     "data": {
      "text/plain": [
       "0    000007\n",
       "1    000155\n",
       "2    303000\n",
       "dtype: string"
      ]
     },
     "execution_count": 78,
     "metadata": {},
     "output_type": "execute_result"
    }
   ],
   "source": [
    "s.str.rjust(6,'0')"
   ]
  },
  {
   "cell_type": "code",
   "execution_count": 79,
   "metadata": {},
   "outputs": [
    {
     "data": {
      "text/plain": [
       "0    000007\n",
       "1    000155\n",
       "2    303000\n",
       "dtype: string"
      ]
     },
     "execution_count": 79,
     "metadata": {},
     "output_type": "execute_result"
    }
   ],
   "source": [
    "s.str.zfill(6)"
   ]
  },
  {
   "cell_type": "markdown",
   "metadata": {},
   "source": [
    "##5.व्यायाम\n",
    "### Ex1: आवास सूचना डेटासेट\n",
    "आवास सूचना डेटासेट इस प्रकार है:"
   ]
  },
  {
   "cell_type": "code",
   "execution_count": 80,
   "metadata": {},
   "outputs": [
    {
     "data": {
      "text/html": [
       "<div>\n",
       "<style scoped>\n",
       "    .dataframe tbody tr th:only-of-type {\n",
       "        vertical-align: middle;\n",
       "    }\n",
       "\n",
       "    .dataframe tbody tr th {\n",
       "        vertical-align: top;\n",
       "    }\n",
       "\n",
       "    .dataframe thead th {\n",
       "        text-align: right;\n",
       "    }\n",
       "</style>\n",
       "<table border=\"1\" class=\"dataframe\">\n",
       "  <thead>\n",
       "    <tr style=\"text-align: right;\">\n",
       "      <th></th>\n",
       "      <th>floor</th>\n",
       "      <th>year</th>\n",
       "      <th>area</th>\n",
       "      <th>price</th>\n",
       "    </tr>\n",
       "  </thead>\n",
       "  <tbody>\n",
       "    <tr>\n",
       "      <th>0</th>\n",
       "      <td>高层（共6层）</td>\n",
       "      <td>1986年建</td>\n",
       "      <td>58.23㎡</td>\n",
       "      <td>155万</td>\n",
       "    </tr>\n",
       "    <tr>\n",
       "      <th>1</th>\n",
       "      <td>中层（共20层）</td>\n",
       "      <td>2020年建</td>\n",
       "      <td>88㎡</td>\n",
       "      <td>155万</td>\n",
       "    </tr>\n",
       "    <tr>\n",
       "      <th>2</th>\n",
       "      <td>低层（共28层）</td>\n",
       "      <td>2010年建</td>\n",
       "      <td>89.33㎡</td>\n",
       "      <td>365万</td>\n",
       "    </tr>\n",
       "  </tbody>\n",
       "</table>\n",
       "</div>"
      ],
      "text/plain": [
       "      floor    year    area price\n",
       "0   高层（共6层）  1986年建  58.23㎡  155万\n",
       "1  中层（共20层）  2020年建     88㎡  155万\n",
       "2  低层（共28层）  2010年建  89.33㎡  365万"
      ]
     },
     "execution_count": 80,
     "metadata": {},
     "output_type": "execute_result"
    }
   ],
   "source": [
    "df = pd.read_excel('../data/house_info.xls', usecols=['floor','year','area','price'])\n",
    "df.head(3)"
   ]
  },
  {
   "cell_type": "markdown",
   "metadata": {},
   "source": [
    "1. `वर्ष` कॉलम को पूर्णांक वर्ष संग्रहण में बदलें।\n",
    "2. `फ्लोर` कॉलम को दो कॉलम `लेवल, हाईएस्ट` से बदलें, जहां तत्व `स्ट्रिंग` प्रकार की फ्लोर श्रेणी (हाई फ्लोर, मिडिल फ्लोर, लो फ्लोर) और पूर्णांक प्रकार की उच्चतम फ्लोर संख्या हैं।\n",
    "3. घर के प्रति वर्ग मीटर औसत मूल्य `avg_price` की गणना करें और इसे `*** युआन/वर्ग मीटर` के प्रारूप में तालिका में संग्रहीत करें, जहां `***` एक पूर्णांक है।\n",
    "### Ex2: \"गेम ऑफ थ्रोन्स\" स्क्रिप्ट डेटा सेट\n",
    "टी का एक गेम हैह्रोन्स स्क्रिप्ट डेटा सेट इस प्रकार है:"
   ]
  },
  {
   "cell_type": "code",
   "execution_count": 81,
   "metadata": {},
   "outputs": [
    {
     "data": {
      "text/html": [
       "<div>\n",
       "<style scoped>\n",
       "    .dataframe tbody tr th:only-of-type {\n",
       "        vertical-align: middle;\n",
       "    }\n",
       "\n",
       "    .dataframe tbody tr th {\n",
       "        vertical-align: top;\n",
       "    }\n",
       "\n",
       "    .dataframe thead th {\n",
       "        text-align: right;\n",
       "    }\n",
       "</style>\n",
       "<table border=\"1\" class=\"dataframe\">\n",
       "  <thead>\n",
       "    <tr style=\"text-align: right;\">\n",
       "      <th></th>\n",
       "      <th>Release Date</th>\n",
       "      <th>Season</th>\n",
       "      <th>Episode</th>\n",
       "      <th>Episode Title</th>\n",
       "      <th>Name</th>\n",
       "      <th>Sentence</th>\n",
       "    </tr>\n",
       "  </thead>\n",
       "  <tbody>\n",
       "    <tr>\n",
       "      <th>0</th>\n",
       "      <td>2011-04-17</td>\n",
       "      <td>Season 1</td>\n",
       "      <td>Episode 1</td>\n",
       "      <td>Winter is Coming</td>\n",
       "      <td>waymar royce</td>\n",
       "      <td>What do you expect? They're savages. One lot s...</td>\n",
       "    </tr>\n",
       "    <tr>\n",
       "      <th>1</th>\n",
       "      <td>2011-04-17</td>\n",
       "      <td>Season 1</td>\n",
       "      <td>Episode 1</td>\n",
       "      <td>Winter is Coming</td>\n",
       "      <td>will</td>\n",
       "      <td>I've never seen wildlings do a thing like this...</td>\n",
       "    </tr>\n",
       "    <tr>\n",
       "      <th>2</th>\n",
       "      <td>2011-04-17</td>\n",
       "      <td>Season 1</td>\n",
       "      <td>Episode 1</td>\n",
       "      <td>Winter is Coming</td>\n",
       "      <td>waymar royce</td>\n",
       "      <td>How close did you get?</td>\n",
       "    </tr>\n",
       "  </tbody>\n",
       "</table>\n",
       "</div>"
      ],
      "text/plain": [
       "  Release Date    Season   Episode      Episode Title          Name  \\\n",
       "0   2011-04-17  Season 1  Episode 1  Winter is Coming  waymar royce   \n",
       "1   2011-04-17  Season 1  Episode 1  Winter is Coming          will   \n",
       "2   2011-04-17  Season 1  Episode 1  Winter is Coming  waymar royce   \n",
       "\n",
       "                                            Sentence  \n",
       "0  What do you expect? They're savages. One lot s...  \n",
       "1  I've never seen wildlings do a thing like this...  \n",
       "2                             How close did you get?  "
      ]
     },
     "execution_count": 81,
     "metadata": {},
     "output_type": "execute_result"
    }
   ],
   "source": [
    "df = pd.read_csv('../data/script.csv')\n",
    "df.head(3)"
   ]
  },
  {
   "cell_type": "markdown",
   "metadata": {},
   "source": [
    "1. प्रत्येक 'एपिसोड' में पंक्तियों की संख्या की गणना करें।\n",
    "2. प्रति पंक्ति सबसे अधिक शब्द वाले शीर्ष पांच लोगों को ढूंढने के लिए शब्द विभाजक के रूप में रिक्त स्थान का उपयोग करें।\n",
    "3. यदि किसी की पंक्तियों में प्रश्नचिह्न हैं, तो बोलने वाला अगला व्यक्ति उत्तरदाता है। यदि पिछले व्यक्ति की पंक्तियों में $n$ प्रश्नचिह्न हैं, तो यह माना जाता है कि उत्तर देने वाले ने $n$ प्रश्नों का उत्तर दिया है। उत्तर देने वाले शीर्ष पांच लोगों को ढूंढें अधिकांश प्रश्न."
   ]
  }
 ],
 "metadata": {
  "kernelspec": {
   "display_name": "Python 3",
   "language": "python",
   "name": "python3"
  },
  "language_info": {
   "codemirror_mode": {
    "name": "ipython",
    "version": 3
   },
   "file_extension": ".py",
   "mimetype": "text/x-python",
   "name": "python",
   "nbconvert_exporter": "python",
   "pygments_lexer": "ipython3",
   "version": "3.7.9-final"
  }
 },
 "nbformat": 4,
 "nbformat_minor": 2
}
