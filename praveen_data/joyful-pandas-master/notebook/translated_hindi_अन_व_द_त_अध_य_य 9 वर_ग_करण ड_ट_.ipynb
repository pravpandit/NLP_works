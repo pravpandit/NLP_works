{
 "cells": [
  {
   "cell_type": "markdown",
   "metadata": {},
   "source": [
    "<केंद्र><h1>अध्याय 9 वर्गीकरण डेटा</h1></केंद्र>"
   ]
  },
  {
   "cell_type": "code",
   "execution_count": 2,
   "metadata": {},
   "outputs": [],
   "source": [
    "import numpy as np\n",
    "import pandas as pd"
   ]
  },
  {
   "cell_type": "markdown",
   "metadata": {},
   "source": [
    "## 1. बिल्ली वस्तु\n",
    "### 1. बिल्ली वस्तु के गुण\n",
    "`पांडा` `श्रेणी` प्रकार प्रदान करता है, जो उपयोगकर्ताओं को श्रेणीबद्ध चर को संसाधित करने में सक्षम बनाता है, एक सामान्य अनुक्रम को श्रेणीबद्ध चर में परिवर्तित करने के लिए, `astype` विधि का उपयोग किया जा सकता है।"
   ]
  },
  {
   "cell_type": "code",
   "execution_count": 3,
   "metadata": {},
   "outputs": [
    {
     "data": {
      "text/plain": [
       "0     Freshman\n",
       "1     Freshman\n",
       "2       Senior\n",
       "3    Sophomore\n",
       "4    Sophomore\n",
       "Name: Grade, dtype: category\n",
       "Categories (4, object): ['Freshman', 'Junior', 'Senior', 'Sophomore']"
      ]
     },
     "execution_count": 3,
     "metadata": {},
     "output_type": "execute_result"
    }
   ],
   "source": [
    "df = pd.read_csv('../data/learn_pandas.csv', usecols = ['Grade', 'Name', 'Gender', 'Height', 'Weight'])\n",
    "s = df.Grade.astype('category')\n",
    "s.head()"
   ]
  },
  {
   "cell_type": "markdown",
   "metadata": {},
   "source": [
    "कैट ऑब्जेक्ट को एक श्रेणीबद्ध श्रृंखला में परिभाषित किया गया है, यह पिछले अध्याय में प्रस्तुत स्ट्र ऑब्जेक्ट के समान है और श्रेणीबद्ध संचालन करने के लिए कुछ विशेषताओं और विधियों को परिभाषित करता है।"
   ]
  },
  {
   "cell_type": "code",
   "execution_count": 4,
   "metadata": {},
   "outputs": [
    {
     "data": {
      "text/plain": [
       "<pandas.core.arrays.categorical.CategoricalAccessor object at 0x0000020F9B7A7108>"
      ]
     },
     "execution_count": 4,
     "metadata": {},
     "output_type": "execute_result"
    }
   ],
   "source": [
    "s.cat"
   ]
  },
  {
   "cell_type": "markdown",
   "metadata": {},
   "source": [
    "किसी विशिष्ट वर्गीकरण के लिए, दो घटक होते हैं, एक स्वयं श्रेणी, जिसे `इंडेक्स` प्रकार के रूप में संग्रहीत किया जाता है, और दूसरा यह कि क्या इसे ऑर्डर किया गया है, दोनों को `कैट` विशेषता के माध्यम से एक्सेस किया जा सकता है:"
   ]
  },
  {
   "cell_type": "code",
   "execution_count": 5,
   "metadata": {},
   "outputs": [
    {
     "data": {
      "text/plain": [
       "Index(['Freshman', 'Junior', 'Senior', 'Sophomore'], dtype='object')"
      ]
     },
     "execution_count": 5,
     "metadata": {},
     "output_type": "execute_result"
    }
   ],
   "source": [
    "s.cat.categories"
   ]
  },
  {
   "cell_type": "code",
   "execution_count": 6,
   "metadata": {},
   "outputs": [
    {
     "data": {
      "text/plain": [
       "False"
      ]
     },
     "execution_count": 6,
     "metadata": {},
     "output_type": "execute_result"
    }
   ],
   "source": [
    "s.cat.ordered"
   ]
  },
  {
   "cell_type": "markdown",
   "metadata": {},
   "source": [
    "इसके अतिरिक्त, अनुक्रम की प्रत्येक श्रेणी को एक अद्वितीय पूर्णांक संख्या दी गई है, जिसकी संख्या cat.categories में क्रम द्वारा निर्धारित की जाती है, जिसे कोड के माध्यम से पहुंचा जा सकता है:"
   ]
  },
  {
   "cell_type": "code",
   "execution_count": 7,
   "metadata": {},
   "outputs": [
    {
     "data": {
      "text/plain": [
       "0    0\n",
       "1    0\n",
       "2    2\n",
       "3    3\n",
       "4    3\n",
       "dtype: int8"
      ]
     },
     "execution_count": 7,
     "metadata": {},
     "output_type": "execute_result"
    }
   ],
   "source": [
    "s.cat.codes.head()"
   ]
  },
  {
   "cell_type": "markdown",
   "metadata": {},
   "source": [
    "### 2. श्रेणियां जोड़ें, हटाएं और संशोधित करें\n",
    "\n",
    "`कैट` ऑब्जेक्ट की `श्रेणियां` विशेषता का उपयोग श्रेणियों को क्वेरी करने के लिए किया जा सकता है, तो \"जोड़ें, संशोधित करें, क्वेरी करें और हटाएं\" के अन्य तीन ऑपरेशन कैसे किए जाने चाहिए?\n",
    "\n",
    "#### 【ध्यान दें】श्रेणियाँ सीधे संशोधित नहीं की जा सकतीं\n",
    "जैसा कि अध्याय 3 में बताया गया है, सूचकांक ``सूचकांक`` प्रकार को ``index_obj[0] = आइटम`` का उपयोग करके संशोधित नहीं किया जा सकता है, और ``श्रेणियां`` ``सूचकांक`` में संग्रहीत है, इसलिए ``पांडा`` समान उद्देश्य को प्राप्त करने के लिए ``cat`` विशेषता पर कई तरीकों को परिभाषित करता है।#### 【अंत】\n",
    "\n",
    "सबसे पहले, आप श्रेणियां जोड़ने के लिए `add_categories` का उपयोग कर सकते हैं:"
   ]
  },
  {
   "cell_type": "code",
   "execution_count": 8,
   "metadata": {},
   "outputs": [
    {
     "data": {
      "text/plain": [
       "Index(['Freshman', 'Junior', 'Senior', 'Sophomore', 'Graduate'], dtype='object')"
      ]
     },
     "execution_count": 8,
     "metadata": {},
     "output_type": "execute_result"
    }
   ],
   "source": [
    "s = s.cat.add_categories('Graduate') # 增加一个毕业生类别\n",
    "s.cat.categories"
   ]
  },
  {
   "cell_type": "markdown",
   "metadata": {},
   "source": [
    "यदि आप कोई श्रेणी हटाना चाहते हैं, तो आप `remove_categories` का उपयोग कर सकते हैं, और मूल अनुक्रम में सभी श्रेणियां गायब पर सेट हो जाएंगी। उदाहरण के लिए, नई श्रेणी हटाएं:"
   ]
  },
  {
   "cell_type": "code",
   "execution_count": 9,
   "metadata": {},
   "outputs": [
    {
     "data": {
      "text/plain": [
       "Index(['Junior', 'Senior', 'Sophomore', 'Graduate'], dtype='object')"
      ]
     },
     "execution_count": 9,
     "metadata": {},
     "output_type": "execute_result"
    }
   ],
   "source": [
    "s = s.cat.remove_categories('Freshman')\n",
    "s.cat.categories"
   ]
  },
  {
   "cell_type": "code",
   "execution_count": 10,
   "metadata": {},
   "outputs": [
    {
     "data": {
      "text/plain": [
       "0          NaN\n",
       "1          NaN\n",
       "2       Senior\n",
       "3    Sophomore\n",
       "4    Sophomore\n",
       "Name: Grade, dtype: category\n",
       "Categories (4, object): ['Junior', 'Senior', 'Sophomore', 'Graduate']"
      ]
     },
     "execution_count": 10,
     "metadata": {},
     "output_type": "execute_result"
    }
   ],
   "source": [
    "s.head()"
   ]
  },
  {
   "cell_type": "markdown",
   "metadata": {},
   "source": [
    "इसके अलावा, आप अनुक्रम की नई श्रेणियों को सीधे सेट करने के लिए `set_categories` का उपयोग कर सकते हैं यदि मूल श्रेणियों में ऐसे तत्व हैं जो नई श्रेणियों से संबंधित नहीं हैं, तो उन्हें गायब पर सेट किया जाएगा।"
   ]
  },
  {
   "cell_type": "code",
   "execution_count": 11,
   "metadata": {},
   "outputs": [
    {
     "data": {
      "text/plain": [
       "Index(['Sophomore', 'PhD'], dtype='object')"
      ]
     },
     "execution_count": 11,
     "metadata": {},
     "output_type": "execute_result"
    }
   ],
   "source": [
    "s = s.cat.set_categories(['Sophomore','PhD']) # 新类别为大二学生和博士\n",
    "s.cat.categories"
   ]
  },
  {
   "cell_type": "code",
   "execution_count": 12,
   "metadata": {},
   "outputs": [
    {
     "data": {
      "text/plain": [
       "0          NaN\n",
       "1          NaN\n",
       "2          NaN\n",
       "3    Sophomore\n",
       "4    Sophomore\n",
       "Name: Grade, dtype: category\n",
       "Categories (2, object): ['Sophomore', 'PhD']"
      ]
     },
     "execution_count": 12,
     "metadata": {},
     "output_type": "execute_result"
    }
   ],
   "source": [
    "s.head()"
   ]
  },
  {
   "cell_type": "markdown",
   "metadata": {},
   "source": [
    "यदि आप उन श्रेणियों को हटाना चाहते हैं जो अनुक्रम में दिखाई नहीं देती हैं, तो आप इसे प्राप्त करने के लिए `remove_unused_categories` का उपयोग कर सकते हैं:"
   ]
  },
  {
   "cell_type": "code",
   "execution_count": 13,
   "metadata": {},
   "outputs": [
    {
     "data": {
      "text/plain": [
       "Index(['Sophomore'], dtype='object')"
      ]
     },
     "execution_count": 13,
     "metadata": {},
     "output_type": "execute_result"
    }
   ],
   "source": [
    "s = s.cat.remove_unused_categories() # 移除了未出现的博士生类别\n",
    "s.cat.categories"
   ]
  },
  {
   "cell_type": "markdown",
   "metadata": {},
   "source": [
    "अंत में, \"जोड़ें, संशोधित करें, जांचें और हटाएं\" में शेष ऑपरेशन संशोधन है, जिसे `rename_categories` विधि के माध्यम से पूरा किया जा सकता है। साथ ही, यह ध्यान दिया जाना चाहिए कि यह विधि संबंधित मानों को भी संशोधित करेगी ​मूल अनुक्रम का। उदाहरण के लिए, अब `सोफोमोर' को चीनी `द्वितीय वर्ष के स्नातक छात्र' में बदलें:"
   ]
  },
  {
   "cell_type": "code",
   "execution_count": 14,
   "metadata": {},
   "outputs": [
    {
     "data": {
      "text/plain": [
       "0        NaN\n",
       "1        NaN\n",
       "2        NaN\n",
       "3    本科二年级学生\n",
       "4    本科二年级学生\n",
       "Name: Grade, dtype: category\n",
       "Categories (1, object): ['本科二年级学生']"
      ]
     },
     "execution_count": 14,
     "metadata": {},
     "output_type": "execute_result"
    }
   ],
   "source": [
    "s = s.cat.rename_categories({'Sophomore':'本科二年级学生'})\n",
    "s.head()"
   ]
  },
  {
   "cell_type": "markdown",
   "metadata": {},
   "source": [
    "## 2. क्रमबद्ध वर्गीकरण\n",
    "### 1. व्यवस्था स्थापित करना\n",
    "\n",
    "क्रमित श्रेणियों और अव्यवस्थित श्रेणियों को `as_unordered` और `reorder_categories` के माध्यम से एक-दूसरे में परिवर्तित किया जा सकता है। यह ध्यान दिया जाना चाहिए कि बाद वाले द्वारा पारित पैरामीटर वर्तमान अनुक्रम की अव्यवस्थित श्रेणियों की एक सूची होनी चाहिए, नई श्रेणियां नहीं जोड़ी जा सकतीं। और मूल श्रेणियां गायब नहीं हो सकतीं। पैरामीटर `order=True` निर्दिष्ट किया जाना चाहिए, अन्यथा विधि अमान्य है। उदाहरण के लिए, ग्रेड को वर्गीकृत करेंअपेक्षाकृत बड़ी और छोटी श्रेणियों में, और फिर अव्यवस्थित स्थिति को पुनर्स्थापित करें:"
   ]
  },
  {
   "cell_type": "code",
   "execution_count": 15,
   "metadata": {},
   "outputs": [
    {
     "data": {
      "text/plain": [
       "0     Freshman\n",
       "1     Freshman\n",
       "2       Senior\n",
       "3    Sophomore\n",
       "4    Sophomore\n",
       "Name: Grade, dtype: category\n",
       "Categories (4, object): ['Freshman' < 'Sophomore' < 'Junior' < 'Senior']"
      ]
     },
     "execution_count": 15,
     "metadata": {},
     "output_type": "execute_result"
    }
   ],
   "source": [
    "s = df.Grade.astype('category')\n",
    "s = s.cat.reorder_categories(['Freshman', 'Sophomore', 'Junior', 'Senior'],ordered=True)\n",
    "s.head()"
   ]
  },
  {
   "cell_type": "code",
   "execution_count": 16,
   "metadata": {},
   "outputs": [
    {
     "data": {
      "text/plain": [
       "0     Freshman\n",
       "1     Freshman\n",
       "2       Senior\n",
       "3    Sophomore\n",
       "4    Sophomore\n",
       "Name: Grade, dtype: category\n",
       "Categories (4, object): ['Freshman', 'Sophomore', 'Junior', 'Senior']"
      ]
     },
     "execution_count": 16,
     "metadata": {},
     "output_type": "execute_result"
    }
   ],
   "source": [
    "s.cat.as_unordered().head()"
   ]
  },
  {
   "cell_type": "markdown",
   "metadata": {},
   "source": [
    "#### 【ध्यान दें】श्रेणियाँ सीधे संशोधित नहीं की जा सकतीं\n",
    "यदि आप `ordered=True` पैरामीटर निर्दिष्ट नहीं करना चाहते हैं, तो आप पहले `s.cat.as_ordered()` का उपयोग ऑर्डर की गई श्रेणियों में कनवर्ट करने के लिए कर सकते हैं, और फिर विशिष्ट सापेक्ष आकार समायोजन करने के लिए `reorder_categories` का उपयोग कर सकते हैं।\n",
    "#### 【अंत】\n",
    "### 2. वर्गीकरण एवं तुलना\n",
    "\n",
    "अध्याय 2 में, हमने स्ट्रिंग और संख्यात्मक प्रकार के अनुक्रमों की छँटाई का उल्लेख किया है। अब हमें श्रेणीगत चरों की छँटाई की व्याख्या करने की आवश्यकता है: बस कॉलम प्रकार को `श्रेणी` में बदलें, और फिर असाइन करें।संबंधित आकार संबंध, और आप सामान्य रूप से `sort_index` और `sort_values` का उपयोग कर सकते हैं, उदाहरण के लिए, ग्रेड को क्रमबद्ध करने के लिए:"
   ]
  },
  {
   "cell_type": "code",
   "execution_count": 17,
   "metadata": {},
   "outputs": [
    {
     "data": {
      "text/html": [
       "<div>\n",
       "<style scoped>\n",
       "    .dataframe tbody tr th:only-of-type {\n",
       "        vertical-align: middle;\n",
       "    }\n",
       "\n",
       "    .dataframe tbody tr th {\n",
       "        vertical-align: top;\n",
       "    }\n",
       "\n",
       "    .dataframe thead th {\n",
       "        text-align: right;\n",
       "    }\n",
       "</style>\n",
       "<table border=\"1\" class=\"dataframe\">\n",
       "  <thead>\n",
       "    <tr style=\"text-align: right;\">\n",
       "      <th></th>\n",
       "      <th>Grade</th>\n",
       "      <th>Name</th>\n",
       "      <th>Gender</th>\n",
       "      <th>Height</th>\n",
       "      <th>Weight</th>\n",
       "    </tr>\n",
       "  </thead>\n",
       "  <tbody>\n",
       "    <tr>\n",
       "      <th>0</th>\n",
       "      <td>Freshman</td>\n",
       "      <td>Gaopeng Yang</td>\n",
       "      <td>Female</td>\n",
       "      <td>158.9</td>\n",
       "      <td>46.0</td>\n",
       "    </tr>\n",
       "    <tr>\n",
       "      <th>105</th>\n",
       "      <td>Freshman</td>\n",
       "      <td>Qiang Shi</td>\n",
       "      <td>Female</td>\n",
       "      <td>164.5</td>\n",
       "      <td>52.0</td>\n",
       "    </tr>\n",
       "    <tr>\n",
       "      <th>96</th>\n",
       "      <td>Freshman</td>\n",
       "      <td>Changmei Feng</td>\n",
       "      <td>Female</td>\n",
       "      <td>163.8</td>\n",
       "      <td>56.0</td>\n",
       "    </tr>\n",
       "    <tr>\n",
       "      <th>88</th>\n",
       "      <td>Freshman</td>\n",
       "      <td>Xiaopeng Han</td>\n",
       "      <td>Female</td>\n",
       "      <td>164.1</td>\n",
       "      <td>53.0</td>\n",
       "    </tr>\n",
       "    <tr>\n",
       "      <th>81</th>\n",
       "      <td>Freshman</td>\n",
       "      <td>Yanli Zhang</td>\n",
       "      <td>Female</td>\n",
       "      <td>165.1</td>\n",
       "      <td>52.0</td>\n",
       "    </tr>\n",
       "  </tbody>\n",
       "</table>\n",
       "</div>"
      ],
      "text/plain": [
       "        Grade           Name  Gender  Height  Weight\n",
       "0    Freshman   Gaopeng Yang  Female   158.9    46.0\n",
       "105  Freshman      Qiang Shi  Female   164.5    52.0\n",
       "96   Freshman  Changmei Feng  Female   163.8    56.0\n",
       "88   Freshman   Xiaopeng Han  Female   164.1    53.0\n",
       "81   Freshman    Yanli Zhang  Female   165.1    52.0"
      ]
     },
     "execution_count": 17,
     "metadata": {},
     "output_type": "execute_result"
    }
   ],
   "source": [
    "df.Grade = df.Grade.astype('category')\n",
    "df.Grade = df.Grade.cat.reorder_categories(['Freshman', 'Sophomore', 'Junior', 'Senior'],ordered=True)\n",
    "df.sort_values('Grade').head() # 值排序"
   ]
  },
  {
   "cell_type": "code",
   "execution_count": 18,
   "metadata": {},
   "outputs": [
    {
     "data": {
      "text/html": [
       "<div>\n",
       "<style scoped>\n",
       "    .dataframe tbody tr th:only-of-type {\n",
       "        vertical-align: middle;\n",
       "    }\n",
       "\n",
       "    .dataframe tbody tr th {\n",
       "        vertical-align: top;\n",
       "    }\n",
       "\n",
       "    .dataframe thead th {\n",
       "        text-align: right;\n",
       "    }\n",
       "</style>\n",
       "<table border=\"1\" class=\"dataframe\">\n",
       "  <thead>\n",
       "    <tr style=\"text-align: right;\">\n",
       "      <th></th>\n",
       "      <th>Name</th>\n",
       "      <th>Gender</th>\n",
       "      <th>Height</th>\n",
       "      <th>Weight</th>\n",
       "    </tr>\n",
       "    <tr>\n",
       "      <th>Grade</th>\n",
       "      <th></th>\n",
       "      <th></th>\n",
       "      <th></th>\n",
       "      <th></th>\n",
       "    </tr>\n",
       "  </thead>\n",
       "  <tbody>\n",
       "    <tr>\n",
       "      <th>Freshman</th>\n",
       "      <td>Gaopeng Yang</td>\n",
       "      <td>Female</td>\n",
       "      <td>158.9</td>\n",
       "      <td>46.0</td>\n",
       "    </tr>\n",
       "    <tr>\n",
       "      <th>Freshman</th>\n",
       "      <td>Qiang Shi</td>\n",
       "      <td>Female</td>\n",
       "      <td>164.5</td>\n",
       "      <td>52.0</td>\n",
       "    </tr>\n",
       "    <tr>\n",
       "      <th>Freshman</th>\n",
       "      <td>Changmei Feng</td>\n",
       "      <td>Female</td>\n",
       "      <td>163.8</td>\n",
       "      <td>56.0</td>\n",
       "    </tr>\n",
       "    <tr>\n",
       "      <th>Freshman</th>\n",
       "      <td>Xiaopeng Han</td>\n",
       "      <td>Female</td>\n",
       "      <td>164.1</td>\n",
       "      <td>53.0</td>\n",
       "    </tr>\n",
       "    <tr>\n",
       "      <th>Freshman</th>\n",
       "      <td>Yanli Zhang</td>\n",
       "      <td>Female</td>\n",
       "      <td>165.1</td>\n",
       "      <td>52.0</td>\n",
       "    </tr>\n",
       "  </tbody>\n",
       "</table>\n",
       "</div>"
      ],
      "text/plain": [
       "                   Name  Gender  Height  Weight\n",
       "Grade                                          \n",
       "Freshman   Gaopeng Yang  Female   158.9    46.0\n",
       "Freshman      Qiang Shi  Female   164.5    52.0\n",
       "Freshman  Changmei Feng  Female   163.8    56.0\n",
       "Freshman   Xiaopeng Han  Female   164.1    53.0\n",
       "Freshman    Yanli Zhang  Female   165.1    52.0"
      ]
     },
     "execution_count": 18,
     "metadata": {},
     "output_type": "execute_result"
    }
   ],
   "source": [
    "df.set_index('Grade').sort_index().head() # 索引排序"
   ]
  },
  {
   "cell_type": "markdown",
   "metadata": {},
   "source": [
    "चूंकि क्रम स्थापित है, इसलिए श्रेणीबद्ध चर पर तुलना संचालन को दो श्रेणियों में विभाजित किया गया है। पहला `==` या `!=` संबंध की तुलना है। तुलना की वस्तुएं स्केलर या `हो सकती हैं समान लंबाई की श्रृंखला` (या `सूची`) दूसरी चार प्रकार के आकार संबंधों की तुलना है: `>, >=, <, <=`। तुलना की वस्तुएं पहले प्रकार के समान हैं तुलना में शामिल सभी तत्व संबंधित होने चाहिएमूल अनुक्रम की `श्रेणियाँ` और मूल अनुक्रम के समान सूचकांक हैं।"
   ]
  },
  {
   "cell_type": "code",
   "execution_count": 19,
   "metadata": {},
   "outputs": [
    {
     "data": {
      "text/plain": [
       "0    False\n",
       "1    False\n",
       "2    False\n",
       "3     True\n",
       "4     True\n",
       "Name: Grade, dtype: bool"
      ]
     },
     "execution_count": 19,
     "metadata": {},
     "output_type": "execute_result"
    }
   ],
   "source": [
    "res1 = df.Grade == 'Sophomore'\n",
    "res1.head()"
   ]
  },
  {
   "cell_type": "code",
   "execution_count": 20,
   "metadata": {},
   "outputs": [
    {
     "data": {
      "text/plain": [
       "0    False\n",
       "1    False\n",
       "2    False\n",
       "3    False\n",
       "4    False\n",
       "Name: Grade, dtype: bool"
      ]
     },
     "execution_count": 20,
     "metadata": {},
     "output_type": "execute_result"
    }
   ],
   "source": [
    "res2 = df.Grade == ['PhD']*df.shape[0]\n",
    "res2.head()"
   ]
  },
  {
   "cell_type": "code",
   "execution_count": 21,
   "metadata": {},
   "outputs": [
    {
     "data": {
      "text/plain": [
       "0     True\n",
       "1     True\n",
       "2    False\n",
       "3     True\n",
       "4     True\n",
       "Name: Grade, dtype: bool"
      ]
     },
     "execution_count": 21,
     "metadata": {},
     "output_type": "execute_result"
    }
   ],
   "source": [
    "res3 = df.Grade <= 'Sophomore'\n",
    "res3.head()"
   ]
  },
  {
   "cell_type": "code",
   "execution_count": 22,
   "metadata": {},
   "outputs": [
    {
     "data": {
      "text/plain": [
       "0     True\n",
       "1     True\n",
       "2    False\n",
       "3     True\n",
       "4     True\n",
       "Name: Grade, dtype: bool"
      ]
     },
     "execution_count": 22,
     "metadata": {},
     "output_type": "execute_result"
    }
   ],
   "source": [
    "res4 = df.Grade <= df.Grade.sample(frac=1).reset_index(drop=True) # 打乱后比较\n",
    "res4.head()"
   ]
  },
  {
   "cell_type": "markdown",
   "metadata": {},
   "source": [
    "## 3. अंतराल श्रेणी\n",
    "\n",
    "### 1. अंतराल बनाने के लिए कट और क्यूकट का उपयोग करें\n",
    "\n",
    "अंतराल एक विशेष श्रेणी हैं। वास्तविक डेटा विश्लेषण में, अंतराल अनुक्रम अक्सर 'कट' और 'क्यूकट' विधियों का उपयोग करके बनाए जाते हैं। ये दो फ़ंक्शन मूल अनुक्रम की संख्यात्मक विशेषताओं को बिन कर सकते हैं, अर्थात मूल विशिष्ट मानों को प्रतिस्थापित कर सकते हैं अंतराल स्थिति के साथ.\n",
    "\n",
    "सबसे पहले, आइए `कट` के सामान्य उपयोग का परिचय दें:\n",
    "\n",
    "उनमें से, सबसे महत्वपूर्ण पैरामीटर `bins` है। यदि एक पूर्णांक `n` पास किया जाता है, तो यह मुझेउत्तर यह है कि संपूर्ण पारित सरणी को अधिकतम और न्यूनतम मानों के अनुसार समान रिक्ति के साथ `n` खंडों में विभाजित किया गया है, चूंकि अंतराल बाईं ओर खुला है और डिफ़ॉल्ट रूप से दाईं ओर बंद है, इसलिए न्यूनतम मान को समायोजन में शामिल करने की आवश्यकता है `पांडा` में समाधान सबसे छोटे मान के साथ अंतराल के बाएं समापन बिंदु से `0.001*(max-min)` घटाना है, इसलिए, यदि अनुक्रम `[1,2]` को 2 बक्से में विभाजित किया गया है पहले बॉक्स की रेंज `(0.999,1.5]` है, और रेंजदूसरे बॉक्स का `(1.5,2]` है। यदि आपको बाएं समापन और दाएं उद्घाटन को निर्दिष्ट करने की आवश्यकता है, तो आपको `दाएं` पैरामीटर को `गलत` पर सेट करना होगा। संबंधित अंतराल समायोजन विधि `0.001*() को जोड़ना है max-min)` को सबसे बड़े मान के साथ अंतराल के दाएँ समापन बिंदु पर।"
   ]
  },
  {
   "cell_type": "code",
   "execution_count": 23,
   "metadata": {},
   "outputs": [
    {
     "data": {
      "text/plain": [
       "0    (0.999, 1.5]\n",
       "1      (1.5, 2.0]\n",
       "dtype: category\n",
       "Categories (2, interval[float64]): [(0.999, 1.5] < (1.5, 2.0]]"
      ]
     },
     "execution_count": 23,
     "metadata": {},
     "output_type": "execute_result"
    }
   ],
   "source": [
    "s = pd.Series([1,2])\n",
    "pd.cut(s, bins=2)"
   ]
  },
  {
   "cell_type": "code",
   "execution_count": 24,
   "metadata": {},
   "outputs": [
    {
     "data": {
      "text/plain": [
       "0      [1.0, 1.5)\n",
       "1    [1.5, 2.001)\n",
       "dtype: category\n",
       "Categories (2, interval[float64]): [[1.0, 1.5) < [1.5, 2.001)]"
      ]
     },
     "execution_count": 24,
     "metadata": {},
     "output_type": "execute_result"
    }
   ],
   "source": [
    "pd.cut(s, bins=2, right=False)"
   ]
  },
  {
   "cell_type": "markdown",
   "metadata": {},
   "source": [
    "`बिन्स` का एक अन्य सामान्य उपयोग बिन विभाजन बिंदुओं की एक सूची निर्दिष्ट करना है (अनंत का प्रतिनिधित्व करने के लिए `np.infty` का उपयोग करके):"
   ]
  },
  {
   "cell_type": "code",
   "execution_count": 25,
   "metadata": {},
   "outputs": [
    {
     "data": {
      "text/plain": [
       "0    (-inf, 1.2]\n",
       "1     (1.8, 2.2]\n",
       "dtype: category\n",
       "Categories (4, interval[float64]): [(-inf, 1.2] < (1.2, 1.8] < (1.8, 2.2] < (2.2, inf]]"
      ]
     },
     "execution_count": 25,
     "metadata": {},
     "output_type": "execute_result"
    }
   ],
   "source": [
    "pd.cut(s, bins=[-np.infty, 1.2, 1.8, 2.2, np.infty])"
   ]
  },
  {
   "cell_type": "markdown",
   "metadata": {},
   "source": [
    "आमतौर पर उपयोग किए जाने वाले अन्य दो पैरामीटर `लेबल` और `रेटबिन्स` हैं, जो अंतराल के नाम का प्रतिनिधित्व करते हैं और विभाजन बिंदु को वापस करना है या नहीं (डिफ़ॉल्ट रूप से नहीं लौटाया जाता है):"
   ]
  },
  {
   "cell_type": "code",
   "execution_count": 26,
   "metadata": {},
   "outputs": [
    {
     "data": {
      "text/plain": [
       "0    small\n",
       "1      big\n",
       "dtype: category\n",
       "Categories (2, object): ['small' < 'big']"
      ]
     },
     "execution_count": 26,
     "metadata": {},
     "output_type": "execute_result"
    }
   ],
   "source": [
    "s = pd.Series([1,2])\n",
    "res = pd.cut(s, bins=2, labels=['small', 'big'], retbins=True)\n",
    "res[0]"
   ]
  },
  {
   "cell_type": "code",
   "execution_count": 27,
   "metadata": {},
   "outputs": [
    {
     "data": {
      "text/plain": [
       "array([0.999, 1.5  , 2.   ])"
      ]
     },
     "execution_count": 27,
     "metadata": {},
     "output_type": "execute_result"
    }
   ],
   "source": [
    "res[1] # 该元素为返回的分割点"
   ]
  },
  {
   "cell_type": "markdown",
   "metadata": {},
   "source": [
    "उपयोग के संदर्भ में, qcut लगभग कट के समान है, सिवाय इसके कि बिन्स पैरामीटर को q में बदल दिया जाता है। जब q एक पूर्णांक n होता है, तो इसका मतलब है कि डेटा को n समान मात्राओं के अनुसार जोड़ना संबंधित क्वांटाइल विभाजन बिंदुओं को संदर्भित करने के लिए फ़्लोटिंग पॉइंट सूची में भी पास किया जा सकता है।"
   ]
  },
  {
   "cell_type": "code",
   "execution_count": 28,
   "metadata": {},
   "outputs": [
    {
     "data": {
      "text/plain": [
       "0    (33.999, 48.0]\n",
       "1      (55.0, 89.0]\n",
       "2      (55.0, 89.0]\n",
       "3    (33.999, 48.0]\n",
       "4      (55.0, 89.0]\n",
       "Name: Weight, dtype: category\n",
       "Categories (3, interval[float64]): [(33.999, 48.0] < (48.0, 55.0] < (55.0, 89.0]]"
      ]
     },
     "execution_count": 28,
     "metadata": {},
     "output_type": "execute_result"
    }
   ],
   "source": [
    "s = df.Weight\n",
    "pd.qcut(s, q=3).head()"
   ]
  },
  {
   "cell_type": "code",
   "execution_count": 29,
   "metadata": {},
   "outputs": [
    {
     "data": {
      "text/plain": [
       "0      (44.0, 69.4]\n",
       "1      (69.4, 89.0]\n",
       "2      (69.4, 89.0]\n",
       "3    (33.999, 44.0]\n",
       "4      (69.4, 89.0]\n",
       "Name: Weight, dtype: category\n",
       "Categories (3, interval[float64]): [(33.999, 44.0] < (44.0, 69.4] < (69.4, 89.0]]"
      ]
     },
     "execution_count": 29,
     "metadata": {},
     "output_type": "execute_result"
    }
   ],
   "source": [
    "pd.qcut(s, q=[0,0.2,0.8,1]).head()"
   ]
  },
  {
   "cell_type": "markdown",
   "metadata": {},
   "source": [
    "### 2. सामान्य अंतरालों का निर्माण\n",
    "\n",
    "एक विशिष्ट अंतराल के लिए, इसमें तीन तत्व होते हैं, अर्थात् बायां समापन बिंदु, दायां समापन बिंदु, और समापन बिंदु की खुली और बंद स्थिति। खुली और बंद स्थिति को 'दाएं, बाएं, दोनों, न ही' में से एक के रूप में निर्दिष्ट किया जा सकता है।"
   ]
  },
  {
   "cell_type": "code",
   "execution_count": 30,
   "metadata": {},
   "outputs": [
    {
     "data": {
      "text/plain": [
       "Interval(0, 1, closed='right')"
      ]
     },
     "execution_count": 30,
     "metadata": {},
     "output_type": "execute_result"
    }
   ],
   "source": [
    "my_interval = pd.Interval(0, 1, 'right')\n",
    "my_interval"
   ]
  },
  {
   "cell_type": "markdown",
   "metadata": {},
   "source": [
    "इसकी विशेषताओं में 'मध्य, लंबाई, दाएँ, बाएँ, बंद' शामिल हैं, जो क्रमशः मध्यबिंदु, लंबाई, दाएँ समापन बिंदु, बाएँ समापन बिंदु और खुली और बंद स्थिति का प्रतिनिधित्व करते हैं।\n",
    "\n",
    "यह निर्धारित करने के लिए `in` का उपयोग करें कि कोई तत्व किसी अंतराल से संबंधित है या नहीं:"
   ]
  },
  {
   "cell_type": "code",
   "execution_count": 31,
   "metadata": {},
   "outputs": [
    {
     "data": {
      "text/plain": [
       "True"
      ]
     },
     "execution_count": 31,
     "metadata": {},
     "output_type": "execute_result"
    }
   ],
   "source": [
    "0.5 in my_interval"
   ]
  },
  {
   "cell_type": "markdown",
   "metadata": {},
   "source": [
    "यह निर्धारित करने के लिए `ओवरलैप्स` का उपयोग करें कि क्या दो अंतराल प्रतिच्छेद करते हैं:"
   ]
  },
  {
   "cell_type": "code",
   "execution_count": 32,
   "metadata": {},
   "outputs": [
    {
     "data": {
      "text/plain": [
       "True"
      ]
     },
     "execution_count": 32,
     "metadata": {},
     "output_type": "execute_result"
    }
   ],
   "source": [
    "my_interval_2 = pd.Interval(0.5, 1.5, 'left')\n",
    "my_interval.overlaps(my_interval_2)"
   ]
  },
  {
   "cell_type": "markdown",
   "metadata": {},
   "source": [
    "सामान्यतया, `pd.IntervalIndex` ऑब्जेक्ट चार तरीकों से उत्पन्न होते हैं, अर्थात् `from_breaks, from_arrays, from_tuples, इंटरवल_रेंज`, जिनका उपयोग विभिन्न स्थितियों में किया जाता है:\n",
    "\n",
    "`from_breaks` `cut` या `qcut` के समान है, सिवाय इसके कि बाद वाले दो की गणना विभाजन बिंदुओं पर की जाती है, जबकि पहले वाले को सीधे कस्टम विभाजन बिंदुओं में पारित किया जाता है:"
   ]
  },
  {
   "cell_type": "code",
   "execution_count": 33,
   "metadata": {},
   "outputs": [
    {
     "data": {
      "text/plain": [
       "IntervalIndex([[1, 3], [3, 6], [6, 10]],\n",
       "              closed='both',\n",
       "              dtype='interval[int64]')"
      ]
     },
     "execution_count": 33,
     "metadata": {},
     "output_type": "execute_result"
    }
   ],
   "source": [
    "pd.IntervalIndex.from_breaks([1,3,6,10], closed='both')"
   ]
  },
  {
   "cell_type": "markdown",
   "metadata": {},
   "source": [
    "`from_arrays` क्रमशः बाएँ और दाएँ समापन बिंदुओं की एक सूची है, जो तब लागू होती है जब कोई चौराहा होता है और आरंभ और समाप्ति बिंदु ज्ञात होते हैं:"
   ]
  },
  {
   "cell_type": "code",
   "execution_count": 34,
   "metadata": {},
   "outputs": [
    {
     "data": {
      "text/plain": [
       "IntervalIndex([(1, 5), (3, 4), (6, 9), (10, 11)],\n",
       "              closed='neither',\n",
       "              dtype='interval[int64]')"
      ]
     },
     "execution_count": 34,
     "metadata": {},
     "output_type": "execute_result"
    }
   ],
   "source": [
    "pd.IntervalIndex.from_arrays(left = [1,3,6,10], right = [5,4,9,11], closed = 'neither')"
   ]
  },
  {
   "cell_type": "markdown",
   "metadata": {},
   "source": [
    "`from_tuples` को प्रारंभ और अंत टुपल्स की एक सूची दी गई है:"
   ]
  },
  {
   "cell_type": "code",
   "execution_count": 35,
   "metadata": {},
   "outputs": [
    {
     "data": {
      "text/plain": [
       "IntervalIndex([(1, 5), (3, 4), (6, 9), (10, 11)],\n",
       "              closed='neither',\n",
       "              dtype='interval[int64]')"
      ]
     },
     "execution_count": 35,
     "metadata": {},
     "output_type": "execute_result"
    }
   ],
   "source": [
    "pd.IntervalIndex.from_tuples([(1,5),(3,4),(6,9),(10,11)], closed='neither')"
   ]
  },
  {
   "cell_type": "markdown",
   "metadata": {},
   "source": [
    "एक अंकगणितीय अंतराल अनुक्रम प्रारंभिक बिंदु, अंत बिंदु, अंतरालों की संख्या और अंतराल लंबाई द्वारा निर्धारित किया जाता है, जब इनमें से तीन मात्राएँ निर्धारित की जाती हैं, तो शेष मात्रा `interval_range` में `प्रारंभ, अंत, अवधि, आवृत्ति` पैरामीटर निर्धारित की जाती है इन चार मात्राओं के अनुरूप, ताकि संगत अंतराल का निर्माण किया जा सके:"
   ]
  },
  {
   "cell_type": "code",
   "execution_count": 36,
   "metadata": {},
   "outputs": [
    {
     "data": {
      "text/plain": [
       "IntervalIndex([(1.0, 1.5], (1.5, 2.0], (2.0, 2.5], (2.5, 3.0], (3.0, 3.5], (3.5, 4.0], (4.0, 4.5], (4.5, 5.0]],\n",
       "              closed='right',\n",
       "              dtype='interval[float64]')"
      ]
     },
     "execution_count": 36,
     "metadata": {},
     "output_type": "execute_result"
    }
   ],
   "source": [
    "pd.interval_range(start=1,end=5,periods=8)"
   ]
  },
  {
   "cell_type": "code",
   "execution_count": 37,
   "metadata": {},
   "outputs": [
    {
     "data": {
      "text/plain": [
       "IntervalIndex([(1.0, 1.5], (1.5, 2.0], (2.0, 2.5], (2.5, 3.0], (3.0, 3.5], (3.5, 4.0], (4.0, 4.5], (4.5, 5.0]],\n",
       "              closed='right',\n",
       "              dtype='interval[float64]')"
      ]
     },
     "execution_count": 37,
     "metadata": {},
     "output_type": "execute_result"
    }
   ],
   "source": [
    "pd.interval_range(end=5,periods=8,freq=0.5)"
   ]
  },
  {
   "cell_type": "markdown",
   "metadata": {},
   "source": [
    "#### 【अभ्यास】\n",
    "समय श्रृंखला के अगले अध्याय में 'interval_range' और 'date_range' दोनों को संपूर्ण अनुक्रम निर्धारित करने के लिए अंकगणितीय अनुक्रम में चार में से तीन तत्व दिए गए हैं। कृपया पहले पद, अंतिम पद, पदों की संख्या और सामान्य अंतर के बीच संबंध की समीक्षा करें अंकगणितीय अनुक्रम में, और `interval_range` में चार मापदंडों के बीच पहचान संबंध लिखें।\n",
    "#### 【अंत】\n",
    "इसके अलावा, यदि आप सीधे `pd.IntervalIndex([...],closed=...)` का उपयोग करते हैं और पास करते हैंइसे अंतराल सूचकांक में परिवर्तित करने के लिए इसमें `अंतराल` प्रकार की सूची बनाएं, फिर सभी अंतरालों को निर्दिष्ट `बंद` प्रकार में परिवर्तित करने के लिए मजबूर किया जाएगा, क्योंकि `pd.IntervalIndex` केवल `अंतराल` वस्तुओं के भंडारण की अनुमति देता है समान खुले और बंद अंतराल।"
   ]
  },
  {
   "cell_type": "code",
   "execution_count": 38,
   "metadata": {},
   "outputs": [
    {
     "data": {
      "text/plain": [
       "Interval(0, 1, closed='right')"
      ]
     },
     "execution_count": 38,
     "metadata": {},
     "output_type": "execute_result"
    }
   ],
   "source": [
    "my_interval"
   ]
  },
  {
   "cell_type": "code",
   "execution_count": 39,
   "metadata": {},
   "outputs": [
    {
     "data": {
      "text/plain": [
       "Interval(0.5, 1.5, closed='left')"
      ]
     },
     "execution_count": 39,
     "metadata": {},
     "output_type": "execute_result"
    }
   ],
   "source": [
    "my_interval_2"
   ]
  },
  {
   "cell_type": "code",
   "execution_count": 40,
   "metadata": {},
   "outputs": [
    {
     "data": {
      "text/plain": [
       "IntervalIndex([[0.0, 1.0), [0.5, 1.5)],\n",
       "              closed='left',\n",
       "              dtype='interval[float64]')"
      ]
     },
     "execution_count": 40,
     "metadata": {},
     "output_type": "execute_result"
    }
   ],
   "source": [
    "pd.IntervalIndex([my_interval, my_interval_2], closed='left')"
   ]
  },
  {
   "cell_type": "markdown",
   "metadata": {},
   "source": [
    "### 3. अंतराल गुण और विधियाँ\n",
    "\n",
    "`IntervalIndex` कुछ उपयोगी गुणों और विधियों को भी परिभाषित करता है, साथ ही, यदि आप विश्लेषण के लिए `cut` या `qcut` के परिणामों का उपयोग करना चाहते हैं, तो आपको पहले इसे इस सूचकांक प्रकार में परिवर्तित करना होगा:"
   ]
  },
  {
   "cell_type": "code",
   "execution_count": 41,
   "metadata": {},
   "outputs": [
    {
     "data": {
      "text/plain": [
       "IntervalIndex([(33.945, 52.333], (52.333, 70.667], (70.667, 89.0]],\n",
       "              closed='right',\n",
       "              name='Weight',\n",
       "              dtype='interval[float64]')"
      ]
     },
     "execution_count": 41,
     "metadata": {},
     "output_type": "execute_result"
    }
   ],
   "source": [
    "id_interval = pd.IntervalIndex(pd.cut(s, 3))\n",
    "id_interval[:3]"
   ]
  },
  {
   "cell_type": "markdown",
   "metadata": {},
   "source": [
    "एकल `अंतराल` प्रकार के समान, `इंटरवलइंडेक्स` में कई सामान्य गुण हैं: `बाएं, दाएं, मध्य, लंबाई`, जो क्रमशः बाएं और दाएं समापन बिंदु, दो समापन बिंदुओं का माध्य और अंतराल की लंबाई का प्रतिनिधित्व करते हैं।"
   ]
  },
  {
   "cell_type": "code",
   "execution_count": 42,
   "metadata": {},
   "outputs": [
    {
     "data": {
      "text/plain": [
       "IntervalIndex([(33.945, 52.333], (52.333, 70.667], (70.667, 89.0], (33.945, 52.333], (70.667, 89.0]],\n",
       "              closed='right',\n",
       "              name='Weight',\n",
       "              dtype='interval[float64]')"
      ]
     },
     "execution_count": 42,
     "metadata": {},
     "output_type": "execute_result"
    }
   ],
   "source": [
    "id_demo = id_interval[:5] # 选出前5个展示\n",
    "id_demo"
   ]
  },
  {
   "cell_type": "code",
   "execution_count": 43,
   "metadata": {},
   "outputs": [
    {
     "data": {
      "text/plain": [
       "Float64Index([33.945, 52.333, 70.667, 33.945, 70.667], dtype='float64')"
      ]
     },
     "execution_count": 43,
     "metadata": {},
     "output_type": "execute_result"
    }
   ],
   "source": [
    "id_demo.left"
   ]
  },
  {
   "cell_type": "code",
   "execution_count": 44,
   "metadata": {},
   "outputs": [
    {
     "data": {
      "text/plain": [
       "Float64Index([52.333, 70.667, 89.0, 52.333, 89.0], dtype='float64')"
      ]
     },
     "execution_count": 44,
     "metadata": {},
     "output_type": "execute_result"
    }
   ],
   "source": [
    "id_demo.right"
   ]
  },
  {
   "cell_type": "code",
   "execution_count": 45,
   "metadata": {},
   "outputs": [
    {
     "data": {
      "text/plain": [
       "Float64Index([43.138999999999996, 61.5, 79.8335, 43.138999999999996, 79.8335], dtype='float64')"
      ]
     },
     "execution_count": 45,
     "metadata": {},
     "output_type": "execute_result"
    }
   ],
   "source": [
    "id_demo.mid"
   ]
  },
  {
   "cell_type": "code",
   "execution_count": 46,
   "metadata": {},
   "outputs": [
    {
     "data": {
      "text/plain": [
       "Float64Index([18.387999999999998, 18.334000000000003, 18.333,\n",
       "              18.387999999999998, 18.333],\n",
       "             dtype='float64')"
      ]
     },
     "execution_count": 46,
     "metadata": {},
     "output_type": "execute_result"
    }
   ],
   "source": [
    "id_demo.length"
   ]
  },
  {
   "cell_type": "markdown",
   "metadata": {},
   "source": [
    "`इंटरवलइंडेक्स` में आमतौर पर इस्तेमाल की जाने वाली दो विधियाँ भी हैं, जिनमें `contains` और `overlaps` शामिल हैं, जो क्रमशः यह निर्धारित करने के लिए संदर्भित करती हैं कि क्या प्रत्येक अंतराल में एक-एक करके एक तत्व होता है और क्या यह `pd.Interval` ऑब्जेक्ट के साथ प्रतिच्छेद करता है।"
   ]
  },
  {
   "cell_type": "code",
   "execution_count": 47,
   "metadata": {},
   "outputs": [
    {
     "data": {
      "text/plain": [
       "array([False, False, False, False, False])"
      ]
     },
     "execution_count": 47,
     "metadata": {},
     "output_type": "execute_result"
    }
   ],
   "source": [
    "id_demo.contains(4)"
   ]
  },
  {
   "cell_type": "code",
   "execution_count": 48,
   "metadata": {},
   "outputs": [
    {
     "data": {
      "text/plain": [
       "array([ True,  True, False,  True, False])"
      ]
     },
     "execution_count": 48,
     "metadata": {},
     "output_type": "execute_result"
    }
   ],
   "source": [
    "id_demo.overlaps(pd.Interval(40,60))"
   ]
  },
  {
   "cell_type": "markdown",
   "metadata": {},
   "source": [
    "##4. व्यायाम\n",
    "### Ex1: दिखाई न देने वाली श्रेणियों की गणना करना\n",
    "\n",
    "अध्याय 5 में, हमने `क्रॉसस्टैब` फ़ंक्शन पेश किया, जो डिफ़ॉल्ट मापदंडों के तहत दो स्तंभों के संयोजन की आवृत्ति को सारांशित कर सकता है:"
   ]
  },
  {
   "cell_type": "code",
   "execution_count": 49,
   "metadata": {},
   "outputs": [
    {
     "data": {
      "text/html": [
       "<div>\n",
       "<style scoped>\n",
       "    .dataframe tbody tr th:only-of-type {\n",
       "        vertical-align: middle;\n",
       "    }\n",
       "\n",
       "    .dataframe tbody tr th {\n",
       "        vertical-align: top;\n",
       "    }\n",
       "\n",
       "    .dataframe thead th {\n",
       "        text-align: right;\n",
       "    }\n",
       "</style>\n",
       "<table border=\"1\" class=\"dataframe\">\n",
       "  <thead>\n",
       "    <tr style=\"text-align: right;\">\n",
       "      <th>B</th>\n",
       "      <th>cat</th>\n",
       "      <th>dog</th>\n",
       "    </tr>\n",
       "    <tr>\n",
       "      <th>A</th>\n",
       "      <th></th>\n",
       "      <th></th>\n",
       "    </tr>\n",
       "  </thead>\n",
       "  <tbody>\n",
       "    <tr>\n",
       "      <th>a</th>\n",
       "      <td>2</td>\n",
       "      <td>0</td>\n",
       "    </tr>\n",
       "    <tr>\n",
       "      <th>b</th>\n",
       "      <td>1</td>\n",
       "      <td>0</td>\n",
       "    </tr>\n",
       "    <tr>\n",
       "      <th>c</th>\n",
       "      <td>0</td>\n",
       "      <td>1</td>\n",
       "    </tr>\n",
       "  </tbody>\n",
       "</table>\n",
       "</div>"
      ],
      "text/plain": [
       "B  cat  dog\n",
       "A          \n",
       "a    2    0\n",
       "b    1    0\n",
       "c    0    1"
      ]
     },
     "execution_count": 49,
     "metadata": {},
     "output_type": "execute_result"
    }
   ],
   "source": [
    "df = pd.DataFrame({'A':['a','b','c','a'], 'B':['cat','cat','dog','cat']})\n",
    "pd.crosstab(df.A, df.B)"
   ]
  },
  {
   "cell_type": "markdown",
   "metadata": {},
   "source": [
    "लेकिन वास्तव में, कुछ कॉलम श्रेणीगत चर संग्रहीत करते हैं, जिनमें आवश्यक रूप से सभी श्रेणियां शामिल नहीं होती हैं। यदि आप इन श्रेणियों को संक्षेप में प्रस्तुत करना चाहते हैं जो 'क्रॉसटैब' परिणाम में दिखाई नहीं देते हैं, तो आप 'ड्रॉपना' पैरामीटर को 'गलत' पर निर्दिष्ट कर सकते हैं:"
   ]
  },
  {
   "cell_type": "code",
   "execution_count": 50,
   "metadata": {},
   "outputs": [
    {
     "data": {
      "text/html": [
       "<div>\n",
       "<style scoped>\n",
       "    .dataframe tbody tr th:only-of-type {\n",
       "        vertical-align: middle;\n",
       "    }\n",
       "\n",
       "    .dataframe tbody tr th {\n",
       "        vertical-align: top;\n",
       "    }\n",
       "\n",
       "    .dataframe thead th {\n",
       "        text-align: right;\n",
       "    }\n",
       "</style>\n",
       "<table border=\"1\" class=\"dataframe\">\n",
       "  <thead>\n",
       "    <tr style=\"text-align: right;\">\n",
       "      <th>B</th>\n",
       "      <th>cat</th>\n",
       "      <th>dog</th>\n",
       "      <th>sheep</th>\n",
       "    </tr>\n",
       "    <tr>\n",
       "      <th>A</th>\n",
       "      <th></th>\n",
       "      <th></th>\n",
       "      <th></th>\n",
       "    </tr>\n",
       "  </thead>\n",
       "  <tbody>\n",
       "    <tr>\n",
       "      <th>a</th>\n",
       "      <td>2</td>\n",
       "      <td>0</td>\n",
       "      <td>0</td>\n",
       "    </tr>\n",
       "    <tr>\n",
       "      <th>b</th>\n",
       "      <td>1</td>\n",
       "      <td>0</td>\n",
       "      <td>0</td>\n",
       "    </tr>\n",
       "    <tr>\n",
       "      <th>c</th>\n",
       "      <td>0</td>\n",
       "      <td>1</td>\n",
       "      <td>0</td>\n",
       "    </tr>\n",
       "  </tbody>\n",
       "</table>\n",
       "</div>"
      ],
      "text/plain": [
       "B  cat  dog  sheep\n",
       "A                 \n",
       "a    2    0      0\n",
       "b    1    0      0\n",
       "c    0    1      0"
      ]
     },
     "execution_count": 50,
     "metadata": {},
     "output_type": "execute_result"
    }
   ],
   "source": [
    "df.B = df.B.astype('category').cat.add_categories('sheep')\n",
    "pd.crosstab(df.A, df.B, dropna=False)"
   ]
  },
  {
   "cell_type": "markdown",
   "metadata": {},
   "source": [
    "उपरोक्त फ़ंक्शन को पूरा करने के लिए कृपया `dropna` पैरामीटर के साथ `my_crosstab` फ़ंक्शन लागू करें।\n",
    "\n",
    "### Ex2: डायमंड डेटासेट\n",
    "\n",
    "हीरे के बारे में एक डेटासेट है, जहां 'कैरेट, कट, स्पष्टता, कीमत' क्रमशः कैरेट वजन, कट गुणवत्ता, स्पष्टता और कीमत का प्रतिनिधित्व करती है। नमूना इस प्रकार है:"
   ]
  },
  {
   "cell_type": "code",
   "execution_count": 51,
   "metadata": {},
   "outputs": [
    {
     "data": {
      "text/html": [
       "<div>\n",
       "<style scoped>\n",
       "    .dataframe tbody tr th:only-of-type {\n",
       "        vertical-align: middle;\n",
       "    }\n",
       "\n",
       "    .dataframe tbody tr th {\n",
       "        vertical-align: top;\n",
       "    }\n",
       "\n",
       "    .dataframe thead th {\n",
       "        text-align: right;\n",
       "    }\n",
       "</style>\n",
       "<table border=\"1\" class=\"dataframe\">\n",
       "  <thead>\n",
       "    <tr style=\"text-align: right;\">\n",
       "      <th></th>\n",
       "      <th>carat</th>\n",
       "      <th>cut</th>\n",
       "      <th>clarity</th>\n",
       "      <th>price</th>\n",
       "    </tr>\n",
       "  </thead>\n",
       "  <tbody>\n",
       "    <tr>\n",
       "      <th>0</th>\n",
       "      <td>0.23</td>\n",
       "      <td>Ideal</td>\n",
       "      <td>SI2</td>\n",
       "      <td>326</td>\n",
       "    </tr>\n",
       "    <tr>\n",
       "      <th>1</th>\n",
       "      <td>0.21</td>\n",
       "      <td>Premium</td>\n",
       "      <td>SI1</td>\n",
       "      <td>326</td>\n",
       "    </tr>\n",
       "    <tr>\n",
       "      <th>2</th>\n",
       "      <td>0.23</td>\n",
       "      <td>Good</td>\n",
       "      <td>VS1</td>\n",
       "      <td>327</td>\n",
       "    </tr>\n",
       "  </tbody>\n",
       "</table>\n",
       "</div>"
      ],
      "text/plain": [
       "   carat      cut clarity  price\n",
       "0   0.23    Ideal     SI2    326\n",
       "1   0.21  Premium     SI1    326\n",
       "2   0.23     Good     VS1    327"
      ]
     },
     "execution_count": 51,
     "metadata": {},
     "output_type": "execute_result"
    }
   ],
   "source": [
    "df = pd.read_csv('../data/diamonds.csv') \n",
    "df.head(3)"
   ]
  },
  {
   "cell_type": "markdown",
   "metadata": {},
   "source": [
    "1. क्रमशः `ऑब्जेक्ट` प्रकार और `श्रेणी` प्रकार में `df.cut` पर `nunique` फ़ंक्शन का उपयोग करें, और उनके प्रदर्शन की तुलना करें।\n",
    "2. डायमंड कट गुणवत्ता को निम्न से उच्च तक पांच स्तरों में विभाजित किया जा सकता है, अर्थात् 'उचित, अच्छा, बहुत अच्छा, प्रीमियम, आदर्श', और स्पष्टता के आठ स्तर हैं, निम्न से उच्च तक, अर्थात् 'I1, SI2, SI1, VS2, VS1, VVS2, VVS1, IF`। कृपया कट गुणवत्ता को **अच्छी से निम्न** के क्रम में क्रमबद्ध करें। समान गुणवत्ता वाले हीरे को **निम्न से उच्च** के क्रम में क्रमबद्ध किया जाना चाहिएस्पष्टता के लिए.\n",
    "3. दो कॉलम 'कट, स्पष्टता' को **अच्छे से कम** के क्रम में 0 से n-1 तक पूर्णांकों में मैप करने के लिए दो अलग-अलग तरीकों का उपयोग करें, जहां n श्रेणियों की संख्या का प्रतिनिधित्व करता है।\n",
    "4. पांच श्रेणियां 'बहुत कम, कम' प्राप्त करने के लिए मात्रा (q=\\[0.2, 0.4, 0.6, 0.8\\]) और \\[1000, 3500, 5500, 18000\\] कट पॉइंट के अनुसार प्रति कैरेट मूल्य बिन करें , मध्य, उच्च, बहुत उच्च`, और इन दो बिनिंग विधियों द्वारा प्राप्त `श्रेणी` अनुक्रमों को क्रम में मूल तालिका में जोड़ें।\n",
    "5.प्रश्न 4 में, क्या सभी श्रेणियां पूर्णांक बिनिंग द्वारा प्राप्त अनुक्रम में दिखाई देती हैं? यदि हैं तो कृपया उस श्रेणी को हटा दें जो दिखाई नहीं देती है।\n",
    "6. प्रश्न 4 में मात्राओं के अनुसार बिनिंग द्वारा प्राप्त अनुक्रम के लिए, प्रत्येक नमूने के अनुरूप अंतराल के बाएँ और दाएँ समापन बिंदु मान और लंबाई ज्ञात करें।"
   ]
  }
 ],
 "metadata": {
  "kernelspec": {
   "display_name": "Python 3",
   "language": "python",
   "name": "python3"
  },
  "language_info": {
   "codemirror_mode": {
    "name": "ipython",
    "version": 3
   },
   "file_extension": ".py",
   "mimetype": "text/x-python",
   "name": "python",
   "nbconvert_exporter": "python",
   "pygments_lexer": "ipython3",
   "version": "3.7.9-final"
  }
 },
 "nbformat": 4,
 "nbformat_minor": 2
}
