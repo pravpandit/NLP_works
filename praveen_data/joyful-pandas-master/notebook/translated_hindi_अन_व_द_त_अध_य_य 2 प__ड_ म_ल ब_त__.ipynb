{
 "cells": [
  {
   "cell_type": "markdown",
   "metadata": {},
   "source": [
    "<केंद्र><h1>अध्याय 2 पांडा मूल बातें</h1></केंद्र>"
   ]
  },
  {
   "cell_type": "code",
   "execution_count": 1,
   "metadata": {},
   "outputs": [],
   "source": [
    "import numpy as np\n",
    "import pandas as pd"
   ]
  },
  {
   "cell_type": "markdown",
   "metadata": {},
   "source": [
    "सीखना शुरू करने से पहले, कृपया सुनिश्चित करें कि `पांडा` की संस्करण संख्या नीचे दिखाए गए संस्करण से कम नहीं है, अन्यथा अपग्रेड करना सुनिश्चित करें। कृपया सुनिश्चित करें कि तीन पैकेज `xlrd, xlwt, openpyxl` स्थापित किए गए हैं, और! `xlrd` का संस्करण `2.0.0` से अधिक नहीं होना चाहिए।"
   ]
  },
  {
   "cell_type": "code",
   "execution_count": 2,
   "metadata": {},
   "outputs": [
    {
     "data": {
      "text/plain": [
       "'1.1.5'"
      ]
     },
     "execution_count": 2,
     "metadata": {},
     "output_type": "execute_result"
    }
   ],
   "source": [
    "pd.__version__"
   ]
  },
  {
   "cell_type": "markdown",
   "metadata": {},
   "source": [
    "## 1. फ़ाइलें पढ़ना और लिखना\n",
    "### 1. फ़ाइलें पढ़ना"
   ]
  },
  {
   "cell_type": "markdown",
   "metadata": {},
   "source": [
    "ऐसे कई फ़ाइल प्रारूप हैं जिन्हें `पांडा` पढ़ सकते हैं। यहां हम मुख्य रूप से `सीएसवी, एक्सेल, txt` फ़ाइलों को पढ़ने का परिचय देते हैं।"
   ]
  },
  {
   "cell_type": "code",
   "execution_count": 3,
   "metadata": {},
   "outputs": [
    {
     "data": {
      "text/html": [
       "<div>\n",
       "<style scoped>\n",
       "    .dataframe tbody tr th:only-of-type {\n",
       "        vertical-align: middle;\n",
       "    }\n",
       "\n",
       "    .dataframe tbody tr th {\n",
       "        vertical-align: top;\n",
       "    }\n",
       "\n",
       "    .dataframe thead th {\n",
       "        text-align: right;\n",
       "    }\n",
       "</style>\n",
       "<table border=\"1\" class=\"dataframe\">\n",
       "  <thead>\n",
       "    <tr style=\"text-align: right;\">\n",
       "      <th></th>\n",
       "      <th>col1</th>\n",
       "      <th>col2</th>\n",
       "      <th>col3</th>\n",
       "      <th>col4</th>\n",
       "      <th>col5</th>\n",
       "    </tr>\n",
       "  </thead>\n",
       "  <tbody>\n",
       "    <tr>\n",
       "      <th>0</th>\n",
       "      <td>2</td>\n",
       "      <td>a</td>\n",
       "      <td>1.4</td>\n",
       "      <td>apple</td>\n",
       "      <td>2020/1/1</td>\n",
       "    </tr>\n",
       "    <tr>\n",
       "      <th>1</th>\n",
       "      <td>3</td>\n",
       "      <td>b</td>\n",
       "      <td>3.4</td>\n",
       "      <td>banana</td>\n",
       "      <td>2020/1/2</td>\n",
       "    </tr>\n",
       "    <tr>\n",
       "      <th>2</th>\n",
       "      <td>6</td>\n",
       "      <td>c</td>\n",
       "      <td>2.5</td>\n",
       "      <td>orange</td>\n",
       "      <td>2020/1/5</td>\n",
       "    </tr>\n",
       "    <tr>\n",
       "      <th>3</th>\n",
       "      <td>5</td>\n",
       "      <td>d</td>\n",
       "      <td>3.2</td>\n",
       "      <td>lemon</td>\n",
       "      <td>2020/1/7</td>\n",
       "    </tr>\n",
       "  </tbody>\n",
       "</table>\n",
       "</div>"
      ],
      "text/plain": [
       "   col1 col2  col3    col4      col5\n",
       "0     2    a   1.4   apple  2020/1/1\n",
       "1     3    b   3.4  banana  2020/1/2\n",
       "2     6    c   2.5  orange  2020/1/5\n",
       "3     5    d   3.2   lemon  2020/1/7"
      ]
     },
     "execution_count": 3,
     "metadata": {},
     "output_type": "execute_result"
    }
   ],
   "source": [
    "df_csv = pd.read_csv('../data/my_csv.csv')\n",
    "df_csv"
   ]
  },
  {
   "cell_type": "code",
   "execution_count": 4,
   "metadata": {},
   "outputs": [
    {
     "data": {
      "text/html": [
       "<div>\n",
       "<style scoped>\n",
       "    .dataframe tbody tr th:only-of-type {\n",
       "        vertical-align: middle;\n",
       "    }\n",
       "\n",
       "    .dataframe tbody tr th {\n",
       "        vertical-align: top;\n",
       "    }\n",
       "\n",
       "    .dataframe thead th {\n",
       "        text-align: right;\n",
       "    }\n",
       "</style>\n",
       "<table border=\"1\" class=\"dataframe\">\n",
       "  <thead>\n",
       "    <tr style=\"text-align: right;\">\n",
       "      <th></th>\n",
       "      <th>col1</th>\n",
       "      <th>col2</th>\n",
       "      <th>col3</th>\n",
       "      <th>col4</th>\n",
       "    </tr>\n",
       "  </thead>\n",
       "  <tbody>\n",
       "    <tr>\n",
       "      <th>0</th>\n",
       "      <td>2</td>\n",
       "      <td>a</td>\n",
       "      <td>1.4</td>\n",
       "      <td>apple 2020/1/1</td>\n",
       "    </tr>\n",
       "    <tr>\n",
       "      <th>1</th>\n",
       "      <td>3</td>\n",
       "      <td>b</td>\n",
       "      <td>3.4</td>\n",
       "      <td>banana 2020/1/2</td>\n",
       "    </tr>\n",
       "    <tr>\n",
       "      <th>2</th>\n",
       "      <td>6</td>\n",
       "      <td>c</td>\n",
       "      <td>2.5</td>\n",
       "      <td>orange 2020/1/5</td>\n",
       "    </tr>\n",
       "    <tr>\n",
       "      <th>3</th>\n",
       "      <td>5</td>\n",
       "      <td>d</td>\n",
       "      <td>3.2</td>\n",
       "      <td>lemon 2020/1/7</td>\n",
       "    </tr>\n",
       "  </tbody>\n",
       "</table>\n",
       "</div>"
      ],
      "text/plain": [
       "   col1 col2  col3             col4\n",
       "0     2    a   1.4   apple 2020/1/1\n",
       "1     3    b   3.4  banana 2020/1/2\n",
       "2     6    c   2.5  orange 2020/1/5\n",
       "3     5    d   3.2   lemon 2020/1/7"
      ]
     },
     "execution_count": 4,
     "metadata": {},
     "output_type": "execute_result"
    }
   ],
   "source": [
    "df_txt = pd.read_table('../data/my_table.txt')\n",
    "df_txt"
   ]
  },
  {
   "cell_type": "code",
   "execution_count": 5,
   "metadata": {},
   "outputs": [
    {
     "data": {
      "text/html": [
       "<div>\n",
       "<style scoped>\n",
       "    .dataframe tbody tr th:only-of-type {\n",
       "        vertical-align: middle;\n",
       "    }\n",
       "\n",
       "    .dataframe tbody tr th {\n",
       "        vertical-align: top;\n",
       "    }\n",
       "\n",
       "    .dataframe thead th {\n",
       "        text-align: right;\n",
       "    }\n",
       "</style>\n",
       "<table border=\"1\" class=\"dataframe\">\n",
       "  <thead>\n",
       "    <tr style=\"text-align: right;\">\n",
       "      <th></th>\n",
       "      <th>col1</th>\n",
       "      <th>col2</th>\n",
       "      <th>col3</th>\n",
       "      <th>col4</th>\n",
       "      <th>col5</th>\n",
       "    </tr>\n",
       "  </thead>\n",
       "  <tbody>\n",
       "    <tr>\n",
       "      <th>0</th>\n",
       "      <td>2</td>\n",
       "      <td>a</td>\n",
       "      <td>1.4</td>\n",
       "      <td>apple</td>\n",
       "      <td>2020/1/1</td>\n",
       "    </tr>\n",
       "    <tr>\n",
       "      <th>1</th>\n",
       "      <td>3</td>\n",
       "      <td>b</td>\n",
       "      <td>3.4</td>\n",
       "      <td>banana</td>\n",
       "      <td>2020/1/2</td>\n",
       "    </tr>\n",
       "    <tr>\n",
       "      <th>2</th>\n",
       "      <td>6</td>\n",
       "      <td>c</td>\n",
       "      <td>2.5</td>\n",
       "      <td>orange</td>\n",
       "      <td>2020/1/5</td>\n",
       "    </tr>\n",
       "    <tr>\n",
       "      <th>3</th>\n",
       "      <td>5</td>\n",
       "      <td>d</td>\n",
       "      <td>3.2</td>\n",
       "      <td>lemon</td>\n",
       "      <td>2020/1/7</td>\n",
       "    </tr>\n",
       "  </tbody>\n",
       "</table>\n",
       "</div>"
      ],
      "text/plain": [
       "   col1 col2  col3    col4      col5\n",
       "0     2    a   1.4   apple  2020/1/1\n",
       "1     3    b   3.4  banana  2020/1/2\n",
       "2     6    c   2.5  orange  2020/1/5\n",
       "3     5    d   3.2   lemon  2020/1/7"
      ]
     },
     "execution_count": 5,
     "metadata": {},
     "output_type": "execute_result"
    }
   ],
   "source": [
    "df_excel = pd.read_excel('../data/my_excel.xlsx')\n",
    "df_excel"
   ]
  },
  {
   "cell_type": "markdown",
   "metadata": {},
   "source": [
    "यहां आमतौर पर उपयोग किए जाने वाले कुछ सार्वजनिक पैरामीटर हैं, `हेडर=कोई नहीं` का अर्थ है कि पहली पंक्ति का उपयोग कॉलम नाम के रूप में नहीं किया जाता है, `index_col` का अर्थ है कि एक या अधिक कॉलम को इंडेक्स के रूप में उपयोग किया जाता है, और इंडेक्स की सामग्री अध्याय में विस्तृत होगी 3, `usecols` का अर्थ है स्तंभों का एक सेट पढ़ना, और सभी स्तंभ डिफ़ॉल्ट रूप से पढ़े जाते हैं, `parse_dates` का अर्थ है वे स्तंभ जिन्हें समय में परिवर्तित करने की आवश्यकता है, और समय श्रृंखला के बारे में प्रासंगिक सामग्री को अध्याय 10 में समझाया जाएगा, और ` nrows' का अर्थ है डेटा की संख्यापंक्तियाँ पढ़ें। उपरोक्त पैरामीटर का उपयोग उपरोक्त तीन कार्यों में किया जा सकता है।"
   ]
  },
  {
   "cell_type": "code",
   "execution_count": 6,
   "metadata": {},
   "outputs": [
    {
     "data": {
      "text/html": [
       "<div>\n",
       "<style scoped>\n",
       "    .dataframe tbody tr th:only-of-type {\n",
       "        vertical-align: middle;\n",
       "    }\n",
       "\n",
       "    .dataframe tbody tr th {\n",
       "        vertical-align: top;\n",
       "    }\n",
       "\n",
       "    .dataframe thead th {\n",
       "        text-align: right;\n",
       "    }\n",
       "</style>\n",
       "<table border=\"1\" class=\"dataframe\">\n",
       "  <thead>\n",
       "    <tr style=\"text-align: right;\">\n",
       "      <th></th>\n",
       "      <th>0</th>\n",
       "      <th>1</th>\n",
       "      <th>2</th>\n",
       "      <th>3</th>\n",
       "    </tr>\n",
       "  </thead>\n",
       "  <tbody>\n",
       "    <tr>\n",
       "      <th>0</th>\n",
       "      <td>col1</td>\n",
       "      <td>col2</td>\n",
       "      <td>col3</td>\n",
       "      <td>col4</td>\n",
       "    </tr>\n",
       "    <tr>\n",
       "      <th>1</th>\n",
       "      <td>2</td>\n",
       "      <td>a</td>\n",
       "      <td>1.4</td>\n",
       "      <td>apple 2020/1/1</td>\n",
       "    </tr>\n",
       "    <tr>\n",
       "      <th>2</th>\n",
       "      <td>3</td>\n",
       "      <td>b</td>\n",
       "      <td>3.4</td>\n",
       "      <td>banana 2020/1/2</td>\n",
       "    </tr>\n",
       "    <tr>\n",
       "      <th>3</th>\n",
       "      <td>6</td>\n",
       "      <td>c</td>\n",
       "      <td>2.5</td>\n",
       "      <td>orange 2020/1/5</td>\n",
       "    </tr>\n",
       "    <tr>\n",
       "      <th>4</th>\n",
       "      <td>5</td>\n",
       "      <td>d</td>\n",
       "      <td>3.2</td>\n",
       "      <td>lemon 2020/1/7</td>\n",
       "    </tr>\n",
       "  </tbody>\n",
       "</table>\n",
       "</div>"
      ],
      "text/plain": [
       "      0     1     2                3\n",
       "0  col1  col2  col3             col4\n",
       "1     2     a   1.4   apple 2020/1/1\n",
       "2     3     b   3.4  banana 2020/1/2\n",
       "3     6     c   2.5  orange 2020/1/5\n",
       "4     5     d   3.2   lemon 2020/1/7"
      ]
     },
     "execution_count": 6,
     "metadata": {},
     "output_type": "execute_result"
    }
   ],
   "source": [
    "pd.read_table('../data/my_table.txt', header=None)"
   ]
  },
  {
   "cell_type": "code",
   "execution_count": 7,
   "metadata": {},
   "outputs": [
    {
     "data": {
      "text/html": [
       "<div>\n",
       "<style scoped>\n",
       "    .dataframe tbody tr th:only-of-type {\n",
       "        vertical-align: middle;\n",
       "    }\n",
       "\n",
       "    .dataframe tbody tr th {\n",
       "        vertical-align: top;\n",
       "    }\n",
       "\n",
       "    .dataframe thead th {\n",
       "        text-align: right;\n",
       "    }\n",
       "</style>\n",
       "<table border=\"1\" class=\"dataframe\">\n",
       "  <thead>\n",
       "    <tr style=\"text-align: right;\">\n",
       "      <th></th>\n",
       "      <th></th>\n",
       "      <th>col3</th>\n",
       "      <th>col4</th>\n",
       "      <th>col5</th>\n",
       "    </tr>\n",
       "    <tr>\n",
       "      <th>col1</th>\n",
       "      <th>col2</th>\n",
       "      <th></th>\n",
       "      <th></th>\n",
       "      <th></th>\n",
       "    </tr>\n",
       "  </thead>\n",
       "  <tbody>\n",
       "    <tr>\n",
       "      <th>2</th>\n",
       "      <th>a</th>\n",
       "      <td>1.4</td>\n",
       "      <td>apple</td>\n",
       "      <td>2020/1/1</td>\n",
       "    </tr>\n",
       "    <tr>\n",
       "      <th>3</th>\n",
       "      <th>b</th>\n",
       "      <td>3.4</td>\n",
       "      <td>banana</td>\n",
       "      <td>2020/1/2</td>\n",
       "    </tr>\n",
       "    <tr>\n",
       "      <th>6</th>\n",
       "      <th>c</th>\n",
       "      <td>2.5</td>\n",
       "      <td>orange</td>\n",
       "      <td>2020/1/5</td>\n",
       "    </tr>\n",
       "    <tr>\n",
       "      <th>5</th>\n",
       "      <th>d</th>\n",
       "      <td>3.2</td>\n",
       "      <td>lemon</td>\n",
       "      <td>2020/1/7</td>\n",
       "    </tr>\n",
       "  </tbody>\n",
       "</table>\n",
       "</div>"
      ],
      "text/plain": [
       "           col3    col4      col5\n",
       "col1 col2                        \n",
       "2    a      1.4   apple  2020/1/1\n",
       "3    b      3.4  banana  2020/1/2\n",
       "6    c      2.5  orange  2020/1/5\n",
       "5    d      3.2   lemon  2020/1/7"
      ]
     },
     "execution_count": 7,
     "metadata": {},
     "output_type": "execute_result"
    }
   ],
   "source": [
    "pd.read_csv('../data/my_csv.csv', index_col=['col1', 'col2'])"
   ]
  },
  {
   "cell_type": "code",
   "execution_count": 8,
   "metadata": {},
   "outputs": [
    {
     "data": {
      "text/html": [
       "<div>\n",
       "<style scoped>\n",
       "    .dataframe tbody tr th:only-of-type {\n",
       "        vertical-align: middle;\n",
       "    }\n",
       "\n",
       "    .dataframe tbody tr th {\n",
       "        vertical-align: top;\n",
       "    }\n",
       "\n",
       "    .dataframe thead th {\n",
       "        text-align: right;\n",
       "    }\n",
       "</style>\n",
       "<table border=\"1\" class=\"dataframe\">\n",
       "  <thead>\n",
       "    <tr style=\"text-align: right;\">\n",
       "      <th></th>\n",
       "      <th>col1</th>\n",
       "      <th>col2</th>\n",
       "    </tr>\n",
       "  </thead>\n",
       "  <tbody>\n",
       "    <tr>\n",
       "      <th>0</th>\n",
       "      <td>2</td>\n",
       "      <td>a</td>\n",
       "    </tr>\n",
       "    <tr>\n",
       "      <th>1</th>\n",
       "      <td>3</td>\n",
       "      <td>b</td>\n",
       "    </tr>\n",
       "    <tr>\n",
       "      <th>2</th>\n",
       "      <td>6</td>\n",
       "      <td>c</td>\n",
       "    </tr>\n",
       "    <tr>\n",
       "      <th>3</th>\n",
       "      <td>5</td>\n",
       "      <td>d</td>\n",
       "    </tr>\n",
       "  </tbody>\n",
       "</table>\n",
       "</div>"
      ],
      "text/plain": [
       "   col1 col2\n",
       "0     2    a\n",
       "1     3    b\n",
       "2     6    c\n",
       "3     5    d"
      ]
     },
     "execution_count": 8,
     "metadata": {},
     "output_type": "execute_result"
    }
   ],
   "source": [
    "pd.read_table('../data/my_table.txt', usecols=['col1', 'col2'])"
   ]
  },
  {
   "cell_type": "code",
   "execution_count": 9,
   "metadata": {},
   "outputs": [
    {
     "data": {
      "text/html": [
       "<div>\n",
       "<style scoped>\n",
       "    .dataframe tbody tr th:only-of-type {\n",
       "        vertical-align: middle;\n",
       "    }\n",
       "\n",
       "    .dataframe tbody tr th {\n",
       "        vertical-align: top;\n",
       "    }\n",
       "\n",
       "    .dataframe thead th {\n",
       "        text-align: right;\n",
       "    }\n",
       "</style>\n",
       "<table border=\"1\" class=\"dataframe\">\n",
       "  <thead>\n",
       "    <tr style=\"text-align: right;\">\n",
       "      <th></th>\n",
       "      <th>col1</th>\n",
       "      <th>col2</th>\n",
       "      <th>col3</th>\n",
       "      <th>col4</th>\n",
       "      <th>col5</th>\n",
       "    </tr>\n",
       "  </thead>\n",
       "  <tbody>\n",
       "    <tr>\n",
       "      <th>0</th>\n",
       "      <td>2</td>\n",
       "      <td>a</td>\n",
       "      <td>1.4</td>\n",
       "      <td>apple</td>\n",
       "      <td>2020-01-01</td>\n",
       "    </tr>\n",
       "    <tr>\n",
       "      <th>1</th>\n",
       "      <td>3</td>\n",
       "      <td>b</td>\n",
       "      <td>3.4</td>\n",
       "      <td>banana</td>\n",
       "      <td>2020-01-02</td>\n",
       "    </tr>\n",
       "    <tr>\n",
       "      <th>2</th>\n",
       "      <td>6</td>\n",
       "      <td>c</td>\n",
       "      <td>2.5</td>\n",
       "      <td>orange</td>\n",
       "      <td>2020-01-05</td>\n",
       "    </tr>\n",
       "    <tr>\n",
       "      <th>3</th>\n",
       "      <td>5</td>\n",
       "      <td>d</td>\n",
       "      <td>3.2</td>\n",
       "      <td>lemon</td>\n",
       "      <td>2020-01-07</td>\n",
       "    </tr>\n",
       "  </tbody>\n",
       "</table>\n",
       "</div>"
      ],
      "text/plain": [
       "   col1 col2  col3    col4       col5\n",
       "0     2    a   1.4   apple 2020-01-01\n",
       "1     3    b   3.4  banana 2020-01-02\n",
       "2     6    c   2.5  orange 2020-01-05\n",
       "3     5    d   3.2   lemon 2020-01-07"
      ]
     },
     "execution_count": 9,
     "metadata": {},
     "output_type": "execute_result"
    }
   ],
   "source": [
    "pd.read_csv('../data/my_csv.csv', parse_dates=['col5'])"
   ]
  },
  {
   "cell_type": "code",
   "execution_count": 10,
   "metadata": {},
   "outputs": [
    {
     "data": {
      "text/html": [
       "<div>\n",
       "<style scoped>\n",
       "    .dataframe tbody tr th:only-of-type {\n",
       "        vertical-align: middle;\n",
       "    }\n",
       "\n",
       "    .dataframe tbody tr th {\n",
       "        vertical-align: top;\n",
       "    }\n",
       "\n",
       "    .dataframe thead th {\n",
       "        text-align: right;\n",
       "    }\n",
       "</style>\n",
       "<table border=\"1\" class=\"dataframe\">\n",
       "  <thead>\n",
       "    <tr style=\"text-align: right;\">\n",
       "      <th></th>\n",
       "      <th>col1</th>\n",
       "      <th>col2</th>\n",
       "      <th>col3</th>\n",
       "      <th>col4</th>\n",
       "      <th>col5</th>\n",
       "    </tr>\n",
       "  </thead>\n",
       "  <tbody>\n",
       "    <tr>\n",
       "      <th>0</th>\n",
       "      <td>2</td>\n",
       "      <td>a</td>\n",
       "      <td>1.4</td>\n",
       "      <td>apple</td>\n",
       "      <td>2020/1/1</td>\n",
       "    </tr>\n",
       "    <tr>\n",
       "      <th>1</th>\n",
       "      <td>3</td>\n",
       "      <td>b</td>\n",
       "      <td>3.4</td>\n",
       "      <td>banana</td>\n",
       "      <td>2020/1/2</td>\n",
       "    </tr>\n",
       "  </tbody>\n",
       "</table>\n",
       "</div>"
      ],
      "text/plain": [
       "   col1 col2  col3    col4      col5\n",
       "0     2    a   1.4   apple  2020/1/1\n",
       "1     3    b   3.4  banana  2020/1/2"
      ]
     },
     "execution_count": 10,
     "metadata": {},
     "output_type": "execute_result"
    }
   ],
   "source": [
    "pd.read_excel('../data/my_excel.xlsx', nrows=2)"
   ]
  },
  {
   "cell_type": "markdown",
   "metadata": {},
   "source": [
    "`txt` फ़ाइल को पढ़ते समय, हम अक्सर ऐसी स्थितियों का सामना करते हैं जहां डिलीमीटर एक स्थान नहीं होता है। `read_table` में एक स्प्लिट पैरामीटर `sep` होता है, जो उपयोगकर्ताओं को `txt` डेटा को पढ़ने के लिए स्प्लिट प्रतीक को अनुकूलित करने की अनुमति देता है निम्नलिखित पठन तालिका को `||||` द्वारा अलग किया गया है:"
   ]
  },
  {
   "cell_type": "code",
   "execution_count": 11,
   "metadata": {},
   "outputs": [
    {
     "data": {
      "text/html": [
       "<div>\n",
       "<style scoped>\n",
       "    .dataframe tbody tr th:only-of-type {\n",
       "        vertical-align: middle;\n",
       "    }\n",
       "\n",
       "    .dataframe tbody tr th {\n",
       "        vertical-align: top;\n",
       "    }\n",
       "\n",
       "    .dataframe thead th {\n",
       "        text-align: right;\n",
       "    }\n",
       "</style>\n",
       "<table border=\"1\" class=\"dataframe\">\n",
       "  <thead>\n",
       "    <tr style=\"text-align: right;\">\n",
       "      <th></th>\n",
       "      <th>col1 |||| col2</th>\n",
       "    </tr>\n",
       "  </thead>\n",
       "  <tbody>\n",
       "    <tr>\n",
       "      <th>0</th>\n",
       "      <td>TS |||| This is an apple.</td>\n",
       "    </tr>\n",
       "    <tr>\n",
       "      <th>1</th>\n",
       "      <td>GQ |||| My name is Bob.</td>\n",
       "    </tr>\n",
       "    <tr>\n",
       "      <th>2</th>\n",
       "      <td>WT |||| Well done!</td>\n",
       "    </tr>\n",
       "    <tr>\n",
       "      <th>3</th>\n",
       "      <td>PT |||| May I help you?</td>\n",
       "    </tr>\n",
       "  </tbody>\n",
       "</table>\n",
       "</div>"
      ],
      "text/plain": [
       "              col1 |||| col2\n",
       "0  TS |||| This is an apple.\n",
       "1    GQ |||| My name is Bob.\n",
       "2         WT |||| Well done!\n",
       "3    PT |||| May I help you?"
      ]
     },
     "execution_count": 11,
     "metadata": {},
     "output_type": "execute_result"
    }
   ],
   "source": [
    "pd.read_table('../data/my_table_special_sep.txt')"
   ]
  },
  {
   "cell_type": "markdown",
   "metadata": {},
   "source": [
    "उपरोक्त परिणाम स्पष्ट रूप से आदर्श नहीं है, इस मामले में, आप `sep` का उपयोग कर सकते हैं और इंजन को `python` के रूप में निर्दिष्ट कर सकते हैं:"
   ]
  },
  {
   "cell_type": "code",
   "execution_count": 12,
   "metadata": {},
   "outputs": [
    {
     "data": {
      "text/html": [
       "<div>\n",
       "<style scoped>\n",
       "    .dataframe tbody tr th:only-of-type {\n",
       "        vertical-align: middle;\n",
       "    }\n",
       "\n",
       "    .dataframe tbody tr th {\n",
       "        vertical-align: top;\n",
       "    }\n",
       "\n",
       "    .dataframe thead th {\n",
       "        text-align: right;\n",
       "    }\n",
       "</style>\n",
       "<table border=\"1\" class=\"dataframe\">\n",
       "  <thead>\n",
       "    <tr style=\"text-align: right;\">\n",
       "      <th></th>\n",
       "      <th>col1</th>\n",
       "      <th>col2</th>\n",
       "    </tr>\n",
       "  </thead>\n",
       "  <tbody>\n",
       "    <tr>\n",
       "      <th>0</th>\n",
       "      <td>TS</td>\n",
       "      <td>This is an apple.</td>\n",
       "    </tr>\n",
       "    <tr>\n",
       "      <th>1</th>\n",
       "      <td>GQ</td>\n",
       "      <td>My name is Bob.</td>\n",
       "    </tr>\n",
       "    <tr>\n",
       "      <th>2</th>\n",
       "      <td>WT</td>\n",
       "      <td>Well done!</td>\n",
       "    </tr>\n",
       "    <tr>\n",
       "      <th>3</th>\n",
       "      <td>PT</td>\n",
       "      <td>May I help you?</td>\n",
       "    </tr>\n",
       "  </tbody>\n",
       "</table>\n",
       "</div>"
      ],
      "text/plain": [
       "  col1               col2\n",
       "0   TS  This is an apple.\n",
       "1   GQ    My name is Bob.\n",
       "2   WT         Well done!\n",
       "3   PT    May I help you?"
      ]
     },
     "execution_count": 12,
     "metadata": {},
     "output_type": "execute_result"
    }
   ],
   "source": [
    "pd.read_table('../data/my_table_special_sep.txt', sep=' \\|\\|\\|\\| ', engine='python')"
   ]
  },
  {
   "cell_type": "markdown",
   "metadata": {},
   "source": [
    "#### 【चेतावनी】`sep` एक नियमित अभिव्यक्ति पैरामीटर है\n",
    "\n",
    "`read_table` का उपयोग करते समय, कृपया ध्यान दें कि पैरामीटर `sep` एक रेगुलर एक्सप्रेशन का उपयोग करता है, इसलिए `|` को `\\|` से बचने की आवश्यकता है, अन्यथा कृपया रेगुलर एक्सप्रेशन की मूल सामग्री के लिए सही परिणाम नहीं पढ़ा जा सकता है अध्याय 8 या अन्य संबंधित सामग्री देखें।\n",
    "\n",
    "#### 【अंत】\n",
    "\n",
    "### 2. डेटा राइटिंग\n",
    "\n",
    "आम तौर पर, डेटा लेखन में सबसे आम ऑपरेशन `इंडेक्स` को `गलत` पर सेट करना है, खासकर जब इंडेक्स का कोई विशेष अर्थ नहीं है, तो यहबचत करते समय एविओर इंडेक्स को हटा सकता है।"
   ]
  },
  {
   "cell_type": "code",
   "execution_count": 13,
   "metadata": {},
   "outputs": [],
   "source": [
    "df_csv.to_csv('../data/my_csv_saved.csv', index=False)\n",
    "df_excel.to_excel('../data/my_excel_saved.xlsx', index=False)"
   ]
  },
  {
   "cell_type": "markdown",
   "metadata": {},
   "source": [
    "`पांडा` में कोई `to_table` फ़ंक्शन परिभाषित नहीं है, लेकिन `to_csv` `txt` फ़ाइल के रूप में सहेज सकता है और कस्टम डिलीमीटर, आमतौर पर उपयोग किए जाने वाले टैब `\\t` की अनुमति देता है:"
   ]
  },
  {
   "cell_type": "code",
   "execution_count": 14,
   "metadata": {},
   "outputs": [],
   "source": [
    "df_txt.to_csv('../data/my_txt_saved.txt', sep='\\t', index=False)"
   ]
  },
  {
   "cell_type": "markdown",
   "metadata": {},
   "source": [
    "यदि आप तालिका को शीघ्रता से `मार्कडाउन` और `लेटेक्स` भाषाओं में परिवर्तित करना चाहते हैं, तो आप `to_markdown` और `to_latex` फ़ंक्शंस का उपयोग कर सकते हैं। यहां आपको `टैबुलेट` पैकेज स्थापित करने की आवश्यकता है।"
   ]
  },
  {
   "cell_type": "code",
   "execution_count": 15,
   "metadata": {},
   "outputs": [
    {
     "name": "stdout",
     "output_type": "stream",
     "text": [
      "|    |   col1 | col2   |   col3 | col4   | col5     |\n",
      "|---:|-------:|:-------|-------:|:-------|:---------|\n",
      "|  0 |      2 | a      |    1.4 | apple  | 2020/1/1 |\n",
      "|  1 |      3 | b      |    3.4 | banana | 2020/1/2 |\n",
      "|  2 |      6 | c      |    2.5 | orange | 2020/1/5 |\n",
      "|  3 |      5 | d      |    3.2 | lemon  | 2020/1/7 |\n"
     ]
    }
   ],
   "source": [
    "print(df_csv.to_markdown())"
   ]
  },
  {
   "cell_type": "code",
   "execution_count": 16,
   "metadata": {},
   "outputs": [
    {
     "name": "stdout",
     "output_type": "stream",
     "text": [
      "\\begin{tabular}{lrlrll}\n",
      "\\toprule\n",
      "{} &  col1 & col2 &  col3 &    col4 &      col5 \\\\\n",
      "\\midrule\n",
      "0 &     2 &    a &   1.4 &   apple &  2020/1/1 \\\\\n",
      "1 &     3 &    b &   3.4 &  banana &  2020/1/2 \\\\\n",
      "2 &     6 &    c &   2.5 &  orange &  2020/1/5 \\\\\n",
      "3 &     5 &    d &   3.2 &   lemon &  2020/1/7 \\\\\n",
      "\\bottomrule\n",
      "\\end{tabular}\n",
      "\n"
     ]
    }
   ],
   "source": [
    "print(df_csv.to_latex())"
   ]
  },
  {
   "cell_type": "markdown",
   "metadata": {},
   "source": [
    "## 2. बुनियादी डेटा संरचना\n",
    "`पांडा` में दो बुनियादी डेटा भंडारण संरचनाएं हैं, `सीरीज़` एक-आयामी `मानों` को संग्रहीत करती है और `डेटाफ़्रेम` दो-आयामी `मानों` को संग्रहीत करती है, इन दो संरचनाओं पर कई गुण और विधियां परिभाषित की जाती हैं।\n",
    "\n",
    "### 1. शृंखला\n",
    "`श्रृंखला` में आम तौर पर चार भाग होते हैं, अर्थात् अनुक्रम का मूल्य `डेटा`, सूचकांक `सूचकांक`, भंडारण प्रकार `dtype`, और अनुक्रम का नाम `नाम`। उनमें से, सूचकांक भी निर्दिष्ट किया जा सकता है इसका नाम, जो डिफ़ॉल्ट रूप से खाली है."
   ]
  },
  {
   "cell_type": "code",
   "execution_count": 17,
   "metadata": {},
   "outputs": [
    {
     "data": {
      "text/plain": [
       "my_idx\n",
       "id1              100\n",
       "20                 a\n",
       "third    {'dic1': 5}\n",
       "Name: my_name, dtype: object"
      ]
     },
     "execution_count": 17,
     "metadata": {},
     "output_type": "execute_result"
    }
   ],
   "source": [
    "s = pd.Series(data = [100, 'a', {'dic1':5}],\n",
    "              index = pd.Index(['id1', 20, 'third'], name='my_idx'),\n",
    "              dtype = 'object',\n",
    "              name = 'my_name')\n",
    "s"
   ]
  },
  {
   "cell_type": "markdown",
   "metadata": {},
   "source": [
    "#### 【नोट】`ऑब्जेक्ट` प्रकार\n",
    "\n",
    "`ऑब्जेक्ट` एक मिश्रित प्रकार का प्रतिनिधित्व करता है, जैसा कि ऊपर दिए गए उदाहरण में, पूर्णांक, स्ट्रिंग्स और `पायथन` डेटा संरचनाएं संग्रहीत हैं, इसके अलावा, `पांडा` वर्तमान में शुद्ध स्ट्रिंग अनुक्रमों को डिफ़ॉल्ट रूप से `ऑब्जेक्ट` प्रकार का अनुक्रम मानता है , लेकिन इसे `स्ट्रिंग` प्रकार के रूप में भी संग्रहीत किया जा सकता है। पाठ अनुक्रमों की सामग्री पर अध्याय 8 में चर्चा की जाएगी।\n",
    "\n",
    "#### 【अंत】\n",
    "\n",
    "इन विशेषताओं के लिए, आप इसका उपयोग कर सकते हैं:"
   ]
  },
  {
   "cell_type": "code",
   "execution_count": 18,
   "metadata": {},
   "outputs": [
    {
     "data": {
      "text/plain": [
       "array([100, 'a', {'dic1': 5}], dtype=object)"
      ]
     },
     "execution_count": 18,
     "metadata": {},
     "output_type": "execute_result"
    }
   ],
   "source": [
    "s.values"
   ]
  },
  {
   "cell_type": "code",
   "execution_count": 19,
   "metadata": {},
   "outputs": [
    {
     "data": {
      "text/plain": [
       "Index(['id1', 20, 'third'], dtype='object', name='my_idx')"
      ]
     },
     "execution_count": 19,
     "metadata": {},
     "output_type": "execute_result"
    }
   ],
   "source": [
    "s.index"
   ]
  },
  {
   "cell_type": "code",
   "execution_count": 20,
   "metadata": {},
   "outputs": [
    {
     "data": {
      "text/plain": [
       "dtype('O')"
      ]
     },
     "execution_count": 20,
     "metadata": {},
     "output_type": "execute_result"
    }
   ],
   "source": [
    "s.dtype"
   ]
  },
  {
   "cell_type": "code",
   "execution_count": 21,
   "metadata": {},
   "outputs": [
    {
     "data": {
      "text/plain": [
       "'my_name'"
      ]
     },
     "execution_count": 21,
     "metadata": {},
     "output_type": "execute_result"
    }
   ],
   "source": [
    "s.name"
   ]
  },
  {
   "cell_type": "markdown",
   "metadata": {},
   "source": [
    "अनुक्रम की लंबाई प्राप्त करने के लिए `.shape` का उपयोग करें:"
   ]
  },
  {
   "cell_type": "code",
   "execution_count": 22,
   "metadata": {},
   "outputs": [
    {
     "data": {
      "text/plain": [
       "(3,)"
      ]
     },
     "execution_count": 22,
     "metadata": {},
     "output_type": "execute_result"
    }
   ],
   "source": [
    "s.shape"
   ]
  },
  {
   "cell_type": "markdown",
   "metadata": {},
   "source": [
    "पांडा में इंडेक्सिंग सबसे महत्वपूर्ण अवधारणाओं में से एक है और अध्याय 3 में विस्तार से चर्चा की जाएगी। यदि आप किसी एकल इंडेक्स के अनुरूप मूल्य पुनर्प्राप्त करना चाहते हैं, तो आप इसे पुनर्प्राप्त करने के लिए [index_item] का उपयोग कर सकते हैं।"
   ]
  },
  {
   "cell_type": "markdown",
   "metadata": {},
   "source": [
    "### 2. डेटाफ़्रेम\n",
    "`डेटाफ़्रेम` `सीरीज़` के आधार पर कॉलम इंडेक्स जोड़ता है। दो-आयामी `डेटा` और पंक्ति और कॉलम इंडेक्स से एक डेटा फ्रेम बनाया जा सकता है:"
   ]
  },
  {
   "cell_type": "code",
   "execution_count": 23,
   "metadata": {},
   "outputs": [
    {
     "data": {
      "text/html": [
       "<div>\n",
       "<style scoped>\n",
       "    .dataframe tbody tr th:only-of-type {\n",
       "        vertical-align: middle;\n",
       "    }\n",
       "\n",
       "    .dataframe tbody tr th {\n",
       "        vertical-align: top;\n",
       "    }\n",
       "\n",
       "    .dataframe thead th {\n",
       "        text-align: right;\n",
       "    }\n",
       "</style>\n",
       "<table border=\"1\" class=\"dataframe\">\n",
       "  <thead>\n",
       "    <tr style=\"text-align: right;\">\n",
       "      <th></th>\n",
       "      <th>col_0</th>\n",
       "      <th>col_1</th>\n",
       "      <th>col_2</th>\n",
       "    </tr>\n",
       "  </thead>\n",
       "  <tbody>\n",
       "    <tr>\n",
       "      <th>row_0</th>\n",
       "      <td>1</td>\n",
       "      <td>a</td>\n",
       "      <td>1.2</td>\n",
       "    </tr>\n",
       "    <tr>\n",
       "      <th>row_1</th>\n",
       "      <td>2</td>\n",
       "      <td>b</td>\n",
       "      <td>2.2</td>\n",
       "    </tr>\n",
       "    <tr>\n",
       "      <th>row_2</th>\n",
       "      <td>3</td>\n",
       "      <td>c</td>\n",
       "      <td>3.2</td>\n",
       "    </tr>\n",
       "  </tbody>\n",
       "</table>\n",
       "</div>"
      ],
      "text/plain": [
       "       col_0 col_1  col_2\n",
       "row_0      1     a    1.2\n",
       "row_1      2     b    2.2\n",
       "row_2      3     c    3.2"
      ]
     },
     "execution_count": 23,
     "metadata": {},
     "output_type": "execute_result"
    }
   ],
   "source": [
    "data = [[1, 'a', 1.2], [2, 'b', 2.2], [3, 'c', 3.2]]\n",
    "df = pd.DataFrame(data = data,\n",
    "                  index = ['row_%d'%i for i in range(3)],\n",
    "                  columns=['col_0', 'col_1', 'col_2'])\n",
    "df"
   ]
  },
  {
   "cell_type": "markdown",
   "metadata": {},
   "source": [
    "लेकिन सामान्य तौर पर, अक्सर पंक्ति अनुक्रमणिका के साथ-साथ स्तंभ अनुक्रमणिका नामों से डेटा तक मैपिंग का उपयोग करके एक डेटा फ़्रेम का निर्माण किया जाता है:"
   ]
  },
  {
   "cell_type": "code",
   "execution_count": 24,
   "metadata": {},
   "outputs": [
    {
     "data": {
      "text/html": [
       "<div>\n",
       "<style scoped>\n",
       "    .dataframe tbody tr th:only-of-type {\n",
       "        vertical-align: middle;\n",
       "    }\n",
       "\n",
       "    .dataframe tbody tr th {\n",
       "        vertical-align: top;\n",
       "    }\n",
       "\n",
       "    .dataframe thead th {\n",
       "        text-align: right;\n",
       "    }\n",
       "</style>\n",
       "<table border=\"1\" class=\"dataframe\">\n",
       "  <thead>\n",
       "    <tr style=\"text-align: right;\">\n",
       "      <th></th>\n",
       "      <th>col_0</th>\n",
       "      <th>col_1</th>\n",
       "      <th>col_2</th>\n",
       "    </tr>\n",
       "  </thead>\n",
       "  <tbody>\n",
       "    <tr>\n",
       "      <th>row_0</th>\n",
       "      <td>1</td>\n",
       "      <td>a</td>\n",
       "      <td>1.2</td>\n",
       "    </tr>\n",
       "    <tr>\n",
       "      <th>row_1</th>\n",
       "      <td>2</td>\n",
       "      <td>b</td>\n",
       "      <td>2.2</td>\n",
       "    </tr>\n",
       "    <tr>\n",
       "      <th>row_2</th>\n",
       "      <td>3</td>\n",
       "      <td>c</td>\n",
       "      <td>3.2</td>\n",
       "    </tr>\n",
       "  </tbody>\n",
       "</table>\n",
       "</div>"
      ],
      "text/plain": [
       "       col_0 col_1  col_2\n",
       "row_0      1     a    1.2\n",
       "row_1      2     b    2.2\n",
       "row_2      3     c    3.2"
      ]
     },
     "execution_count": 24,
     "metadata": {},
     "output_type": "execute_result"
    }
   ],
   "source": [
    "df = pd.DataFrame(data = {'col_0': [1,2,3],\n",
    "                          'col_1':list('abc'),\n",
    "                          'col_2': [1.2, 2.2, 3.2]},\n",
    "                  index = ['row_%d'%i for i in range(3)])\n",
    "df"
   ]
  },
  {
   "cell_type": "markdown",
   "metadata": {},
   "source": [
    "इस मैपिंग संबंध के कारण, `डेटाफ़्रेम` में, `[col_name]` और `[col_list]` का उपयोग एकाधिक कॉलम वाले संबंधित कॉलम और तालिकाओं को पुनर्प्राप्त करने के लिए किया जा सकता है, और परिणाम क्रमशः `सीरीज़` और `डेटाफ़्रेम` हैं:"
   ]
  },
  {
   "cell_type": "code",
   "execution_count": 25,
   "metadata": {},
   "outputs": [
    {
     "data": {
      "text/plain": [
       "row_0    1\n",
       "row_1    2\n",
       "row_2    3\n",
       "Name: col_0, dtype: int64"
      ]
     },
     "execution_count": 25,
     "metadata": {},
     "output_type": "execute_result"
    }
   ],
   "source": [
    "df['col_0']"
   ]
  },
  {
   "cell_type": "code",
   "execution_count": 26,
   "metadata": {},
   "outputs": [
    {
     "data": {
      "text/html": [
       "<div>\n",
       "<style scoped>\n",
       "    .dataframe tbody tr th:only-of-type {\n",
       "        vertical-align: middle;\n",
       "    }\n",
       "\n",
       "    .dataframe tbody tr th {\n",
       "        vertical-align: top;\n",
       "    }\n",
       "\n",
       "    .dataframe thead th {\n",
       "        text-align: right;\n",
       "    }\n",
       "</style>\n",
       "<table border=\"1\" class=\"dataframe\">\n",
       "  <thead>\n",
       "    <tr style=\"text-align: right;\">\n",
       "      <th></th>\n",
       "      <th>col_0</th>\n",
       "      <th>col_1</th>\n",
       "    </tr>\n",
       "  </thead>\n",
       "  <tbody>\n",
       "    <tr>\n",
       "      <th>row_0</th>\n",
       "      <td>1</td>\n",
       "      <td>a</td>\n",
       "    </tr>\n",
       "    <tr>\n",
       "      <th>row_1</th>\n",
       "      <td>2</td>\n",
       "      <td>b</td>\n",
       "    </tr>\n",
       "    <tr>\n",
       "      <th>row_2</th>\n",
       "      <td>3</td>\n",
       "      <td>c</td>\n",
       "    </tr>\n",
       "  </tbody>\n",
       "</table>\n",
       "</div>"
      ],
      "text/plain": [
       "       col_0 col_1\n",
       "row_0      1     a\n",
       "row_1      2     b\n",
       "row_2      3     c"
      ]
     },
     "execution_count": 26,
     "metadata": {},
     "output_type": "execute_result"
    }
   ],
   "source": [
    "df[['col_0', 'col_1']]"
   ]
  },
  {
   "cell_type": "markdown",
   "metadata": {},
   "source": [
    "'श्रृंखला' के समान, आप डेटा फ़्रेम में संबंधित विशेषताओं को भी पुनः प्राप्त कर सकते हैं:"
   ]
  },
  {
   "cell_type": "code",
   "execution_count": 27,
   "metadata": {},
   "outputs": [
    {
     "data": {
      "text/plain": [
       "array([[1, 'a', 1.2],\n",
       "       [2, 'b', 2.2],\n",
       "       [3, 'c', 3.2]], dtype=object)"
      ]
     },
     "execution_count": 27,
     "metadata": {},
     "output_type": "execute_result"
    }
   ],
   "source": [
    "df.values"
   ]
  },
  {
   "cell_type": "code",
   "execution_count": 28,
   "metadata": {},
   "outputs": [
    {
     "data": {
      "text/plain": [
       "Index(['row_0', 'row_1', 'row_2'], dtype='object')"
      ]
     },
     "execution_count": 28,
     "metadata": {},
     "output_type": "execute_result"
    }
   ],
   "source": [
    "df.index"
   ]
  },
  {
   "cell_type": "code",
   "execution_count": 29,
   "metadata": {},
   "outputs": [
    {
     "data": {
      "text/plain": [
       "Index(['col_0', 'col_1', 'col_2'], dtype='object')"
      ]
     },
     "execution_count": 29,
     "metadata": {},
     "output_type": "execute_result"
    }
   ],
   "source": [
    "df.columns"
   ]
  },
  {
   "cell_type": "code",
   "execution_count": 30,
   "metadata": {},
   "outputs": [
    {
     "data": {
      "text/plain": [
       "col_0      int64\n",
       "col_1     object\n",
       "col_2    float64\n",
       "dtype: object"
      ]
     },
     "execution_count": 30,
     "metadata": {},
     "output_type": "execute_result"
    }
   ],
   "source": [
    "df.dtypes # 返回的是值为相应列数据类型的Series"
   ]
  },
  {
   "cell_type": "code",
   "execution_count": 31,
   "metadata": {},
   "outputs": [
    {
     "data": {
      "text/plain": [
       "(3, 3)"
      ]
     },
     "execution_count": 31,
     "metadata": {},
     "output_type": "execute_result"
    }
   ],
   "source": [
    "df.shape"
   ]
  },
  {
   "cell_type": "markdown",
   "metadata": {},
   "source": [
    "`.T` का उपयोग `डेटाफ़्रेम` को स्थानांतरित करने के लिए किया जा सकता है:"
   ]
  },
  {
   "cell_type": "code",
   "execution_count": 32,
   "metadata": {},
   "outputs": [
    {
     "data": {
      "text/html": [
       "<div>\n",
       "<style scoped>\n",
       "    .dataframe tbody tr th:only-of-type {\n",
       "        vertical-align: middle;\n",
       "    }\n",
       "\n",
       "    .dataframe tbody tr th {\n",
       "        vertical-align: top;\n",
       "    }\n",
       "\n",
       "    .dataframe thead th {\n",
       "        text-align: right;\n",
       "    }\n",
       "</style>\n",
       "<table border=\"1\" class=\"dataframe\">\n",
       "  <thead>\n",
       "    <tr style=\"text-align: right;\">\n",
       "      <th></th>\n",
       "      <th>row_0</th>\n",
       "      <th>row_1</th>\n",
       "      <th>row_2</th>\n",
       "    </tr>\n",
       "  </thead>\n",
       "  <tbody>\n",
       "    <tr>\n",
       "      <th>col_0</th>\n",
       "      <td>1</td>\n",
       "      <td>2</td>\n",
       "      <td>3</td>\n",
       "    </tr>\n",
       "    <tr>\n",
       "      <th>col_1</th>\n",
       "      <td>a</td>\n",
       "      <td>b</td>\n",
       "      <td>c</td>\n",
       "    </tr>\n",
       "    <tr>\n",
       "      <th>col_2</th>\n",
       "      <td>1.2</td>\n",
       "      <td>2.2</td>\n",
       "      <td>3.2</td>\n",
       "    </tr>\n",
       "  </tbody>\n",
       "</table>\n",
       "</div>"
      ],
      "text/plain": [
       "      row_0 row_1 row_2\n",
       "col_0     1     2     3\n",
       "col_1     a     b     c\n",
       "col_2   1.2   2.2   3.2"
      ]
     },
     "execution_count": 32,
     "metadata": {},
     "output_type": "execute_result"
    }
   ],
   "source": [
    "df.T"
   ]
  },
  {
   "cell_type": "markdown",
   "metadata": {},
   "source": [
    "## 3. आमतौर पर उपयोग किए जाने वाले बुनियादी कार्य\n",
    "उदाहरण के लिए, निम्नलिखित अनुभाग और शेष अध्यायों में, हम `learn_pandas.csv` नामक एक वर्चुअल डेटासेट का उपयोग करेंगे, जो चार स्कूलों के छात्रों की व्यक्तिगत जानकारी रिकॉर्ड करता है।"
   ]
  },
  {
   "cell_type": "code",
   "execution_count": 33,
   "metadata": {},
   "outputs": [
    {
     "data": {
      "text/plain": [
       "Index(['School', 'Grade', 'Name', 'Gender', 'Height', 'Weight', 'Transfer',\n",
       "       'Test_Number', 'Test_Date', 'Time_Record'],\n",
       "      dtype='object')"
      ]
     },
     "execution_count": 33,
     "metadata": {},
     "output_type": "execute_result"
    }
   ],
   "source": [
    "df = pd.read_csv('../data/learn_pandas.csv')\n",
    "df.columns"
   ]
  },
  {
   "cell_type": "markdown",
   "metadata": {},
   "source": [
    "उपरोक्त कॉलम नाम क्रमशः स्कूल, ग्रेड, नाम, लिंग, ऊंचाई, वजन, स्थानांतरण छात्र हैं या नहीं, शारीरिक परीक्षण सत्र, परीक्षण समय और 1000-मीटर परिणाम दर्शाते हैं, इस अध्याय में केवल पहले सात कॉलम होने चाहिए इस्तेमाल किया गया।"
   ]
  },
  {
   "cell_type": "code",
   "execution_count": 34,
   "metadata": {},
   "outputs": [],
   "source": [
    "df = df[df.columns[:7]]"
   ]
  },
  {
   "cell_type": "markdown",
   "metadata": {},
   "source": [
    "### 1. समग्र कार्य\n",
    "`हेड, टेल` फ़ंक्शंस क्रमशः तालिका या अनुक्रम की पहली `n` पंक्तियाँ और अंतिम `n` पंक्तियाँ लौटाते हैं, जहाँ `n` 5 पर डिफ़ॉल्ट होता है:"
   ]
  },
  {
   "cell_type": "code",
   "execution_count": 35,
   "metadata": {},
   "outputs": [
    {
     "data": {
      "text/html": [
       "<div>\n",
       "<style scoped>\n",
       "    .dataframe tbody tr th:only-of-type {\n",
       "        vertical-align: middle;\n",
       "    }\n",
       "\n",
       "    .dataframe tbody tr th {\n",
       "        vertical-align: top;\n",
       "    }\n",
       "\n",
       "    .dataframe thead th {\n",
       "        text-align: right;\n",
       "    }\n",
       "</style>\n",
       "<table border=\"1\" class=\"dataframe\">\n",
       "  <thead>\n",
       "    <tr style=\"text-align: right;\">\n",
       "      <th></th>\n",
       "      <th>School</th>\n",
       "      <th>Grade</th>\n",
       "      <th>Name</th>\n",
       "      <th>Gender</th>\n",
       "      <th>Height</th>\n",
       "      <th>Weight</th>\n",
       "      <th>Transfer</th>\n",
       "    </tr>\n",
       "  </thead>\n",
       "  <tbody>\n",
       "    <tr>\n",
       "      <th>0</th>\n",
       "      <td>Shanghai Jiao Tong University</td>\n",
       "      <td>Freshman</td>\n",
       "      <td>Gaopeng Yang</td>\n",
       "      <td>Female</td>\n",
       "      <td>158.9</td>\n",
       "      <td>46.0</td>\n",
       "      <td>N</td>\n",
       "    </tr>\n",
       "    <tr>\n",
       "      <th>1</th>\n",
       "      <td>Peking University</td>\n",
       "      <td>Freshman</td>\n",
       "      <td>Changqiang You</td>\n",
       "      <td>Male</td>\n",
       "      <td>166.5</td>\n",
       "      <td>70.0</td>\n",
       "      <td>N</td>\n",
       "    </tr>\n",
       "  </tbody>\n",
       "</table>\n",
       "</div>"
      ],
      "text/plain": [
       "                          School     Grade            Name  Gender  Height  \\\n",
       "0  Shanghai Jiao Tong University  Freshman    Gaopeng Yang  Female   158.9   \n",
       "1              Peking University  Freshman  Changqiang You    Male   166.5   \n",
       "\n",
       "   Weight Transfer  \n",
       "0    46.0        N  \n",
       "1    70.0        N  "
      ]
     },
     "execution_count": 35,
     "metadata": {},
     "output_type": "execute_result"
    }
   ],
   "source": [
    "df.head(2)"
   ]
  },
  {
   "cell_type": "code",
   "execution_count": 36,
   "metadata": {},
   "outputs": [
    {
     "data": {
      "text/html": [
       "<div>\n",
       "<style scoped>\n",
       "    .dataframe tbody tr th:only-of-type {\n",
       "        vertical-align: middle;\n",
       "    }\n",
       "\n",
       "    .dataframe tbody tr th {\n",
       "        vertical-align: top;\n",
       "    }\n",
       "\n",
       "    .dataframe thead th {\n",
       "        text-align: right;\n",
       "    }\n",
       "</style>\n",
       "<table border=\"1\" class=\"dataframe\">\n",
       "  <thead>\n",
       "    <tr style=\"text-align: right;\">\n",
       "      <th></th>\n",
       "      <th>School</th>\n",
       "      <th>Grade</th>\n",
       "      <th>Name</th>\n",
       "      <th>Gender</th>\n",
       "      <th>Height</th>\n",
       "      <th>Weight</th>\n",
       "      <th>Transfer</th>\n",
       "    </tr>\n",
       "  </thead>\n",
       "  <tbody>\n",
       "    <tr>\n",
       "      <th>197</th>\n",
       "      <td>Shanghai Jiao Tong University</td>\n",
       "      <td>Senior</td>\n",
       "      <td>Chengqiang Chu</td>\n",
       "      <td>Female</td>\n",
       "      <td>153.9</td>\n",
       "      <td>45.0</td>\n",
       "      <td>N</td>\n",
       "    </tr>\n",
       "    <tr>\n",
       "      <th>198</th>\n",
       "      <td>Shanghai Jiao Tong University</td>\n",
       "      <td>Senior</td>\n",
       "      <td>Chengmei Shen</td>\n",
       "      <td>Male</td>\n",
       "      <td>175.3</td>\n",
       "      <td>71.0</td>\n",
       "      <td>N</td>\n",
       "    </tr>\n",
       "    <tr>\n",
       "      <th>199</th>\n",
       "      <td>Tsinghua University</td>\n",
       "      <td>Sophomore</td>\n",
       "      <td>Chunpeng Lv</td>\n",
       "      <td>Male</td>\n",
       "      <td>155.7</td>\n",
       "      <td>51.0</td>\n",
       "      <td>N</td>\n",
       "    </tr>\n",
       "  </tbody>\n",
       "</table>\n",
       "</div>"
      ],
      "text/plain": [
       "                            School      Grade            Name  Gender  Height  \\\n",
       "197  Shanghai Jiao Tong University     Senior  Chengqiang Chu  Female   153.9   \n",
       "198  Shanghai Jiao Tong University     Senior   Chengmei Shen    Male   175.3   \n",
       "199            Tsinghua University  Sophomore     Chunpeng Lv    Male   155.7   \n",
       "\n",
       "     Weight Transfer  \n",
       "197    45.0        N  \n",
       "198    71.0        N  \n",
       "199    51.0        N  "
      ]
     },
     "execution_count": 36,
     "metadata": {},
     "output_type": "execute_result"
    }
   ],
   "source": [
    "df.tail(3)"
   ]
  },
  {
   "cell_type": "markdown",
   "metadata": {},
   "source": [
    "`जानकारी, वर्णन` तालिका का सूचना सारांश और तालिका में संख्यात्मक स्तंभों के अनुरूप मुख्य आँकड़े क्रमशः लौटाता है:"
   ]
  },
  {
   "cell_type": "code",
   "execution_count": 37,
   "metadata": {},
   "outputs": [
    {
     "name": "stdout",
     "output_type": "stream",
     "text": [
      "<class 'pandas.core.frame.DataFrame'>\n",
      "RangeIndex: 200 entries, 0 to 199\n",
      "Data columns (total 7 columns):\n",
      " #   Column    Non-Null Count  Dtype  \n",
      "---  ------    --------------  -----  \n",
      " 0   School    200 non-null    object \n",
      " 1   Grade     200 non-null    object \n",
      " 2   Name      200 non-null    object \n",
      " 3   Gender    200 non-null    object \n",
      " 4   Height    183 non-null    float64\n",
      " 5   Weight    189 non-null    float64\n",
      " 6   Transfer  188 non-null    object \n",
      "dtypes: float64(2), object(5)\n",
      "memory usage: 11.1+ KB\n"
     ]
    }
   ],
   "source": [
    "df.info()"
   ]
  },
  {
   "cell_type": "code",
   "execution_count": 38,
   "metadata": {},
   "outputs": [
    {
     "data": {
      "text/html": [
       "<div>\n",
       "<style scoped>\n",
       "    .dataframe tbody tr th:only-of-type {\n",
       "        vertical-align: middle;\n",
       "    }\n",
       "\n",
       "    .dataframe tbody tr th {\n",
       "        vertical-align: top;\n",
       "    }\n",
       "\n",
       "    .dataframe thead th {\n",
       "        text-align: right;\n",
       "    }\n",
       "</style>\n",
       "<table border=\"1\" class=\"dataframe\">\n",
       "  <thead>\n",
       "    <tr style=\"text-align: right;\">\n",
       "      <th></th>\n",
       "      <th>Height</th>\n",
       "      <th>Weight</th>\n",
       "    </tr>\n",
       "  </thead>\n",
       "  <tbody>\n",
       "    <tr>\n",
       "      <th>count</th>\n",
       "      <td>183.000000</td>\n",
       "      <td>189.000000</td>\n",
       "    </tr>\n",
       "    <tr>\n",
       "      <th>mean</th>\n",
       "      <td>163.218033</td>\n",
       "      <td>55.015873</td>\n",
       "    </tr>\n",
       "    <tr>\n",
       "      <th>std</th>\n",
       "      <td>8.608879</td>\n",
       "      <td>12.824294</td>\n",
       "    </tr>\n",
       "    <tr>\n",
       "      <th>min</th>\n",
       "      <td>145.400000</td>\n",
       "      <td>34.000000</td>\n",
       "    </tr>\n",
       "    <tr>\n",
       "      <th>25%</th>\n",
       "      <td>157.150000</td>\n",
       "      <td>46.000000</td>\n",
       "    </tr>\n",
       "    <tr>\n",
       "      <th>50%</th>\n",
       "      <td>161.900000</td>\n",
       "      <td>51.000000</td>\n",
       "    </tr>\n",
       "    <tr>\n",
       "      <th>75%</th>\n",
       "      <td>167.500000</td>\n",
       "      <td>65.000000</td>\n",
       "    </tr>\n",
       "    <tr>\n",
       "      <th>max</th>\n",
       "      <td>193.900000</td>\n",
       "      <td>89.000000</td>\n",
       "    </tr>\n",
       "  </tbody>\n",
       "</table>\n",
       "</div>"
      ],
      "text/plain": [
       "           Height      Weight\n",
       "count  183.000000  189.000000\n",
       "mean   163.218033   55.015873\n",
       "std      8.608879   12.824294\n",
       "min    145.400000   34.000000\n",
       "25%    157.150000   46.000000\n",
       "50%    161.900000   51.000000\n",
       "75%    167.500000   65.000000\n",
       "max    193.900000   89.000000"
      ]
     },
     "execution_count": 38,
     "metadata": {},
     "output_type": "execute_result"
    }
   ],
   "source": [
    "df.describe()"
   ]
  },
  {
   "cell_type": "markdown",
   "metadata": {},
   "source": [
    "#### 【ध्यान दें】अधिक व्यापक डेटा सारांश\n",
    "\n",
    "`जानकारी, वर्णन` केवल कम जानकारी प्रदर्शित कर सकता है। यदि आप डेटा सेट का व्यापक और प्रभावी अवलोकन करना चाहते हैं, खासकर जब कई कॉलम हों, तो [पांडा-प्रोफाइलिंग](https://pandas) का उपयोग करने की अनुशंसा की जाती है। -profiling.github.io/pandas-profiling/docs/) पैकेज, जिसका उल्लेख अध्याय 11 में फिर से किया जाएगा।\n",
    "\n",
    "#### 【अंत】\n",
    "\n",
    "### 2. फ़ीचर सांख्यिकीय कार्य\n",
    "कई सांख्यिकीय फ़ंक्शन `सीरीज़` और `डेटाफ़्रेम` पर परिभाषित किए गए हैं, सबसे अधिकजिनमें से सामान्य हैं `योग, माध्य, माध्यिका, var, std, अधिकतम, न्यूनतम` उदाहरण के लिए, प्रदर्शन के लिए ऊंचाई और वजन कॉलम का चयन करें:"
   ]
  },
  {
   "cell_type": "code",
   "execution_count": 39,
   "metadata": {},
   "outputs": [
    {
     "data": {
      "text/plain": [
       "Height    163.218033\n",
       "Weight     55.015873\n",
       "dtype: float64"
      ]
     },
     "execution_count": 39,
     "metadata": {},
     "output_type": "execute_result"
    }
   ],
   "source": [
    "df_demo = df[['Height', 'Weight']]\n",
    "df_demo.mean()"
   ]
  },
  {
   "cell_type": "code",
   "execution_count": 40,
   "metadata": {},
   "outputs": [
    {
     "data": {
      "text/plain": [
       "Height    193.9\n",
       "Weight     89.0\n",
       "dtype: float64"
      ]
     },
     "execution_count": 40,
     "metadata": {},
     "output_type": "execute_result"
    }
   ],
   "source": [
    "df_demo.max()"
   ]
  },
  {
   "cell_type": "markdown",
   "metadata": {},
   "source": [
    "इसके अलावा, तीन फ़ंक्शन `क्वांटाइल, काउंट, आईडीएक्समैक्स` को पेश करना आवश्यक है, जो क्रमशः क्वांटाइल, गैर-लापता मानों की संख्या और अधिकतम मूल्य के अनुरूप सूचकांक लौटाते हैं:"
   ]
  },
  {
   "cell_type": "code",
   "execution_count": 41,
   "metadata": {},
   "outputs": [
    {
     "data": {
      "text/plain": [
       "Height    167.5\n",
       "Weight     65.0\n",
       "Name: 0.75, dtype: float64"
      ]
     },
     "execution_count": 41,
     "metadata": {},
     "output_type": "execute_result"
    }
   ],
   "source": [
    "df_demo.quantile(0.75)"
   ]
  },
  {
   "cell_type": "code",
   "execution_count": 42,
   "metadata": {},
   "outputs": [
    {
     "data": {
      "text/plain": [
       "Height    183\n",
       "Weight    189\n",
       "dtype: int64"
      ]
     },
     "execution_count": 42,
     "metadata": {},
     "output_type": "execute_result"
    }
   ],
   "source": [
    "df_demo.count()"
   ]
  },
  {
   "cell_type": "code",
   "execution_count": 43,
   "metadata": {},
   "outputs": [
    {
     "data": {
      "text/plain": [
       "Height    193\n",
       "Weight      2\n",
       "dtype: int64"
      ]
     },
     "execution_count": 43,
     "metadata": {},
     "output_type": "execute_result"
    }
   ],
   "source": [
    "df_demo.idxmax() # idxmin是对应的函数"
   ]
  },
  {
   "cell_type": "markdown",
   "metadata": {},
   "source": [
    "उपरोक्त सभी कार्यों को एकत्रीकरण फ़ंक्शन कहा जाता है क्योंकि वे ऑपरेशन के बाद स्केलर लौटाते हैं। उनके पास एक सामान्य पैरामीटर `अक्ष` होता है, जो कॉलम-दर-कॉलम एकत्रीकरण के लिए 0 और पंक्ति-दर-पंक्ति एकत्रीकरण के लिए 1 पर डिफ़ॉल्ट होता है:"
   ]
  },
  {
   "cell_type": "code",
   "execution_count": 44,
   "metadata": {},
   "outputs": [
    {
     "data": {
      "text/plain": [
       "0    102.45\n",
       "1    118.25\n",
       "2    138.95\n",
       "3     41.00\n",
       "4    124.00\n",
       "dtype: float64"
      ]
     },
     "execution_count": 44,
     "metadata": {},
     "output_type": "execute_result"
    }
   ],
   "source": [
    "df_demo.mean(axis=1).head() # 在这个数据集上体重和身高的均值并没有意义"
   ]
  },
  {
   "cell_type": "markdown",
   "metadata": {},
   "source": [
    "### 3. अद्वितीय मूल्य फ़ंक्शन\n",
    "किसी अनुक्रम पर `अद्वितीय` और `अनूठे` का उपयोग करके क्रमशः उसके अद्वितीय मानों की सूची और अद्वितीय मानों की संख्या प्राप्त की जा सकती है:"
   ]
  },
  {
   "cell_type": "code",
   "execution_count": 45,
   "metadata": {},
   "outputs": [
    {
     "data": {
      "text/plain": [
       "array(['Shanghai Jiao Tong University', 'Peking University',\n",
       "       'Fudan University', 'Tsinghua University'], dtype=object)"
      ]
     },
     "execution_count": 45,
     "metadata": {},
     "output_type": "execute_result"
    }
   ],
   "source": [
    "df['School'].unique()"
   ]
  },
  {
   "cell_type": "code",
   "execution_count": 46,
   "metadata": {},
   "outputs": [
    {
     "data": {
      "text/plain": [
       "4"
      ]
     },
     "execution_count": 46,
     "metadata": {},
     "output_type": "execute_result"
    }
   ],
   "source": [
    "df['School'].nunique()"
   ]
  },
  {
   "cell_type": "markdown",
   "metadata": {},
   "source": [
    "`वैल्यू_काउंट्स` अद्वितीय मान और उनकी संगत आवृत्तियाँ प्राप्त कर सकता है:"
   ]
  },
  {
   "cell_type": "code",
   "execution_count": 47,
   "metadata": {},
   "outputs": [
    {
     "data": {
      "text/plain": [
       "Tsinghua University              69\n",
       "Shanghai Jiao Tong University    57\n",
       "Fudan University                 40\n",
       "Peking University                34\n",
       "Name: School, dtype: int64"
      ]
     },
     "execution_count": 47,
     "metadata": {},
     "output_type": "execute_result"
    }
   ],
   "source": [
    "df['School'].value_counts()"
   ]
  },
  {
   "cell_type": "markdown",
   "metadata": {},
   "source": [
    "यदि आप एकाधिक कॉलम संयोजनों के अद्वितीय मानों का निरीक्षण करना चाहते हैं, तो आप `drop_dulicates` का उपयोग कर सकते हैं। मुख्य पैरामीटर `keep` है। डिफ़ॉल्ट मान `first` का अर्थ है कि प्रत्येक संयोजन उस पंक्ति को बरकरार रखता है जहां वह पहली बार दिखाई देती है। `अंतिम` का अर्थ है कि वह पंक्ति जहां यह अंतिम बार दिखाई देती है, बरकरार रखी गई है, और `गलत` का अर्थ है कि डुप्लिकेट संयोजन वाली सभी पंक्तियां हटा दी गई हैं।"
   ]
  },
  {
   "cell_type": "code",
   "execution_count": 48,
   "metadata": {},
   "outputs": [
    {
     "data": {
      "text/html": [
       "<div>\n",
       "<style scoped>\n",
       "    .dataframe tbody tr th:only-of-type {\n",
       "        vertical-align: middle;\n",
       "    }\n",
       "\n",
       "    .dataframe tbody tr th {\n",
       "        vertical-align: top;\n",
       "    }\n",
       "\n",
       "    .dataframe thead th {\n",
       "        text-align: right;\n",
       "    }\n",
       "</style>\n",
       "<table border=\"1\" class=\"dataframe\">\n",
       "  <thead>\n",
       "    <tr style=\"text-align: right;\">\n",
       "      <th></th>\n",
       "      <th>Gender</th>\n",
       "      <th>Transfer</th>\n",
       "      <th>Name</th>\n",
       "    </tr>\n",
       "  </thead>\n",
       "  <tbody>\n",
       "    <tr>\n",
       "      <th>0</th>\n",
       "      <td>Female</td>\n",
       "      <td>N</td>\n",
       "      <td>Gaopeng Yang</td>\n",
       "    </tr>\n",
       "    <tr>\n",
       "      <th>1</th>\n",
       "      <td>Male</td>\n",
       "      <td>N</td>\n",
       "      <td>Changqiang You</td>\n",
       "    </tr>\n",
       "    <tr>\n",
       "      <th>12</th>\n",
       "      <td>Female</td>\n",
       "      <td>NaN</td>\n",
       "      <td>Peng You</td>\n",
       "    </tr>\n",
       "    <tr>\n",
       "      <th>21</th>\n",
       "      <td>Male</td>\n",
       "      <td>NaN</td>\n",
       "      <td>Xiaopeng Shen</td>\n",
       "    </tr>\n",
       "    <tr>\n",
       "      <th>36</th>\n",
       "      <td>Male</td>\n",
       "      <td>Y</td>\n",
       "      <td>Xiaojuan Qin</td>\n",
       "    </tr>\n",
       "    <tr>\n",
       "      <th>43</th>\n",
       "      <td>Female</td>\n",
       "      <td>Y</td>\n",
       "      <td>Gaoli Feng</td>\n",
       "    </tr>\n",
       "  </tbody>\n",
       "</table>\n",
       "</div>"
      ],
      "text/plain": [
       "    Gender Transfer            Name\n",
       "0   Female        N    Gaopeng Yang\n",
       "1     Male        N  Changqiang You\n",
       "12  Female      NaN        Peng You\n",
       "21    Male      NaN   Xiaopeng Shen\n",
       "36    Male        Y    Xiaojuan Qin\n",
       "43  Female        Y      Gaoli Feng"
      ]
     },
     "execution_count": 48,
     "metadata": {},
     "output_type": "execute_result"
    }
   ],
   "source": [
    "df_demo = df[['Gender','Transfer','Name']]\n",
    "df_demo.drop_duplicates(['Gender', 'Transfer'])"
   ]
  },
  {
   "cell_type": "code",
   "execution_count": 49,
   "metadata": {},
   "outputs": [
    {
     "data": {
      "text/html": [
       "<div>\n",
       "<style scoped>\n",
       "    .dataframe tbody tr th:only-of-type {\n",
       "        vertical-align: middle;\n",
       "    }\n",
       "\n",
       "    .dataframe tbody tr th {\n",
       "        vertical-align: top;\n",
       "    }\n",
       "\n",
       "    .dataframe thead th {\n",
       "        text-align: right;\n",
       "    }\n",
       "</style>\n",
       "<table border=\"1\" class=\"dataframe\">\n",
       "  <thead>\n",
       "    <tr style=\"text-align: right;\">\n",
       "      <th></th>\n",
       "      <th>Gender</th>\n",
       "      <th>Transfer</th>\n",
       "      <th>Name</th>\n",
       "    </tr>\n",
       "  </thead>\n",
       "  <tbody>\n",
       "    <tr>\n",
       "      <th>147</th>\n",
       "      <td>Male</td>\n",
       "      <td>NaN</td>\n",
       "      <td>Juan You</td>\n",
       "    </tr>\n",
       "    <tr>\n",
       "      <th>150</th>\n",
       "      <td>Male</td>\n",
       "      <td>Y</td>\n",
       "      <td>Chengpeng You</td>\n",
       "    </tr>\n",
       "    <tr>\n",
       "      <th>169</th>\n",
       "      <td>Female</td>\n",
       "      <td>Y</td>\n",
       "      <td>Chengquan Qin</td>\n",
       "    </tr>\n",
       "    <tr>\n",
       "      <th>194</th>\n",
       "      <td>Female</td>\n",
       "      <td>NaN</td>\n",
       "      <td>Yanmei Qian</td>\n",
       "    </tr>\n",
       "    <tr>\n",
       "      <th>197</th>\n",
       "      <td>Female</td>\n",
       "      <td>N</td>\n",
       "      <td>Chengqiang Chu</td>\n",
       "    </tr>\n",
       "    <tr>\n",
       "      <th>199</th>\n",
       "      <td>Male</td>\n",
       "      <td>N</td>\n",
       "      <td>Chunpeng Lv</td>\n",
       "    </tr>\n",
       "  </tbody>\n",
       "</table>\n",
       "</div>"
      ],
      "text/plain": [
       "     Gender Transfer            Name\n",
       "147    Male      NaN        Juan You\n",
       "150    Male        Y   Chengpeng You\n",
       "169  Female        Y   Chengquan Qin\n",
       "194  Female      NaN     Yanmei Qian\n",
       "197  Female        N  Chengqiang Chu\n",
       "199    Male        N     Chunpeng Lv"
      ]
     },
     "execution_count": 49,
     "metadata": {},
     "output_type": "execute_result"
    }
   ],
   "source": [
    "df_demo.drop_duplicates(['Gender', 'Transfer'], keep='last')"
   ]
  },
  {
   "cell_type": "code",
   "execution_count": 50,
   "metadata": {},
   "outputs": [
    {
     "data": {
      "text/html": [
       "<div>\n",
       "<style scoped>\n",
       "    .dataframe tbody tr th:only-of-type {\n",
       "        vertical-align: middle;\n",
       "    }\n",
       "\n",
       "    .dataframe tbody tr th {\n",
       "        vertical-align: top;\n",
       "    }\n",
       "\n",
       "    .dataframe thead th {\n",
       "        text-align: right;\n",
       "    }\n",
       "</style>\n",
       "<table border=\"1\" class=\"dataframe\">\n",
       "  <thead>\n",
       "    <tr style=\"text-align: right;\">\n",
       "      <th></th>\n",
       "      <th>Gender</th>\n",
       "      <th>Transfer</th>\n",
       "      <th>Name</th>\n",
       "    </tr>\n",
       "  </thead>\n",
       "  <tbody>\n",
       "    <tr>\n",
       "      <th>0</th>\n",
       "      <td>Female</td>\n",
       "      <td>N</td>\n",
       "      <td>Gaopeng Yang</td>\n",
       "    </tr>\n",
       "    <tr>\n",
       "      <th>1</th>\n",
       "      <td>Male</td>\n",
       "      <td>N</td>\n",
       "      <td>Changqiang You</td>\n",
       "    </tr>\n",
       "    <tr>\n",
       "      <th>2</th>\n",
       "      <td>Male</td>\n",
       "      <td>N</td>\n",
       "      <td>Mei Sun</td>\n",
       "    </tr>\n",
       "    <tr>\n",
       "      <th>4</th>\n",
       "      <td>Male</td>\n",
       "      <td>N</td>\n",
       "      <td>Gaojuan You</td>\n",
       "    </tr>\n",
       "    <tr>\n",
       "      <th>5</th>\n",
       "      <td>Female</td>\n",
       "      <td>N</td>\n",
       "      <td>Xiaoli Qian</td>\n",
       "    </tr>\n",
       "  </tbody>\n",
       "</table>\n",
       "</div>"
      ],
      "text/plain": [
       "   Gender Transfer            Name\n",
       "0  Female        N    Gaopeng Yang\n",
       "1    Male        N  Changqiang You\n",
       "2    Male        N         Mei Sun\n",
       "4    Male        N     Gaojuan You\n",
       "5  Female        N     Xiaoli Qian"
      ]
     },
     "execution_count": 50,
     "metadata": {},
     "output_type": "execute_result"
    }
   ],
   "source": [
    "df_demo.drop_duplicates(['Name', 'Gender'], keep=False).head() # 保留只出现过一次的性别和姓名组合"
   ]
  },
  {
   "cell_type": "code",
   "execution_count": 51,
   "metadata": {},
   "outputs": [
    {
     "data": {
      "text/plain": [
       "0    Shanghai Jiao Tong University\n",
       "1                Peking University\n",
       "3                 Fudan University\n",
       "5              Tsinghua University\n",
       "Name: School, dtype: object"
      ]
     },
     "execution_count": 51,
     "metadata": {},
     "output_type": "execute_result"
    }
   ],
   "source": [
    "df['School'].drop_duplicates() # 在Series上也可以使用"
   ]
  },
  {
   "cell_type": "markdown",
   "metadata": {},
   "source": [
    "इसके अलावा, 'डुप्लिकेट' और 'ड्रॉप_डुप्लिकेट्स' के समान कार्य हैं, लेकिन पूर्व अद्वितीय मानों की एक बूलियन सूची लौटाता है, और इसका 'कीप' पैरामीटर बाद वाले के समान है, लौटाया गया अनुक्रम डुप्लिकेट तत्वों को 'सही' पर सेट करता है। अन्यथा `गलत`। `ड्रॉप_डुप्लिकेट्स` संबंधित पंक्तियों को हटाने के बराबर है जहां `डुप्लिकेट` `सही` है।"
   ]
  },
  {
   "cell_type": "code",
   "execution_count": 52,
   "metadata": {},
   "outputs": [
    {
     "data": {
      "text/plain": [
       "0    False\n",
       "1    False\n",
       "2     True\n",
       "3     True\n",
       "4     True\n",
       "dtype: bool"
      ]
     },
     "execution_count": 52,
     "metadata": {},
     "output_type": "execute_result"
    }
   ],
   "source": [
    "df_demo.duplicated(['Gender', 'Transfer']).head()"
   ]
  },
  {
   "cell_type": "code",
   "execution_count": 53,
   "metadata": {},
   "outputs": [
    {
     "data": {
      "text/plain": [
       "0    False\n",
       "1    False\n",
       "2     True\n",
       "3    False\n",
       "4     True\n",
       "Name: School, dtype: bool"
      ]
     },
     "execution_count": 53,
     "metadata": {},
     "output_type": "execute_result"
    }
   ],
   "source": [
    "df['School'].duplicated().head() # 在Series上也可以使用"
   ]
  },
  {
   "cell_type": "markdown",
   "metadata": {},
   "source": [
    "### 4. प्रतिस्थापन समारोह\n",
    "सामान्यतया, प्रतिस्थापन ऑपरेशन एक निश्चित कॉलम पर किया जाता है, इसलिए निम्नलिखित सभी उदाहरण एक उदाहरण के रूप में `श्रृंखला` का उपयोग करते हैं। `पांडा` में प्रतिस्थापन कार्यों को तीन श्रेणियों में संक्षेपित किया जा सकता है: मैपिंग प्रतिस्थापन, तार्किक प्रतिस्थापन और संख्यात्मक प्रतिस्थापन। मैपिंग प्रतिस्थापन में `रिप्लेस` विधि, अध्याय 8 में `str.replace` विधि और अध्याय 9 में `cat.codes` विधि शामिल है। यहां हम `रिप्लेस` के उपयोग का परिचय देते हैं।\n",
    "\n",
    "'प्रतिस्थापित करें' में, आप प्रतिस्थापन करने के लिए शब्दकोश निर्माण का उपयोग कर सकते हैं या दो सूचियों में पास कर सकते हैं:"
   ]
  },
  {
   "cell_type": "code",
   "execution_count": 54,
   "metadata": {},
   "outputs": [
    {
     "data": {
      "text/plain": [
       "0    0\n",
       "1    1\n",
       "2    1\n",
       "3    0\n",
       "4    1\n",
       "Name: Gender, dtype: int64"
      ]
     },
     "execution_count": 54,
     "metadata": {},
     "output_type": "execute_result"
    }
   ],
   "source": [
    "df['Gender'].replace({'Female':0, 'Male':1}).head()"
   ]
  },
  {
   "cell_type": "code",
   "execution_count": 55,
   "metadata": {},
   "outputs": [
    {
     "data": {
      "text/plain": [
       "0    0\n",
       "1    1\n",
       "2    1\n",
       "3    0\n",
       "4    1\n",
       "Name: Gender, dtype: int64"
      ]
     },
     "execution_count": 55,
     "metadata": {},
     "output_type": "execute_result"
    }
   ],
   "source": [
    "df['Gender'].replace(['Female', 'Male'], [0, 1]).head()"
   ]
  },
  {
   "cell_type": "markdown",
   "metadata": {},
   "source": [
    "इसके अलावा, `रिप्लेस` में एक विशेष दिशात्मक प्रतिस्थापन होता है। यदि `मेथड` पैरामीटर को `ffill` के रूप में निर्दिष्ट किया जाता है, तो यह सबसे हालिया अप्रतिस्थापित मान के साथ प्रतिस्थापित हो जाएगा, जबकि `bfill` आपके जैसा सबसे हालिया अप्रतिस्थापित मान के साथ प्रतिस्थापित हो जाएगा निम्नलिखित उदाहरणों से देख सकते हैं, उनके परिणाम भिन्न हैं:"
   ]
  },
  {
   "cell_type": "code",
   "execution_count": 56,
   "metadata": {},
   "outputs": [
    {
     "data": {
      "text/plain": [
       "0    a\n",
       "1    a\n",
       "2    b\n",
       "3    b\n",
       "4    b\n",
       "5    b\n",
       "6    a\n",
       "dtype: object"
      ]
     },
     "execution_count": 56,
     "metadata": {},
     "output_type": "execute_result"
    }
   ],
   "source": [
    "s = pd.Series(['a', 1, 'b', 2, 1, 1, 'a'])\n",
    "s.replace([1, 2], method='ffill')"
   ]
  },
  {
   "cell_type": "code",
   "execution_count": 57,
   "metadata": {},
   "outputs": [
    {
     "data": {
      "text/plain": [
       "0    a\n",
       "1    b\n",
       "2    b\n",
       "3    a\n",
       "4    a\n",
       "5    a\n",
       "6    a\n",
       "dtype: object"
      ]
     },
     "execution_count": 57,
     "metadata": {},
     "output_type": "execute_result"
    }
   ],
   "source": [
    "s.replace([1, 2], method='bfill')"
   ]
  },
  {
   "cell_type": "markdown",
   "metadata": {},
   "source": [
    "#### 【चेतावनी】कृपया नियमित प्रतिस्थापन के लिए `str.replace` का उपयोग करें\n",
    "\n",
    "यद्यपि नियमित प्रतिस्थापन का उपयोग `प्रतिस्थापन` के लिए किया जा सकता है, वर्तमान संस्करण में `स्ट्रिंग` प्रकार के नियमित प्रतिस्थापन के लिए अभी भी एक `बग` है, इसलिए यदि आपको इसकी आवश्यकता है, तो कृपया प्रतिस्थापन ऑपरेशन के लिए `str.replace` चुनें विशिष्ट विधि को अध्याय 8 में समझाया जाएगा।\n",
    "\n",
    "#### 【अंत】\n",
    "\n",
    "तार्किक प्रतिस्थापन में `कहां` और `मास्क` शामिल हैं। ये दो फ़ंक्शन पूरी तरह से सममित हैं: `जहां` फ़ंक्शन संगत को प्रतिस्थापित करता हैजी पंक्तियाँ `गलत` की इनपुट स्थिति के साथ, जबकि `मास्क` संबंधित पंक्तियों को `सही` की इनपुट स्थिति के साथ बदल देती है। जब प्रतिस्थापन मान निर्दिष्ट नहीं होता है, तो इसे लापता मान से बदल दिया जाता है।"
   ]
  },
  {
   "cell_type": "code",
   "execution_count": 58,
   "metadata": {},
   "outputs": [
    {
     "data": {
      "text/plain": [
       "0    -1.0\n",
       "1     NaN\n",
       "2     NaN\n",
       "3   -50.0\n",
       "dtype: float64"
      ]
     },
     "execution_count": 58,
     "metadata": {},
     "output_type": "execute_result"
    }
   ],
   "source": [
    "s = pd.Series([-1, 1.2345, 100, -50])\n",
    "s.where(s<0)"
   ]
  },
  {
   "cell_type": "code",
   "execution_count": 59,
   "metadata": {},
   "outputs": [
    {
     "data": {
      "text/plain": [
       "0     -1.0\n",
       "1    100.0\n",
       "2    100.0\n",
       "3    -50.0\n",
       "dtype: float64"
      ]
     },
     "execution_count": 59,
     "metadata": {},
     "output_type": "execute_result"
    }
   ],
   "source": [
    "s.where(s<0, 100)"
   ]
  },
  {
   "cell_type": "code",
   "execution_count": 60,
   "metadata": {},
   "outputs": [
    {
     "data": {
      "text/plain": [
       "0         NaN\n",
       "1      1.2345\n",
       "2    100.0000\n",
       "3         NaN\n",
       "dtype: float64"
      ]
     },
     "execution_count": 60,
     "metadata": {},
     "output_type": "execute_result"
    }
   ],
   "source": [
    "s.mask(s<0)"
   ]
  },
  {
   "cell_type": "code",
   "execution_count": 61,
   "metadata": {},
   "outputs": [
    {
     "data": {
      "text/plain": [
       "0    -50.0000\n",
       "1      1.2345\n",
       "2    100.0000\n",
       "3    -50.0000\n",
       "dtype: float64"
      ]
     },
     "execution_count": 61,
     "metadata": {},
     "output_type": "execute_result"
    }
   ],
   "source": [
    "s.mask(s<0, -50)"
   ]
  },
  {
   "cell_type": "markdown",
   "metadata": {},
   "source": [
    "ध्यान दें कि पारित शर्त को केवल एक बूलियन अनुक्रम होना चाहिए जो श्रृंखला के सूचकांक से मेल खाता हो:"
   ]
  },
  {
   "cell_type": "code",
   "execution_count": 62,
   "metadata": {},
   "outputs": [
    {
     "data": {
      "text/plain": [
       "0    -50.0000\n",
       "1      1.2345\n",
       "2    100.0000\n",
       "3    -50.0000\n",
       "dtype: float64"
      ]
     },
     "execution_count": 62,
     "metadata": {},
     "output_type": "execute_result"
    }
   ],
   "source": [
    "s_condition= pd.Series([True,False,False,True],index=s.index)\n",
    "s.mask(s_condition, -50)"
   ]
  },
  {
   "cell_type": "markdown",
   "metadata": {},
   "source": [
    "संख्यात्मक प्रतिस्थापन में 'राउंड, एब्स, क्लिप' विधियां शामिल हैं, जो क्रमशः दिए गए परिशुद्धता के लिए राउंडिंग, पूर्ण मान लेने और ट्रंकिंग का प्रतिनिधित्व करती हैं:"
   ]
  },
  {
   "cell_type": "code",
   "execution_count": 63,
   "metadata": {},
   "outputs": [
    {
     "data": {
      "text/plain": [
       "0     -1.00\n",
       "1      1.23\n",
       "2    100.00\n",
       "3    -50.00\n",
       "dtype: float64"
      ]
     },
     "execution_count": 63,
     "metadata": {},
     "output_type": "execute_result"
    }
   ],
   "source": [
    "s = pd.Series([-1, 1.2345, 100, -50])\n",
    "s.round(2)"
   ]
  },
  {
   "cell_type": "code",
   "execution_count": 64,
   "metadata": {},
   "outputs": [
    {
     "data": {
      "text/plain": [
       "0      1.0000\n",
       "1      1.2345\n",
       "2    100.0000\n",
       "3     50.0000\n",
       "dtype: float64"
      ]
     },
     "execution_count": 64,
     "metadata": {},
     "output_type": "execute_result"
    }
   ],
   "source": [
    "s.abs()"
   ]
  },
  {
   "cell_type": "code",
   "execution_count": 65,
   "metadata": {},
   "outputs": [
    {
     "data": {
      "text/plain": [
       "0    0.0000\n",
       "1    1.2345\n",
       "2    2.0000\n",
       "3    0.0000\n",
       "dtype: float64"
      ]
     },
     "execution_count": 65,
     "metadata": {},
     "output_type": "execute_result"
    }
   ],
   "source": [
    "s.clip(0, 2) # 前两个数分别表示上下截断边界"
   ]
  },
  {
   "cell_type": "markdown",
   "metadata": {},
   "source": [
    "#### 【अभ्यास】\n",
    "\n",
    "क्लिप में, सीमा से अधिक मानों को केवल सीमा मान तक छोटा किया जा सकता है। यदि आप सीमा से अधिक मानों को कस्टम मान से बदलना चाहते हैं, तो आपको यह कैसे करना चाहिए?\n",
    "\n",
    "#### 【अंत】\n",
    "\n",
    "### 5. सॉर्टिंग फ़ंक्शन\n",
    "सॉर्ट करने के दो तरीके हैं, एक है वैल्यू सॉर्टिंग, दूसरा है इंडेक्स सॉर्टिंग, और संबंधित फ़ंक्शन `sort_values` और `sort_index` हैं।\n",
    "\n",
    "सॉर्टिंग फ़ंक्शन को प्रदर्शित करने के लिए, निम्नलिखित पहले जीआर सेट करने के लिए `set_index` विधि का उपयोग करता हैएडीई और कॉलम को इंडेक्स के रूप में नाम दें, बहु-स्तरीय इंडेक्स की सामग्री और इंडेक्स सेटिंग की विधि को अध्याय 3 में विस्तार से समझाया जाएगा।"
   ]
  },
  {
   "cell_type": "code",
   "execution_count": 66,
   "metadata": {},
   "outputs": [
    {
     "data": {
      "text/html": [
       "<div>\n",
       "<style scoped>\n",
       "    .dataframe tbody tr th:only-of-type {\n",
       "        vertical-align: middle;\n",
       "    }\n",
       "\n",
       "    .dataframe tbody tr th {\n",
       "        vertical-align: top;\n",
       "    }\n",
       "\n",
       "    .dataframe thead th {\n",
       "        text-align: right;\n",
       "    }\n",
       "</style>\n",
       "<table border=\"1\" class=\"dataframe\">\n",
       "  <thead>\n",
       "    <tr style=\"text-align: right;\">\n",
       "      <th></th>\n",
       "      <th></th>\n",
       "      <th>Height</th>\n",
       "      <th>Weight</th>\n",
       "    </tr>\n",
       "    <tr>\n",
       "      <th>Grade</th>\n",
       "      <th>Name</th>\n",
       "      <th></th>\n",
       "      <th></th>\n",
       "    </tr>\n",
       "  </thead>\n",
       "  <tbody>\n",
       "    <tr>\n",
       "      <th rowspan=\"2\" valign=\"top\">Freshman</th>\n",
       "      <th>Gaopeng Yang</th>\n",
       "      <td>158.9</td>\n",
       "      <td>46.0</td>\n",
       "    </tr>\n",
       "    <tr>\n",
       "      <th>Changqiang You</th>\n",
       "      <td>166.5</td>\n",
       "      <td>70.0</td>\n",
       "    </tr>\n",
       "    <tr>\n",
       "      <th>Senior</th>\n",
       "      <th>Mei Sun</th>\n",
       "      <td>188.9</td>\n",
       "      <td>89.0</td>\n",
       "    </tr>\n",
       "  </tbody>\n",
       "</table>\n",
       "</div>"
      ],
      "text/plain": [
       "                         Height  Weight\n",
       "Grade    Name                          \n",
       "Freshman Gaopeng Yang     158.9    46.0\n",
       "         Changqiang You   166.5    70.0\n",
       "Senior   Mei Sun          188.9    89.0"
      ]
     },
     "execution_count": 66,
     "metadata": {},
     "output_type": "execute_result"
    }
   ],
   "source": [
    "df_demo = df[['Grade', 'Name', 'Height', 'Weight']].set_index(['Grade','Name'])\n",
    "df_demo.head(3)"
   ]
  },
  {
   "cell_type": "markdown",
   "metadata": {},
   "source": [
    "ऊंचाइयों को क्रमबद्ध करें, डिफ़ॉल्ट पैरामीटर `आरोही = सही` आरोही क्रम में है:"
   ]
  },
  {
   "cell_type": "code",
   "execution_count": 67,
   "metadata": {},
   "outputs": [
    {
     "data": {
      "text/html": [
       "<div>\n",
       "<style scoped>\n",
       "    .dataframe tbody tr th:only-of-type {\n",
       "        vertical-align: middle;\n",
       "    }\n",
       "\n",
       "    .dataframe tbody tr th {\n",
       "        vertical-align: top;\n",
       "    }\n",
       "\n",
       "    .dataframe thead th {\n",
       "        text-align: right;\n",
       "    }\n",
       "</style>\n",
       "<table border=\"1\" class=\"dataframe\">\n",
       "  <thead>\n",
       "    <tr style=\"text-align: right;\">\n",
       "      <th></th>\n",
       "      <th></th>\n",
       "      <th>Height</th>\n",
       "      <th>Weight</th>\n",
       "    </tr>\n",
       "    <tr>\n",
       "      <th>Grade</th>\n",
       "      <th>Name</th>\n",
       "      <th></th>\n",
       "      <th></th>\n",
       "    </tr>\n",
       "  </thead>\n",
       "  <tbody>\n",
       "    <tr>\n",
       "      <th>Junior</th>\n",
       "      <th>Xiaoli Chu</th>\n",
       "      <td>145.4</td>\n",
       "      <td>34.0</td>\n",
       "    </tr>\n",
       "    <tr>\n",
       "      <th>Senior</th>\n",
       "      <th>Gaomei Lv</th>\n",
       "      <td>147.3</td>\n",
       "      <td>34.0</td>\n",
       "    </tr>\n",
       "    <tr>\n",
       "      <th>Sophomore</th>\n",
       "      <th>Peng Han</th>\n",
       "      <td>147.8</td>\n",
       "      <td>34.0</td>\n",
       "    </tr>\n",
       "    <tr>\n",
       "      <th>Senior</th>\n",
       "      <th>Changli Lv</th>\n",
       "      <td>148.7</td>\n",
       "      <td>41.0</td>\n",
       "    </tr>\n",
       "    <tr>\n",
       "      <th>Sophomore</th>\n",
       "      <th>Changjuan You</th>\n",
       "      <td>150.5</td>\n",
       "      <td>40.0</td>\n",
       "    </tr>\n",
       "  </tbody>\n",
       "</table>\n",
       "</div>"
      ],
      "text/plain": [
       "                         Height  Weight\n",
       "Grade     Name                         \n",
       "Junior    Xiaoli Chu      145.4    34.0\n",
       "Senior    Gaomei Lv       147.3    34.0\n",
       "Sophomore Peng Han        147.8    34.0\n",
       "Senior    Changli Lv      148.7    41.0\n",
       "Sophomore Changjuan You   150.5    40.0"
      ]
     },
     "execution_count": 67,
     "metadata": {},
     "output_type": "execute_result"
    }
   ],
   "source": [
    "df_demo.sort_values('Height').head()"
   ]
  },
  {
   "cell_type": "code",
   "execution_count": 68,
   "metadata": {},
   "outputs": [
    {
     "data": {
      "text/html": [
       "<div>\n",
       "<style scoped>\n",
       "    .dataframe tbody tr th:only-of-type {\n",
       "        vertical-align: middle;\n",
       "    }\n",
       "\n",
       "    .dataframe tbody tr th {\n",
       "        vertical-align: top;\n",
       "    }\n",
       "\n",
       "    .dataframe thead th {\n",
       "        text-align: right;\n",
       "    }\n",
       "</style>\n",
       "<table border=\"1\" class=\"dataframe\">\n",
       "  <thead>\n",
       "    <tr style=\"text-align: right;\">\n",
       "      <th></th>\n",
       "      <th></th>\n",
       "      <th>Height</th>\n",
       "      <th>Weight</th>\n",
       "    </tr>\n",
       "    <tr>\n",
       "      <th>Grade</th>\n",
       "      <th>Name</th>\n",
       "      <th></th>\n",
       "      <th></th>\n",
       "    </tr>\n",
       "  </thead>\n",
       "  <tbody>\n",
       "    <tr>\n",
       "      <th rowspan=\"3\" valign=\"top\">Senior</th>\n",
       "      <th>Xiaoqiang Qin</th>\n",
       "      <td>193.9</td>\n",
       "      <td>79.0</td>\n",
       "    </tr>\n",
       "    <tr>\n",
       "      <th>Mei Sun</th>\n",
       "      <td>188.9</td>\n",
       "      <td>89.0</td>\n",
       "    </tr>\n",
       "    <tr>\n",
       "      <th>Gaoli Zhao</th>\n",
       "      <td>186.5</td>\n",
       "      <td>83.0</td>\n",
       "    </tr>\n",
       "    <tr>\n",
       "      <th>Freshman</th>\n",
       "      <th>Qiang Han</th>\n",
       "      <td>185.3</td>\n",
       "      <td>87.0</td>\n",
       "    </tr>\n",
       "    <tr>\n",
       "      <th>Senior</th>\n",
       "      <th>Qiang Zheng</th>\n",
       "      <td>183.9</td>\n",
       "      <td>87.0</td>\n",
       "    </tr>\n",
       "  </tbody>\n",
       "</table>\n",
       "</div>"
      ],
      "text/plain": [
       "                        Height  Weight\n",
       "Grade    Name                         \n",
       "Senior   Xiaoqiang Qin   193.9    79.0\n",
       "         Mei Sun         188.9    89.0\n",
       "         Gaoli Zhao      186.5    83.0\n",
       "Freshman Qiang Han       185.3    87.0\n",
       "Senior   Qiang Zheng     183.9    87.0"
      ]
     },
     "execution_count": 68,
     "metadata": {},
     "output_type": "execute_result"
    }
   ],
   "source": [
    "df_demo.sort_values('Height', ascending=False).head()"
   ]
  },
  {
   "cell_type": "markdown",
   "metadata": {},
   "source": [
    "सॉर्टिंग में, हमें अक्सर कई कॉलमों को सॉर्ट करने की समस्या का सामना करना पड़ता है, उदाहरण के लिए, जब वजन समान होता है, तो हम ऊंचाई को सॉर्ट करते हैं और ऊंचाई को घटते क्रम में और वजन को आरोही क्रम में रखते हैं:"
   ]
  },
  {
   "cell_type": "code",
   "execution_count": 69,
   "metadata": {},
   "outputs": [
    {
     "data": {
      "text/html": [
       "<div>\n",
       "<style scoped>\n",
       "    .dataframe tbody tr th:only-of-type {\n",
       "        vertical-align: middle;\n",
       "    }\n",
       "\n",
       "    .dataframe tbody tr th {\n",
       "        vertical-align: top;\n",
       "    }\n",
       "\n",
       "    .dataframe thead th {\n",
       "        text-align: right;\n",
       "    }\n",
       "</style>\n",
       "<table border=\"1\" class=\"dataframe\">\n",
       "  <thead>\n",
       "    <tr style=\"text-align: right;\">\n",
       "      <th></th>\n",
       "      <th></th>\n",
       "      <th>Height</th>\n",
       "      <th>Weight</th>\n",
       "    </tr>\n",
       "    <tr>\n",
       "      <th>Grade</th>\n",
       "      <th>Name</th>\n",
       "      <th></th>\n",
       "      <th></th>\n",
       "    </tr>\n",
       "  </thead>\n",
       "  <tbody>\n",
       "    <tr>\n",
       "      <th>Sophomore</th>\n",
       "      <th>Peng Han</th>\n",
       "      <td>147.8</td>\n",
       "      <td>34.0</td>\n",
       "    </tr>\n",
       "    <tr>\n",
       "      <th>Senior</th>\n",
       "      <th>Gaomei Lv</th>\n",
       "      <td>147.3</td>\n",
       "      <td>34.0</td>\n",
       "    </tr>\n",
       "    <tr>\n",
       "      <th>Junior</th>\n",
       "      <th>Xiaoli Chu</th>\n",
       "      <td>145.4</td>\n",
       "      <td>34.0</td>\n",
       "    </tr>\n",
       "    <tr>\n",
       "      <th>Sophomore</th>\n",
       "      <th>Qiang Zhou</th>\n",
       "      <td>150.5</td>\n",
       "      <td>36.0</td>\n",
       "    </tr>\n",
       "    <tr>\n",
       "      <th>Freshman</th>\n",
       "      <th>Yanqiang Xu</th>\n",
       "      <td>152.4</td>\n",
       "      <td>38.0</td>\n",
       "    </tr>\n",
       "  </tbody>\n",
       "</table>\n",
       "</div>"
      ],
      "text/plain": [
       "                       Height  Weight\n",
       "Grade     Name                       \n",
       "Sophomore Peng Han      147.8    34.0\n",
       "Senior    Gaomei Lv     147.3    34.0\n",
       "Junior    Xiaoli Chu    145.4    34.0\n",
       "Sophomore Qiang Zhou    150.5    36.0\n",
       "Freshman  Yanqiang Xu   152.4    38.0"
      ]
     },
     "execution_count": 69,
     "metadata": {},
     "output_type": "execute_result"
    }
   ],
   "source": [
    "df_demo.sort_values(['Weight','Height'],ascending=[True,False]).head()"
   ]
  },
  {
   "cell_type": "markdown",
   "metadata": {},
   "source": [
    "इंडेक्स सॉर्टिंग का उपयोग बिल्कुल वैल्यू सॉर्टिंग के समान है, सिवाय इसके कि तत्व का मान इंडेक्स में है, और आपको पैरामीटर `स्तर` द्वारा दर्शाए गए इंडेक्स स्तर का नाम या स्तर संख्या निर्दिष्ट करने की आवश्यकता है , यह ध्यान दिया जाना चाहिए कि स्ट्रिंग्स का क्रम वर्णमाला क्रम से निर्धारित होता है।"
   ]
  },
  {
   "cell_type": "code",
   "execution_count": 70,
   "metadata": {},
   "outputs": [
    {
     "data": {
      "text/html": [
       "<div>\n",
       "<style scoped>\n",
       "    .dataframe tbody tr th:only-of-type {\n",
       "        vertical-align: middle;\n",
       "    }\n",
       "\n",
       "    .dataframe tbody tr th {\n",
       "        vertical-align: top;\n",
       "    }\n",
       "\n",
       "    .dataframe thead th {\n",
       "        text-align: right;\n",
       "    }\n",
       "</style>\n",
       "<table border=\"1\" class=\"dataframe\">\n",
       "  <thead>\n",
       "    <tr style=\"text-align: right;\">\n",
       "      <th></th>\n",
       "      <th></th>\n",
       "      <th>Height</th>\n",
       "      <th>Weight</th>\n",
       "    </tr>\n",
       "    <tr>\n",
       "      <th>Grade</th>\n",
       "      <th>Name</th>\n",
       "      <th></th>\n",
       "      <th></th>\n",
       "    </tr>\n",
       "  </thead>\n",
       "  <tbody>\n",
       "    <tr>\n",
       "      <th rowspan=\"5\" valign=\"top\">Freshman</th>\n",
       "      <th>Yanquan Wang</th>\n",
       "      <td>163.5</td>\n",
       "      <td>55.0</td>\n",
       "    </tr>\n",
       "    <tr>\n",
       "      <th>Yanqiang Xu</th>\n",
       "      <td>152.4</td>\n",
       "      <td>38.0</td>\n",
       "    </tr>\n",
       "    <tr>\n",
       "      <th>Yanqiang Feng</th>\n",
       "      <td>162.3</td>\n",
       "      <td>51.0</td>\n",
       "    </tr>\n",
       "    <tr>\n",
       "      <th>Yanpeng Lv</th>\n",
       "      <td>NaN</td>\n",
       "      <td>65.0</td>\n",
       "    </tr>\n",
       "    <tr>\n",
       "      <th>Yanli Zhang</th>\n",
       "      <td>165.1</td>\n",
       "      <td>52.0</td>\n",
       "    </tr>\n",
       "  </tbody>\n",
       "</table>\n",
       "</div>"
      ],
      "text/plain": [
       "                        Height  Weight\n",
       "Grade    Name                         \n",
       "Freshman Yanquan Wang    163.5    55.0\n",
       "         Yanqiang Xu     152.4    38.0\n",
       "         Yanqiang Feng   162.3    51.0\n",
       "         Yanpeng Lv        NaN    65.0\n",
       "         Yanli Zhang     165.1    52.0"
      ]
     },
     "execution_count": 70,
     "metadata": {},
     "output_type": "execute_result"
    }
   ],
   "source": [
    "df_demo.sort_index(level=['Grade','Name'],ascending=[True,False]).head()"
   ]
  },
  {
   "cell_type": "markdown",
   "metadata": {},
   "source": [
    "### 6. विधि लागू करें\n",
    "'लागू करें' विधि का उपयोग अक्सर 'डेटाफ़्रेम' की पंक्ति या स्तंभ पुनरावृत्ति के लिए किया जाता है। इसके 'अक्ष' का अर्थ धारा 2 में सांख्यिकीय एकत्रीकरण फ़ंक्शन के समान है। 'लागू करें' का पैरामीटर अक्सर इनपुट के रूप में अनुक्रम वाला एक फ़ंक्शन होता है। उदाहरण के लिए, `.mean()` के लिए, `लागू करें` को इस प्रकार लिखा जा सकता है:"
   ]
  },
  {
   "cell_type": "code",
   "execution_count": 71,
   "metadata": {},
   "outputs": [
    {
     "data": {
      "text/plain": [
       "Height    163.218033\n",
       "Weight     55.015873\n",
       "dtype: float64"
      ]
     },
     "execution_count": 71,
     "metadata": {},
     "output_type": "execute_result"
    }
   ],
   "source": [
    "df_demo = df[['Height', 'Weight']]\n",
    "def my_mean(x):\n",
    "     res = x.mean()\n",
    "     return res\n",
    "df_demo.apply(my_mean)"
   ]
  },
  {
   "cell_type": "markdown",
   "metadata": {},
   "source": [
    "इसी तरह, हम लेखन को संक्षिप्त बनाने के लिए लैम्ब्डा एक्सप्रेशन का उपयोग कर सकते हैं, यहां x, df_demo तालिका में एक-एक करके दर्ज किए गए अनुक्रम को संदर्भित करता है:"
   ]
  },
  {
   "cell_type": "code",
   "execution_count": 72,
   "metadata": {},
   "outputs": [
    {
     "data": {
      "text/plain": [
       "Height    163.218033\n",
       "Weight     55.015873\n",
       "dtype: float64"
      ]
     },
     "execution_count": 72,
     "metadata": {},
     "output_type": "execute_result"
    }
   ],
   "source": [
    "df_demo.apply(lambda x:x.mean())"
   ]
  },
  {
   "cell_type": "markdown",
   "metadata": {},
   "source": [
    "यदि अक्ष=1 निर्दिष्ट है, तो पंक्ति तत्वों से युक्त एक श्रृंखला हर बार फ़ंक्शन में पारित की जाती है, और परिणाम पिछली पंक्ति-दर-पंक्ति माध्य परिणाम के अनुरूप होता है।"
   ]
  },
  {
   "cell_type": "code",
   "execution_count": 73,
   "metadata": {},
   "outputs": [
    {
     "data": {
      "text/plain": [
       "0    102.45\n",
       "1    118.25\n",
       "2    138.95\n",
       "3     41.00\n",
       "4    124.00\n",
       "dtype: float64"
      ]
     },
     "execution_count": 73,
     "metadata": {},
     "output_type": "execute_result"
    }
   ],
   "source": [
    "df_demo.apply(lambda x:x.mean(), axis=1).head()"
   ]
  },
  {
   "cell_type": "markdown",
   "metadata": {},
   "source": [
    "यहां एक और उदाहरण है: `पागल` फ़ंक्शन अनुक्रम के माध्य से विचलन के निरपेक्ष मान का माध्य लौटाता है। उदाहरण के लिए, अनुक्रम 1, 3, 7, 10 में, माध्य 5.25 है, और। प्रत्येक तत्व के विचलन के पूर्ण मान 4.25, 2.25, 1.75, 4.75 हैं। इस विचलन अनुक्रम का माध्य 3.25 है। अब ऊंचाई और वजन के `पागल` सूचकांक की गणना करने के लिए `लागू करें` का उपयोग करें:"
   ]
  },
  {
   "cell_type": "code",
   "execution_count": 74,
   "metadata": {},
   "outputs": [
    {
     "data": {
      "text/plain": [
       "Height     6.707229\n",
       "Weight    10.391870\n",
       "dtype: float64"
      ]
     },
     "execution_count": 74,
     "metadata": {},
     "output_type": "execute_result"
    }
   ],
   "source": [
    "df_demo.apply(lambda x:(x-x.mean()).abs().mean())"
   ]
  },
  {
   "cell_type": "markdown",
   "metadata": {},
   "source": [
    "यह अंतर्निहित `पागल` फ़ंक्शन का उपयोग करके गणना किए गए परिणाम के अनुरूप है:"
   ]
  },
  {
   "cell_type": "code",
   "execution_count": 75,
   "metadata": {},
   "outputs": [
    {
     "data": {
      "text/plain": [
       "Height     6.707229\n",
       "Weight    10.391870\n",
       "dtype: float64"
      ]
     },
     "execution_count": 75,
     "metadata": {},
     "output_type": "execute_result"
    }
   ],
   "source": [
    "df_demo.mad()"
   ]
  },
  {
   "cell_type": "markdown",
   "metadata": {},
   "source": [
    "#### 【चेतावनी】 सावधानी के साथ `लागू करें' का प्रयोग करें\n",
    "\n",
    "पारित कस्टम फ़ंक्शन के प्रसंस्करण के लिए धन्यवाद, `लागू करें` में उच्च स्तर की स्वतंत्रता है, लेकिन यह सामान्य रूप से प्रदर्शन की कीमत पर आता है, `पांडा` के अंतर्निहित कार्यों का उपयोग करने की गति और `लागू करें` एक ही कार्य को संभालना काफी अलग होगा, इसलिए अनुकूलन की वास्तविक आवश्यकता होने पर ही 'लागू करें' का उपयोग करने पर विचार करें।\n",
    "\n",
    "#### 【अंत】\n",
    "\n",
    "## 4. विंडो ऑब्जेक्ट\n",
    "`पांडा` में 3 प्रकार की विंडो होती हैं, अर्थात् स्लाइडिंग विंडो `रोलिंग`, एक्सपेंडीएनजी विंडोज़ `विस्तार`, और घातीय रूप से भारित विंडोज़ `ईडब्ल्यूएम` यह ध्यान दिया जाना चाहिए कि विंडो आकार के रूप में दिनांक ऑफसेट के साथ स्लाइडिंग विंडो पर अध्याय 10 में चर्चा की जाएगी, और घातीय रूप से भारित विंडो को इस अध्याय के अभ्यास में देखा जा सकता है। .\n",
    "\n",
    "### 1. स्लाइडिंग विंडो ऑब्जेक्ट\n",
    "स्लाइडिंग विंडो फ़ंक्शन का उपयोग करने के लिए, आपको पहले स्लाइडिंग विंडो ऑब्जेक्ट प्राप्त करने के लिए अनुक्रम पर `.rolling` का उपयोग करना होगा, और इसका सबसे महत्वपूर्ण पैरामीटर विंडो आकार `विंडो` है।"
   ]
  },
  {
   "cell_type": "code",
   "execution_count": 76,
   "metadata": {},
   "outputs": [
    {
     "data": {
      "text/plain": [
       "Rolling [window=3,center=False,axis=0]"
      ]
     },
     "execution_count": 76,
     "metadata": {},
     "output_type": "execute_result"
    }
   ],
   "source": [
    "s = pd.Series([1,2,3,4,5])\n",
    "roller = s.rolling(window = 3)\n",
    "roller"
   ]
  },
  {
   "cell_type": "markdown",
   "metadata": {},
   "source": [
    "स्लाइडिंग विंडो ऑब्जेक्ट प्राप्त करने के बाद, आप गणना के लिए संबंधित एग्रीगेट फ़ंक्शन का उपयोग कर सकते हैं। यह ध्यान दिया जाना चाहिए कि विंडो में वह तत्व शामिल है जहां वर्तमान पंक्ति स्थित है, उदाहरण के लिए, चौथे स्थान पर माध्य ऑपरेशन करते समय, (2+)। (1+2+3)/3 के बजाय 3+4)/3 की गणना की जानी चाहिए:"
   ]
  },
  {
   "cell_type": "code",
   "execution_count": 77,
   "metadata": {},
   "outputs": [
    {
     "data": {
      "text/plain": [
       "0    NaN\n",
       "1    NaN\n",
       "2    2.0\n",
       "3    3.0\n",
       "4    4.0\n",
       "dtype: float64"
      ]
     },
     "execution_count": 77,
     "metadata": {},
     "output_type": "execute_result"
    }
   ],
   "source": [
    "roller.mean()"
   ]
  },
  {
   "cell_type": "code",
   "execution_count": 78,
   "metadata": {},
   "outputs": [
    {
     "data": {
      "text/plain": [
       "0     NaN\n",
       "1     NaN\n",
       "2     6.0\n",
       "3     9.0\n",
       "4    12.0\n",
       "dtype: float64"
      ]
     },
     "execution_count": 78,
     "metadata": {},
     "output_type": "execute_result"
    }
   ],
   "source": [
    "roller.sum()"
   ]
  },
  {
   "cell_type": "markdown",
   "metadata": {},
   "source": [
    "स्लाइडिंग सहसंबंध गुणांक या स्लाइडिंग सहप्रसरण की गणना निम्नानुसार लिखी जा सकती है:"
   ]
  },
  {
   "cell_type": "code",
   "execution_count": 79,
   "metadata": {},
   "outputs": [
    {
     "data": {
      "text/plain": [
       "0     NaN\n",
       "1     NaN\n",
       "2     2.5\n",
       "3     7.0\n",
       "4    12.0\n",
       "dtype: float64"
      ]
     },
     "execution_count": 79,
     "metadata": {},
     "output_type": "execute_result"
    }
   ],
   "source": [
    "s2 = pd.Series([1,2,6,16,30])\n",
    "roller.cov(s2)"
   ]
  },
  {
   "cell_type": "code",
   "execution_count": 80,
   "metadata": {},
   "outputs": [
    {
     "data": {
      "text/plain": [
       "0         NaN\n",
       "1         NaN\n",
       "2    0.944911\n",
       "3    0.970725\n",
       "4    0.995402\n",
       "dtype: float64"
      ]
     },
     "execution_count": 80,
     "metadata": {},
     "output_type": "execute_result"
    }
   ],
   "source": [
    "roller.corr(s2)"
   ]
  },
  {
   "cell_type": "markdown",
   "metadata": {},
   "source": [
    "इसके अलावा, यह एक कस्टम फ़ंक्शन में पास करने के लिए `लागू करें` का उपयोग करने का भी समर्थन करता है, जहां पारित मान संबंधित विंडो की `श्रृंखला` है। उदाहरण के लिए, उपरोक्त माध्य फ़ंक्शन को समान रूप से व्यक्त किया जा सकता है:"
   ]
  },
  {
   "cell_type": "code",
   "execution_count": 81,
   "metadata": {},
   "outputs": [
    {
     "data": {
      "text/plain": [
       "0    NaN\n",
       "1    NaN\n",
       "2    2.0\n",
       "3    3.0\n",
       "4    4.0\n",
       "dtype: float64"
      ]
     },
     "execution_count": 81,
     "metadata": {},
     "output_type": "execute_result"
    }
   ],
   "source": [
    "roller.apply(lambda x:x.mean())"
   ]
  },
  {
   "cell_type": "markdown",
   "metadata": {},
   "source": [
    "`shift, diff, pct_change` स्लाइडिंग विंडो फ़ंक्शंस का एक सेट है, उनका सामान्य पैरामीटर `periods=n` है, डिफ़ॉल्ट 1 है, जिसका अर्थ है `n`वें तत्व का मान पहले लेना, `के साथ अंतर लेना n`वें तत्व से पहले (`नम्पी` से भिन्न, जिसका अर्थ है `n` ऑर्डर अंतर), और पहले के `n`वें तत्व की तुलना में विकास दर की गणना, यहां `n` नकारात्मक हो सकता है, जो समान संचालन का संकेत देता है उल्टी दिशा।"
   ]
  },
  {
   "cell_type": "code",
   "execution_count": 82,
   "metadata": {},
   "outputs": [
    {
     "data": {
      "text/plain": [
       "0    NaN\n",
       "1    NaN\n",
       "2    1.0\n",
       "3    3.0\n",
       "4    6.0\n",
       "dtype: float64"
      ]
     },
     "execution_count": 82,
     "metadata": {},
     "output_type": "execute_result"
    }
   ],
   "source": [
    "s = pd.Series([1,3,6,10,15])\n",
    "s.shift(2)"
   ]
  },
  {
   "cell_type": "code",
   "execution_count": 83,
   "metadata": {},
   "outputs": [
    {
     "data": {
      "text/plain": [
       "0     NaN\n",
       "1     NaN\n",
       "2     NaN\n",
       "3     9.0\n",
       "4    12.0\n",
       "dtype: float64"
      ]
     },
     "execution_count": 83,
     "metadata": {},
     "output_type": "execute_result"
    }
   ],
   "source": [
    "s.diff(3)"
   ]
  },
  {
   "cell_type": "code",
   "execution_count": 84,
   "metadata": {},
   "outputs": [
    {
     "data": {
      "text/plain": [
       "0         NaN\n",
       "1    2.000000\n",
       "2    1.000000\n",
       "3    0.666667\n",
       "4    0.500000\n",
       "dtype: float64"
      ]
     },
     "execution_count": 84,
     "metadata": {},
     "output_type": "execute_result"
    }
   ],
   "source": [
    "s.pct_change()"
   ]
  },
  {
   "cell_type": "code",
   "execution_count": 85,
   "metadata": {},
   "outputs": [
    {
     "data": {
      "text/plain": [
       "0     3.0\n",
       "1     6.0\n",
       "2    10.0\n",
       "3    15.0\n",
       "4     NaN\n",
       "dtype: float64"
      ]
     },
     "execution_count": 85,
     "metadata": {},
     "output_type": "execute_result"
    }
   ],
   "source": [
    "s.shift(-1)"
   ]
  },
  {
   "cell_type": "code",
   "execution_count": 86,
   "metadata": {},
   "outputs": [
    {
     "data": {
      "text/plain": [
       "0   -5.0\n",
       "1   -7.0\n",
       "2   -9.0\n",
       "3    NaN\n",
       "4    NaN\n",
       "dtype: float64"
      ]
     },
     "execution_count": 86,
     "metadata": {},
     "output_type": "execute_result"
    }
   ],
   "source": [
    "s.diff(-2)"
   ]
  },
  {
   "cell_type": "markdown",
   "metadata": {},
   "source": [
    "उन्हें स्लाइडिंग विंडो फ़ंक्शंस मानने का कारण यह है कि उनकी कार्यक्षमता को 'n+1' के विंडो आकार के साथ 'रोलिंग' विधि द्वारा समान रूप से प्रतिस्थापित किया जा सकता है:"
   ]
  },
  {
   "cell_type": "code",
   "execution_count": 87,
   "metadata": {},
   "outputs": [
    {
     "data": {
      "text/plain": [
       "0    NaN\n",
       "1    NaN\n",
       "2    1.0\n",
       "3    3.0\n",
       "4    6.0\n",
       "dtype: float64"
      ]
     },
     "execution_count": 87,
     "metadata": {},
     "output_type": "execute_result"
    }
   ],
   "source": [
    "s.rolling(3).apply(lambda x:list(x)[0]) # s.shift(2)"
   ]
  },
  {
   "cell_type": "code",
   "execution_count": 88,
   "metadata": {},
   "outputs": [
    {
     "data": {
      "text/plain": [
       "0     NaN\n",
       "1     NaN\n",
       "2     NaN\n",
       "3     9.0\n",
       "4    12.0\n",
       "dtype: float64"
      ]
     },
     "execution_count": 88,
     "metadata": {},
     "output_type": "execute_result"
    }
   ],
   "source": [
    " s.rolling(4).apply(lambda x:list(x)[-1]-list(x)[0]) # s.diff(3)"
   ]
  },
  {
   "cell_type": "code",
   "execution_count": 89,
   "metadata": {},
   "outputs": [
    {
     "data": {
      "text/plain": [
       "0         NaN\n",
       "1    2.000000\n",
       "2    1.000000\n",
       "3    0.666667\n",
       "4    0.500000\n",
       "dtype: float64"
      ]
     },
     "execution_count": 89,
     "metadata": {},
     "output_type": "execute_result"
    }
   ],
   "source": [
    "def my_pct(x):\n",
    "     L = list(x)\n",
    "     return L[-1]/L[0]-1\n",
    "s.rolling(2).apply(my_pct) # s.pct_change()"
   ]
  },
  {
   "cell_type": "markdown",
   "metadata": {},
   "source": [
    "#### 【अभ्यास】\n",
    "\n",
    "`रोलिंग` ऑब्जेक्ट की डिफ़ॉल्ट विंडो दिशा आगे है। कुछ मामलों में, उपयोगकर्ताओं को एक बैकवर्ड विंडो की आवश्यकता होती है। उदाहरण के लिए, यदि 2 की बैकवर्ड विंडो के साथ `सम` ऑपरेशन 1, 2, 3 के लिए सेट है। 3, 5, NaN. बैकवर्ड स्लाइडिंग विंडो ऑपरेशन कैसे कार्यान्वित किया जाना चाहिए?\n",
    "\n",
    "#### 【अंत】\n",
    "\n",
    "### 2. विस्तारित खिड़की\n",
    "विस्तारित विंडो को संचयी विंडो भी कहा जाता है इसे गतिशील लंबाई की विंडो के रूप में समझा जा सकता हैn अनुक्रम की शुरुआत से विशिष्ट ऑपरेशन तक। उपयोग किया गया एकत्रीकरण फ़ंक्शन इन धीरे-धीरे विस्तारित होने वाली विंडो पर कार्य करेगा। विशेष रूप से, अनुक्रम a1, a2, a3, a4 है, तो प्रत्येक स्थिति के अनुरूप विंडो \\[a1\\ है। ], \\[a1, a2\\], \\[a1, a2, a3\\], \\[a1, a2, a3, a4\\]।"
   ]
  },
  {
   "cell_type": "code",
   "execution_count": 90,
   "metadata": {},
   "outputs": [
    {
     "data": {
      "text/plain": [
       "0    1.000000\n",
       "1    2.000000\n",
       "2    3.333333\n",
       "3    5.000000\n",
       "dtype: float64"
      ]
     },
     "execution_count": 90,
     "metadata": {},
     "output_type": "execute_result"
    }
   ],
   "source": [
    "s = pd.Series([1, 3, 6, 10])\n",
    "s.expanding().mean()"
   ]
  },
  {
   "cell_type": "markdown",
   "metadata": {},
   "source": [
    "#### 【अभ्यास】\n",
    "\n",
    "`कममैक्स, कमसम, कमप्रोड` फ़ंक्शंस विशिष्ट विस्तारित विंडो फ़ंक्शंस हैं। कृपया उन्हें बदले में लागू करने के लिए `एक्सपैंडिंग` ऑब्जेक्ट का उपयोग करें।\n",
    "\n",
    "#### 【अंत】\n",
    "\n",
    "##5.अभ्यास\n",
    "### Ex1: पोकेमॉन डेटासेट\n",
    "यहाँ एक पोकेमॉन डेटा सेट है:\n",
    "\n",
    "* `#` राष्ट्रीय सचित्र संख्या का प्रतिनिधित्व करता है। विभिन्न पंक्तियों में एक ही संख्या राक्षस के विभिन्न राज्यों का प्रतिनिधित्व करती है\n",
    "\n",
    "* राक्षसों में एकल विशेषताएँ और दोहरी विशेषताएँ होती हैं, एकल-विशेषता राक्षसों के लिए, `टाइप 2` होता हैएक लुप्त मान\n",
    "\n",
    "* `कुल, एचपी, आक्रमण, रक्षा, एसपी. एटीके, एसपी. डीईएफ़, गति` क्रमशः दौड़ मूल्य, शारीरिक शक्ति, शारीरिक आक्रमण, रक्षा, विशेष आक्रमण, विशेष रक्षा और गति का योग है अंतिम 6 आइटम."
   ]
  },
  {
   "cell_type": "code",
   "execution_count": 91,
   "metadata": {},
   "outputs": [
    {
     "data": {
      "text/html": [
       "<div>\n",
       "<style scoped>\n",
       "    .dataframe tbody tr th:only-of-type {\n",
       "        vertical-align: middle;\n",
       "    }\n",
       "\n",
       "    .dataframe tbody tr th {\n",
       "        vertical-align: top;\n",
       "    }\n",
       "\n",
       "    .dataframe thead th {\n",
       "        text-align: right;\n",
       "    }\n",
       "</style>\n",
       "<table border=\"1\" class=\"dataframe\">\n",
       "  <thead>\n",
       "    <tr style=\"text-align: right;\">\n",
       "      <th></th>\n",
       "      <th>#</th>\n",
       "      <th>Name</th>\n",
       "      <th>Type 1</th>\n",
       "      <th>Type 2</th>\n",
       "      <th>Total</th>\n",
       "      <th>HP</th>\n",
       "      <th>Attack</th>\n",
       "      <th>Defense</th>\n",
       "      <th>Sp. Atk</th>\n",
       "      <th>Sp. Def</th>\n",
       "      <th>Speed</th>\n",
       "    </tr>\n",
       "  </thead>\n",
       "  <tbody>\n",
       "    <tr>\n",
       "      <th>0</th>\n",
       "      <td>1</td>\n",
       "      <td>Bulbasaur</td>\n",
       "      <td>Grass</td>\n",
       "      <td>Poison</td>\n",
       "      <td>318</td>\n",
       "      <td>45</td>\n",
       "      <td>49</td>\n",
       "      <td>49</td>\n",
       "      <td>65</td>\n",
       "      <td>65</td>\n",
       "      <td>45</td>\n",
       "    </tr>\n",
       "    <tr>\n",
       "      <th>1</th>\n",
       "      <td>2</td>\n",
       "      <td>Ivysaur</td>\n",
       "      <td>Grass</td>\n",
       "      <td>Poison</td>\n",
       "      <td>405</td>\n",
       "      <td>60</td>\n",
       "      <td>62</td>\n",
       "      <td>63</td>\n",
       "      <td>80</td>\n",
       "      <td>80</td>\n",
       "      <td>60</td>\n",
       "    </tr>\n",
       "    <tr>\n",
       "      <th>2</th>\n",
       "      <td>3</td>\n",
       "      <td>Venusaur</td>\n",
       "      <td>Grass</td>\n",
       "      <td>Poison</td>\n",
       "      <td>525</td>\n",
       "      <td>80</td>\n",
       "      <td>82</td>\n",
       "      <td>83</td>\n",
       "      <td>100</td>\n",
       "      <td>100</td>\n",
       "      <td>80</td>\n",
       "    </tr>\n",
       "  </tbody>\n",
       "</table>\n",
       "</div>"
      ],
      "text/plain": [
       "   #       Name Type 1  Type 2  Total  HP  Attack  Defense  Sp. Atk  Sp. Def  \\\n",
       "0  1  Bulbasaur  Grass  Poison    318  45      49       49       65       65   \n",
       "1  2    Ivysaur  Grass  Poison    405  60      62       63       80       80   \n",
       "2  3   Venusaur  Grass  Poison    525  80      82       83      100      100   \n",
       "\n",
       "   Speed  \n",
       "0     45  \n",
       "1     60  \n",
       "2     80  "
      ]
     },
     "execution_count": 91,
     "metadata": {},
     "output_type": "execute_result"
    }
   ],
   "source": [
    "df = pd.read_csv('../data/pokemon.csv')\n",
    "df.head(3)"
   ]
  },
  {
   "cell_type": "markdown",
   "metadata": {},
   "source": [
    "1. `एचपी, अटैक, डिफेंस, एसपी. एटीके, एसपी. डीईएफ़, स्पीड` जोड़ें और सत्यापित करें कि क्या यह `कुल` मान है।\n",
    "\n",
    "2. बार-बार `#` वाले राक्षसों के लिए, केवल पहला रिकॉर्ड रखें और निम्नलिखित समस्याओं का समाधान करें:\n",
    "\n",
    "* पहली विशेषता के प्रकारों की संख्या और शीर्ष तीन संख्याओं के अनुरूप प्रकार ज्ञात करें\n",
    "\n",
    "* पहली विशेषता और दूसरी विशेषता के संयोजन प्रकार खोजें\n",
    "\n",
    "* वह विशेषता संयोजन ढूंढें जो अभी तक सामने नहीं आया है\n",
    "\n",
    "3. निम्नलिखित आवश्यकताओं के अनुसार 'श्रृंखला' का निर्माण करेंटीएस:\n",
    "\n",
    "* भौतिक आक्रमण को बाहर निकालें, यदि यह 120 से अधिक है तो इसे `उच्च` से बदलें, यदि यह 50 से कम है तो इसे `कम` से बदलें, अन्यथा इसे `मध्य` पर सेट करें\n",
    "\n",
    "* पहली विशेषता निकालें, सभी अक्षरों को अपरकेस से बदलने के लिए `रिप्लेस` और `लागू करें` का उपयोग करें\n",
    "\n",
    "* प्रत्येक राक्षस की छह क्षमताओं का विचलन ज्ञात करें, अर्थात, सभी क्षमताओं के बीच माध्यिका से सबसे बड़े विचलन वाला मान, इसे `df` में जोड़ें और इसे बड़े से छोटे में क्रमबद्ध करें\n",
    "\n",
    "### Ex2: घातीय रूप से भारित विंडो\n",
    "\n",
    "1. `ewm` विंडो aएक विस्तार विंडो\n",
    "\n",
    "विस्तार विंडो में, उपयोगकर्ता ऐतिहासिक संचयी संकेतक आंकड़े निष्पादित करने के लिए विभिन्न कार्यों का उपयोग कर सकते हैं, लेकिन ये अंतर्निहित सांख्यिकीय फ़ंक्शन अक्सर विंडो में सभी तत्वों को समान वजन देते हैं, वास्तव में, विंडो में तत्वों को अलग-अलग वजन दिया जा सकता है। घातांकीय रूप से भारित विंडो एक ऐसी विशेष विस्तार विंडो है।\n",
    "\n",
    "उनमें से, सबसे महत्वपूर्ण पैरामीटर `अल्फा` है, जो डिफ़ॉल्ट विंडो वजन $wi=(1−\\alpha)^i,i\\in\\{0,1,...,t निर्धारित करता है\\}$, जहां $i=t$ वर्तमान तत्व का प्रतिनिधित्व करता है और $i=0$ अनुक्रम के पहले तत्व का प्रतिनिधित्व करता है।\n",
    "\n",
    "वजन सूत्र से, हम देख सकते हैं कि वर्तमान मूल्य से जितना दूर होगा, वजन उतना ही कम होगा। यदि मूल अनुक्रम $x$ है और अद्यतन वर्तमान तत्व $y_t$ है, तो हम वजन सूत्र के माध्यम से सामान्यीकरण के बाद जान सकते हैं। :\n",
    "\n",
    "$$\n",
    "\\begin{split}y_t &=\\frac{\\sum_{i=0}^{t} w_i x_{t-i}}{\\sum_{i=0}^{t} w_i} \\\\\n",
    "&=\\frac{x_t + (1 - \\alpha)x_{t-1} + (1 - \\alpha)^2 x_{t-2} + ...\n",
    "+ (1- \\alpha)^{t} x_{0}}{1 + (1 - \\alpha) + (1 - \\alpha)^2 + ...\n",
    "+ (1 - \\alpha)^{t}}\\\\\\end{विभाजन}\n",
    "$$\n",
    "\n",
    "`श्रृंखला` के लिए, `ewm` ऑब्जेक्ट का उपयोग निम्नानुसार तेजी से सुचारू अनुक्रम की गणना करने के लिए किया जा सकता है:"
   ]
  },
  {
   "cell_type": "code",
   "execution_count": 92,
   "metadata": {},
   "outputs": [
    {
     "data": {
      "text/plain": [
       "0   -1\n",
       "1   -1\n",
       "2   -2\n",
       "3   -2\n",
       "4   -2\n",
       "dtype: int32"
      ]
     },
     "execution_count": 92,
     "metadata": {},
     "output_type": "execute_result"
    }
   ],
   "source": [
    "np.random.seed(0)\n",
    "s = pd.Series(np.random.randint(-1,2,30).cumsum())\n",
    "s.head()"
   ]
  },
  {
   "cell_type": "code",
   "execution_count": 93,
   "metadata": {},
   "outputs": [
    {
     "data": {
      "text/plain": [
       "0   -1.000000\n",
       "1   -1.000000\n",
       "2   -1.409836\n",
       "3   -1.609756\n",
       "4   -1.725845\n",
       "dtype: float64"
      ]
     },
     "execution_count": 93,
     "metadata": {},
     "output_type": "execute_result"
    }
   ],
   "source": [
    "s.ewm(alpha=0.2).mean().head()"
   ]
  },
  {
   "cell_type": "markdown",
   "metadata": {},
   "source": [
    "कृपया इसे लागू करने के लिए `विस्तार` विंडो का उपयोग करें।\n",
    "\n",
    "2. `ewm` विंडो एक स्लाइडिंग विंडो के रूप में\n",
    "\n",
    "प्रश्न 1 से, हम देख सकते हैं कि 'ewm', एक विस्तारित विंडो के एक विशेष मामले के रूप में, केवल अनुक्रम के पहले तत्व से भारित किया जा सकता है। अब हम एक प्रतिबंधित विंडो 'n' देना चाहते हैं और केवल 'n' का उपयोग करना चाहते हैं `वे तत्व जिनमें स्लाइडिंग वेटेड स्मूथिंग के लिए विंडो के रूप में नवीनतम तत्व शामिल हैं, कृपया स्लाइडिंग विंडो फ़ंक्शन के आधार पर `wi` और `yt` के लिए एक नया अपडेट फॉर्मूला दें, और इस फ़ंक्शन को कार्यान्वित करें।`रोलिंग` विंडो के माध्यम से आयन।"
   ]
  }
 ],
 "metadata": {
  "kernelspec": {
   "display_name": "PyCharm (pythonProject)",
   "language": "python",
   "name": "pycharm-f7427e7c"
  },
  "language_info": {
   "codemirror_mode": {
    "name": "ipython",
    "version": 3
   },
   "file_extension": ".py",
   "mimetype": "text/x-python",
   "name": "python",
   "nbconvert_exporter": "python",
   "pygments_lexer": "ipython3",
   "version": "3.7.9-final"
  }
 },
 "nbformat": 4,
 "nbformat_minor": 2
}
