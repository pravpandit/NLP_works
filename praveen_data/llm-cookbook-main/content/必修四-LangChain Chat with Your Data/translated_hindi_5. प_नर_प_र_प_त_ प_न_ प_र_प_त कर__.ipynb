{
 "cells": [
  {
   "attachments": {},
   "cell_type": "markdown",
   "id": "0689733d",
   "metadata": {},
   "source": [
    "# अध्याय 5 पुनर्प्राप्ति (पुनर्प्राप्ति)\n",
    " - [1. वेक्टर डेटाबेस खोज](#1. वेक्टर डेटाबेस खोज)\n",
    "     - [1.1 समानता खोज](#1.1-समानता खोज)\n",
    "     - [1.2 विविधता को संबोधित करना: अधिकतम सीमांत प्रासंगिकता (एमएमआर)] (#1.2 - विविधता को संबोधित करना: अधिकतम सीमांत प्रासंगिकता (एमएमआर))\n",
    "     - [1.3 समाधान विशिष्टता: मेटाडेटा का उपयोग करें] (#1.3-समाधान विशिष्टता: मेटाडेटा का उपयोग करें)\n",
    "     - [1.4 संबोधित विशिष्टता: मेटाडेटा में स्व-क्वेरी पुनर्प्राप्तिकर्ताओं का उपयोग करना] (#1.4 - विशिष्टता को संबोधित करना: मेटाडेटा में स्वयं-क्वेरी पुनर्प्राप्तिकर्ताओं का उपयोग करना)\n",
    "     - [1.5 अन्य युक्तियाँ: संपीड़न](#1.5-अन्य युक्तियाँ: संपीड़न)\n",
    " - [2. विभिन्न प्रौद्योगिकियों का संयोजन](#2. विभिन्न प्रौद्योगिकियों का संयोजन)\n",
    " - [3. अन्य प्रकार की खोजें](#3. अन्य प्रकार की खोजें)"
   ]
  },
  {
   "attachments": {},
   "cell_type": "markdown",
   "id": "d12fbd74",
   "metadata": {},
   "source": [
    "खोज हमारी खोज संवर्धित पीढ़ी (आरएजी) प्रक्रिया के केंद्र में है।\n",
    "\n",
    "आइए पिछले पाठ में संग्रहीत वेक्टर डेटाबेस (`वेक्टरडीबी`) प्राप्त करें।"
   ]
  },
  {
   "attachments": {},
   "cell_type": "markdown",
   "id": "ed2569c6",
   "metadata": {},
   "source": [
    "## 1. वेक्टर डेटाबेस पुनर्प्राप्ति"
   ]
  },
  {
   "attachments": {},
   "cell_type": "markdown",
   "id": "651a10db",
   "metadata": {},
   "source": [
    "वर्तमान फ़ोल्डर में `OPENAI_API_KEY = \"sk-...\"` सामग्री के साथ एक नई `.env` फ़ाइल बनाएं\n",
    "\n",
    "इस अध्याय के लिए `लार्क` पैकेज की आवश्यकता है, इसे स्थापित करने के लिए निम्न कमांड चलाएँ"
   ]
  },
  {
   "cell_type": "code",
   "execution_count": 1,
   "id": "c18f8a7b-62af-403e-9877-18d1c2265b4f",
   "metadata": {
    "tags": []
   },
   "outputs": [],
   "source": [
    "!pip install -Uq lark"
   ]
  },
  {
   "cell_type": "code",
   "execution_count": 3,
   "id": "51b15e5c-9b92-4d40-a149-b56335d330d9",
   "metadata": {
    "tags": []
   },
   "outputs": [],
   "source": [
    "import os\n",
    "import openai\n",
    "import sys\n",
    "sys.path.append('../..')\n",
    "\n",
    "from dotenv import load_dotenv, find_dotenv\n",
    "_ = load_dotenv(find_dotenv()) # read local .env file\n",
    "\n",
    "openai.api_key  = os.environ['OPENAI_API_KEY']\n"
   ]
  },
  {
   "attachments": {},
   "cell_type": "markdown",
   "id": "c2d552e1",
   "metadata": {},
   "source": [
    "### 1.1 समानता खोज"
   ]
  },
  {
   "cell_type": "code",
   "execution_count": 4,
   "id": "fe368042",
   "metadata": {
    "tags": []
   },
   "outputs": [],
   "source": [
    "from langchain.vectorstores import Chroma\n",
    "from langchain.embeddings.openai import OpenAIEmbeddings\n",
    "persist_directory = 'docs/chroma/cs229_lectures/'\n",
    "persist_directory_chinese = 'docs/chroma/matplotlib/'"
   ]
  },
  {
   "attachments": {},
   "cell_type": "markdown",
   "id": "5ba63e21",
   "metadata": {},
   "source": [
    "पिछले पाठ में सहेजे गए वेक्टर डेटाबेस (`वेक्टरडीबी`) को लोड करें"
   ]
  },
  {
   "cell_type": "code",
   "execution_count": 5,
   "id": "a0189dc5",
   "metadata": {
    "tags": []
   },
   "outputs": [],
   "source": [
    "embedding = OpenAIEmbeddings()"
   ]
  },
  {
   "cell_type": "code",
   "execution_count": 6,
   "id": "2be10170",
   "metadata": {},
   "outputs": [],
   "source": [
    "vectordb = Chroma(\n",
    "    persist_directory=persist_directory,\n",
    "    embedding_function=embedding\n",
    ")"
   ]
  },
  {
   "cell_type": "code",
   "execution_count": 7,
   "id": "3659e0f7",
   "metadata": {
    "tags": []
   },
   "outputs": [
    {
     "name": "stdout",
     "output_type": "stream",
     "text": [
      "209\n"
     ]
    }
   ],
   "source": [
    "print(vectordb._collection.count())"
   ]
  },
  {
   "cell_type": "code",
   "execution_count": 8,
   "id": "a01ab000",
   "metadata": {},
   "outputs": [],
   "source": [
    "vectordb_chinese = Chroma(\n",
    "    persist_directory=persist_directory_chinese,\n",
    "    embedding_function=embedding\n",
    ")"
   ]
  },
  {
   "cell_type": "code",
   "execution_count": 9,
   "id": "a6998a03",
   "metadata": {},
   "outputs": [
    {
     "name": "stdout",
     "output_type": "stream",
     "text": [
      "27\n"
     ]
    }
   ],
   "source": [
    "print(vectordb_chinese._collection.count())"
   ]
  },
  {
   "attachments": {},
   "cell_type": "markdown",
   "id": "9ae4fdd8",
   "metadata": {},
   "source": [
    "आइए अब अधिकतम सीमांत सहसंबंध का उदाहरण देखें। इसलिए, हम नीचे दिए गए उदाहरण से मशरूम के बारे में जानकारी लोड करेंगे।\n",
    "\n",
    "आइए अब इसे एमएमआर के साथ चलाएं। आइए k को 2 के बराबर पास करें। हम अभी भी दो दस्तावेज़ वापस करना चाहते हैं, लेकिन आइए फ़ेच k को 3 के बराबर सेट करें, जहाँ हम शुरू में सभी तीन दस्तावेज़ लाते हैं। अब हम देख सकते हैं कि हमारे द्वारा पुनर्प्राप्त दस्तावेज़ में ज़हरीली जानकारी वापस आ गई थी।"
   ]
  },
  {
   "cell_type": "code",
   "execution_count": 10,
   "id": "a807c758",
   "metadata": {
    "tags": []
   },
   "outputs": [],
   "source": [
    "texts = [\n",
    "\"\"\"अमानिटा फालोइड्स में एक बड़ा और प्रभावशाली एपिजियस (जमीन के ऊपर) फलने वाला शरीर (बेसिडियोकार्प) होता है।\"\"\",\n",
    "\"\"\"बड़े फलने वाले शरीर वाला मशरूम अमानिटा फालोइड्स है। कुछ किस्में पूरी तरह से सफेद होती हैं।\"\"\",\n",
    "\"\"\"ए. फालोइड्स, उर्फ ​​डेथ कैप, सभी ज्ञात मशरूमों में से सबसे जहरीला है।\"\"\",\n",
    "]"
   ]
  },
  {
   "cell_type": "code",
   "execution_count": 11,
   "id": "b110cceb",
   "metadata": {},
   "outputs": [],
   "source": [
    "texts_chinese = [\n",
    "\"\"\"अमनिता फालोइड्स में जमीन के ऊपर एक बड़ा और आकर्षक (एपिजियस) फलने वाला शरीर (बेसिडियोकार्प) होता है\"\"\",\n",
    "\"\"\"बड़े फलने वाले शरीर वाला मशरूम अमनिटा फालोइड्स है। कुछ किस्में पूरी तरह से सफेद होती हैं।\"\"\",\n",
    "\"\"\"ए. फालोइड्स, जिसे डेथ कैप भी कहा जाता है, सभी ज्ञात मशरूमों में सबसे जहरीला है।\"\"\",\n",
    "]"
   ]
  },
  {
   "attachments": {},
   "cell_type": "markdown",
   "id": "84cd5f1c",
   "metadata": {},
   "source": [
    "इस उदाहरण के लिए, हम एक छोटा डेटाबेस बनाएंगे जिसे हम एक उदाहरण के रूप में उपयोग कर सकते हैं।"
   ]
  },
  {
   "cell_type": "code",
   "execution_count": 12,
   "id": "715d54f3",
   "metadata": {
    "tags": []
   },
   "outputs": [
    {
     "name": "stderr",
     "output_type": "stream",
     "text": [
      "100%|██████████| 1/1 [00:00<00:00,  1.28it/s]\n"
     ]
    }
   ],
   "source": [
    "smalldb = Chroma.from_texts(texts, embedding=embedding)"
   ]
  },
  {
   "cell_type": "code",
   "execution_count": 13,
   "id": "305e1714",
   "metadata": {},
   "outputs": [
    {
     "name": "stderr",
     "output_type": "stream",
     "text": [
      "100%|██████████| 1/1 [00:00<00:00,  2.30it/s]\n"
     ]
    }
   ],
   "source": [
    "smalldb_chinese = Chroma.from_texts(texts_chinese, embedding=embedding)"
   ]
  },
  {
   "attachments": {},
   "cell_type": "markdown",
   "id": "239a8d95",
   "metadata": {},
   "source": [
    "यहां वे प्रश्न हैं जो हम इस उदाहरण के लिए पूछते हैं"
   ]
  },
  {
   "cell_type": "code",
   "execution_count": 14,
   "id": "9a37b5a5",
   "metadata": {
    "tags": []
   },
   "outputs": [],
   "source": [
    "question = \"Tell me about all-white mushrooms with large fruiting bodies\""
   ]
  },
  {
   "cell_type": "code",
   "execution_count": 15,
   "id": "92312e57",
   "metadata": {},
   "outputs": [],
   "source": [
    "question_chinese = \"告诉我关于具有大型子实体的全白色蘑菇的信息\""
   ]
  },
  {
   "attachments": {},
   "cell_type": "markdown",
   "id": "d3224a6d",
   "metadata": {},
   "source": [
    "अब, हम केवल दो सबसे प्रासंगिक दस्तावेज़ वापस करने के लिए, k=2 सेट करके एक समानता खोज चला सकते हैं।\n",
    "\n",
    "हम देख सकते हैं कि इसमें इस बात का जिक्र तक नहीं है कि यह जहरीला है."
   ]
  },
  {
   "cell_type": "code",
   "execution_count": 16,
   "id": "24e3b025",
   "metadata": {
    "tags": []
   },
   "outputs": [
    {
     "data": {
      "text/plain": [
       "[Document(page_content='A mushroom with a large fruiting body is the Amanita phalloides. Some varieties are all-white.', metadata={}),\n",
       " Document(page_content='The Amanita phalloides has a large and imposing epigeous (aboveground) fruiting body (basidiocarp).', metadata={})]"
      ]
     },
     "execution_count": 16,
     "metadata": {},
     "output_type": "execute_result"
    }
   ],
   "source": [
    "smalldb.similarity_search(question, k=2)"
   ]
  },
  {
   "cell_type": "code",
   "execution_count": 17,
   "id": "d4c5a47d",
   "metadata": {},
   "outputs": [
    {
     "data": {
      "text/plain": [
       "[Document(page_content='一种具有大型子实体的蘑菇是毒鹅膏菌（Amanita phalloides）。某些品种全白。', metadata={}),\n",
       " Document(page_content='毒鹅膏菌（Amanita phalloides）具有大型且引人注目的地上（epigeous）子实体（basidiocarp）', metadata={})]"
      ]
     },
     "execution_count": 17,
     "metadata": {},
     "output_type": "execute_result"
    }
   ],
   "source": [
    "smalldb_chinese.similarity_search(question_chinese, k=2)"
   ]
  },
  {
   "attachments": {},
   "cell_type": "markdown",
   "id": "bbb0ea94",
   "metadata": {},
   "source": [
    "अब, अधिकतम सीमांत प्रासंगिकता (MMR) चलाते हैं।\n",
    "\n",
    "k=2 सेट करें क्योंकि हम अभी भी दो दस्तावेज़ वापस करना चाहते हैं। Fetch_k=3 सेट करें, Fetch_k वे सभी दस्तावेज़ हैं जिन्हें हमने शुरू में प्राप्त किया था (3)।"
   ]
  },
  {
   "cell_type": "code",
   "execution_count": 18,
   "id": "4daa6c0d",
   "metadata": {
    "tags": []
   },
   "outputs": [
    {
     "data": {
      "text/plain": [
       "[Document(page_content='A mushroom with a large fruiting body is the Amanita phalloides. Some varieties are all-white.', metadata={}),\n",
       " Document(page_content='A. phalloides, a.k.a Death Cap, is one of the most poisonous of all known mushrooms.', metadata={})]"
      ]
     },
     "execution_count": 18,
     "metadata": {},
     "output_type": "execute_result"
    }
   ],
   "source": [
    "smalldb.max_marginal_relevance_search(question,k=2, fetch_k=3)"
   ]
  },
  {
   "cell_type": "code",
   "execution_count": 19,
   "id": "e15521d2",
   "metadata": {},
   "outputs": [
    {
     "data": {
      "text/plain": [
       "[Document(page_content='一种具有大型子实体的蘑菇是毒鹅膏菌（Amanita phalloides）。某些品种全白。', metadata={}),\n",
       " Document(page_content='A. phalloides，又名死亡帽，是已知所有蘑菇中最有毒的一种。', metadata={})]"
      ]
     },
     "execution_count": 19,
     "metadata": {},
     "output_type": "execute_result"
    }
   ],
   "source": [
    "smalldb_chinese.max_marginal_relevance_search(question,k=2, fetch_k=3)"
   ]
  },
  {
   "attachments": {},
   "cell_type": "markdown",
   "id": "e87c5f91",
   "metadata": {},
   "source": [
    "अब हम देख सकते हैं कि हमारे द्वारा पुनर्प्राप्त दस्तावेज़ में ज़हरीली जानकारी वापस आ गई थी।"
   ]
  },
  {
   "attachments": {},
   "cell_type": "markdown",
   "id": "5a29e8c9",
   "metadata": {},
   "source": [
    "### 1.2 समाधान विविधता: अधिकतम सीमांत प्रासंगिकता (एमएमआर)"
   ]
  },
  {
   "attachments": {},
   "cell_type": "markdown",
   "id": "a2b5c4ae",
   "metadata": {},
   "source": [
    "खोज परिणामों की विविधता को कैसे बढ़ाया जाए, यह प्रश्न उठाने के लिए हमने बस एक उदाहरण का उपयोग किया।\n",
    " \n",
    "अधिकतम सीमांत प्रासंगिकता क्वेरी प्रासंगिकता और परिणाम विविधता के बीच दोनों दुनियाओं में सर्वश्रेष्ठ हासिल करने का प्रयास करती है।"
   ]
  },
  {
   "attachments": {},
   "cell_type": "markdown",
   "id": "2360545c",
   "metadata": {},
   "source": [
    "आइए पिछले पाठ के एक उदाहरण पर वापस जाएं, जब हमने प्रश्न के अनुसार वेक्टर डेटाबेस पर समानता खोज की थी\n",
    "\n",
    "हम पहले दो दस्तावेज़ों को देख सकते हैं और केवल पहले कुछ पात्रों को देख सकते हैं और देख सकते हैं कि वे समान हैं।"
   ]
  },
  {
   "cell_type": "code",
   "execution_count": 20,
   "id": "9bb2c0a9",
   "metadata": {
    "tags": []
   },
   "outputs": [],
   "source": [
    "question = \"what did they say about matlab?\"\n",
    "docs_ss = vectordb.similarity_search(question,k=3)"
   ]
  },
  {
   "cell_type": "code",
   "execution_count": 21,
   "id": "f07f8793",
   "metadata": {
    "tags": []
   },
   "outputs": [
    {
     "data": {
      "text/plain": [
       "'those homeworks will be done in either MATLA B or in Octave, which is sort of — I \\nknow some people '"
      ]
     },
     "execution_count": 21,
     "metadata": {},
     "output_type": "execute_result"
    }
   ],
   "source": [
    "docs_ss[0].page_content[:100]"
   ]
  },
  {
   "cell_type": "code",
   "execution_count": 22,
   "id": "e9f7e165",
   "metadata": {
    "tags": []
   },
   "outputs": [
    {
     "data": {
      "text/plain": [
       "'those homeworks will be done in either MATLA B or in Octave, which is sort of — I \\nknow some people '"
      ]
     },
     "execution_count": 22,
     "metadata": {},
     "output_type": "execute_result"
    }
   ],
   "source": [
    "docs_ss[1].page_content[:100]"
   ]
  },
  {
   "cell_type": "code",
   "execution_count": 23,
   "id": "e8e142eb",
   "metadata": {},
   "outputs": [],
   "source": [
    "question_chinese = \"Matplotlib是什么？\"\n",
    "docs_ss_chinese = vectordb_chinese.similarity_search(question_chinese,k=3)"
   ]
  },
  {
   "cell_type": "code",
   "execution_count": 24,
   "id": "cf642f66",
   "metadata": {},
   "outputs": [
    {
     "data": {
      "text/plain": [
       "'第⼀回：Matplotlib 初相识\\n⼀、认识matplotlib\\nMatplotlib 是⼀个 Python 2D 绘图库，能够以多种硬拷⻉格式和跨平台的交互式环境⽣成出版物质量的图形，⽤来绘制各种'"
      ]
     },
     "execution_count": 24,
     "metadata": {},
     "output_type": "execute_result"
    }
   ],
   "source": [
    "docs_ss_chinese[0].page_content[:100]"
   ]
  },
  {
   "cell_type": "code",
   "execution_count": 25,
   "id": "1e9f5cfe",
   "metadata": {},
   "outputs": [
    {
     "data": {
      "text/plain": [
       "'第⼀回：Matplotlib 初相识\\n⼀、认识matplotlib\\nMatplotlib 是⼀个 Python 2D 绘图库，能够以多种硬拷⻉格式和跨平台的交互式环境⽣成出版物质量的图形，⽤来绘制各种'"
      ]
     },
     "execution_count": 25,
     "metadata": {},
     "output_type": "execute_result"
    }
   ],
   "source": [
    "docs_ss_chinese[1].page_content[:100]"
   ]
  },
  {
   "attachments": {},
   "cell_type": "markdown",
   "id": "4c4ca1b6",
   "metadata": {},
   "source": [
    "नोट: `एमएमआर` का उपयोग करके परिणामों में अंतर।"
   ]
  },
  {
   "cell_type": "code",
   "execution_count": 26,
   "id": "222234c5",
   "metadata": {
    "tags": []
   },
   "outputs": [],
   "source": [
    "docs_mmr = vectordb.max_marginal_relevance_search(question,k=3)"
   ]
  },
  {
   "cell_type": "code",
   "execution_count": 27,
   "id": "408935bc",
   "metadata": {},
   "outputs": [],
   "source": [
    "docs_mmr_chinese = vectordb_chinese.max_marginal_relevance_search(question_chinese,k=3)"
   ]
  },
  {
   "attachments": {},
   "cell_type": "markdown",
   "id": "9076db81",
   "metadata": {},
   "source": [
    "जब हम एमएमआर चलाने के बाद परिणाम प्राप्त करते हैं, तो हम देख सकते हैं कि पहला वाला पिछले वाले जैसा ही है क्योंकि वह सबसे समान है।"
   ]
  },
  {
   "cell_type": "code",
   "execution_count": 28,
   "id": "93b20226",
   "metadata": {
    "tags": []
   },
   "outputs": [
    {
     "data": {
      "text/plain": [
       "'those homeworks will be done in either MATLA B or in Octave, which is sort of — I \\nknow some people '"
      ]
     },
     "execution_count": 28,
     "metadata": {},
     "output_type": "execute_result"
    }
   ],
   "source": [
    "docs_mmr[0].page_content[:100]"
   ]
  },
  {
   "cell_type": "code",
   "execution_count": 29,
   "id": "d0acfaab",
   "metadata": {},
   "outputs": [
    {
     "data": {
      "text/plain": [
       "'第⼀回：Matplotlib 初相识\\n⼀、认识matplotlib\\nMatplotlib 是⼀个 Python 2D 绘图库，能够以多种硬拷⻉格式和跨平台的交互式环境⽣成出版物质量的图形，⽤来绘制各种'"
      ]
     },
     "execution_count": 29,
     "metadata": {},
     "output_type": "execute_result"
    }
   ],
   "source": [
    "docs_mmr_chinese[0].page_content[:100]"
   ]
  },
  {
   "attachments": {},
   "cell_type": "markdown",
   "id": "7a93743f",
   "metadata": {},
   "source": [
    "लेकिन जब हम दूसरे पर पहुंचते हैं, तो हम देख सकते हैं कि यह अलग है।\n",
    "\n",
    "इससे प्रतिक्रियाओं में कुछ विविधता प्राप्त हुई।"
   ]
  },
  {
   "cell_type": "code",
   "execution_count": 30,
   "id": "17d39762",
   "metadata": {
    "tags": []
   },
   "outputs": [
    {
     "data": {
      "text/plain": [
       "'algorithm then? So what’s different? How come  I was making all that noise earlier about \\nleast squa'"
      ]
     },
     "execution_count": 30,
     "metadata": {},
     "output_type": "execute_result"
    }
   ],
   "source": [
    "docs_mmr[1].page_content[:100]"
   ]
  },
  {
   "cell_type": "code",
   "execution_count": 31,
   "id": "93d3206c",
   "metadata": {},
   "outputs": [
    {
     "data": {
      "text/plain": [
       "'By Datawhale 数据可视化开源⼩组\\n© Copyright © Copyright 2021.y轴分为左右两个，因此 tick1 对应左侧的轴； tick2 对应右侧的轴。\\nx轴分为上下两个'"
      ]
     },
     "execution_count": 31,
     "metadata": {},
     "output_type": "execute_result"
    }
   ],
   "source": [
    "docs_mmr_chinese[1].page_content[:100]"
   ]
  },
  {
   "attachments": {},
   "cell_type": "markdown",
   "id": "b2b909bc",
   "metadata": {},
   "source": [
    "### 1.3 विशिष्टताओं को संबोधित करना: मेटाडेटा का उपयोग करना"
   ]
  },
  {
   "attachments": {},
   "cell_type": "markdown",
   "id": "7b63c5ee",
   "metadata": {},
   "source": [
    "पिछले पाठ में, हमने एक प्रश्न दिखाया था जिसमें दस्तावेज़ में एक व्याख्यान के बारे में प्रश्न पूछा गया था, लेकिन प्राप्त परिणामों में अन्य व्याख्यानों के परिणाम भी शामिल थे।\n",
    "\n",
    "इस समस्या को हल करने के लिए, कई वेक्टर डेटाबेस `मेटाडेटा` पर संचालन का समर्थन करते हैं।\n",
    "\n",
    "`मेटाडेटा` प्रत्येक एम्बेडेड खंड के लिए संदर्भ प्रदान करता है।"
   ]
  },
  {
   "cell_type": "code",
   "execution_count": 32,
   "id": "3c1a60b2",
   "metadata": {
    "tags": []
   },
   "outputs": [],
   "source": [
    "question = \"what did they say about regression in the third lecture?\""
   ]
  },
  {
   "cell_type": "code",
   "execution_count": 33,
   "id": "ba98df3c",
   "metadata": {},
   "outputs": [],
   "source": [
    "question_chinese = \"他们在第二讲中对Figure说了些什么？\"  "
   ]
  },
  {
   "attachments": {},
   "cell_type": "markdown",
   "id": "3873525e",
   "metadata": {},
   "source": [
    "अब, हम इस समस्या को मैन्युअल रूप से हल करते हैं, हम एक मेटाडेटा फ़िल्टर `फ़िल्टर` निर्दिष्ट करेंगे"
   ]
  },
  {
   "cell_type": "code",
   "execution_count": 34,
   "id": "a8612840",
   "metadata": {
    "tags": []
   },
   "outputs": [],
   "source": [
    "docs = vectordb.similarity_search(\n",
    "    question,\n",
    "    k=3,\n",
    "    filter={\"source\":\"docs/cs229_lectures/MachineLearning-Lecture03.pdf\"}\n",
    ")"
   ]
  },
  {
   "cell_type": "code",
   "execution_count": 35,
   "id": "b46c7e76",
   "metadata": {},
   "outputs": [],
   "source": [
    "docs_chinese = vectordb_chinese.similarity_search(\n",
    "    question_chinese,\n",
    "    k=3,\n",
    "    filter={\"source\":\"docs/matplotlib/第二回：艺术画笔见乾坤.pdf\"}\n",
    ")"
   ]
  },
  {
   "attachments": {},
   "cell_type": "markdown",
   "id": "869aee28",
   "metadata": {},
   "source": [
    "इसके बाद, हम देख सकते हैं कि परिणाम संबंधित अध्यायों से आते हैं"
   ]
  },
  {
   "cell_type": "code",
   "execution_count": 36,
   "id": "97031876",
   "metadata": {
    "tags": []
   },
   "outputs": [
    {
     "name": "stdout",
     "output_type": "stream",
     "text": [
      "{'source': 'docs/cs229_lectures/MachineLearning-Lecture03.pdf', 'page': 0}\n",
      "{'source': 'docs/cs229_lectures/MachineLearning-Lecture03.pdf', 'page': 14}\n",
      "{'source': 'docs/cs229_lectures/MachineLearning-Lecture03.pdf', 'page': 4}\n"
     ]
    }
   ],
   "source": [
    "for d in docs:\n",
    "    print(d.metadata)"
   ]
  },
  {
   "cell_type": "code",
   "execution_count": 35,
   "id": "2708f6ae",
   "metadata": {},
   "outputs": [
    {
     "name": "stdout",
     "output_type": "stream",
     "text": [
      "{'source': 'docs/matplotlib/第二回：艺术画笔见乾坤.pdf', 'page': 9}\n",
      "{'source': 'docs/matplotlib/第二回：艺术画笔见乾坤.pdf', 'page': 10}\n",
      "{'source': 'docs/matplotlib/第二回：艺术画笔见乾坤.pdf', 'page': 0}\n"
     ]
    }
   ],
   "source": [
    "for d in docs_chinese:\n",
    "    print(d.metadata)\n",
    "    "
   ]
  },
  {
   "attachments": {},
   "cell_type": "markdown",
   "id": "5e299f8e",
   "metadata": {},
   "source": [
    "बेशक, हम इस समस्या को हर बार मैन्युअल रूप से हल नहीं कर सकते, यह पर्याप्त स्मार्ट नहीं होगा।\n",
    "\n",
    "अगला भाग दिखाएगा कि एलएलएम के माध्यम से इस समस्या को कैसे हल किया जाए"
   ]
  },
  {
   "attachments": {},
   "cell_type": "markdown",
   "id": "ccc2d784",
   "metadata": {},
   "source": [
    "### 1.4 विशिष्टताओं को संबोधित करना: मेटाडेटा में स्व-क्वेरी रिट्रीवर्स का उपयोग करना"
   ]
  },
  {
   "attachments": {},
   "cell_type": "markdown",
   "id": "82ef44b6",
   "metadata": {},
   "source": [
    "हमारे सामने एक दिलचस्प चुनौती है: हम अक्सर क्वेरी से ही मेटाडेटा का अनुमान लगाना चाहते हैं।\n",
    "\n",
    "इस समस्या को हल करने के लिए, हम SelfQueryRetriever का उपयोग कर सकते हैं, जो निकालने के लिए LLM का उपयोग करता है:\n",
    " \n",
    "1. क्वेरी (`क्वेरी`) स्ट्रिंग का उपयोग वेक्टर खोज के लिए किया जाता है, यानी: प्रश्न\n",
    "2. मेटाडेटा फ़िल्टर को एक साथ पारित किया जाना है\n",
    "\n",
    "अधिकांश वेक्टर डेटाबेस मेटाडेटा फ़िल्टर का समर्थन करते हैं, इसलिए किसी नए डेटाबेस और इंडेक्स की आवश्यकता नहीं होती है।"
   ]
  },
  {
   "cell_type": "code",
   "execution_count": 38,
   "id": "b1d06084",
   "metadata": {
    "tags": []
   },
   "outputs": [],
   "source": [
    "from langchain.llms import OpenAI\n",
    "from langchain.retrievers.self_query.base import SelfQueryRetriever\n",
    "from langchain.chains.query_constructor.base import AttributeInfo"
   ]
  },
  {
   "cell_type": "code",
   "execution_count": 39,
   "id": "869c27c0",
   "metadata": {},
   "outputs": [],
   "source": [
    "llm = OpenAI(temperature=0)"
   ]
  },
  {
   "attachments": {},
   "cell_type": "markdown",
   "id": "acd194c5",
   "metadata": {},
   "source": [
    "`एट्रिब्यूटइन्फो` हमें मेटाडेटा में विभिन्न फ़ील्ड और उनकी संबंधित स्थिति निर्दिष्ट करने की अनुमति देता है।\n",
    "\n",
    "मेटाडेटा में, हमारे पास केवल दो फ़ील्ड हैं, `स्रोत` और `पेज`।\n",
    "\n",
    "हम प्रत्येक संपत्ति का नाम, विवरण और प्रकार विवरण भरेंगे।\n",
    "\n",
    "यह जानकारी वास्तव में एलएलएम को दी जाएगी, इसलिए इसे यथासंभव विस्तार से वर्णित करने की आवश्यकता है।"
   ]
  },
  {
   "cell_type": "code",
   "execution_count": 40,
   "id": "0aa5e698",
   "metadata": {
    "tags": []
   },
   "outputs": [],
   "source": [
    "metadata_field_info = [\n",
    "    AttributeInfo(\n",
    "        name=\"source\",\n",
    "        description=\"The lecture the chunk is from, should be one of `docs/cs229_lectures/MachineLearning-Lecture01.pdf`, `docs/cs229_lectures/MachineLearning-Lecture02.pdf`, or `docs/cs229_lectures/MachineLearning-Lecture03.pdf`\",\n",
    "        type=\"string\",\n",
    "    ),\n",
    "    AttributeInfo(\n",
    "        name=\"page\",\n",
    "        description=\"The page from the lecture\",\n",
    "        type=\"integer\",\n",
    "    ),\n",
    "]"
   ]
  },
  {
   "cell_type": "code",
   "execution_count": 41,
   "id": "544ad7c1",
   "metadata": {},
   "outputs": [],
   "source": [
    "metadata_field_info_chinese = [\n",
    "    AttributeInfo(\n",
    "        name=\"source\",\n",
    "        description=\"讲义来源于 `docs/matplotlib/第一回：Matplotlib初相识.pdf`, `docs/matplotlib/第二回：艺术画笔见乾坤.pdf`, or `docs/matplotlib/第三回：布局格式定方圆.pdf` 的其中之一\",\n",
    "        type=\"string\",\n",
    "    ),\n",
    "    AttributeInfo(\n",
    "        name=\"page\",\n",
    "        description=\"讲义的那一页\",\n",
    "        type=\"integer\",\n",
    "    ),\n",
    "]"
   ]
  },
  {
   "cell_type": "code",
   "execution_count": 42,
   "id": "e7906c15",
   "metadata": {
    "tags": []
   },
   "outputs": [],
   "source": [
    "document_content_description = \"Lecture notes\"\n",
    "retriever = SelfQueryRetriever.from_llm(\n",
    "    llm,\n",
    "    vectordb,\n",
    "    document_content_description,\n",
    "    metadata_field_info,\n",
    "    verbose=True\n",
    ")"
   ]
  },
  {
   "cell_type": "code",
   "execution_count": 43,
   "id": "d5b99571",
   "metadata": {},
   "outputs": [],
   "source": [
    "document_content_description_chinese = \"课堂讲义\"\n",
    "retriever_chinese = SelfQueryRetriever.from_llm(\n",
    "    llm,\n",
    "    vectordb_chinese,\n",
    "    document_content_description_chinese,\n",
    "    metadata_field_info_chinese,\n",
    "    verbose=True\n",
    ")"
   ]
  },
  {
   "cell_type": "code",
   "execution_count": 44,
   "id": "79d781b9",
   "metadata": {
    "tags": []
   },
   "outputs": [],
   "source": [
    "question = \"what did they say about regression in the third lecture?\""
   ]
  },
  {
   "cell_type": "code",
   "execution_count": 45,
   "id": "8d9b7e18",
   "metadata": {},
   "outputs": [],
   "source": [
    "question_chinese = \"他们在第二讲中对Figure说了些什么？\"  "
   ]
  },
  {
   "attachments": {},
   "cell_type": "markdown",
   "id": "c51778b0-1fcd-40a4-bd6b-0f13fec8acb1",
   "metadata": {},
   "source": [
    "जब आप पहली बार अगली पंक्ति निष्पादित करते हैं, तो आपको एक चेतावनी मिलेगी कि Prediction_and_parse को हटा दिया गया है। इसे सुरक्षित रूप से अनदेखा किया जा सकता है।"
   ]
  },
  {
   "cell_type": "code",
   "execution_count": 46,
   "id": "1d4f9f7d",
   "metadata": {
    "tags": []
   },
   "outputs": [
    {
     "name": "stderr",
     "output_type": "stream",
     "text": [
      "/root/autodl-tmp/env/gpt/lib/python3.10/site-packages/langchain/chains/llm.py:275: UserWarning: The predict_and_parse method is deprecated, instead pass an output parser directly to LLMChain.\n",
      "  warnings.warn(\n"
     ]
    },
    {
     "name": "stdout",
     "output_type": "stream",
     "text": [
      "query='regression' filter=Comparison(comparator=<Comparator.EQ: 'eq'>, attribute='source', value='docs/cs229_lectures/MachineLearning-Lecture03.pdf') limit=None\n"
     ]
    }
   ],
   "source": [
    "docs = retriever.get_relevant_documents(question)"
   ]
  },
  {
   "cell_type": "code",
   "execution_count": 47,
   "id": "ea39a97e",
   "metadata": {},
   "outputs": [
    {
     "name": "stdout",
     "output_type": "stream",
     "text": [
      "query='Figure' filter=Comparison(comparator=<Comparator.EQ: 'eq'>, attribute='source', value='docs/matplotlib/第二讲：艺术画解破.pdf') limit=None\n"
     ]
    }
   ],
   "source": [
    "docs_chinese = retriever_chinese.get_relevant_documents(question_chinese)"
   ]
  },
  {
   "cell_type": "code",
   "execution_count": 48,
   "id": "db04374e",
   "metadata": {
    "tags": []
   },
   "outputs": [
    {
     "name": "stdout",
     "output_type": "stream",
     "text": [
      "{'source': 'docs/cs229_lectures/MachineLearning-Lecture03.pdf', 'page': 14}\n",
      "{'source': 'docs/cs229_lectures/MachineLearning-Lecture03.pdf', 'page': 0}\n",
      "{'source': 'docs/cs229_lectures/MachineLearning-Lecture03.pdf', 'page': 10}\n",
      "{'source': 'docs/cs229_lectures/MachineLearning-Lecture03.pdf', 'page': 10}\n"
     ]
    }
   ],
   "source": [
    "for d in docs:\n",
    "    print(d.metadata)"
   ]
  },
  {
   "cell_type": "code",
   "execution_count": 49,
   "id": "143061f5",
   "metadata": {},
   "outputs": [],
   "source": [
    "for d in docs_chinese:\n",
    "    print(d.metadata)"
   ]
  },
  {
   "attachments": {},
   "cell_type": "markdown",
   "id": "297b8168",
   "metadata": {},
   "source": [
    "### 1.5 अन्य युक्तियाँ: संपीड़न"
   ]
  },
  {
   "attachments": {},
   "cell_type": "markdown",
   "id": "564144da",
   "metadata": {},
   "source": [
    "पुनर्प्राप्त दस्तावेज़ों की गुणवत्ता में सुधार करने का दूसरा तरीका संपीड़न है।\n",
    "\n",
    "किसी क्वेरी के लिए सबसे प्रासंगिक जानकारी बड़ी मात्रा में अप्रासंगिक पाठ वाले दस्तावेज़ों में छिपी हो सकती है।\n",
    "\n",
    "आपके आवेदन के माध्यम से संपूर्ण दस्तावेज़ पास करने के परिणामस्वरूप एलएलएम कॉल अधिक महंगी हो सकती हैं और प्रतिक्रिया ख़राब हो सकती है।\n",
    "\n",
    "प्रसंग संपीड़न इस समस्या को हल करने के लिए डिज़ाइन किया गया है।"
   ]
  },
  {
   "cell_type": "code",
   "execution_count": 50,
   "id": "a060cf74",
   "metadata": {
    "tags": []
   },
   "outputs": [],
   "source": [
    "from langchain.retrievers import ContextualCompressionRetriever\n",
    "from langchain.retrievers.document_compressors import LLMChainExtractor"
   ]
  },
  {
   "cell_type": "code",
   "execution_count": 51,
   "id": "038649c8",
   "metadata": {
    "tags": []
   },
   "outputs": [],
   "source": [
    "def pretty_print_docs(docs):\n",
    "    print(f\"\\n{'-' * 100}\\n\".join([f\"Document {i+1}:\\n\\n\" + d.page_content for i, d in enumerate(docs)]))"
   ]
  },
  {
   "cell_type": "code",
   "execution_count": 52,
   "id": "fc686cf2",
   "metadata": {
    "tags": []
   },
   "outputs": [],
   "source": [
    "llm = OpenAI(temperature=0)\n",
    "compressor = LLMChainExtractor.from_llm(llm)  # 压缩器"
   ]
  },
  {
   "cell_type": "code",
   "execution_count": 53,
   "id": "82794397",
   "metadata": {
    "tags": []
   },
   "outputs": [],
   "source": [
    "compression_retriever = ContextualCompressionRetriever(\n",
    "    base_compressor=compressor,\n",
    "    base_retriever=vectordb.as_retriever()\n",
    ")"
   ]
  },
  {
   "cell_type": "code",
   "execution_count": 54,
   "id": "915598f8",
   "metadata": {},
   "outputs": [],
   "source": [
    "compression_retriever_chinese = ContextualCompressionRetriever(\n",
    "    base_compressor=compressor,\n",
    "    base_retriever=vectordb_chinese.as_retriever()\n",
    ")"
   ]
  },
  {
   "cell_type": "code",
   "execution_count": 55,
   "id": "cde86848",
   "metadata": {
    "tags": []
   },
   "outputs": [
    {
     "name": "stderr",
     "output_type": "stream",
     "text": [
      "/root/autodl-tmp/env/gpt/lib/python3.10/site-packages/langchain/chains/llm.py:275: UserWarning: The predict_and_parse method is deprecated, instead pass an output parser directly to LLMChain.\n",
      "  warnings.warn(\n"
     ]
    },
    {
     "name": "stdout",
     "output_type": "stream",
     "text": [
      "Document 1:\n",
      "\n",
      "\"MATLAB is I guess part of the programming language that makes it very easy to write codes using matrices, to write code for numerical routines, to move data around, to plot data. And it's sort of an extremely easy to learn tool to use for implementing a lot of learning algorithms.\"\n",
      "----------------------------------------------------------------------------------------------------\n",
      "Document 2:\n",
      "\n",
      "\"MATLAB is I guess part of the programming language that makes it very easy to write codes using matrices, to write code for numerical routines, to move data around, to plot data. And it's sort of an extremely easy to learn tool to use for implementing a lot of learning algorithms.\"\n",
      "----------------------------------------------------------------------------------------------------\n",
      "Document 3:\n",
      "\n",
      "\"And the student said, \"Oh, it was the MATLAB.\" So for those of you that don't know MATLAB yet, I hope you do learn it. It's not hard, and we'll actually have a short MATLAB tutorial in one of the discussion sections for those of you that don't know it.\"\n",
      "----------------------------------------------------------------------------------------------------\n",
      "Document 4:\n",
      "\n",
      "\"And the student said, \"Oh, it was the MATLAB.\" So for those of you that don't know MATLAB yet, I hope you do learn it. It's not hard, and we'll actually have a short MATLAB tutorial in one of the discussion sections for those of you that don't know it.\"\n"
     ]
    }
   ],
   "source": [
    "question = \"what did they say about matlab?\"\n",
    "compressed_docs = compression_retriever.get_relevant_documents(question)\n",
    "pretty_print_docs(compressed_docs)"
   ]
  },
  {
   "cell_type": "code",
   "execution_count": 56,
   "id": "39726b24",
   "metadata": {},
   "outputs": [
    {
     "name": "stdout",
     "output_type": "stream",
     "text": [
      "Document 1:\n",
      "\n",
      "Matplotlib 是⼀个 Python 2D 绘图库，能够以多种硬拷⻉格式和跨平台的交互式环境⽣成出版物质量的图形，⽤来绘制各种静态，动态，交互式的图表。\n",
      "----------------------------------------------------------------------------------------------------\n",
      "Document 2:\n",
      "\n",
      "Matplotlib 是⼀个 Python 2D 绘图库，能够以多种硬拷⻉格式和跨平台的交互式环境⽣成出版物质量的图形，⽤来绘制各种静态，动态，交互式的图表。\n"
     ]
    }
   ],
   "source": [
    "question_chinese = \"Matplotlib是什么？\"\n",
    "compressed_docs_chinese = compression_retriever_chinese.get_relevant_documents(question_chinese)\n",
    "pretty_print_docs(compressed_docs_chinese)"
   ]
  },
  {
   "attachments": {},
   "cell_type": "markdown",
   "id": "049b2601",
   "metadata": {},
   "source": [
    "अब जब हम प्रश्न पूछते हैं, तो परिणामी दस्तावेज़ को देखें\n",
    "\n",
    "हम दो चीजें देख सकते हैं.\n",
    "\n",
    "1. ये सामान्य दस्तावेज़ों की तुलना में बहुत छोटे होते हैं\n",
    "2. अभी भी कुछ डुप्लिकेट हैं, ऐसा इसलिए है क्योंकि हुड के तहत हम सिमेंटिक सर्च एल्गोरिदम का उपयोग कर रहे हैं।\n",
    "\n",
    "यह वह समस्या है जिसे हमने पहले इस पाठ्यक्रम में एमएमआर का उपयोग करके हल किया था।\n",
    "\n",
    "यह इस बात का एक बेहतरीन उदाहरण है कि आप सर्वोत्तम संभव परिणाम प्राप्त करने के लिए विभिन्न तकनीकों को कैसे जोड़ सकते हैं।"
   ]
  },
  {
   "attachments": {},
   "cell_type": "markdown",
   "id": "82c4fc4d",
   "metadata": {},
   "source": [
    "## 2. विभिन्न प्रौद्योगिकियों का संयोजन"
   ]
  },
  {
   "attachments": {},
   "cell_type": "markdown",
   "id": "54432975",
   "metadata": {},
   "source": [
    "ऐसा करने के लिए, वेक्टर डेटाबेस से रिट्रीवर बनाते समय हम खोज प्रकार को एमएमआर पर सेट कर सकते हैं।\n",
    "\n",
    "फिर हम प्रक्रिया को फिर से चला सकते हैं और देख सकते हैं कि हमें एक फ़िल्टर किया गया परिणाम सेट लौटाया गया है जिसमें कोई डुप्लिकेट जानकारी नहीं है।"
   ]
  },
  {
   "cell_type": "code",
   "execution_count": 57,
   "id": "161ae1ad",
   "metadata": {
    "tags": []
   },
   "outputs": [],
   "source": [
    "compression_retriever = ContextualCompressionRetriever(\n",
    "    base_compressor=compressor,\n",
    "    base_retriever=vectordb.as_retriever(search_type = \"mmr\")\n",
    ")"
   ]
  },
  {
   "cell_type": "code",
   "execution_count": 58,
   "id": "cd6396bb",
   "metadata": {},
   "outputs": [],
   "source": [
    "compression_retriever_chinese = ContextualCompressionRetriever(\n",
    "    base_compressor=compressor,\n",
    "    base_retriever=vectordb_chinese.as_retriever(search_type = \"mmr\")\n",
    ")"
   ]
  },
  {
   "cell_type": "code",
   "execution_count": 59,
   "id": "e77ccae1",
   "metadata": {
    "tags": []
   },
   "outputs": [
    {
     "name": "stdout",
     "output_type": "stream",
     "text": [
      "Document 1:\n",
      "\n",
      "\"MATLAB is I guess part of the programming language that makes it very easy to write codes using matrices, to write code for numerical routines, to move data around, to plot data. And it's sort of an extremely easy to learn tool to use for implementing a lot of learning algorithms.\"\n",
      "----------------------------------------------------------------------------------------------------\n",
      "Document 2:\n",
      "\n",
      "\"And the student said, \"Oh, it was the MATLAB.\" So for those of you that don't know MATLAB yet, I hope you do learn it. It's not hard, and we'll actually have a short MATLAB tutorial in one of the discussion sections for those of you that don't know it.\"\n"
     ]
    }
   ],
   "source": [
    "question = \"what did they say about matlab?\"\n",
    "compressed_docs = compression_retriever.get_relevant_documents(question)\n",
    "pretty_print_docs(compressed_docs)"
   ]
  },
  {
   "cell_type": "code",
   "execution_count": 60,
   "id": "fe68a14b",
   "metadata": {},
   "outputs": [
    {
     "name": "stderr",
     "output_type": "stream",
     "text": [
      "Retrying langchain.llms.openai.completion_with_retry.<locals>._completion_with_retry in 4.0 seconds as it raised APIError: Request failed due to server shutdown {\n",
      "  \"error\": {\n",
      "    \"message\": \"Request failed due to server shutdown\",\n",
      "    \"type\": \"server_error\",\n",
      "    \"param\": null,\n",
      "    \"code\": null\n",
      "  }\n",
      "}\n",
      " 500 {'error': {'message': 'Request failed due to server shutdown', 'type': 'server_error', 'param': None, 'code': None}} {'Date': 'Sun, 16 Jul 2023 05:28:06 GMT', 'Content-Type': 'application/json', 'Content-Length': '141', 'Connection': 'keep-alive', 'access-control-allow-origin': '*', 'openai-model': 'text-davinci-003', 'openai-organization': 'user-xnghkpntwvm31crtmex7n2j0', 'openai-processing-ms': '1159', 'openai-version': '2020-10-01', 'strict-transport-security': 'max-age=15724800; includeSubDomains', 'x-ratelimit-limit-requests': '3000', 'x-ratelimit-limit-tokens': '250000', 'x-ratelimit-remaining-requests': '2999', 'x-ratelimit-remaining-tokens': '249744', 'x-ratelimit-reset-requests': '20ms', 'x-ratelimit-reset-tokens': '61ms', 'x-request-id': '22b2986140ddb5bcc689423e056b7daf', 'CF-Cache-Status': 'DYNAMIC', 'Server': 'cloudflare', 'CF-RAY': '7e77d6f7590b1ec8-NRT', 'alt-svc': 'h3=\":443\"; ma=86400'}.\n"
     ]
    },
    {
     "name": "stdout",
     "output_type": "stream",
     "text": [
      "Document 1:\n",
      "\n",
      "Matplotlib 是⼀个 Python 2D 绘图库，能够以多种硬拷⻉格式和跨平台的交互式环境⽣成出版物质量的图形，⽤来绘制各种静态，动态，交互式的图表。\n"
     ]
    }
   ],
   "source": [
    "question_chinese = \"Matplotlib是什么？\"\n",
    "compressed_docs_chinese = compression_retriever_chinese.get_relevant_documents(question_chinese)\n",
    "pretty_print_docs(compressed_docs_chinese)"
   ]
  },
  {
   "attachments": {},
   "cell_type": "markdown",
   "id": "6c2b63e1",
   "metadata": {},
   "source": [
    "## 3. अन्य प्रकार की पुनर्प्राप्ति"
   ]
  },
  {
   "attachments": {},
   "cell_type": "markdown",
   "id": "3e777a7b",
   "metadata": {},
   "source": [
    "यह ध्यान देने योग्य है कि दस्तावेजों को पुनः प्राप्त करने के लिए vetordb एकमात्र उपकरण नहीं है।\n",
    "\n",
    "`लैंगचेन` रिट्रीवर एब्स्ट्रैक्शन में दस्तावेज़ पुनर्प्राप्त करने के अन्य तरीके शामिल हैं, जैसे `टीएफ-आईडीएफ` या `एसवीएम`।"
   ]
  },
  {
   "cell_type": "code",
   "execution_count": 61,
   "id": "83d2e808",
   "metadata": {
    "tags": []
   },
   "outputs": [],
   "source": [
    "from langchain.retrievers import SVMRetriever\n",
    "from langchain.retrievers import TFIDFRetriever\n",
    "from langchain.document_loaders import PyPDFLoader\n",
    "from langchain.text_splitter import RecursiveCharacterTextSplitter"
   ]
  },
  {
   "cell_type": "code",
   "execution_count": 62,
   "id": "bcf5b760",
   "metadata": {
    "tags": []
   },
   "outputs": [],
   "source": [
    "#पीडीएफ लोड करें\n",
    "loader = PyPDFLoader(\"docs/cs229_lectures/MachineLearning-Lecture01.pdf\")\n",
    "pages = loader.load()\n",
    "all_page_text = [p.page_content for p in pages]\n",
    "joined_page_text = \" \".join(all_page_text)\n",
    "\n",
    "# पाठ को विभाजित करें\n",
    "text_splitter = RecursiveCharacterTextSplitter(chunk_size = 1500,chunk_overlap = 150)\n",
    "splits = text_splitter.split_text(joined_page_text)\n"
   ]
  },
  {
   "cell_type": "code",
   "execution_count": 77,
   "id": "1657e768",
   "metadata": {},
   "outputs": [],
   "source": [
    "#पीडीएफ लोड करें\n",
    "loader_chinese = PyPDFLoader(\"docs/matplotlib/第一回：Matplotlib初相识.pdf\")\n",
    "pages_chinese = loader_chinese.load()\n",
    "all_page_text_chinese = [p.page_content for p in pages_chinese]\n",
    "joined_page_text_chinese = \" \".join(all_page_text_chinese)\n",
    "\n",
    "# पाठ को विभाजित करें\n",
    "text_splitter_chinese = RecursiveCharacterTextSplitter(chunk_size = 1500,chunk_overlap = 150)\n",
    "splits_chinese = text_splitter_chinese.split_text(joined_page_text_chinese)"
   ]
  },
  {
   "cell_type": "code",
   "execution_count": 64,
   "id": "59abbaff",
   "metadata": {},
   "outputs": [],
   "source": [
    "# पुनः प्राप्त करना\n",
    "svm_retriever = SVMRetriever.from_texts(splits, embedding)\n",
    "tfidf_retriever = TFIDFRetriever.from_texts(splits)"
   ]
  },
  {
   "cell_type": "code",
   "execution_count": 66,
   "id": "7885389e",
   "metadata": {},
   "outputs": [
    {
     "data": {
      "text/plain": [
       "Document(page_content=\"let me just check what questions you have righ t now. So if there are no questions, I'll just \\nclose with two reminders, which are after class today or as you start to talk with other \\npeople in this class, I just encourage you again to start to form project partners, to try to \\nfind project partners to do your project with. And also, this is a good time to start forming \\nstudy groups, so either talk to your friends  or post in the newsgroup, but we just \\nencourage you to try to star t to do both of those today, okay? Form study groups, and try \\nto find two other project partners.  \\nSo thank you. I'm looking forward to teaching this class, and I'll see you in a couple of \\ndays.   [End of Audio]  \\nDuration: 69 minutes\", metadata={})"
      ]
     },
     "execution_count": 66,
     "metadata": {},
     "output_type": "execute_result"
    }
   ],
   "source": [
    "question = \"What are major topics for this class?\"  # 这门课的主要主题是什么？\n",
    "docs_svm = svm_retriever.get_relevant_documents(question)\n",
    "docs_svm[0]"
   ]
  },
  {
   "cell_type": "code",
   "execution_count": 67,
   "id": "2a1659c0",
   "metadata": {
    "tags": []
   },
   "outputs": [
    {
     "data": {
      "text/plain": [
       "Document(page_content=\"Saxena and Min Sun here did, wh ich is given an image like this, right? This is actually a \\npicture taken of the Stanford campus. You can apply that sort of cl ustering algorithm and \\ngroup the picture into regions. Let me actually blow that up so that you can see it more \\nclearly. Okay. So in the middle, you see the lines sort of groupi ng the image together, \\ngrouping the image into [inaudible] regions.  \\nAnd what Ashutosh and Min did was they then  applied the learning algorithm to say can \\nwe take this clustering and us e it to build a 3D model of the world? And so using the \\nclustering, they then had a lear ning algorithm try to learn what the 3D structure of the \\nworld looks like so that they could come up with a 3D model that you can sort of fly \\nthrough, okay? Although many people used to th ink it's not possible to take a single \\nimage and build a 3D model, but using a lear ning algorithm and that sort of clustering \\nalgorithm is the first step. They were able to.  \\nI'll just show you one more example. I like this  because it's a picture of Stanford with our \\nbeautiful Stanford campus. So again, taking th e same sort of clustering algorithms, taking \\nthe same sort of unsupervised learning algor ithm, you can group the pixels into different \\nregions. And using that as a pre-processing step, they eventually built this sort of 3D model of Stanford campus in a single picture.  You can sort of walk  into the ceiling, look\", metadata={})"
      ]
     },
     "execution_count": 67,
     "metadata": {},
     "output_type": "execute_result"
    }
   ],
   "source": [
    "question = \"what did they say about matlab?\"  # 他们关于Matlab说了些什么？\n",
    "docs_tfidf = tfidf_retriever.get_relevant_documents(question)\n",
    "docs_tfidf[0]"
   ]
  },
  {
   "cell_type": "code",
   "execution_count": 78,
   "id": "5ade9c87",
   "metadata": {},
   "outputs": [],
   "source": [
    "# चीनी संस्करण\n",
    "svm_retriever_chinese = SVMRetriever.from_texts(splits_chinese, embedding)\n",
    "tfidf_retriever_chinese = TFIDFRetriever.from_texts(splits_chinese)"
   ]
  },
  {
   "cell_type": "code",
   "execution_count": 79,
   "id": "cc823bea",
   "metadata": {},
   "outputs": [
    {
     "data": {
      "text/plain": [
       "Document(page_content='fig, ax = plt.subplots()  \\n# step4 绘制图像，  这⼀模块的扩展参考第⼆章进⼀步学习\\nax.plot(x, y, label=\\'linear\\')  \\n# step5 添加标签，⽂字和图例，这⼀模块的扩展参考第四章进⼀步学习\\nax.set_xlabel(\\'x label\\') \\nax.set_ylabel(\\'y label\\') \\nax.set_title(\"Simple Plot\")  \\nax.legend() ;\\n思考题\\n请思考两种绘图模式的优缺点和各⾃适合的使⽤场景\\n在第五节绘图模板中我们是以 OO 模式作为例⼦展示的，请思考并写⼀个 pyplot 绘图模式的简单模板', metadata={})"
      ]
     },
     "execution_count": 79,
     "metadata": {},
     "output_type": "execute_result"
    }
   ],
   "source": [
    "question_chinese = \"这门课的主要主题是什么？\" \n",
    "docs_svm_chinese = svm_retriever_chinese.get_relevant_documents(question_chinese)\n",
    "docs_svm_chinese[0]"
   ]
  },
  {
   "cell_type": "code",
   "execution_count": 80,
   "id": "01eb9d43",
   "metadata": {},
   "outputs": [
    {
     "data": {
      "text/plain": [
       "Document(page_content='fig, ax = plt.subplots()  \\n# step4 绘制图像，  这⼀模块的扩展参考第⼆章进⼀步学习\\nax.plot(x, y, label=\\'linear\\')  \\n# step5 添加标签，⽂字和图例，这⼀模块的扩展参考第四章进⼀步学习\\nax.set_xlabel(\\'x label\\') \\nax.set_ylabel(\\'y label\\') \\nax.set_title(\"Simple Plot\")  \\nax.legend() ;\\n思考题\\n请思考两种绘图模式的优缺点和各⾃适合的使⽤场景\\n在第五节绘图模板中我们是以 OO 模式作为例⼦展示的，请思考并写⼀个 pyplot 绘图模式的简单模板', metadata={})"
      ]
     },
     "execution_count": 80,
     "metadata": {},
     "output_type": "execute_result"
    }
   ],
   "source": [
    "question_chinese = \"Matplotlib是什么？\"\n",
    "docs_tfidf_chinese = tfidf_retriever_chinese.get_relevant_documents(question_chinese)\n",
    "docs_tfidf_chinese[0]"
   ]
  }
 ],
 "metadata": {
  "kernelspec": {
   "display_name": "Python 3 (ipykernel)",
   "language": "python",
   "name": "python3"
  },
  "language_info": {
   "codemirror_mode": {
    "name": "ipython",
    "version": 3
   },
   "file_extension": ".py",
   "mimetype": "text/x-python",
   "name": "python",
   "nbconvert_exporter": "python",
   "pygments_lexer": "ipython3",
   "version": "3.10.11"
  }
 },
 "nbformat": 4,
 "nbformat_minor": 5
}
