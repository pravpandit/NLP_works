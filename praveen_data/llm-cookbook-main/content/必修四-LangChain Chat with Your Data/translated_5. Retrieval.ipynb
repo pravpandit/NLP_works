{
 "cells": [
  {
   "attachments": {},
   "cell_type": "markdown",
   "id": "0689733d",
   "metadata": {},
   "source": [
    "# Chapter 5 Retrieval\n",
    "- [I. Vector database retrieval](#I. Vector database retrieval)\n",
    "- [1.1 Similarity search](#1.1-Similarity search)\n",
    "- [1.2 Solving diversity: Maximum marginal relevance (MMR)](#1.2-Solving diversity: Maximum marginal relevance (MMR))\n",
    "- [1.3 Solving specificity: Using metadata](#1.3-Solving specificity: Using metadata)\n",
    "- [1.4 Solving specificity: Using self-query retriever in metadata](#1.4-Solving specificity: Using self-query retriever in metadata)\n",
    "- [1.5 Other techniques: Compression](#1.5-Other techniques: Compression)\n",
    "- [II. Combining various technologies](#II. Combining various technologies)\n",
    "- [III. Other types of retrieval](#III. Other types of retrieval)"
   ]
  },
  {
   "attachments": {},
   "cell_type": "markdown",
   "id": "d12fbd74",
   "metadata": {},
   "source": [
    "Retrieval is at the heart of our Retrieval Augmented Generation (RAG) pipeline.\n",
    "\n",
    "Let’s get the vector database (`VectorDB`) we stored in the previous lesson."
   ]
  },
  {
   "attachments": {},
   "cell_type": "markdown",
   "id": "ed2569c6",
   "metadata": {},
   "source": [
    "## 1. Vector database retrieval"
   ]
  },
  {
   "attachments": {},
   "cell_type": "markdown",
   "id": "651a10db",
   "metadata": {},
   "source": [
    "Create a new `.env` file in the current folder, with the content `OPENAI_API_KEY = \"sk-...\"`\n",
    "\n",
    "This chapter requires the use of the `lark` package, run the following command to install"
   ]
  },
  {
   "cell_type": "code",
   "execution_count": 1,
   "id": "c18f8a7b-62af-403e-9877-18d1c2265b4f",
   "metadata": {
    "tags": []
   },
   "outputs": [],
   "source": [
    "!pip install -Uq lark"
   ]
  },
  {
   "cell_type": "code",
   "execution_count": 3,
   "id": "51b15e5c-9b92-4d40-a149-b56335d330d9",
   "metadata": {
    "tags": []
   },
   "outputs": [],
   "source": [
    "import os\n",
    "import openai\n",
    "import sys\n",
    "sys.path.append('../..')\n",
    "\n",
    "from dotenv import load_dotenv, find_dotenv\n",
    "_ = load_dotenv(find_dotenv()) # read local .env file\n",
    "\n",
    "openai.api_key  = os.environ['OPENAI_API_KEY']\n"
   ]
  },
  {
   "attachments": {},
   "cell_type": "markdown",
   "id": "c2d552e1",
   "metadata": {},
   "source": [
    "### 1.1 Similarity Search"
   ]
  },
  {
   "cell_type": "code",
   "execution_count": 4,
   "id": "fe368042",
   "metadata": {
    "tags": []
   },
   "outputs": [],
   "source": [
    "from langchain.vectorstores import Chroma\n",
    "from langchain.embeddings.openai import OpenAIEmbeddings\n",
    "persist_directory = 'docs/chroma/cs229_lectures/'\n",
    "persist_directory_chinese = 'docs/chroma/matplotlib/'"
   ]
  },
  {
   "attachments": {},
   "cell_type": "markdown",
   "id": "5ba63e21",
   "metadata": {},
   "source": [
    "Load the vector database (`VectorDB`) saved in the previous lesson"
   ]
  },
  {
   "cell_type": "code",
   "execution_count": 5,
   "id": "a0189dc5",
   "metadata": {
    "tags": []
   },
   "outputs": [],
   "source": [
    "embedding = OpenAIEmbeddings()"
   ]
  },
  {
   "cell_type": "code",
   "execution_count": 6,
   "id": "2be10170",
   "metadata": {},
   "outputs": [],
   "source": [
    "vectordb = Chroma(\n",
    "    persist_directory=persist_directory,\n",
    "    embedding_function=embedding\n",
    ")"
   ]
  },
  {
   "cell_type": "code",
   "execution_count": 7,
   "id": "3659e0f7",
   "metadata": {
    "tags": []
   },
   "outputs": [
    {
     "name": "stdout",
     "output_type": "stream",
     "text": [
      "209\n"
     ]
    }
   ],
   "source": [
    "print(vectordb._collection.count())"
   ]
  },
  {
   "cell_type": "code",
   "execution_count": 8,
   "id": "a01ab000",
   "metadata": {},
   "outputs": [],
   "source": [
    "vectordb_chinese = Chroma(\n",
    "    persist_directory=persist_directory_chinese,\n",
    "    embedding_function=embedding\n",
    ")"
   ]
  },
  {
   "cell_type": "code",
   "execution_count": 9,
   "id": "a6998a03",
   "metadata": {},
   "outputs": [
    {
     "name": "stdout",
     "output_type": "stream",
     "text": [
      "27\n"
     ]
    }
   ],
   "source": [
    "print(vectordb_chinese._collection.count())"
   ]
  },
  {
   "attachments": {},
   "cell_type": "markdown",
   "id": "9ae4fdd8",
   "metadata": {},
   "source": [
    "Let's now look at an example with Maximum Marginal Relevance. So we'll load the information about mushrooms from the example below.\n",
    "\n",
    "Let's now run it with MMR. Let's pass in k equal to 2. We still want two documents returned, but let's set fetch k equal to 3 where we initially fetched all three documents. We can now see that the information about poison is returned in the documents we retrieved."
   ]
  },
  {
   "cell_type": "code",
   "execution_count": 10,
   "id": "a807c758",
   "metadata": {
    "tags": []
   },
   "outputs": [],
   "source": [
    "texts = [\n",
    "\"\"\"The Amanita phalloides has a large and imposing epigeous (aboveground) fruiting body (basidiocarp).\"\"\",\n",
    "\"\"\"A mushroom with a large fruiting body is the Amanita phalloides. Some varieties are all-white.\"\"\",\n",
    "\"\"\"A. phalloides, a.k.a Death Cap, is one of the most poisonous of all known mushrooms.\"\"\",\n",
    "]"
   ]
  },
  {
   "cell_type": "code",
   "execution_count": 11,
   "id": "b110cceb",
   "metadata": {},
   "outputs": [],
   "source": [
    "texts_chinese = [\n",
    "\"\"\"Amanita phalloides has a large and eye-catching epigeous fruiting body (basidiocarp)\"\"\",\n",
    "\"\"\"A mushroom with large fruiting bodies is the death amanita (Amanita phalloides). Some varieties are completely white. \"\"\",\n",
    "\"\"\"A. phalloides, also known as the death cap, is the most poisonous of all known mushrooms.\"\"\",\n",
    "]"
   ]
  },
  {
   "attachments": {},
   "cell_type": "markdown",
   "id": "84cd5f1c",
   "metadata": {},
   "source": [
    "For this example, we will create a small database that we can use as an example."
   ]
  },
  {
   "cell_type": "code",
   "execution_count": 12,
   "id": "715d54f3",
   "metadata": {
    "tags": []
   },
   "outputs": [
    {
     "name": "stderr",
     "output_type": "stream",
     "text": [
      "100%|██████████| 1/1 [00:00<00:00,  1.28it/s]\n"
     ]
    }
   ],
   "source": [
    "smalldb = Chroma.from_texts(texts, embedding=embedding)"
   ]
  },
  {
   "cell_type": "code",
   "execution_count": 13,
   "id": "305e1714",
   "metadata": {},
   "outputs": [
    {
     "name": "stderr",
     "output_type": "stream",
     "text": [
      "100%|██████████| 1/1 [00:00<00:00,  2.30it/s]\n"
     ]
    }
   ],
   "source": [
    "smalldb_chinese = Chroma.from_texts(texts_chinese, embedding=embedding)"
   ]
  },
  {
   "attachments": {},
   "cell_type": "markdown",
   "id": "239a8d95",
   "metadata": {},
   "source": [
    "Here are the questions we asked for this example:"
   ]
  },
  {
   "cell_type": "code",
   "execution_count": 14,
   "id": "9a37b5a5",
   "metadata": {
    "tags": []
   },
   "outputs": [],
   "source": [
    "question = \"Tell me about all-white mushrooms with large fruiting bodies\""
   ]
  },
  {
   "cell_type": "code",
   "execution_count": 15,
   "id": "92312e57",
   "metadata": {},
   "outputs": [],
   "source": [
    "question_chinese = \"告诉我关于具有大型子实体的全白色蘑菇的信息\""
   ]
  },
  {
   "attachments": {},
   "cell_type": "markdown",
   "id": "d3224a6d",
   "metadata": {},
   "source": [
    "Now, we can run a similarity search, setting k=2, to return only the two most relevant documents.\n",
    "\n",
    "We can see that there is no mention of the fact that it is toxic."
   ]
  },
  {
   "cell_type": "code",
   "execution_count": 16,
   "id": "24e3b025",
   "metadata": {
    "tags": []
   },
   "outputs": [
    {
     "data": {
      "text/plain": [
       "[Document(page_content='A mushroom with a large fruiting body is the Amanita phalloides. Some varieties are all-white.', metadata={}),\n",
       " Document(page_content='The Amanita phalloides has a large and imposing epigeous (aboveground) fruiting body (basidiocarp).', metadata={})]"
      ]
     },
     "execution_count": 16,
     "metadata": {},
     "output_type": "execute_result"
    }
   ],
   "source": [
    "smalldb.similarity_search(question, k=2)"
   ]
  },
  {
   "cell_type": "code",
   "execution_count": 17,
   "id": "d4c5a47d",
   "metadata": {},
   "outputs": [
    {
     "data": {
      "text/plain": [
       "[Document(page_content='一种具有大型子实体的蘑菇是毒鹅膏菌（Amanita phalloides）。某些品种全白。', metadata={}),\n",
       " Document(page_content='毒鹅膏菌（Amanita phalloides）具有大型且引人注目的地上（epigeous）子实体（basidiocarp）', metadata={})]"
      ]
     },
     "execution_count": 17,
     "metadata": {},
     "output_type": "execute_result"
    }
   ],
   "source": [
    "smalldb_chinese.similarity_search(question_chinese, k=2)"
   ]
  },
  {
   "attachments": {},
   "cell_type": "markdown",
   "id": "bbb0ea94",
   "metadata": {},
   "source": [
    "Now, let's run Maximum Marginal Relevance (MMR).\n",
    "\n",
    "Set k=2, since we still want to return two documents. Set fetch_k=3, where fetch_k is all the documents we originally fetched (3)."
   ]
  },
  {
   "cell_type": "code",
   "execution_count": 18,
   "id": "4daa6c0d",
   "metadata": {
    "tags": []
   },
   "outputs": [
    {
     "data": {
      "text/plain": [
       "[Document(page_content='A mushroom with a large fruiting body is the Amanita phalloides. Some varieties are all-white.', metadata={}),\n",
       " Document(page_content='A. phalloides, a.k.a Death Cap, is one of the most poisonous of all known mushrooms.', metadata={})]"
      ]
     },
     "execution_count": 18,
     "metadata": {},
     "output_type": "execute_result"
    }
   ],
   "source": [
    "smalldb.max_marginal_relevance_search(question,k=2, fetch_k=3)"
   ]
  },
  {
   "cell_type": "code",
   "execution_count": 19,
   "id": "e15521d2",
   "metadata": {},
   "outputs": [
    {
     "data": {
      "text/plain": [
       "[Document(page_content='一种具有大型子实体的蘑菇是毒鹅膏菌（Amanita phalloides）。某些品种全白。', metadata={}),\n",
       " Document(page_content='A. phalloides，又名死亡帽，是已知所有蘑菇中最有毒的一种。', metadata={})]"
      ]
     },
     "execution_count": 19,
     "metadata": {},
     "output_type": "execute_result"
    }
   ],
   "source": [
    "smalldb_chinese.max_marginal_relevance_search(question,k=2, fetch_k=3)"
   ]
  },
  {
   "attachments": {},
   "cell_type": "markdown",
   "id": "e87c5f91",
   "metadata": {},
   "source": [
    "We can now see that the document we retrieved has poison information returned."
   ]
  },
  {
   "attachments": {},
   "cell_type": "markdown",
   "id": "5a29e8c9",
   "metadata": {},
   "source": [
    "### 1.2 Solving Diversity: Maximum Marginal Relevance (MMR)"
   ]
  },
  {
   "attachments": {},
   "cell_type": "markdown",
   "id": "a2b5c4ae",
   "metadata": {},
   "source": [
    "We have just introduced the question through an example: how to enhance the diversity of search results.\n",
    "\n",
    "Maximum marginal relevance tries to achieve the best of both worlds between the relevance of the query and the diversity of the results."
   ]
  },
  {
   "attachments": {},
   "cell_type": "markdown",
   "id": "2360545c",
   "metadata": {},
   "source": [
    "Let's go back to an example from the last lesson, when we ran a similarity search on a vector database through a question\n",
    "\n",
    "We can look at the first two documents, just the first few characters, and see that they are identical."
   ]
  },
  {
   "cell_type": "code",
   "execution_count": 20,
   "id": "9bb2c0a9",
   "metadata": {
    "tags": []
   },
   "outputs": [],
   "source": [
    "question = \"what did they say about matlab?\"\n",
    "docs_ss = vectordb.similarity_search(question,k=3)"
   ]
  },
  {
   "cell_type": "code",
   "execution_count": 21,
   "id": "f07f8793",
   "metadata": {
    "tags": []
   },
   "outputs": [
    {
     "data": {
      "text/plain": [
       "'those homeworks will be done in either MATLA B or in Octave, which is sort of — I \\nknow some people '"
      ]
     },
     "execution_count": 21,
     "metadata": {},
     "output_type": "execute_result"
    }
   ],
   "source": [
    "docs_ss[0].page_content[:100]"
   ]
  },
  {
   "cell_type": "code",
   "execution_count": 22,
   "id": "e9f7e165",
   "metadata": {
    "tags": []
   },
   "outputs": [
    {
     "data": {
      "text/plain": [
       "'those homeworks will be done in either MATLA B or in Octave, which is sort of — I \\nknow some people '"
      ]
     },
     "execution_count": 22,
     "metadata": {},
     "output_type": "execute_result"
    }
   ],
   "source": [
    "docs_ss[1].page_content[:100]"
   ]
  },
  {
   "cell_type": "code",
   "execution_count": 23,
   "id": "e8e142eb",
   "metadata": {},
   "outputs": [],
   "source": [
    "question_chinese = \"Matplotlib是什么？\"\n",
    "docs_ss_chinese = vectordb_chinese.similarity_search(question_chinese,k=3)"
   ]
  },
  {
   "cell_type": "code",
   "execution_count": 24,
   "id": "cf642f66",
   "metadata": {},
   "outputs": [
    {
     "data": {
      "text/plain": [
       "'第⼀回：Matplotlib 初相识\\n⼀、认识matplotlib\\nMatplotlib 是⼀个 Python 2D 绘图库，能够以多种硬拷⻉格式和跨平台的交互式环境⽣成出版物质量的图形，⽤来绘制各种'"
      ]
     },
     "execution_count": 24,
     "metadata": {},
     "output_type": "execute_result"
    }
   ],
   "source": [
    "docs_ss_chinese[0].page_content[:100]"
   ]
  },
  {
   "cell_type": "code",
   "execution_count": 25,
   "id": "1e9f5cfe",
   "metadata": {},
   "outputs": [
    {
     "data": {
      "text/plain": [
       "'第⼀回：Matplotlib 初相识\\n⼀、认识matplotlib\\nMatplotlib 是⼀个 Python 2D 绘图库，能够以多种硬拷⻉格式和跨平台的交互式环境⽣成出版物质量的图形，⽤来绘制各种'"
      ]
     },
     "execution_count": 25,
     "metadata": {},
     "output_type": "execute_result"
    }
   ],
   "source": [
    "docs_ss_chinese[1].page_content[:100]"
   ]
  },
  {
   "attachments": {},
   "cell_type": "markdown",
   "id": "4c4ca1b6",
   "metadata": {},
   "source": [
    "Note: Difference in results when using `MMR`."
   ]
  },
  {
   "cell_type": "code",
   "execution_count": 26,
   "id": "222234c5",
   "metadata": {
    "tags": []
   },
   "outputs": [],
   "source": [
    "docs_mmr = vectordb.max_marginal_relevance_search(question,k=3)"
   ]
  },
  {
   "cell_type": "code",
   "execution_count": 27,
   "id": "408935bc",
   "metadata": {},
   "outputs": [],
   "source": [
    "docs_mmr_chinese = vectordb_chinese.max_marginal_relevance_search(question_chinese,k=3)"
   ]
  },
  {
   "attachments": {},
   "cell_type": "markdown",
   "id": "9076db81",
   "metadata": {},
   "source": [
    "When we get the results after running MMR, we can see that the first one is the same as the previous one because that is the most similar."
   ]
  },
  {
   "cell_type": "code",
   "execution_count": 28,
   "id": "93b20226",
   "metadata": {
    "tags": []
   },
   "outputs": [
    {
     "data": {
      "text/plain": [
       "'those homeworks will be done in either MATLA B or in Octave, which is sort of — I \\nknow some people '"
      ]
     },
     "execution_count": 28,
     "metadata": {},
     "output_type": "execute_result"
    }
   ],
   "source": [
    "docs_mmr[0].page_content[:100]"
   ]
  },
  {
   "cell_type": "code",
   "execution_count": 29,
   "id": "d0acfaab",
   "metadata": {},
   "outputs": [
    {
     "data": {
      "text/plain": [
       "'第⼀回：Matplotlib 初相识\\n⼀、认识matplotlib\\nMatplotlib 是⼀个 Python 2D 绘图库，能够以多种硬拷⻉格式和跨平台的交互式环境⽣成出版物质量的图形，⽤来绘制各种'"
      ]
     },
     "execution_count": 29,
     "metadata": {},
     "output_type": "execute_result"
    }
   ],
   "source": [
    "docs_mmr_chinese[0].page_content[:100]"
   ]
  },
  {
   "attachments": {},
   "cell_type": "markdown",
   "id": "7a93743f",
   "metadata": {},
   "source": [
    "But when we get to the second one, we can see that it is different.\n",
    "\n",
    "It gets some diversity in the responses."
   ]
  },
  {
   "cell_type": "code",
   "execution_count": 30,
   "id": "17d39762",
   "metadata": {
    "tags": []
   },
   "outputs": [
    {
     "data": {
      "text/plain": [
       "'algorithm then? So what’s different? How come  I was making all that noise earlier about \\nleast squa'"
      ]
     },
     "execution_count": 30,
     "metadata": {},
     "output_type": "execute_result"
    }
   ],
   "source": [
    "docs_mmr[1].page_content[:100]"
   ]
  },
  {
   "cell_type": "code",
   "execution_count": 31,
   "id": "93d3206c",
   "metadata": {},
   "outputs": [
    {
     "data": {
      "text/plain": [
       "'By Datawhale 数据可视化开源⼩组\\n© Copyright © Copyright 2021.y轴分为左右两个，因此 tick1 对应左侧的轴； tick2 对应右侧的轴。\\nx轴分为上下两个'"
      ]
     },
     "execution_count": 31,
     "metadata": {},
     "output_type": "execute_result"
    }
   ],
   "source": [
    "docs_mmr_chinese[1].page_content[:100]"
   ]
  },
  {
   "attachments": {},
   "cell_type": "markdown",
   "id": "b2b909bc",
   "metadata": {},
   "source": [
    "### 1.3 Solving Specificity: Using Metadata"
   ]
  },
  {
   "attachments": {},
   "cell_type": "markdown",
   "id": "7b63c5ee",
   "metadata": {},
   "source": [
    "In the previous lesson, we showed a problem where we asked a question about a particular chapter in a document, but the results we got also included results from other chapters.\n",
    "\n",
    "To solve this problem, many vector databases support operations on `metadata`.\n",
    "\n",
    "`metadata` provides context for each embedded chunk."
   ]
  },
  {
   "cell_type": "code",
   "execution_count": 32,
   "id": "3c1a60b2",
   "metadata": {
    "tags": []
   },
   "outputs": [],
   "source": [
    "question = \"what did they say about regression in the third lecture?\""
   ]
  },
  {
   "cell_type": "code",
   "execution_count": 33,
   "id": "ba98df3c",
   "metadata": {},
   "outputs": [],
   "source": [
    "question_chinese = \"他们在第二讲中对Figure说了些什么？\"  "
   ]
  },
  {
   "attachments": {},
   "cell_type": "markdown",
   "id": "3873525e",
   "metadata": {},
   "source": [
    "Now, we will solve this problem manually by specifying a metadata filter `filter`"
   ]
  },
  {
   "cell_type": "code",
   "execution_count": 34,
   "id": "a8612840",
   "metadata": {
    "tags": []
   },
   "outputs": [],
   "source": [
    "docs = vectordb.similarity_search(\n",
    "    question,\n",
    "    k=3,\n",
    "    filter={\"source\":\"docs/cs229_lectures/MachineLearning-Lecture03.pdf\"}\n",
    ")"
   ]
  },
  {
   "cell_type": "code",
   "execution_count": 35,
   "id": "b46c7e76",
   "metadata": {},
   "outputs": [],
   "source": [
    "docs_chinese = vectordb_chinese.similarity_search(\n",
    "    question_chinese,\n",
    "    k=3,\n",
    "    filter={\"source\":\"docs/matplotlib/第二回：艺术画笔见乾坤.pdf\"}\n",
    ")"
   ]
  },
  {
   "attachments": {},
   "cell_type": "markdown",
   "id": "869aee28",
   "metadata": {},
   "source": [
    "Next, we can see that the results are from the corresponding chapters"
   ]
  },
  {
   "cell_type": "code",
   "execution_count": 36,
   "id": "97031876",
   "metadata": {
    "tags": []
   },
   "outputs": [
    {
     "name": "stdout",
     "output_type": "stream",
     "text": [
      "{'source': 'docs/cs229_lectures/MachineLearning-Lecture03.pdf', 'page': 0}\n",
      "{'source': 'docs/cs229_lectures/MachineLearning-Lecture03.pdf', 'page': 14}\n",
      "{'source': 'docs/cs229_lectures/MachineLearning-Lecture03.pdf', 'page': 4}\n"
     ]
    }
   ],
   "source": [
    "for d in docs:\n",
    "    print(d.metadata)"
   ]
  },
  {
   "cell_type": "code",
   "execution_count": 35,
   "id": "2708f6ae",
   "metadata": {},
   "outputs": [
    {
     "name": "stdout",
     "output_type": "stream",
     "text": [
      "{'source': 'docs/matplotlib/第二回：艺术画笔见乾坤.pdf', 'page': 9}\n",
      "{'source': 'docs/matplotlib/第二回：艺术画笔见乾坤.pdf', 'page': 10}\n",
      "{'source': 'docs/matplotlib/第二回：艺术画笔见乾坤.pdf', 'page': 0}\n"
     ]
    }
   ],
   "source": [
    "for d in docs_chinese:\n",
    "    print(d.metadata)\n",
    "    "
   ]
  },
  {
   "attachments": {},
   "cell_type": "markdown",
   "id": "5e299f8e",
   "metadata": {},
   "source": [
    "Of course, we can't solve this problem manually every time, which would be unintelligent.\n",
    "\n",
    "The next section will show how to solve this problem through LLM"
   ]
  },
  {
   "attachments": {},
   "cell_type": "markdown",
   "id": "ccc2d784",
   "metadata": {},
   "source": [
    "### 1.4 Solving the peculiarities: using self-query retrievers in metadata"
   ]
  },
  {
   "attachments": {},
   "cell_type": "markdown",
   "id": "82ef44b6",
   "metadata": {},
   "source": [
    "We have an interesting challenge: we often want to infer metadata from the query itself.\n",
    "\n",
    "To solve this problem, we can use SelfQueryRetriever, which uses LLM to extract:\n",
    "\n",
    "1. The query string for the vector search, ie: the question\n",
    "\n",
    "2. The metadata filter to pass in\n",
    "\n",
    "Most vector databases support metadata filters, so no new database or index is required."
   ]
  },
  {
   "cell_type": "code",
   "execution_count": 38,
   "id": "b1d06084",
   "metadata": {
    "tags": []
   },
   "outputs": [],
   "source": [
    "from langchain.llms import OpenAI\n",
    "from langchain.retrievers.self_query.base import SelfQueryRetriever\n",
    "from langchain.chains.query_constructor.base import AttributeInfo"
   ]
  },
  {
   "cell_type": "code",
   "execution_count": 39,
   "id": "869c27c0",
   "metadata": {},
   "outputs": [],
   "source": [
    "llm = OpenAI(temperature=0)"
   ]
  },
  {
   "attachments": {},
   "cell_type": "markdown",
   "id": "acd194c5",
   "metadata": {},
   "source": [
    "`AttributeInfo` is where we can specify the different fields in the metadata and what they correspond to.\n",
    "\n",
    "In the metadata, we only have two fields, `source` and `page`.\n",
    "\n",
    "We will fill in the name, description, and type of each attribute.\n",
    "\n",
    "This information will actually be passed to LLM, so it needs to be as detailed as possible."
   ]
  },
  {
   "cell_type": "code",
   "execution_count": 40,
   "id": "0aa5e698",
   "metadata": {
    "tags": []
   },
   "outputs": [],
   "source": [
    "metadata_field_info = [\n",
    "    AttributeInfo(\n",
    "        name=\"source\",\n",
    "        description=\"The lecture the chunk is from, should be one of `docs/cs229_lectures/MachineLearning-Lecture01.pdf`, `docs/cs229_lectures/MachineLearning-Lecture02.pdf`, or `docs/cs229_lectures/MachineLearning-Lecture03.pdf`\",\n",
    "        type=\"string\",\n",
    "    ),\n",
    "    AttributeInfo(\n",
    "        name=\"page\",\n",
    "        description=\"The page from the lecture\",\n",
    "        type=\"integer\",\n",
    "    ),\n",
    "]"
   ]
  },
  {
   "cell_type": "code",
   "execution_count": 41,
   "id": "544ad7c1",
   "metadata": {},
   "outputs": [],
   "source": [
    "metadata_field_info_chinese = [\n",
    "    AttributeInfo(\n",
    "        name=\"source\",\n",
    "        description=\"讲义来源于 `docs/matplotlib/第一回：Matplotlib初相识.pdf`, `docs/matplotlib/第二回：艺术画笔见乾坤.pdf`, or `docs/matplotlib/第三回：布局格式定方圆.pdf` 的其中之一\",\n",
    "        type=\"string\",\n",
    "    ),\n",
    "    AttributeInfo(\n",
    "        name=\"page\",\n",
    "        description=\"讲义的那一页\",\n",
    "        type=\"integer\",\n",
    "    ),\n",
    "]"
   ]
  },
  {
   "cell_type": "code",
   "execution_count": 42,
   "id": "e7906c15",
   "metadata": {
    "tags": []
   },
   "outputs": [],
   "source": [
    "document_content_description = \"Lecture notes\"\n",
    "retriever = SelfQueryRetriever.from_llm(\n",
    "    llm,\n",
    "    vectordb,\n",
    "    document_content_description,\n",
    "    metadata_field_info,\n",
    "    verbose=True\n",
    ")"
   ]
  },
  {
   "cell_type": "code",
   "execution_count": 43,
   "id": "d5b99571",
   "metadata": {},
   "outputs": [],
   "source": [
    "document_content_description_chinese = \"课堂讲义\"\n",
    "retriever_chinese = SelfQueryRetriever.from_llm(\n",
    "    llm,\n",
    "    vectordb_chinese,\n",
    "    document_content_description_chinese,\n",
    "    metadata_field_info_chinese,\n",
    "    verbose=True\n",
    ")"
   ]
  },
  {
   "cell_type": "code",
   "execution_count": 44,
   "id": "79d781b9",
   "metadata": {
    "tags": []
   },
   "outputs": [],
   "source": [
    "question = \"what did they say about regression in the third lecture?\""
   ]
  },
  {
   "cell_type": "code",
   "execution_count": 45,
   "id": "8d9b7e18",
   "metadata": {},
   "outputs": [],
   "source": [
    "question_chinese = \"他们在第二讲中对Figure说了些什么？\"  "
   ]
  },
  {
   "attachments": {},
   "cell_type": "markdown",
   "id": "c51778b0-1fcd-40a4-bd6b-0f13fec8acb1",
   "metadata": {},
   "source": [
    "When you first execute the next line, you will get a warning about predict_and_parse being deprecated. This can be safely ignored."
   ]
  },
  {
   "cell_type": "code",
   "execution_count": 46,
   "id": "1d4f9f7d",
   "metadata": {
    "tags": []
   },
   "outputs": [
    {
     "name": "stderr",
     "output_type": "stream",
     "text": [
      "/root/autodl-tmp/env/gpt/lib/python3.10/site-packages/langchain/chains/llm.py:275: UserWarning: The predict_and_parse method is deprecated, instead pass an output parser directly to LLMChain.\n",
      "  warnings.warn(\n"
     ]
    },
    {
     "name": "stdout",
     "output_type": "stream",
     "text": [
      "query='regression' filter=Comparison(comparator=<Comparator.EQ: 'eq'>, attribute='source', value='docs/cs229_lectures/MachineLearning-Lecture03.pdf') limit=None\n"
     ]
    }
   ],
   "source": [
    "docs = retriever.get_relevant_documents(question)"
   ]
  },
  {
   "cell_type": "code",
   "execution_count": 47,
   "id": "ea39a97e",
   "metadata": {},
   "outputs": [
    {
     "name": "stdout",
     "output_type": "stream",
     "text": [
      "query='Figure' filter=Comparison(comparator=<Comparator.EQ: 'eq'>, attribute='source', value='docs/matplotlib/第二讲：艺术画解破.pdf') limit=None\n"
     ]
    }
   ],
   "source": [
    "docs_chinese = retriever_chinese.get_relevant_documents(question_chinese)"
   ]
  },
  {
   "cell_type": "code",
   "execution_count": 48,
   "id": "db04374e",
   "metadata": {
    "tags": []
   },
   "outputs": [
    {
     "name": "stdout",
     "output_type": "stream",
     "text": [
      "{'source': 'docs/cs229_lectures/MachineLearning-Lecture03.pdf', 'page': 14}\n",
      "{'source': 'docs/cs229_lectures/MachineLearning-Lecture03.pdf', 'page': 0}\n",
      "{'source': 'docs/cs229_lectures/MachineLearning-Lecture03.pdf', 'page': 10}\n",
      "{'source': 'docs/cs229_lectures/MachineLearning-Lecture03.pdf', 'page': 10}\n"
     ]
    }
   ],
   "source": [
    "for d in docs:\n",
    "    print(d.metadata)"
   ]
  },
  {
   "cell_type": "code",
   "execution_count": 49,
   "id": "143061f5",
   "metadata": {},
   "outputs": [],
   "source": [
    "for d in docs_chinese:\n",
    "    print(d.metadata)"
   ]
  },
  {
   "attachments": {},
   "cell_type": "markdown",
   "id": "297b8168",
   "metadata": {},
   "source": [
    "### 1.5 Other tips: Compression"
   ]
  },
  {
   "attachments": {},
   "cell_type": "markdown",
   "id": "564144da",
   "metadata": {},
   "source": [
    "Another way to improve the quality of retrieved documents is compression.\n",
    "\n",
    "The information most relevant to the query may be hidden in a document with a lot of irrelevant text.\n",
    "\n",
    "Passing full documents through the application may result in more expensive LLM calls and poorer responses.\n",
    "\n",
    "Contextual compression is designed to solve this problem."
   ]
  },
  {
   "cell_type": "code",
   "execution_count": 50,
   "id": "a060cf74",
   "metadata": {
    "tags": []
   },
   "outputs": [],
   "source": [
    "from langchain.retrievers import ContextualCompressionRetriever\n",
    "from langchain.retrievers.document_compressors import LLMChainExtractor"
   ]
  },
  {
   "cell_type": "code",
   "execution_count": 51,
   "id": "038649c8",
   "metadata": {
    "tags": []
   },
   "outputs": [],
   "source": [
    "def pretty_print_docs(docs):\n",
    "    print(f\"\\n{'-' * 100}\\n\".join([f\"Document {i+1}:\\n\\n\" + d.page_content for i, d in enumerate(docs)]))"
   ]
  },
  {
   "cell_type": "code",
   "execution_count": 52,
   "id": "fc686cf2",
   "metadata": {
    "tags": []
   },
   "outputs": [],
   "source": [
    "llm = OpenAI(temperature=0)\n",
    "compressor = LLMChainExtractor.from_llm(llm)  # 压缩器"
   ]
  },
  {
   "cell_type": "code",
   "execution_count": 53,
   "id": "82794397",
   "metadata": {
    "tags": []
   },
   "outputs": [],
   "source": [
    "compression_retriever = ContextualCompressionRetriever(\n",
    "    base_compressor=compressor,\n",
    "    base_retriever=vectordb.as_retriever()\n",
    ")"
   ]
  },
  {
   "cell_type": "code",
   "execution_count": 54,
   "id": "915598f8",
   "metadata": {},
   "outputs": [],
   "source": [
    "compression_retriever_chinese = ContextualCompressionRetriever(\n",
    "    base_compressor=compressor,\n",
    "    base_retriever=vectordb_chinese.as_retriever()\n",
    ")"
   ]
  },
  {
   "cell_type": "code",
   "execution_count": 55,
   "id": "cde86848",
   "metadata": {
    "tags": []
   },
   "outputs": [
    {
     "name": "stderr",
     "output_type": "stream",
     "text": [
      "/root/autodl-tmp/env/gpt/lib/python3.10/site-packages/langchain/chains/llm.py:275: UserWarning: The predict_and_parse method is deprecated, instead pass an output parser directly to LLMChain.\n",
      "  warnings.warn(\n"
     ]
    },
    {
     "name": "stdout",
     "output_type": "stream",
     "text": [
      "Document 1:\n",
      "\n",
      "\"MATLAB is I guess part of the programming language that makes it very easy to write codes using matrices, to write code for numerical routines, to move data around, to plot data. And it's sort of an extremely easy to learn tool to use for implementing a lot of learning algorithms.\"\n",
      "----------------------------------------------------------------------------------------------------\n",
      "Document 2:\n",
      "\n",
      "\"MATLAB is I guess part of the programming language that makes it very easy to write codes using matrices, to write code for numerical routines, to move data around, to plot data. And it's sort of an extremely easy to learn tool to use for implementing a lot of learning algorithms.\"\n",
      "----------------------------------------------------------------------------------------------------\n",
      "Document 3:\n",
      "\n",
      "\"And the student said, \"Oh, it was the MATLAB.\" So for those of you that don't know MATLAB yet, I hope you do learn it. It's not hard, and we'll actually have a short MATLAB tutorial in one of the discussion sections for those of you that don't know it.\"\n",
      "----------------------------------------------------------------------------------------------------\n",
      "Document 4:\n",
      "\n",
      "\"And the student said, \"Oh, it was the MATLAB.\" So for those of you that don't know MATLAB yet, I hope you do learn it. It's not hard, and we'll actually have a short MATLAB tutorial in one of the discussion sections for those of you that don't know it.\"\n"
     ]
    }
   ],
   "source": [
    "question = \"what did they say about matlab?\"\n",
    "compressed_docs = compression_retriever.get_relevant_documents(question)\n",
    "pretty_print_docs(compressed_docs)"
   ]
  },
  {
   "cell_type": "code",
   "execution_count": 56,
   "id": "39726b24",
   "metadata": {},
   "outputs": [
    {
     "name": "stdout",
     "output_type": "stream",
     "text": [
      "Document 1:\n",
      "\n",
      "Matplotlib 是⼀个 Python 2D 绘图库，能够以多种硬拷⻉格式和跨平台的交互式环境⽣成出版物质量的图形，⽤来绘制各种静态，动态，交互式的图表。\n",
      "----------------------------------------------------------------------------------------------------\n",
      "Document 2:\n",
      "\n",
      "Matplotlib 是⼀个 Python 2D 绘图库，能够以多种硬拷⻉格式和跨平台的交互式环境⽣成出版物质量的图形，⽤来绘制各种静态，动态，交互式的图表。\n"
     ]
    }
   ],
   "source": [
    "question_chinese = \"Matplotlib是什么？\"\n",
    "compressed_docs_chinese = compression_retriever_chinese.get_relevant_documents(question_chinese)\n",
    "pretty_print_docs(compressed_docs_chinese)"
   ]
  },
  {
   "attachments": {},
   "cell_type": "markdown",
   "id": "049b2601",
   "metadata": {},
   "source": [
    "Now when we ask the question and look at the resulting documents\n",
    "\n",
    "We can see two things.\n",
    "\n",
    "1. They are much shorter than normal documents\n",
    "\n",
    "2. There are still some duplicates, this is because we are using a semantic search algorithm under the hood.\n",
    "\n",
    "This is the problem we solved earlier in this course using MMR.\n",
    "\n",
    "This is a great example of how you can combine various techniques to get the best possible result."
   ]
  },
  {
   "attachments": {},
   "cell_type": "markdown",
   "id": "82c4fc4d",
   "metadata": {},
   "source": [
    "## 2. Combining various technologies"
   ]
  },
  {
   "attachments": {},
   "cell_type": "markdown",
   "id": "54432975",
   "metadata": {},
   "source": [
    "To do this, we can set the search type to MMR when creating the retriever from the vector database.\n",
    "\n",
    "We can then rerun the process and see that we are returned a filtered result set that does not contain any duplicate information."
   ]
  },
  {
   "cell_type": "code",
   "execution_count": 57,
   "id": "161ae1ad",
   "metadata": {
    "tags": []
   },
   "outputs": [],
   "source": [
    "compression_retriever = ContextualCompressionRetriever(\n",
    "    base_compressor=compressor,\n",
    "    base_retriever=vectordb.as_retriever(search_type = \"mmr\")\n",
    ")"
   ]
  },
  {
   "cell_type": "code",
   "execution_count": 58,
   "id": "cd6396bb",
   "metadata": {},
   "outputs": [],
   "source": [
    "compression_retriever_chinese = ContextualCompressionRetriever(\n",
    "    base_compressor=compressor,\n",
    "    base_retriever=vectordb_chinese.as_retriever(search_type = \"mmr\")\n",
    ")"
   ]
  },
  {
   "cell_type": "code",
   "execution_count": 59,
   "id": "e77ccae1",
   "metadata": {
    "tags": []
   },
   "outputs": [
    {
     "name": "stdout",
     "output_type": "stream",
     "text": [
      "Document 1:\n",
      "\n",
      "\"MATLAB is I guess part of the programming language that makes it very easy to write codes using matrices, to write code for numerical routines, to move data around, to plot data. And it's sort of an extremely easy to learn tool to use for implementing a lot of learning algorithms.\"\n",
      "----------------------------------------------------------------------------------------------------\n",
      "Document 2:\n",
      "\n",
      "\"And the student said, \"Oh, it was the MATLAB.\" So for those of you that don't know MATLAB yet, I hope you do learn it. It's not hard, and we'll actually have a short MATLAB tutorial in one of the discussion sections for those of you that don't know it.\"\n"
     ]
    }
   ],
   "source": [
    "question = \"what did they say about matlab?\"\n",
    "compressed_docs = compression_retriever.get_relevant_documents(question)\n",
    "pretty_print_docs(compressed_docs)"
   ]
  },
  {
   "cell_type": "code",
   "execution_count": 60,
   "id": "fe68a14b",
   "metadata": {},
   "outputs": [
    {
     "name": "stderr",
     "output_type": "stream",
     "text": [
      "Retrying langchain.llms.openai.completion_with_retry.<locals>._completion_with_retry in 4.0 seconds as it raised APIError: Request failed due to server shutdown {\n",
      "  \"error\": {\n",
      "    \"message\": \"Request failed due to server shutdown\",\n",
      "    \"type\": \"server_error\",\n",
      "    \"param\": null,\n",
      "    \"code\": null\n",
      "  }\n",
      "}\n",
      " 500 {'error': {'message': 'Request failed due to server shutdown', 'type': 'server_error', 'param': None, 'code': None}} {'Date': 'Sun, 16 Jul 2023 05:28:06 GMT', 'Content-Type': 'application/json', 'Content-Length': '141', 'Connection': 'keep-alive', 'access-control-allow-origin': '*', 'openai-model': 'text-davinci-003', 'openai-organization': 'user-xnghkpntwvm31crtmex7n2j0', 'openai-processing-ms': '1159', 'openai-version': '2020-10-01', 'strict-transport-security': 'max-age=15724800; includeSubDomains', 'x-ratelimit-limit-requests': '3000', 'x-ratelimit-limit-tokens': '250000', 'x-ratelimit-remaining-requests': '2999', 'x-ratelimit-remaining-tokens': '249744', 'x-ratelimit-reset-requests': '20ms', 'x-ratelimit-reset-tokens': '61ms', 'x-request-id': '22b2986140ddb5bcc689423e056b7daf', 'CF-Cache-Status': 'DYNAMIC', 'Server': 'cloudflare', 'CF-RAY': '7e77d6f7590b1ec8-NRT', 'alt-svc': 'h3=\":443\"; ma=86400'}.\n"
     ]
    },
    {
     "name": "stdout",
     "output_type": "stream",
     "text": [
      "Document 1:\n",
      "\n",
      "Matplotlib 是⼀个 Python 2D 绘图库，能够以多种硬拷⻉格式和跨平台的交互式环境⽣成出版物质量的图形，⽤来绘制各种静态，动态，交互式的图表。\n"
     ]
    }
   ],
   "source": [
    "question_chinese = \"Matplotlib是什么？\"\n",
    "compressed_docs_chinese = compression_retriever_chinese.get_relevant_documents(question_chinese)\n",
    "pretty_print_docs(compressed_docs_chinese)"
   ]
  },
  {
   "attachments": {},
   "cell_type": "markdown",
   "id": "6c2b63e1",
   "metadata": {},
   "source": [
    "## 3. Other types of retrieval"
   ]
  },
  {
   "attachments": {},
   "cell_type": "markdown",
   "id": "3e777a7b",
   "metadata": {},
   "source": [
    "It is worth noting that vetordb is not the only tool for retrieving documents.\n",
    "\n",
    "The `LangChain` retriever abstraction includes other ways of retrieving documents, such as: `TF-IDF` or `SVM`."
   ]
  },
  {
   "cell_type": "code",
   "execution_count": 61,
   "id": "83d2e808",
   "metadata": {
    "tags": []
   },
   "outputs": [],
   "source": [
    "from langchain.retrievers import SVMRetriever\n",
    "from langchain.retrievers import TFIDFRetriever\n",
    "from langchain.document_loaders import PyPDFLoader\n",
    "from langchain.text_splitter import RecursiveCharacterTextSplitter"
   ]
  },
  {
   "cell_type": "code",
   "execution_count": 62,
   "id": "bcf5b760",
   "metadata": {
    "tags": []
   },
   "outputs": [],
   "source": [
    "# Load PDF\n",
    "loader = PyPDFLoader(\"docs/cs229_lectures/MachineLearning-Lecture01.pdf\")\n",
    "pages = loader.load()\n",
    "all_page_text = [p.page_content for p in pages]\n",
    "joined_page_text = \" \".join(all_page_text)\n",
    "\n",
    "# Split text\n",
    "text_splitter = RecursiveCharacterTextSplitter(chunk_size = 1500,chunk_overlap = 150)\n",
    "splits = text_splitter.split_text(joined_page_text)\n"
   ]
  },
  {
   "cell_type": "code",
   "execution_count": 77,
   "id": "1657e768",
   "metadata": {},
   "outputs": [],
   "source": [
    "# Load PDF\n",
    "loader_chinese = PyPDFLoader(\"docs/matplotlib/第一回：Matplotlib初相识.pdf\")\n",
    "pages_chinese = loader_chinese.load()\n",
    "all_page_text_chinese = [p.page_content for p in pages_chinese]\n",
    "joined_page_text_chinese = \" \".join(all_page_text_chinese)\n",
    "\n",
    "# Split text\n",
    "text_splitter_chinese = RecursiveCharacterTextSplitter(chunk_size = 1500,chunk_overlap = 150)\n",
    "splits_chinese = text_splitter_chinese.split_text(joined_page_text_chinese)"
   ]
  },
  {
   "cell_type": "code",
   "execution_count": 64,
   "id": "59abbaff",
   "metadata": {},
   "outputs": [],
   "source": [
    "# Search\n",
    "svm_retriever = SVMRetriever.from_texts(splits, embedding)\n",
    "tfidf_retriever = TFIDFRetriever.from_texts(splits)"
   ]
  },
  {
   "cell_type": "code",
   "execution_count": 66,
   "id": "7885389e",
   "metadata": {},
   "outputs": [
    {
     "data": {
      "text/plain": [
       "Document(page_content=\"let me just check what questions you have righ t now. So if there are no questions, I'll just \\nclose with two reminders, which are after class today or as you start to talk with other \\npeople in this class, I just encourage you again to start to form project partners, to try to \\nfind project partners to do your project with. And also, this is a good time to start forming \\nstudy groups, so either talk to your friends  or post in the newsgroup, but we just \\nencourage you to try to star t to do both of those today, okay? Form study groups, and try \\nto find two other project partners.  \\nSo thank you. I'm looking forward to teaching this class, and I'll see you in a couple of \\ndays.   [End of Audio]  \\nDuration: 69 minutes\", metadata={})"
      ]
     },
     "execution_count": 66,
     "metadata": {},
     "output_type": "execute_result"
    }
   ],
   "source": [
    "question = \"What are major topics for this class?\"  # 这门课的主要主题是什么？\n",
    "docs_svm = svm_retriever.get_relevant_documents(question)\n",
    "docs_svm[0]"
   ]
  },
  {
   "cell_type": "code",
   "execution_count": 67,
   "id": "2a1659c0",
   "metadata": {
    "tags": []
   },
   "outputs": [
    {
     "data": {
      "text/plain": [
       "Document(page_content=\"Saxena and Min Sun here did, wh ich is given an image like this, right? This is actually a \\npicture taken of the Stanford campus. You can apply that sort of cl ustering algorithm and \\ngroup the picture into regions. Let me actually blow that up so that you can see it more \\nclearly. Okay. So in the middle, you see the lines sort of groupi ng the image together, \\ngrouping the image into [inaudible] regions.  \\nAnd what Ashutosh and Min did was they then  applied the learning algorithm to say can \\nwe take this clustering and us e it to build a 3D model of the world? And so using the \\nclustering, they then had a lear ning algorithm try to learn what the 3D structure of the \\nworld looks like so that they could come up with a 3D model that you can sort of fly \\nthrough, okay? Although many people used to th ink it's not possible to take a single \\nimage and build a 3D model, but using a lear ning algorithm and that sort of clustering \\nalgorithm is the first step. They were able to.  \\nI'll just show you one more example. I like this  because it's a picture of Stanford with our \\nbeautiful Stanford campus. So again, taking th e same sort of clustering algorithms, taking \\nthe same sort of unsupervised learning algor ithm, you can group the pixels into different \\nregions. And using that as a pre-processing step, they eventually built this sort of 3D model of Stanford campus in a single picture.  You can sort of walk  into the ceiling, look\", metadata={})"
      ]
     },
     "execution_count": 67,
     "metadata": {},
     "output_type": "execute_result"
    }
   ],
   "source": [
    "question = \"what did they say about matlab?\"  # 他们关于Matlab说了些什么？\n",
    "docs_tfidf = tfidf_retriever.get_relevant_documents(question)\n",
    "docs_tfidf[0]"
   ]
  },
  {
   "cell_type": "code",
   "execution_count": 78,
   "id": "5ade9c87",
   "metadata": {},
   "outputs": [],
   "source": [
    "# Chinese Version\n",
    "svm_retriever_chinese = SVMRetriever.from_texts(splits_chinese, embedding)\n",
    "tfidf_retriever_chinese = TFIDFRetriever.from_texts(splits_chinese)"
   ]
  },
  {
   "cell_type": "code",
   "execution_count": 79,
   "id": "cc823bea",
   "metadata": {},
   "outputs": [
    {
     "data": {
      "text/plain": [
       "Document(page_content='fig, ax = plt.subplots()  \\n# step4 绘制图像，  这⼀模块的扩展参考第⼆章进⼀步学习\\nax.plot(x, y, label=\\'linear\\')  \\n# step5 添加标签，⽂字和图例，这⼀模块的扩展参考第四章进⼀步学习\\nax.set_xlabel(\\'x label\\') \\nax.set_ylabel(\\'y label\\') \\nax.set_title(\"Simple Plot\")  \\nax.legend() ;\\n思考题\\n请思考两种绘图模式的优缺点和各⾃适合的使⽤场景\\n在第五节绘图模板中我们是以 OO 模式作为例⼦展示的，请思考并写⼀个 pyplot 绘图模式的简单模板', metadata={})"
      ]
     },
     "execution_count": 79,
     "metadata": {},
     "output_type": "execute_result"
    }
   ],
   "source": [
    "question_chinese = \"这门课的主要主题是什么？\" \n",
    "docs_svm_chinese = svm_retriever_chinese.get_relevant_documents(question_chinese)\n",
    "docs_svm_chinese[0]"
   ]
  },
  {
   "cell_type": "code",
   "execution_count": 80,
   "id": "01eb9d43",
   "metadata": {},
   "outputs": [
    {
     "data": {
      "text/plain": [
       "Document(page_content='fig, ax = plt.subplots()  \\n# step4 绘制图像，  这⼀模块的扩展参考第⼆章进⼀步学习\\nax.plot(x, y, label=\\'linear\\')  \\n# step5 添加标签，⽂字和图例，这⼀模块的扩展参考第四章进⼀步学习\\nax.set_xlabel(\\'x label\\') \\nax.set_ylabel(\\'y label\\') \\nax.set_title(\"Simple Plot\")  \\nax.legend() ;\\n思考题\\n请思考两种绘图模式的优缺点和各⾃适合的使⽤场景\\n在第五节绘图模板中我们是以 OO 模式作为例⼦展示的，请思考并写⼀个 pyplot 绘图模式的简单模板', metadata={})"
      ]
     },
     "execution_count": 80,
     "metadata": {},
     "output_type": "execute_result"
    }
   ],
   "source": [
    "question_chinese = \"Matplotlib是什么？\"\n",
    "docs_tfidf_chinese = tfidf_retriever_chinese.get_relevant_documents(question_chinese)\n",
    "docs_tfidf_chinese[0]"
   ]
  }
 ],
 "metadata": {
  "kernelspec": {
   "display_name": "Python 3 (ipykernel)",
   "language": "python",
   "name": "python3"
  },
  "language_info": {
   "codemirror_mode": {
    "name": "ipython",
    "version": 3
   },
   "file_extension": ".py",
   "mimetype": "text/x-python",
   "name": "python",
   "nbconvert_exporter": "python",
   "pygments_lexer": "ipython3",
   "version": "3.10.11"
  }
 },
 "nbformat": 4,
 "nbformat_minor": 5
}
