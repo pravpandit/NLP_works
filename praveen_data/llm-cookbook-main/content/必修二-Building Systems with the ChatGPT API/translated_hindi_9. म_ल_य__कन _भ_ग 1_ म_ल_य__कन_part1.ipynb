{
 "cells": [
  {
   "attachments": {},
   "cell_type": "markdown",
   "id": "aa3de8c6",
   "metadata": {
    "height": 30
   },
   "source": [
    "# अध्याय 9 मूल्यांकन (भाग 1) - जब कोई सरल सही उत्तर हो\n",
    "\n",
    " - [1. पर्यावरण विन्यास](#1. पर्यावरण विन्यास)\n",
    "     - [1.1 एपीआई कुंजी और कुछ पायथन लाइब्रेरी लोड करें। ](#1.1-लोड-एपीआई-कुंजियाँ और कुछ-पायथन-लाइब्रेरीज़।)\n",
    "     - [1.2 संबंधित उत्पाद और श्रेणियां प्राप्त करें](#1.2-संबंधित उत्पाद और श्रेणियां प्राप्त करें)\n",
    " - [2. संबंधित उत्पाद और श्रेणी के नाम ढूंढ़ें](#2. संबंधित उत्पाद और श्रेणी के नाम ढूंढ़ें)\n",
    " - [3. कुछ प्रश्नों पर मूल्यांकन करें](#3. कुछ प्रश्नों पर मूल्यांकन करें)\n",
    " - [4. अधिक कठिन परीक्षण मामले](#4. अधिक कठिन परीक्षण मामले)\n",
    " - [5. कठिन परीक्षण मामलों को संभालने के लिए निर्देशों को संशोधित करें] (#5. कठिन परीक्षण मामलों को संभालने के लिए निर्देशों को संशोधित करें)\n",
    " - [6. कठिन परीक्षण मामलों पर संशोधित निर्देशों का मूल्यांकन करें] (#6. कठिन परीक्षण मामलों पर संशोधित निर्देशों का मूल्यांकन करें)\n",
    " - [7. प्रतिगमन परीक्षण: सत्यापित करें कि मॉडल अभी भी पिछले परीक्षण मामलों पर मान्य है] (#7. प्रतिगमन परीक्षण: सत्यापित करें कि मॉडल अभी भी पिछले परीक्षण मामलों पर मान्य है)\n",
    " - [8. स्वचालित परीक्षण के लिए विकास सेट एकत्रित करें] (#8. स्वचालित परीक्षण के लिए विकास सेट एकत्रित करें)\n",
    " - [9. आदर्श उत्तरों के साथ तुलना करके परीक्षण मामलों का मूल्यांकन करें] (#9. आदर्श उत्तरों के साथ तुलना करके परीक्षण मामलों का मूल्यांकन करें)\n",
    " - [10. सभी परीक्षण मामलों पर मूल्यांकन चलाएं और मामलों के सही अनुपात की गणना करें](#10.सभी परीक्षण मामलों पर मूल्यांकन चलाएँ और सही मामलों के अनुपात की गणना करें)"
   ]
  },
  {
   "attachments": {},
   "cell_type": "markdown",
   "id": "c768620b",
   "metadata": {},
   "source": [
    "पिछले अध्यायों में, हमने दिखाया कि एप्लिकेशन बनाने के लिए एलएलएम का उपयोग कैसे करें, जिसमें इनपुट का मूल्यांकन करना, इनपुट को संसाधित करना और उपयोगकर्ता को आउटपुट प्रदर्शित करने से पहले अंतिम आउटपुट जांच करना शामिल है।\n",
    "\n",
    "एक बार जब आप इस तरह का सिस्टम बना लेते हैं, तो आपको कैसे पता चलेगा कि यह कितनी अच्छी तरह काम करता है? आपके द्वारा इसे तैनात करने और उपयोगकर्ताओं द्वारा इसका उपयोग करने के बाद भी, आप यह कैसे ट्रैक करते हैं कि यह कैसा काम कर रहा है, किसी भी खामी को कैसे पहचानते हैं और सिस्टम की उत्तर गुणवत्ता में लगातार सुधार करते हैं?\n",
    "\n",
    "इस अध्याय में, हम आपके साथ एलएलएम के आउटपुट के मूल्यांकन के लिए कुछ सर्वोत्तम अभ्यास साझा करना चाहेंगे।\n",
    "\n",
    "एलएलएम-आधारित अनुप्रयोगों का निर्माण पारंपरिक पर्यवेक्षित शिक्षण अनुप्रयोगों से भिन्न है। चूंकि एलएलएम-आधारित एप्लिकेशन जल्दी से बनाए जा सकते हैं, मूल्यांकन विधियां आमतौर पर परीक्षण सेट से शुरू नहीं होती हैं। इसके बजाय, परीक्षण उदाहरणों का एक सेट आमतौर पर धीरे-धीरे बनाया जाता है।\n",
    "\n",
    "पारंपरिक पर्यवेक्षित शिक्षण वातावरण में, प्रशिक्षण सेट, विकास सेट, या होल्डआउट क्रॉस-सत्यापन सेट को एकत्र करने और फिर विकास प्रक्रिया के दौरान उपयोग करने की आवश्यकता होती है।\n",
    "\n",
    "हालाँकि, यदि आप कुछ मिनटों में एक संकेत निर्दिष्ट कर सकते हैं और कुछ घंटों में संबंधित परिणाम प्राप्त कर सकते हैं, तो एक हजार परीक्षण नमूने एकत्र करने के लिए लंबे समय तक रुकना बेहद दर्दनाक बात होगी। क्योंकि अब, यह परिणाम शून्य प्रशिक्षण नमूनों से प्राप्त किया जा सकता है।\n",
    "\n",
    "इसलिए, एलएलएम का उपयोग करके एप्लिकेशन बनाते समय, आपको निम्नलिखित प्रक्रिया का अनुभव होगा:\n",
    "\n",
    "सबसे पहले, आप केवल एक से तीन नमूनों के छोटे नमूनों में प्रॉम्प्ट को ट्यून करेंगे और उन पर काम करने के लिए प्रॉम्प्ट प्राप्त करने का प्रयास करेंगे।\n",
    "\n",
    "फिर, जब सिस्टम आगे के परीक्षण से गुजरता है, तो आपका सामना हो सकता हैकुछ पेचीदा उदाहरण. प्रॉम्प्ट उन पर काम नहीं करता है, या एल्गोरिदम उन पर काम नहीं करता है।\n",
    "\n",
    "चैटजीपीटी एपीआई का उपयोग करके एप्लिकेशन बनाने वाले डेवलपर्स द्वारा अनुभव की जाने वाली यह चुनौती है।\n",
    "\n",
    "इस मामले में, आप अवसरवादी रूप से अन्य पेचीदा उदाहरण जोड़ने के लिए इन अतिरिक्त कुछ उदाहरणों को उस संग्रह में जोड़ सकते हैं जिसका आप परीक्षण कर रहे हैं।\n",
    "\n",
    "अंततः, आपने अपने धीरे-धीरे बढ़ते विकास सेट में इतने सारे उदाहरण जोड़ दिए हैं कि प्रत्येक उदाहरण को मैन्युअल रूप से चलाकर प्रॉम्प्ट का परीक्षण करना कुछ हद तक असुविधाजनक हो जाता है।\n",
    "\n",
    "फिर आप औसत सटीकता जैसे उदाहरणों के इन छोटे सेटों पर प्रदर्शन को मापने के लिए मैट्रिक्स विकसित करना शुरू करते हैं।\n",
    "\n",
    "इस प्रक्रिया का एक दिलचस्प पहलू यह है कि यदि आपको लगता है कि आपका सिस्टम काफी अच्छा है, तो आप हमेशा वहीं रुक सकते हैं और इसमें सुधार नहीं कर सकते। वास्तव में, कई तैनात एप्लिकेशन पहले या दूसरे चरण पर रुक जाते हैं और बिल्कुल ठीक चलते हैं।\n",
    "\n",
    "यह ध्यान रखना महत्वपूर्ण है कि बिना किसी बड़े जोखिम के बड़े मॉडलों के कई अनुप्रयोग हैं, भले ही यह बिल्कुल सही उत्तर न दे।\n",
    "\n",
    "हालाँकि, कुछ उच्च जोखिम वाले अनुप्रयोगों के लिए, जहां पूर्वाग्रह या अनुचित आउटपुट किसी को नुकसान पहुंचा सकता है, एक परीक्षण सेट इकट्ठा करना और सिस्टम के प्रदर्शन का कठोरता से मूल्यांकन करना और भी महत्वपूर्ण हो जाता है ताकि यह सुनिश्चित हो सके कि यह उपयोग करने से पहले सही काम कर रहा है। .\n",
    "\n",
    "हालाँकि, यदि आप इसका उपयोग किसी लेख को दूसरों को दिखाने के बजाय स्वयं पढ़ने के लिए सारांशित करने के लिए कर रहे हैं, तो नुकसान का जोखिम कम है और आप बहुत अधिक खर्च करने के बजाय प्रक्रिया में जल्दी ही रुक सकते हैं।लागत एक बड़ा डेटा सेट एकत्र करने की है।"
   ]
  },
  {
   "attachments": {},
   "cell_type": "markdown",
   "id": "b0582759",
   "metadata": {
    "height": 30
   },
   "source": [
    "## 1. पर्यावरण विन्यास"
   ]
  },
  {
   "cell_type": "markdown",
   "id": "e3eec945",
   "metadata": {},
   "source": [
    "### 1.1 एपीआई कुंजी और कुछ पायथन लाइब्रेरी लोड करें।\n",
    "\n",
    "पिछले अध्याय की तरह ही, हमें सबसे पहले OpenAI API का उपयोग करके पर्यावरण को कॉन्फ़िगर करना होगा"
   ]
  },
  {
   "cell_type": "code",
   "execution_count": 1,
   "id": "a9726b15",
   "metadata": {
    "height": 166
   },
   "outputs": [],
   "source": [
    "import os\n",
    "import openai\n",
    "import sys\n",
    "import time\n",
    "sys.path.append('../..')\n",
    "import utils_en\n",
    "import utils_zh\n",
    "\n",
    "openai.api_key  = \"sk-...\"\n",
    "# API_KEY सेट करें, कृपया इसे अपनी API_KEY से बदलें\n",
    "\n",
    "# निम्नलिखित पर्यावरण चर पर आधारित कॉन्फ़िगरेशन विधि का एक उदाहरण है, जो अधिक सुरक्षित है। यह केवल संदर्भ के लिए है और बाद में इसे कवर नहीं किया जाएगा।\n",
    "#आयात openai\n",
    "# ओएस आयात करें\n",
    "# OPENAI_API_KEY = os.environ.get(\"OPENAI_API_KEY\")\n",
    "# openai.api_key = OPENAI_API_KEY"
   ]
  },
  {
   "cell_type": "code",
   "execution_count": 2,
   "id": "458993db",
   "metadata": {
    "height": 149
   },
   "outputs": [],
   "source": [
    "def get_completion_from_messages(messages, \n",
    "                                 model=\"gpt-3.5-turbo\", \n",
    "                                 temperature=0, \n",
    "                                 max_tokens=500):\n",
    "    '''\n",
    "    封装一个访问 OpenAI GPT3.5 的函数\n",
    "\n",
    "    参数: \n",
    "    messages: 这是一个消息列表，每个消息都是一个字典，包含 role(角色）和 content(内容)。角色可以是'system'、'user' 或 'assistant’，内容是角色的消息。\n",
    "    model: 调用的模型，默认为 gpt-3.5-turbo(ChatGPT)，有内测资格的用户可以选择 gpt-4\n",
    "    temperature: 这决定模型输出的随机程度，默认为0，表示输出将非常确定。增加温度会使输出更随机。\n",
    "    max_tokens: 这决定模型输出的最大的 token 数。\n",
    "    '''\n",
    "    response = openai.ChatCompletion.create(\n",
    "        model=model,\n",
    "        messages=messages,\n",
    "        temperature=temperature, # 这决定模型输出的随机程度\n",
    "        max_tokens=max_tokens, # 这决定模型输出的最大的 token 数\n",
    "    )\n",
    "    return response.choices[0].message[\"content\"]"
   ]
  },
  {
   "attachments": {},
   "cell_type": "markdown",
   "id": "3b6a4c17",
   "metadata": {
    "height": 30
   },
   "source": [
    "### 1.2 संबंधित उत्पाद और श्रेणियां प्राप्त करें\n",
    "\n",
    "हम पिछले अध्यायों में उल्लिखित उत्पाद सूची से उत्पादों और श्रेणियों की सूची प्राप्त करना चाहते हैं।"
   ]
  },
  {
   "cell_type": "code",
   "execution_count": 5,
   "id": "6f4062ea",
   "metadata": {
    "height": 47
   },
   "outputs": [
    {
     "data": {
      "text/plain": [
       "{'Computers and Laptops': ['TechPro Ultrabook',\n",
       "  'BlueWave Gaming Laptop',\n",
       "  'PowerLite Convertible',\n",
       "  'TechPro Desktop',\n",
       "  'BlueWave Chromebook'],\n",
       " 'Smartphones and Accessories': ['SmartX ProPhone',\n",
       "  'MobiTech PowerCase',\n",
       "  'SmartX MiniPhone',\n",
       "  'MobiTech Wireless Charger',\n",
       "  'SmartX EarBuds'],\n",
       " 'Televisions and Home Theater Systems': ['CineView 4K TV',\n",
       "  'SoundMax Home Theater',\n",
       "  'CineView 8K TV',\n",
       "  'SoundMax Soundbar',\n",
       "  'CineView OLED TV'],\n",
       " 'Gaming Consoles and Accessories': ['GameSphere X',\n",
       "  'ProGamer Controller',\n",
       "  'GameSphere Y',\n",
       "  'ProGamer Racing Wheel',\n",
       "  'GameSphere VR Headset'],\n",
       " 'Audio Equipment': ['AudioPhonic Noise-Canceling Headphones',\n",
       "  'WaveSound Bluetooth Speaker',\n",
       "  'AudioPhonic True Wireless Earbuds',\n",
       "  'WaveSound Soundbar',\n",
       "  'AudioPhonic Turntable'],\n",
       " 'Cameras and Camcorders': ['FotoSnap DSLR Camera',\n",
       "  'ActionCam 4K',\n",
       "  'FotoSnap Mirrorless Camera',\n",
       "  'ZoomMaster Camcorder',\n",
       "  'FotoSnap Instant Camera']}"
      ]
     },
     "execution_count": 5,
     "metadata": {},
     "output_type": "execute_result"
    }
   ],
   "source": [
    "products_and_category = utils_en.get_products_and_category()\n",
    "products_and_category"
   ]
  },
  {
   "attachments": {},
   "cell_type": "markdown",
   "id": "d91f5384",
   "metadata": {
    "height": 30
   },
   "source": [
    "## 2. संबंधित उत्पाद और श्रेणी के नाम खोजें"
   ]
  },
  {
   "cell_type": "code",
   "execution_count": 4,
   "id": "e426619a",
   "metadata": {
    "height": 744
   },
   "outputs": [],
   "source": [
    "def find_category_and_product_v1(user_input, products_and_category):\n",
    "    \"\"\"\n",
    "    从用户输入中获取到产品和类别\n",
    "\n",
    "    参数：\n",
    "    user_input：用户的查询\n",
    "    products_and_category：产品类型和对应产品的字典\n",
    "    \"\"\"\n",
    "\n",
    "#विभाजक\n",
    "    delimiter = \"####\"\n",
    "# परिभाषित सिस्टम जानकारी, जिसमें वह कार्य बताया गया है जिसे पूरा करने के लिए GPT की आवश्यकता है\n",
    "    system_message = f\"\"\"\n",
    "    You will be provided with customer service queries. \\\n",
    "    The customer service query will be delimited with {delimiter} characters.\n",
    "    Output a Python list of json objects, where each object has the following format:\n",
    "        'category': <one of Computers and Laptops, Smartphones and Accessories, Televisions and Home Theater Systems, \\\n",
    "    Gaming Consoles and Accessories, Audio Equipment, Cameras and Camcorders>,\n",
    "    AND\n",
    "        'products': <a list of products that must be found in the allowed products below>\n",
    "\n",
    "\n",
    "    Where the categories and products must be found in the customer service query.\n",
    "    If a product is mentioned, it must be associated with the correct category in the allowed products list below.\n",
    "    If no products or categories are found, output an empty list.\n",
    "    \n",
    "\n",
    "    List out all products that are relevant to the customer service query based on how closely it relates\n",
    "    to the product name and product category.\n",
    "    Do not assume, from the name of the product, any features or attributes such as relative quality or price.\n",
    "\n",
    "    The allowed products are provided in JSON format.\n",
    "    The keys of each item represent the category.\n",
    "    The values of each item is a list of products that are within that category.\n",
    "    Allowed products: {products_and_category}\n",
    "    \n",
    "\n",
    "    \"\"\"\n",
    "# कुछ उदाहरण दीजिए\n",
    "    few_shot_user_1 = \"\"\"I want the most expensive computer.\"\"\"\n",
    "    few_shot_assistant_1 = \"\"\" \n",
    "    [{'category': 'Computers and Laptops', \\\n",
    "'products': ['TechPro Ultrabook', 'BlueWave Gaming Laptop', 'PowerLite Convertible', 'TechPro Desktop', 'BlueWave Chromebook']}]\n",
    "    \"\"\"\n",
    "    \n",
    "    messages =  [  \n",
    "    {'role':'system', 'content': system_message},    \n",
    "    {'role':'user', 'content': f\"{delimiter}{few_shot_user_1}{delimiter}\"},  \n",
    "    {'role':'assistant', 'content': few_shot_assistant_1 },\n",
    "    {'role':'user', 'content': f\"{delimiter}{user_input}{delimiter}\"},  \n",
    "    ] \n",
    "    return get_completion_from_messages(messages)\n"
   ]
  },
  {
   "cell_type": "code",
   "execution_count": 3,
   "id": "ac683bfb",
   "metadata": {},
   "outputs": [],
   "source": [
    "def find_category_and_product_v1(user_input,products_and_category):\n",
    "    \"\"\"\n",
    "    从用户输入中获取到产品和类别\n",
    "\n",
    "    参数：\n",
    "    user_input：用户的查询\n",
    "    products_and_category：产品类型和对应产品的字典\n",
    "    \"\"\"\n",
    "    \n",
    "    delimiter = \"####\"\n",
    "    system_message = f\"\"\"\n",
    "    您将提供客户服务查询。\\\n",
    "    客户服务查询将用{delimiter}字符分隔。\n",
    "    输出一个 Python 列表，列表中的每个对象都是 Json 对象，每个对象的格式如下：\n",
    "        'category': <Computers and Laptops, Smartphones and Accessories, Televisions and Home Theater Systems, \\\n",
    "    Gaming Consoles and Accessories, Audio Equipment, Cameras and Camcorders中的一个>,\n",
    "    以及\n",
    "        'products': <必须在下面允许的产品中找到的产品列表>\n",
    "    \n",
    "    其中类别和产品必须在客户服务查询中找到。\n",
    "    如果提到了一个产品，它必须与下面允许的产品列表中的正确类别关联。\n",
    "    如果没有找到产品或类别，输出一个空列表。\n",
    "    \n",
    "    根据产品名称和产品类别与客户服务查询的相关性，列出所有相关的产品。\n",
    "    不要从产品的名称中假设任何特性或属性，如相对质量或价格。\n",
    "    \n",
    "    允许的产品以 JSON 格式提供。\n",
    "    每个项目的键代表类别。\n",
    "    每个项目的值是该类别中的产品列表。\n",
    "    允许的产品：{products_and_category}\n",
    "    \n",
    "    \"\"\"\n",
    "    \n",
    "    few_shot_user_1 = \"\"\"我想要最贵的电脑。\"\"\"\n",
    "    few_shot_assistant_1 = \"\"\" \n",
    "    [{'category': 'Computers and Laptops', \\\n",
    "'products': ['TechPro Ultrabook', 'BlueWave Gaming Laptop', 'PowerLite Convertible', 'TechPro Desktop', 'BlueWave Chromebook']}]\n",
    "    \"\"\"\n",
    "    \n",
    "    messages =  [  \n",
    "    {'role':'system', 'content': system_message},    \n",
    "    {'role':'user', 'content': f\"{delimiter}{few_shot_user_1}{delimiter}\"},  \n",
    "    {'role':'assistant', 'content': few_shot_assistant_1 },\n",
    "    {'role':'user', 'content': f\"{delimiter}{user_input}{delimiter}\"},  \n",
    "    ] \n",
    "    return get_completion_from_messages(messages)"
   ]
  },
  {
   "attachments": {},
   "cell_type": "markdown",
   "id": "aca82030",
   "metadata": {
    "height": 30
   },
   "source": [
    "## 3. कुछ प्रश्नों पर मूल्यांकन करें"
   ]
  },
  {
   "cell_type": "code",
   "execution_count": 5,
   "id": "09cb58f3",
   "metadata": {
    "height": 98
   },
   "outputs": [
    {
     "name": "stdout",
     "output_type": "stream",
     "text": [
      "    [{'category': 'Televisions and Home Theater Systems', 'products': ['CineView 4K TV', 'SoundMax Home Theater', 'CineView 8K TV', 'SoundMax Soundbar', 'CineView OLED TV']}]\n"
     ]
    }
   ],
   "source": [
    "# पहली मूल्यांकन की गई क्वेरी\n",
    "customer_msg_0 = f\"\"\"Which TV can I buy if I'm on a budget?\"\"\"\n",
    "\n",
    "products_by_category_0 = find_category_and_product_v1(customer_msg_0,\n",
    "                                                      products_and_category)\n",
    "print(products_by_category_0)"
   ]
  },
  {
   "cell_type": "code",
   "execution_count": null,
   "id": "cacb96b2",
   "metadata": {},
   "outputs": [
    {
     "name": "stdout",
     "output_type": "stream",
     "text": [
      "    [{'category': 'Televisions and Home Theater Systems', 'products': ['CineView 4K TV', 'SoundMax Home Theater', 'SoundMax Soundbar', 'CineView OLED TV']}]\n"
     ]
    }
   ],
   "source": [
    "# पहली मूल्यांकन की गई क्वेरी\n",
    "customer_msg_0 = f\"\"\"如果我预算有限，我可以买哪款电视？\"\"\"\n",
    "\n",
    "products_by_category_0 = find_category_and_product_v1(customer_msg_0,\n",
    "                                                      products_and_category)\n",
    "print(products_by_category_0)"
   ]
  },
  {
   "cell_type": "code",
   "execution_count": 6,
   "id": "d2160d28",
   "metadata": {
    "height": 98
   },
   "outputs": [
    {
     "name": "stdout",
     "output_type": "stream",
     "text": [
      "    [{'category': 'Smartphones and Accessories', 'products': ['MobiTech PowerCase', 'MobiTech Wireless Charger', 'SmartX EarBuds']}]\n",
      "\n"
     ]
    }
   ],
   "source": [
    "# दूसरी मूल्यांकित क्वेरी\n",
    "customer_msg_1 = f\"\"\"I need a charger for my smartphone\"\"\"\n",
    "\n",
    "products_by_category_1 = find_category_and_product_v1(customer_msg_1,\n",
    "                                                      products_and_category)\n",
    "print(products_by_category_1)"
   ]
  },
  {
   "cell_type": "code",
   "execution_count": null,
   "id": "04364405",
   "metadata": {},
   "outputs": [
    {
     "name": "stdout",
     "output_type": "stream",
     "text": [
      "    [{'category': 'Smartphones and Accessories', 'products': ['MobiTech PowerCase', 'MobiTech Wireless Charger', 'SmartX EarBuds']}]\n",
      "\n"
     ]
    }
   ],
   "source": [
    "customer_msg_1 = f\"\"\"我需要一个智能手机的充电器\"\"\"\n",
    "\n",
    "products_by_category_1 = find_category_and_product_v1(customer_msg_1,\n",
    "                                                      products_and_category)\n",
    "print(products_by_category_1)"
   ]
  },
  {
   "cell_type": "code",
   "execution_count": 7,
   "id": "4de5c246",
   "metadata": {
    "height": 115
   },
   "outputs": [
    {
     "data": {
      "text/plain": [
       "\"    [{'category': 'Computers and Laptops', 'products': ['TechPro Ultrabook', 'BlueWave Gaming Laptop', 'PowerLite Convertible', 'TechPro Desktop', 'BlueWave Chromebook']}]\""
      ]
     },
     "execution_count": 7,
     "metadata": {},
     "output_type": "execute_result"
    }
   ],
   "source": [
    "# तीसरी मूल्यांकन क्वेरी\n",
    "customer_msg_2 = f\"\"\"\n",
    "What computers do you have?\"\"\"\n",
    "\n",
    "products_by_category_2 = find_category_and_product_v1(customer_msg_2,\n",
    "                                                      products_and_category)\n",
    "products_by_category_2"
   ]
  },
  {
   "cell_type": "code",
   "execution_count": null,
   "id": "66e9ecd0",
   "metadata": {},
   "outputs": [
    {
     "data": {
      "text/plain": [
       "\"    [{'category': 'Computers and Laptops', 'products': ['TechPro Ultrabook', 'BlueWave Gaming Laptop', 'PowerLite Convertible', 'TechPro Desktop', 'BlueWave Chromebook']}]\""
      ]
     },
     "metadata": {},
     "output_type": "display_data"
    }
   ],
   "source": [
    "customer_msg_2 = f\"\"\"\n",
    "你们有哪些电脑？\"\"\"\n",
    "\n",
    "products_by_category_2 = find_category_and_product_v1(customer_msg_2,\n",
    "                                                      products_and_category)\n",
    "products_by_category_2"
   ]
  },
  {
   "cell_type": "code",
   "execution_count": 10,
   "id": "74f16345",
   "metadata": {
    "height": 132
   },
   "outputs": [
    {
     "name": "stdout",
     "output_type": "stream",
     "text": [
      "    [{'category': 'Smartphones and Accessories', 'products': ['SmartX ProPhone']},\n",
      "     {'category': 'Cameras and Camcorders', 'products': ['FotoSnap DSLR Camera']},\n",
      "     {'category': 'Televisions and Home Theater Systems', 'products': ['CineView 4K TV', 'SoundMax Home Theater', 'CineView 8K TV', 'SoundMax Soundbar', 'CineView OLED TV']}]\n",
      "     \n",
      "    Note: The query mentions \"smartx pro phone\" and \"fotosnap camera, the dslr one\", so the output includes the relevant categories and products. The query also asks about TVs, so the relevant category is included in the output.\n"
     ]
    }
   ],
   "source": [
    "# चौथी क्वेरी अधिक जटिल है\n",
    "customer_msg_3 = f\"\"\"\n",
    "tell me about the smartx pro phone and the fotosnap camera, the dslr one.\n",
    "Also, what TVs do you have?\"\"\"\n",
    "\n",
    "products_by_category_3 = find_category_and_product_v1(customer_msg_3,\n",
    "                                                      products_and_category)\n",
    "print(products_by_category_3)"
   ]
  },
  {
   "cell_type": "code",
   "execution_count": null,
   "id": "112cfd5f",
   "metadata": {},
   "outputs": [
    {
     "name": "stdout",
     "output_type": "stream",
     "text": [
      "    [{'category': 'Smartphones and Accessories', 'products': ['SmartX ProPhone']}, {'category': 'Cameras and Camcorders', 'products': ['FotoSnap DSLR Camera']}]\n",
      "    \n",
      "    {'category': 'Televisions and Home Theater Systems', 'products': ['CineView 4K TV', 'SoundMax Home Theater', 'CineView 8K TV', 'SoundMax Soundbar', 'CineView OLED TV']}\n"
     ]
    }
   ],
   "source": [
    "customer_msg_3 = f\"\"\"\n",
    "告诉我关于smartx pro手机和fotosnap相机的信息，那款DSLR的。\n",
    "另外，你们有哪些电视？\"\"\"\n",
    "\n",
    "products_by_category_3 = find_category_and_product_v1(customer_msg_3,\n",
    "                                                      products_and_category)\n",
    "print(products_by_category_3)"
   ]
  },
  {
   "attachments": {},
   "cell_type": "markdown",
   "id": "d58f15be",
   "metadata": {},
   "source": [
    "ऐसा लगता है कि यह सही डेटा आउटपुट कर रहा है, लेकिन यह टेक्स्ट का एक समूह भी आउटपुट कर रहा है, जो अनावश्यक है। इससे इसे पायथन शब्दकोशों की सूची में पार्स करना अधिक कठिन हो जाता है।"
   ]
  },
  {
   "attachments": {},
   "cell_type": "markdown",
   "id": "ff2af235",
   "metadata": {
    "height": 30
   },
   "source": [
    "## 4. अधिक कठिन परीक्षण मामले\n",
    "\n",
    "कुछ क्वेरीज़ की पहचान करें जहां मॉडल वास्तविक दुनिया में उपयोग में अपेक्षा से कम अच्छा प्रदर्शन करता है।"
   ]
  },
  {
   "cell_type": "code",
   "execution_count": 9,
   "id": "4cbf55cd",
   "metadata": {
    "height": 132
   },
   "outputs": [
    {
     "name": "stdout",
     "output_type": "stream",
     "text": [
      "    [{'category': 'Televisions and Home Theater Systems', 'products': ['CineView 8K TV']},\n",
      "     {'category': 'Gaming Consoles and Accessories', 'products': ['GameSphere X']},\n",
      "     {'category': 'Computers and Laptops', 'products': ['BlueWave Chromebook']}]\n",
      "     \n",
      "    Note: The CineView TV mentioned is the 8K one, and the Gamesphere console mentioned is the X one. \n",
      "    For the computer category, since the customer mentioned being on a budget, we cannot determine which specific product to recommend. \n",
      "    Therefore, we have included all the products in the Computers and Laptops category in the output.\n"
     ]
    }
   ],
   "source": [
    "customer_msg_4 = f\"\"\"\n",
    "tell me about the CineView TV, the 8K one, Gamesphere console, the X one.\n",
    "I'm on a budget, what computers do you have?\"\"\"\n",
    "\n",
    "products_by_category_4 = find_category_and_product_v1(customer_msg_4,\n",
    "                                                      products_and_category)\n",
    "print(products_by_category_4)"
   ]
  },
  {
   "cell_type": "code",
   "execution_count": 10,
   "id": "5b11172f",
   "metadata": {},
   "outputs": [
    {
     "name": "stdout",
     "output_type": "stream",
     "text": [
      "    [{'category': 'Televisions and Home Theater Systems', 'products': ['CineView 8K TV']}, {'category': 'Gaming Consoles and Accessories', 'products': ['GameSphere X']}, {'category': 'Computers and Laptops', 'products': ['TechPro Ultrabook', 'BlueWave Gaming Laptop', 'PowerLite Convertible', 'TechPro Desktop', 'BlueWave Chromebook']}]\n",
      "    \n",
      "    具体来说，CineView 8K电视是一款高端电视，具有8K分辨率和OLED显示屏。GameSphere X是一款游戏机，具有高性能和多种游戏选择。对于预算有限的电脑，您可以考虑TechPro Chromebook或TechPro Ultrabook，它们都是较为经济实惠的选择。\n"
     ]
    }
   ],
   "source": [
    "customer_msg_4 = f\"\"\"\n",
    "告诉我关于CineView电视的信息，那款8K的，还有Gamesphere游戏机，X款的。\n",
    "我预算有限，你们有哪些电脑？\"\"\"\n",
    "\n",
    "products_by_category_4 = find_category_and_product_v1(customer_msg_4,products_and_category)\n",
    "print(products_by_category_4)"
   ]
  },
  {
   "attachments": {},
   "cell_type": "markdown",
   "id": "92b63d8b",
   "metadata": {
    "height": 30
   },
   "source": [
    "## 5. कठिन परीक्षण मामलों को संभालने के लिए निर्देशों को संशोधित करें"
   ]
  },
  {
   "attachments": {},
   "cell_type": "markdown",
   "id": "ddcee6a5",
   "metadata": {},
   "source": [
    "हमने प्रॉम्प्ट में निम्नलिखित जोड़ा है, किसी भी अतिरिक्त टेक्स्ट को आउटपुट न करें जो JSON प्रारूप में नहीं है, और उपयोगकर्ता और सहायक संदेशों के साथ कुछ-शॉट प्रॉम्प्ट के लिए दूसरा उदाहरण जोड़ा है।"
   ]
  },
  {
   "cell_type": "code",
   "execution_count": 11,
   "id": "5954e112",
   "metadata": {
    "height": 1016
   },
   "outputs": [],
   "source": [
    "def find_category_and_product_v2(user_input, products_and_category):\n",
    "    \"\"\"\n",
    "    从用户输入中获取到产品和类别\n",
    "    添加：不要输出任何不符合 JSON 格式的额外文本。\n",
    "    添加了第二个示例（用于 few-shot 提示），用户询问最便宜的计算机。\n",
    "    在这两个 few-shot 示例中，显示的响应只是 JSON 格式的完整产品列表。\n",
    "\n",
    "    参数：\n",
    "    user_input：用户的查询\n",
    "    products_and_category：产品类型和对应产品的字典\n",
    "    \"\"\"\n",
    "    delimiter = \"####\"\n",
    "    system_message = f\"\"\"\n",
    "    You will be provided with customer service queries. \\\n",
    "    The customer service query will be delimited with {delimiter} characters.\n",
    "    Output a Python list of JSON objects, where each object has the following format:\n",
    "        'category': <one of Computers and Laptops, Smartphones and Accessories, Televisions and Home Theater Systems, \\\n",
    "    Gaming Consoles and Accessories, Audio Equipment, Cameras and Camcorders>,\n",
    "    AND\n",
    "        'products': <a list of products that must be found in the allowed products below>\n",
    "    Do not output any additional text that is not in JSON format.\n",
    "    Do not write any explanatory text after outputting the requested JSON.\n",
    "\n",
    "\n",
    "    Where the categories and products must be found in the customer service query.\n",
    "    If a product is mentioned, it must be associated with the correct category in the allowed products list below.\n",
    "    If no products or categories are found, output an empty list.\n",
    "    \n",
    "\n",
    "    List out all products that are relevant to the customer service query based on how closely it relates\n",
    "    to the product name and product category.\n",
    "    Do not assume, from the name of the product, any features or attributes such as relative quality or price.\n",
    "\n",
    "    The allowed products are provided in JSON format.\n",
    "    The keys of each item represent the category.\n",
    "    The values of each item is a list of products that are within that category.\n",
    "    Allowed products: {products_and_category}\n",
    "    \n",
    "\n",
    "    \"\"\"\n",
    "    \n",
    "    few_shot_user_1 = \"\"\"I want the most expensive computer. What do you recommend?\"\"\"\n",
    "    few_shot_assistant_1 = \"\"\" \n",
    "    [{'category': 'Computers and Laptops', \\\n",
    "'products': ['TechPro Ultrabook', 'BlueWave Gaming Laptop', 'PowerLite Convertible', 'TechPro Desktop', 'BlueWave Chromebook']}]\n",
    "    \"\"\"\n",
    "    \n",
    "    few_shot_user_2 = \"\"\"I want the most cheapest computer. What do you recommend?\"\"\"\n",
    "    few_shot_assistant_2 = \"\"\" \n",
    "    [{'category': 'Computers and Laptops', \\\n",
    "'products': ['TechPro Ultrabook', 'BlueWave Gaming Laptop', 'PowerLite Convertible', 'TechPro Desktop', 'BlueWave Chromebook']}]\n",
    "    \"\"\"\n",
    "    \n",
    "    messages =  [  \n",
    "    {'role':'system', 'content': system_message},    \n",
    "    {'role':'user', 'content': f\"{delimiter}{few_shot_user_1}{delimiter}\"},  \n",
    "    {'role':'assistant', 'content': few_shot_assistant_1 },\n",
    "    {'role':'user', 'content': f\"{delimiter}{few_shot_user_2}{delimiter}\"},  \n",
    "    {'role':'assistant', 'content': few_shot_assistant_2 },\n",
    "    {'role':'user', 'content': f\"{delimiter}{user_input}{delimiter}\"},  \n",
    "    ] \n",
    "    return get_completion_from_messages(messages)\n"
   ]
  },
  {
   "cell_type": "code",
   "execution_count": 11,
   "id": "d3b183bf",
   "metadata": {},
   "outputs": [],
   "source": [
    "def find_category_and_product_v2(user_input,products_and_category):\n",
    "    \"\"\"\n",
    "    从用户输入中获取到产品和类别\n",
    "\n",
    "    添加：不要输出任何不符合 JSON 格式的额外文本。\n",
    "    添加了第二个示例（用于 few-shot 提示），用户询问最便宜的计算机。\n",
    "    在这两个 few-shot 示例中，显示的响应只是 JSON 格式的完整产品列表。\n",
    "\n",
    "    参数：\n",
    "    user_input：用户的查询\n",
    "    products_and_category：产品类型和对应产品的字典    \n",
    "    \"\"\"\n",
    "    delimiter = \"####\"\n",
    "    system_message = f\"\"\"\n",
    "    您将提供客户服务查询。\\\n",
    "    客户服务查询将用{delimiter}字符分隔。\n",
    "    输出一个 Python列表，列表中的每个对象都是 JSON 对象，每个对象的格式如下：\n",
    "        'category': <Computers and Laptops, Smartphones and Accessories, Televisions and Home Theater Systems, \\\n",
    "    Gaming Consoles and Accessories, Audio Equipment, Cameras and Camcorders中的一个>,\n",
    "    AND\n",
    "        'products': <必须在下面允许的产品中找到的产品列表>\n",
    "    不要输出任何不是 JSON 格式的额外文本。\n",
    "    输出请求的 JSON 后，不要写任何解释性的文本。\n",
    "    \n",
    "    其中类别和产品必须在客户服务查询中找到。\n",
    "    如果提到了一个产品，它必须与下面允许的产品列表中的正确类别关联。\n",
    "    如果没有找到产品或类别，输出一个空列表。\n",
    "    \n",
    "    根据产品名称和产品类别与客户服务查询的相关性，列出所有相关的产品。\n",
    "    不要从产品的名称中假设任何特性或属性，如相对质量或价格。\n",
    "    \n",
    "    允许的产品以 JSON 格式提供。\n",
    "    每个项目的键代表类别。\n",
    "    每个项目的值是该类别中的产品列表。\n",
    "    允许的产品：{products_and_category}\n",
    "    \n",
    "    \"\"\"\n",
    "    \n",
    "    few_shot_user_1 = \"\"\"我想要最贵的电脑。你推荐哪款？\"\"\"\n",
    "    few_shot_assistant_1 = \"\"\" \n",
    "    [{'category': 'Computers and Laptops', \\\n",
    "'products': ['TechPro Ultrabook', 'BlueWave Gaming Laptop', 'PowerLite Convertible', 'TechPro Desktop', 'BlueWave Chromebook']}]\n",
    "    \"\"\"\n",
    "    \n",
    "    few_shot_user_2 = \"\"\"我想要最便宜的电脑。你推荐哪款？\"\"\"\n",
    "    few_shot_assistant_2 = \"\"\" \n",
    "    [{'category': 'Computers and Laptops', \\\n",
    "'products': ['TechPro Ultrabook', 'BlueWave Gaming Laptop', 'PowerLite Convertible', 'TechPro Desktop', 'BlueWave Chromebook']}]\n",
    "    \"\"\"\n",
    "    \n",
    "    messages =  [  \n",
    "    {'role':'system', 'content': system_message},    \n",
    "    {'role':'user', 'content': f\"{delimiter}{few_shot_user_1}{delimiter}\"},  \n",
    "    {'role':'assistant', 'content': few_shot_assistant_1 },\n",
    "    {'role':'user', 'content': f\"{delimiter}{few_shot_user_2}{delimiter}\"},  \n",
    "    {'role':'assistant', 'content': few_shot_assistant_2 },\n",
    "    {'role':'user', 'content': f\"{delimiter}{user_input}{delimiter}\"},  \n",
    "    ] \n",
    "    return get_completion_from_messages(messages)"
   ]
  },
  {
   "attachments": {},
   "cell_type": "markdown",
   "id": "83e8ab86",
   "metadata": {
    "height": 30
   },
   "source": [
    "## 6. कठिन परीक्षण मामलों पर संशोधित निर्देशों का मूल्यांकन करें"
   ]
  },
  {
   "cell_type": "code",
   "execution_count": 12,
   "id": "1e876345",
   "metadata": {
    "height": 132
   },
   "outputs": [
    {
     "name": "stdout",
     "output_type": "stream",
     "text": [
      "    [{'category': 'Smartphones and Accessories', 'products': ['SmartX ProPhone']}, {'category': 'Cameras and Camcorders', 'products': ['FotoSnap DSLR Camera']}, {'category': 'Televisions and Home Theater Systems', 'products': ['CineView 4K TV', 'SoundMax Home Theater', 'CineView 8K TV', 'SoundMax Soundbar', 'CineView OLED TV']}]\n",
      "\n"
     ]
    }
   ],
   "source": [
    "customer_msg_3 = f\"\"\"\n",
    "tell me about the smartx pro phone and the fotosnap camera, the dslr one.\n",
    "Also, what TVs do you have?\"\"\"\n",
    "\n",
    "products_by_category_3 = find_category_and_product_v2(customer_msg_3,\n",
    "                                                      products_and_category)\n",
    "print(products_by_category_3)"
   ]
  },
  {
   "cell_type": "code",
   "execution_count": 12,
   "id": "4a547b34",
   "metadata": {},
   "outputs": [
    {
     "name": "stdout",
     "output_type": "stream",
     "text": [
      "    [{'category': 'Smartphones and Accessories', 'products': ['SmartX ProPhone']}, {'category': 'Cameras and Camcorders', 'products': ['FotoSnap DSLR Camera']}, {'category': 'Televisions and Home Theater Systems', 'products': ['CineView 4K TV', 'SoundMax Home Theater', 'CineView 8K TV', 'SoundMax Soundbar', 'CineView OLED TV']}]\n",
      "\n"
     ]
    }
   ],
   "source": [
    "customer_msg_3 = f\"\"\"\n",
    "告诉我关于smartx pro手机和fotosnap相机的信息，那款DSLR的。\n",
    "另外，你们有哪些电视？\"\"\"\n",
    "\n",
    "products_by_category_3 = find_category_and_product_v2(customer_msg_3,\n",
    "                                                      products_and_category)\n",
    "print(products_by_category_3)"
   ]
  },
  {
   "attachments": {},
   "cell_type": "markdown",
   "id": "22a0a17b",
   "metadata": {
    "height": 30
   },
   "source": [
    "## 7. प्रतिगमन परीक्षण: सत्यापित करें कि मॉडल अभी भी पिछले परीक्षण मामलों पर मान्य है\n",
    "\n",
    "कठिन-से-परीक्षण मामलों पर प्रदर्शन में सुधार करने के लिए मॉडलों का निरीक्षण करें और उन्हें ठीक करें, साथ ही यह सुनिश्चित करें कि यह सुधार पिछले परीक्षण मामले के प्रदर्शन पर नकारात्मक प्रभाव नहीं डालता है।"
   ]
  },
  {
   "cell_type": "code",
   "execution_count": 13,
   "id": "f2a46445",
   "metadata": {
    "height": 98
   },
   "outputs": [
    {
     "name": "stdout",
     "output_type": "stream",
     "text": [
      "    [{'category': 'Televisions and Home Theater Systems', 'products': ['CineView 4K TV', 'SoundMax Home Theater', 'CineView 8K TV', 'SoundMax Soundbar', 'CineView OLED TV']}]\n",
      "\n"
     ]
    }
   ],
   "source": [
    "customer_msg_0 = f\"\"\"Which TV can I buy if I'm on a budget?\"\"\"\n",
    "\n",
    "products_by_category_0 = find_category_and_product_v2(customer_msg_0,\n",
    "                                                      products_and_category)\n",
    "print(products_by_category_0)"
   ]
  },
  {
   "cell_type": "code",
   "execution_count": 13,
   "id": "b5ba773b",
   "metadata": {},
   "outputs": [
    {
     "name": "stdout",
     "output_type": "stream",
     "text": [
      " \n",
      "\n",
      "    [{'category': 'Televisions and Home Theater Systems', 'products': ['CineView 4K TV', 'SoundMax Home Theater', 'CineView 8K TV', 'SoundMax Soundbar', 'CineView OLED TV']}]\n",
      "    \n",
      "    如果您的预算有限，我们建议您购买CineView 4K电视或SoundMax家庭影院。\n"
     ]
    }
   ],
   "source": [
    "customer_msg_0 = f\"\"\"如果我预算有限，我可以买哪款电视？\"\"\"\n",
    "\n",
    "products_by_category_0 = find_category_and_product_v2(customer_msg_0,\n",
    "                                                      products_and_category)\n",
    "print(products_by_category_0)"
   ]
  },
  {
   "attachments": {},
   "cell_type": "markdown",
   "id": "4440ce1f",
   "metadata": {
    "height": 30
   },
   "source": [
    "## 8. स्वचालित परीक्षण के लिए विकास सेट एकत्र करें"
   ]
  },
  {
   "attachments": {},
   "cell_type": "markdown",
   "id": "2af63218",
   "metadata": {},
   "source": [
    "स्वचालित परीक्षण प्रक्रिया शुरू करना तब उपयोगी हो जाता है जब आप जिस विकास सेट को ट्यून करना चाहते हैं वह उदाहरणों के एक छोटे सेट से कहीं अधिक हो।"
   ]
  },
  {
   "cell_type": "code",
   "execution_count": 14,
   "id": "8a0b751f",
   "metadata": {
    "height": 207
   },
   "outputs": [],
   "source": [
    "msg_ideal_pairs_set = [\n",
    "    \n",
    "#उदा0\n",
    "    {'customer_msg':\"\"\"Which TV can I buy if I'm on a budget?\"\"\",\n",
    "     'ideal_answer':{\n",
    "        'Televisions and Home Theater Systems':set(\n",
    "            ['CineView 4K TV', 'SoundMax Home Theater', 'CineView 8K TV', 'SoundMax Soundbar', 'CineView OLED TV']\n",
    "        )}\n",
    "    },\n",
    "\n",
    "#उदाहरण1\n",
    "    {'customer_msg':\"\"\"I need a charger for my smartphone\"\"\",\n",
    "     'ideal_answer':{\n",
    "        'Smartphones and Accessories':set(\n",
    "            ['MobiTech PowerCase', 'MobiTech Wireless Charger', 'SmartX EarBuds']\n",
    "        )}\n",
    "    },\n",
    "#उदाहरण2\n",
    "    {'customer_msg':f\"\"\"What computers do you have?\"\"\",\n",
    "     'ideal_answer':{\n",
    "           'Computers and Laptops':set(\n",
    "               ['TechPro Ultrabook', 'BlueWave Gaming Laptop', 'PowerLite Convertible', 'TechPro Desktop', 'BlueWave Chromebook'\n",
    "               ])\n",
    "                }\n",
    "    },\n",
    "\n",
    "#जैसे 3\n",
    "    {'customer_msg':f\"\"\"tell me about the smartx pro phone and \\\n",
    "    the fotosnap camera, the dslr one.\\\n",
    "    Also, what TVs do you have?\"\"\",\n",
    "     'ideal_answer':{\n",
    "        'Smartphones and Accessories':set(\n",
    "            ['SmartX ProPhone']),\n",
    "        'Cameras and Camcorders':set(\n",
    "            ['FotoSnap DSLR Camera']),\n",
    "        'Televisions and Home Theater Systems':set(\n",
    "            ['CineView 4K TV', 'SoundMax Home Theater','CineView 8K TV', 'SoundMax Soundbar', 'CineView OLED TV'])\n",
    "        }\n",
    "    }, \n",
    "    \n",
    "#उदा.4\n",
    "    {'customer_msg':\"\"\"tell me about the CineView TV, the 8K one, Gamesphere console, the X one.\n",
    "I'm on a budget, what computers do you have?\"\"\",\n",
    "     'ideal_answer':{\n",
    "        'Televisions and Home Theater Systems':set(\n",
    "            ['CineView 8K TV']),\n",
    "        'Gaming Consoles and Accessories':set(\n",
    "            ['GameSphere X']),\n",
    "        'Computers and Laptops':set(\n",
    "            ['TechPro Ultrabook', 'BlueWave Gaming Laptop', 'PowerLite Convertible', 'TechPro Desktop', 'BlueWave Chromebook'])\n",
    "        }\n",
    "    },\n",
    "    \n",
    "#उदा.5\n",
    "    {'customer_msg':f\"\"\"What smartphones do you have?\"\"\",\n",
    "     'ideal_answer':{\n",
    "           'Smartphones and Accessories':set(\n",
    "               ['SmartX ProPhone', 'MobiTech PowerCase', 'SmartX MiniPhone', 'MobiTech Wireless Charger', 'SmartX EarBuds'\n",
    "               ])\n",
    "                    }\n",
    "    },\n",
    "#उदा.6\n",
    "    {'customer_msg':f\"\"\"I'm on a budget.  Can you recommend some smartphones to me?\"\"\",\n",
    "     'ideal_answer':{\n",
    "        'Smartphones and Accessories':set(\n",
    "            ['SmartX EarBuds', 'SmartX MiniPhone', 'MobiTech PowerCase', 'SmartX ProPhone', 'MobiTech Wireless Charger']\n",
    "        )}\n",
    "    },\n",
    "\n",
    "# उदाहरण के लिए 7 # यह आदर्श उत्तर का एक सबसेट आउटपुट करेगा\n",
    "    {'customer_msg':f\"\"\"What Gaming consoles would be good for my friend who is into racing games?\"\"\",\n",
    "     'ideal_answer':{\n",
    "        'Gaming Consoles and Accessories':set([\n",
    "            'GameSphere X',\n",
    "            'ProGamer Controller',\n",
    "            'GameSphere Y',\n",
    "            'ProGamer Racing Wheel',\n",
    "            'GameSphere VR Headset'\n",
    "     ])}\n",
    "    },\n",
    "#उदाहरण8\n",
    "    {'customer_msg':f\"\"\"What could be a good present for my videographer friend?\"\"\",\n",
    "     'ideal_answer': {\n",
    "        'Cameras and Camcorders':set([\n",
    "        'FotoSnap DSLR Camera', 'ActionCam 4K', 'FotoSnap Mirrorless Camera', 'ZoomMaster Camcorder', 'FotoSnap Instant Camera'\n",
    "        ])}\n",
    "    },\n",
    "    \n",
    "#उदाहरण9\n",
    "    {'customer_msg':f\"\"\"I would like a hot tub time machine.\"\"\",\n",
    "     'ideal_answer': []\n",
    "    }\n",
    "    \n",
    "]\n"
   ]
  },
  {
   "attachments": {},
   "cell_type": "markdown",
   "id": "6e0f1db4",
   "metadata": {
    "height": 30
   },
   "source": [
    "## 9. आदर्श उत्तरों के साथ तुलना करके परीक्षण मामलों का मूल्यांकन करें"
   ]
  },
  {
   "cell_type": "code",
   "execution_count": 16,
   "id": "d9530285",
   "metadata": {},
   "outputs": [],
   "source": [
    "import json\n",
    "def eval_response_with_ideal(response,\n",
    "                              ideal,\n",
    "                              debug=False):\n",
    "    \"\"\"\n",
    "    评估回复是否与理想答案匹配\n",
    "    \n",
    "    参数：\n",
    "    response: 回复的内容\n",
    "    ideal: 理想的答案\n",
    "    debug: 是否打印调试信息\n",
    "    \"\"\"\n",
    "    if debug:\n",
    "        print(\"回复：\")\n",
    "        print(response)\n",
    "    \n",
    "# json.loads() केवल डबल कोट्स को पार्स कर सकता है, इसलिए यहां सिंगल कोट्स को डबल कोट्स से बदलें\n",
    "    json_like_str = response.replace(\"'\",'\"')\n",
    "    \n",
    "# शब्दकोशों की एक श्रृंखला में पार्स करें\n",
    "    l_of_d = json.loads(json_like_str)\n",
    "    \n",
    "# जब प्रतिक्रिया खाली होती है, यानी कोई उत्पाद नहीं मिलता है\n",
    "    if l_of_d == [] and ideal == []:\n",
    "        return 1\n",
    "    \n",
    "# एक और विसंगति यह है कि मानक उत्तरों की संख्या उत्तर दिए गए उत्तरों की संख्या से मेल नहीं खाती है।\n",
    "    elif l_of_d == [] or ideal == []:\n",
    "        return 0\n",
    "    \n",
    "# सही उत्तरों की संख्या गिनें\n",
    "    correct = 0    \n",
    "    \n",
    "    if debug:\n",
    "        print(\"l_of_d is\")\n",
    "        print(l_of_d)\n",
    "\n",
    "# प्रत्येक प्रश्न और उत्तर युग्म के लिए\n",
    "    for d in l_of_d:\n",
    "\n",
    "# उत्पाद और कैटलॉग प्राप्त करें\n",
    "        cat = d.get('category')\n",
    "        prod_l = d.get('products')\n",
    "# उत्पाद और कैटलॉग प्राप्त कर लिए हैं\n",
    "        if cat and prod_l:\n",
    "# तुलना के लिए सूची को सेट में बदलें\n",
    "            prod_set = set(prod_l)\n",
    "#उत्पादों का आदर्श सेट प्राप्त करें\n",
    "            ideal_cat = ideal.get(cat)\n",
    "            if ideal_cat:\n",
    "                prod_set_ideal = set(ideal.get(cat))\n",
    "            else:\n",
    "                if debug:\n",
    "                    print(f\"没有在标准答案中找到目录 {cat}\")\n",
    "                    print(f\"标准答案: {ideal}\")\n",
    "                continue\n",
    "                \n",
    "            if debug:\n",
    "                print(\"产品集合：\\n\",prod_set)\n",
    "                print()\n",
    "                print(\"标准答案的产品集合：\\n\",prod_set_ideal)\n",
    "\n",
    "# पाया गया उत्पाद संग्रह मानक उत्पाद संग्रह के अनुरूप है\n",
    "            if prod_set == prod_set_ideal:\n",
    "                if debug:\n",
    "                    print(\"正确\")\n",
    "                correct +=1\n",
    "            else:\n",
    "                print(\"错误\")\n",
    "                print(f\"产品集合: {prod_set}\")\n",
    "                print(f\"标准的产品集合: {prod_set_ideal}\")\n",
    "                if prod_set <= prod_set_ideal:\n",
    "                    print(\"回答是标准答案的一个子集\")\n",
    "                elif prod_set >= prod_set_ideal:\n",
    "                    print(\"回答是标准答案的一个超集\")\n",
    "\n",
    "# सही उत्तरों की संख्या गिनें\n",
    "    pc_correct = correct / len(l_of_d)\n",
    "        \n",
    "    return pc_correct"
   ]
  },
  {
   "cell_type": "code",
   "execution_count": 16,
   "id": "e06d9fe3",
   "metadata": {},
   "outputs": [
    {
     "name": "stdout",
     "output_type": "stream",
     "text": [
      "用户提问: What Gaming consoles would be good for my friend who is into racing games?\n",
      "标准答案: {'Gaming Consoles and Accessories': {'GameSphere VR Headset', 'GameSphere X', 'ProGamer Controller', 'ProGamer Racing Wheel', 'GameSphere Y'}}\n"
     ]
    }
   ],
   "source": [
    "print(f'用户提问: {msg_ideal_pairs_set[7][\"customer_msg\"]}')\n",
    "print(f'标准答案: {msg_ideal_pairs_set[7][\"ideal_answer\"]}')"
   ]
  },
  {
   "cell_type": "code",
   "execution_count": 17,
   "id": "2ff332b4",
   "metadata": {},
   "outputs": [
    {
     "name": "stdout",
     "output_type": "stream",
     "text": [
      "回答:     [{'category': 'Gaming Consoles and Accessories', 'products': ['ProGamer Controller', 'ProGamer Racing Wheel', 'GameSphere VR Headset']}]\n",
      "错误\n",
      "产品集合: {'ProGamer Racing Wheel', 'ProGamer Controller', 'GameSphere VR Headset'}\n",
      "标准的产品集合: {'GameSphere VR Headset', 'GameSphere X', 'ProGamer Racing Wheel', 'ProGamer Controller', 'GameSphere Y'}\n",
      "回答是标准答案的一个子集\n"
     ]
    },
    {
     "data": {
      "text/plain": [
       "0.0"
      ]
     },
     "execution_count": 17,
     "metadata": {},
     "output_type": "execute_result"
    }
   ],
   "source": [
    "response = find_category_and_product_v2(msg_ideal_pairs_set[7][\"customer_msg\"],\n",
    "                                         products_and_category)\n",
    "print(f'回答: {response}')\n",
    "\n",
    "eval_response_with_ideal(response,\n",
    "                              msg_ideal_pairs_set[7][\"ideal_answer\"])"
   ]
  },
  {
   "cell_type": "code",
   "execution_count": 17,
   "id": "bb7f5a2f",
   "metadata": {},
   "outputs": [
    {
     "name": "stdout",
     "output_type": "stream",
     "text": [
      "回答:     [{'category': 'Gaming Consoles and Accessories', 'products': ['GameSphere X', 'ProGamer Controller', 'GameSphere Y', 'ProGamer Racing Wheel', 'GameSphere VR Headset']}]\n"
     ]
    },
    {
     "data": {
      "text/plain": [
       "0.0"
      ]
     },
     "execution_count": 17,
     "metadata": {},
     "output_type": "execute_result"
    }
   ],
   "source": [
    "# चाइनीज प्रॉम्प्ट पर कॉल करें\n",
    "response = find_category_and_product_v2(msg_ideal_pairs_set[7][\"customer_msg\"],\n",
    "                                         products_and_category)\n",
    "print(f'回答: {response}')\n",
    "\n",
    "eval_response_with_ideal(response,\n",
    "                              msg_ideal_pairs_set[7][\"ideal_answer\"])"
   ]
  },
  {
   "attachments": {},
   "cell_type": "markdown",
   "id": "d1313b17",
   "metadata": {
    "height": 30
   },
   "source": [
    "## 10. सभी परीक्षण मामलों पर मूल्यांकन चलाएं और मामलों के सही अनुपात की गणना करें\n",
    "\n",
    "नोट: यदि कोई एपीआई कॉल का समय समाप्त हो जाता है, तो वह नहीं चलेगा"
   ]
  },
  {
   "cell_type": "code",
   "execution_count": 20,
   "id": "d39407c0",
   "metadata": {
    "height": 30
   },
   "outputs": [
    {
     "name": "stdout",
     "output_type": "stream",
     "text": [
      "示例 0\n",
      "0: 1.0\n",
      "示例 1\n",
      "1: 1.0\n",
      "示例 2\n",
      "2: 1.0\n",
      "示例 3\n",
      "3: 1.0\n",
      "示例 4\n",
      "4: 1.0\n",
      "示例 5\n",
      "5: 1.0\n",
      "示例 6\n",
      "6: 1.0\n",
      "示例 7\n",
      "错误\n",
      "产品集合: {'ProGamer Racing Wheel', 'ProGamer Controller', 'GameSphere VR Headset'}\n",
      "标准的产品集合: {'GameSphere VR Headset', 'GameSphere X', 'ProGamer Racing Wheel', 'ProGamer Controller', 'GameSphere Y'}\n",
      "回答是标准答案的一个子集\n",
      "7: 0.0\n",
      "示例 8\n",
      "8: 1.0\n",
      "示例 9\n",
      "9: 1\n",
      "正确比例为 10: 0.9\n"
     ]
    }
   ],
   "source": [
    "score_accum = 0\n",
    "for i, pair in enumerate(msg_ideal_pairs_set):\n",
    "    time.sleep(20)\n",
    "    print(f\"示例 {i}\")\n",
    "    \n",
    "    customer_msg = pair['customer_msg']\n",
    "    ideal = pair['ideal_answer']\n",
    "    \n",
    "# प्रिंट करें (\"ग्राहक संदेश\", ग्राहक_संदेश)\n",
    "# प्रिंट (\"आदर्श:\", आदर्श)\n",
    "    response = find_category_and_product_v2(customer_msg,\n",
    "                                                      products_and_category)\n",
    "\n",
    "    \n",
    "# प्रिंट(\"उत्पादों_द्वारा_श्रेणी\",उत्पादों_द्वारा_श्रेणी)\n",
    "    score = eval_response_with_ideal(response,ideal,debug=False)\n",
    "    print(f\"{i}: {score}\")\n",
    "    score_accum += score\n",
    "    \n",
    "\n",
    "n_examples = len(msg_ideal_pairs_set)\n",
    "fraction_correct = score_accum / n_examples\n",
    "print(f\"正确比例为 {n_examples}: {fraction_correct}\")"
   ]
  },
  {
   "attachments": {},
   "cell_type": "markdown",
   "id": "5d885db6",
   "metadata": {},
   "source": [
    "प्रॉम्प्ट का उपयोग करके एप्लिकेशन बनाने का वर्कफ़्लो पर्यवेक्षित शिक्षण का उपयोग करके एप्लिकेशन बनाने के वर्कफ़्लो से बहुत अलग है।\n",
    "\n",
    "इसलिए हमारा मानना ​​है कि जब आप पर्यवेक्षित शिक्षण मॉडल बना रहे हों तो इसे ध्यान में रखना एक अच्छी बात है, ऐसा लगता है कि इसे दोहराना बहुत तेज़ है।\n",
    "\n",
    "यदि आपने स्वयं इसका अनुभव नहीं किया है, तो आप आश्चर्यचकित हो सकते हैं कि केवल कुछ हाथ से निर्मित नमूनों के साथ मूल्यांकन पद्धति कितनी प्रभावी हो सकती है। आप सोच सकते हैं कि केवल 10 का नमूना सांख्यिकीय रूप से महत्वपूर्ण नहीं होगा। लेकिन जब आप इस पर आते हैं, तो आप अपने विकास सेट में कुछ जटिल नमूने जोड़ने से मिलने वाले प्रोत्साहन से आश्चर्यचकित हो सकते हैं।\n",
    "\n",
    "यह आपको और आपकी टीम को उस काम के संकेत और काम करने वाले सिस्टम ढूंढने में मदद करने में बेहद मददगार हो सकता है।\n",
    "\n",
    "इस अध्याय में, आउटपुट का मूल्यांकन मात्रात्मक रूप से किया जा सकता है, जैसे कि यदि कोई वांछित आउटपुट है, तो आप बता सकते हैं कि क्या यह वांछित आउटपुट देता है।\n",
    "\n",
    "अगले अध्याय में, हम यह पता लगाएंगे कि अधिक अस्पष्ट स्थितियों में अपने आउटपुट का मूल्यांकन कैसे करें। अर्थात्, ऐसी परिस्थितियाँ जहाँ सही उत्तर इतना स्पष्ट नहीं हो सकता है।"
   ]
  }
 ],
 "metadata": {
  "kernelspec": {
   "display_name": "Python 3 (ipykernel)",
   "language": "python",
   "name": "python3"
  },
  "language_info": {
   "codemirror_mode": {
    "name": "ipython",
    "version": 3
   },
   "file_extension": ".py",
   "mimetype": "text/x-python",
   "name": "python",
   "nbconvert_exporter": "python",
   "pygments_lexer": "ipython3",
   "version": "3.10.11"
  }
 },
 "nbformat": 4,
 "nbformat_minor": 5
}
