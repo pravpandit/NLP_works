{
 "cells": [
  {
   "attachments": {},
   "cell_type": "markdown",
   "id": "63651c26",
   "metadata": {},
   "source": [
    "# अध्याय 3 मूल्यांकन इनपुट - वर्गीकरण\n",
    "\n",
    "- [आई. पर्यावरण विन्यास](#आई. पर्यावरण विन्यास)\n",
    "- [II. उपयोगकर्ता निर्देशों को वर्गीकृत करें](#II. उपयोगकर्ता निर्देशों को वर्गीकृत करें)"
   ]
  },
  {
   "attachments": {},
   "cell_type": "markdown",
   "id": "b12f80c9",
   "metadata": {},
   "source": [
    "इस अध्याय में, हम इनपुट कार्यों के मूल्यांकन पर ध्यान केंद्रित करेंगे, जो सिस्टम की गुणवत्ता और सुरक्षा सुनिश्चित करने के लिए महत्वपूर्ण है।\n",
    "\n",
    "ऐसे कार्यों के लिए जिनमें विभिन्न स्थितियों में निर्देशों के कई स्वतंत्र सेटों को संभालने की आवश्यकता होती है, पहले क्वेरी प्रकार को वर्गीकृत करना और इसे आधार के रूप में उपयोग करना फायदेमंद होता है ताकि यह निर्धारित किया जा सके कि कौन से निर्देशों का उपयोग करना है।\n",
    "\n",
    "इसे निश्चित श्रेणियों को परिभाषित करके और उन निर्देशों को हार्ड-कोड करके प्राप्त किया जा सकता है जो किसी दिए गए श्रेणी में कार्यों को संभालने के लिए प्रासंगिक हैं।\n",
    "\n",
    "उदाहरण के लिए, जब बूग्राहक सेवा सहायक बनाते समय, पहले क्वेरी प्रकार को वर्गीकृत करना और फिर उस वर्गीकरण के आधार पर उपयोग के लिए निर्देश निर्धारित करना महत्वपूर्ण हो सकता है।\n",
    "\n",
    "एक विशिष्ट उदाहरण के रूप में, यदि उपयोगकर्ता अपना खाता बंद करने के लिए कहता है, तो द्वितीयक निर्देश खाता बंद करने के तरीके पर अतिरिक्त निर्देश जोड़ने का हो सकता है, जबकि यदि उपयोगकर्ता किसी विशिष्ट उत्पाद के बारे में जानकारी मांगता है, तो द्वितीयक निर्देश यह हो सकता है; अधिक उत्पाद जानकारी जोड़ें."
   ]
  },
  {
   "attachments": {},
   "cell_type": "markdown",
   "id": "87d9de1d",
   "metadata": {},
   "source": [
    "## 1. पर्यावरण विन्यास\n",
    "पिछले अध्याय की तरह, हमें सबसे पहले OpenAI API का उपयोग करने के लिए पर्यावरण को कॉन्फ़िगर करना होगा"
   ]
  },
  {
   "cell_type": "code",
   "execution_count": 9,
   "id": "55ee24ab",
   "metadata": {},
   "outputs": [],
   "source": [
    "import openai\n",
    "# तृतीय-पक्ष लाइब्रेरी आयात करें\n",
    "\n",
    "openai.api_key  = \"sk-...\"\n",
    "# API_KEY सेट करें, कृपया इसे अपनी API_KEY से बदलें\n",
    "\n",
    "# निम्नलिखित पर्यावरण चर पर आधारित कॉन्फ़िगरेशन विधि का एक उदाहरण है, जो अधिक सुरक्षित है और इसे बाद में कवर नहीं किया जाएगा।\n",
    "#आयात openai\n",
    "# ओएस आयात करें\n",
    "# OPENAI_API_KEY = os.environ.get(\"OPENAI_API_KEY\")\n",
    "# openai.api_key = OPENAI_API_KEY"
   ]
  },
  {
   "cell_type": "code",
   "execution_count": 2,
   "id": "0318b89e",
   "metadata": {},
   "outputs": [],
   "source": [
    "def get_completion_from_messages(messages, \n",
    "                                model=\"gpt-3.5-turbo\", \n",
    "                                temperature=0, \n",
    "                                max_tokens=500):\n",
    "    '''\n",
    "    封装一个访问 OpenAI GPT3.5 的函数\n",
    "\n",
    "    参数: \n",
    "    messages: 这是一个消息列表，每个消息都是一个字典，包含 role(角色）和 content(内容)。角色可以是'system'、'user' 或 'assistant’，内容是角色的消息。\n",
    "    model: 调用的模型，默认为 gpt-3.5-turbo(ChatGPT)，有内测资格的用户可以选择 gpt-4\n",
    "    temperature: 这决定模型输出的随机程度，默认为0，表示输出将非常确定。增加温度会使输出更随机。\n",
    "    max_tokens: 这决定模型输出的最大的 token 数。\n",
    "    '''\n",
    "    response = openai.ChatCompletion.create(\n",
    "        model=model,\n",
    "        messages=messages,\n",
    "        temperature=temperature, # 这决定模型输出的随机程度\n",
    "        max_tokens=max_tokens, # 这决定模型输出的最大的 token 数\n",
    "    )\n",
    "    return response.choices[0].message[\"content\"]"
   ]
  },
  {
   "attachments": {},
   "cell_type": "markdown",
   "id": "f2b55807",
   "metadata": {},
   "source": [
    "## 2. उपयोगकर्ता निर्देशों को वर्गीकृत करें"
   ]
  },
  {
   "attachments": {},
   "cell_type": "markdown",
   "id": "c3216166",
   "metadata": {},
   "source": [
    "यहां, हम सिस्टम के लिए वैश्विक गाइड के रूप में system_message का उपयोग करते हैं और सीमांकक के रूप में `#` चुनते हैं।\n",
    "\n",
    "डिलीमीटर एक उपकरण है जिसका उपयोग कमांड या आउटपुट के विभिन्न भागों को अलग करने के लिए किया जाता है। यह मॉडल को भागों की पहचान करने में मदद करता है, जिससे विशिष्ट कार्यों को करने में सिस्टम की सटीकता और दक्षता में सुधार होता है।\n",
    "\n",
    "इस उदाहरण में, हम सीमांकक के रूप में `#` का उपयोग करना चुनते हैं।\n",
    "\n",
    "`#` एक आदर्श सीमांकक है क्योंकि इसे एक स्वतंत्र टोकन के रूप में माना जा सकता है।"
   ]
  },
  {
   "cell_type": "code",
   "execution_count": 3,
   "id": "3b406ba8",
   "metadata": {},
   "outputs": [],
   "source": [
    "delimiter = \"####\""
   ]
  },
  {
   "attachments": {},
   "cell_type": "markdown",
   "id": "049d0d82",
   "metadata": {},
   "source": [
    "यह हमारा सिस्टम संदेश है और हम मॉडल से निम्नलिखित तरीके से पूछ रहे हैं।"
   ]
  },
  {
   "cell_type": "code",
   "execution_count": 4,
   "id": "29e2d170",
   "metadata": {},
   "outputs": [],
   "source": [
    "system_message = f\"\"\"\n",
    "You will be provided with customer service queries. \\\n",
    "The customer service query will be delimited with \\\n",
    "{delimiter} characters.\n",
    "Classify each query into a primary category \\\n",
    "and a secondary category. \n",
    "Provide your output in json format with the \\\n",
    "keys: primary and secondary.\n",
    "\n",
    "Primary categories: Billing, Technical Support, \\\n",
    "Account Management, or General Inquiry.\n",
    "\n",
    "Billing secondary categories:\n",
    "Unsubscribe or upgrade\n",
    "Add a payment method\n",
    "Explanation for charge\n",
    "Dispute a charge\n",
    "\n",
    "Technical Support secondary categories:\n",
    "General troubleshooting\n",
    "Device compatibility\n",
    "Software updates\n",
    "\n",
    "Account Management secondary categories:\n",
    "Password reset\n",
    "Update personal information\n",
    "Close account\n",
    "Account security\n",
    "\n",
    "General Inquiry secondary categories:\n",
    "Product information\n",
    "Pricing\n",
    "Feedback\n",
    "Speak to a human\n",
    "\n",
    "\"\"\""
   ]
  },
  {
   "cell_type": "code",
   "execution_count": 5,
   "id": "61f4b474",
   "metadata": {},
   "outputs": [],
   "source": [
    "system_message = f\"\"\"\n",
    "你将获得客户服务查询。\n",
    "每个客户服务查询都将用{delimiter}字符分隔。\n",
    "将每个查询分类到一个主要类别和一个次要类别中。\n",
    "以 JSON 格式提供你的输出，包含以下键：primary 和 secondary。\n",
    "\n",
    "主要类别：计费（Billing）、技术支持（Technical Support）、账户管理（Account Management）或一般咨询（General Inquiry）。\n",
    "\n",
    "计费次要类别：\n",
    "取消订阅或升级（Unsubscribe or upgrade）\n",
    "添加付款方式（Add a payment method）\n",
    "收费解释（Explanation for charge）\n",
    "争议费用（Dispute a charge）\n",
    "\n",
    "技术支持次要类别：\n",
    "常规故障排除（General troubleshooting）\n",
    "设备兼容性（Device compatibility）\n",
    "软件更新（Software updates）\n",
    "\n",
    "账户管理次要类别：\n",
    "重置密码（Password reset）\n",
    "更新个人信息（Update personal information）\n",
    "关闭账户（Close account）\n",
    "账户安全（Account security）\n",
    "\n",
    "一般咨询次要类别：\n",
    "产品信息（Product information）\n",
    "定价（Pricing）\n",
    "反馈（Feedback）\n",
    "与人工对话（Speak to a human）\n",
    "\n",
    "\"\"\""
   ]
  },
  {
   "attachments": {},
   "cell_type": "markdown",
   "id": "e6a932ce",
   "metadata": {},
   "source": [
    "आइए अब उपयोगकर्ता संदेश का एक उदाहरण देखें।"
   ]
  },
  {
   "cell_type": "code",
   "execution_count": 26,
   "id": "2b2df0bf",
   "metadata": {},
   "outputs": [],
   "source": [
    "user_message = f\"\"\"\\ \n",
    "I want you to delete my profile and all of my user data\"\"\""
   ]
  },
  {
   "cell_type": "code",
   "execution_count": 6,
   "id": "3b8070bf",
   "metadata": {},
   "outputs": [],
   "source": [
    "user_message = f\"\"\"\\ \n",
    "我希望你删除我的个人资料和所有用户数据。\"\"\""
   ]
  },
  {
   "attachments": {},
   "cell_type": "markdown",
   "id": "3a2c1cf0",
   "metadata": {},
   "source": [
    "इस संदेश को संदेशों की एक सूची के रूप में स्वरूपित करें, सिस्टम संदेशों और उपयोगकर्ता संदेशों को \"####\" से अलग करें।\n",
    "\n",
    "आइए एक इंसान के रूप में सोचें कि यह वाक्य किस श्रेणी का है: \"मैं चाहता हूं कि आप मेरी प्रोफ़ाइल हटा दें।\"\n",
    "\n",
    "यह वाक्य ऐसा लगता है जैसे यह \"खाता प्रबंधन\" या \"खाता बंद करें\" से संबंधित है।"
   ]
  },
  {
   "cell_type": "code",
   "execution_count": 7,
   "id": "6e2b9049",
   "metadata": {},
   "outputs": [],
   "source": [
    "messages =  [  \n",
    "{'role':'system', \n",
    " 'content': system_message},    \n",
    "{'role':'user', \n",
    " 'content': f\"{delimiter}{user_message}{delimiter}\"},  \n",
    "]"
   ]
  },
  {
   "attachments": {},
   "cell_type": "markdown",
   "id": "4b295207",
   "metadata": {},
   "source": [
    "आइए देखें कि मॉडल कैसे सोचती है\n",
    "\n",
    "मॉडल का वर्गीकरण \"खाता प्रबंधन\" को \"प्राथमिक\" और \"खाता बंद करें\" को \"द्वितीयक\" के रूप में वर्गीकृत किया गया है।\n",
    "\n",
    "JSON जैसे संरचित आउटपुट का अनुरोध करने का लाभ यह है कि आप इसे आसानी से किसी ऑब्जेक्ट में पढ़ सकते हैं, जैसे कि पायथन में एक शब्दकोश। यदि आप किसी अन्य भाषा का उपयोग करते हैं, तो आप इसे किसी अन्य ऑब्जेक्ट में भी परिवर्तित कर सकते हैं और फिर इसे बाद के चरणों में इनपुट कर सकते हैं।"
   ]
  },
  {
   "cell_type": "code",
   "execution_count": 10,
   "id": "77328388",
   "metadata": {},
   "outputs": [
    {
     "name": "stdout",
     "output_type": "stream",
     "text": [
      "{\n",
      "    \"primary\": \"账户管理\",\n",
      "    \"secondary\": \"关闭账户\"\n",
      "}\n"
     ]
    }
   ],
   "source": [
    "response = get_completion_from_messages(messages)\n",
    "print(response)"
   ]
  },
  {
   "attachments": {},
   "cell_type": "markdown",
   "id": "2f6b353b",
   "metadata": {},
   "source": [
    "यहां एक अन्य उपयोगकर्ता संदेश है: \"मुझे अपने फ्लैट स्क्रीन टीवी के बारे में और बताएं\"\n",
    "\n",
    "हम मॉडल की प्रतिक्रिया प्राप्त करने और उसका प्रिंट आउट लेने के लिए संदेशों की वही सूची लागू करते हैं।\n",
    "\n",
    "एक अन्य वर्गीकरण परिणाम यहां दिया गया है और ऐसा लगता है कि यह सही होना चाहिए।"
   ]
  },
  {
   "cell_type": "code",
   "execution_count": 31,
   "id": "edf8fbe9",
   "metadata": {},
   "outputs": [
    {
     "name": "stdout",
     "output_type": "stream",
     "text": [
      "{\n",
      "  \"primary\": \"General Inquiry\",\n",
      "  \"secondary\": \"Product information\"\n",
      "}\n"
     ]
    }
   ],
   "source": [
    "user_message = f\"\"\"\\\n",
    "Tell me more about your flat screen tvs\"\"\"\n",
    "messages =  [  \n",
    "{'role':'system', \n",
    " 'content': system_message},    \n",
    "{'role':'user', \n",
    " 'content': f\"{delimiter}{user_message}{delimiter}\"},  \n",
    "] \n",
    "response = get_completion_from_messages(messages)\n",
    "print(response)"
   ]
  },
  {
   "cell_type": "code",
   "execution_count": 12,
   "id": "f1d738e1",
   "metadata": {},
   "outputs": [
    {
     "name": "stdout",
     "output_type": "stream",
     "text": [
      "以下是针对平板电脑的一般咨询：\n",
      "\n",
      "{\n",
      "  \"primary\": \"General Inquiry\",\n",
      "  \"secondary\": \"Product information\"\n",
      "}\n",
      "\n",
      "如果您有任何特定的问题或需要更详细的信息，请告诉我，我会尽力回答。\n"
     ]
    }
   ],
   "source": [
    "user_message = f\"\"\"\\\n",
    "告诉我更多有关你们的平板电脑的信息\"\"\"\n",
    "messages =  [  \n",
    "{'role':'system', \n",
    " 'content': system_message},    \n",
    "{'role':'user', \n",
    " 'content': f\"{delimiter}{user_message}{delimiter}\"},  \n",
    "] \n",
    "response = get_completion_from_messages(messages)\n",
    "print(response)"
   ]
  },
  {
   "attachments": {},
   "cell_type": "markdown",
   "id": "8f87f68d",
   "metadata": {},
   "source": [
    "इसलिए, ग्राहक पूछताछ के वर्गीकरण के आधार पर, अब हम अगले चरणों को संभालने के लिए निर्देशों का अधिक विशिष्ट सेट प्रदान कर सकते हैं।\n",
    "\n",
    "इस मामले में, हम टीवी के बारे में अतिरिक्त जानकारी जोड़ सकते हैं, जबकि अन्य मामलों में, हम खाता बंद करने के लिए एक लिंक या कुछ इसी तरह प्रदान करना चाह सकते हैं।\n",
    "\n",
    "निम्नलिखित अध्यायों में, हम इनपुट को संभालने के विभिन्न तरीकों पर करीब से नज़र डालेंगे\n",
    "\n",
    "अगले अध्याय में, हम इनपुट का मूल्यांकन करने के तरीकों के बारे में और अधिक जानकारी प्राप्त करेंगे, विशेष रूप से यह कैसे सुनिश्चित करेंलोग सिस्टम का जिम्मेदार तरीके से उपयोग करते हैं।"
   ]
  }
 ],
 "metadata": {
  "kernelspec": {
   "display_name": "Python 3 (ipykernel)",
   "language": "python",
   "name": "python3"
  },
  "language_info": {
   "codemirror_mode": {
    "name": "ipython",
    "version": 3
   },
   "file_extension": ".py",
   "mimetype": "text/x-python",
   "name": "python",
   "nbconvert_exporter": "python",
   "pygments_lexer": "ipython3",
   "version": "3.10.11"
  }
 },
 "nbformat": 4,
 "nbformat_minor": 5
}
