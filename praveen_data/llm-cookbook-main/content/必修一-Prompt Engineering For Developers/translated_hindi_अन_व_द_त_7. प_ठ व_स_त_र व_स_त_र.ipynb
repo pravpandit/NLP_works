{
 "cells": [
  {
   "cell_type": "markdown",
   "metadata": {},
   "source": [
    "# अध्याय 7 पाठ विस्तार"
   ]
  },
  {
   "cell_type": "markdown",
   "metadata": {},
   "source": [
    "<div class='toc'>\n",
    "<उल क्लास='टोक-आइटम'>\n",
    "<li><span><a href='#一 परिचय' data-toc-modified-id='1. परिचय'>1. परिचय</a></span></li>\n",
    "<ली>\n",
    "<span><a href='#二अनुकूलित ग्राहक मेल' data-toc-modified-id='二、अनुकूलित ग्राहक मेल'>二、अनुकूलित ग्राहक मेल</a></span>\n",
    "</li>\n",
    "<li><span><a href=”#三义化 तापमान विभाग” data-toc-modified-id=”三、यिनहुआ तापमान विभाग”>三、यिनहुआ तापमान विभाग</a></span>\n",
    "</li>\n",
    "</ul>\n",
    "</div>"
   ]
  },
  {
   "cell_type": "markdown",
   "metadata": {},
   "source": [
    "## 1 परिचय\n",
    "\n",
    "एक्सटेंशन एक बड़े भाषा मॉडल में छोटे पाठ (जैसे निर्देशों का एक सेट या विषयों की एक सूची) के इनपुट हैं, जो मॉडल को लंबे पाठ (जैसे एक निश्चित विषय पर आधारित ईमेल या निबंध) उत्पन्न करने की अनुमति देते हैं दोधारी तलवार, एक बड़े भाषा मॉडल को विचार-मंथन भागीदार के रूप में उपयोग करने जैसे लाभों के साथ, लेकिन कुछ समस्याएं भी हैं, जैसे कि कोई इसका उपयोग बहुत अधिक स्पैम उत्पन्न करने के लिए कर सकता है, इसलिए, जब आप बड़े भाषा मॉड की इन सुविधाओं का उपयोग करते हैंदोस्तों, कृपया इनका उपयोग केवल **जिम्मेदार** और **लोगों की मदद** करने के तरीके से करें।\n",
    "\n",
    "इस अध्याय में, आप सीखेंगे कि ओपनएआई एपीआई के आधार पर *प्रत्येक ग्राहक समीक्षा के लिए अनुकूलित* ग्राहक सेवा ईमेल कैसे तैयार करें। हम तापमान नामक मॉडल के एक अन्य इनपुट पैरामीटर का भी लाभ उठाएंगे, जो आपको डिग्री और विविधता को अलग करने की अनुमति देता है मॉडल प्रतिक्रिया में अन्वेषण का।\n",
    "\n",
    "पिछले अध्यायों की तरह, आपको ऐसे वातावरण को कॉन्फ़िगर करने के लिए समान कोड की आवश्यकता है जो OpenAI API का उपयोग कर सके"
   ]
  },
  {
   "cell_type": "code",
   "execution_count": 1,
   "metadata": {},
   "outputs": [],
   "source": [
    "import openai\n",
    "# तृतीय-पक्ष लाइब्रेरी आयात करें\n",
    "\n",
    "openai.api_key = \"sk-...\"\n",
    "# API_KEY सेट करें, कृपया इसे अपनी API_KEY से बदलें\n"
   ]
  },
  {
   "cell_type": "code",
   "execution_count": 9,
   "metadata": {},
   "outputs": [],
   "source": [
    "# एक फ़ंक्शन जो ओपनएआई इंटरफ़ेस को प्रॉम्प्ट के एक पैरामीटर के साथ इनकैप्सुलेट करता है और संबंधित परिणाम देता है\n",
    "def get_completion(prompt, model=\"gpt-3.5-turbo\", temperature=0):\n",
    "    '''\n",
    "    prompt: 对应的提示\n",
    "    model: 调用的模型，默认为 gpt-3.5-turbo(ChatGPT)，有内测资格的用户可以选择 gpt-4\n",
    "    temperature: 温度系数\n",
    "    '''\n",
    "    messages = [{\"role\": \"user\", \"content\": prompt}]\n",
    "    response = openai.ChatCompletion.create(\n",
    "        model=model,\n",
    "        messages=messages,\n",
    "        temperature=temperature, # 模型输出的温度系数，控制输出的随机程度\n",
    "    )\n",
    "# OpenAI के चैटकंप्लीशन इंटरफ़ेस पर कॉल करें\n",
    "    return response.choices[0].message[\"content\"]\n"
   ]
  },
  {
   "cell_type": "markdown",
   "metadata": {},
   "source": [
    "## 2. ग्राहक ईमेल अनुकूलित करें"
   ]
  },
  {
   "cell_type": "markdown",
   "metadata": {},
   "source": [
    "हम ग्राहक समीक्षाओं और भावनाओं के आधार पर लक्षित ऑटो-रिप्लाई ईमेल लिखेंगे, इसलिए, हम ग्राहक समीक्षाओं और भावनाओं के आधार पर लक्षित प्रतिक्रियाएं उत्पन्न करने के लिए एलएलएम का उपयोग करेंगे, यानी ग्राहक समीक्षाओं और समीक्षा भावनाओं के आधार पर अनुकूलित ईमेल उत्पन्न करेंगे।\n",
    "\n",
    "हम पहले एक उदाहरण देते हैं, जिसमें एक समीक्षा और उससे संबंधित भावना शामिल है।"
   ]
  },
  {
   "cell_type": "code",
   "execution_count": 4,
   "metadata": {},
   "outputs": [],
   "source": [
    "# \"अनुमान\" पर पाठ से भावना दी गई,\n",
    "# और मूल ग्राहक संदेश, ईमेल को अनुकूलित करें\n",
    "sentiment = \"negative\"\n",
    "\n",
    "# ब्लेंडर की समीक्षा\n",
    "review = f\"\"\"\n",
    "So, they still had the 17 piece system on seasonal \\\n",
    "sale for around $49 in the month of November, about \\\n",
    "half off, but for some reason (call it price gouging) \\\n",
    "around the second week of December the prices all went \\\n",
    "up to about anywhere from between $70-$89 for the same \\\n",
    "system. And the 11 piece system went up around $10 or \\\n",
    "so in price also from the earlier sale price of $29. \\\n",
    "So it looks okay, but if you look at the base, the part \\\n",
    "where the blade locks into place doesn’t look as good \\\n",
    "as in previous editions from a few years ago, but I \\\n",
    "plan to be very gentle with it (example, I crush \\\n",
    "very hard items like beans, ice, rice, etc. in the \\ \n",
    "blender first then pulverize them in the serving size \\\n",
    "I want in the blender then switch to the whipping \\\n",
    "blade for a finer flour, and use the cross cutting blade \\\n",
    "first when making smoothies, then use the flat blade \\\n",
    "if I need them finer/less pulpy). Special tip when making \\\n",
    "smoothies, finely cut and freeze the fruits and \\\n",
    "vegetables (if using spinach-lightly stew soften the \\ \n",
    "spinach then freeze until ready for use-and if making \\\n",
    "sorbet, use a small to medium sized food processor) \\ \n",
    "that you plan to use that way you can avoid adding so \\\n",
    "much ice if at all-when making your smoothie. \\\n",
    "After about a year, the motor was making a funny noise. \\\n",
    "I called customer service but the warranty expired \\\n",
    "already, so I had to buy another one. FYI: The overall \\\n",
    "quality has gone done in these types of products, so \\\n",
    "they are kind of counting on brand recognition and \\\n",
    "consumer loyalty to maintain sales. Got it in about \\\n",
    "two days.\n",
    "\"\"\""
   ]
  },
  {
   "cell_type": "code",
   "execution_count": 11,
   "metadata": {},
   "outputs": [],
   "source": [
    "# हम अनुमान अध्याय में किसी टिप्पणी की भावना का मूल्यांकन करना सीख सकते हैं\n",
    "sentiment = \"negative\"\n",
    "\n",
    "#एक उत्पाद समीक्षा\n",
    "review = f\"\"\"\n",
    "他们在11月份的季节性销售期间以约49美元的价格出售17件套装，折扣约为一半。\\\n",
    "但由于某些原因（可能是价格欺诈），到了12月第二周，同样的套装价格全都涨到了70美元到89美元不等。\\\n",
    "11件套装的价格也上涨了大约10美元左右。\\\n",
    "虽然外观看起来还可以，但基座上锁定刀片的部分看起来不如几年前的早期版本那么好。\\\n",
    "不过我打算非常温柔地使用它，例如，\\\n",
    "我会先在搅拌机中将像豆子、冰、米饭等硬物研磨，然后再制成所需的份量，\\\n",
    "切换到打蛋器制作更细的面粉，或者在制作冰沙时先使用交叉切割刀片，然后使用平面刀片制作更细/不粘的效果。\\\n",
    "制作冰沙时，特别提示：\\\n",
    "将水果和蔬菜切碎并冷冻（如果使用菠菜，则轻轻煮软菠菜，然后冷冻直到使用；\\\n",
    "如果制作果酱，则使用小到中号的食品处理器），这样可以避免在制作冰沙时添加太多冰块。\\\n",
    "大约一年后，电机发出奇怪的噪音，我打电话给客服，但保修已经过期了，所以我不得不再买一个。\\\n",
    "总的来说，这些产品的总体质量已经下降，因此它们依靠品牌认可和消费者忠诚度来维持销售。\\\n",
    "货物在两天内到达。\n",
    "\"\"\""
   ]
  },
  {
   "cell_type": "markdown",
   "metadata": {},
   "source": []
  },
  {
   "cell_type": "markdown",
   "metadata": {},
   "source": [
    "अब जब हमने अनुमान पाठ्यक्रम में सीखी गई विधियों का उपयोग करके एक ब्लेंडर के बारे में ग्राहक समीक्षा की भावना निकाल ली है, तो हम भावना के आधार पर अपनी प्रतिक्रिया तैयार करेंगे।\n",
    "\n",
    "निम्नलिखित संकेत को एक उदाहरण के रूप में लें: मान लीजिए कि आप एक ग्राहक सेवा एआई सहायक हैं और आपका कार्य ग्राहक के लिए तीन बैकटिक्स द्वारा अलग किए गए ईमेल उत्तर के आधार पर, समीक्षा के लिए ग्राहक को धन्यवाद देने के लिए एक उत्तर तैयार करना है।"
   ]
  },
  {
   "cell_type": "code",
   "execution_count": 5,
   "metadata": {},
   "outputs": [
    {
     "name": "stdout",
     "output_type": "stream",
     "text": [
      "Dear Valued Customer,\n",
      "\n",
      "Thank you for taking the time to leave a review about our product. We are sorry to hear that you experienced an increase in price and that the quality of the product did not meet your expectations. We apologize for any inconvenience this may have caused you.\n",
      "\n",
      "We would like to assure you that we take all feedback seriously and we will be sure to pass your comments along to our team. If you have any further concerns, please do not hesitate to reach out to our customer service team for assistance.\n",
      "\n",
      "Thank you again for your review and for choosing our product. We hope to have the opportunity to serve you better in the future.\n",
      "\n",
      "Best regards,\n",
      "\n",
      "AI customer agent\n"
     ]
    }
   ],
   "source": [
    "prompt = f\"\"\"\n",
    "You are a customer service AI assistant.\n",
    "Your task is to send an email reply to a valued customer.\n",
    "Given the customer email delimited by ```, \\\n",
    "Generate a reply to thank the customer for their review.\n",
    "If the sentiment is positive or neutral, thank them for \\\n",
    "their review.\n",
    "If the sentiment is negative, apologize and suggest that \\\n",
    "they can reach out to customer service. \n",
    "Make sure to use specific details from the review.\n",
    "Write in a concise and professional tone.\n",
    "Sign the email as `AI customer agent`.\n",
    "Customer review: ```{review}```\n",
    "Review sentiment: {sentiment}\n",
    "\"\"\"\n",
    "response = get_completion(prompt)\n",
    "print(response)"
   ]
  },
  {
   "cell_type": "code",
   "execution_count": 6,
   "metadata": {},
   "outputs": [
    {
     "name": "stdout",
     "output_type": "stream",
     "text": [
      "尊敬的客户，\n",
      "\n",
      "非常感谢您对我们产品的评价。我们非常抱歉您在购买过程中遇到了价格上涨的问题。我们一直致力于为客户提供最优惠的价格，但由于市场波动，价格可能会有所变化。我们深表歉意，如果您需要任何帮助，请随时联系我们的客户服务团队。\n",
      "\n",
      "我们非常感谢您对我们产品的详细评价和使用技巧。我们将会把您的反馈传达给我们的产品团队，以便改进我们的产品质量和性能。\n",
      "\n",
      "再次感谢您对我们的支持和反馈。如果您需要任何帮助或有任何疑问，请随时联系我们的客户服务团队。\n",
      "\n",
      "祝您一切顺利！\n",
      "\n",
      "AI客户代理\n"
     ]
    }
   ],
   "source": [
    "prompt = f\"\"\"\n",
    "你是一位客户服务的AI助手。\n",
    "你的任务是给一位重要客户发送邮件回复。\n",
    "根据客户通过“```”分隔的评价，生成回复以感谢客户的评价。提醒模型使用评价中的具体细节\n",
    "用简明而专业的语气写信。\n",
    "作为“AI客户代理”签署电子邮件。\n",
    "客户评论：\n",
    "```{review}```\n",
    "评论情感：{sentiment}\n",
    "\"\"\"\n",
    "response = get_completion(prompt)\n",
    "print(response)"
   ]
  },
  {
   "cell_type": "markdown",
   "metadata": {},
   "source": []
  },
  {
   "cell_type": "markdown",
   "metadata": {},
   "source": [
    "## 3. तापमान गुणांक का परिचय\n",
    "\n",
    "इसके बाद, हम \"तापमान\" नामक भाषा मॉडल के एक पैरामीटर का उपयोग करेंगे जो हमें मॉडल की प्रतिक्रियाओं की विविधता को बदलने की अनुमति देगा। आप तापमान को मॉडल की खोज या यादृच्छिकता की डिग्री के रूप में सोच सकते हैं।\n",
    "\n",
    "उदाहरण के लिए, किसी विशेष वाक्यांश में, \"मेरा पसंदीदा भोजन\" के लिए सबसे संभावित अगला शब्द \"पिज्जा\" है, उसके बाद \"सुशी\" और \"टैको\" है, इसलिए शून्य के तापमान पर, मॉडल हमेशा सबसे संभावित अगला शब्द चुनेगा शब्द, जबकि हाय परअधिक तापमान पर यह कम संभावित शब्दों में से एक को भी चुनेगा, और इससे भी अधिक तापमान पर यह टैको को भी चुन सकता है, जिसकी संभावना केवल पांच गुना में से एक है, आप कल्पना कर सकते हैं कि जैसे-जैसे मॉडल अधिक शब्द उत्पन्न करना जारी रखेगा, अंतिम प्रतिक्रिया होगी। मेरा पसंदीदा भोजन पिज़्ज़ा है\" पहली प्रतिक्रिया से भिन्न होगा \"मेरा पसंदीदा भोजन टैको है\"। जैसे-जैसे मॉडल जारी रहेगा, ये दोनों प्रतिक्रियाएं भी अधिक से अधिक भिन्न होती जाएंगी।\n",
    "\n",
    "सामान्य तौर पर, ऐसे एप्लिकेशन बनाते समय जिनके लिए पूर्वानुमानित सम्मान की आवश्यकता होती हैऑनसेस, मैं **तापमान को शून्य पर सेट करने की सलाह देता हूं**। सभी पाठ्यक्रमों में, हम तापमान को शून्य पर सेट कर रहे हैं, और यदि आप एक विश्वसनीय और पूर्वानुमानित प्रणाली बनाने की कोशिश कर रहे हैं, तो मुझे लगता है कि आपको यह तापमान चुनना चाहिए मॉडल को अधिक रचनात्मक तरीकों से उपयोग करने का प्रयास करें, शायद विभिन्न आउटपुट की व्यापक रेंज के साथ, आप उच्च तापमान का उपयोग करना चाह सकते हैं।"
   ]
  },
  {
   "cell_type": "markdown",
   "metadata": {},
   "source": [
    "उसी पत्र में, हम मॉडल को उपयोगकर्ता के पत्र से विवरण का उपयोग करने और तापमान निर्धारित करने की याद दिलाते हैं:"
   ]
  },
  {
   "cell_type": "code",
   "execution_count": 10,
   "metadata": {},
   "outputs": [
    {
     "name": "stdout",
     "output_type": "stream",
     "text": [
      "Dear valued customer,\n",
      "\n",
      "Thank you for taking the time to share your review with us. We are sorry to hear that you were disappointed with the prices of our products and the quality of our blender. We apologize for any inconvenience this may have caused you.\n",
      "\n",
      "We value your feedback and would like to make things right for you. Please feel free to contact our customer service team so we can assist you with any concerns or issues you may have. We are committed to providing you with the best possible service and products.\n",
      "\n",
      "Thank you again for your review and for being a loyal customer. We hope to have the opportunity to serve you better in the future.\n",
      "\n",
      "Sincerely,\n",
      "AI customer agent\n"
     ]
    }
   ],
   "source": [
    "prompt = f\"\"\"\n",
    "You are a customer service AI assistant.\n",
    "Your task is to send an email reply to a valued customer.\n",
    "Given the customer email delimited by ```, \\\n",
    "Generate a reply to thank the customer for their review.\n",
    "If the sentiment is positive or neutral, thank them for \\\n",
    "their review.\n",
    "If the sentiment is negative, apologize and suggest that \\\n",
    "they can reach out to customer service. \n",
    "Make sure to use specific details from the review.\n",
    "Write in a concise and professional tone.\n",
    "Sign the email as `AI customer agent`.\n",
    "Customer review: ```{review}```\n",
    "Review sentiment: {sentiment}\n",
    "\"\"\"\n",
    "response = get_completion(prompt, temperature=0.7)\n",
    "print(response)"
   ]
  },
  {
   "cell_type": "code",
   "execution_count": 12,
   "metadata": {},
   "outputs": [
    {
     "name": "stdout",
     "output_type": "stream",
     "text": [
      "尊敬的客户，\n",
      "\n",
      "非常感谢您对我们产品的评价。我们由衷地为您在购买过程中遇到的问题表示抱歉。我们确实在12月份的第二周调整了价格，但这是由于市场因素所致，并非价格欺诈。我们深刻意识到您对产品质量的担忧，我们将尽一切努力改进产品，以提供更好的体验。\n",
      "\n",
      "我们非常感激您对我们产品的使用经验和制作技巧的分享。您的建议和反馈对我们非常重要，我们将以此为基础，进一步改进我们的产品。\n",
      "\n",
      "如果您有任何疑问或需要进一步帮助，请随时联系我们的客户服务部门。我们将尽快回复您并提供帮助。\n",
      "\n",
      "最后，请再次感谢您对我们产品的评价和选择。我们期待着未来与您的合作。\n",
      "\n",
      "此致\n",
      "\n",
      "敬礼\n",
      "\n",
      "AI客户代理\n"
     ]
    }
   ],
   "source": [
    "prompt = f\"\"\"\n",
    "你是一名客户服务的AI助手。\n",
    "你的任务是给一位重要的客户发送邮件回复。\n",
    "根据通过“```”分隔的客户电子邮件生成回复，以感谢客户的评价。\n",
    "如果情感是积极的或中性的，感谢他们的评价。\n",
    "如果情感是消极的，道歉并建议他们联系客户服务。\n",
    "请确保使用评论中的具体细节。\n",
    "以简明和专业的语气写信。\n",
    "以“AI客户代理”的名义签署电子邮件。\n",
    "客户评价：```{review}```\n",
    "评论情感：{sentiment}\n",
    "\"\"\"\n",
    "response = get_completion(prompt, temperature=0.7)\n",
    "print(response)"
   ]
  },
  {
   "cell_type": "markdown",
   "metadata": {},
   "source": []
  },
  {
   "cell_type": "markdown",
   "metadata": {},
   "source": [
    "शून्य के तापमान पर, आपको हर बार एक ही संकेत निष्पादित करने पर एक ही प्रतिक्रिया मिलनी चाहिए। 0.7 के तापमान पर, आपको हर बार एक अलग आउटपुट मिलता है।\n",
    "\n",
    "तो आप देख सकते हैं कि यह हमें पहले मिले ईमेल से अलग है। इसे दोबारा निष्पादित करने पर आपको फिर से एक अलग ईमेल मिलेगा।\n",
    "\n",
    "इसलिए मेरा सुझाव है कि आप स्वयं तापमान के साथ प्रयोग करके देखें कि आउटपुट कैसे बदलता है। संक्षेप में, उच्च तापमान पर, मॉडल का आउटपुट लगभग अधिक यादृच्छिक होता हैजी **अधिक ध्यान भटकाने वाला**, लेकिन शायद **अधिक रचनात्मक**, उच्च तापमान पर।"
   ]
  }
 ],
 "metadata": {
  "kernelspec": {
   "display_name": "Python 3",
   "language": "python",
   "name": "python3"
  },
  "language_info": {
   "codemirror_mode": {
    "name": "ipython",
    "version": 3
   },
   "file_extension": ".py",
   "mimetype": "text/x-python",
   "name": "python",
   "nbconvert_exporter": "python",
   "pygments_lexer": "ipython3",
   "version": "3.8.13"
  },
  "latex_envs": {
   "LaTeX_envs_menu_present": true,
   "autoclose": false,
   "autocomplete": true,
   "bibliofile": "biblio.bib",
   "cite_by": "apalike",
   "current_citInitial": 1,
   "eqLabelWithNumbers": true,
   "eqNumInitial": 1,
   "hotkeys": {
    "equation": "Ctrl-E",
    "itemize": "Ctrl-I"
   },
   "labels_anchors": false,
   "latex_user_defs": false,
   "report_style_numbering": false,
   "user_envs_cfg": false
  },
  "toc": {
   "base_numbering": 1,
   "nav_menu": {},
   "number_sections": true,
   "sideBar": true,
   "skip_h1_title": false,
   "title_cell": "Table of Contents",
   "title_sidebar": "Contents",
   "toc_cell": false,
   "toc_position": {},
   "toc_section_display": true,
   "toc_window_display": false
  }
 },
 "nbformat": 4,
 "nbformat_minor": 4
}
