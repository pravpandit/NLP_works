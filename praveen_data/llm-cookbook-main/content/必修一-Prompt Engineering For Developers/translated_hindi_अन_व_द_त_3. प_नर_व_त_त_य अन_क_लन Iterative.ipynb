{
 "cells": [
  {
   "attachments": {},
   "cell_type": "markdown",
   "metadata": {},
   "source": [
    "# अध्याय 3 पुनरावृत्तीय अनुकूलन\n",
    "\n",
    "एलएलएम के साथ एप्लिकेशन बनाते समय, पहले प्रयास में अंतिम एप्लिकेशन के लिए उपयुक्त प्रॉम्प्ट सफलतापूर्वक प्राप्त करना मुश्किल होता है, लेकिन इससे कोई फर्क नहीं पड़ता जब तक आपके पास अपने प्रॉम्प्ट में लगातार सुधार करने के लिए एक अच्छी पुनरावृत्तीय प्रक्रिया है ऐसा प्रॉम्प्ट प्राप्त करने में सक्षम होना जो कार्य के लिए उपयुक्त हो, हालाँकि प्रॉम्प्ट में सफलता की संभावना मशीन लर्निंग मॉडल को प्रशिक्षित करने की तुलना में अधिक हो सकती है, जैसा कि ऊपर बताया गया है, यह महत्वपूर्ण नहीं है कि क्या पी।रोम्प्ट को एक ही बार में पूर्ण किया जाता है। सबसे महत्वपूर्ण बात आपके आवेदन के लिए एक प्रभावी संकेत खोजने के लिए **पुनरावृत्ति** की प्रक्रिया है।\n",
    "\n",
    "इसलिए, इस अध्याय में, हम कुछ प्रक्रिया रूपरेखा दिखाने के लिए उत्पाद मैनुअल में मार्केटिंग कॉपी तैयार करने के उदाहरण का उपयोग करेंगे और आपको यह सोचने के लिए प्रेरित करेंगे कि अपने प्रॉम्प्ट का पुनरावृत्तीय रूप से विश्लेषण और सुधार कैसे करें।\n",
    "\n",
    "एंड्रयू एनजी के मशीन लर्निंग कोर्स में, मशीन लर्निंग के विकास की प्रक्रिया को दर्शाने के लिए एक चार्ट दिखाया गया है। आमतौर पर, आपके पास एक विचार हैपहले, और फिर इसे निम्नलिखित प्रक्रिया के साथ कार्यान्वित करें: कोड लिखें, डेटा प्राप्त करें, मॉडल को प्रशिक्षित करें, और प्रयोगात्मक परिणाम प्राप्त करें फिर आप परिणाम देख सकते हैं, त्रुटियों और गलतियों का विश्लेषण कर सकते हैं, लागू क्षेत्रों का पता लगा सकते हैं और यहां तक ​​कि अपने विशिष्ट विचारों को भी बदल सकते हैं या विशिष्ट समस्याओं के लिए समाधान। उसके बाद, कार्यान्वयन को फिर से बदलें, एक और प्रयोग चलाएं, और इसी तरह, बार-बार दोहराते रहें जब तक कि आपको एक वैध मशीन लर्निंग मॉडल न मिल जाए। एलएलएम-आधारित एप्लिकेशन के लिए प्रॉम्प्ट लिखते समय, पीप्रक्रिया बहुत कठिन हो सकती है एक बार जब आपको यह पता चल जाए कि आप क्या हासिल करना चाहते हैं, तो आप पिछले अध्याय में उल्लिखित दो सिद्धांतों पर ध्यान देते हुए पहला संकेत लिखने का प्रयास कर सकते हैं: **स्पष्ट और विशिष्ट, और दें सिस्टम को सोचने के लिए पर्याप्त समय**। फिर आप इसे चला सकते हैं और परिणाम देख सकते हैं, यदि पहला प्रभाव अच्छा नहीं है, तो पुनरावृत्तीय प्रक्रिया यह पता लगाना है कि निर्देश पर्याप्त स्पष्ट क्यों नहीं हैं या एल्गोरिदम को पर्याप्त समय क्यों नहीं दिया गया है। सोचो, ताकि विचार को बेहतर बनाया जा सके, सुधार किया जा सकेप्रॉम्प्ट, इत्यादि, और कई बार चक्रित करें जब तक कि आपको कोई ऐसा प्रॉम्प्ट न मिल जाए जो आपके आवेदन के लिए उपयुक्त हो।\n",
    "\n",
    "एक तथाकथित \"सर्वश्रेष्ठ संकेत\" प्राप्त करना मुश्किल है जो दुनिया में हर चीज पर लागू होता है। एक बेहतर तरीका एक प्रभावी पुनरावृत्तीय प्रक्रिया ढूंढना है ताकि आप जल्दी से एक ऐसा संकेत ढूंढ सकें जो आपके आवेदन के लिए उपयुक्त हो।"
   ]
  },
  {
   "cell_type": "markdown",
   "metadata": {},
   "source": [
    "<div class='toc'>\n",
    "<उल क्लास='टोक-आइटम'>\n",
    "<li><span><a href='#1 पर्यावरण कॉन्फ़िगरेशन' data-toc-modified-id='1. पर्यावरण कॉन्फ़िगरेशन'>1. पर्यावरण कॉन्फ़िगरेशन</a></span></li>\n",
    "<ली>\n",
    "<span><a href='#2 कार्य उत्पाद मैनुअल से एक मार्केटिंग उत्पाद विवरण तैयार करें' data-toc-modified-id='2. कार्य - उत्पाद मैनुअल से एक विपणन उत्पाद विवरण तैयार करें'>2 उत्पाद मैनुअल से विपणन उत्पाद विवरण</a></span>\n",
    "<उल क्लास='टोक-आइटम'>\n",
    "<li><span><a hरेफरी = \"#21-समस्या 1: उत्पन्न पाठ बहुत लंबा है\" डेटा-टोक-संशोधित-आईडी = \"2.1 समस्या 1: उत्पन्न पाठ बहुत लंबा है\">2.1 समस्या 1: उत्पन्न पाठ बहुत लंबा है</a> </span></li>\n",
    "<li><span><a href='#22-समस्या 2 गलत पाठ का विवरण कैप्चर किया गया है' data-toc-modified-id='2.2 समस्या 2: गलत पाठ विवरण'>2.2 समस्या 2: गलत पाठ विवरण </a></span></li>\n",
    "<li><span><a href='#23-समस्या 3 तालिका विवरण जोड़ें' data-toc-modified-id='2.3 समस्या 3: तालिका विवरण जोड़ें'>2.3 समस्या 3: जोड़ेंतालिका विवरण</a></span></li>\n",
    "</ul>\n",
    "</li>\n",
    "</ul>\n",
    "</div>"
   ]
  },
  {
   "attachments": {},
   "cell_type": "markdown",
   "metadata": {},
   "source": [
    "## 1. पर्यावरण विन्यास\n",
    "\n",
    "पिछले अध्याय की तरह, हमें सबसे पहले OpenAI API का उपयोग करने के लिए पर्यावरण को कॉन्फ़िगर करना होगा"
   ]
  },
  {
   "cell_type": "code",
   "execution_count": 1,
   "metadata": {},
   "outputs": [],
   "source": [
    "import openai\n",
    "# तृतीय-पक्ष लाइब्रेरी आयात करें\n",
    "\n",
    "openai.api_key = \"sk-...\"\n",
    "# API_KEY सेट करें, कृपया इसे अपनी API_KEY से बदलें\n"
   ]
  },
  {
   "cell_type": "code",
   "execution_count": 2,
   "metadata": {},
   "outputs": [],
   "source": [
    "# एक फ़ंक्शन जो ओपनएआई इंटरफ़ेस को प्रॉम्प्ट के एक पैरामीटर के साथ इनकैप्सुलेट करता है और संबंधित परिणाम देता है\n",
    "def get_completion(prompt, model=\"gpt-3.5-turbo\"):\n",
    "    '''\n",
    "    prompt: 对应的提示词\n",
    "    model: 调用的模型，默认为 gpt-3.5-turbo(ChatGPT)，有内测资格的用户可以选择 gpt-4\n",
    "    '''\n",
    "    messages = [{\"role\": \"user\", \"content\": prompt}]\n",
    "    response = openai.ChatCompletion.create(\n",
    "        model=model,\n",
    "        messages=messages,\n",
    "        temperature=0, # 模型输出的温度系数，控制输出的随机程度\n",
    "    )\n",
    "# OpenAI के चैटकंप्लीशन इंटरफ़ेस पर कॉल करें\n",
    "    return response.choices[0].message[\"content\"]\n"
   ]
  },
  {
   "attachments": {},
   "cell_type": "markdown",
   "metadata": {},
   "source": [
    "## 2. कार्य - उत्पाद मैनुअल से एक विपणन उत्पाद विवरण तैयार करें"
   ]
  },
  {
   "attachments": {},
   "cell_type": "markdown",
   "metadata": {},
   "source": [
    "एक कुर्सी के लिए एक डेटा पेज दिया गया है। यह कहता है कि यह इटली में बनी *मध्ययुगीन-प्रेरित* श्रृंखला से है, और सामग्री, निर्माण, आयाम, वैकल्पिक सहायक उपकरण आदि का वर्णन करता है। मान लीजिए कि आप अपनी मार्केटिंग टीम की मदद के लिए इस विनिर्देश का उपयोग करना चाहते हैं। किसी ई-कॉमर्स प्लेटफ़ॉर्म के लिए मार्केटिंग विवरण लिखें:"
   ]
  },
  {
   "cell_type": "code",
   "execution_count": 3,
   "metadata": {},
   "outputs": [],
   "source": [
    "# उदाहरण: उत्पाद मैनुअल\n",
    "fact_sheet_chair = \"\"\"\n",
    "OVERVIEW\n",
    "- Part of a beautiful family of mid-century inspired office furniture, \n",
    "including filing cabinets, desks, bookcases, meeting tables, and more.\n",
    "- Several options of shell color and base finishes.\n",
    "- Available with plastic back and front upholstery (SWC-100) \n",
    "or full upholstery (SWC-110) in 10 fabric and 6 leather options.\n",
    "- Base finish options are: stainless steel, matte black, \n",
    "gloss white, or chrome.\n",
    "- Chair is available with or without armrests.\n",
    "- Suitable for home or business settings.\n",
    "- Qualified for contract use.\n",
    "\n",
    "CONSTRUCTION\n",
    "- 5-wheel plastic coated aluminum base.\n",
    "- Pneumatic chair adjust for easy raise/lower action.\n",
    "\n",
    "DIMENSIONS\n",
    "- WIDTH 53 CM | 20.87”\n",
    "- DEPTH 51 CM | 20.08”\n",
    "- HEIGHT 80 CM | 31.50”\n",
    "- SEAT HEIGHT 44 CM | 17.32”\n",
    "- SEAT DEPTH 41 CM | 16.14”\n",
    "\n",
    "OPTIONS\n",
    "- Soft or hard-floor caster options.\n",
    "- Two choices of seat foam densities: \n",
    "medium (1.8 lb/ft3) or high (2.8 lb/ft3)\n",
    "- Armless or 8 position PU armrests \n",
    "\n",
    "MATERIALS\n",
    "SHELL BASE GLIDER\n",
    "- Cast Aluminum with modified nylon PA6/PA66 coating.\n",
    "- Shell thickness: 10 mm.\n",
    "SEAT\n",
    "- HD36 foam\n",
    "\n",
    "COUNTRY OF ORIGIN\n",
    "- Italy\n",
    "\"\"\""
   ]
  },
  {
   "cell_type": "code",
   "execution_count": 4,
   "metadata": {},
   "outputs": [
    {
     "name": "stdout",
     "output_type": "stream",
     "text": [
      "Introducing our stunning mid-century inspired office chair, the perfect addition to any home or business setting. Part of a beautiful family of office furniture, including filing cabinets, desks, bookcases, meeting tables, and more, this chair is available in several options of shell color and base finishes to suit your style. Choose from plastic back and front upholstery (SWC-100) or full upholstery (SWC-110) in 10 fabric and 6 leather options.\n",
      "\n",
      "The chair is constructed with a 5-wheel plastic coated aluminum base and features a pneumatic chair adjust for easy raise/lower action. It is available with or without armrests and is qualified for contract use. The base finish options are stainless steel, matte black, gloss white, or chrome.\n",
      "\n",
      "Measuring at a width of 53 cm, depth of 51 cm, and height of 80 cm, with a seat height of 44 cm and seat depth of 41 cm, this chair is designed for ultimate comfort. You can also choose between soft or hard-floor caster options and two choices of seat foam densities: medium (1.8 lb/ft3) or high (2.8 lb/ft3). The armrests are available in either an armless or 8 position PU option.\n",
      "\n",
      "The materials used in the construction of this chair are of the highest quality. The shell base glider is made of cast aluminum with modified nylon PA6/PA66 coating and has a shell thickness of 10 mm. The seat is made of HD36 foam, ensuring maximum comfort and durability.\n",
      "\n",
      "This chair is made in Italy and is the perfect combination of style and functionality. Upgrade your workspace with our mid-century inspired office chair today!\n"
     ]
    }
   ],
   "source": [
    "# संकेत: मैनुअल के आधार पर मार्केटिंग विवरण तैयार करें\n",
    "prompt = f\"\"\"\n",
    "Your task is to help a marketing team create a \n",
    "description for a retail website of a product based \n",
    "on a technical fact sheet.\n",
    "\n",
    "Write a product description based on the information \n",
    "provided in the technical specifications delimited by \n",
    "triple backticks.\n",
    "\n",
    "Technical specifications: ```{fact_sheet_chair}```\n",
    "\"\"\"\n",
    "response = get_completion(prompt)\n",
    "print(response)\n"
   ]
  },
  {
   "cell_type": "code",
   "execution_count": 5,
   "metadata": {},
   "outputs": [],
   "source": [
    "# उदाहरण: उत्पाद मैनुअल\n",
    "fact_sheet_chair = \"\"\"\n",
    "概述\n",
    "\n",
    "    美丽的中世纪风格办公家具系列的一部分，包括文件柜、办公桌、书柜、会议桌等。\n",
    "    多种外壳颜色和底座涂层可选。\n",
    "    可选塑料前后靠背装饰（SWC-100）或10种面料和6种皮革的全面装饰（SWC-110）。\n",
    "    底座涂层选项为：不锈钢、哑光黑色、光泽白色或铬。\n",
    "    椅子可带或不带扶手。\n",
    "    适用于家庭或商业场所。\n",
    "    符合合同使用资格。\n",
    "\n",
    "结构\n",
    "\n",
    "    五个轮子的塑料涂层铝底座。\n",
    "    气动椅子调节，方便升降。\n",
    "\n",
    "尺寸\n",
    "\n",
    "    宽度53厘米|20.87英寸\n",
    "    深度51厘米|20.08英寸\n",
    "    高度80厘米|31.50英寸\n",
    "    座椅高度44厘米|17.32英寸\n",
    "    座椅深度41厘米|16.14英寸\n",
    "\n",
    "选项\n",
    "\n",
    "    软地板或硬地板滚轮选项。\n",
    "    两种座椅泡沫密度可选：中等（1.8磅/立方英尺）或高（2.8磅/立方英尺）。\n",
    "    无扶手或8个位置PU扶手。\n",
    "\n",
    "材料\n",
    "外壳底座滑动件\n",
    "\n",
    "    改性尼龙PA6/PA66涂层的铸铝。\n",
    "    外壳厚度：10毫米。\n",
    "    座椅\n",
    "    HD36泡沫\n",
    "\n",
    "原产国\n",
    "\n",
    "    意大利\n",
    "\"\"\""
   ]
  },
  {
   "cell_type": "code",
   "execution_count": 6,
   "metadata": {},
   "outputs": [
    {
     "name": "stdout",
     "output_type": "stream",
     "text": [
      "产品描述：\n",
      "\n",
      "我们自豪地推出美丽的中世纪风格办公家具系列，其中包括文件柜、办公桌、书柜、会议桌等。我们的产品采用多种外壳颜色和底座涂层，以满足您的个性化需求。您可以选择塑料前后靠背装饰（SWC-100）或10种面料和6种皮革的全面装饰（SWC-110），以使您的办公室更加舒适和时尚。\n",
      "\n",
      "我们的底座涂层选项包括不锈钢、哑光黑色、光泽白色或铬，以满足您的不同需求。椅子可带或不带扶手，适用于家庭或商业场所。我们的产品符合合同使用资格，为您提供更加可靠的保障。\n",
      "\n",
      "我们的产品采用五个轮子的塑料涂层铝底座，气动椅子调节，方便升降。尺寸为宽度53厘米|20.87英寸，深度51厘米|20.08英寸，高度80厘米|31.50英寸，座椅高度44厘米|17.32英寸，座椅深度41厘米|16.14英寸，为您提供舒适的使用体验。\n",
      "\n",
      "我们的产品还提供软地板或硬地板滚轮选项，两种座椅泡沫密度可选：中等（1.8磅/立方英尺）或高（2.8磅/立方英尺），以及无扶手或8个位置PU扶手，以满足您的不同需求。\n",
      "\n",
      "我们的产品采用改性尼龙PA6/PA66涂层的铸铝外壳底座滑动件，外壳厚度为10毫米，座椅采用HD36泡沫，为您提供更加舒适的使用体验。我们的产品原产国为意大利，为您提供更加优质的品质保证。\n"
     ]
    }
   ],
   "source": [
    "# संकेत: निर्देशों के आधार पर एक मार्केटिंग विवरण बनाएं\n",
    "prompt = f\"\"\"\n",
    "您的任务是帮助营销团队基于技术说明书创建一个产品的营销描述。\n",
    "\n",
    "根据```标记的技术说明书中提供的信息，编写一个产品描述。\n",
    "\n",
    "技术说明: ```{fact_sheet_chair}```\n",
    "\"\"\"\n",
    "response = get_completion(prompt)\n",
    "print(response)\n"
   ]
  },
  {
   "attachments": {},
   "cell_type": "markdown",
   "metadata": {},
   "source": [
    "## 2.1 समस्या 1: उत्पन्न पाठ बहुत लंबा है\n",
    "\n",
    "ऐसा लगता है कि इसने काम अच्छी तरह से किया है, जो कि तकनीकी विशिष्टताओं से शुरू करके एक उत्कृष्ट मध्य-शताब्दी शैली की कार्यालय कुर्सी पेश करना है, लेकिन जब मैं इसे देखता हूं, तो मुझे लगता है कि यह बहुत लंबी है।\n",
    "\n",
    "इसलिए उपरोक्त प्रक्रिया में, विचार आने और परिणाम मिलने के बाद मैंने एक प्रॉम्प्ट लिखा, लेकिन मैं इससे बहुत संतुष्ट नहीं था क्योंकि यह बहुत लंबा था इसलिए मैंने अपने प्रॉम्प्ट को स्पष्ट किया और इसकी लंबाई सीमित करने के लिए कहा उत्पन्न टेक्सअधिकतम 50 शब्द।"
   ]
  },
  {
   "cell_type": "code",
   "execution_count": 21,
   "metadata": {},
   "outputs": [
    {
     "name": "stdout",
     "output_type": "stream",
     "text": [
      "Introducing our beautiful medieval-style office furniture collection, including filing cabinets, desks, bookcases, and conference tables. Choose from a variety of shell colors and base coatings, with optional plastic or fabric/leather decoration. The chair features a plastic-coated aluminum base with five wheels and pneumatic height adjustment. Perfect for home or commercial use. Made in Italy.\n"
     ]
    }
   ],
   "source": [
    "# अनुकूलित प्रॉम्प्ट के लिए आवश्यक है कि उत्पन्न विवरण 50 शब्दों से अधिक न हो\n",
    "prompt = f\"\"\"\n",
    "Your task is to help a marketing team create a \n",
    "description for a retail website of a product based \n",
    "on a technical fact sheet.\n",
    "\n",
    "Write a product description based on the information \n",
    "provided in the technical specifications delimited by \n",
    "triple backticks.\n",
    "\n",
    "Use at most 50 words.\n",
    "\n",
    "Technical specifications: ```{fact_sheet_chair}```\n",
    "\"\"\"\n",
    "response = get_completion(prompt)\n",
    "print(response)\n"
   ]
  },
  {
   "attachments": {},
   "cell_type": "markdown",
   "metadata": {},
   "source": [
    "उत्तर निकाला गया और रिक्त स्थान के आधार पर विभाजित किया गया, उत्तर 54 शब्दों का था, जो डिज़ाइन आवश्यकताओं को अच्छी तरह से पूरा करता था।"
   ]
  },
  {
   "cell_type": "code",
   "execution_count": 22,
   "metadata": {},
   "outputs": [
    {
     "name": "stdout",
     "output_type": "stream",
     "text": [
      "54\n"
     ]
    }
   ],
   "source": [
    "lst = response.split()\n",
    "print(len(lst))"
   ]
  },
  {
   "cell_type": "code",
   "execution_count": 10,
   "metadata": {},
   "outputs": [
    {
     "name": "stdout",
     "output_type": "stream",
     "text": [
      "中世纪风格办公家具系列，包括文件柜、办公桌、书柜、会议桌等。多种颜色和涂层可选，可带或不带扶手。底座涂层选项为不锈钢、哑光黑色、光泽白色或铬。适用于家庭或商业场所，符合合同使用资格。意大利制造。\n"
     ]
    }
   ],
   "source": [
    "# अनुकूलित प्रॉम्प्ट के लिए आवश्यक है कि उत्पन्न विवरण 50 शब्दों से अधिक न हो\n",
    "prompt = f\"\"\"\n",
    "您的任务是帮助营销团队基于技术说明书创建一个产品的零售网站描述。\n",
    "\n",
    "根据```标记的技术说明书中提供的信息，编写一个产品描述。\n",
    "\n",
    "使用最多50个词。\n",
    "\n",
    "技术规格：```{fact_sheet_chair}```\n",
    "\"\"\"\n",
    "response = get_completion(prompt)\n",
    "print(response)\n"
   ]
  },
  {
   "cell_type": "code",
   "execution_count": 11,
   "metadata": {},
   "outputs": [
    {
     "data": {
      "text/plain": [
       "97"
      ]
     },
     "execution_count": 11,
     "metadata": {},
     "output_type": "execute_result"
    }
   ],
   "source": [
    "# चूंकि चीनी भाषा में शब्द विभाजन की आवश्यकता होती है, इसलिए कुल लंबाई की गणना सीधे यहां की जाती है\n",
    "len(response)"
   ]
  },
  {
   "cell_type": "markdown",
   "metadata": {},
   "source": []
  },
  {
   "attachments": {},
   "cell_type": "markdown",
   "metadata": {},
   "source": [
    "एलएलएम सख्त शब्द गणना को पूरा करने में सक्षम है, लेकिन यह सटीक नहीं है, इस मामले में, अंग्रेजी आउटपुट 50 शब्दों का होना आवश्यक है, लेकिन कभी-कभी यह 60 या 65 शब्दों का आउटपुट देता है, जो उचित है कि एलएलएम टोकनाइज़र का उपयोग करता है पाठ की व्याख्या करें, लेकिन वे वर्णों की गिनती में औसत दर्जे के होते हैं। आपके द्वारा प्राप्त आउटपुट की लंबाई को नियंत्रित करने के कई अलग-अलग तरीके हैं (जैसे कि कई वाक्य/शब्द/अक्षर/अक्षर) आदि)।"
   ]
  },
  {
   "attachments": {},
   "cell_type": "markdown",
   "metadata": {},
   "source": [
    "## 2.2 समस्या 2: गलत पाठ विवरण\n",
    "\n",
    "जैसे-जैसे हम इस प्रचार पाठ में सुधार करना जारी रखते हैं, हम पाएंगे कि दूसरी समस्या यह है कि यह वेबसाइट सीधे उपभोक्ताओं को नहीं बेचती है, बल्कि वास्तव में फर्नीचर खुदरा विक्रेताओं के लिए लक्षित है, जो कुर्सी के तकनीकी विवरण और सामग्रियों के बारे में अधिक चिंतित हैं इस मामले में, आप कुर्सी के तकनीकी विवरणों का वर्णन करने में इसे और अधिक सटीक बनाने के लिए इस संकेत को संशोधित करना जारी रख सकते हैं।\n",
    "\n",
    "समाधान: लक्ष्य एयू से संबंधित पहलुओं पर ध्यान केंद्रित करने की आवश्यकता हैडाइन्स."
   ]
  },
  {
   "cell_type": "code",
   "execution_count": 13,
   "metadata": {},
   "outputs": [
    {
     "name": "stdout",
     "output_type": "stream",
     "text": [
      "Introducing our beautiful medieval-style office furniture collection, including file cabinets, desks, bookcases, and conference tables. Available in multiple shell colors and base coatings, with optional plastic or fabric/leather upholstery. Features a plastic-coated aluminum base with five wheels and pneumatic chair adjustment. Suitable for home or commercial use and made with high-quality materials, including cast aluminum with a modified nylon coating and HD36 foam. Made in Italy.\n"
     ]
    }
   ],
   "source": [
    "# अनुकूलित प्रॉम्प्ट बताता है कि ऑब्जेक्ट-ओरिएंटेड में कौन से गुण और पहलू होने चाहिए\n",
    "prompt = f\"\"\"\n",
    "Your task is to help a marketing team create a \n",
    "description for a retail website of a product based \n",
    "on a technical fact sheet.\n",
    "\n",
    "Write a product description based on the information \n",
    "provided in the technical specifications delimited by \n",
    "triple backticks.\n",
    "\n",
    "The description is intended for furniture retailers, \n",
    "so should be technical in nature and focus on the \n",
    "materials the product is constructed from.\n",
    "\n",
    "Use at most 50 words.\n",
    "\n",
    "Technical specifications: ```{fact_sheet_chair}```\n",
    "\"\"\"\n",
    "response = get_completion(prompt)\n",
    "print(response)"
   ]
  },
  {
   "cell_type": "code",
   "execution_count": 14,
   "metadata": {},
   "outputs": [
    {
     "name": "stdout",
     "output_type": "stream",
     "text": [
      "这款中世纪风格办公家具系列包括文件柜、办公桌、书柜和会议桌等，适用于家庭或商业场所。可选多种外壳颜色和底座涂层，底座涂层选项为不锈钢、哑光黑色、光泽白色或铬。椅子可带或不带扶手，可选软地板或硬地板滚轮，两种座椅泡沫密度可选。外壳底座滑动件采用改性尼龙PA6/PA66涂层的铸铝，座椅采用HD36泡沫。原产国为意大利。\n"
     ]
    }
   ],
   "source": [
    "# अनुकूलित प्रॉम्प्ट बताता है कि ऑब्जेक्ट-ओरिएंटेड में कौन से गुण और पहलू होने चाहिए\n",
    "prompt = f\"\"\"\n",
    "您的任务是帮助营销团队基于技术说明书创建一个产品的零售网站描述。\n",
    "\n",
    "根据```标记的技术说明书中提供的信息，编写一个产品描述。\n",
    "\n",
    "该描述面向家具零售商，因此应具有技术性质，并侧重于产品的材料构造。\n",
    "\n",
    "使用最多50个单词。\n",
    "\n",
    "技术规格： ```{fact_sheet_chair}```\n",
    "\"\"\"\n",
    "response = get_completion(prompt)\n",
    "print(response)"
   ]
  },
  {
   "cell_type": "markdown",
   "metadata": {},
   "source": []
  },
  {
   "attachments": {},
   "cell_type": "markdown",
   "metadata": {},
   "source": [
    "जैसा कि आप देख सकते हैं, प्रॉम्प्ट को संशोधित करके, मॉडल का ध्यान विशिष्ट सुविधाओं और तकनीकी विवरणों पर है।\n",
    "\n",
    "मैं विवरण के अंत में उत्पाद आईडी प्रदर्शित करना चाह सकता हूं, इसलिए, मैं इस प्रॉम्प्ट में और सुधार कर सकता हूं और आवश्यकता होगी कि मैनुअल में 7-अंकीय उत्पाद आईडी विवरण के अंत में प्रदर्शित की जाए।"
   ]
  },
  {
   "cell_type": "code",
   "execution_count": 15,
   "metadata": {},
   "outputs": [
    {
     "name": "stdout",
     "output_type": "stream",
     "text": [
      "Introducing our beautiful medieval-style office furniture collection, featuring file cabinets, desks, bookshelves, and conference tables. Available in multiple shell colors and base coatings, with optional plastic or fabric/leather decorations. The chair comes with or without armrests and has a plastic-coated aluminum base with five wheels and pneumatic height adjustment. Suitable for home or commercial use. Made in Italy.\n",
      "\n",
      "Product IDs: SWC-100, SWC-110\n"
     ]
    }
   ],
   "source": [
    "# एक कदम आगे बढ़ें और विवरण के अंत में 7-वर्ण वाली उत्पाद आईडी की आवश्यकता है\n",
    "prompt = f\"\"\"\n",
    "Your task is to help a marketing team create a \n",
    "description for a retail website of a product based \n",
    "on a technical fact sheet.\n",
    "\n",
    "Write a product description based on the information \n",
    "provided in the technical specifications delimited by \n",
    "triple backticks.\n",
    "\n",
    "The description is intended for furniture retailers, \n",
    "so should be technical in nature and focus on the \n",
    "materials the product is constructed from.\n",
    "\n",
    "At the end of the description, include every 7-character \n",
    "Product ID in the technical specification.\n",
    "\n",
    "Use at most 50 words.\n",
    "\n",
    "Technical specifications: ```{fact_sheet_chair}```\n",
    "\"\"\"\n",
    "response = get_completion(prompt)\n",
    "print(response)"
   ]
  },
  {
   "cell_type": "code",
   "execution_count": 16,
   "metadata": {},
   "outputs": [
    {
     "name": "stdout",
     "output_type": "stream",
     "text": [
      "这款中世纪风格的办公家具系列包括文件柜、办公桌、书柜和会议桌等，适用于家庭或商业场所。可选多种外壳颜色和底座涂层，底座涂层选项为不锈钢、哑光黑色、光泽白色或铬。椅子可带或不带扶手，可选塑料前后靠背装饰或10种面料和6种皮革的全面装饰。座椅采用HD36泡沫，可选中等或高密度，座椅高度44厘米，深度41厘米。外壳底座滑动件采用改性尼龙PA6/PA66涂层的铸铝，外壳厚度为10毫米。原产国为意大利。产品ID：SWC-100/SWC-110。\n"
     ]
    }
   ],
   "source": [
    "#एक कदम आगे जा रहे हैं\n",
    "prompt = f\"\"\"\n",
    "您的任务是帮助营销团队基于技术说明书创建一个产品的零售网站描述。\n",
    "\n",
    "根据```标记的技术说明书中提供的信息，编写一个产品描述。\n",
    "\n",
    "该描述面向家具零售商，因此应具有技术性质，并侧重于产品的材料构造。\n",
    "\n",
    "在描述末尾，包括技术规格中每个7个字符的产品ID。\n",
    "\n",
    "使用最多50个单词。\n",
    "\n",
    "技术规格： ```{fact_sheet_chair}```\n",
    "\"\"\"\n",
    "response = get_completion(prompt)\n",
    "print(response)"
   ]
  },
  {
   "cell_type": "markdown",
   "metadata": {},
   "source": []
  },
  {
   "cell_type": "markdown",
   "metadata": {},
   "source": [
    "उपरोक्त त्वरित विकास की पुनरावृत्तीय प्रक्रिया का एक संक्षिप्त उदाहरण है जिससे कई डेवलपर्स आमतौर पर गुजरते हैं। मेरी सलाह है कि संकेतों को स्पष्ट और स्पष्ट रखा जाना चाहिए, जैसा कि पिछले अध्याय में दिखाया गया है, और आवश्यक होने पर मॉडल को कुछ सोचने का समय दिया जाना चाहिए। इन आवश्यकताओं के आधार पर, एक सामान्य प्रक्रिया यह है कि पहले यह देखने के लिए संकेत का एक संस्करण लिखने का प्रयास करें कि क्या होता है, और फिर धीरे-धीरे वांछित परिणाम तक पहुंचने के लिए संकेत को दोहराना और सुधारना जारी रखेंइस पुनरावृत्तीय प्रक्रिया के माध्यम से सफल संकेत प्राप्त होते हैं। मैं आपको एक अधिक जटिल संकेत उदाहरण दिखाऊंगा जो आपको चैटजीपीटी की क्षमताओं की गहरी समझ प्रदान कर सकता है।"
   ]
  },
  {
   "attachments": {},
   "cell_type": "markdown",
   "metadata": {},
   "source": [
    "## 2.3 प्रश्न 3: तालिका विवरण जोड़ें\n",
    "उत्पाद आकार की जानकारी निकालने और उसे एक तालिका में व्यवस्थित करने के लिए निर्देश जोड़ना जारी रखें, और तालिका कॉलम, तालिका नाम और प्रारूप निर्दिष्ट करें, फिर सभी सामग्री को HTML में प्रारूपित करें जिसका उपयोग वेब पेज पर किया जा सकता है।"
   ]
  },
  {
   "cell_type": "code",
   "execution_count": 17,
   "metadata": {},
   "outputs": [
    {
     "name": "stdout",
     "output_type": "stream",
     "text": [
      "<div>\n",
      "  <p>Introducing our beautiful collection of medieval-style office furniture, including file cabinets, desks, bookcases, and conference tables. Choose from a variety of shell colors and base coatings. You can opt for plastic front and backrest decoration (SWC-100) or full decoration with 10 fabrics and 6 leathers (SWC-110). Base coating options include stainless steel, matte black, glossy white, or chrome. The chair is available with or without armrests and is suitable for both home and commercial settings. It is contract eligible.</p>\n",
      "  <p>The structure features a plastic-coated aluminum base with five wheels. The chair is pneumatically adjustable for easy height adjustment.</p>\n",
      "  <p>Product IDs: SWC-100, SWC-110</p>\n",
      "  <table>\n",
      "    <caption>Product Dimensions</caption>\n",
      "    <tr>\n",
      "      <td>Width</td>\n",
      "      <td>20.87 inches</td>\n",
      "    </tr>\n",
      "    <tr>\n",
      "      <td>Depth</td>\n",
      "      <td>20.08 inches</td>\n",
      "    </tr>\n",
      "    <tr>\n",
      "      <td>Height</td>\n",
      "      <td>31.50 inches</td>\n",
      "    </tr>\n",
      "    <tr>\n",
      "      <td>Seat Height</td>\n",
      "      <td>17.32 inches</td>\n",
      "    </tr>\n",
      "    <tr>\n",
      "      <td>Seat Depth</td>\n",
      "      <td>16.14 inches</td>\n",
      "    </tr>\n",
      "  </table>\n",
      "  <p>Options include soft or hard floor casters. You can choose from two seat foam densities: medium (1.8 pounds/cubic foot) or high (2.8 pounds/cubic foot). The chair is available with or without 8-position PU armrests.</p>\n",
      "  <p>Materials:</p>\n",
      "  <ul>\n",
      "    <li>Shell, base, and sliding parts: cast aluminum coated with modified nylon PA6/PA66. Shell thickness: 10mm.</li>\n",
      "    <li>Seat: HD36 foam</li>\n",
      "  </ul>\n",
      "  <p>Made in Italy.</p>\n",
      "</div>\n"
     ]
    }
   ],
   "source": [
    "#इसे जानकारी निकालने और इसे एक तालिका में व्यवस्थित करने के लिए कहें, और तालिका के कॉलम, तालिका का नाम और प्रारूप निर्दिष्ट करें\n",
    "prompt = f\"\"\"\n",
    "Your task is to help a marketing team create a \n",
    "description for a retail website of a product based \n",
    "on a technical fact sheet.\n",
    "\n",
    "Write a product description based on the information \n",
    "provided in the technical specifications delimited by \n",
    "triple backticks.\n",
    "\n",
    "The description is intended for furniture retailers, \n",
    "so should be technical in nature and focus on the \n",
    "materials the product is constructed from.\n",
    "\n",
    "At the end of the description, include every 7-character \n",
    "Product ID in the technical specification.\n",
    "\n",
    "After the description, include a table that gives the \n",
    "product's dimensions. The table should have two columns.\n",
    "In the first column include the name of the dimension. \n",
    "In the second column include the measurements in inches only.\n",
    "\n",
    "Give the table the title 'Product Dimensions'.\n",
    "\n",
    "Format everything as HTML that can be used in a website. \n",
    "Place the description in a <div> element.\n",
    "\n",
    "Technical specifications: ```{fact_sheet_chair}```\n",
    "\"\"\"\n",
    "\n",
    "response = get_completion(prompt)\n",
    "print(response)"
   ]
  },
  {
   "cell_type": "code",
   "execution_count": 18,
   "metadata": {},
   "outputs": [
    {
     "data": {
      "text/html": [
       "<div>\n",
       "  <p>Introducing our beautiful collection of medieval-style office furniture, including file cabinets, desks, bookcases, and conference tables. Choose from a variety of shell colors and base coatings. You can opt for plastic front and backrest decoration (SWC-100) or full decoration with 10 fabrics and 6 leathers (SWC-110). Base coating options include stainless steel, matte black, glossy white, or chrome. The chair is available with or without armrests and is suitable for both home and commercial settings. It is contract eligible.</p>\n",
       "  <p>The structure features a plastic-coated aluminum base with five wheels. The chair is pneumatically adjustable for easy height adjustment.</p>\n",
       "  <p>Product IDs: SWC-100, SWC-110</p>\n",
       "  <table>\n",
       "    <caption>Product Dimensions</caption>\n",
       "    <tr>\n",
       "      <td>Width</td>\n",
       "      <td>20.87 inches</td>\n",
       "    </tr>\n",
       "    <tr>\n",
       "      <td>Depth</td>\n",
       "      <td>20.08 inches</td>\n",
       "    </tr>\n",
       "    <tr>\n",
       "      <td>Height</td>\n",
       "      <td>31.50 inches</td>\n",
       "    </tr>\n",
       "    <tr>\n",
       "      <td>Seat Height</td>\n",
       "      <td>17.32 inches</td>\n",
       "    </tr>\n",
       "    <tr>\n",
       "      <td>Seat Depth</td>\n",
       "      <td>16.14 inches</td>\n",
       "    </tr>\n",
       "  </table>\n",
       "  <p>Options include soft or hard floor casters. You can choose from two seat foam densities: medium (1.8 pounds/cubic foot) or high (2.8 pounds/cubic foot). The chair is available with or without 8-position PU armrests.</p>\n",
       "  <p>Materials:</p>\n",
       "  <ul>\n",
       "    <li>Shell, base, and sliding parts: cast aluminum coated with modified nylon PA6/PA66. Shell thickness: 10mm.</li>\n",
       "    <li>Seat: HD36 foam</li>\n",
       "  </ul>\n",
       "  <p>Made in Italy.</p>\n",
       "</div>"
      ],
      "text/plain": [
       "<IPython.core.display.HTML object>"
      ]
     },
     "metadata": {},
     "output_type": "display_data"
    }
   ],
   "source": [
    "# तालिका HTML प्रारूप में प्रस्तुत की गई है और लोड की गई है\n",
    "from IPython.display import display, HTML\n",
    "\n",
    "display(HTML(response))"
   ]
  },
  {
   "cell_type": "code",
   "execution_count": 19,
   "metadata": {},
   "outputs": [
    {
     "name": "stdout",
     "output_type": "stream",
     "text": [
      "<div>\n",
      "<h2>中世纪风格办公家具系列椅子</h2>\n",
      "<p>这款椅子是中世纪风格办公家具系列的一部分，适用于家庭或商业场所。它有多种外壳颜色和底座涂层可选，包括不锈钢、哑光黑色、光泽白色或铬。您可以选择带或不带扶手的椅子，以及软地板或硬地板滚轮选项。此外，您可以选择两种座椅泡沫密度：中等（1.8磅/立方英尺）或高（2.8磅/立方英尺）。</p>\n",
      "<p>椅子的外壳底座滑动件是改性尼龙PA6/PA66涂层的铸铝，外壳厚度为10毫米。座椅采用HD36泡沫，底座是五个轮子的塑料涂层铝底座，可以进行气动椅子调节，方便升降。此外，椅子符合合同使用资格，是您理想的选择。</p>\n",
      "<p>产品ID：SWC-100</p>\n",
      "</div>\n",
      "\n",
      "<table>\n",
      "  <caption>产品尺寸</caption>\n",
      "  <tr>\n",
      "    <th>宽度</th>\n",
      "    <td>20.87英寸</td>\n",
      "  </tr>\n",
      "  <tr>\n",
      "    <th>深度</th>\n",
      "    <td>20.08英寸</td>\n",
      "  </tr>\n",
      "  <tr>\n",
      "    <th>高度</th>\n",
      "    <td>31.50英寸</td>\n",
      "  </tr>\n",
      "  <tr>\n",
      "    <th>座椅高度</th>\n",
      "    <td>17.32英寸</td>\n",
      "  </tr>\n",
      "  <tr>\n",
      "    <th>座椅深度</th>\n",
      "    <td>16.14英寸</td>\n",
      "  </tr>\n",
      "</table>\n"
     ]
    }
   ],
   "source": [
    "#इसे जानकारी निकालने और इसे एक तालिका में व्यवस्थित करने के लिए कहें, और तालिका के कॉलम, तालिका का नाम और प्रारूप निर्दिष्ट करें\n",
    "prompt = f\"\"\"\n",
    "您的任务是帮助营销团队基于技术说明书创建一个产品的零售网站描述。\n",
    "\n",
    "根据```标记的技术说明书中提供的信息，编写一个产品描述。\n",
    "\n",
    "该描述面向家具零售商，因此应具有技术性质，并侧重于产品的材料构造。\n",
    "\n",
    "在描述末尾，包括技术规格中每个7个字符的产品ID。\n",
    "\n",
    "在描述之后，包括一个表格，提供产品的尺寸。表格应该有两列。第一列包括尺寸的名称。第二列只包括英寸的测量值。\n",
    "\n",
    "给表格命名为“产品尺寸”。\n",
    "\n",
    "将所有内容格式化为可用于网站的HTML格式。将描述放在<div>元素中。\n",
    "\n",
    "技术规格：```{fact_sheet_chair}```\n",
    "\"\"\"\n",
    "\n",
    "response = get_completion(prompt)\n",
    "print(response)"
   ]
  },
  {
   "cell_type": "code",
   "execution_count": 20,
   "metadata": {},
   "outputs": [
    {
     "data": {
      "text/html": [
       "<div>\n",
       "<h2>中世纪风格办公家具系列椅子</h2>\n",
       "<p>这款椅子是中世纪风格办公家具系列的一部分，适用于家庭或商业场所。它有多种外壳颜色和底座涂层可选，包括不锈钢、哑光黑色、光泽白色或铬。您可以选择带或不带扶手的椅子，以及软地板或硬地板滚轮选项。此外，您可以选择两种座椅泡沫密度：中等（1.8磅/立方英尺）或高（2.8磅/立方英尺）。</p>\n",
       "<p>椅子的外壳底座滑动件是改性尼龙PA6/PA66涂层的铸铝，外壳厚度为10毫米。座椅采用HD36泡沫，底座是五个轮子的塑料涂层铝底座，可以进行气动椅子调节，方便升降。此外，椅子符合合同使用资格，是您理想的选择。</p>\n",
       "<p>产品ID：SWC-100</p>\n",
       "</div>\n",
       "\n",
       "<table>\n",
       "  <caption>产品尺寸</caption>\n",
       "  <tr>\n",
       "    <th>宽度</th>\n",
       "    <td>20.87英寸</td>\n",
       "  </tr>\n",
       "  <tr>\n",
       "    <th>深度</th>\n",
       "    <td>20.08英寸</td>\n",
       "  </tr>\n",
       "  <tr>\n",
       "    <th>高度</th>\n",
       "    <td>31.50英寸</td>\n",
       "  </tr>\n",
       "  <tr>\n",
       "    <th>座椅高度</th>\n",
       "    <td>17.32英寸</td>\n",
       "  </tr>\n",
       "  <tr>\n",
       "    <th>座椅深度</th>\n",
       "    <td>16.14英寸</td>\n",
       "  </tr>\n",
       "</table>"
      ],
      "text/plain": [
       "<IPython.core.display.HTML object>"
      ]
     },
     "metadata": {},
     "output_type": "display_data"
    }
   ],
   "source": [
    "# तालिका HTML प्रारूप में प्रस्तुत की गई है और लोड की गई है\n",
    "from IPython.display import display, HTML\n",
    "\n",
    "display(HTML(response))"
   ]
  },
  {
   "cell_type": "markdown",
   "metadata": {},
   "source": []
  },
  {
   "attachments": {},
   "cell_type": "markdown",
   "metadata": {},
   "source": [
    "यह अध्याय विकासशील अनुप्रयोगों में एलएलएम की पुनरावृत्तीय त्वरित विकास प्रक्रिया पर केंद्रित है। डेवलपर्स को पहले संकेतों को लिखने का प्रयास करना होगा, और फिर धीरे-धीरे पुनरावृत्तियों के माध्यम से उन्हें सुधारना होगा जब तक कि उन्हें वांछित परिणाम न मिल जाएं। एक कुशल त्वरित इंजीनियर के रूप में, कुंजी इसमें महारत हासिल करना है कुछ अधिक जटिल अनुप्रयोगों के लिए \"संपूर्ण\" संकेत प्राप्त करने की बजाय, प्रभावी ढंग से संकेतों को विकसित करने की प्रक्रिया, आप एकाधिक नमूनों (जैसे कि सैकड़ों मनु) के लिए संकेतों को पुनरावृत्त रूप से विकसित कर सकते हैंएएलएस) और नमूना सेट पर उनका मूल्यांकन करें।\n",
    "\n",
    "अंत में, अधिक परिपक्व अनुप्रयोगों में, आप कई नमूना सेटों पर कई संकेतों के प्रदर्शन का निरीक्षण कर सकते हैं और औसत या सबसे खराब प्रदर्शन का परीक्षण कर सकते हैं, लेकिन आम तौर पर, **केवल** जब** एप्लिकेशन अधिक परिपक्व होता है, तो इसका उपयोग करने की अनुशंसा की जाती है इस मूल्यांकन पद्धति में सुधार जारी रखें।\n",
    "\n",
    "कृपया इस अनुभाग में दिए गए उदाहरणों का अभ्यास करने, विभिन्न विविधताओं को आज़माने और परिणाम देखने के लिए ज्यूपिटर नोटबुक का उपयोग करें।"
   ]
  }
 ],
 "metadata": {
  "kernelspec": {
   "display_name": "Python 3",
   "language": "python",
   "name": "python3"
  },
  "language_info": {
   "codemirror_mode": {
    "name": "ipython",
    "version": 3
   },
   "file_extension": ".py",
   "mimetype": "text/x-python",
   "name": "python",
   "nbconvert_exporter": "python",
   "pygments_lexer": "ipython3",
   "version": "3.8.13"
  },
  "latex_envs": {
   "LaTeX_envs_menu_present": true,
   "autoclose": false,
   "autocomplete": true,
   "bibliofile": "biblio.bib",
   "cite_by": "apalike",
   "current_citInitial": 1,
   "eqLabelWithNumbers": true,
   "eqNumInitial": 1,
   "hotkeys": {
    "equation": "Ctrl-E",
    "itemize": "Ctrl-I"
   },
   "labels_anchors": false,
   "latex_user_defs": false,
   "report_style_numbering": false,
   "user_envs_cfg": false
  },
  "toc": {
   "base_numbering": 1,
   "nav_menu": {},
   "number_sections": true,
   "sideBar": true,
   "skip_h1_title": false,
   "title_cell": "Table of Contents",
   "title_sidebar": "Contents",
   "toc_cell": false,
   "toc_position": {},
   "toc_section_display": true,
   "toc_window_display": true
  }
 },
 "nbformat": 4,
 "nbformat_minor": 4
}
