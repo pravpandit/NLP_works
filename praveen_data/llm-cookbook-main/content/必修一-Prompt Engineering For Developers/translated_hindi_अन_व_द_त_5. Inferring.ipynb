{
 "cells": [
  {
   "cell_type": "markdown",
   "id": "3630c235-f891-4874-bd0a-5277d4d6aa82",
   "metadata": {},
   "source": [
    "# अध्याय 5 अनुमान\n",
    "\n",
    "इस पाठ में, आप उत्पाद समीक्षाओं और समाचार लेखों से भावनाओं और विषयों का अनुमान लगाएंगे।"
   ]
  },
  {
   "cell_type": "markdown",
   "id": "aeb0eaf6",
   "metadata": {},
   "source": [
    "<div class='toc'>\n",
    "<उल क्लास='टोक-आइटम'>\n",
    "<li><span><a href='#一 परिचय' data-toc-modified-id='1. परिचय'>1. परिचय</a></span></li>\n",
    "<ली>\n",
    "<span><a href='#二 भावना और सूचना निष्कर्षण' data-toc-modified-id='2. भावना और सूचना निष्कर्षण'> 2. भावना और सूचना निष्कर्षण</a></span>\n",
    "<उल क्लास='टोक-आइटम'>\n",
    "<li><span><a href='#21-भावना पूर्वाग्रह विश्लेषण' data-toc-modified-id='2.1 भावना पूर्वाग्रह विश्लेषण'>2.1 भावना पूर्वाग्रह विश्लेषण</a></span></li>\n",
    "<li><span><a href='#22-भावनात्मक प्रकार की पहचान करें' data-toc-modified-id='2.2 भावनात्मक प्रकार की पहचान करें'>2.2 भावनात्मक प्रकार की पहचान करें</a></span></li>\n",
    "<li><span><a href='#23-क्रोध को पहचानें' data-toc-modified-id='2.3 क्रोध को पहचानें'>2.3 पहचानेंक्रोध</a></span></li>\n",
    "<li><span><a href=\"#24-उत्पाद जानकारी निष्कर्षण\" data-toc-modified-id=\"2.4 उत्पाद जानकारी निष्कर्षण\">2.4 उत्पाद जानकारी निष्कर्षण</a></span></li>\n",
    "<li><span><a href='#25-कार्यों का व्यापक समापन' data-toc-modified-id='2.5 कार्यों का व्यापक समापन'>2.5 कार्यों का व्यापक समापन</a></span></ ली>\n",
    "</ul>\n",
    "</li>\n",
    "<li><span><a href='#तीन विषय अनुमान' data-toc-modified-id='तीन, विषय अनुमान'>तीन, विषय अनुमान</a></span></li>\n",
    "<उल क्लास='टोक-आइटम'>\n",
    "<li><span><a href=\"#31-चर्चा विषय का अनुमान लगाएं\" data-toc-modified-id=\"3.1 चर्चा विषय का अनुमान लगाएं\">3.1 चर्चा के विषय का अनुमान लगाएं</a></span></li >\n",
    "<li><span><a href='#32-विशिष्ट विषयों के लिए समाचार अलर्ट बनाएं' data-toc-modified-id='3.2 विशिष्ट विषयों के लिए समाचार अलर्ट बनाएं'>3.2 विशिष्ट विषयों के लिए समाचार अलर्ट बनाएं</a> </span></li>\n",
    "</ul>\n",
    "</ul>\n",
    "</div>"
   ]
  },
  {
   "cell_type": "markdown",
   "id": "5f3abbee",
   "metadata": {},
   "source": [
    "## 1 परिचय\n",
    "\n",
    "एक अनुमान कार्य को एक ऐसी प्रक्रिया के रूप में सोचा जा सकता है जहां एक मॉडल इनपुट के रूप में पाठ प्राप्त करता है और किसी प्रकार का विश्लेषण करता है। इसमें लेबल निकालना, संस्थाओं को निकालना, पाठ भावना को समझना आदि शामिल है पाठ का एक टुकड़ा, एक पारंपरिक मशीन लर्निंग वर्कफ़्लो में, आपको एक लेबल डेटासेट इकट्ठा करना होगा, एक मॉडल को प्रशिक्षित करना होगा, यह पता लगाना होगा कि मॉडल को क्लाउड में कैसे तैनात किया जाए, और अनुमान लगाना अच्छा हो सकता हैएल, लेकिन पूरी प्रक्रिया को निष्पादित करने में बहुत काम लगता है और प्रत्येक कार्य के लिए, जैसे कि भावना विश्लेषण, संस्थाओं को निकालना, और इसी तरह, आपको एक अलग मॉडल को प्रशिक्षित करने और तैनात करने की आवश्यकता होती है।\n",
    "\n",
    "एलएलएम की एक बहुत अच्छी विशेषता यह है कि इनमें से कई कार्यों के लिए, आपको बहुत अधिक काम किए बिना परिणाम उत्पन्न करने के लिए केवल एक संकेत लिखना होगा। इससे एप्लिकेशन विकास में काफी तेजी आती है। इसके लिए आप केवल एक मॉडल और एक एपीआई का भी उपयोग कर सकते हैं यह जाने बिना कि कैसे प्रशिक्षित किया जाए, कई अलग-अलग कार्य निष्पादित करेंn और कई अलग-अलग मॉडल तैनात करें।"
   ]
  },
  {
   "cell_type": "code",
   "execution_count": 1,
   "id": "a821d943",
   "metadata": {
    "height": 132
   },
   "outputs": [],
   "source": [
    "import openai\n",
    "# तृतीय-पक्ष लाइब्रेरी आयात करें\n",
    "\n",
    "openai.api_key = \"sk-...\"\n",
    "# API_KEY सेट करें, कृपया इसे अपनी API_KEY से बदलें"
   ]
  },
  {
   "cell_type": "code",
   "execution_count": 2,
   "id": "e82f5577",
   "metadata": {
    "height": 164
   },
   "outputs": [],
   "source": [
    "def get_completion(prompt, model=\"gpt-3.5-turbo\"):\n",
    "    messages = [{\"role\": \"user\", \"content\": prompt}]\n",
    "    response = openai.ChatCompletion.create(\n",
    "        model=model,\n",
    "        messages=messages,\n",
    "        temperature=0, # this is the degree of randomness of the model's output\n",
    "    )\n",
    "    return response.choices[0].message[\"content\"]"
   ]
  },
  {
   "cell_type": "markdown",
   "id": "51d2fdfa-c99f-4750-8574-dba7712cd7f0",
   "metadata": {},
   "source": [
    "## 2. भावना अनुमान और सूचना निष्कर्षण\n",
    "### 2.1 भावना वर्गीकरण\n",
    "\n",
    "उदाहरण के तौर पर किसी ई-कॉमर्स प्लेटफॉर्म पर डेस्क लैंप के बारे में की गई टिप्पणियों को लें, इससे व्यक्त होने वाली भावनाओं को दो श्रेणियों (सकारात्मक/नकारात्मक) में वर्गीकृत किया जा सकता है।"
   ]
  },
  {
   "cell_type": "code",
   "execution_count": 3,
   "id": "b0f3b49b",
   "metadata": {
    "height": 200
   },
   "outputs": [],
   "source": [
    "lamp_review = \"\"\"\n",
    "Needed a nice lamp for my bedroom, and this one had \\\n",
    "additional storage and not too high of a price point. \\\n",
    "Got it fast.  The string to our lamp broke during the \\\n",
    "transit and the company happily sent over a new one. \\\n",
    "Came within a few days as well. It was easy to put \\\n",
    "together.  I had a missing part, so I contacted their \\\n",
    "support and they very quickly got me the missing piece! \\\n",
    "Lumina seems to me to be a great company that cares \\\n",
    "about their customers and products!!\n",
    "\"\"\""
   ]
  },
  {
   "cell_type": "code",
   "execution_count": 4,
   "id": "bc6260f0",
   "metadata": {},
   "outputs": [],
   "source": [
    "#中文\n",
    "lamp_review_zh = \"\"\"\n",
    "我需要一盏漂亮的卧室灯，这款灯具有额外的储物功能，价格也不算太高。\\\n",
    "我很快就收到了它。在运输过程中，我们的灯绳断了，但是公司很乐意寄送了一个新的。\\\n",
    "几天后就收到了。这款灯很容易组装。我发现少了一个零件，于是联系了他们的客服，他们很快就给我寄来了缺失的零件！\\\n",
    "在我看来，Lumina 是一家非常关心顾客和产品的优秀公司！\n",
    "\"\"\""
   ]
  },
  {
   "cell_type": "markdown",
   "id": "cc4ec4ca",
   "metadata": {},
   "source": []
  },
  {
   "cell_type": "markdown",
   "id": "30d6e4bd-3337-45a3-8c99-a734cdd06743",
   "metadata": {},
   "source": [
    "अब आइए इस समीक्षा की भावना को वर्गीकृत करने के लिए एक संकेत लिखें। अगर मैं चाहता हूं कि सिस्टम मुझे बताए कि इस समीक्षा की भावना क्या है, तो मैं सामान्य विभाजकों के साथ \"निम्नलिखित उत्पाद समीक्षा की भावना क्या है\" लिखता हूं। समीक्षा पाठ, आदि\n",
    "\n",
    "फिर चलिए इसे चलाते हैं। परिणाम बताते हैं कि इस उत्पाद की समीक्षा की भावना सकारात्मक है, जो बहुत सही प्रतीत होती है। हालांकि यह लैंप सही नहीं है, लेकिन यह ग्राहक बहुत संतुष्ट प्रतीत होता हैny जो अपने ग्राहकों और उत्पादों की परवाह करता है, और यह माना जा सकता है कि सकारात्मक भावना ही सही उत्तर प्रतीत होती है।"
   ]
  },
  {
   "cell_type": "code",
   "execution_count": 5,
   "id": "e3157601",
   "metadata": {
    "height": 149
   },
   "outputs": [
    {
     "name": "stdout",
     "output_type": "stream",
     "text": [
      "The sentiment of the product review is positive.\n"
     ]
    }
   ],
   "source": [
    "prompt = f\"\"\"\n",
    "What is the sentiment of the following product review, \n",
    "which is delimited with triple backticks?\n",
    "\n",
    "Review text: ```{lamp_review}```\n",
    "\"\"\"\n",
    "response = get_completion(prompt)\n",
    "print(response)"
   ]
  },
  {
   "cell_type": "code",
   "execution_count": 6,
   "id": "ac5b0bb9",
   "metadata": {},
   "outputs": [
    {
     "name": "stdout",
     "output_type": "stream",
     "text": [
      "情感是积极的/正面的。\n"
     ]
    }
   ],
   "source": [
    "#中文\n",
    "prompt = f\"\"\"\n",
    "以下用三个反引号分隔的产品评论的情感是什么？\n",
    "\n",
    "评论文本: ```{lamp_review_zh}```\n",
    "\"\"\"\n",
    "response = get_completion(prompt)\n",
    "print(response)"
   ]
  },
  {
   "cell_type": "markdown",
   "id": "a562e656",
   "metadata": {},
   "source": []
  },
  {
   "cell_type": "markdown",
   "id": "76be2320",
   "metadata": {},
   "source": [
    "यदि आप अधिक संक्षिप्त उत्तर देना चाहते हैं ताकि पोस्ट-प्रोसेस करना आसान हो, तो आप उपरोक्त संकेत में एक और कमांड जोड़ सकते हैं: *एक शब्द के साथ उत्तर दें: \"सकारात्मक\" या \"नकारात्मक\"* यह केवल शब्द को प्रिंट करेगा \"सकारात्मक\", जो आउटपुट को बाद के प्रसंस्करण के लिए अधिक समान और सुविधाजनक बनाता है।"
   ]
  },
  {
   "cell_type": "code",
   "execution_count": 7,
   "id": "acf9ca16",
   "metadata": {
    "height": 200
   },
   "outputs": [
    {
     "name": "stdout",
     "output_type": "stream",
     "text": [
      "positive\n"
     ]
    }
   ],
   "source": [
    "prompt = f\"\"\"\n",
    "What is the sentiment of the following product review, \n",
    "which is delimited with triple backticks?\n",
    "\n",
    "Give your answer as a single word, either \"positive\" \\\n",
    "or \"negative\".\n",
    "\n",
    "Review text: ```{lamp_review}```\n",
    "\"\"\"\n",
    "response = get_completion(prompt)\n",
    "print(response)"
   ]
  },
  {
   "cell_type": "code",
   "execution_count": 8,
   "id": "84a761b3",
   "metadata": {},
   "outputs": [
    {
     "name": "stdout",
     "output_type": "stream",
     "text": [
      "正面\n"
     ]
    }
   ],
   "source": [
    "prompt = f\"\"\"\n",
    "以下用三个反引号分隔的产品评论的情感是什么？\n",
    "\n",
    "用一个单词回答：「正面」或「负面」。\n",
    "\n",
    "评论文本: ```{lamp_review_zh}```\n",
    "\"\"\"\n",
    "response = get_completion(prompt)\n",
    "print(response)"
   ]
  },
  {
   "cell_type": "markdown",
   "id": "81d2a973-1fa4-4a35-ae35-a2e746c0e91b",
   "metadata": {},
   "source": [
    "### 2.2 भावना प्रकार को पहचानें\n",
    "\n",
    "अभी भी लैंप टिप्पणी का उपयोग कर रहे हैं, आइए एक और संकेत का प्रयास करें इस बार मुझे टिप्पणी लेखक द्वारा व्यक्त की गई भावना की पहचान करने और इसे पांच से अधिक वस्तुओं की सूची में सारांशित करने की आवश्यकता है।"
   ]
  },
  {
   "cell_type": "code",
   "execution_count": 9,
   "id": "8aa7934b",
   "metadata": {
    "height": 183
   },
   "outputs": [
    {
     "name": "stdout",
     "output_type": "stream",
     "text": [
      "satisfied, grateful, impressed, content, pleased\n"
     ]
    }
   ],
   "source": [
    "prompt = f\"\"\"\n",
    "Identify a list of emotions that the writer of the \\\n",
    "following review is expressing. Include no more than \\\n",
    "five items in the list. Format your answer as a list of \\\n",
    "lower-case words separated by commas.\n",
    "\n",
    "Review text: ```{lamp_review}```\n",
    "\"\"\"\n",
    "response = get_completion(prompt)\n",
    "print(response)"
   ]
  },
  {
   "cell_type": "code",
   "execution_count": 10,
   "id": "e615c13a",
   "metadata": {},
   "outputs": [
    {
     "name": "stdout",
     "output_type": "stream",
     "text": [
      "满意,感激,信任,赞扬,愉快\n"
     ]
    }
   ],
   "source": [
    "#中文\n",
    "prompt = f\"\"\"\n",
    "识别以下评论的作者表达的情感。包含不超过五个项目。将答案格式化为以逗号分隔的单词列表。\n",
    "\n",
    "评论文本: ```{lamp_review_zh}```\n",
    "\"\"\"\n",
    "response = get_completion(prompt)\n",
    "print(response)"
   ]
  },
  {
   "cell_type": "markdown",
   "id": "c7743a53",
   "metadata": {},
   "source": []
  },
  {
   "cell_type": "markdown",
   "id": "cc4444f7",
   "metadata": {},
   "source": [
    "बड़े भाषा मॉडल पाठ के एक टुकड़े से विशिष्ट चीजें निकालने में बहुत अच्छे हैं। उपरोक्त उदाहरण में, समीक्षाओं द्वारा व्यक्त की गई भावना यह समझने में मदद करती है कि ग्राहक किसी विशिष्ट उत्पाद को कैसे देखते हैं।"
   ]
  },
  {
   "cell_type": "markdown",
   "id": "a428d093-51c9-461c-b41e-114e80876409",
   "metadata": {},
   "source": [
    "### 2.3 क्रोध को पहचानना\n",
    "\n",
    "कई व्यवसायों के लिए, यह जानना महत्वपूर्ण है कि क्या कोई ग्राहक बहुत क्रोधित है, इसलिए निम्नलिखित वर्गीकरण प्रश्न उठता है: क्या निम्नलिखित समीक्षा का लेखक क्रोध व्यक्त कर रहा है, क्योंकि यदि कोई वास्तव में क्रोधित है, तो उस पर अतिरिक्त ध्यान देना उचित होगा ग्राहक सहायता या ग्राहक सफलता टीम स्थिति को समझने और ग्राहक के लिए समस्या का समाधान करने के लिए ग्राहक से संपर्क करती है।"
   ]
  },
  {
   "cell_type": "code",
   "execution_count": 11,
   "id": "dba1a538",
   "metadata": {
    "height": 166
   },
   "outputs": [
    {
     "name": "stdout",
     "output_type": "stream",
     "text": [
      "No\n"
     ]
    }
   ],
   "source": [
    "prompt = f\"\"\"\n",
    "Is the writer of the following review expressing anger?\\\n",
    "The review is delimited with triple backticks. \\\n",
    "Give your answer as either yes or no.\n",
    "\n",
    "Review text: ```{lamp_review}```\n",
    "\"\"\"\n",
    "response = get_completion(prompt)\n",
    "print(response)"
   ]
  },
  {
   "cell_type": "code",
   "execution_count": 12,
   "id": "85bad324",
   "metadata": {},
   "outputs": [
    {
     "name": "stdout",
     "output_type": "stream",
     "text": [
      "否\n"
     ]
    }
   ],
   "source": [
    "#中文\n",
    "prompt = f\"\"\"\n",
    "以下评论的作者是否表达了愤怒？评论用三个反引号分隔。给出是或否的答案。\n",
    "\n",
    "评论文本: ```{lamp_review_zh}```\n",
    "\"\"\"\n",
    "response = get_completion(prompt)\n",
    "print(response)"
   ]
  },
  {
   "cell_type": "markdown",
   "id": "77905fd8",
   "metadata": {},
   "source": []
  },
  {
   "cell_type": "markdown",
   "id": "11ca57a2",
   "metadata": {},
   "source": [
    "उपरोक्त उदाहरण में, ग्राहक नाराज नहीं है। ध्यान दें कि यदि आप नियमित पर्यवेक्षित शिक्षण का उपयोग करके इन सभी क्लासिफायर का निर्माण करते हैं, तो आप कुछ मिनटों में ऐसा नहीं कर पाएंगे। हम आपको इनमें से कुछ को बदलने का प्रयास करने के लिए प्रोत्साहित करते हैं संकेत, शायद यह पूछना कि क्या ग्राहक ने खुशी व्यक्त की, या यह पूछना कि क्या कोई भाग गायब है, और देखें कि क्या आपको इस प्रकाश स्थिरता समीक्षा के बारे में अलग-अलग अनुमान लगाने के लिए संकेत मिल सकता है।"
   ]
  },
  {
   "cell_type": "markdown",
   "id": "936a771e-ca78-4e55-8088-2da6f3820ddc",
   "metadata": {},
   "source": [
    "### 2.4 उत्पाद जानकारी निकालना\n",
    "\n",
    "इसके बाद, आइए ग्राहक समीक्षाओं से समृद्ध जानकारी निकालें। सूचना निष्कर्षण प्राकृतिक भाषा प्रसंस्करण (एनएलपी) का एक हिस्सा है जो पाठ से कुछ चीजें निकालने से संबंधित है, इसलिए इस संकेत में, मैंने इसे निम्नलिखित की पहचान करने के लिए कहा उस कंपनी का नाम जिसने वस्तु खरीदी और जिसने उसे बनाया।\n",
    "\n",
    "इसी तरह, यदि आप किसी ऑनलाइन शॉपिंग ई-कॉमर्स साइट के लिए कई समीक्षाओं को संक्षेप में प्रस्तुत करने का प्रयास कर रहे हैं, तो उन समीक्षाओं के लिए, गणना करेंआइटम क्या है, आइटम किसने बनाया है, और सकारात्मक और नकारात्मक भावनाओं का पता लगाने से किसी विशेष आइटम या निर्माता के लिए उपयोगकर्ता की भावना के रुझान को ट्रैक करने में मदद मिल सकती है।\n",
    "\n",
    "नीचे दिए गए उदाहरण में, हम इसे कुंजी के रूप में आइटम और ब्रांड के साथ प्रतिक्रिया को JSON ऑब्जेक्ट के रूप में प्रारूपित करने के लिए कहते हैं।"
   ]
  },
  {
   "cell_type": "code",
   "execution_count": 13,
   "id": "a13bea1b",
   "metadata": {
    "height": 285
   },
   "outputs": [
    {
     "name": "stdout",
     "output_type": "stream",
     "text": [
      "{\n",
      "  \"Item\": \"lamp with additional storage\",\n",
      "  \"Brand\": \"Lumina\"\n",
      "}\n"
     ]
    }
   ],
   "source": [
    "prompt = f\"\"\"\n",
    "Identify the following items from the review text: \n",
    "- Item purchased by reviewer\n",
    "- Company that made the item\n",
    "\n",
    "The review is delimited with triple backticks. \\\n",
    "Format your response as a JSON object with \\\n",
    "\"Item\" and \"Brand\" as the keys. \n",
    "If the information isn't present, use \"unknown\" \\\n",
    "as the value.\n",
    "Make your response as short as possible.\n",
    "  \n",
    "Review text: ```{lamp_review}```\n",
    "\"\"\"\n",
    "response = get_completion(prompt)\n",
    "print(response)"
   ]
  },
  {
   "cell_type": "code",
   "execution_count": 14,
   "id": "e9ffe056",
   "metadata": {},
   "outputs": [
    {
     "name": "stdout",
     "output_type": "stream",
     "text": [
      "{\n",
      "  \"物品\": \"卧室灯\",\n",
      "  \"品牌\": \"Lumina\"\n",
      "}\n"
     ]
    }
   ],
   "source": [
    "#中文\n",
    "prompt = f\"\"\"\n",
    "从评论文本中识别以下项目：\n",
    "- 评论者购买的物品\n",
    "- 制造该物品的公司\n",
    "\n",
    "评论文本用三个反引号分隔。将你的响应格式化为以 “物品” 和 “品牌” 为键的 JSON 对象。\n",
    "如果信息不存在，请使用 “未知” 作为值。\n",
    "让你的回应尽可能简短。\n",
    "  \n",
    "评论文本: ```{lamp_review_zh}```\n",
    "\"\"\"\n",
    "response = get_completion(prompt)\n",
    "print(response)"
   ]
  },
  {
   "cell_type": "markdown",
   "id": "1342c732",
   "metadata": {},
   "source": []
  },
  {
   "cell_type": "markdown",
   "id": "954d125d",
   "metadata": {},
   "source": [
    "जैसा कि ऊपर दिखाया गया है, यह कहेगा कि आइटम एक बेडरूम लैंप है और ब्रांड ल्यूमिनर है, जिसे आप आसानी से पायथन डिक्शनरी में लोड कर सकते हैं और फिर इस आउटपुट के साथ अन्य काम कर सकते हैं।"
   ]
  },
  {
   "cell_type": "markdown",
   "id": "a38880a5-088f-4609-9913-f8fa41fb7ba0",
   "metadata": {},
   "source": [
    "### 2.5 व्यापक कार्य समापन\n",
    "\n",
    "उपरोक्त सभी जानकारी निकालने में 3 या 4 संकेत लगे, लेकिन एक ही समय में यह सारी जानकारी निकालने के लिए एक संकेत लिखना वास्तव में संभव है।"
   ]
  },
  {
   "cell_type": "code",
   "execution_count": 15,
   "id": "e7dda9e5",
   "metadata": {
    "height": 336
   },
   "outputs": [
    {
     "name": "stdout",
     "output_type": "stream",
     "text": [
      "{\n",
      "  \"Sentiment\": \"positive\",\n",
      "  \"Anger\": false,\n",
      "  \"Item\": \"lamp with additional storage\",\n",
      "  \"Brand\": \"Lumina\"\n",
      "}\n"
     ]
    }
   ],
   "source": [
    "prompt = f\"\"\"\n",
    "Identify the following items from the review text: \n",
    "- Sentiment (positive or negative)\n",
    "- Is the reviewer expressing anger? (true or false)\n",
    "- Item purchased by reviewer\n",
    "- Company that made the item\n",
    "\n",
    "The review is delimited with triple backticks. \\\n",
    "Format your response as a JSON object with \\\n",
    "\"Sentiment\", \"Anger\", \"Item\" and \"Brand\" as the keys.\n",
    "If the information isn't present, use \"unknown\" \\\n",
    "as the value.\n",
    "Make your response as short as possible.\n",
    "Format the Anger value as a boolean.\n",
    "\n",
    "Review text: ```{lamp_review}```\n",
    "\"\"\"\n",
    "response = get_completion(prompt)\n",
    "print(response)"
   ]
  },
  {
   "cell_type": "code",
   "execution_count": 16,
   "id": "939c2b0e",
   "metadata": {
    "scrolled": true
   },
   "outputs": [
    {
     "name": "stdout",
     "output_type": "stream",
     "text": [
      "{\n",
      "  \"Sentiment\": \"正面\",\n",
      "  \"Anger\": false,\n",
      "  \"Item\": \"卧室灯\",\n",
      "  \"Brand\": \"Lumina\"\n",
      "}\n"
     ]
    }
   ],
   "source": [
    "#中文\n",
    "prompt = f\"\"\"\n",
    "从评论文本中识别以下项目：\n",
    "- 情绪（正面或负面）\n",
    "- 审稿人是否表达了愤怒？（是或否）\n",
    "- 评论者购买的物品\n",
    "- 制造该物品的公司\n",
    "\n",
    "评论用三个反引号分隔。将您的响应格式化为 JSON 对象，以 “Sentiment”、“Anger”、“Item” 和 “Brand” 作为键。\n",
    "如果信息不存在，请使用 “未知” 作为值。\n",
    "让你的回应尽可能简短。\n",
    "将 Anger 值格式化为布尔值。\n",
    "\n",
    "评论文本: ```{lamp_review_zh}```\n",
    "\"\"\"\n",
    "response = get_completion(prompt)\n",
    "print(response)"
   ]
  },
  {
   "cell_type": "markdown",
   "id": "5e09a673",
   "metadata": {},
   "source": [
    "इस उदाहरण में, हम इसे आउटरेज मान को बूलियन के रूप में प्रारूपित करने के लिए कहते हैं और फिर एक JSON आउटपुट करते हैं। आप अपने आप अलग-अलग विविधताएं आज़मा सकते हैं, या यह देखने के लिए कि क्या आप अभी भी सामग्री को सटीक रूप से निकाल सकते हैं, पूरी तरह से अलग-अलग टिप्पणियां आज़मा सकते हैं।"
   ]
  },
  {
   "cell_type": "markdown",
   "id": "235fc223-2c89-49ec-ac2d-78a8e74a43ac",
   "metadata": {},
   "source": [
    "## 3. विषय अनुमान\n",
    "\n",
    "बड़े भाषा मॉडल का एक और अच्छा अनुप्रयोग एक लंबे पाठ को देखते हुए यह अनुमान लगाना है कि यह पाठ किस बारे में है? उदाहरण के तौर पर निम्नलिखित काल्पनिक समाचार पत्र की रिपोर्ट को लें।"
   ]
  },
  {
   "cell_type": "code",
   "execution_count": 17,
   "id": "8a74cc3e",
   "metadata": {
    "height": 472
   },
   "outputs": [],
   "source": [
    "story = \"\"\"\n",
    "In a recent survey conducted by the government, \n",
    "public sector employees were asked to rate their level \n",
    "of satisfaction with the department they work at. \n",
    "The results revealed that NASA was the most popular \n",
    "department with a satisfaction rating of 95%.\n",
    "\n",
    "One NASA employee, John Smith, commented on the findings, \n",
    "stating, \"I'm not surprised that NASA came out on top. \n",
    "It's a great place to work with amazing people and \n",
    "incredible opportunities. I'm proud to be a part of \n",
    "such an innovative organization.\"\n",
    "\n",
    "The results were also welcomed by NASA's management team, \n",
    "with Director Tom Johnson stating, \"We are thrilled to \n",
    "hear that our employees are satisfied with their work at NASA. \n",
    "We have a talented and dedicated team who work tirelessly \n",
    "to achieve our goals, and it's fantastic to see that their \n",
    "hard work is paying off.\"\n",
    "\n",
    "The survey also revealed that the \n",
    "Social Security Administration had the lowest satisfaction \n",
    "rating, with only 45% of employees indicating they were \n",
    "satisfied with their job. The government has pledged to \n",
    "address the concerns raised by employees in the survey and \n",
    "work towards improving job satisfaction across all departments.\n",
    "\"\"\""
   ]
  },
  {
   "cell_type": "code",
   "execution_count": 18,
   "id": "811ff13f",
   "metadata": {},
   "outputs": [],
   "source": [
    "#中文\n",
    "story_zh = \"\"\"\n",
    "在政府最近进行的一项调查中，要求公共部门的员工对他们所在部门的满意度进行评分。\n",
    "调查结果显示，NASA 是最受欢迎的部门，满意度为 95％。\n",
    "\n",
    "一位 NASA 员工 John Smith 对这一发现发表了评论，他表示：\n",
    "“我对 NASA 排名第一并不感到惊讶。这是一个与了不起的人们和令人难以置信的机会共事的好地方。我为成为这样一个创新组织的一员感到自豪。”\n",
    "\n",
    "NASA 的管理团队也对这一结果表示欢迎，主管 Tom Johnson 表示：\n",
    "“我们很高兴听到我们的员工对 NASA 的工作感到满意。\n",
    "我们拥有一支才华横溢、忠诚敬业的团队，他们为实现我们的目标不懈努力，看到他们的辛勤工作得到回报是太棒了。”\n",
    "\n",
    "调查还显示，社会保障管理局的满意度最低，只有 45％的员工表示他们对工作满意。\n",
    "政府承诺解决调查中员工提出的问题，并努力提高所有部门的工作满意度。\n",
    "\"\"\""
   ]
  },
  {
   "cell_type": "markdown",
   "id": "a8ea91d6-e841-4ee2-bed9-ca4a36df177f",
   "metadata": {},
   "source": [
    "### 3.1 चर्चा के विषयों का अनुमान लगाना\n",
    "\n",
    "उपरोक्त एक काल्पनिक अखबार का लेख है, जिसमें बताया गया है कि सरकारी कर्मचारी जिस एजेंसी के लिए काम करते हैं, उसके बारे में वे कैसा महसूस करते हैं। हम इसमें चर्चा किए जा रहे पांच विषयों की पहचान कर सकते हैं, प्रत्येक विषय का एक या दो शब्दों में वर्णन कर सकते हैं, और आउटपुट को अल्पविराम-सीमांकित सूची के रूप में प्रारूपित कर सकते हैं।"
   ]
  },
  {
   "cell_type": "code",
   "execution_count": 19,
   "id": "5c267cbe",
   "metadata": {
    "height": 217
   },
   "outputs": [
    {
     "name": "stdout",
     "output_type": "stream",
     "text": [
      "government survey, public sector employees, job satisfaction, NASA, Social Security Administration\n"
     ]
    }
   ],
   "source": [
    "prompt = f\"\"\"\n",
    "Determine five topics that are being discussed in the \\\n",
    "following text, which is delimited by triple backticks.\n",
    "\n",
    "Make each item one or two words long. \n",
    "\n",
    "Format your response as a list of items separated by commas.\n",
    "\n",
    "Text sample: ```{story}```\n",
    "\"\"\"\n",
    "response = get_completion(prompt)\n",
    "print(response)"
   ]
  },
  {
   "cell_type": "code",
   "execution_count": 20,
   "id": "f92f90fe",
   "metadata": {
    "height": 30,
    "scrolled": true
   },
   "outputs": [
    {
     "data": {
      "text/plain": [
       "['government survey',\n",
       " ' public sector employees',\n",
       " ' job satisfaction',\n",
       " ' NASA',\n",
       " ' Social Security Administration']"
      ]
     },
     "execution_count": 20,
     "metadata": {},
     "output_type": "execute_result"
    }
   ],
   "source": [
    "response.split(sep=',')"
   ]
  },
  {
   "cell_type": "code",
   "execution_count": 21,
   "id": "cab27b65",
   "metadata": {},
   "outputs": [
    {
     "name": "stdout",
     "output_type": "stream",
     "text": [
      "调查结果, NASA, 社会保障管理局, 员工满意度, 政府承诺\n"
     ]
    }
   ],
   "source": [
    "#中文\n",
    "prompt = f\"\"\"\n",
    "确定以下给定文本中讨论的五个主题。\n",
    "\n",
    "每个主题用1-2个单词概括。\n",
    "\n",
    "输出时用逗号分割每个主题。\n",
    "\n",
    "给定文本: ```{story_zh}```\n",
    "\"\"\"\n",
    "response = get_completion(prompt)\n",
    "print(response)"
   ]
  },
  {
   "cell_type": "markdown",
   "id": "790d1435",
   "metadata": {},
   "source": []
  },
  {
   "cell_type": "markdown",
   "id": "34be1d2a-1309-4512-841a-b6f67338938b",
   "metadata": {},
   "source": [
    "### 3.2 विशिष्ट विषयों के लिए समाचार अलर्ट बनाना\n",
    "\n",
    "मान लीजिए कि हमारे पास एक समाचार साइट या कुछ समान है, और यहां वे विषय हैं जिनमें हम रुचि रखते हैं: नासा, स्थानीय सरकार, इंजीनियरिंग, कर्मचारी संतुष्टि, संघीय सरकार, आदि। मान लीजिए कि हम एक समाचार लेख को देखते हुए यह पता लगाना चाहते हैं कि कौन से विषय हैं इसमें शामिल है। हम इस तरह एक संकेत का उपयोग कर सकते हैं: निर्धारित करें कि विषयों की निम्नलिखित सूची में प्रत्येक आइटम निम्नलिखित पाठ में एक विषय है या नहीं। उत्तरों की एक सूची 0 या 1 के रूप में दें।"
   ]
  },
  {
   "cell_type": "code",
   "execution_count": 22,
   "id": "94b8fa65",
   "metadata": {
    "height": 81
   },
   "outputs": [],
   "source": [
    "topic_list = [\n",
    "    \"nasa\", \"local government\", \"engineering\", \n",
    "    \"employee satisfaction\", \"federal government\"\n",
    "]"
   ]
  },
  {
   "cell_type": "code",
   "execution_count": 23,
   "id": "626c5b8e",
   "metadata": {
    "height": 234
   },
   "outputs": [
    {
     "name": "stdout",
     "output_type": "stream",
     "text": [
      "nasa: 1\n",
      "local government: 0\n",
      "engineering: 0\n",
      "employee satisfaction: 1\n",
      "federal government: 1\n"
     ]
    }
   ],
   "source": [
    "prompt = f\"\"\"\n",
    "Determine whether each item in the following list of \\\n",
    "topics is a topic in the text below, which\n",
    "is delimited with triple backticks.\n",
    "\n",
    "Give your answer as list with 0 or 1 for each topic.\\\n",
    "\n",
    "List of topics: {\", \".join(topic_list)}\n",
    "\n",
    "Text sample: ```{story}```\n",
    "\"\"\"\n",
    "response = get_completion(prompt)\n",
    "print(response)"
   ]
  },
  {
   "cell_type": "code",
   "execution_count": 24,
   "id": "902a7c74",
   "metadata": {
    "height": 79
   },
   "outputs": [
    {
     "name": "stdout",
     "output_type": "stream",
     "text": [
      "ALERT: New NASA story!\n"
     ]
    }
   ],
   "source": [
    "topic_dict = {i.split(': ')[0]: int(i.split(': ')[1]) for i in response.split(sep='\\n')}\n",
    "if topic_dict['nasa'] == 1:\n",
    "    print(\"ALERT: New NASA story!\")"
   ]
  },
  {
   "cell_type": "code",
   "execution_count": 25,
   "id": "9f53d337",
   "metadata": {},
   "outputs": [
    {
     "name": "stdout",
     "output_type": "stream",
     "text": [
      "美国航空航天局：1\n",
      "当地政府：0\n",
      "工程：0\n",
      "员工满意度：1\n",
      "联邦政府：1\n"
     ]
    }
   ],
   "source": [
    "#中文\n",
    "prompt = f\"\"\"\n",
    "判断主题列表中的每一项是否是给定文本中的一个话题，\n",
    "\n",
    "以列表的形式给出答案，每个主题用 0 或 1。\n",
    "\n",
    "主题列表：美国航空航天局、当地政府、工程、员工满意度、联邦政府\n",
    "\n",
    "给定文本: ```{story_zh}```\n",
    "\"\"\"\n",
    "response = get_completion(prompt)\n",
    "print(response)"
   ]
  },
  {
   "cell_type": "markdown",
   "id": "8f39f24a",
   "metadata": {},
   "source": []
  },
  {
   "cell_type": "markdown",
   "id": "08247dbf",
   "metadata": {},
   "source": [
    "जैसा कि आप देख सकते हैं, कहानी नासा, कर्मचारी संतुष्टि और संघीय सरकार के बारे में है, लेकिन स्थानीय सरकार, इंजीनियरिंग के बारे में नहीं है। इसे कभी-कभी मशीन लर्निंग में जीरो-शॉट लर्निंग एल्गोरिदम कहा जाता है क्योंकि हमने इसे कोई लेबल वाला प्रशिक्षण नहीं दिया है डेटा। केवल संकेत से, यह निर्धारित कर सकता है कि समाचार लेख में कौन से विषय शामिल हैं।\n",
    "\n",
    "यदि हम समाचार अलर्ट उत्पन्न करना चाहते हैं, तो हम समाचारों को संसाधित करने के लिए भी इस प्रक्रिया का उपयोग कर सकते हैं। मान लीजिए कि मुझे नासा का काम वास्तव में पसंद है, और मैं एक सिस्टम बना सकता हूंहर बार नासा की खबर सामने आने पर एक अनुस्मारक आउटपुट करने के लिए इसे इस प्रकार बनाएं।"
   ]
  },
  {
   "cell_type": "code",
   "execution_count": 26,
   "id": "53bf1abd",
   "metadata": {},
   "outputs": [
    {
     "name": "stdout",
     "output_type": "stream",
     "text": [
      "提醒: 关于美国航空航天局的新消息\n"
     ]
    }
   ],
   "source": [
    "topic_dict = {i.split('：')[0]: int(i.split('：')[1]) for i in response.split(sep='\\n')}\n",
    "if topic_dict['美国航空航天局'] == 1:\n",
    "    print(\"提醒: 关于美国航空航天局的新消息\")"
   ]
  },
  {
   "cell_type": "markdown",
   "id": "9fc2c643",
   "metadata": {},
   "source": []
  },
  {
   "cell_type": "markdown",
   "id": "76ccd189",
   "metadata": {},
   "source": [
    "यह सब अनुमान के बारे में है, कुछ ही मिनटों में हम पाठ के बारे में तर्क करने के लिए कई सिस्टम बना सकते हैं, जिसमें पहले एक कुशल मशीन लर्निंग डेवलपर को कई दिन या यहां तक ​​कि सप्ताह भी लग जाते थे, यह बहुत ही रोमांचक है, कुशल मशीन लर्निंग डेवलपर्स और शुरुआती दोनों के लिए, आप ऐसा कर सकते हैं काफी जटिल प्राकृतिक भाषा प्रसंस्करण कार्यों को शीघ्रता से बनाने और आरंभ करने के लिए प्रॉम्प्ट का उपयोग करें।"
   ]
  }
 ],
 "metadata": {
  "kernelspec": {
   "display_name": "Python 3",
   "language": "python",
   "name": "python3"
  },
  "language_info": {
   "codemirror_mode": {
    "name": "ipython",
    "version": 3
   },
   "file_extension": ".py",
   "mimetype": "text/x-python",
   "name": "python",
   "nbconvert_exporter": "python",
   "pygments_lexer": "ipython3",
   "version": "3.11.3"
  },
  "latex_envs": {
   "LaTeX_envs_menu_present": true,
   "autoclose": false,
   "autocomplete": true,
   "bibliofile": "biblio.bib",
   "cite_by": "apalike",
   "current_citInitial": 1,
   "eqLabelWithNumbers": true,
   "eqNumInitial": 1,
   "hotkeys": {
    "equation": "Ctrl-E",
    "itemize": "Ctrl-I"
   },
   "labels_anchors": false,
   "latex_user_defs": false,
   "report_style_numbering": false,
   "user_envs_cfg": false
  },
  "toc": {
   "base_numbering": 1,
   "nav_menu": {},
   "number_sections": true,
   "sideBar": true,
   "skip_h1_title": false,
   "title_cell": "Table of Contents",
   "title_sidebar": "Contents",
   "toc_cell": false,
   "toc_position": {
    "height": "calc(100% - 180px)",
    "left": "10px",
    "top": "150px",
    "width": "256px"
   },
   "toc_section_display": true,
   "toc_window_display": true
  }
 },
 "nbformat": 4,
 "nbformat_minor": 5
}
