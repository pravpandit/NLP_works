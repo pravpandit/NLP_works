{
 "cells": [
  {
   "attachments": {},
   "cell_type": "markdown",
   "id": "b58204ea",
   "metadata": {
    "pycharm": {
     "name": "#%% md\n"
    }
   },
   "source": [
    "# अध्याय 4 पाठ सारांश"
   ]
  },
  {
   "cell_type": "markdown",
   "id": "a190d6a1",
   "metadata": {
    "pycharm": {
     "name": "#%% md\n"
    }
   },
   "source": [
    "<div class='toc'>\n",
    "<उल क्लास='टोक-आइटम'>\n",
    "<li><span><a href='#一 परिचय' data-toc-modified-id='1. परिचय'>1. परिचय</a></span></li>\n",
    "<ली>\n",
    "<span><a href='#二 एकल पाठ सारांश' data-toc-modified-id='2. एकल पाठ सारांश प्रयोग'>2. एकल पाठ कुल प्रयोग</a></span>\n",
    "<उल क्लास='टोक-आइटम'>\n",
    "<li><span><a href='#21-आउटपुट टेक्स्ट की लंबाई सीमित करें' data-toc-modified-id='2.1 आउटपुट टेक्स्ट की लंबाई सीमित करें'>2.1 आउटपुट टेक्स्ट की लंबाई सीमित करें</a></span ></ ली>\n",
    "<li><span><a href='#22-कुंजी कोण जोर सेट करें' डेटा-टोक-संशोधित-id='2.2 कुंजी कोण उथली रोशनी सेट करें'>2.2 कुंजी कोण उथली रोशनी सेट करें</a></span> </li>\n",
    "<li><span><ahref='#23-मुख्य सूचना निष्कर्षण' डेटा-टोक-संशोधित-आईडी='2.3 मुख्य सूचना उदाहरणट्रैक्शन\">2.3 मुख्य जानकारी निष्कर्षण</a></span></li>\n",
    "</ul>\n",
    "</li>\n",
    "<li><span><a href='#三एक ही समय में अनेक पाठों का सारांश बनाएं' </a></span></li>\n",
    "</ul>\n",
    "</div>"
   ]
  },
  {
   "attachments": {},
   "cell_type": "markdown",
   "id": "b70ad003",
   "metadata": {
    "pycharm": {
     "name": "#%% md\n"
    }
   },
   "source": [
    "## I. प्रस्तावना"
   ]
  },
  {
   "attachments": {},
   "cell_type": "markdown",
   "id": "12fa9ea4",
   "metadata": {
    "pycharm": {
     "name": "#%% md\n"
    }
   },
   "source": [
    "आज दुनिया में बड़ी मात्रा में पाठ्य सूचना उपलब्ध है, और हमारे लिए वह सब कुछ पढ़ने के लिए पर्याप्त समय होना कठिन है जो हम जानना चाहते हैं, लेकिन सौभाग्य से, एलएलएम ने पाठ सारांशीकरण कार्यों में एक मजबूत स्तर दिखाया है, और कई टीमों ने इसे लागू किया है विभिन्न अनुप्रयोगों में सारांशीकरण कार्य।\n",
    "\n",
    "यह अध्याय \"पाठ सारांश\" फ़ंक्शन को लागू करने के लिए एपीआई इंटरफ़ेस को कॉल करने के लिए प्रोग्रामिंग विधियों का उपयोग करने का तरीका बताएगा।"
   ]
  },
  {
   "attachments": {},
   "cell_type": "markdown",
   "id": "1de4fd1e",
   "metadata": {
    "pycharm": {
     "name": "#%% md\n"
    }
   },
   "source": [
    "सबसे पहले, हमें OpenAI पैकेज आयात करना होगा, API कुंजी लोड करनी होगी और getCompletion फ़ंक्शन को परिभाषित करना होगा।"
   ]
  },
  {
   "cell_type": "code",
   "execution_count": null,
   "id": "1b4bfa7f",
   "metadata": {
    "pycharm": {
     "name": "#%%\n"
    }
   },
   "outputs": [],
   "source": [
    "import openai\n",
    "# तृतीय-पक्ष लाइब्रेरी आयात करें\n",
    "\n",
    "openai.api_key = \"sk-...\"\n",
    "# API_KEY सेट करें, कृपया इसे अपनी API_KEY से बदलें\n"
   ]
  },
  {
   "cell_type": "code",
   "execution_count": 1,
   "id": "9f679f1f",
   "metadata": {
    "pycharm": {
     "name": "#%%\n"
    }
   },
   "outputs": [],
   "source": [
    "def get_completion(prompt, model=\"gpt-3.5-turbo\"): \n",
    "    messages = [{\"role\": \"user\", \"content\": prompt}]\n",
    "    response = openai.ChatCompletion.create(\n",
    "        model=model,\n",
    "        messages=messages,\n",
    "        temperature=0, # 值越低则输出文本随机性越低\n",
    "    )\n",
    "    return response.choices[0].message[\"content\"]"
   ]
  },
  {
   "attachments": {},
   "cell_type": "markdown",
   "id": "9cca835b",
   "metadata": {
    "pycharm": {
     "name": "#%% md\n"
    }
   },
   "source": [
    "## 2. एकल पाठ सारांश"
   ]
  },
  {
   "attachments": {},
   "cell_type": "markdown",
   "id": "0c1e1b92",
   "metadata": {
    "pycharm": {
     "name": "#%% md\n"
    }
   },
   "source": [
    "एक उदाहरण के रूप में उत्पाद समीक्षाओं को सारांशित करने के कार्य को लें: ई-कॉमर्स प्लेटफ़ॉर्म के लिए, वेबसाइट पर अक्सर बड़ी संख्या में उत्पाद समीक्षाएँ होती हैं, जो सभी ग्राहकों के विचारों को दर्शाती हैं, यदि हमारे पास इन विशाल और लंबी समीक्षाओं को सारांशित करने के लिए एक उपकरण है , हम जल्दी से अधिक समीक्षाएँ ब्राउज़ कर सकते हैं और ग्राहकों की प्राथमिकताओं के बारे में जानकारी प्राप्त कर सकते हैं, जिससे प्लेटफ़ॉर्म और व्यापारियों को बेहतर सेवाएँ प्रदान करने के लिए मार्गदर्शन मिल सकेगा।"
   ]
  },
  {
   "attachments": {},
   "cell_type": "markdown",
   "id": "9dc2e2bc",
   "metadata": {
    "pycharm": {
     "name": "#%% md\n"
    }
   },
   "source": [
    "**इनपुट टेक्स्ट**"
   ]
  },
  {
   "cell_type": "code",
   "execution_count": 3,
   "id": "4d9c0eeb",
   "metadata": {
    "pycharm": {
     "name": "#%%\n"
    }
   },
   "outputs": [],
   "source": [
    "prod_review = \"\"\"\n",
    "Got this panda plush toy for my daughter's birthday, \\\n",
    "who loves it and takes it everywhere. It's soft and \\ \n",
    "super cute, and its face has a friendly look. It's \\ \n",
    "a bit small for what I paid though. I think there \\ \n",
    "might be other options that are bigger for the \\ \n",
    "same price. It arrived a day earlier than expected, \\ \n",
    "so I got to play with it myself before I gave it \\ \n",
    "to her.\n",
    "\"\"\""
   ]
  },
  {
   "attachments": {},
   "cell_type": "markdown",
   "id": "aad5bd2a",
   "metadata": {
    "pycharm": {
     "name": "#%% md\n"
    }
   },
   "source": [
    "**इनपुट टेक्स्ट (चीनी अनुवाद)**"
   ]
  },
  {
   "cell_type": "code",
   "execution_count": 4,
   "id": "43b5dd25",
   "metadata": {
    "pycharm": {
     "name": "#%%\n"
    }
   },
   "outputs": [],
   "source": [
    "prod_review_zh = \"\"\"\n",
    "这个熊猫公仔是我给女儿的生日礼物，她很喜欢，去哪都带着。\n",
    "公仔很软，超级可爱，面部表情也很和善。但是相比于价钱来说，\n",
    "它有点小，我感觉在别的地方用同样的价钱能买到更大的。\n",
    "快递比预期提前了一天到货，所以在送给女儿之前，我自己玩了会。\n",
    "\"\"\""
   ]
  },
  {
   "attachments": {},
   "cell_type": "markdown",
   "id": "662c9cd2",
   "metadata": {
    "pycharm": {
     "name": "#%% md\n"
    }
   },
   "source": [
    "### 2.1 आउटपुट टेक्स्ट की लंबाई सीमित करें"
   ]
  },
  {
   "attachments": {},
   "cell_type": "markdown",
   "id": "a6d10814",
   "metadata": {
    "pycharm": {
     "name": "#%% md\n"
    }
   },
   "source": [
    "हम पाठ की लंबाई को अधिकतम 30 शब्दों तक सीमित करने का प्रयास करते हैं।"
   ]
  },
  {
   "cell_type": "code",
   "execution_count": 4,
   "id": "02208fbc",
   "metadata": {
    "pycharm": {
     "name": "#%%\n"
    }
   },
   "outputs": [
    {
     "name": "stdout",
     "output_type": "stream",
     "text": [
      "Soft and cute panda plush toy loved by daughter, but a bit small for the price. Arrived early.\n"
     ]
    }
   ],
   "source": [
    "prompt = f\"\"\"\n",
    "Your task is to generate a short summary of a product \\\n",
    "review from an ecommerce site. \n",
    "\n",
    "Summarize the review below, delimited by triple \n",
    "backticks, in at most 30 words. \n",
    "\n",
    "Review: ```{prod_review}```\n",
    "\"\"\"\n",
    "\n",
    "response = get_completion(prompt)\n",
    "print(response)"
   ]
  },
  {
   "attachments": {},
   "cell_type": "markdown",
   "id": "0df0eb90",
   "metadata": {
    "pycharm": {
     "name": "#%% md\n"
    }
   },
   "source": [
    "अंग्रेजी अनुवाद"
   ]
  },
  {
   "cell_type": "code",
   "execution_count": 5,
   "id": "bf4b39f9",
   "metadata": {
    "pycharm": {
     "name": "#%%\n"
    }
   },
   "outputs": [
    {
     "name": "stdout",
     "output_type": "stream",
     "text": [
      "可爱软熊猫公仔，女儿喜欢，面部表情和善，但价钱有点小贵，快递提前一天到货。\n"
     ]
    }
   ],
   "source": [
    "prompt = f\"\"\"\n",
    "您的任务是从电子商务网站上生成一个产品评论的简短摘要。\n",
    "\n",
    "请对三个反引号之间的评论文本进行概括，最多30个词汇。\n",
    "\n",
    "评论: ```{prod_review_zh}```\n",
    "\"\"\"\n",
    "\n",
    "response = get_completion(prompt)\n",
    "print(response)"
   ]
  },
  {
   "attachments": {},
   "cell_type": "markdown",
   "id": "e9ab145e",
   "metadata": {
    "pycharm": {
     "name": "#%% md\n"
    }
   },
   "source": [
    "### 2.2 मुख्य कोण फोकस सेट करना"
   ]
  },
  {
   "attachments": {},
   "cell_type": "markdown",
   "id": "f84d0123",
   "metadata": {
    "pycharm": {
     "name": "#%% md\n"
    }
   },
   "source": [
    "कभी-कभी, अलग-अलग व्यवसायों के लिए, हम अलग-अलग टेक्स्ट पर ध्यान केंद्रित करते हैं, उदाहरण के लिए, उत्पाद समीक्षा टेक्स्ट के लिए, लॉजिस्टिक्स परिवहन समय के बारे में अधिक चिंतित होंगे, व्यापारी कीमत और उत्पाद की गुणवत्ता के बारे में अधिक चिंतित होंगे, और प्लेटफ़ॉर्म समग्र सेवा के बारे में अधिक चिंतित होंगे। अनुभव।\n",
    "\n",
    "हम संकेत जोड़कर एक विशिष्ट कोण पर जोर दे सकते हैं।"
   ]
  },
  {
   "attachments": {},
   "cell_type": "markdown",
   "id": "d6f8509a",
   "metadata": {
    "pycharm": {
     "name": "#%% md\n"
    }
   },
   "source": [
    "### 2.2.1 एक्सप्रेस डिलीवरी सेवाओं पर ध्यान दें"
   ]
  },
  {
   "cell_type": "code",
   "execution_count": 6,
   "id": "9d8a32a6",
   "metadata": {
    "pycharm": {
     "name": "#%%\n"
    }
   },
   "outputs": [
    {
     "name": "stdout",
     "output_type": "stream",
     "text": [
      "The panda plush toy arrived a day earlier than expected, but the customer felt it was a bit small for the price paid.\n"
     ]
    }
   ],
   "source": [
    "prompt = f\"\"\"\n",
    "Your task is to generate a short summary of a product \\\n",
    "review from an ecommerce site to give feedback to the \\\n",
    "Shipping deparmtment. \n",
    "\n",
    "Summarize the review below, delimited by triple \n",
    "backticks, in at most 30 words, and focusing on any aspects \\\n",
    "that mention shipping and delivery of the product. \n",
    "\n",
    "Review: ```{prod_review}```\n",
    "\"\"\"\n",
    "\n",
    "response = get_completion(prompt)\n",
    "print(response)"
   ]
  },
  {
   "attachments": {},
   "cell_type": "markdown",
   "id": "0bd4243a",
   "metadata": {
    "pycharm": {
     "name": "#%% md\n"
    }
   },
   "source": [
    "अंग्रेजी अनुवाद"
   ]
  },
  {
   "cell_type": "code",
   "execution_count": 8,
   "id": "80636c3e",
   "metadata": {
    "pycharm": {
     "name": "#%%\n"
    }
   },
   "outputs": [
    {
     "name": "stdout",
     "output_type": "stream",
     "text": [
      "快递提前到货，熊猫公仔软可爱，但有点小，价钱不太划算。\n"
     ]
    }
   ],
   "source": [
    "prompt = f\"\"\"\n",
    "您的任务是从电子商务网站上生成一个产品评论的简短摘要。\n",
    "\n",
    "请对三个反引号之间的评论文本进行概括，最多30个词汇，并且聚焦在产品运输上。\n",
    "\n",
    "评论: ```{prod_review_zh}```\n",
    "\"\"\"\n",
    "\n",
    "response = get_completion(prompt)\n",
    "print(response)"
   ]
  },
  {
   "attachments": {},
   "cell_type": "markdown",
   "id": "76c97fea",
   "metadata": {
    "pycharm": {
     "name": "#%% md\n"
    }
   },
   "source": [
    "यह देखा जा सकता है कि आउटपुट परिणाम \"एक्सप्रेस डिलीवरी एक दिन पहले पहुंची\" से शुरू होती है, जो एक्सप्रेस डिलीवरी दक्षता पर जोर को दर्शाता है।"
   ]
  },
  {
   "attachments": {},
   "cell_type": "markdown",
   "id": "83275907",
   "metadata": {
    "pycharm": {
     "name": "#%% md\n"
    }
   },
   "source": [
    "### 2.2.2 कीमत और गुणवत्ता पर ध्यान दें"
   ]
  },
  {
   "cell_type": "code",
   "execution_count": 9,
   "id": "767f252c",
   "metadata": {
    "pycharm": {
     "name": "#%%\n"
    }
   },
   "outputs": [
    {
     "name": "stdout",
     "output_type": "stream",
     "text": [
      "The panda plush toy is soft, cute, and loved by the recipient, but the price may be too high for its size compared to other options.\n"
     ]
    }
   ],
   "source": [
    "prompt = f\"\"\"\n",
    "Your task is to generate a short summary of a product \\\n",
    "review from an ecommerce site to give feedback to the \\\n",
    "pricing deparmtment, responsible for determining the \\\n",
    "price of the product.  \n",
    "\n",
    "Summarize the review below, delimited by triple \n",
    "backticks, in at most 30 words, and focusing on any aspects \\\n",
    "that are relevant to the price and perceived value. \n",
    "\n",
    "Review: ```{prod_review}```\n",
    "\"\"\"\n",
    "\n",
    "response = get_completion(prompt)\n",
    "print(response)"
   ]
  },
  {
   "attachments": {},
   "cell_type": "markdown",
   "id": "cf54fac4",
   "metadata": {
    "pycharm": {
     "name": "#%% md\n"
    }
   },
   "source": [
    "अंग्रेजी अनुवाद"
   ]
  },
  {
   "cell_type": "code",
   "execution_count": 12,
   "id": "728d6c57",
   "metadata": {
    "pycharm": {
     "name": "#%%\n"
    }
   },
   "outputs": [
    {
     "name": "stdout",
     "output_type": "stream",
     "text": [
      "可爱软熊猫公仔，面部表情友好，但价钱有点高，尺寸较小。快递提前一天到货。\n"
     ]
    }
   ],
   "source": [
    "prompt = f\"\"\"\n",
    "您的任务是从电子商务网站上生成一个产品评论的简短摘要。\n",
    "\n",
    "请对三个反引号之间的评论文本进行概括，最多30个词汇，并且聚焦在产品价格和质量上。\n",
    "\n",
    "评论: ```{prod_review_zh}```\n",
    "\"\"\"\n",
    "\n",
    "response = get_completion(prompt)\n",
    "print(response)"
   ]
  },
  {
   "attachments": {},
   "cell_type": "markdown",
   "id": "972dbb1b",
   "metadata": {
    "pycharm": {
     "name": "#%% md\n"
    }
   },
   "source": [
    "यह देखा जा सकता है कि आउटपुट परिणाम \"अच्छी गुणवत्ता, कम कीमत, छोटे आकार\" से शुरू होते हैं, जो उत्पाद की कीमत और गुणवत्ता पर जोर को दर्शाता है।"
   ]
  },
  {
   "attachments": {},
   "cell_type": "markdown",
   "id": "b3ed53d2",
   "metadata": {
    "pycharm": {
     "name": "#%% md\n"
    }
   },
   "source": [
    "### 2.3 मुख्य जानकारी निकालना"
   ]
  },
  {
   "attachments": {},
   "cell_type": "markdown",
   "id": "ba6f5c25",
   "metadata": {
    "pycharm": {
     "name": "#%% md\n"
    }
   },
   "source": [
    "धारा 2.2 में, हालाँकि हमने एक संकेत जोड़ा है जो पाठ सारांश को एक विशिष्ट पहलू पर अधिक केंद्रित बनाने के लिए प्रमुख पहलुओं पर ध्यान केंद्रित करता है, हम पा सकते हैं कि परिणाम में कुछ अन्य जानकारी भी बरकरार रखी गई है, जैसे कि जानकारी कि \"एक्सप्रेस डिलीवरी आ गई है\" शेड्यूल से आगे\" को अभी भी सारांश में बरकरार रखा गया है जो कीमत और गुणवत्ता पर केंद्रित है। यदि हम केवल एक निश्चित परिप्रेक्ष्य से जानकारी निकालना चाहते हैं और अन्य सभी जानकारी को फ़िल्टर करना चाहते हैं, तो हम एलएलएम को \"टेक्स्ट निष्कर्षण\" करने के लिए कह सकते हैं।\"सारांशीकरण\" की सीख।"
   ]
  },
  {
   "cell_type": "code",
   "execution_count": 13,
   "id": "2d60dc58",
   "metadata": {
    "pycharm": {
     "name": "#%%\n"
    }
   },
   "outputs": [
    {
     "name": "stdout",
     "output_type": "stream",
     "text": [
      "\"The product arrived a day earlier than expected.\"\n"
     ]
    }
   ],
   "source": [
    "prompt = f\"\"\"\n",
    "Your task is to extract relevant information from \\ \n",
    "a product review from an ecommerce site to give \\\n",
    "feedback to the Shipping department. \n",
    "\n",
    "From the review below, delimited by triple quotes \\\n",
    "extract the information relevant to shipping and \\ \n",
    "delivery. Limit to 30 words. \n",
    "\n",
    "Review: ```{prod_review}```\n",
    "\"\"\"\n",
    "\n",
    "response = get_completion(prompt)\n",
    "print(response)"
   ]
  },
  {
   "attachments": {},
   "cell_type": "markdown",
   "id": "0339b877",
   "metadata": {
    "pycharm": {
     "name": "#%% md\n"
    }
   },
   "source": [
    "अंग्रेजी अनुवाद"
   ]
  },
  {
   "cell_type": "code",
   "execution_count": 19,
   "id": "c845ccab",
   "metadata": {
    "pycharm": {
     "name": "#%%\n"
    }
   },
   "outputs": [
    {
     "name": "stdout",
     "output_type": "stream",
     "text": [
      "快递比预期提前了一天到货。\n"
     ]
    }
   ],
   "source": [
    "prompt = f\"\"\"\n",
    "您的任务是从电子商务网站上的产品评论中提取相关信息。\n",
    "\n",
    "请从以下三个反引号之间的评论文本中提取产品运输相关的信息，最多30个词汇。\n",
    "\n",
    "评论: ```{prod_review_zh}```\n",
    "\"\"\"\n",
    "\n",
    "response = get_completion(prompt)\n",
    "print(response)"
   ]
  },
  {
   "attachments": {},
   "cell_type": "markdown",
   "id": "50498a2b",
   "metadata": {
    "pycharm": {
     "name": "#%% md\n"
    }
   },
   "source": [
    "## 3. एक ही समय में अनेक पाठों का सारांश बनाएँ"
   ]
  },
  {
   "attachments": {},
   "cell_type": "markdown",
   "id": "a291541a",
   "metadata": {
    "pycharm": {
     "name": "#%% md\n"
    }
   },
   "source": [
    "वास्तविक वर्कफ़्लो में, हमारे पास अक्सर बहुत सारे टिप्पणी पाठ होते हैं। निम्नलिखित उदाहरण एकाधिक उपयोगकर्ता टिप्पणियों को एक सूची में रखता है, ```के लिए``` लूप का उपयोग करता है, पाठ सारांश (सारांश) शीघ्र शब्द का उपयोग करता है, टिप्पणियों को कम सारांशित करता है। 20 से अधिक शब्द, और उन्हें क्रम में प्रिंट करता है, वास्तविक उत्पादन में, विभिन्न आकारों के टिप्पणी पाठों के लिए, ```फॉर``` लूप का उपयोग करने के अलावा, आपको टिप्पणियों को एकीकृत करने, वितरित करने और पर भी विचार करने की आवश्यकता हो सकती है। कंप्यूटिंग दक्षता में सुधार के लिए अन्य तरीकेआपके या अन्य लोगों के लिए त्वरित ब्राउज़िंग की सुविधा के लिए बड़ी संख्या में उपयोगकर्ता टिप्पणियों को सारांशित करने के लिए एक मुख्य नियंत्रण कक्ष बना सकते हैं, और आप मूल टिप्पणियों को देखने के लिए भी क्लिक कर सकते हैं, इस तरह, आप ग्राहकों के सभी विचारों को कुशलता से समझ सकते हैं।"
   ]
  },
  {
   "cell_type": "code",
   "execution_count": 5,
   "id": "ee7caa78",
   "metadata": {
    "pycharm": {
     "name": "#%%\n"
    }
   },
   "outputs": [],
   "source": [
    "review_1 = prod_review\n",
    "\n",
    "# खड़े दीपक की समीक्षा\n",
    "review_2 = \"\"\"\n",
    "Needed a nice lamp for my bedroom, and this one \\\n",
    "had additional storage and not too high of a price \\\n",
    "point. Got it fast - arrived in 2 days. The string \\\n",
    "to the lamp broke during the transit and the company \\\n",
    "happily sent over a new one. Came within a few days \\\n",
    "as well. It was easy to put together. Then I had a \\\n",
    "missing part, so I contacted their support and they \\\n",
    "very quickly got me the missing piece! Seems to me \\\n",
    "to be a great company that cares about their customers \\\n",
    "and products.\n",
    "\"\"\"\n",
    "\n",
    "# इलेक्ट्रिक टूथब्रश की समीक्षा\n",
    "review_3 = \"\"\"\n",
    "My dental hygienist recommended an electric toothbrush, \\\n",
    "which is why I got this. The battery life seems to be \\\n",
    "pretty impressive so far. After initial charging and \\\n",
    "leaving the charger plugged in for the first week to \\\n",
    "condition the battery, I've unplugged the charger and \\\n",
    "been using it for twice daily brushing for the last \\\n",
    "3 weeks all on the same charge. But the toothbrush head \\\n",
    "is too small. I’ve seen baby toothbrushes bigger than \\\n",
    "this one. I wish the head was bigger with different \\\n",
    "length bristles to get between teeth better because \\\n",
    "this one doesn’t.  Overall if you can get this one \\\n",
    "around the $50 mark, it's a good deal. The manufactuer's \\\n",
    "replacements heads are pretty expensive, but you can \\\n",
    "get generic ones that're more reasonably priced. This \\\n",
    "toothbrush makes me feel like I've been to the dentist \\\n",
    "every day. My teeth feel sparkly clean!\n",
    "\"\"\"\n",
    "\n",
    "# ब्लेंडर की समीक्षा\n",
    "review_4 = \"\"\"\n",
    "So, they still had the 17 piece system on seasonal \\\n",
    "sale for around $49 in the month of November, about \\\n",
    "half off, but for some reason (call it price gouging) \\\n",
    "around the second week of December the prices all went \\\n",
    "up to about anywhere from between $70-$89 for the same \\\n",
    "system. And the 11 piece system went up around $10 or \\\n",
    "so in price also from the earlier sale price of $29. \\\n",
    "So it looks okay, but if you look at the base, the part \\\n",
    "where the blade locks into place doesn’t look as good \\\n",
    "as in previous editions from a few years ago, but I \\\n",
    "plan to be very gentle with it (example, I crush \\\n",
    "very hard items like beans, ice, rice, etc. in the \\\n",
    "blender first then pulverize them in the serving size \\\n",
    "I want in the blender then switch to the whipping \\\n",
    "blade for a finer flour, and use the cross cutting blade \\\n",
    "first when making smoothies, then use the flat blade \\\n",
    "if I need them finer/less pulpy). Special tip when making \\\n",
    "smoothies, finely cut and freeze the fruits and \\\n",
    "vegetables (if using spinach-lightly stew soften the \\\n",
    "spinach then freeze until ready for use-and if making \\\n",
    "sorbet, use a small to medium sized food processor) \\\n",
    "that you plan to use that way you can avoid adding so \\\n",
    "much ice if at all-when making your smoothie. \\\n",
    "After about a year, the motor was making a funny noise. \\\n",
    "I called customer service but the warranty expired \\\n",
    "already, so I had to buy another one. FYI: The overall \\\n",
    "quality has gone done in these types of products, so \\\n",
    "they are kind of counting on brand recognition and \\\n",
    "consumer loyalty to maintain sales. Got it in about \\\n",
    "two days.\n",
    "\"\"\"\n",
    "\n",
    "reviews = [review_1, review_2, review_3, review_4]"
   ]
  },
  {
   "cell_type": "code",
   "execution_count": null,
   "id": "c8775ce7",
   "metadata": {
    "collapsed": false,
    "pycharm": {
     "name": "#%%\n"
    }
   },
   "outputs": [],
   "source": [
    "review_1 = prod_review\n",
    "\n",
    "# खड़े दीपक की समीक्षा\n",
    "review_2 = \"\"\"\n",
    "我想为我的卧室找一个漂亮的灯，这款灯还有额外的存储空间，价格也不太高。\\\n",
    "购买后很快就收到了，两天就送到了。但在运输过程中，灯的拉链断了，公司态度\\\n",
    "很好，发来了一条新的。新的拉链也在几天内就到了。这个灯非常容易装配。后来，我\\\n",
    "发现缺少一个部分，所以我联系了他们的客户支持，他们很快就给我寄来了缺失的部件\\\n",
    "！我觉得这是一家非常关心他们的客户和产品的好公司。\n",
    "\"\"\"\n",
    "\n",
    "# इलेक्ट्रिक टूथब्रश की समीक्षा\n",
    "review_3 = \"\"\"\n",
    "我的牙科卫生师推荐我使用电动牙刷，这就是我购买这款牙刷的原因。目前为止，我发现电池的\\\n",
    "续航时间颇为令人印象深刻。在初次充电并在第一周保持充电器插头插入以调节电池状态之后，我\\\n",
    "已经将充电器拔掉，并在过去的3周里，每天两次刷牙都使用同一次充电。然而，这款牙刷的刷头实\\\n",
    "在太小了。我见过的婴儿牙刷都比这个大。我希望牙刷头能做得更大一些，搭配不同长度的刷毛更好\\\n",
    "地清洁牙齿间缝，因为现有的无法做到这一点。总的来说，如果你能以大约50美元的价格购入这款电动\\\n",
    "牙刷，那它就物超所值。厂家配套的替换刷头价格相当昂贵，但你可以买到价格更为合理的通用款。\\\n",
    "使用这款牙刷让我感觉像每天都去看了牙医一样，我的牙齿感觉洁净如新！\n",
    "\"\"\"\n",
    "\n",
    "# ब्लेंडर की समीक्षा\n",
    "review_4 = \"\"\"\n",
    "他们还在11月把17件套系统以大约$49的优惠价格销售，几乎是五折。但不明原因（轻易就可以归咎为价格欺诈）\\\n",
    "在到了12月第二周，同一套系统的价格一下儿飙升到了$70-$89之间。11件套系统的价格也从之前的优惠价$29上\\\n",
    "升了大概$10。看上去还算公道，但如果你仔细观察底部，会发现刀片锁定的部位相比几年前的版本要略逊一筹，所\\\n",
    "以我打算非常小心翼翼地使用（例如，我会将像豆子、冰块、大米之类的硬质食材先用搅拌机压碎，然后调到我需要\\\n",
    "的份量，再用打发刀片研磨成更细的粉状，制作冰沙时我首选交叉刀片，如果需要更细腻些或者少些浆糊状，我会换成\\\n",
    "平刀）。在制作果昔时，把将要用的水果和蔬菜切片冷冻是个小技巧（如果你打算用菠菜，要先稍微焖炖软，再冷冻，\\\n",
    "制作雪葩时，用一个小到中号的食品加工器就行）这样就不用或者很少加冰块到你的果昔了。大约一年后，电机开始发出\\\n",
    "一些可疑的声音。我联系了客服，但保修期已经过期，所以我只好另购一台。友情提示：这类产品的整体质量都在下滑，\\\n",
    "所以他们更多的是利用品牌知名度和消费者的忠诚度来保持销售。我在两天之后就收到了它。\n",
    "\"\"\"\n",
    "\n",
    "reviews = [review_1, review_2, review_3, review_4]"
   ]
  },
  {
   "cell_type": "code",
   "execution_count": 10,
   "id": "9d1aa5ac",
   "metadata": {
    "pycharm": {
     "name": "#%%\n"
    }
   },
   "outputs": [
    {
     "name": "stdout",
     "output_type": "stream",
     "text": [
      "0 Soft and cute panda plush toy loved by daughter, but a bit small for the price. Arrived early. \n",
      "\n",
      "1 Affordable lamp with storage, fast shipping, and excellent customer service. Easy to assemble and missing parts were quickly replaced. \n",
      "\n",
      "2 Good battery life, small toothbrush head, but effective cleaning. Good deal if bought around $50. \n",
      "\n",
      "3 The product was on sale for $49 in November, but the price increased to $70-$89 in December. The base doesn't look as good as previous editions, but the reviewer plans to be gentle with it. A special tip for making smoothies is to freeze the fruits and vegetables beforehand. The motor made a funny noise after a year, and the warranty had expired. Overall quality has decreased. \n",
      "\n"
     ]
    }
   ],
   "source": [
    "for i in range(len(reviews)):\n",
    "    prompt = f\"\"\"\n",
    "    Your task is to generate a short summary of a product \\\n",
    "    review from an ecommerce site. \n",
    "\n",
    "    Summarize the review below, delimited by triple \\\n",
    "    backticks in at most 20 words. \n",
    "\n",
    "    Review: ```{reviews[i]}```\n",
    "    \"\"\"\n",
    "    response = get_completion(prompt)\n",
    "    print(i, response, \"\\n\")"
   ]
  },
  {
   "cell_type": "code",
   "execution_count": null,
   "id": "eb878522",
   "metadata": {
    "pycharm": {
     "name": "#%%\n"
    }
   },
   "outputs": [],
   "source": [
    "for i in range(len(reviews)):\n",
    "    prompt = f\"\"\"\n",
    "    你的任务是从电子商务网站上的产品评论中提取相关信息。\n",
    "\n",
    "    请对三个反引号之间的评论文本进行概括，最多20个词汇。\n",
    "\n",
    "    评论文本: ```{reviews[i]}```\n",
    "    \"\"\"\n",
    "    response = get_completion(prompt)\n",
    "    print(i, response, \"\\n\")\n"
   ]
  },
  {
   "cell_type": "markdown",
   "id": "d757b389",
   "metadata": {
    "pycharm": {
     "name": "#%% md\n"
    }
   },
   "source": [
    "0 सारांश: प्यारा पांडा आलीशान खिलौना, अच्छी गुणवत्ता, तेज़ डिलीवरी, लेकिन थोड़ा छोटा।\n",
    "\n",
    "1 यह समीक्षा अतिरिक्त भंडारण स्थान वाले बेडसाइड लैंप के बारे में है, जिसकी कीमत मामूली है। ग्राहक कंपनी की सेवा और उत्पादों से संतुष्ट है।\n",
    "\n",
    "2 समीक्षा सारांश: इलेक्ट्रिक टूथब्रश की बैटरी लाइफ लंबी है, लेकिन ब्रश का सिर बहुत छोटा है और लंबे ब्रिसल्स की आवश्यकता है, कीमत उचित है और उपयोग के बाद दांत साफ महसूस होते हैं।\n",
    "\n",
    "3 समीक्षा सारांश: दिसंबर में उत्पाद की कीमत बढ़ी, गुणवत्ता नहींयह पहले जितना अच्छा है, लेकिन डिलीवरी तेज़ है।"
   ]
  }
 ],
 "metadata": {
  "kernelspec": {
   "display_name": "Python 3",
   "language": "python",
   "name": "python3"
  },
  "language_info": {
   "codemirror_mode": {
    "name": "ipython",
    "version": 3
   },
   "file_extension": ".py",
   "mimetype": "text/x-python",
   "name": "python",
   "nbconvert_exporter": "python",
   "pygments_lexer": "ipython3",
   "version": "3.8.13"
  },
  "latex_envs": {
   "LaTeX_envs_menu_present": true,
   "autoclose": false,
   "autocomplete": true,
   "bibliofile": "biblio.bib",
   "cite_by": "apalike",
   "current_citInitial": 1,
   "eqLabelWithNumbers": true,
   "eqNumInitial": 1,
   "hotkeys": {
    "equation": "Ctrl-E",
    "itemize": "Ctrl-I"
   },
   "labels_anchors": false,
   "latex_user_defs": false,
   "report_style_numbering": false,
   "user_envs_cfg": false
  },
  "toc": {
   "base_numbering": 1,
   "nav_menu": {},
   "number_sections": true,
   "sideBar": true,
   "skip_h1_title": false,
   "title_cell": "Table of Contents",
   "title_sidebar": "Contents",
   "toc_cell": false,
   "toc_position": {},
   "toc_section_display": true,
   "toc_window_display": true
  }
 },
 "nbformat": 4,
 "nbformat_minor": 5
}
