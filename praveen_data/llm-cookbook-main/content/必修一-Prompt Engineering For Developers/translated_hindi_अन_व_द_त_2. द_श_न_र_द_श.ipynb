{
 "cells": [
  {
   "attachments": {},
   "cell_type": "markdown",
   "metadata": {},
   "source": [
    "# अध्याय 2 संकेत लिखने के सिद्धांत\n",
    "\n",
    "इस अध्याय की मुख्य सामग्री प्रॉम्प्ट लिखने के सिद्धांत हैं। इस अध्याय में, हम प्रॉम्प्ट लिखने के दो सिद्धांत और कुछ संबंधित रणनीतियाँ देंगे। आप एलएलएम का सुविधाजनक और प्रभावी ढंग से उपयोग करने के लिए कुशल प्रॉम्प्ट लिखने का अभ्यास कर सकते हैं।"
   ]
  },
  {
   "cell_type": "markdown",
   "metadata": {},
   "source": [
    "<div class='toc'>\n",
    "<उल क्लास='टोक-आइटम'>\n",
    "<li><span><a href='#一पर्यावरण कॉन्फ़िगरेशन' data-toc-modified-id='1. पर्यावरण कॉन्फ़िगरेशन'>1. पर्यावरण कॉन्फ़िगरेशन</a></span></li>\n",
    "<ली>\n",
    "<span><a href='#二二 बुनियादी सिद्धांत' डेटा-टोक-संशोधित-आईडी='दो, दो बुनियादी सिद्धांत'>दो, दो बुनियादी सिद्धांत</a></span>\n",
    "<उल क्लास='टोक-आइटम'>\n",
    "<li><span><a href='#21-सिद्धांत 1 स्पष्ट और विशिष्ट निर्देश लिखें' data-toc-modified-id='2.1 सिद्धांत 1: स्पष्ट और विशिष्ट निर्देश लिखें'>2.1 सिद्धांत 1: स्पष्ट और विशिष्ट निर्देश लिखें अनुदेश अनुदेश</a></span></li>\n",
    "<li><span><a href=\"#22-मॉडल को सोचने का समय दें\" data-toc-modified-id='2.2 सिद्धांत 2: मॉडल को सोचने का समय दें'>2.2 सिद्धांत 2: मॉडल को सोचने का समय दें</a></span></li>\n",
    "</ul>\n",
    "</li>\n",
    "<li><span><a href=”#三Limited” data-toc-modified-id=”三、Limited”>तीन, सीमित</a></span>\n",
    "</li>\n",
    "</ul>\n",
    "</div>"
   ]
  },
  {
   "attachments": {},
   "cell_type": "markdown",
   "metadata": {},
   "source": [
    "## 1. पर्यावरण विन्यास"
   ]
  },
  {
   "attachments": {},
   "cell_type": "markdown",
   "metadata": {},
   "source": [
    "यह ट्यूटोरियल OpenAI द्वारा प्रदान की गई ChatGPT API का उपयोग करता है, इसलिए आपके पास पहले ChatGPT API_KEY होना चाहिए (आप इसे ऑनलाइन परीक्षण करने के लिए आधिकारिक वेबसाइट पर भी जा सकते हैं), और फिर सरलता और अनुकूलता को संतुलित करने के लिए OpenAI की तृतीय-पक्ष लाइब्रेरी स्थापित करें। यह ट्यूटोरियल ```पायथन 3``` वातावरण में ```openai.api_key``` विधि के आधार पर कॉन्फ़िगरेशन पेश करेगा। पर्यावरण चर के आधार पर एक कॉन्फ़िगरेशन विधि भी है, कृपया [OpenAI आधिकारिक दस्तावेज़] देखें। (एचटीटीविवरण के लिए ps://help.openai.com/en/articles/5112595-best-practices-for-api-key-safety)।"
   ]
  },
  {
   "attachments": {},
   "cell_type": "markdown",
   "metadata": {},
   "source": [
    "सबसे पहले, आपको OpenAI लाइब्रेरी स्थापित करनी होगी:\n",
    "```बैश\n",
    "पिप इंस्टाल ओपनाई\n",
    "```"
   ]
  },
  {
   "cell_type": "code",
   "execution_count": 2,
   "metadata": {},
   "outputs": [],
   "source": [
    "import openai\n",
    "# तृतीय-पक्ष लाइब्रेरी आयात करें\n",
    "\n",
    "openai.api_key  = \"sk-...\"\n",
    "# API_KEY सेट करें, कृपया इसे अपनी API_KEY से बदलें\n",
    "\n",
    "# निम्नलिखित पर्यावरण चर पर आधारित कॉन्फ़िगरेशन विधि का एक उदाहरण है, जो अधिक सुरक्षित है और इसे बाद में कवर नहीं किया जाएगा।\n",
    "#आयात openai\n",
    "# ओएस आयात करें\n",
    "# OPENAI_API_KEY = os.environ.get(\"OPENAI_API_KEY\")\n",
    "# openai.api_key = OPENAI_API_KEY\n"
   ]
  },
  {
   "attachments": {},
   "cell_type": "markdown",
   "metadata": {},
   "source": [
    "संपूर्ण पाठ्यक्रम एक उदाहरण के रूप में gpt-3.5-टर्बो मॉडल लेगा। हम [चैट कंप्लीशन एपीआई](https://platform.openai.com/docs/guides/gpt/chat-completions-api) के उपयोग का पता लगाएंगे। ) बाद के पाठ्यक्रमों में ओपनएआई द्वारा प्रदान किया गया है। यहां, हम पहले इसे एक फ़ंक्शन में इनकैप्सुलेट करते हैं। आपको केवल फ़ंक्शन को कॉल करने के बारे में जानने की आवश्यकता है, इनपुट पैरामीटर के रूप में प्रॉम्प्ट लें और यह आउटपुट देगा संगत समापन (उत्तर परिणाम)।"
   ]
  },
  {
   "cell_type": "code",
   "execution_count": 3,
   "metadata": {},
   "outputs": [],
   "source": [
    "# एक फ़ंक्शन जो ओपनएआई इंटरफ़ेस को प्रॉम्प्ट के एक पैरामीटर के साथ इनकैप्सुलेट करता है और संबंधित परिणाम देता है\n",
    "def get_completion(prompt, model=\"gpt-3.5-turbo\"):\n",
    "    '''\n",
    "    prompt: 对应的提示词\n",
    "    model: 调用的模型，默认为 gpt-3.5-turbo(ChatGPT)，有内测资格的用户可以选择 gpt-4\n",
    "    '''\n",
    "    messages = [{\"role\": \"user\", \"content\": prompt}]\n",
    "    response = openai.ChatCompletion.create(\n",
    "        model=model,\n",
    "        messages=messages,\n",
    "        temperature=0, # 模型输出的温度系数，控制输出的随机程度\n",
    "    )\n",
    "# OpenAI के चैटकंप्लीशन इंटरफ़ेस पर कॉल करें\n",
    "    return response.choices[0].message[\"content\"]\n"
   ]
  },
  {
   "attachments": {},
   "cell_type": "markdown",
   "metadata": {},
   "source": [
    "## 2. दो बुनियादी सिद्धांत"
   ]
  },
  {
   "attachments": {},
   "cell_type": "markdown",
   "metadata": {},
   "source": [
    "### 2.1 सिद्धांत 1: स्पष्ट और विशिष्ट निर्देश लिखें\n",
    "\n",
    "आपको यथासंभव स्पष्ट और विशिष्ट निर्देश प्रदान करके व्यक्त करना चाहिए कि आप मॉडल से क्या करवाना चाहते हैं। इससे मॉडल को सही आउटपुट देने में मदद मिलेगी और इस बात की संभावना कम हो जाएगी कि आपको अप्रासंगिक या गलत प्रतिक्रियाएँ मिलेंगी। स्पष्ट निर्देशों का मतलब यह नहीं है उन्हें छोटा होना चाहिए। कई मामलों में, लंबे संकेत वास्तव में स्पष्ट होते हैं और अधिक संदर्भ प्रदान करते हैं, जो अधिक विस्तृत और प्रासंगिक आउटपुट दे सकते हैं।"
   ]
  },
  {
   "attachments": {},
   "cell_type": "markdown",
   "metadata": {},
   "source": [
    "**2.1.1 इनपुट के विभिन्न भागों को स्पष्ट रूप से इंगित करने के लिए सीमांकक का उपयोग करें**\n",
    "\n",
    "परिसीमनक हो सकते हैं: ```, \"\", <>, :, \\<tag> \\</tag>, आदि।\n",
    "\n",
    "आप पाठ के एक विशिष्ट भाग को शेष संकेत से अलग करने के लिए किसी भी स्पष्ट विराम चिह्न का उपयोग कर सकते हैं। मार्कअप का रूप सीमित नहीं है, बस मॉडल को स्पष्ट रूप से बताएं कि यह एक अलग भाग है, जिससे प्रभावी ढंग से शीघ्र इंजेक्शन से बचा जा सकता है प्रॉम्प्ट इंजेक्शन का अर्थ है कि यदि उपयोगकर्ता को (डेवलपर-पूर्वनिर्धारित) पीआर में कुछ इनपुट जोड़ने की अनुमति हैओम्प्ट, दिए गए निर्देश उन कार्यों के साथ विरोध कर सकते हैं जो डेवलपर करना चाहता है, जिससे एलएलएम डेवलपर द्वारा अपेक्षित कार्यों को करने के बजाय उपयोगकर्ता द्वारा दर्ज किए गए निर्देशों का पालन कर सकता है, अर्थात, इनपुट में अन्य निर्देश शामिल हो सकते हैं जो आपके निर्देशों को ओवरराइड कर देंगे। इसके लिए डिलीमीटर का उपयोग एक अच्छी रणनीति है।\n",
    "\n",
    "निम्नलिखित उदाहरण में, हम एक पैराग्राफ देते हैं और जीपीटी से इसे सारांशित करने के लिए कहते हैं, इस उदाहरण में, हम एक सीमांकक के रूप में ``` का उपयोग करते हैं।"
   ]
  },
  {
   "cell_type": "code",
   "execution_count": null,
   "metadata": {},
   "outputs": [],
   "source": [
    "# चीनी संस्करण अगली सेल देखें\n",
    "text = f\"\"\"\n",
    "You should express what you want a model to do by \\ \n",
    "providing instructions that are as clear and \\ \n",
    "specific as you can possibly make them. \\ \n",
    "This will guide the model towards the desired output, \\ \n",
    "and reduce the chances of receiving irrelevant \\ \n",
    "or incorrect responses. Don't confuse writing a \\ \n",
    "clear prompt with writing a short prompt. \\ \n",
    "In many cases, longer prompts provide more clarity \\ \n",
    "and context for the model, which can lead to \\ \n",
    "more detailed and relevant outputs.\n",
    "\"\"\"\n",
    "prompt = f\"\"\"\n",
    "Summarize the text delimited by triple backticks \\ \n",
    "into a single sentence.\n",
    "```{text}```\n",
    "\"\"\"\n",
    "response = get_completion(prompt)\n",
    "print(response)"
   ]
  },
  {
   "attachments": {},
   "cell_type": "markdown",
   "metadata": {},
   "source": [
    "किसी मॉडल को वांछित आउटपुट की ओर निर्देशित करने के लिए स्पष्ट और विशिष्ट निर्देश प्रदान किए जाने चाहिए, और लंबे संकेत मॉडल के लिए अधिक स्पष्टता और संदर्भ प्रदान कर सकते हैं, जिससे अधिक विस्तृत और प्रासंगिक आउटपुट प्राप्त हो सकते हैं।"
   ]
  },
  {
   "cell_type": "code",
   "execution_count": null,
   "metadata": {},
   "outputs": [],
   "source": [
    "text = f\"\"\"\n",
    "您应该提供尽可能清晰、具体的指示，以表达您希望模型执行的任务。\\\n",
    "这将引导模型朝向所需的输出，并降低收到无关或不正确响应的可能性。\\\n",
    "不要将写清晰的提示词与写简短的提示词混淆。\\\n",
    "在许多情况下，更长的提示词可以为模型提供更多的清晰度和上下文信息，从而导致更详细和相关的输出。\n",
    "\"\"\"\n",
    "# पाठ्य सामग्री को संक्षेप में प्रस्तुत किया जाना है\n",
    "prompt = f\"\"\"\n",
    "把用三个反引号括起来的文本总结成一句话。\n",
    "```{text}```\n",
    "\"\"\"\n",
    "# निर्देश सामग्री, निर्देश और सारांशित की जाने वाली सामग्री को अलग करने के लिए ``` का उपयोग करें\n",
    "response = get_completion(prompt)\n",
    "print(response)"
   ]
  },
  {
   "attachments": {},
   "cell_type": "markdown",
   "metadata": {},
   "source": [
    "अप्रासंगिक या गलत प्रतिक्रियाओं से बचने के लिए स्पष्ट और विशिष्ट निर्देश प्रदान करें। स्पष्ट रूप से लिखने को संक्षेप में लिखने में भ्रमित न करें। लंबे संकेत अधिक स्पष्टता और प्रासंगिक जानकारी प्रदान कर सकते हैं, जिससे अधिक विस्तृत और प्रासंगिक आउटपुट प्राप्त हो सकते हैं।"
   ]
  },
  {
   "attachments": {},
   "cell_type": "markdown",
   "metadata": {},
   "source": [
    "**2.1.2 संरचित आउटपुट की तलाश करें**\n",
    "\n",
    "आउटपुट Json, HTML आदि में हो सकता है।\n",
    "\n",
    "दूसरी रणनीति एक संरचित आउटपुट के लिए पूछना है, जो हमारे लिए मॉडल के आउटपुट को पार्स करना आसान बना सकता है, उदाहरण के लिए, आप इसे पायथन में एक शब्दकोश या सूची में पढ़ सकते हैं।\n",
    "\n",
    "निम्नलिखित उदाहरण में, हम GPT से तीन पुस्तकों का शीर्षक, लेखक और श्रेणी तैयार करने के लिए कहते हैं, और GPT से इसे JSON प्रारूप में हमें वापस करने के लिए कहते हैं, आसान पार्सिंग के लिए, हम JSON की कुंजी निर्दिष्ट करते हैं।"
   ]
  },
  {
   "cell_type": "code",
   "execution_count": 7,
   "metadata": {},
   "outputs": [
    {
     "name": "stdout",
     "output_type": "stream",
     "text": [
      "[\n",
      "  {\n",
      "    \"book_id\": 1,\n",
      "    \"title\": \"The Lost City of Zorath\",\n",
      "    \"author\": \"Aria Blackwood\",\n",
      "    \"genre\": \"Fantasy\"\n",
      "  },\n",
      "  {\n",
      "    \"book_id\": 2,\n",
      "    \"title\": \"The Last Survivors\",\n",
      "    \"author\": \"Ethan Stone\",\n",
      "    \"genre\": \"Science Fiction\"\n",
      "  },\n",
      "  {\n",
      "    \"book_id\": 3,\n",
      "    \"title\": \"The Secret Life of Bees\",\n",
      "    \"author\": \"Lila Rose\",\n",
      "    \"genre\": \"Romance\"\n",
      "  }\n",
      "]\n"
     ]
    }
   ],
   "source": [
    "prompt = f\"\"\"\n",
    "Generate a list of three made-up book titles along \\ \n",
    "with their authors and genres. \n",
    "Provide them in JSON format with the following keys: \n",
    "book_id, title, author, genre.\n",
    "\"\"\"\n",
    "response = get_completion(prompt)\n",
    "print(response)\n"
   ]
  },
  {
   "cell_type": "code",
   "execution_count": 8,
   "metadata": {},
   "outputs": [
    {
     "name": "stdout",
     "output_type": "stream",
     "text": [
      "{\n",
      "  \"books\": [\n",
      "    {\n",
      "      \"book_id\": 1,\n",
      "      \"title\": \"The Shadow of the Wind\",\n",
      "      \"author\": \"Carlos Ruiz Zafón\",\n",
      "      \"genre\": \"Mystery\"\n",
      "    },\n",
      "    {\n",
      "      \"book_id\": 2,\n",
      "      \"title\": \"The Name of the Wind\",\n",
      "      \"author\": \"Patrick Rothfuss\",\n",
      "      \"genre\": \"Fantasy\"\n",
      "    },\n",
      "    {\n",
      "      \"book_id\": 3,\n",
      "      \"title\": \"The Hitchhiker's Guide to the Galaxy\",\n",
      "      \"author\": \"Douglas Adams\",\n",
      "      \"genre\": \"Science Fiction\"\n",
      "    }\n",
      "  ]\n",
      "}\n"
     ]
    }
   ],
   "source": [
    "prompt = f\"\"\"\n",
    "请生成包括书名、作者和类别的三本虚构书籍清单，\\\n",
    "并以 JSON 格式提供，其中包含以下键:book_id、title、author、genre。\n",
    "\"\"\"\n",
    "response = get_completion(prompt)\n",
    "print(response)\n"
   ]
  },
  {
   "cell_type": "markdown",
   "metadata": {},
   "source": []
  },
  {
   "attachments": {},
   "cell_type": "markdown",
   "metadata": {},
   "source": [
    "**2.1.3 मॉडल से यह जांचने के लिए कहें कि शर्तें पूरी हुई हैं या नहीं**\n",
    "\n",
    "यदि कार्य में ऐसी मान्यताएँ (शर्तें) हैं जिन्हें पूरा नहीं किया जा सकता है, तो हम मॉडल को पहले इन मान्यताओं की जाँच करने के लिए कह सकते हैं, और यदि वे पूरी नहीं होती हैं, तो यह इंगित करेगा और बाद की पूरी प्रक्रिया को निष्पादित करना बंद कर देगा। आप संभावित बढ़त पर भी विचार कर सकते हैं अप्रत्याशित परिणामों या त्रुटियों से बचने के लिए मामले और मॉडल की प्रतिक्रिया।\n",
    "\n",
    "निम्नलिखित उदाहरण में, हम मॉडल को दो पाठ देंगे, एक चाय बनाने के चरण हैं, और दूसरा बिना किसी पाठ के हैस्पष्ट चरण। हम मॉडल से यह निर्धारित करने के लिए कहेंगे कि क्या इसमें निर्देशों की एक श्रृंखला है, यदि हां, तो दिए गए प्रारूप में निर्देशों को फिर से लिखें, और यदि नहीं, तो उत्तर दें \"कोई चरण प्रदान नहीं किया गया\"।"
   ]
  },
  {
   "cell_type": "code",
   "execution_count": 9,
   "metadata": {},
   "outputs": [
    {
     "name": "stdout",
     "output_type": "stream",
     "text": [
      "Completion for Text 1:\n",
      "Step 1 - Get some water boiling.\n",
      "Step 2 - Grab a cup and put a tea bag in it.\n",
      "Step 3 - Once the water is hot enough, pour it over the tea bag.\n",
      "Step 4 - Let it sit for a bit so the tea can steep.\n",
      "Step 5 - After a few minutes, take out the tea bag.\n",
      "Step 6 - Add some sugar or milk to taste.\n",
      "Step 7 - Enjoy your delicious cup of tea!\n",
      "\n",
      "\n"
     ]
    }
   ],
   "source": [
    "text_1 = f\"\"\"\n",
    "Making a cup of tea is easy! First, you need to get some \\ \n",
    "water boiling. While that's happening, \\ \n",
    "grab a cup and put a tea bag in it. Once the water is \\ \n",
    "hot enough, just pour it over the tea bag. \\ \n",
    "Let it sit for a bit so the tea can steep. After a \\ \n",
    "few minutes, take out the tea bag. If you \\ \n",
    "like, you can add some sugar or milk to taste. \\ \n",
    "And that's it! You've got yourself a delicious \\ \n",
    "cup of tea to enjoy.\n",
    "\"\"\"\n",
    "prompt = f\"\"\"\n",
    "You will be provided with text delimited by triple quotes. \n",
    "If it contains a sequence of instructions, \\ \n",
    "re-write those instructions in the following format:\n",
    "\n",
    "Step 1 - ...\n",
    "Step 2 - …\n",
    "…\n",
    "Step N - …\n",
    "\n",
    "If the text does not contain a sequence of instructions, \\ \n",
    "then simply write \\\"No steps provided.\\\"\n",
    "\n",
    "\\\"\\\"\\\"{text_1}\\\"\\\"\\\"\n",
    "\"\"\"\n",
    "response = get_completion(prompt)\n",
    "print(\"Completion for Text 1:\")\n",
    "print(response)"
   ]
  },
  {
   "cell_type": "code",
   "execution_count": 11,
   "metadata": {},
   "outputs": [
    {
     "name": "stdout",
     "output_type": "stream",
     "text": [
      "Completion for Text 2:\n",
      "No steps provided.\n"
     ]
    }
   ],
   "source": [
    "text_2 = f\"\"\"\n",
    "The sun is shining brightly today, and the birds are \\\n",
    "singing. It's a beautiful day to go for a \\ \n",
    "walk in the park. The flowers are blooming, and the \\ \n",
    "trees are swaying gently in the breeze. People \\ \n",
    "are out and about, enjoying the lovely weather. \\ \n",
    "Some are having picnics, while others are playing \\ \n",
    "games or simply relaxing on the grass. It's a \\ \n",
    "perfect day to spend time outdoors and appreciate the \\ \n",
    "beauty of nature.\n",
    "\"\"\"\n",
    "prompt = f\"\"\"You will be provided with text delimited by triple quotes. \n",
    "If it contains a sequence of instructions, \\ \n",
    "re-write those instructions in the following format:\n",
    "Step 1 - ...\n",
    "Step 2 - …\n",
    "…\n",
    "Step N - …\n",
    "\n",
    "If the text does not contain a sequence of instructions, \\ \n",
    "then simply write \\\"No steps provided.\\\"\n",
    "\n",
    "\\\"\\\"\\\"{text_2}\\\"\\\"\\\"\n",
    "\"\"\"\n",
    "response = get_completion(prompt)\n",
    "print(\"Completion for Text 2:\")\n",
    "print(response)"
   ]
  },
  {
   "cell_type": "code",
   "execution_count": 10,
   "metadata": {},
   "outputs": [
    {
     "name": "stdout",
     "output_type": "stream",
     "text": [
      "Text 1 的总结:\n",
      "第一步 - 把水烧开。\n",
      "第二步 - 拿一个杯子并把茶包放进去。\n",
      "第三步 - 把烧开的水倒在茶包上。\n",
      "第四步 - 等待几分钟，让茶叶浸泡。\n",
      "第五步 - 取出茶包。\n",
      "第六步 - 如果你愿意，可以加一些糖或牛奶调味。\n",
      "第七步 - 就这样，你可以享受一杯美味的茶了。\n"
     ]
    }
   ],
   "source": [
    "# इनपुट जो शर्तों को पूरा करता है (चरण पाठ में दिए गए हैं)\n",
    "text_1 = f\"\"\"\n",
    "泡一杯茶很容易。首先，需要把水烧开。\\\n",
    "在等待期间，拿一个杯子并把茶包放进去。\\\n",
    "一旦水足够热，就把它倒在茶包上。\\\n",
    "等待一会儿，让茶叶浸泡。几分钟后，取出茶包。\\\n",
    "如果您愿意，可以加一些糖或牛奶调味。\\\n",
    "就这样，您可以享受一杯美味的茶了。\n",
    "\"\"\"\n",
    "prompt = f\"\"\"\n",
    "您将获得由三个引号括起来的文本。\\\n",
    "如果它包含一系列的指令，则需要按照以下格式重新编写这些指令：\n",
    "\n",
    "第一步 - ...\n",
    "第二步 - …\n",
    "…\n",
    "第N步 - …\n",
    "\n",
    "如果文本中不包含一系列的指令，则直接写“未提供步骤”。\"\n",
    "\\\"\\\"\\\"{text_1}\\\"\\\"\\\"\n",
    "\"\"\"\n",
    "response = get_completion(prompt)\n",
    "print(\"Text 1 的总结:\")\n",
    "print(response)"
   ]
  },
  {
   "cell_type": "code",
   "execution_count": 12,
   "metadata": {},
   "outputs": [
    {
     "name": "stdout",
     "output_type": "stream",
     "text": [
      "Text 2 的总结:\n",
      "未提供步骤。\n"
     ]
    }
   ],
   "source": [
    "# इनपुट जो शर्तों को पूरा नहीं करता (पाठ में कोई अपेक्षित निर्देश नहीं दिए गए हैं)\n",
    "text_2 = f\"\"\"\n",
    "今天阳光明媚，鸟儿在歌唱。\\\n",
    "这是一个去公园散步的美好日子。\\\n",
    "鲜花盛开，树枝在微风中轻轻摇曳。\\\n",
    "人们外出享受着这美好的天气，有些人在野餐，有些人在玩游戏或者在草地上放松。\\\n",
    "这是一个完美的日子，可以在户外度过并欣赏大自然的美景。\n",
    "\"\"\"\n",
    "prompt = f\"\"\"\n",
    "您将获得由三个引号括起来的文本。\\\n",
    "如果它包含一系列的指令，则需要按照以下格式重新编写这些指令：\n",
    "\n",
    "第一步 - ...\n",
    "第二步 - …\n",
    "…\n",
    "第N步 - …\n",
    "\n",
    "如果文本中不包含一系列的指令，则直接写“未提供步骤”。\"\n",
    "\\\"\\\"\\\"{text_2}\\\"\\\"\\\"\n",
    "\"\"\"\n",
    "response = get_completion(prompt)\n",
    "print(\"Text 2 的总结:\")\n",
    "print(response)"
   ]
  },
  {
   "cell_type": "markdown",
   "metadata": {},
   "source": []
  },
  {
   "attachments": {},
   "cell_type": "markdown",
   "metadata": {},
   "source": [
    "**2.1.4 कुछ उदाहरण प्रदान करें** (कुछ-शॉट संकेत)\n",
    "\n",
    "अर्थात्, मॉडल को वास्तविक कार्य करने के लिए कहने से पहले, उसे सफल कार्य निष्पादन के कुछ उदाहरण प्रदान करें।\n",
    "\n",
    "उदाहरण के लिए, निम्नलिखित उदाहरण में, हम मॉडल को बताते हैं कि उसका कार्य सुसंगत शैली में प्रश्नों का उत्तर देना है, और पहले उसे एक बच्चे और दादाजी के बीच बातचीत का उदाहरण दें, बच्चा कहता है, \"कृपया मुझे सिखाएं कि धैर्य क्या है है,\" और दादाजी निम्नलिखित शैली में एक रूपक के साथ जवाब देते हैं। सीचूंकि हमने पहले ही मॉडल को सुसंगत स्वर में उत्तर देने के लिए कहा है, अब हम पूछते हैं \"कृपया मुझे सिखाएं कि लचीलापन क्या है,\" और चूंकि मॉडल के पास पहले से ही यह कुछ-शॉट उदाहरण है, यह अगले कार्य का उत्तर इसी स्वर में देगा।"
   ]
  },
  {
   "cell_type": "code",
   "execution_count": 13,
   "metadata": {},
   "outputs": [
    {
     "name": "stdout",
     "output_type": "stream",
     "text": [
      "<grandparent>: Resilience is like a tree that bends with the wind but never breaks. It is the ability to bounce back from adversity and keep moving forward, even when things get tough. Just like a tree that grows stronger with each storm it weathers, resilience is a quality that can be developed and strengthened over time.\n"
     ]
    }
   ],
   "source": [
    "prompt = f\"\"\"\n",
    "Your task is to answer in a consistent style.\n",
    "\n",
    "<child>: Teach me about patience.\n",
    "\n",
    "<grandparent>: The river that carves the deepest \\ \n",
    "valley flows from a modest spring; the \\ \n",
    "grandest symphony originates from a single note; \\ \n",
    "the most intricate tapestry begins with a solitary thread.\n",
    "\n",
    "<child>: Teach me about resilience.\n",
    "\"\"\"\n",
    "response = get_completion(prompt)\n",
    "print(response)"
   ]
  },
  {
   "cell_type": "code",
   "execution_count": 14,
   "metadata": {},
   "outputs": [
    {
     "name": "stdout",
     "output_type": "stream",
     "text": [
      "<祖父母>: 韧性就像是一棵树，它需要经历风吹雨打、寒冬酷暑，才能成长得更加坚强。在生活中，我们也需要经历各种挫折和困难，才能锻炼出韧性。记住，不要轻易放弃，坚持下去，你会发现自己变得更加坚强。\n"
     ]
    }
   ],
   "source": [
    "prompt = f\"\"\"\n",
    "您的任务是以一致的风格回答问题。\n",
    "\n",
    "<孩子>: 教我耐心。\n",
    "\n",
    "<祖父母>: 挖出最深峡谷的河流源于一处不起眼的泉眼；最宏伟的交响乐从单一的音符开始；最复杂的挂毯以一根孤独的线开始编织。\n",
    "\n",
    "<孩子>: 教我韧性。\n",
    "\"\"\"\n",
    "response = get_completion(prompt)\n",
    "print(response)"
   ]
  },
  {
   "attachments": {},
   "cell_type": "markdown",
   "metadata": {},
   "source": [
    "### 2.2 मॉडल को सोचने का समय दें\n",
    "\n",
    "यदि आप पाते हैं कि मॉडल तर्क प्रक्रिया बहुत जल्दबाजी में है और गलत निष्कर्ष पर ले जाती है, तो आपको मॉडल को **सोच की श्रृंखला**, या प्रासंगिक तर्क की एक श्रृंखला या श्रृंखला प्रदान करने से पहले उस संकेत पर पुनर्विचार करने का प्रयास करना चाहिए। अंतिम उत्तर। दूसरे शब्दों में, यदि आप मॉडल को एक जटिल कार्य देते हैं जिसे कम समय में या कम शब्दों में पूरा नहीं किया जा सकता है, तो इसका आउटपुट त्रुटियों से ग्रस्त है। यह पीईओ की स्थिति के समान हैple: यदि आप किसी को एक जटिल गणित समस्या को पूरा करने के लिए कहते हैं और उन्हें उत्तर की गणना करने के लिए पर्याप्त समय नहीं देते हैं, तो वे गलतियाँ भी कर सकते हैं, इसलिए, इन मामलों में, आपको मॉडल को समस्या के बारे में सोचने में अधिक समय बिताने का निर्देश देना चाहिए इसे कार्य पर अधिक कंप्यूटिंग संसाधन खर्च करने दें।"
   ]
  },
  {
   "attachments": {},
   "cell_type": "markdown",
   "metadata": {},
   "source": [
    "**2.2.1 कार्य को पूरा करने के लिए आवश्यक चरण निर्दिष्ट करें**\n",
    "\n",
    "आगे, हम एक जटिल कार्य और इसे पूरा करने के लिए चरणों की एक श्रृंखला देकर इस रणनीति की प्रभावशीलता का प्रदर्शन करेंगे।"
   ]
  },
  {
   "attachments": {},
   "cell_type": "markdown",
   "metadata": {},
   "source": [
    "सबसे पहले हम जैक और जिल की कहानी का वर्णन करते हैं और निम्नलिखित करने के लिए संकेत देते हैं: सबसे पहले, एक वाक्य में तीन बैकटिक्स द्वारा सीमांकित पाठ को सारांशित करें, दूसरा, सारांश का फ्रेंच में अनुवाद करें, तीसरा, फ्रेंच सारांश में प्रत्येक नाम को सूचीबद्ध करें। चौथा, निम्नलिखित कुंजियों के साथ JSON ऑब्जेक्ट को आउटपुट करें: फ़्रेंच सारांश और नामों की संख्या आउटपुट को नई पंक्तियों से अलग करना आवश्यक है।"
   ]
  },
  {
   "cell_type": "code",
   "execution_count": 16,
   "metadata": {},
   "outputs": [
    {
     "name": "stdout",
     "output_type": "stream",
     "text": [
      "Completion for prompt 1:\n",
      "Two siblings, Jack and Jill, go on a quest to fetch water from a well on a hilltop, but misfortune strikes and they both tumble down the hill, returning home slightly battered but with their adventurous spirits undimmed.\n",
      "\n",
      "Deux frères et sœurs, Jack et Jill, partent en quête d'eau d'un puits sur une colline, mais un malheur frappe et ils tombent tous les deux de la colline, rentrant chez eux légèrement meurtris mais avec leurs esprits aventureux intacts. \n",
      "Noms: Jack, Jill.\n",
      "\n",
      "{\n",
      "  \"french_summary\": \"Deux frères et sœurs, Jack et Jill, partent en quête d'eau d'un puits sur une colline, mais un malheur frappe et ils tombent tous les deux de la colline, rentrant chez eux légèrement meurtris mais avec leurs esprits aventureux intacts.\",\n",
      "  \"num_names\": 2\n",
      "}\n"
     ]
    }
   ],
   "source": [
    "text = f\"\"\"\n",
    "In a charming village, siblings Jack and Jill set out on \\ \n",
    "a quest to fetch water from a hilltop \\ \n",
    "well. As they climbed, singing joyfully, misfortune \\ \n",
    "struck—Jack tripped on a stone and tumbled \\ \n",
    "down the hill, with Jill following suit. \\ \n",
    "Though slightly battered, the pair returned home to \\ \n",
    "comforting embraces. Despite the mishap, \\ \n",
    "their adventurous spirits remained undimmed, and they \\ \n",
    "continued exploring with delight.\n",
    "\"\"\"\n",
    "# उदाहरण 1\n",
    "prompt_1 = f\"\"\"\n",
    "Perform the following actions: \n",
    "1 - Summarize the following text delimited by triple \\\n",
    "backticks with 1 sentence.\n",
    "2 - Translate the summary into French.\n",
    "3 - List each name in the French summary.\n",
    "4 - Output a json object that contains the following \\\n",
    "keys: french_summary, num_names.\n",
    "\n",
    "Separate your answers with line breaks.\n",
    "\n",
    "Text:\n",
    "```{text}```\n",
    "\"\"\"\n",
    "response = get_completion(prompt_1)\n",
    "print(\"Completion for prompt 1:\")\n",
    "print(response)"
   ]
  },
  {
   "cell_type": "code",
   "execution_count": 33,
   "metadata": {},
   "outputs": [
    {
     "name": "stdout",
     "output_type": "stream",
     "text": [
      "prompt 1:\n",
      "1-兄妹在山顶井里打水时发生意外，但仍然保持冒险精神。\n",
      "2-Dans un charmant village, les frère et sœur Jack et Jill partent chercher de l'eau dans un puits au sommet de la montagne. Malheureusement, Jack trébuche sur une pierre et tombe de la montagne, suivi de près par Jill. Bien qu'ils soient légèrement blessés, ils retournent chez eux chaleureusement. Malgré cet accident, leur esprit d'aventure ne diminue pas et ils continuent à explorer joyeusement.\n",
      "3-Jack, Jill\n",
      "4-{\n",
      "   \"French_summary\": \"Dans un charmant village, les frère et sœur Jack et Jill partent chercher de l'eau dans un puits au sommet de la montagne. Malheureusement, Jack trébuche sur une pierre et tombe de la montagne, suivi de près par Jill. Bien qu'ils soient légèrement blessés, ils retournent chez eux chaleureusement. Malgré cet accident, leur esprit d'aventure ne diminue pas et ils continuent à explorer joyeusement.\",\n",
      "   \"num_names\": 2\n",
      "}\n"
     ]
    }
   ],
   "source": [
    "text = f\"\"\"\n",
    "在一个迷人的村庄里，兄妹杰克和吉尔出发去一个山顶井里打水。\\\n",
    "他们一边唱着欢乐的歌，一边往上爬，\\\n",
    "然而不幸降临——杰克绊了一块石头，从山上滚了下来，吉尔紧随其后。\\\n",
    "虽然略有些摔伤，但他们还是回到了温馨的家中。\\\n",
    "尽管出了这样的意外，他们的冒险精神依然没有减弱，继续充满愉悦地探索。\n",
    "\"\"\"\n",
    "# उदाहरण 1\n",
    "prompt_1 = f\"\"\"\n",
    "执行以下操作：\n",
    "1-用一句话概括下面用三个反引号括起来的文本。\n",
    "2-将摘要翻译成法语。\n",
    "3-在法语摘要中列出每个人名。\n",
    "4-输出一个 JSON 对象，其中包含以下键：French_summary，num_names。\n",
    "\n",
    "请用换行符分隔您的答案。\n",
    "\n",
    "Text:\n",
    "```{text}```\n",
    "\"\"\"\n",
    "response = get_completion(prompt_1)\n",
    "print(\"prompt 1:\")\n",
    "print(response)"
   ]
  },
  {
   "cell_type": "markdown",
   "metadata": {},
   "source": []
  },
  {
   "attachments": {},
   "cell_type": "markdown",
   "metadata": {},
   "source": [
    "उपरोक्त आउटपुट में अभी भी कुछ समस्याएं हैं, उदाहरण के लिए, कुंजी \"नाम\" को फ़्रेंच द्वारा प्रतिस्थापित किया जाएगा (अनुवादक का नोट: मूल अंग्रेजी संस्करण में, संबंधित निर्देश के तीसरे चरण का आउटपुट 'Noms:' है, जो कि है नाम के लिए फ़्रेंच। यह व्यवहार अप्रत्याशित है और निर्यात में कठिनाइयाँ पैदा कर सकता है)\n",
    "\n",
    "इसलिए, हमने प्रॉम्प्ट में सुधार किया, जो प्रॉम्प्ट के पहले भाग को अपरिवर्तित रखता है और **आउटपुट के प्रारूप को सटीक रूप से निर्दिष्ट करता है**।"
   ]
  },
  {
   "cell_type": "code",
   "execution_count": 18,
   "metadata": {},
   "outputs": [
    {
     "name": "stdout",
     "output_type": "stream",
     "text": [
      "\n",
      "Completion for prompt 2:\n",
      "Summary: 兄妹杰克和吉尔在山顶井里打水时发生意外，但他们仍然保持冒险精神继续探索。\n",
      "Translation: Jack and Jill, deux frères et sœurs, ont eu un accident en allant chercher de l'eau dans un puits de montagne, mais ils ont continué à explorer avec un esprit d'aventure.\n",
      "Names: Jack, Jill\n",
      "Output JSON: {\"french_summary\": \"Jack and Jill, deux frères et sœurs, ont eu un accident en allant chercher de l'eau dans un puits de montagne, mais ils ont continué à explorer avec un esprit d'aventure.\", \"num_names\": 2}\n"
     ]
    }
   ],
   "source": [
    "prompt_2 = f\"\"\"\n",
    "Your task is to perform the following actions: \n",
    "1 - Summarize the following text delimited by <> with 1 sentence.\n",
    "2 - Translate the summary into French.\n",
    "3 - List each name in the French summary.\n",
    "4 - Output a json object that contains the \n",
    "following keys: french_summary, num_names.\n",
    "\n",
    "Use the following format:\n",
    "Text: <text to summarize>\n",
    "Summary: <summary>\n",
    "Translation: <summary translation>\n",
    "Names: <list of names in French summary>\n",
    "Output JSON: <json with summary and num_names>\n",
    "\n",
    "Text: <{text}>\n",
    "\"\"\"\n",
    "response = get_completion(prompt_2)\n",
    "print(\"\\nCompletion for prompt 2:\")\n",
    "print(response)"
   ]
  },
  {
   "cell_type": "code",
   "execution_count": 21,
   "metadata": {},
   "outputs": [
    {
     "name": "stdout",
     "output_type": "stream",
     "text": [
      "\n",
      "prompt 2:\n",
      "摘要：兄妹杰克和吉尔在迷人的村庄里冒险，不幸摔伤后回到家中，但仍然充满冒险精神。\n",
      "翻译：In a charming village, siblings Jack and Jill set out to fetch water from a mountaintop well. While climbing and singing, Jack trips on a stone and tumbles down the mountain, with Jill following closely behind. Despite some bruises, they make it back home safely. Their adventurous spirit remains undiminished as they continue to explore with joy.\n",
      "名称：Jack，Jill\n",
      "输出 JSON：{\"English_summary\": \"In a charming village, siblings Jack and Jill set out to fetch water from a mountaintop well. While climbing and singing, Jack trips on a stone and tumbles down the mountain, with Jill following closely behind. Despite some bruises, they make it back home safely. Their adventurous spirit remains undiminished as they continue to explore with joy.\", \"num_names\": 2}\n"
     ]
    }
   ],
   "source": [
    "prompt_2 = f\"\"\"\n",
    "1-用一句话概括下面用<>括起来的文本。\n",
    "2-将摘要翻译成英语。\n",
    "3-在英语摘要中列出每个名称。\n",
    "4-输出一个 JSON 对象，其中包含以下键：English_summary，num_names。\n",
    "\n",
    "请使用以下格式：\n",
    "文本：<要总结的文本>\n",
    "摘要：<摘要>\n",
    "翻译：<摘要的翻译>\n",
    "名称：<英语摘要中的名称列表>\n",
    "输出 JSON：<带有 English_summary 和 num_names 的 JSON>\n",
    "\n",
    "Text: <{text}>\n",
    "\"\"\"\n",
    "response = get_completion(prompt_2)\n",
    "print(\"\\nprompt 2:\")\n",
    "print(response)"
   ]
  },
  {
   "attachments": {},
   "cell_type": "markdown",
   "metadata": {},
   "source": []
  },
  {
   "attachments": {},
   "cell_type": "markdown",
   "metadata": {},
   "source": [
    "**2.2.2 किसी निष्कर्ष पर पहुंचने से पहले समाधान खोजने के लिए मॉडल का मार्गदर्शन करें**\n",
    "\n",
    "निर्णय लेने में जल्दबाजी करने से पहले समाधान के बारे में सोचने के लिए मॉडल को स्पष्ट रूप से निर्देशित करें। कभी-कभी इससे बेहतर परिणाम मिलेंगे, यह ऊपर उल्लिखित विचार के समान है, यानी मॉडल को सोचने का समय देना।\n",
    "\n",
    "इसके बाद, हम एक प्रश्न और एक छात्र का उत्तर देंगे, और मॉडल से यह निर्णय लेने के लिए कहेंगे कि उत्तर सही है या नहीं:"
   ]
  },
  {
   "cell_type": "code",
   "execution_count": 22,
   "metadata": {},
   "outputs": [
    {
     "name": "stdout",
     "output_type": "stream",
     "text": [
      "The student's solution is correct.\n"
     ]
    }
   ],
   "source": [
    "prompt = f\"\"\"\n",
    "Determine if the student's solution is correct or not.\n",
    "\n",
    "Question:\n",
    "I'm building a solar power installation and I need \\\n",
    " help working out the financials. \n",
    "- Land costs $100 / square foot\n",
    "- I can buy solar panels for $250 / square foot\n",
    "- I negotiated a contract for maintenance that will cost \\ \n",
    "me a flat $100k per year, and an additional $10 / square \\\n",
    "foot\n",
    "What is the total cost for the first year of operations \n",
    "as a function of the number of square feet.\n",
    "\n",
    "Student's Solution:\n",
    "Let x be the size of the installation in square feet.\n",
    "Costs:\n",
    "1. Land cost: 100x\n",
    "2. Solar panel cost: 250x\n",
    "3. Maintenance cost: 100,000 + 100x\n",
    "Total cost: 100x + 250x + 100,000 + 100x = 450x + 100,000\n",
    "\"\"\"\n",
    "response = get_completion(prompt)\n",
    "print(response)"
   ]
  },
  {
   "cell_type": "code",
   "execution_count": 23,
   "metadata": {},
   "outputs": [
    {
     "name": "stdout",
     "output_type": "stream",
     "text": [
      "学生的解决方案是正确的。\n"
     ]
    }
   ],
   "source": [
    "prompt = f\"\"\"\n",
    "判断学生的解决方案是否正确。\n",
    "\n",
    "问题:\n",
    "我正在建造一个太阳能发电站，需要帮助计算财务。\n",
    "\n",
    "    土地费用为 100美元/平方英尺\n",
    "    我可以以 250美元/平方英尺的价格购买太阳能电池板\n",
    "    我已经谈判好了维护合同，每年需要支付固定的10万美元，并额外支付每平方英尺10美元\n",
    "    作为平方英尺数的函数，首年运营的总费用是多少。\n",
    "\n",
    "学生的解决方案：\n",
    "设x为发电站的大小，单位为平方英尺。\n",
    "费用：\n",
    "\n",
    "    土地费用：100x\n",
    "    太阳能电池板费用：250x\n",
    "    维护费用：100,000美元+100x\n",
    "    总费用：100x+250x+100,000美元+100x=450x+100,000美元\n",
    "\"\"\"\n",
    "response = get_completion(prompt)\n",
    "print(response)"
   ]
  },
  {
   "cell_type": "markdown",
   "metadata": {},
   "source": []
  },
  {
   "attachments": {},
   "cell_type": "markdown",
   "metadata": {},
   "source": [
    "लेकिन ध्यान दें कि छात्र का समाधान वास्तव में गलत है। (*रखरखाव लागत आइटम 100x 10x होना चाहिए, कुल लागत 450x 360x होना चाहिए*)\n",
    "\n",
    "हम मॉडल को पहले स्वयं समाधान खोजने का निर्देश देकर इस समस्या का समाधान कर सकते हैं।\n",
    "\n",
    "अगले प्रॉम्प्ट में, हम मॉडल को पहले समस्या को स्वयं हल करने के लिए कहते हैं, और फिर यह निर्धारित करने के लिए कि छात्र का समाधान सही है या नहीं, हम अपने स्वयं के समाधान की तुलना करते हैं। साथ ही, हम आउटपुट प्रारूप आवश्यकताओं को देते हैं कार्य को विभाजित करना औरचरणों को स्पष्ट करने, मॉडल को सोचने के लिए अधिक समय देने से, कभी-कभी अधिक सटीक परिणाम प्राप्त किए जा सकते हैं, इस उदाहरण में, छात्र का उत्तर गलत है, लेकिन अगर हम मॉडल को पहले इसकी गणना करने नहीं देते हैं, तो वह यह सोचकर गुमराह हो सकता है। छात्र सही है."
   ]
  },
  {
   "cell_type": "code",
   "execution_count": 24,
   "metadata": {},
   "outputs": [
    {
     "name": "stdout",
     "output_type": "stream",
     "text": [
      "Let x be the size of the installation in square feet.\n",
      "\n",
      "Costs:\n",
      "1. Land cost: 100x\n",
      "2. Solar panel cost: 250x\n",
      "3. Maintenance cost: 100,000 + 10x\n",
      "\n",
      "Total cost: 100x + 250x + 100,000 + 10x = 360x + 100,000\n",
      "\n",
      "Is the student's solution the same as actual solution just calculated:\n",
      "No\n",
      "\n",
      "Student grade:\n",
      "Incorrect\n"
     ]
    }
   ],
   "source": [
    "prompt = f\"\"\"\n",
    "Your task is to determine if the student's solution \\\n",
    "is correct or not.\n",
    "To solve the problem do the following:\n",
    "- First, work out your own solution to the problem. \n",
    "- Then compare your solution to the student's solution \\ \n",
    "and evaluate if the student's solution is correct or not. \n",
    "Don't decide if the student's solution is correct until \n",
    "you have done the problem yourself.\n",
    "\n",
    "Use the following format:\n",
    "Question:\n",
    "```\n",
    "question here\n",
    "```\n",
    "Student's solution:\n",
    "```\n",
    "student's solution here\n",
    "```\n",
    "Actual solution:\n",
    "```\n",
    "steps to work out the solution and your solution here\n",
    "```\n",
    "Is the student's solution the same as actual solution \\\n",
    "just calculated:\n",
    "```\n",
    "yes or no\n",
    "```\n",
    "Student grade:\n",
    "```\n",
    "correct or incorrect\n",
    "```\n",
    "\n",
    "Question:\n",
    "```\n",
    "I'm building a solar power installation and I need help \\\n",
    "working out the financials. \n",
    "- Land costs $100 / square foot\n",
    "- I can buy solar panels for $250 / square foot\n",
    "- I negotiated a contract for maintenance that will cost \\\n",
    "me a flat $100k per year, and an additional $10 / square \\\n",
    "foot\n",
    "What is the total cost for the first year of operations \\\n",
    "as a function of the number of square feet.\n",
    "``` \n",
    "Student's solution:\n",
    "```\n",
    "Let x be the size of the installation in square feet.\n",
    "Costs:\n",
    "1. Land cost: 100x\n",
    "2. Solar panel cost: 250x\n",
    "3. Maintenance cost: 100,000 + 100x\n",
    "Total cost: 100x + 250x + 100,000 + 100x = 450x + 100,000\n",
    "```\n",
    "Actual solution:\n",
    "\"\"\"\n",
    "response = get_completion(prompt)\n",
    "print(response)"
   ]
  },
  {
   "cell_type": "code",
   "execution_count": 27,
   "metadata": {},
   "outputs": [
    {
     "name": "stdout",
     "output_type": "stream",
     "text": [
      "正确的解决方案和步骤：\n",
      "    1. 计算土地费用：100美元/平方英尺 * x平方英尺 = 100x美元\n",
      "    2. 计算太阳能电池板费用：250美元/平方英尺 * x平方英尺 = 250x美元\n",
      "    3. 计算维护费用：10万美元 + 10美元/平方英尺 * x平方英尺 = 10万美元 + 10x美元\n",
      "    4. 计算总费用：100x美元 + 250x美元 + 10万美元 + 10x美元 = 360x + 10万美元\n",
      "\n",
      "学生的解决方案和实际解决方案是否相同：否\n",
      "\n",
      "学生的成绩：不正确\n"
     ]
    }
   ],
   "source": [
    "prompt = f\"\"\"\n",
    "请判断学生的解决方案是否正确，请通过如下步骤解决这个问题：\n",
    "\n",
    "步骤：\n",
    "首先，自己解决问题，解决问题时列数学表达式。\n",
    "然后将您的解决方案与学生的解决方案进行比较，并评估学生的解决方案是否正确。\n",
    "在自己完成问题之前，请勿决定学生的解决方案是否正确。\n",
    "\n",
    "使用以下格式：\n",
    "\n",
    "问题：问题文本\n",
    "学生的解决方案：学生的解决方案文本\n",
    "实际解决方案和步骤：实际解决方案和步骤文本\n",
    "**学生的计算结果：学生的计算结果文本\n",
    "实际计算结果：实际计算结果文本\n",
    "学生的计算结果和实际计算结果是否相同：是或否\n",
    "学生的解决方案和实际解决方案是否相同：是或否**\n",
    "学生的成绩：正确或不正确\n",
    "\n",
    "问题：\n",
    "我正在建造一个太阳能发电站，需要帮助计算财务。\n",
    "- 土地费用为每平方英尺100美元\n",
    "- 我可以以每平方英尺250美元的价格购买太阳能电池板\n",
    "- 我已经谈判好了维护合同，每年需要支付固定的10万美元，并额外支付每平方英尺10美元\n",
    "作为平方英尺数的函数，首年运营的总费用是多少。\n",
    "\n",
    "学生的解决方案：\n",
    "\n",
    "设x为发电站的大小，单位为平方英尺。\n",
    "费用：\n",
    "1. 土地费用：100x\n",
    "2. 太阳能电池板费用：250x\n",
    "3. 维护费用：100,000+100x\n",
    "总费用：100x+250x+100,000+100x=450x+100,000\n",
    "\n",
    "实际解决方案和步骤：\n",
    "\"\"\"\n",
    "response = get_completion(prompt)\n",
    "print(response)"
   ]
  },
  {
   "cell_type": "markdown",
   "metadata": {},
   "source": []
  },
  {
   "attachments": {},
   "cell_type": "markdown",
   "metadata": {},
   "source": [
    "## 3. सीमाएं"
   ]
  },
  {
   "attachments": {},
   "cell_type": "markdown",
   "metadata": {},
   "source": [
    "**बड़े मॉडलों के लिए एप्लिकेशन विकसित करते समय, कृपया ध्यान रखें:**\n",
    "\n",
    "**झूठा ज्ञान**: मॉडल कभी-कभी ऐसा ज्ञान उत्पन्न करते हैं जो वास्तविक दिखता है लेकिन वास्तव में बना हुआ होता है\n",
    "\n",
    "हालाँकि प्रशिक्षण के दौरान मॉडल को बहुत सारे ज्ञान से अवगत कराया जाता है, लेकिन यह जो जानकारी देखता है उसे *पूरी तरह से* याद नहीं रखता है, इसलिए यह अपने ज्ञान की सीमाओं के बारे में बहुत स्पष्ट नहीं है। इसका मतलब यह है कि यह अस्पष्ट विषयों के बारे में सवालों के जवाब देने का प्रयास कर सकता है और ऐसे उत्तर बनाते हैं जो सुनने में तो उचित लगते हैं लेकिन वास्तव में गलत होते हैंइन मनगढ़ंत विचारों को मतिभ्रम कहें।\n",
    "\n",
    "निम्नलिखित उदाहरण एक बड़े मॉडल की मतिभ्रम को दर्शाता है। हमने बोई द्वारा उत्पादित *एरोग्लाइड अल्ट्रास्लिम स्मार्ट टूथब्रश* उत्पाद के बारे में जानकारी मांगी, जो एक वास्तविक कंपनी है, लेकिन एक बना-बनाया उत्पाद है, और मॉडल ने अपना बना-बनाया ज्ञान प्रदान किया। बहुत ही भ्रामक तरीका."
   ]
  },
  {
   "cell_type": "code",
   "execution_count": 28,
   "metadata": {},
   "outputs": [
    {
     "name": "stdout",
     "output_type": "stream",
     "text": [
      "The AeroGlide UltraSlim Smart Toothbrush by Boie is a high-tech toothbrush that uses advanced sonic technology to provide a deep and thorough clean. It features a slim and sleek design that makes it easy to hold and maneuver, and it comes with a range of smart features that help you optimize your brushing routine.\n",
      "\n",
      "One of the key features of the AeroGlide UltraSlim Smart Toothbrush is its advanced sonic technology, which uses high-frequency vibrations to break up plaque and bacteria on your teeth and gums. This technology is highly effective at removing even the toughest stains and buildup, leaving your teeth feeling clean and fresh.\n",
      "\n",
      "In addition to its sonic technology, the AeroGlide UltraSlim Smart Toothbrush also comes with a range of smart features that help you optimize your brushing routine. These include a built-in timer that ensures you brush for the recommended two minutes, as well as a pressure sensor that alerts you if you're brushing too hard.\n",
      "\n",
      "Overall, the AeroGlide UltraSlim Smart Toothbrush by Boie is a highly advanced and effective toothbrush that is perfect for anyone looking to take their oral hygiene to the next level. With its advanced sonic technology and smart features, it provides a deep and thorough clean that leaves your teeth feeling fresh and healthy.\n"
     ]
    }
   ],
   "source": [
    "prompt = f\"\"\"\n",
    "Tell me about AeroGlide UltraSlim Smart Toothbrush by Boie\n",
    "\"\"\"\n",
    "response = get_completion(prompt)\n",
    "print(response)"
   ]
  },
  {
   "cell_type": "code",
   "execution_count": 29,
   "metadata": {},
   "outputs": [
    {
     "name": "stdout",
     "output_type": "stream",
     "text": [
      "Boie公司生产的AeroGlide UltraSlim Smart Toothbrush是一款智能牙刷，具有以下特点：\n",
      "\n",
      "1. 超薄设计：刷头仅有0.8毫米的厚度，可以更容易地进入口腔深处，清洁更彻底。\n",
      "\n",
      "2. 智能感应：牙刷配备了智能感应技术，可以自动识别刷头的位置和方向，确保每个部位都得到充分的清洁。\n",
      "\n",
      "3. 高效清洁：牙刷采用了高速振动技术，每分钟可达到40000次，可以有效去除牙菌斑和污渍。\n",
      "\n",
      "4. 轻松携带：牙刷采用了便携式设计，可以轻松放入口袋或旅行包中，随时随地进行口腔清洁。\n",
      "\n",
      "5. 环保材料：牙刷采用了环保材料制造，不含有害物质，对环境友好。\n",
      "\n",
      "总之，Boie公司生产的AeroGlide UltraSlim Smart Toothbrush是一款高效、智能、环保的牙刷，可以帮助用户轻松保持口腔健康。\n"
     ]
    }
   ],
   "source": [
    "prompt = f\"\"\"\n",
    "告诉我 Boie 公司生产的 AeroGlide UltraSlim Smart Toothbrush 的相关信息\n",
    "\"\"\"\n",
    "response = get_completion(prompt)\n",
    "print(response)"
   ]
  },
  {
   "cell_type": "markdown",
   "metadata": {},
   "source": []
  },
  {
   "attachments": {},
   "cell_type": "markdown",
   "metadata": {},
   "source": [
    "क्योंकि नकली को असली समझना आसान है, पाठकों को अपने स्वयं के एप्लिकेशन बनाते समय मतिभ्रम से बचने के लिए ट्यूटोरियल की इस श्रृंखला में जो कुछ भी सीखा है उसका उपयोग करने के लिए प्रोत्साहित किया जाता है मतिभ्रम बड़े मॉडलों का एक ज्ञात दोष है (नोट: जुलाई तक)। 2023), और ओपनएआई भी इस मुद्दे को संबोधित करने पर काम कर रहा है।\n",
    "\n",
    "जब आप चाहते हैं कि मॉडल पाठ के आधार पर उत्तर उत्पन्न करे, तो मतिभ्रम को कम करने की एक और रणनीति यह है कि पहले मॉडल से पाठ से सभी उद्धरण (कोई भी प्रासंगिक) प्राप्त करने के लिए कहें।एनटी उद्धरण), और फिर इसे उद्धृत जानकारी के आधार पर प्रश्नों का उत्तर देने के लिए कहें। यह हमें उत्तर के आधार पर स्रोत दस्तावेज़ का पता लगाने की अनुमति देता है, जो आमतौर पर मतिभ्रम को कम करने में बहुत सहायक होता है।"
   ]
  },
  {
   "attachments": {},
   "cell_type": "markdown",
   "metadata": {},
   "source": [
    "**बैकस्लैश के उपयोग पर ध्यान दें:**\n",
    "\n",
    "इस ट्यूटोरियल में, हम पढ़ने के अनुभव को बेहतर बनाने के लिए टेक्स्ट को स्क्रीन आकार में फिट करने के लिए न्यूलाइन वर्णों के बजाय बैकस्लैश \\ का उपयोग करते हैं। GPT-3 न्यूलाइन वर्णों से प्रभावित नहीं होता है, लेकिन जब आप अन्य बड़े मॉडलों को कॉल करते हैं, तो आपको इसकी आवश्यकता होती है विचार करें कि क्या न्यूलाइन वर्ण मॉडल के प्रदर्शन को प्रभावित करेंगे।"
   ]
  }
 ],
 "metadata": {
  "kernelspec": {
   "display_name": "Python 3",
   "language": "python",
   "name": "python3"
  },
  "language_info": {
   "codemirror_mode": {
    "name": "ipython",
    "version": 3
   },
   "file_extension": ".py",
   "mimetype": "text/x-python",
   "name": "python",
   "nbconvert_exporter": "python",
   "pygments_lexer": "ipython3",
   "version": "3.8.13"
  },
  "latex_envs": {
   "LaTeX_envs_menu_present": true,
   "autoclose": false,
   "autocomplete": true,
   "bibliofile": "biblio.bib",
   "cite_by": "apalike",
   "current_citInitial": 1,
   "eqLabelWithNumbers": true,
   "eqNumInitial": 1,
   "hotkeys": {
    "equation": "Ctrl-E",
    "itemize": "Ctrl-I"
   },
   "labels_anchors": false,
   "latex_user_defs": false,
   "report_style_numbering": false,
   "user_envs_cfg": false
  },
  "toc": {
   "base_numbering": 1,
   "nav_menu": {},
   "number_sections": true,
   "sideBar": true,
   "skip_h1_title": false,
   "title_cell": "Table of Contents",
   "title_sidebar": "Contents",
   "toc_cell": false,
   "toc_position": {},
   "toc_section_display": true,
   "toc_window_display": true
  }
 },
 "nbformat": 4,
 "nbformat_minor": 4
}
