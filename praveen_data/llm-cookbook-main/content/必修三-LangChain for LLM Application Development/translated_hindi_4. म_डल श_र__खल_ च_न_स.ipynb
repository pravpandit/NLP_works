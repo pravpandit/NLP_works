{
 "cells": [
  {
   "cell_type": "markdown",
   "id": "52824b89-532a-4e54-87e9-1410813cd39e",
   "metadata": {},
   "source": [
    "# अध्याय 4 मॉडल श्रृंखला\n",
    "\n",
    " - [1. ओपनएआई एपीआई कुंजी सेट करें](#1. ओपनएआई-एपीआई-कुंजी सेट करें)\n",
    " - [2. बड़ी भाषा मॉडल श्रृंखला] (#2. बड़ी भाषा मॉडल श्रृंखला)\n",
    "     - [2.1 आयात डेटा](#2.1-आयात डेटा)\n",
    "     - [2.2 आरंभिक भाषा मॉडल](#2.2-प्रारंभिक भाषा मॉडल)\n",
    "     - [2.3 इनिशियलाइज़ेशन प्रॉम्प्ट टेम्प्लेट](#2.3-इनिशियलाइज़ेशन प्रॉम्प्ट टेम्प्लेट)\n",
    "     - [2.4 एक बड़ी भाषा मॉडल श्रृंखला बनाएं](#2.4-एक बड़ी भाषा मॉडल श्रृंखला बनाएं)\n",
    "     - [2.5 एक बड़ी भाषा मॉडल श्रृंखला चलाएँ](#2.5-एक बड़ी भाषा मॉडल श्रृंखला चलाएँ)\n",
    "     - [2.6 चीनी युक्तियाँ](#2.6-चीनी युक्तियाँ)\n",
    " - [三、अनुक्रमिक श्रृंखला](#三、अनुक्रमिक श्रृंखला)\n",
    "     - [3.1 सरल अनुक्रम श्रृंखला](#3.1-सरल अनुक्रम श्रृंखला)\n",
    "         - [3.1.1 दो उप-श्रृंखला बनाएं](#3.1.1-दो उप-श्रृंखलाएं बनाएं)\n",
    "         - [3.1.2 एक सरल अनुक्रम श्रृंखला बनाएं](#3.1.2-एक सरल अनुक्रम श्रृंखला बनाएं)\n",
    "         - [3.1.3 सरल अनुक्रम श्रृंखला चलाएँ](#3.1.3-सरल अनुक्रम श्रृंखला चलाएँ)\n",
    "         - [3.1.4 चीनी युक्तियाँ](#3.1.4-चीनी युक्तियाँ)- [3.2 अनुक्रम श्रृंखला](#3.2-अनुक्रम श्रृंखला)\n",
    "         - [3.2.1 चार उप-श्रृंखलाएं बनाएं](#3.2.1-चार उप-श्रृंखलाएं बनाएं)\n",
    "         - [3.2.2 चार उप-श्रृंखलाओं को मिलाएं] (#3.2.2- चार उप-श्रृंखलाओं को मिलाएं)\n",
    "         - [3.2.3 चीनी युक्तियाँ](#3.2.3-चीनी युक्तियाँ)\n",
    " - [IV. रूटिंग चेन](#四.-रूटिंग चेन)\n",
    "     - [4.1 प्रॉम्प्ट टेम्प्लेट परिभाषित करें](#4.1-प्रॉम्प्ट टेम्प्लेट परिभाषित करें)\n",
    "     - [4.2 प्रॉम्प्ट टेम्प्लेट को नाम दें और उसका वर्णन करें](#4.2-प्रॉम्प्ट टेम्प्लेट को नाम दें और उसका वर्णन करें)\n",
    "     - [4.3-प्रॉम्प्ट टेम्प्लेट जानकारी के आधार पर संबंधित लक्ष्य श्रृंखला बनाएं](#4.3-प्रॉम्प्ट टेम्प्लेट जानकारी के आधार पर संबंधित लक्ष्य श्रृंखला बनाएं--)\n",
    "     - [4.4 डिफ़ॉल्ट लक्ष्य श्रृंखला बनाएं](#4.4-डिफ़ॉल्ट लक्ष्य श्रृंखला बनाएं)\n",
    "     - [4.5 विभिन्न श्रृंखलाओं के बीच रूटिंग टेम्पलेट्स को परिभाषित करें](#4.5-विभिन्न श्रृंखलाओं के बीच रूटिंग टेम्पलेट्स को परिभाषित करें)\n",
    "     - [4.6-बिल्ड रूटिंग चेन](#4.6-बिल्ड रूटिंग चेन)\n",
    "     - [4.7 समग्र लिंक बनाएं](#4.7- समग्र लिंक बनाएं)\n",
    "     - [4.8 एक प्रश्न पूछें](#4.8-एक प्रश्न पूछें)\n",
    "     - [4.9 चीनी टिप्स](#4.9-中文पाठ संकेत)"
   ]
  },
  {
   "cell_type": "markdown",
   "id": "54810ef7",
   "metadata": {},
   "source": [
    "चेन आमतौर पर बड़े भाषा मॉडल (एलएलएम) को प्रॉम्प्ट (प्रॉम्प्ट) के साथ जोड़ते हैं। इसके आधार पर, हम टेक्स्ट या डेटा पर संचालन की एक श्रृंखला निष्पादित कर सकते हैं।\n",
    "\n",
    "चेन एक साथ कई इनपुट स्वीकार कर सकते हैं\n",
    "\n",
    "उदाहरण के लिए, हम एक श्रृंखला बना सकते हैं जो उपयोगकर्ता इनपुट स्वीकार करती है, इसे प्रॉम्प्ट टेम्पलेट का उपयोग करके प्रारूपित करती है, और फिर एलएलएम को स्वरूपित प्रतिक्रिया भेजती है। हम कई श्रृंखलाओं को एक साथ जोड़कर, या अन्य घटकों के साथ श्रृंखलाओं को जोड़कर अधिक जटिल श्रृंखलाएँ बना सकते हैं।"
   ]
  },
  {
   "cell_type": "markdown",
   "id": "21009bf6-49bd-466e-8177-74c23533d938",
   "metadata": {
    "tags": []
   },
   "source": [
    "## 1. OpenAI API कुंजी सेट करें"
   ]
  },
  {
   "cell_type": "markdown",
   "id": "a2f5993b-f28d-4be4-984f-2d05be9f4579",
   "metadata": {},
   "source": [
    "एपीआई कुंजी प्राप्त करने के लिए [ओपनएआई खाते] (https://platform.openai.com/account/api-keys) में लॉग इन करें, और फिर इसे एक पर्यावरण चर के रूप में सेट करें।\n",
    "\n",
    "- यदि आप इसे वैश्विक पर्यावरण चर के रूप में सेट करना चाहते हैं, तो आप [ज़िहु लेख] (https://zhuanlan.zhihu.com/p/627665725) का संदर्भ ले सकते हैं।\n",
    "- यदि आप इसे स्थानीय/प्रोजेक्ट पर्यावरण चर के रूप में सेट करना चाहते हैं, तो इस फ़ाइल निर्देशिका में एक `.env` फ़ाइल बनाएं, फ़ाइल खोलें और निम्नलिखित सामग्री दर्ज करें।\n",
    "\n",
    "    <p style=”font-family:verdana; फ़ॉन्ट-आकार:12px;रंग:हरा”>\n",
    "    OPENAI_API_KEY='आपका_api_key'\n",
    "    </p>\n",
    "  \n",
    "  \"your_api_key\" को अपनी स्वयं की API कुंजी से बदलें"
   ]
  },
  {
   "cell_type": "code",
   "execution_count": 10,
   "id": "adc3519c-4d12-4011-9223-2f3cb3c42b93",
   "metadata": {},
   "outputs": [],
   "source": [
    "# आवश्यक पैकेज Python-dotenv और openai डाउनलोड करें\n",
    "# यदि आपको इंस्टॉलेशन प्रक्रिया लॉग देखने की आवश्यकता है, तो आप -q हटा सकते हैं\n",
    "!pip install -q python-dotenv\n",
    "!pip install -q openai"
   ]
  },
  {
   "cell_type": "code",
   "execution_count": 11,
   "id": "1ad53241-bef6-42b8-894b-bcbbc8c64df7",
   "metadata": {
    "tags": []
   },
   "outputs": [],
   "source": [
    "import os\n",
    "import openai\n",
    "from dotenv import load_dotenv, find_dotenv\n",
    "\n",
    "# स्थानीय/परियोजना पर्यावरण चर पढ़ें।\n",
    "\n",
    "# find_dotenv() .env फ़ाइल का पथ ढूंढता है और उसका पता लगाता है\n",
    "#load_dotenv() .env फ़ाइल को पढ़ता है और उसमें मौजूद पर्यावरण चर को वर्तमान चल रहे वातावरण में लोड करता है\n",
    "# यदि आप एक वैश्विक पर्यावरण चर सेट करते हैं, तो कोड की इस पंक्ति का कोई प्रभाव नहीं पड़ता है।\n",
    "_ = load_dotenv(find_dotenv())\n",
    "\n",
    "# पर्यावरण चर OPENAI_API_KEY प्राप्त करें\n",
    "openai.api_key = os.environ['OPENAI_API_KEY']  "
   ]
  },
  {
   "cell_type": "markdown",
   "id": "b940ce7c",
   "metadata": {
    "tags": []
   },
   "source": [
    "## 2. बड़ी भाषा मॉडल श्रृंखला"
   ]
  },
  {
   "cell_type": "markdown",
   "id": "e000bd16",
   "metadata": {},
   "source": [
    "बड़ी भाषा मॉडल श्रृंखला (एलएलएमचेन) एक सरल लेकिन बहुत शक्तिशाली श्रृंखला है, और यह कई श्रृंखलाओं का आधार भी है जिन्हें हम बाद में पेश करेंगे।"
   ]
  },
  {
   "cell_type": "markdown",
   "id": "d57e93b9-52ba-4f86-a953-e4661b895a3d",
   "metadata": {},
   "source": [
    "### 2.1 डेटा आयात करें"
   ]
  },
  {
   "cell_type": "code",
   "execution_count": 1,
   "id": "b84e441b",
   "metadata": {},
   "outputs": [],
   "source": [
    "!pip install -q pandas"
   ]
  },
  {
   "cell_type": "code",
   "execution_count": 4,
   "id": "974acf8e-8f88-42de-88f8-40a82cb58e8b",
   "metadata": {},
   "outputs": [],
   "source": [
    "import pandas as pd\n",
    "df = pd.read_csv('data/Data.csv')"
   ]
  },
  {
   "cell_type": "code",
   "execution_count": 5,
   "id": "b7a09c35",
   "metadata": {},
   "outputs": [
    {
     "data": {
      "text/html": [
       "<div>\n",
       "<style scoped>\n",
       "    .dataframe tbody tr th:only-of-type {\n",
       "        vertical-align: middle;\n",
       "    }\n",
       "\n",
       "    .dataframe tbody tr th {\n",
       "        vertical-align: top;\n",
       "    }\n",
       "\n",
       "    .dataframe thead th {\n",
       "        text-align: right;\n",
       "    }\n",
       "</style>\n",
       "<table border=\"1\" class=\"dataframe\">\n",
       "  <thead>\n",
       "    <tr style=\"text-align: right;\">\n",
       "      <th></th>\n",
       "      <th>Product</th>\n",
       "      <th>Review</th>\n",
       "    </tr>\n",
       "  </thead>\n",
       "  <tbody>\n",
       "    <tr>\n",
       "      <th>0</th>\n",
       "      <td>Queen Size Sheet Set</td>\n",
       "      <td>I ordered a king size set. My only criticism w...</td>\n",
       "    </tr>\n",
       "    <tr>\n",
       "      <th>1</th>\n",
       "      <td>Waterproof Phone Pouch</td>\n",
       "      <td>I loved the waterproof sac, although the openi...</td>\n",
       "    </tr>\n",
       "    <tr>\n",
       "      <th>2</th>\n",
       "      <td>Luxury Air Mattress</td>\n",
       "      <td>This mattress had a small hole in the top of i...</td>\n",
       "    </tr>\n",
       "    <tr>\n",
       "      <th>3</th>\n",
       "      <td>Pillows Insert</td>\n",
       "      <td>This is the best throw pillow fillers on Amazo...</td>\n",
       "    </tr>\n",
       "    <tr>\n",
       "      <th>4</th>\n",
       "      <td>Milk Frother Handheld\\n</td>\n",
       "      <td>I loved this product. But they only seem to l...</td>\n",
       "    </tr>\n",
       "  </tbody>\n",
       "</table>\n",
       "</div>"
      ],
      "text/plain": [
       "                   Product                                             Review\n",
       "0     Queen Size Sheet Set  I ordered a king size set. My only criticism w...\n",
       "1   Waterproof Phone Pouch  I loved the waterproof sac, although the openi...\n",
       "2      Luxury Air Mattress  This mattress had a small hole in the top of i...\n",
       "3           Pillows Insert  This is the best throw pillow fillers on Amazo...\n",
       "4  Milk Frother Handheld\\n   I loved this product. But they only seem to l..."
      ]
     },
     "execution_count": 5,
     "metadata": {},
     "output_type": "execute_result"
    }
   ],
   "source": [
    "df.head()"
   ]
  },
  {
   "cell_type": "markdown",
   "id": "daa83d10-04ee-4355-abe3-ab699c9eaca9",
   "metadata": {},
   "source": [
    "### 2.2 आरंभिक भाषा मॉडल"
   ]
  },
  {
   "cell_type": "code",
   "execution_count": 8,
   "id": "e92dff22",
   "metadata": {},
   "outputs": [],
   "source": [
    "from langchain.chat_models import ChatOpenAI \n",
    "from langchain.prompts import ChatPromptTemplate  \n",
    "from langchain.chains import LLMChain   "
   ]
  },
  {
   "cell_type": "code",
   "execution_count": 13,
   "id": "943237a7",
   "metadata": {},
   "outputs": [],
   "source": [
    "# यहां हमने उत्पन्न उत्तरों की यादृच्छिकता को कम करने के लिए पैरामीटर तापमान को 0.0 पर सेट किया है।\n",
    "# यदि आप हर बार अलग और नवीन उत्तर प्राप्त करना चाहते हैं, तो आप इस पैरामीटर को समायोजित करने का प्रयास कर सकते हैं।\n",
    "llm = ChatOpenAI(temperature=0.0)  "
   ]
  },
  {
   "cell_type": "markdown",
   "id": "81887434",
   "metadata": {},
   "source": [
    "### 2.3 इनिशियलाइज़ेशन प्रॉम्प्ट टेम्पलेट\n",
    "प्रॉम्प्ट को आरंभ करें, यह प्रॉम्प्ट उत्पाद नामक एक वेरिएबल को स्वीकार करेगा। यह संकेत एलएलएम को एक ऐसा नाम उत्पन्न करने के लिए कहेगा जो उत्पाद बनाने वाली कंपनी का सबसे अच्छा वर्णन करता हो"
   ]
  },
  {
   "cell_type": "code",
   "execution_count": 14,
   "id": "cdcdb42d",
   "metadata": {},
   "outputs": [],
   "source": [
    "prompt = ChatPromptTemplate.from_template(   \n",
    "    \"What is the best name to describe \\\n",
    "    a company that makes {product}?\"\n",
    ")"
   ]
  },
  {
   "cell_type": "markdown",
   "id": "5c22cb13",
   "metadata": {},
   "source": [
    "### 2.4 एक बड़ी भाषा मॉडल श्रृंखला बनाएं\n",
    "\n",
    "बड़े भाषा मॉडल (एलएलएम) और संकेतों को श्रृंखलाओं में संयोजित करें। यह बड़ी भाषा मॉडल श्रृंखला बहुत सरल है और हमें संकेत चलाने और उन्हें क्रमिक तरीके से बड़े भाषा मॉडल में संयोजित करने की अनुमति देती है।"
   ]
  },
  {
   "cell_type": "code",
   "execution_count": 15,
   "id": "d7abc20b",
   "metadata": {},
   "outputs": [],
   "source": [
    "chain = LLMChain(llm=llm, prompt=prompt)"
   ]
  },
  {
   "cell_type": "markdown",
   "id": "8d7d5ff6",
   "metadata": {},
   "source": [
    "### 2.5 बड़ी भाषा मॉडल श्रृंखला चलाएँ\n",
    "इसलिए यदि हमारे पास \"क्वीन साइज़ शीट सेट\" नामक उत्पाद है तो हम इसे चेन.रन का उपयोग करके इस श्रृंखला के माध्यम से चला सकते हैं"
   ]
  },
  {
   "cell_type": "code",
   "execution_count": 9,
   "id": "ad44d1fb",
   "metadata": {},
   "outputs": [
    {
     "data": {
      "text/plain": [
       "'Royal Linens.'"
      ]
     },
     "execution_count": 9,
     "metadata": {},
     "output_type": "execute_result"
    }
   ],
   "source": [
    "product = \"Queen Size Sheet Set\"\n",
    "chain.run(product)"
   ]
  },
  {
   "cell_type": "markdown",
   "id": "1e1ede1c",
   "metadata": {},
   "source": [
    "आप कोई भी उत्पाद विवरण दर्ज कर सकते हैं और देख सकते हैं कि श्रृंखला क्या आउटपुट देगी"
   ]
  },
  {
   "cell_type": "markdown",
   "id": "8ab31583-5cdf-4885-94d7-59c0d3b90b2e",
   "metadata": {},
   "source": [
    "### 2.6 चीनी युक्तियाँ"
   ]
  },
  {
   "cell_type": "code",
   "execution_count": 16,
   "id": "2181be10",
   "metadata": {},
   "outputs": [
    {
     "data": {
      "text/plain": [
       "'\"豪华床纺\"'"
      ]
     },
     "execution_count": 16,
     "metadata": {},
     "output_type": "execute_result"
    }
   ],
   "source": [
    "prompt = ChatPromptTemplate.from_template(   \n",
    "    \"描述制造{product}的一个公司的最佳名称是什么?\"\n",
    ")\n",
    "chain = LLMChain(llm=llm, prompt=prompt)\n",
    "product = \"大号床单套装\"\n",
    "chain.run(product)"
   ]
  },
  {
   "cell_type": "markdown",
   "id": "49158430",
   "metadata": {},
   "source": [
    "## 3. अनुक्रम शृंखला"
   ]
  },
  {
   "cell_type": "markdown",
   "id": "69b03469",
   "metadata": {},
   "source": [
    "### 3.1 सरल अनुक्रम श्रृंखला\n",
    "\n",
    "SequentialChains वे श्रृंखलाएँ हैं जिनके लिंक पूर्वनिर्धारित क्रम में निष्पादित होते हैं। विशेष रूप से, हम एक सरल अनुक्रमिक श्रृंखला का उपयोग करेंगे, जो अनुक्रमिक श्रृंखला का सबसे सरल प्रकार है, जहां प्रत्येक चरण में एक इनपुट/आउटपुट होता है और एक चरण का आउटपुट अगले चरण का इनपुट होता है।"
   ]
  },
  {
   "cell_type": "code",
   "execution_count": 28,
   "id": "febee243",
   "metadata": {},
   "outputs": [],
   "source": [
    "from langchain.chains import SimpleSequentialChain"
   ]
  },
  {
   "cell_type": "code",
   "execution_count": 22,
   "id": "5d019d6f",
   "metadata": {},
   "outputs": [],
   "source": [
    "llm = ChatOpenAI(temperature=0.9)"
   ]
  },
  {
   "cell_type": "markdown",
   "id": "0e732589",
   "metadata": {},
   "source": [
    "#### 3.1.1 दो उप-श्रृंखलाएँ बनाएँ"
   ]
  },
  {
   "cell_type": "code",
   "execution_count": 23,
   "id": "2f31aa8a",
   "metadata": {},
   "outputs": [],
   "source": [
    "# प्रॉम्प्ट टेम्प्लेट 1: यह प्रॉम्प्ट किसी उत्पाद को स्वीकार करेगा और कंपनी का वर्णन करने के लिए सर्वोत्तम नाम लौटाएगा\n",
    "first_prompt = ChatPromptTemplate.from_template(\n",
    "    \"What is the best name to describe \\\n",
    "    a company that makes {product}?\"\n",
    ")\n",
    "\n",
    "#श्रृंखला 1\n",
    "chain_one = LLMChain(llm=llm, prompt=first_prompt)"
   ]
  },
  {
   "cell_type": "code",
   "execution_count": 24,
   "id": "3f5d5b76",
   "metadata": {},
   "outputs": [],
   "source": [
    "\n",
    "# संकेत टेम्पलेट 2: कंपनी का नाम स्वीकार करें, और फिर कंपनी का 20 शब्दों का विवरण आउटपुट करें\n",
    "second_prompt = ChatPromptTemplate.from_template(\n",
    "    \"Write a 20 words description for the following \\\n",
    "    company:{company_name}\"\n",
    ")\n",
    "#श्रृंखला 2\n",
    "chain_two = LLMChain(llm=llm, prompt=second_prompt)"
   ]
  },
  {
   "cell_type": "markdown",
   "id": "3a1991f4",
   "metadata": {},
   "source": [
    "#### 3.1.2 एक सरल अनुक्रम श्रृंखला का निर्माण\n",
    "अब हम दो LLMChains को जोड़ सकते हैं ताकि हम एक चरण में कंपनी का नाम और विवरण बना सकें"
   ]
  },
  {
   "cell_type": "code",
   "execution_count": 25,
   "id": "6c1eb2c4",
   "metadata": {},
   "outputs": [],
   "source": [
    "overall_simple_chain = SimpleSequentialChain(chains=[chain_one, chain_two], verbose=True)"
   ]
  },
  {
   "cell_type": "markdown",
   "id": "5122f26a",
   "metadata": {},
   "source": [
    "एक इनपुट दें और उपरोक्त श्रृंखला चलाएँ"
   ]
  },
  {
   "cell_type": "markdown",
   "id": "9a80d102-da6b-49f4-8abd-7bff97211232",
   "metadata": {},
   "source": [
    "#### 3.1.3 सरल अनुक्रम श्रृंखला चलाएँ"
   ]
  },
  {
   "cell_type": "code",
   "execution_count": 27,
   "id": "78458efe",
   "metadata": {},
   "outputs": [
    {
     "name": "stdout",
     "output_type": "stream",
     "text": [
      "\n",
      "\n",
      "\u001b[1m> Entering new  chain...\u001b[0m\n",
      "\u001b[36;1m\u001b[1;3mRoyal Rest Linens\u001b[0m\n",
      "\u001b[33;1m\u001b[1;3mRoyal Rest Linens provides high-quality and luxurious linens for a comfortable and restful night's sleep.\u001b[0m\n",
      "\n",
      "\u001b[1m> Finished chain.\u001b[0m\n"
     ]
    },
    {
     "data": {
      "text/plain": [
       "\"Royal Rest Linens provides high-quality and luxurious linens for a comfortable and restful night's sleep.\""
      ]
     },
     "execution_count": 27,
     "metadata": {},
     "output_type": "execute_result"
    }
   ],
   "source": [
    "product = \"Queen Size Sheet Set\"\n",
    "overall_simple_chain.run(product)"
   ]
  },
  {
   "cell_type": "markdown",
   "id": "3983eb68-adf0-4c18-beed-ff6fc09cd78b",
   "metadata": {},
   "source": [
    "#### 3.1.4 चीनी प्रॉम्प्ट"
   ]
  },
  {
   "cell_type": "code",
   "execution_count": 19,
   "id": "c7c32997",
   "metadata": {},
   "outputs": [
    {
     "name": "stdout",
     "output_type": "stream",
     "text": [
      "\n",
      "\n",
      "\u001b[1m> Entering new SimpleSequentialChain chain...\u001b[0m\n",
      "\u001b[36;1m\u001b[1;3m\"尺寸王床品有限公司\"\u001b[0m\n",
      "\u001b[33;1m\u001b[1;3m尺寸王床品有限公司是一家专注于床上用品生产的公司。\u001b[0m\n",
      "\n",
      "\u001b[1m> Finished chain.\u001b[0m\n"
     ]
    },
    {
     "data": {
      "text/plain": [
       "'尺寸王床品有限公司是一家专注于床上用品生产的公司。'"
      ]
     },
     "execution_count": 19,
     "metadata": {},
     "output_type": "execute_result"
    }
   ],
   "source": [
    "#चीनी\n",
    "\n",
    "first_prompt = ChatPromptTemplate.from_template(   \n",
    "    \"描述制造{product}的一个公司的最好的名称是什么\"\n",
    ")\n",
    "chain_one = LLMChain(llm=llm, prompt=first_prompt)\n",
    "\n",
    "second_prompt = ChatPromptTemplate.from_template(   \n",
    "    \"写一个20字的描述对于下面这个\\\n",
    "    公司：{company_name}的\"\n",
    ")\n",
    "chain_two = LLMChain(llm=llm, prompt=second_prompt)\n",
    "\n",
    "\n",
    "overall_simple_chain = SimpleSequentialChain(chains=[chain_one, chain_two],verbose=True)\n",
    "product = \"大号床单套装\"\n",
    "overall_simple_chain.run(product)"
   ]
  },
  {
   "cell_type": "markdown",
   "id": "7b5ce18c",
   "metadata": {},
   "source": [
    "### 3.2 अनुक्रम श्रृंखला"
   ]
  },
  {
   "cell_type": "markdown",
   "id": "1e69f4c0",
   "metadata": {},
   "source": [
    "जब केवल एक इनपुट और एक आउटपुट होता है, तो SimpleSequentialChain को लागू किया जा सकता है। जब एकाधिक इनपुट या एकाधिक आउटपुट होते हैं, तो हमें इसे प्राप्त करने के लिए अनुक्रमिक श्रृंखला (SequentialChain) का उपयोग करने की आवश्यकता होती है।"
   ]
  },
  {
   "cell_type": "code",
   "execution_count": 29,
   "id": "4c129ef6",
   "metadata": {},
   "outputs": [],
   "source": [
    "from langchain.chains import SequentialChain\n",
    "from langchain.chat_models import ChatOpenAI    #导入OpenAI模型\n",
    "from langchain.prompts import ChatPromptTemplate   #导入聊天提示模板\n",
    "from langchain.chains import LLMChain    #导入LLM链。"
   ]
  },
  {
   "cell_type": "code",
   "execution_count": 30,
   "id": "03a8e203",
   "metadata": {},
   "outputs": [],
   "source": [
    "llm = ChatOpenAI(temperature=0.9)"
   ]
  },
  {
   "cell_type": "markdown",
   "id": "9811445c",
   "metadata": {},
   "source": [
    "आगे हम श्रृंखलाओं की एक श्रृंखला बनाएंगे और एक के बाद एक उनका उपयोग करेंगे"
   ]
  },
  {
   "cell_type": "markdown",
   "id": "df9e87ec-b99a-4130-a5b5-cdce064dc6ca",
   "metadata": {},
   "source": [
    "#### 3.2.1 चार उप-श्रृंखलाएँ बनाएँ"
   ]
  },
  {
   "cell_type": "code",
   "execution_count": 38,
   "id": "016187ac",
   "metadata": {},
   "outputs": [],
   "source": [
    "#उपश्रृंखला1\n",
    "\n",
    "# शीघ्र टेम्पलेट 1: अंग्रेजी में अनुवाद करें (नीचे दी गई समीक्षा का अंग्रेजी में अनुवाद करें)\n",
    "first_prompt = ChatPromptTemplate.from_template(\n",
    "    \"Translate the following review to english:\"\n",
    "    \"\\n\\n{Review}\"\n",
    ")\n",
    "# श्रृंखला 1: इनपुट: समीक्षा आउटपुट: अंग्रेजी समीक्षा\n",
    "chain_one = LLMChain(llm=llm, prompt=first_prompt, output_key=\"English_Review\")"
   ]
  },
  {
   "cell_type": "code",
   "execution_count": 39,
   "id": "0fb0730e",
   "metadata": {},
   "outputs": [],
   "source": [
    "#उपश्रृंखला2\n",
    "\n",
    "# शीघ्र टेम्पलेट 2: निम्नलिखित समीक्षा को एक वाक्य में सारांशित करें\n",
    "second_prompt = ChatPromptTemplate.from_template(\n",
    "    \"Can you summarize the following review in 1 sentence:\"\n",
    "    \"\\n\\n{English_Review}\"\n",
    ")\n",
    "#श्रृंखला 2: इनपुट: अंग्रेजी समीक्षा आउटपुट: सारांश\n",
    "chain_two = LLMChain(llm=llm, prompt=second_prompt, output_key=\"summary\")\n"
   ]
  },
  {
   "cell_type": "code",
   "execution_count": 40,
   "id": "6accf92d",
   "metadata": {},
   "outputs": [],
   "source": [
    "#उपश्रृंखला3\n",
    "\n",
    "# शीघ्र टेम्पलेट 3: निम्नलिखित समीक्षा में किस भाषा का उपयोग किया गया है?\n",
    "third_prompt = ChatPromptTemplate.from_template(\n",
    "    \"What language is the following review:\\n\\n{Review}\"\n",
    ")\n",
    "# श्रृंखला 3: इनपुट: समीक्षा आउटपुट: भाषा\n",
    "chain_three = LLMChain(llm=llm, prompt=third_prompt, output_key=\"language\")\n"
   ]
  },
  {
   "cell_type": "code",
   "execution_count": 41,
   "id": "c7a46121",
   "metadata": {},
   "outputs": [],
   "source": [
    "#उपश्रृंखला4\n",
    "\n",
    "# शीघ्र टेम्पलेट 4: विशिष्ट भाषा का उपयोग करते हुए नीचे दिए गए सारांश का अनुवर्ती उत्तर लिखें\n",
    "fourth_prompt = ChatPromptTemplate.from_template(\n",
    "    \"Write a follow up response to the following \"\n",
    "    \"summary in the specified language:\"\n",
    "    \"\\n\\nSummary: {summary}\\n\\nLanguage: {language}\"\n",
    ")\n",
    "# श्रृंखला 4: इनपुट: सारांश, भाषा आउटपुट: अनुवर्ती उत्तर\n",
    "chain_four = LLMChain(llm=llm, prompt=fourth_prompt, output_key=\"followup_message\")\n"
   ]
  },
  {
   "cell_type": "markdown",
   "id": "ff435291-5d20-4c3e-9ed7-76a1140f96d2",
   "metadata": {},
   "source": [
    "#### 3.2.2 चार उप-श्रृंखलाओं का संयोजन"
   ]
  },
  {
   "cell_type": "code",
   "execution_count": 42,
   "id": "89603117",
   "metadata": {},
   "outputs": [],
   "source": [
    "#इनपुट: समीक्षा\n",
    "#आउटपुट: अंग्रेजी समीक्षा, सारांश, अनुवर्ती उत्तर\n",
    "overall_chain = SequentialChain(\n",
    "    chains=[chain_one, chain_two, chain_three, chain_four],\n",
    "    input_variables=[\"Review\"],\n",
    "    output_variables=[\"English_Review\", \"summary\",\"followup_message\"],\n",
    "    verbose=True\n",
    ")"
   ]
  },
  {
   "cell_type": "markdown",
   "id": "0509de01",
   "metadata": {},
   "source": [
    "आइए एक समीक्षा का चयन करें और इसे पूरी श्रृंखला से गुजारें। हम पा सकते हैं कि अंग्रेजी समीक्षा को अनुवाद के रूप में माना जा सकता है। अंतिम आउटपुट अंग्रेजी समीक्षा पर आधारित है मूल फ़्रेंच पाठ निरंतरता जानकारी."
   ]
  },
  {
   "cell_type": "code",
   "execution_count": 43,
   "id": "51b04f45",
   "metadata": {},
   "outputs": [
    {
     "name": "stdout",
     "output_type": "stream",
     "text": [
      "\n",
      "\n",
      "\u001b[1m> Entering new  chain...\u001b[0m\n",
      "\n",
      "\u001b[1m> Finished chain.\u001b[0m\n"
     ]
    },
    {
     "data": {
      "text/plain": [
       "{'Review': \"Je trouve le goût médiocre. La mousse ne tient pas, c'est bizarre. J'achète les mêmes dans le commerce et le goût est bien meilleur...\\nVieux lot ou contrefaçon !?\",\n",
       " 'English_Review': \"I find the taste mediocre. The foam doesn't hold, it's weird. I buy the same ones in the store and the taste is much better...\\nOld batch or counterfeit!?\",\n",
       " 'summary': 'The reviewer is disappointed with the taste and consistency of the product, suspecting that either an old batch or counterfeit version is the cause.',\n",
       " 'followup_message': \"Réponse de suivi :\\n\\nCher(e) critique,\\n\\nNous sommes désolés d'apprendre que notre produit ne répond pas à vos attentes. Nous prenons très au sérieux les commentaires de nos clients et nous tenons à vous rassurer que nous attachons une grande importance à la qualité de nos produits.\\n\\nNous vérifions constamment nos processus de production afin de nous assurer que nos produits sont toujours frais et authentiques. Si vous pensez avoir reçu un produit contrefait ou un lot périmé, nous vous prions de nous contacter directement afin de résoudre ce problème au plus vite. Nous avons un service client dédié qui sera ravi de vous aider avec votre préoccupation.\\n\\nNous tenons à nous excuser pour toute déception ou désagrément que cela aurait pu causer. Votre satisfaction est notre priorité absolue et nous ferons tout notre possible pour remédier à la situation et regagner votre confiance.\\n\\nNous vous remercions de votre compréhension et de votre patience. Votre avis est important pour nous et nous espérons avoir l'occasion de nous rattraper à l'avenir.\\n\\nCordialement,\\nL'équipe de [Nom de l'entreprise]\"}"
      ]
     },
     "execution_count": 43,
     "metadata": {},
     "output_type": "execute_result"
    }
   ],
   "source": [
    "review = df.Review[5]\n",
    "overall_chain(review)"
   ]
  },
  {
   "cell_type": "markdown",
   "id": "18d72f1d-8a1e-4eb6-b00f-1963b3cf3adb",
   "metadata": {},
   "source": [
    "#### 3.2.3 चीनी प्रॉम्प्ट"
   ]
  },
  {
   "cell_type": "code",
   "execution_count": 37,
   "id": "31624a7c",
   "metadata": {},
   "outputs": [
    {
     "name": "stdout",
     "output_type": "stream",
     "text": [
      "\n",
      "\n",
      "\u001b[1m> Entering new  chain...\u001b[0m\n",
      "\n",
      "\u001b[1m> Finished chain.\u001b[0m\n"
     ]
    },
    {
     "data": {
      "text/plain": [
       "{'Review': \"Je trouve le goût médiocre. La mousse ne tient pas, c'est bizarre. J'achète les mêmes dans le commerce et le goût est bien meilleur...\\nVieux lot ou contrefaçon !?\",\n",
       " 'English_Review': \"I find the taste mediocre. The foam doesn't last, it's weird. I buy the same ones from the store and the taste is much better...\\nOld batch or counterfeit!?\",\n",
       " 'summary': \"The taste is mediocre, the foam doesn't last, and there is suspicion of old batch or counterfeit.\",\n",
       " 'followup_message': \"回复: Je suis désolé de vous entendre dire que le goût est moyen et que la mousse ne dure pas longtemps. Nous prenons ces problèmes très au sérieux. Nous allons enquêter pour vérifier s'il s'agit d'un ancien lot ou d'une contrefaçon. Votre satisfaction est notre priorité et nous ferons de notre mieux pour résoudre ce problème. Merci de nous avoir informés.\"}"
      ]
     },
     "execution_count": 37,
     "metadata": {},
     "output_type": "execute_result"
    }
   ],
   "source": [
    "#चीनी\n",
    "\n",
    "#उपश्रृंखला1\n",
    "# शीघ्र टेम्पलेट 1: अंग्रेजी में अनुवाद करें (नीचे दी गई समीक्षा का अंग्रेजी में अनुवाद करें)\n",
    "first_prompt = ChatPromptTemplate.from_template(\n",
    "    \"把下面的评论review翻译成英文:\"\n",
    "    \"\\n\\n{Review}\"\n",
    ")\n",
    "# श्रृंखला 1: इनपुट: समीक्षा आउटपुट: अंग्रेजी समीक्षा\n",
    "chain_one = LLMChain(llm=llm, prompt=first_prompt, output_key=\"English_Review\")\n",
    "\n",
    "#उपश्रृंखला2\n",
    "# शीघ्र टेम्पलेट 2: निम्नलिखित समीक्षा को एक वाक्य में सारांशित करें\n",
    "second_prompt = ChatPromptTemplate.from_template(\n",
    "    \"请你用一句话来总结下面的评论review:\"\n",
    "    \"\\n\\n{English_Review}\"\n",
    ")\n",
    "#श्रृंखला 2: इनपुट: अंग्रेजी समीक्षा आउटपुट: सारांश\n",
    "chain_two = LLMChain(llm=llm, prompt=second_prompt, output_key=\"summary\")\n",
    "\n",
    "\n",
    "#उपश्रृंखला3\n",
    "# शीघ्र टेम्पलेट 3: निम्नलिखित समीक्षा में किस भाषा का उपयोग किया गया है?\n",
    "third_prompt = ChatPromptTemplate.from_template(\n",
    "    \"下面的评论review使用的什么语言:\\n\\n{Review}\"\n",
    ")\n",
    "# श्रृंखला 3: इनपुट: समीक्षा आउटपुट: भाषा\n",
    "chain_three = LLMChain(llm=llm, prompt=third_prompt, output_key=\"language\")\n",
    "\n",
    "\n",
    "#उपश्रृंखला4\n",
    "# शीघ्र टेम्पलेट 4: विशिष्ट भाषा का उपयोग करते हुए नीचे दिए गए सारांश का अनुवर्ती उत्तर लिखें\n",
    "fourth_prompt = ChatPromptTemplate.from_template(\n",
    "    \"使用特定的语言对下面的总结写一个后续回复:\"\n",
    "    \"\\n\\n总结: {summary}\\n\\n语言: {language}\"\n",
    ")\n",
    "# श्रृंखला 4: इनपुट: सारांश, भाषा आउटपुट: अनुवर्ती उत्तर\n",
    "chain_four = LLMChain(llm=llm, prompt=fourth_prompt,\n",
    "                      output_key=\"followup_message\"\n",
    "                     )\n",
    "\n",
    "\n",
    "# चार उप-श्रृंखलाओं को मिलाएं\n",
    "#इनपुट: समीक्षा आउटपुट: अंग्रेजी समीक्षा, सारांश, अनुवर्ती उत्तर\n",
    "overall_chain = SequentialChain(\n",
    "    chains=[chain_one, chain_two, chain_three, chain_four],\n",
    "    input_variables=[\"Review\"],\n",
    "    output_variables=[\"English_Review\", \"summary\",\"followup_message\"],\n",
    "    verbose=True\n",
    ")\n",
    "\n",
    "\n",
    "review = df.Review[5]\n",
    "overall_chain(review)"
   ]
  },
  {
   "cell_type": "markdown",
   "id": "3041ea4c",
   "metadata": {},
   "source": [
    "## 4. रूटिंग चेन"
   ]
  },
  {
   "cell_type": "markdown",
   "id": "f0c32f97",
   "metadata": {},
   "source": [
    "अब तक, हमने बड़ी भाषा मॉडल श्रृंखलाओं और अनुक्रमिक श्रृंखलाओं का अध्ययन किया है। लेकिन क्या होगा यदि हम कुछ अधिक जटिल कार्य करना चाहें?\n",
    "\n",
    "एक काफी सामान्य लेकिन बुनियादी ऑपरेशन एक इनपुट को एक श्रृंखला के नीचे रूट करना है, यह इस बात पर निर्भर करता है कि वास्तव में वह इनपुट क्या है। यदि आपके पास कई उपश्रृंखलाएं हैं, जिनमें से प्रत्येक एक विशिष्ट प्रकार के इनपुट के लिए समर्पित है, तो आप एक रूटिंग श्रृंखला बना सकते हैं जो पहले यह तय करती है कि इसे किस उपश्रृंखला में पास करना है, और फिर इसे उस श्रृंखला में भेजती है।\n",
    "\n",
    "एक राउटर में दो घटक होते हैं:\n",
    "\n",
    "-राउटर चेन: राउटर चेन ही, कॉल करने के लिए अगली चेन का चयन करने के लिए जिम्मेदार है\n",
    "- डेस्टिनेशन_चेन: वे चेन जिन तक राउटर चेन रूट कर सकती है\n",
    "\n",
    "एक ठोस उदाहरण देने के लिए, आइए देखें कि हम विभिन्न प्रकार की श्रृंखलाओं के बीच कहां जाते हैं, जहां हमारे पास अलग-अलग संकेत होते हैं:"
   ]
  },
  {
   "cell_type": "code",
   "execution_count": 28,
   "id": "31b06fc8",
   "metadata": {},
   "outputs": [],
   "source": [
    "from langchain.chains.router import MultiPromptChain  #导入多提示链\n",
    "from langchain.chains.router.llm_router import LLMRouterChain,RouterOutputParser\n",
    "from langchain.prompts import PromptTemplate"
   ]
  },
  {
   "cell_type": "code",
   "execution_count": 29,
   "id": "f3f50bcc",
   "metadata": {},
   "outputs": [],
   "source": [
    "llm = ChatOpenAI(temperature=0)"
   ]
  },
  {
   "cell_type": "markdown",
   "id": "cb1b4708",
   "metadata": {},
   "source": [
    "### 4.1 प्रॉम्प्ट टेम्पलेट को परिभाषित करें"
   ]
  },
  {
   "cell_type": "markdown",
   "id": "c3b85285-c736-4a5d-bd14-d9b5025ca29b",
   "metadata": {},
   "source": [
    "सबसे पहले, हम शीघ्र टेम्पलेट परिभाषित करते हैं जो विभिन्न परिदृश्यों के लिए उपयुक्त हैं।"
   ]
  },
  {
   "cell_type": "code",
   "execution_count": 49,
   "id": "ade83f4f",
   "metadata": {},
   "outputs": [],
   "source": [
    "#भौतिकी के प्रश्नों का उत्तर देने के लिए पहली युक्ति उपयुक्त है\n",
    "physics_template = \"\"\"You are a very smart physics professor. \\\n",
    "You are great at answering questions about physics in a concise\\\n",
    "and easy to understand manner. \\\n",
    "When you don't know the answer to a question you admit\\\n",
    "that you don't know.\n",
    "\n",
    "Here is a question:\n",
    "{input}\"\"\"\n",
    "\n",
    "\n",
    "#दूसरी युक्ति गणित के प्रश्नों का उत्तर देने के लिए उपयुक्त है\n",
    "math_template = \"\"\"You are a very good mathematician. \\\n",
    "You are great at answering math questions. \\\n",
    "You are so good because you are able to break down \\\n",
    "hard problems into their component parts, \n",
    "answer the component parts, and then put them together\\\n",
    "to answer the broader question.\n",
    "\n",
    "Here is a question:\n",
    "{input}\"\"\"\n",
    "\n",
    "\n",
    "#तीसरा ऐतिहासिक प्रश्नों के उत्तर के लिए उपयुक्त है\n",
    "history_template = \"\"\"You are a very good historian. \\\n",
    "You have an excellent knowledge of and understanding of people,\\\n",
    "events and contexts from a range of historical periods. \\\n",
    "You have the ability to think, reflect, debate, discuss and \\\n",
    "evaluate the past. You have a respect for historical evidence\\\n",
    "and the ability to make use of it to support your explanations \\\n",
    "and judgements.\n",
    "\n",
    "Here is a question:\n",
    "{input}\"\"\"\n",
    "\n",
    "\n",
    "#चौथा कंप्यूटर प्रश्नों के उत्तर देने के लिए उपयुक्त है\n",
    "computerscience_template = \"\"\" You are a successful computer scientist.\\\n",
    "You have a passion for creativity, collaboration,\\\n",
    "forward-thinking, confidence, strong problem-solving capabilities,\\\n",
    "understanding of theories and algorithms, and excellent communication \\\n",
    "skills. You are great at answering coding questions. \\\n",
    "You are so good because you know how to solve a problem by \\\n",
    "describing the solution in imperative steps \\\n",
    "that a machine can easily interpret and you know how to \\\n",
    "choose a solution that has a good balance between \\\n",
    "time complexity and space complexity. \n",
    "\n",
    "Here is a question:\n",
    "{input}\"\"\""
   ]
  },
  {
   "cell_type": "markdown",
   "id": "cb3b749b-0d3c-46f2-afab-b1213f208b13",
   "metadata": {},
   "source": [
    "### 4.2 प्रॉम्प्ट टेम्पलेट को नाम दें और उसका वर्णन करें"
   ]
  },
  {
   "cell_type": "markdown",
   "id": "6922b35e",
   "metadata": {},
   "source": [
    "इन प्रॉम्प्ट टेम्प्लेट को परिभाषित करने के बाद, हम प्रत्येक टेम्प्लेट को नाम दे सकते हैं और एक विशिष्ट विवरण दे सकते हैं। उदाहरण के लिए, पहले भौतिकी का विवरण भौतिकी के बारे में सवालों के जवाब देने के लिए उपयुक्त है, और यह जानकारी रूटिंग श्रृंखला को दी जाती है, जो तब तय करती है कि इस उप-श्रृंखला का उपयोग कब करना है।"
   ]
  },
  {
   "cell_type": "code",
   "execution_count": 27,
   "id": "141a3d32",
   "metadata": {},
   "outputs": [],
   "source": [
    "prompt_infos = [\n",
    "    {\n",
    "        \"name\": \"physics\", \n",
    "        \"description\": \"Good for answering questions about physics\", \n",
    "        \"prompt_template\": physics_template\n",
    "    },\n",
    "    {\n",
    "        \"name\": \"math\", \n",
    "        \"description\": \"Good for answering math questions\", \n",
    "        \"prompt_template\": math_template\n",
    "    },\n",
    "    {\n",
    "        \"name\": \"History\", \n",
    "        \"description\": \"Good for answering history questions\", \n",
    "        \"prompt_template\": history_template\n",
    "    },\n",
    "    {\n",
    "        \"name\": \"computer science\", \n",
    "        \"description\": \"Good for answering computer science questions\", \n",
    "        \"prompt_template\": computerscience_template\n",
    "    }\n",
    "]"
   ]
  },
  {
   "cell_type": "markdown",
   "id": "8795cd42",
   "metadata": {},
   "source": [
    "LLMRouterChain (यह श्रृंखला चीज़ों को रूट करने का तरीका निर्धारित करने के लिए LLM का उपयोग करती है)\n",
    "\n",
    "यहां, हमें एक **मल्टी-प्रॉम्प्ट श्रृंखला** की आवश्यकता है। यह एक विशिष्ट प्रकार की श्रृंखला है जिसका उपयोग कई अलग-अलग प्रॉम्प्ट टेम्पलेट्स के बीच रूटिंग के लिए किया जाता है। लेकिन यह सिर्फ एक प्रकार की रूटिंग है, हम किसी भी प्रकार की श्रृंखलाओं के बीच भी रूट कर सकते हैं।\n",
    "\n",
    "जिन कुछ कक्षाओं को हम यहां लागू करने जा रहे हैं वे बड़ी मॉडल राउटर श्रृंखलाएं हैं। कक्षा स्वयं विभिन्न उपश्रृंखलाओं के बीच रूट करने के लिए एक भाषा मॉडल का उपयोग करती है। यहीं पर ऊपर दिए गए विवरण और नाम का उपयोग किया जाएगा।"
   ]
  },
  {
   "cell_type": "markdown",
   "id": "46633b43",
   "metadata": {},
   "source": [
    "### 4.3 शीघ्र टेम्पलेट जानकारी के आधार पर संबंधित लक्ष्य श्रृंखला बनाएं\n",
    "लक्ष्य श्रृंखला एक श्रृंखला है जिसे रूटिंग श्रृंखला कहा जाता है। प्रत्येक लक्ष्य श्रृंखला एक भाषा मॉडल श्रृंखला है।"
   ]
  },
  {
   "cell_type": "code",
   "execution_count": 30,
   "id": "8eefec24",
   "metadata": {},
   "outputs": [],
   "source": [
    "destination_chains = {}\n",
    "for p_info in prompt_infos:\n",
    "    name = p_info[\"name\"]\n",
    "    prompt_template = p_info[\"prompt_template\"]\n",
    "    prompt = ChatPromptTemplate.from_template(template=prompt_template)\n",
    "    chain = LLMChain(llm=llm, prompt=prompt)\n",
    "    destination_chains[name] = chain  \n",
    "    \n",
    "destinations = [f\"{p['name']}: {p['description']}\" for p in prompt_infos]\n",
    "destinations_str = \"\\n\".join(destinations)"
   ]
  },
  {
   "cell_type": "markdown",
   "id": "eba115de",
   "metadata": {
    "tags": []
   },
   "source": [
    "### 4.4 डिफ़ॉल्ट लक्ष्य श्रृंखला बनाएं\n",
    "लक्ष्य श्रृंखला के अतिरिक्त, हमें एक डिफ़ॉल्ट लक्ष्य श्रृंखला की भी आवश्यकता है। यह एक श्रृंखला है जिसे तब कहा जाता है जब राउटर यह तय नहीं कर पाता कि किस उपश्रृंखला का उपयोग करना है। उपरोक्त उदाहरण में, इसे तब कहा जा सकता है जब इनपुट प्रश्न का भौतिकी, गणित, इतिहास या कंप्यूटर विज्ञान से कोई लेना-देना नहीं है।"
   ]
  },
  {
   "cell_type": "code",
   "execution_count": 31,
   "id": "9f98018a",
   "metadata": {},
   "outputs": [],
   "source": [
    "default_prompt = ChatPromptTemplate.from_template(\"{input}\")\n",
    "default_chain = LLMChain(llm=llm, prompt=default_prompt)"
   ]
  },
  {
   "cell_type": "markdown",
   "id": "948700c4",
   "metadata": {},
   "source": [
    "### 4.5 विभिन्न श्रृंखलाओं के बीच रूटिंग टेम्पलेट्स को परिभाषित करें\n",
    "\n",
    "इसमें पूरा किए जाने वाले कार्य का विवरण और आउटपुट किस विशिष्ट प्रारूप में होना चाहिए, इसका विवरण शामिल है।"
   ]
  },
  {
   "cell_type": "markdown",
   "id": "24f30c2c",
   "metadata": {},
   "source": [
    "नोट: यहां मूल ट्यूटोरियल के आधार पर एक उदाहरण जोड़ा गया है, मुख्यतः क्योंकि \"gpt-3.5-टर्बो\" मॉडल टेम्पलेट के अर्थ को समझने के लिए अच्छी तरह से अनुकूलित नहीं है, \"text-davinci-003\" या \"gpt-4-\" का उपयोग करें। 0613\" यह बहुत अच्छी तरह से काम कर सकता है, इसलिए इसे सीखना आसान बनाने के लिए मैंने यहां और उदाहरण युक्तियाँ जोड़ी हैं।\n",
    "उदाहरण:\n",
    "<< इनपुट >>\n",
    "\"ब्लैक बॉडी रेडिएशन क्या है?\"\n",
    "<< आउटपुट >>\n",
    "```json\n",
    "{{{{\n",
    "    \"गंतव्य\": स्ट्रिंग \\ उपयोग करने के संकेत का नाम या \"डिफ़ॉल्ट\"\n",
    "    \"next_inputs\": स्ट्रिंग \\ मूल इनपुट का एक संभावित संशोधित संस्करण\n",
    "}}}}\n",
    "```"
   ]
  },
  {
   "cell_type": "code",
   "execution_count": 32,
   "id": "11b2e2ba",
   "metadata": {},
   "outputs": [],
   "source": [
    "MULTI_PROMPT_ROUTER_TEMPLATE = \"\"\"Given a raw text input to a \\\n",
    "language model select the model prompt best suited for the input. \\\n",
    "You will be given the names of the available prompts and a \\\n",
    "description of what the prompt is best suited for. \\\n",
    "You may also revise the original input if you think that revising\\\n",
    "it will ultimately lead to a better response from the language model.\n",
    "\n",
    "<< FORMATTING >>\n",
    "Return a markdown code snippet with a JSON object formatted to look like:\n",
    "```json\n",
    "{{{{\n",
    "    \"destination\": string \\ name of the prompt to use or \"DEFAULT\"\n",
    "    \"next_inputs\": string \\ a potentially modified version of the original input\n",
    "}}}}\n",
    "```\n",
    "\n",
    "REMEMBER: \"destination\" MUST be one of the candidate prompt \\\n",
    "names specified below OR it can be \"DEFAULT\" if the input is not\\\n",
    "well suited for any of the candidate prompts.\n",
    "REMEMBER: \"next_inputs\" can just be the original input \\\n",
    "if you don't think any modifications are needed.\n",
    "\n",
    "<< CANDIDATE PROMPTS >>\n",
    "{destinations}\n",
    "\n",
    "<< INPUT >>\n",
    "{{input}}\n",
    "\n",
    "<< OUTPUT (remember to include the ```json)>>\n",
    "\n",
    "eg:\n",
    "<< INPUT >>\n",
    "\"What is black body radiation?\"\n",
    "<< OUTPUT >>\n",
    "```json\n",
    "{{{{\n",
    "    \"destination\": string \\ name of the prompt to use or \"DEFAULT\"\n",
    "    \"next_inputs\": string \\ a potentially modified version of the original input\n",
    "}}}}\n",
    "```\n",
    "\n",
    "\"\"\""
   ]
  },
  {
   "cell_type": "markdown",
   "id": "de5c46d0",
   "metadata": {},
   "source": [
    "### 4.6 राउटिंग चेन बनाएं\n",
    "सबसे पहले, हम ऊपर परिभाषित लक्ष्यों को फ़ॉर्मेट करके संपूर्ण राउटर टेम्पलेट बनाते हैं। इस टेम्पलेट का उपयोग कई अलग-अलग प्रकार के लक्ष्यों के लिए किया जा सकता है।\n",
    "इसलिए यहां, केवल भौतिकी, गणित, इतिहास और कंप्यूटर विज्ञान के बजाय, आप अंग्रेजी या लैटिन जैसे एक अलग विषय जोड़ सकते हैं।\n",
    "\n",
    "इसके बाद, हम इस टेम्पलेट से प्रॉम्प्ट टेम्पलेट बनाते हैं\n",
    "\n",
    "अंत में, एलएलएम और संपूर्ण रूटिंग संकेत पास करके रूटिंग श्रृंखला बनाएं। यह ध्यान रखना महत्वपूर्ण है कि यहां रूटिंग आउटपुट पार्सिंग है, यह महत्वपूर्ण है क्योंकि यह इस लिंक को यह तय करने में मदद करेगा कि किन उप-लिंक के बीच रूट करना है।"
   ]
  },
  {
   "cell_type": "code",
   "execution_count": 34,
   "id": "1387109d",
   "metadata": {},
   "outputs": [],
   "source": [
    "router_template = MULTI_PROMPT_ROUTER_TEMPLATE.format(\n",
    "    destinations=destinations_str\n",
    ")\n",
    "router_prompt = PromptTemplate(\n",
    "    template=router_template,\n",
    "    input_variables=[\"input\"],\n",
    "    output_parser=RouterOutputParser(),\n",
    ")\n",
    "\n",
    "router_chain = LLMRouterChain.from_llm(llm, router_prompt)"
   ]
  },
  {
   "cell_type": "markdown",
   "id": "7e92355c",
   "metadata": {},
   "source": [
    "### 4.7 समग्र लिंक बनाएं"
   ]
  },
  {
   "cell_type": "code",
   "execution_count": 35,
   "id": "2fb7d560",
   "metadata": {},
   "outputs": [],
   "source": [
    "#मल्टी-प्रॉम्प्ट श्रृंखला\n",
    "chain = MultiPromptChain(router_chain=router_chain,    #l路由链路\n",
    "                         destination_chains=destination_chains,   #目标链路\n",
    "                         default_chain=default_chain,      #默认链路\n",
    "                         verbose=True   \n",
    "                        )"
   ]
  },
  {
   "cell_type": "markdown",
   "id": "086503f7",
   "metadata": {},
   "source": [
    "### 4.8 एक प्रश्न पूछें"
   ]
  },
  {
   "cell_type": "markdown",
   "id": "969cd878",
   "metadata": {},
   "source": [
    "यदि हम कोई भौतिक प्रश्न पूछते हैं, तो हम उसे भौतिक लिंक पर ले जाते हुए देखना चाहते हैं"
   ]
  },
  {
   "cell_type": "code",
   "execution_count": null,
   "id": "2217d987",
   "metadata": {},
   "outputs": [
    {
     "name": "stdout",
     "output_type": "stream",
     "text": [
      "\n",
      "\n",
      "\u001b[1m> Entering new MultiPromptChain chain...\u001b[0m\n",
      "physics: {'input': 'What is black body radiation?'}\n",
      "\u001b[1m> Finished chain.\u001b[0m\n"
     ]
    },
    {
     "data": {
      "text/plain": [
       "'Black body radiation is the electromagnetic radiation emitted by a perfect black body, which absorbs all incident radiation and reflects none. It is characterized by a continuous spectrum of radiated energy that is dependent on the temperature of the body, with higher temperatures leading to more intense and shorter wavelength radiation. This phenomenon is an important concept in thermal physics and has numerous applications, ranging from understanding stellar spectra to designing artificial light sources.'"
      ]
     },
     "metadata": {},
     "output_type": "display_data"
    }
   ],
   "source": [
    "#प्रश्न: ब्लैकबॉडी रेडिएशन क्या है?\n",
    "chain.run(\"What is black body radiation?\")"
   ]
  },
  {
   "cell_type": "markdown",
   "id": "289c5ca9",
   "metadata": {},
   "source": [
    "यदि हम कोई गणित प्रश्न पूछते हैं, तो हम उसे गणित लिंक पर जाते हुए देखना चाहते हैं"
   ]
  },
  {
   "cell_type": "code",
   "execution_count": 22,
   "id": "3b717379",
   "metadata": {},
   "outputs": [
    {
     "name": "stdout",
     "output_type": "stream",
     "text": [
      "\n",
      "\n",
      "\u001b[1m> Entering new MultiPromptChain chain...\u001b[0m\n",
      "math: {'input': 'what is 2 + 2'}\n",
      "\u001b[1m> Finished chain.\u001b[0m\n"
     ]
    },
    {
     "data": {
      "text/plain": [
       "'As an AI language model, I can answer this question. The answer to 2 + 2 is 4.'"
      ]
     },
     "execution_count": 22,
     "metadata": {},
     "output_type": "execute_result"
    }
   ],
   "source": [
    "#प्रश्न: 2+2 किसके बराबर होता है?\n",
    "chain.run(\"what is 2 + 2\")"
   ]
  },
  {
   "cell_type": "markdown",
   "id": "4186a2b9",
   "metadata": {},
   "source": [
    "यदि हम कोई ऐसा प्रश्न पास कर देते हैं जो किसी सबलिंक से संबंधित नहीं है तो क्या होगा?\n",
    "\n",
    "यहां, हमने जीव विज्ञान के बारे में एक प्रश्न पूछा है, और हम देख सकते हैं कि उसने जो लिंक चुना है वह कोई नहीं है। इसका मतलब यह है कि इसे डिफ़ॉल्ट लिंक पर भेज दिया जाएगा, जो स्वयं भाषा मॉडल के लिए एक सामान्य कॉल है। भाषा मॉडल सौभाग्य से जीव विज्ञान के बारे में बहुत कुछ जानते हैं, इसलिए यह हमारी मदद कर सकते हैं।"
   ]
  },
  {
   "cell_type": "code",
   "execution_count": 40,
   "id": "29e5be01",
   "metadata": {},
   "outputs": [
    {
     "name": "stdout",
     "output_type": "stream",
     "text": [
      "\n",
      "\n",
      "\u001b[1m> Entering new MultiPromptChain chain...\u001b[0m\n",
      "None: {'input': 'Why does every cell in our body contain DNA?'}\n",
      "\u001b[1m> Finished chain.\u001b[0m\n"
     ]
    },
    {
     "data": {
      "text/plain": [
       "'Every cell in our body contains DNA because DNA carries the genetic information that determines the characteristics and functions of each cell. DNA contains the instructions for the synthesis of proteins, which are essential for the structure and function of cells. Additionally, DNA is responsible for the transmission of genetic information from one generation to the next. Therefore, every cell in our body needs DNA to carry out its specific functions and to maintain the integrity of the organism as a whole.'"
      ]
     },
     "execution_count": 40,
     "metadata": {},
     "output_type": "execute_result"
    }
   ],
   "source": [
    "# प्रश्न: हमारे शरीर की प्रत्येक कोशिका में DNA क्यों होता है?\n",
    "chain.run(\"Why does every cell in our body contain DNA?\")"
   ]
  },
  {
   "cell_type": "markdown",
   "id": "753b5f1d-b010-4f33-a928-d3b9e85bf289",
   "metadata": {},
   "source": [
    "### 4.9 चीनी युक्तियाँ"
   ]
  },
  {
   "cell_type": "code",
   "execution_count": 51,
   "id": "f7fade7a",
   "metadata": {},
   "outputs": [],
   "source": [
    "#चीनी\n",
    "#भौतिकी के प्रश्नों का उत्तर देने के लिए पहली युक्ति उपयुक्त है\n",
    "physics_template = \"\"\"你是一个非常聪明的物理专家。 \\\n",
    "你擅长用一种简洁并且易于理解的方式去回答问题。\\\n",
    "当你不知道问题的答案时，你承认\\\n",
    "你不知道.\n",
    "\n",
    "这是一个问题:\n",
    "{input}\"\"\"\n",
    "\n",
    "\n",
    "#दूसरी युक्ति गणित के प्रश्नों का उत्तर देने के लिए उपयुक्त है\n",
    "math_template = \"\"\"你是一个非常优秀的数学家。 \\\n",
    "你擅长回答数学问题。 \\\n",
    "你之所以如此优秀， \\\n",
    "是因为你能够将棘手的问题分解为组成部分，\\\n",
    "回答组成部分，然后将它们组合在一起，回答更广泛的问题。\n",
    "\n",
    "这是一个问题：\n",
    "{input}\"\"\"\n",
    "\n",
    "\n",
    "#तीसरा ऐतिहासिक प्रश्नों के उत्तर के लिए उपयुक्त है\n",
    "history_template = \"\"\"你是以为非常优秀的历史学家。 \\\n",
    "你对一系列历史时期的人物、事件和背景有着极好的学识和理解\\\n",
    "你有能力思考、反思、辩证、讨论和评估过去。\\\n",
    "你尊重历史证据，并有能力利用它来支持你的解释和判断。\n",
    "\n",
    "这是一个问题:\n",
    "{input}\"\"\"\n",
    "\n",
    "\n",
    "#चौथा कंप्यूटर प्रश्नों के उत्तर देने के लिए उपयुक्त है\n",
    "computerscience_template = \"\"\" 你是一个成功的计算机科学专家。\\\n",
    "你有创造力、协作精神、\\\n",
    "前瞻性思维、自信、解决问题的能力、\\\n",
    "对理论和算法的理解以及出色的沟通技巧。\\\n",
    "你非常擅长回答编程问题。\\\n",
    "你之所以如此优秀，是因为你知道  \\\n",
    "如何通过以机器可以轻松解释的命令式步骤描述解决方案来解决问题，\\\n",
    "并且你知道如何选择在时间复杂性和空间复杂性之间取得良好平衡的解决方案。\n",
    "\n",
    "这还是一个输入：\n",
    "{input}\"\"\""
   ]
  },
  {
   "cell_type": "code",
   "execution_count": 52,
   "id": "deb8aafc",
   "metadata": {},
   "outputs": [],
   "source": [
    "#चीनी\n",
    "prompt_infos = [\n",
    "    {\n",
    "        \"名字\": \"物理学\", \n",
    "        \"描述\": \"擅长回答关于物理学的问题\", \n",
    "        \"提示模板\": physics_template\n",
    "    },\n",
    "    {\n",
    "        \"名字\": \"数学\", \n",
    "        \"描述\": \"擅长回答数学问题\", \n",
    "        \"提示模板\": math_template\n",
    "    },\n",
    "    {\n",
    "        \"名字\": \"历史\", \n",
    "        \"描述\": \"擅长回答历史问题\", \n",
    "        \"提示模板\": history_template\n",
    "    },\n",
    "    {\n",
    "        \"名字\": \"计算机科学\", \n",
    "        \"描述\": \"擅长回答计算机科学问题\", \n",
    "        \"提示模板\": computerscience_template\n",
    "    }\n",
    "]\n"
   ]
  },
  {
   "cell_type": "code",
   "execution_count": null,
   "id": "fd6eb641",
   "metadata": {},
   "outputs": [],
   "source": [
    "#चीनी\n",
    "destination_chains = {}\n",
    "for p_info in prompt_infos:\n",
    "    name = p_info[\"名字\"]\n",
    "    prompt_template = p_info[\"提示模板\"]\n",
    "    prompt = ChatPromptTemplate.from_template(template=prompt_template)\n",
    "    chain = LLMChain(llm=llm, prompt=prompt)\n",
    "    destination_chains[name] = chain  \n",
    "    \n",
    "destinations = [f\"{p['名字']}: {p['描述']}\" for p in prompt_infos]\n",
    "destinations_str = \"\\n\".join(destinations)"
   ]
  },
  {
   "cell_type": "code",
   "execution_count": null,
   "id": "af088d6b-a70b-4cd7-bc6e-4ad7b32e6ae1",
   "metadata": {},
   "outputs": [],
   "source": [
    "default_prompt = ChatPromptTemplate.from_template(\"{input}\")\n",
    "default_chain = LLMChain(llm=llm, prompt=default_prompt)"
   ]
  },
  {
   "cell_type": "code",
   "execution_count": null,
   "id": "a7aae035",
   "metadata": {},
   "outputs": [],
   "source": [
    "#चीनी\n",
    "\n",
    "#मल्टी-प्रॉम्प्ट रूटिंग टेम्पलेट\n",
    "MULTI_PROMPT_ROUTER_TEMPLATE = \"\"\"给语言模型一个原始文本输入，\\\n",
    "让其选择最适合输入的模型提示。\\\n",
    "系统将为您提供可用提示的名称以及最适合改提示的描述。\\\n",
    "如果你认为修改原始输入最终会导致语言模型做出更好的响应，\\\n",
    "你也可以修改原始输入。\n",
    "\n",
    "\n",
    "<< 格式 >>\n",
    "返回一个带有JSON对象的markdown代码片段，该JSON对象的格式如下：\n",
    "```json\n",
    "{{{{\n",
    "    \"destination\": 字符串 \\ 使用的提示名字或者使用 \"DEFAULT\"\n",
    "    \"next_inputs\": 字符串 \\ 原始输入的改进版本\n",
    "}}}}\n",
    "```\n",
    "\n",
    "\n",
    "记住：“destination”必须是下面指定的候选提示名称之一，\\\n",
    "或者如果输入不太适合任何候选提示，\\\n",
    "则可以是 “DEFAULT” 。\n",
    "记住：如果您认为不需要任何修改，\\\n",
    "则 “next_inputs” 可以只是原始输入。\n",
    "\n",
    "<< 候选提示 >>\n",
    "{destinations}\n",
    "\n",
    "<< 输入 >>\n",
    "{{input}}\n",
    "\n",
    "<< 输出 (记得要包含 ```json)>>\n",
    "\n",
    "样例:\n",
    "<< 输入 >>\n",
    "\"什么是黑体辐射?\"\n",
    "<< 输出 >>\n",
    "```json\n",
    "{{{{\n",
    "    \"destination\": 字符串 \\ 使用的提示名字或者使用 \"DEFAULT\"\n",
    "    \"next_inputs\": 字符串 \\ 原始输入的改进版本\n",
    "}}}}\n",
    "```\n",
    "\n",
    "\"\"\""
   ]
  },
  {
   "cell_type": "code",
   "execution_count": null,
   "id": "7470b25c-ef82-496c-a6e0-e04b99b08e70",
   "metadata": {},
   "outputs": [],
   "source": [
    "#मल्टी-प्रॉम्प्ट श्रृंखला\n",
    "chain = MultiPromptChain(router_chain=router_chain,    #l路由链路\n",
    "                         destination_chains=destination_chains,   #目标链路\n",
    "                         default_chain=default_chain,      #默认链路\n",
    "                         verbose=True   \n",
    "                        )"
   ]
  },
  {
   "cell_type": "code",
   "execution_count": 36,
   "id": "4446724c",
   "metadata": {},
   "outputs": [
    {
     "name": "stdout",
     "output_type": "stream",
     "text": [
      "\n",
      "\n",
      "\u001b[1m> Entering new MultiPromptChain chain...\u001b[0m\n",
      "physics: {'input': '什么是黑体辐射？'}\n",
      "\u001b[1m> Finished chain.\u001b[0m\n"
     ]
    },
    {
     "data": {
      "text/plain": [
       "'黑体辐射是指一个理想化的物体，它能够完全吸收所有入射到它表面的辐射能量，并以热辐射的形式重新发射出来。黑体辐射的特点是其辐射能量的分布与温度有关，随着温度的升高，辐射能量的峰值会向更短的波长方向移动。这个现象被称为黑体辐射谱的位移定律，由普朗克在20世纪初提出。黑体辐射在研究热力学、量子力学和宇宙学等领域中具有重要的应用。'"
      ]
     },
     "execution_count": 36,
     "metadata": {},
     "output_type": "execute_result"
    }
   ],
   "source": [
    "#चीनी\n",
    "chain.run(\"什么是黑体辐射？\")"
   ]
  },
  {
   "cell_type": "code",
   "execution_count": 41,
   "id": "ef81eda3",
   "metadata": {},
   "outputs": [
    {
     "name": "stdout",
     "output_type": "stream",
     "text": [
      "\n",
      "\n",
      "\u001b[1m> Entering new MultiPromptChain chain...\u001b[0m\n",
      "History: {'input': '你知道李白是谁嘛?'}\n",
      "\u001b[1m> Finished chain.\u001b[0m\n"
     ]
    },
    {
     "data": {
      "text/plain": [
       "'李白是唐朝时期的一位著名诗人。他的诗歌以豪放、奔放、自由的风格著称，被誉为“诗仙”。他的作品涉及广泛，包括山水田园、历史传说、哲理思考等多个方面，对中国古典文学的发展产生了深远的影响。'"
      ]
     },
     "execution_count": 41,
     "metadata": {},
     "output_type": "execute_result"
    }
   ],
   "source": [
    "#चीनी\n",
    "chain.run(\"你知道李白是谁嘛?\")"
   ]
  },
  {
   "cell_type": "code",
   "execution_count": 37,
   "id": "795bea17",
   "metadata": {},
   "outputs": [
    {
     "name": "stdout",
     "output_type": "stream",
     "text": [
      "\n",
      "\n",
      "\u001b[1m> Entering new MultiPromptChain chain...\u001b[0m\n",
      "math: {'input': '2 + 2 等于多少'}"
     ]
    },
    {
     "name": "stderr",
     "output_type": "stream",
     "text": [
      "Retrying langchain.chat_models.openai.ChatOpenAI.completion_with_retry.<locals>._completion_with_retry in 1.0 seconds as it raised ServiceUnavailableError: The server is overloaded or not ready yet..\n"
     ]
    },
    {
     "name": "stdout",
     "output_type": "stream",
     "text": [
      "\n",
      "\u001b[1m> Finished chain.\u001b[0m\n"
     ]
    },
    {
     "data": {
      "text/plain": [
       "'2 + 2 等于 4。'"
      ]
     },
     "execution_count": 37,
     "metadata": {},
     "output_type": "execute_result"
    }
   ],
   "source": [
    "#चीनी\n",
    "chain.run(\"2 + 2 等于多少\")"
   ]
  },
  {
   "cell_type": "code",
   "execution_count": 38,
   "id": "a64d0759",
   "metadata": {},
   "outputs": [
    {
     "name": "stdout",
     "output_type": "stream",
     "text": [
      "\n",
      "\n",
      "\u001b[1m> Entering new MultiPromptChain chain...\u001b[0m\n",
      "None: {'input': '为什么我们身体里的每个细胞都包含DNA？'}\n",
      "\u001b[1m> Finished chain.\u001b[0m\n"
     ]
    },
    {
     "data": {
      "text/plain": [
       "'我们身体里的每个细胞都包含DNA，是因为DNA是遗传信息的载体。DNA是由四种碱基（腺嘌呤、鸟嘌呤、胸腺嘧啶和鳞嘌呤）组成的长链状分子，它存储了生物体的遗传信息，包括个体的特征、生长发育、代谢功能等。每个细胞都需要这些遗传信息来执行其特定的功能和任务，因此每个细胞都需要包含DNA。此外，DNA还能通过复制和传递给下一代细胞和个体，以保证遗传信息的传承。'"
      ]
     },
     "execution_count": 38,
     "metadata": {},
     "output_type": "execute_result"
    }
   ],
   "source": [
    "#चीनी\n",
    "chain.run(\"为什么我们身体里的每个细胞都包含DNA？\")"
   ]
  }
 ],
 "metadata": {
  "kernelspec": {
   "display_name": "Python 3 (ipykernel)",
   "language": "python",
   "name": "python3"
  },
  "language_info": {
   "codemirror_mode": {
    "name": "ipython",
    "version": 3
   },
   "file_extension": ".py",
   "mimetype": "text/x-python",
   "name": "python",
   "nbconvert_exporter": "python",
   "pygments_lexer": "ipython3",
   "version": "3.9.12"
  }
 },
 "nbformat": 4,
 "nbformat_minor": 5
}
