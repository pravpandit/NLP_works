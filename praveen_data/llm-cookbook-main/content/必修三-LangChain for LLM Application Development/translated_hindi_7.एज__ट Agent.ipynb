{
 "cells": [
  {
   "cell_type": "markdown",
   "id": "2caa79ba-45e3-437c-9cb6-e433f443f0bf",
   "metadata": {},
   "source": [
    "# अध्याय 7 एजेंट\n",
    "\n",
    " - [1. ओपनएआई एपीआई कुंजी सेट करें](#1. ओपनएआई-एपीआई-कुंजी सेट करें)\n",
    " - [2. लैंगचेन बिल्ट-इन टूल्स] (#2. लैंगचेन बिल्ट-इन टूल्स)\n",
    "     - [2.1 एलएलएम-गणित और विकिपीडिया टूल का उपयोग करें](#2.1-एलएम-गणित और विकिपीडिया टूल का उपयोग करें)\n",
    "     - [2.2 PythonREPLTool टूल का उपयोग करें](#2.2- PythonREPLTool टूल का उपयोग करें)\n",
    " - [3. अपने स्वयं के उपकरण परिभाषित करें और उन्हें एजेंट में उपयोग करें] (#3. - अपने स्वयं के उपकरण परिभाषित करें और उन्हें एजेंट में उपयोग करें)\n",
    "     - [3.1 कस्टम टाइम टूल बनाएं और उपयोग करें](#3.1-कस्टम टाइम टूल बनाएं और उपयोग करें)"
   ]
  },
  {
   "cell_type": "markdown",
   "id": "8a31726a-82ac-46e4-a51e-7747fc4c6aed",
   "metadata": {
    "tags": []
   },
   "source": [
    "## 1. OpenAI API कुंजी सेट करें\n",
    "\n",
    "एपीआई कुंजी प्राप्त करने के लिए [ओपनएआई खाते] (https://platform.openai.com/account/api-keys) में लॉग इन करें, और फिर इसे एक पर्यावरण चर के रूप में सेट करें।\n",
    "\n",
    "- यदि आप इसे वैश्विक पर्यावरण चर के रूप में सेट करना चाहते हैं, तो आप [ज़िहु लेख] (https://zhuanlan.zhihu.com/p/627665725) का संदर्भ ले सकते हैं।\n",
    "- यदि आप इसे स्थानीय/प्रोजेक्ट पर्यावरण चर के रूप में सेट करना चाहते हैं, तो इस फ़ाइल निर्देशिका में एक `.env` फ़ाइल बनाएं, फ़ाइल खोलें और निम्नलिखित सामग्री दर्ज करें।\n",
    "\n",
    "    <p style=”font-family:verdana; फ़ॉन्ट-आकार:12px;रंग:हरा”>\n",
    "    OPENAI_API_KEY='आपका_api_key'\n",
    "    </p>\n",
    "  \n",
    "  \"your_api_key\" को अपनी स्वयं की API कुंजी से बदलें"
   ]
  },
  {
   "cell_type": "code",
   "execution_count": 1,
   "id": "beebf047-9117-43e3-b7b2-1f06cd3d4275",
   "metadata": {},
   "outputs": [],
   "source": [
    "# आवश्यक पैकेज Python-dotenv और openai डाउनलोड करें\n",
    "# यदि आपको इंस्टॉलेशन प्रक्रिया लॉग देखने की आवश्यकता है, तो आप -q हटा सकते हैं\n",
    "!pip install -q python-dotenv\n",
    "!pip install -q openai"
   ]
  },
  {
   "cell_type": "code",
   "execution_count": 2,
   "id": "312f4c23-fe27-4cda-a645-8e1519c2febf",
   "metadata": {
    "tags": []
   },
   "outputs": [],
   "source": [
    "import os\n",
    "import openai\n",
    "from dotenv import load_dotenv, find_dotenv\n",
    "\n",
    "# स्थानीय/परियोजना पर्यावरण चर पढ़ें।\n",
    "\n",
    "# find_dotenv() .env फ़ाइल का पथ ढूंढता है और उसका पता लगाता है\n",
    "#load_dotenv() .env फ़ाइल को पढ़ता है और उसमें मौजूद पर्यावरण चर को वर्तमान चल रहे वातावरण में लोड करता है\n",
    "# यदि आप एक वैश्विक पर्यावरण चर सेट करते हैं, तो कोड की इस पंक्ति का कोई प्रभाव नहीं पड़ता है।\n",
    "_ = load_dotenv(find_dotenv())\n",
    "\n",
    "# पर्यावरण चर OPENAI_API_KEY प्राप्त करें\n",
    "openai.api_key = os.environ['OPENAI_API_KEY']  "
   ]
  },
  {
   "cell_type": "markdown",
   "id": "631c764b-68fa-483a-80a5-9a322cd1117c",
   "metadata": {},
   "source": [
    "## 2. लैंगचेन अंतर्निर्मित उपकरण"
   ]
  },
  {
   "cell_type": "code",
   "execution_count": 2,
   "id": "8ab03352-1554-474c-afda-ec8974250e31",
   "metadata": {},
   "outputs": [],
   "source": [
    "# यदि आपको इंस्टॉलेशन प्रक्रिया लॉग देखने की आवश्यकता है, तो आप -q हटा सकते हैं\n",
    "# -यू विकिपीडिया के नवीनतम संस्करण को स्थापित करता है इसका कार्य --अपग्रेड के समान है\n",
    "!pip install -U -q wikipedia\n",
    "!pip install -q openai"
   ]
  },
  {
   "cell_type": "code",
   "execution_count": 3,
   "id": "bc80a8a7-a66e-4fbb-8d57-05004a3e77c7",
   "metadata": {},
   "outputs": [],
   "source": [
    "from langchain.agents import load_tools, initialize_agent\n",
    "from langchain.agents import AgentType\n",
    "from langchain.python import PythonREPL\n",
    "from langchain.chat_models import ChatOpenAI"
   ]
  },
  {
   "cell_type": "markdown",
   "id": "d5a3655c-4d5e-4a86-8bf4-a11bd1525059",
   "metadata": {},
   "source": [
    "### 2.1 एलएलएम-गणित और विकिपीडिया टूल का उपयोग करना"
   ]
  },
  {
   "cell_type": "markdown",
   "id": "e484d285-2110-4a06-a360-55313d6d9ffc",
   "metadata": {},
   "source": [
    "#### 1️⃣ बड़े भाषा मॉडल को प्रारंभ करें\n",
    "\n",
    "- डिफ़ॉल्ट कुंजी `openai_api_key` पर्यावरण चर `OPENAI_API_KEY` है। इसलिए निम्नलिखित कोड चलाने से पहले, सुनिश्चित करें कि आपने पर्यावरण चर `OPENAI_API_KEY` सेट कर लिया है। यदि आपके पास अभी तक कोई कुंजी नहीं है, तो कृपया [अपनी एपीआई कुंजी प्राप्त करें](https://platform.openai.com/account/api-keys)।\n",
    "- डिफ़ॉल्ट मॉडल `model_name` `gpt-3.5-turbo` है।\n",
    "- मॉडल के डिफ़ॉल्ट मापदंडों के बारे में अधिक जानकारी के लिए, कृपया [यहां] (https://github.com/hwchase17/langchin/blob/master/langchin/chat_models/openai.py) देखें।"
   ]
  },
  {
   "cell_type": "code",
   "execution_count": 4,
   "id": "71e5894f-fc50-478b-a3d3-58891cc46ffc",
   "metadata": {},
   "outputs": [],
   "source": [
    "# उत्पन्न उत्तरों की यादृच्छिकता को कम करने के लिए पैरामीटर तापमान 0.0 पर सेट किया गया है।\n",
    "llm = ChatOpenAI(temperature=0)"
   ]
  },
  {
   "cell_type": "markdown",
   "id": "d7f75023-1825-4d74-bc8e-2c362f551fd1",
   "metadata": {
    "tags": []
   },
   "source": [
    "#### 2️⃣ टूलकिट लोड करें\n",
    "- `एलएलएम-मैथ` टूल गणितीय गणना करने के लिए भाषा मॉडल और कैलकुलेटर को जोड़ता है\n",
    "- `विकिपीडिया` टूल खोज प्रश्नों के लिए एपीआई के माध्यम से विकिपीडिया से जुड़ता है।"
   ]
  },
  {
   "cell_type": "code",
   "execution_count": 5,
   "id": "3541b866-8a35-4b6f-bfe6-66edb1d666cd",
   "metadata": {},
   "outputs": [],
   "source": [
    "tools = load_tools(\n",
    "    [\"llm-math\",\"wikipedia\"], \n",
    "    llm=llm #第一步初始化的模型\n",
    ")"
   ]
  },
  {
   "cell_type": "markdown",
   "id": "e5b4fcc8-8817-4a94-b154-3f328480e441",
   "metadata": {},
   "source": [
    "#### 3️⃣ प्रॉक्सी प्रारंभ करें\n",
    "\n",
    "- `एजेंट`: एजेंट प्रकार। यहां जो प्रयोग किया गया है वह `AgentType.CHAT_ZERO_SHOT_REACT_DESCRIPTION` है। उनमें से, `CHAT` का अर्थ है कि एजेंट मॉडल संवाद के लिए अनुकूलित एक मॉडल है, और `REACT` का अर्थ है REACT के लिए डिज़ाइन किया गया एक त्वरित टेम्पलेट।\n",
    "- `handle_parsing_errors`: पार्सिंग त्रुटियों को संभालना है या नहीं। जब कोई पार्सिंग त्रुटि होती है, तो सुधार के लिए त्रुटि जानकारी बड़े मॉडल पर वापस कर दी जाती है।\n",
    "- `वर्बोज़`: मध्यवर्ती चरणों के परिणामों को आउटपुट करना है या नहीं।"
   ]
  },
  {
   "cell_type": "code",
   "execution_count": 6,
   "id": "e7cdc782-2b8c-4649-ae1e-cabacee1a757",
   "metadata": {},
   "outputs": [],
   "source": [
    "agent= initialize_agent(\n",
    "    tools, #第二步加载的工具\n",
    "    llm, #第一步初始化的模型\n",
    "    agent=AgentType.CHAT_ZERO_SHOT_REACT_DESCRIPTION,  #代理类型\n",
    "    handle_parsing_errors=True, #处理解析错误\n",
    "    verbose = True #输出中间步骤\n",
    ")"
   ]
  },
  {
   "cell_type": "markdown",
   "id": "b980137a-a1d2-4c19-80c8-ec380f9c1efe",
   "metadata": {
    "tags": []
   },
   "source": [
    "#### 4️⃣.1️⃣ गणित के प्रश्नों का उत्तर देने के लिए एजेंटों का उपयोग करें"
   ]
  },
  {
   "cell_type": "code",
   "execution_count": 7,
   "id": "1e2bcd3b-ae72-4fa1-b38e-d0ce650e1f31",
   "metadata": {},
   "outputs": [
    {
     "name": "stdout",
     "output_type": "stream",
     "text": [
      "\n",
      "\n",
      "\u001b[1m> Entering new  chain...\u001b[0m\n",
      "\u001b[32;1m\u001b[1;3mQuestion: 计算300的25%\n",
      "Thought: 我可以使用计算器来计算这个百分比\n",
      "Action:\n",
      "```\n",
      "{\n",
      "  \"action\": \"Calculator\",\n",
      "  \"action_input\": \"300 * 25 / 100\"\n",
      "}\n",
      "```\n",
      "\u001b[0m\n",
      "Observation: \u001b[36;1m\u001b[1;3mAnswer: 75.0\u001b[0m\n",
      "Thought:\u001b[32;1m\u001b[1;3m我现在知道最终答案了\n",
      "Final Answer: 300的25%是75.0\u001b[0m\n",
      "\n",
      "\u001b[1m> Finished chain.\u001b[0m\n"
     ]
    },
    {
     "data": {
      "text/plain": [
       "{'input': '计算300的25%，请用中文', 'output': '300的25%是75.0'}"
      ]
     },
     "execution_count": 7,
     "metadata": {},
     "output_type": "execute_result"
    }
   ],
   "source": [
    "agent(\"计算300的25%，思考过程请使用中文。\") "
   ]
  },
  {
   "cell_type": "markdown",
   "id": "05bb0811-d71e-4016-868b-efbb651d8e59",
   "metadata": {},
   "source": [
    "✅ **सारांश**\n",
    "\n",
    "1. मॉडल इस पर विचार देता है कि आगे क्या करने की आवश्यकता है।\n",
    "    \n",
    "   <p style=”font-family:verdana; फ़ॉन्ट-आकार:12px;रंग:हरा”> <strong>सोच</strong>: हमें 300 में से 25% की गणना करने की आवश्यकता है, और इस प्रक्रिया में गुणा और भाग की आवश्यकता होती है। </p>\n",
    "\n",
    "2. मॉडल सोच के आधार पर कार्रवाई करता है (क्रिया)\n",
    "    <p style=”font-family:verdana; फ़ॉन्ट-आकार:12px;रंग:हरा”> <strong>कार्रवाई</strong>: कैलकुलेटर का उपयोग करें और 300*0.25 दर्ज करें</p>\n",
    "3. मॉडल का अवलोकन किया गया है (अवलोकन)\n",
    "    <p style=”font-family:verdana; फ़ॉन्ट-आकार:12px;रंग:हरा”><strong>अवलोकन</strong>: उत्तर: 75.0</p>\n",
    "\n",
    "4. अवलोकनों के आधार पर, मॉडल यह विचार देता है कि आगे क्या करने की आवश्यकता है।\n",
    "    <p style='font-family:verdana; फ़ॉन्ट-size:12px;रंग:हरा\"> <strong>सोच</strong>: हमारे पास हमारे सवालों के जवाब हैं </p>\n",
    "\n",
    "5. अंतिम उत्तर दें (अंतिम उत्तर)\n",
    "     <p style='font-family:verdana; फ़ॉन्ट-आकार:12px;रंग:हरा'> <strong>अंतिम उत्तर</strong>: 75.0 </p>\n",
    "5. अंतिम उत्तर शब्दकोश रूप में दें।"
   ]
  },
  {
   "cell_type": "markdown",
   "id": "bdd13d06-0f0e-4918-ac28-339f524f8c76",
   "metadata": {},
   "source": [
    "#### 4️⃣.2️⃣ टॉम एम. मिशेल की किताब"
   ]
  },
  {
   "cell_type": "code",
   "execution_count": 18,
   "id": "f43b5cbf-1011-491b-90e8-09cf903fb866",
   "metadata": {},
   "outputs": [
    {
     "name": "stdout",
     "output_type": "stream",
     "text": [
      "\n",
      "\n",
      "\u001b[1m> Entering new  chain...\u001b[0m\n",
      "\u001b[32;1m\u001b[1;3mI need to find out what book Tom M. Mitchell wrote.\n",
      "Action: Search for Tom M. Mitchell's books.\n",
      "Action Input: \"Tom M. Mitchell books\"\u001b[0m\n",
      "Observation: Search for Tom M. Mitchell's books. is not a valid tool, try another one.\n",
      "Thought:\u001b[32;1m\u001b[1;3mI can try searching for Tom M. Mitchell's books using a search engine.\n",
      "Action: Search for \"Tom M. Mitchell books\"\n",
      "Action Input: \"Tom M. Mitchell books\"\u001b[0m\n",
      "Observation: Search for \"Tom M. Mitchell books\" is not a valid tool, try another one.\n",
      "Thought:\u001b[32;1m\u001b[1;3mI can try searching for Tom M. Mitchell's books using a search engine.\n",
      "Action: Search for \"Tom M. Mitchell books\"\n",
      "Action Input: \"Tom M. Mitchell books\"\u001b[0m\n",
      "Observation: Search for \"Tom M. Mitchell books\" is not a valid tool, try another one.\n",
      "Thought:"
     ]
    },
    {
     "name": "stderr",
     "output_type": "stream",
     "text": [
      "Retrying langchain.chat_models.openai.ChatOpenAI.completion_with_retry.<locals>._completion_with_retry in 1.0 seconds as it raised RateLimitError: Rate limit reached for default-gpt-3.5-turbo in organization org-2YlJyPMl62f07XPJCAlXfDxj on requests per min. Limit: 3 / min. Please try again in 20s. Contact us through our help center at help.openai.com if you continue to have issues. Please add a payment method to your account to increase your rate limit. Visit https://platform.openai.com/account/billing to add a payment method..\n",
      "Retrying langchain.chat_models.openai.ChatOpenAI.completion_with_retry.<locals>._completion_with_retry in 2.0 seconds as it raised RateLimitError: Rate limit reached for default-gpt-3.5-turbo in organization org-2YlJyPMl62f07XPJCAlXfDxj on requests per min. Limit: 3 / min. Please try again in 20s. Contact us through our help center at help.openai.com if you continue to have issues. Please add a payment method to your account to increase your rate limit. Visit https://platform.openai.com/account/billing to add a payment method..\n",
      "Retrying langchain.chat_models.openai.ChatOpenAI.completion_with_retry.<locals>._completion_with_retry in 4.0 seconds as it raised RateLimitError: Rate limit reached for default-gpt-3.5-turbo in organization org-2YlJyPMl62f07XPJCAlXfDxj on requests per min. Limit: 3 / min. Please try again in 20s. Contact us through our help center at help.openai.com if you continue to have issues. Please add a payment method to your account to increase your rate limit. Visit https://platform.openai.com/account/billing to add a payment method..\n",
      "Retrying langchain.chat_models.openai.ChatOpenAI.completion_with_retry.<locals>._completion_with_retry in 8.0 seconds as it raised RateLimitError: Rate limit reached for default-gpt-3.5-turbo in organization org-2YlJyPMl62f07XPJCAlXfDxj on requests per min. Limit: 3 / min. Please try again in 20s. Contact us through our help center at help.openai.com if you continue to have issues. Please add a payment method to your account to increase your rate limit. Visit https://platform.openai.com/account/billing to add a payment method..\n"
     ]
    },
    {
     "name": "stdout",
     "output_type": "stream",
     "text": [
      "\u001b[32;1m\u001b[1;3mI can try searching for Tom M. Mitchell's books using a search engine.\n",
      "Action: Search for \"Tom M. Mitchell books\"\n",
      "Action Input: \"Tom M. Mitchell books\"\u001b[0m\n",
      "Observation: Search for \"Tom M. Mitchell books\" is not a valid tool, try another one.\n",
      "Thought:"
     ]
    },
    {
     "name": "stderr",
     "output_type": "stream",
     "text": [
      "Retrying langchain.chat_models.openai.ChatOpenAI.completion_with_retry.<locals>._completion_with_retry in 1.0 seconds as it raised RateLimitError: Rate limit reached for default-gpt-3.5-turbo in organization org-2YlJyPMl62f07XPJCAlXfDxj on requests per min. Limit: 3 / min. Please try again in 20s. Contact us through our help center at help.openai.com if you continue to have issues. Please add a payment method to your account to increase your rate limit. Visit https://platform.openai.com/account/billing to add a payment method..\n",
      "Retrying langchain.chat_models.openai.ChatOpenAI.completion_with_retry.<locals>._completion_with_retry in 2.0 seconds as it raised RateLimitError: Rate limit reached for default-gpt-3.5-turbo in organization org-2YlJyPMl62f07XPJCAlXfDxj on requests per min. Limit: 3 / min. Please try again in 20s. Contact us through our help center at help.openai.com if you continue to have issues. Please add a payment method to your account to increase your rate limit. Visit https://platform.openai.com/account/billing to add a payment method..\n",
      "Retrying langchain.chat_models.openai.ChatOpenAI.completion_with_retry.<locals>._completion_with_retry in 4.0 seconds as it raised RateLimitError: Rate limit reached for default-gpt-3.5-turbo in organization org-2YlJyPMl62f07XPJCAlXfDxj on requests per min. Limit: 3 / min. Please try again in 20s. Contact us through our help center at help.openai.com if you continue to have issues. Please add a payment method to your account to increase your rate limit. Visit https://platform.openai.com/account/billing to add a payment method..\n",
      "Retrying langchain.chat_models.openai.ChatOpenAI.completion_with_retry.<locals>._completion_with_retry in 8.0 seconds as it raised RateLimitError: Rate limit reached for default-gpt-3.5-turbo in organization org-2YlJyPMl62f07XPJCAlXfDxj on requests per min. Limit: 3 / min. Please try again in 20s. Contact us through our help center at help.openai.com if you continue to have issues. Please add a payment method to your account to increase your rate limit. Visit https://platform.openai.com/account/billing to add a payment method..\n"
     ]
    },
    {
     "name": "stdout",
     "output_type": "stream",
     "text": [
      "\u001b[32;1m\u001b[1;3mI can try searching for Tom M. Mitchell's books using a search engine.\n",
      "Action: Search for \"Tom M. Mitchell books\"\n",
      "Action Input: \"Tom M. Mitchell books\"\u001b[0m\n",
      "Observation: Search for \"Tom M. Mitchell books\" is not a valid tool, try another one.\n",
      "Thought:"
     ]
    },
    {
     "name": "stderr",
     "output_type": "stream",
     "text": [
      "Retrying langchain.chat_models.openai.ChatOpenAI.completion_with_retry.<locals>._completion_with_retry in 1.0 seconds as it raised RateLimitError: Rate limit reached for default-gpt-3.5-turbo in organization org-2YlJyPMl62f07XPJCAlXfDxj on requests per min. Limit: 3 / min. Please try again in 20s. Contact us through our help center at help.openai.com if you continue to have issues. Please add a payment method to your account to increase your rate limit. Visit https://platform.openai.com/account/billing to add a payment method..\n",
      "Retrying langchain.chat_models.openai.ChatOpenAI.completion_with_retry.<locals>._completion_with_retry in 2.0 seconds as it raised RateLimitError: Rate limit reached for default-gpt-3.5-turbo in organization org-2YlJyPMl62f07XPJCAlXfDxj on requests per min. Limit: 3 / min. Please try again in 20s. Contact us through our help center at help.openai.com if you continue to have issues. Please add a payment method to your account to increase your rate limit. Visit https://platform.openai.com/account/billing to add a payment method..\n",
      "Retrying langchain.chat_models.openai.ChatOpenAI.completion_with_retry.<locals>._completion_with_retry in 4.0 seconds as it raised RateLimitError: Rate limit reached for default-gpt-3.5-turbo in organization org-2YlJyPMl62f07XPJCAlXfDxj on requests per min. Limit: 3 / min. Please try again in 20s. Contact us through our help center at help.openai.com if you continue to have issues. Please add a payment method to your account to increase your rate limit. Visit https://platform.openai.com/account/billing to add a payment method..\n",
      "Retrying langchain.chat_models.openai.ChatOpenAI.completion_with_retry.<locals>._completion_with_retry in 8.0 seconds as it raised RateLimitError: Rate limit reached for default-gpt-3.5-turbo in organization org-2YlJyPMl62f07XPJCAlXfDxj on requests per min. Limit: 3 / min. Please try again in 20s. Contact us through our help center at help.openai.com if you continue to have issues. Please add a payment method to your account to increase your rate limit. Visit https://platform.openai.com/account/billing to add a payment method..\n"
     ]
    },
    {
     "name": "stdout",
     "output_type": "stream",
     "text": [
      "\u001b[32;1m\u001b[1;3mI can try searching for Tom M. Mitchell's books using a search engine.\n",
      "Action: Search for \"Tom M. Mitchell books\"\n",
      "Action Input: \"Tom M. Mitchell books\"\u001b[0m\n",
      "Observation: Search for \"Tom M. Mitchell books\" is not a valid tool, try another one.\n",
      "Thought:"
     ]
    },
    {
     "name": "stderr",
     "output_type": "stream",
     "text": [
      "Retrying langchain.chat_models.openai.ChatOpenAI.completion_with_retry.<locals>._completion_with_retry in 1.0 seconds as it raised RateLimitError: Rate limit reached for default-gpt-3.5-turbo in organization org-2YlJyPMl62f07XPJCAlXfDxj on requests per min. Limit: 3 / min. Please try again in 20s. Contact us through our help center at help.openai.com if you continue to have issues. Please add a payment method to your account to increase your rate limit. Visit https://platform.openai.com/account/billing to add a payment method..\n",
      "Retrying langchain.chat_models.openai.ChatOpenAI.completion_with_retry.<locals>._completion_with_retry in 2.0 seconds as it raised RateLimitError: Rate limit reached for default-gpt-3.5-turbo in organization org-2YlJyPMl62f07XPJCAlXfDxj on requests per min. Limit: 3 / min. Please try again in 20s. Contact us through our help center at help.openai.com if you continue to have issues. Please add a payment method to your account to increase your rate limit. Visit https://platform.openai.com/account/billing to add a payment method..\n",
      "Retrying langchain.chat_models.openai.ChatOpenAI.completion_with_retry.<locals>._completion_with_retry in 4.0 seconds as it raised RateLimitError: Rate limit reached for default-gpt-3.5-turbo in organization org-2YlJyPMl62f07XPJCAlXfDxj on requests per min. Limit: 3 / min. Please try again in 20s. Contact us through our help center at help.openai.com if you continue to have issues. Please add a payment method to your account to increase your rate limit. Visit https://platform.openai.com/account/billing to add a payment method..\n",
      "Retrying langchain.chat_models.openai.ChatOpenAI.completion_with_retry.<locals>._completion_with_retry in 8.0 seconds as it raised RateLimitError: Rate limit reached for default-gpt-3.5-turbo in organization org-2YlJyPMl62f07XPJCAlXfDxj on requests per min. Limit: 3 / min. Please try again in 20s. Contact us through our help center at help.openai.com if you continue to have issues. Please add a payment method to your account to increase your rate limit. Visit https://platform.openai.com/account/billing to add a payment method..\n"
     ]
    },
    {
     "name": "stdout",
     "output_type": "stream",
     "text": [
      "\u001b[32;1m\u001b[1;3mI can try searching for Tom M. Mitchell's books using a search engine.\n",
      "Action: Search for \"Tom M. Mitchell books\"\n",
      "Action Input: \"Tom M. Mitchell books\"\u001b[0m\n",
      "Observation: Search for \"Tom M. Mitchell books\" is not a valid tool, try another one.\n",
      "Thought:"
     ]
    },
    {
     "name": "stderr",
     "output_type": "stream",
     "text": [
      "Retrying langchain.chat_models.openai.ChatOpenAI.completion_with_retry.<locals>._completion_with_retry in 1.0 seconds as it raised RateLimitError: Rate limit reached for default-gpt-3.5-turbo in organization org-2YlJyPMl62f07XPJCAlXfDxj on requests per min. Limit: 3 / min. Please try again in 20s. Contact us through our help center at help.openai.com if you continue to have issues. Please add a payment method to your account to increase your rate limit. Visit https://platform.openai.com/account/billing to add a payment method..\n",
      "Retrying langchain.chat_models.openai.ChatOpenAI.completion_with_retry.<locals>._completion_with_retry in 2.0 seconds as it raised RateLimitError: Rate limit reached for default-gpt-3.5-turbo in organization org-2YlJyPMl62f07XPJCAlXfDxj on requests per min. Limit: 3 / min. Please try again in 20s. Contact us through our help center at help.openai.com if you continue to have issues. Please add a payment method to your account to increase your rate limit. Visit https://platform.openai.com/account/billing to add a payment method..\n",
      "Retrying langchain.chat_models.openai.ChatOpenAI.completion_with_retry.<locals>._completion_with_retry in 4.0 seconds as it raised RateLimitError: Rate limit reached for default-gpt-3.5-turbo in organization org-2YlJyPMl62f07XPJCAlXfDxj on requests per min. Limit: 3 / min. Please try again in 20s. Contact us through our help center at help.openai.com if you continue to have issues. Please add a payment method to your account to increase your rate limit. Visit https://platform.openai.com/account/billing to add a payment method..\n",
      "Retrying langchain.chat_models.openai.ChatOpenAI.completion_with_retry.<locals>._completion_with_retry in 8.0 seconds as it raised RateLimitError: Rate limit reached for default-gpt-3.5-turbo in organization org-2YlJyPMl62f07XPJCAlXfDxj on requests per min. Limit: 3 / min. Please try again in 20s. Contact us through our help center at help.openai.com if you continue to have issues. Please add a payment method to your account to increase your rate limit. Visit https://platform.openai.com/account/billing to add a payment method..\n"
     ]
    },
    {
     "name": "stdout",
     "output_type": "stream",
     "text": [
      "\u001b[32;1m\u001b[1;3mI can try searching for Tom M. Mitchell's books using a search engine.\n",
      "Action: Search for \"Tom M. Mitchell books\"\n",
      "Action Input: \"Tom M. Mitchell books\"\u001b[0m\n",
      "Observation: Search for \"Tom M. Mitchell books\" is not a valid tool, try another one.\n",
      "Thought:"
     ]
    },
    {
     "name": "stderr",
     "output_type": "stream",
     "text": [
      "Retrying langchain.chat_models.openai.ChatOpenAI.completion_with_retry.<locals>._completion_with_retry in 1.0 seconds as it raised RateLimitError: Rate limit reached for default-gpt-3.5-turbo in organization org-2YlJyPMl62f07XPJCAlXfDxj on requests per min. Limit: 3 / min. Please try again in 20s. Contact us through our help center at help.openai.com if you continue to have issues. Please add a payment method to your account to increase your rate limit. Visit https://platform.openai.com/account/billing to add a payment method..\n",
      "Retrying langchain.chat_models.openai.ChatOpenAI.completion_with_retry.<locals>._completion_with_retry in 2.0 seconds as it raised RateLimitError: Rate limit reached for default-gpt-3.5-turbo in organization org-2YlJyPMl62f07XPJCAlXfDxj on requests per min. Limit: 3 / min. Please try again in 20s. Contact us through our help center at help.openai.com if you continue to have issues. Please add a payment method to your account to increase your rate limit. Visit https://platform.openai.com/account/billing to add a payment method..\n",
      "Retrying langchain.chat_models.openai.ChatOpenAI.completion_with_retry.<locals>._completion_with_retry in 4.0 seconds as it raised RateLimitError: Rate limit reached for default-gpt-3.5-turbo in organization org-2YlJyPMl62f07XPJCAlXfDxj on requests per min. Limit: 3 / min. Please try again in 20s. Contact us through our help center at help.openai.com if you continue to have issues. Please add a payment method to your account to increase your rate limit. Visit https://platform.openai.com/account/billing to add a payment method..\n",
      "Retrying langchain.chat_models.openai.ChatOpenAI.completion_with_retry.<locals>._completion_with_retry in 8.0 seconds as it raised RateLimitError: Rate limit reached for default-gpt-3.5-turbo in organization org-2YlJyPMl62f07XPJCAlXfDxj on requests per min. Limit: 3 / min. Please try again in 20s. Contact us through our help center at help.openai.com if you continue to have issues. Please add a payment method to your account to increase your rate limit. Visit https://platform.openai.com/account/billing to add a payment method..\n"
     ]
    },
    {
     "name": "stdout",
     "output_type": "stream",
     "text": [
      "\u001b[32;1m\u001b[1;3mI can try searching for Tom M. Mitchell's books using a search engine.\n",
      "Action: Search for \"Tom M. Mitchell books\"\n",
      "Action Input: \"Tom M. Mitchell books\"\u001b[0m\n",
      "Observation: Search for \"Tom M. Mitchell books\" is not a valid tool, try another one.\n",
      "Thought:"
     ]
    },
    {
     "name": "stderr",
     "output_type": "stream",
     "text": [
      "Retrying langchain.chat_models.openai.ChatOpenAI.completion_with_retry.<locals>._completion_with_retry in 1.0 seconds as it raised RateLimitError: Rate limit reached for default-gpt-3.5-turbo in organization org-2YlJyPMl62f07XPJCAlXfDxj on requests per min. Limit: 3 / min. Please try again in 20s. Contact us through our help center at help.openai.com if you continue to have issues. Please add a payment method to your account to increase your rate limit. Visit https://platform.openai.com/account/billing to add a payment method..\n",
      "Retrying langchain.chat_models.openai.ChatOpenAI.completion_with_retry.<locals>._completion_with_retry in 2.0 seconds as it raised RateLimitError: Rate limit reached for default-gpt-3.5-turbo in organization org-2YlJyPMl62f07XPJCAlXfDxj on requests per min. Limit: 3 / min. Please try again in 20s. Contact us through our help center at help.openai.com if you continue to have issues. Please add a payment method to your account to increase your rate limit. Visit https://platform.openai.com/account/billing to add a payment method..\n",
      "Retrying langchain.chat_models.openai.ChatOpenAI.completion_with_retry.<locals>._completion_with_retry in 4.0 seconds as it raised RateLimitError: Rate limit reached for default-gpt-3.5-turbo in organization org-2YlJyPMl62f07XPJCAlXfDxj on requests per min. Limit: 3 / min. Please try again in 20s. Contact us through our help center at help.openai.com if you continue to have issues. Please add a payment method to your account to increase your rate limit. Visit https://platform.openai.com/account/billing to add a payment method..\n",
      "Retrying langchain.chat_models.openai.ChatOpenAI.completion_with_retry.<locals>._completion_with_retry in 8.0 seconds as it raised RateLimitError: Rate limit reached for default-gpt-3.5-turbo in organization org-2YlJyPMl62f07XPJCAlXfDxj on requests per min. Limit: 3 / min. Please try again in 20s. Contact us through our help center at help.openai.com if you continue to have issues. Please add a payment method to your account to increase your rate limit. Visit https://platform.openai.com/account/billing to add a payment method..\n"
     ]
    },
    {
     "name": "stdout",
     "output_type": "stream",
     "text": [
      "\u001b[32;1m\u001b[1;3mI can try searching for Tom M. Mitchell's books using a search engine.\n",
      "Action: Search for \"Tom M. Mitchell books\"\n",
      "Action Input: \"Tom M. Mitchell books\"\u001b[0m\n",
      "Observation: Search for \"Tom M. Mitchell books\" is not a valid tool, try another one.\n",
      "Thought:"
     ]
    },
    {
     "name": "stderr",
     "output_type": "stream",
     "text": [
      "Retrying langchain.chat_models.openai.ChatOpenAI.completion_with_retry.<locals>._completion_with_retry in 1.0 seconds as it raised RateLimitError: Rate limit reached for default-gpt-3.5-turbo in organization org-2YlJyPMl62f07XPJCAlXfDxj on requests per min. Limit: 3 / min. Please try again in 20s. Contact us through our help center at help.openai.com if you continue to have issues. Please add a payment method to your account to increase your rate limit. Visit https://platform.openai.com/account/billing to add a payment method..\n",
      "Retrying langchain.chat_models.openai.ChatOpenAI.completion_with_retry.<locals>._completion_with_retry in 2.0 seconds as it raised RateLimitError: Rate limit reached for default-gpt-3.5-turbo in organization org-2YlJyPMl62f07XPJCAlXfDxj on requests per min. Limit: 3 / min. Please try again in 20s. Contact us through our help center at help.openai.com if you continue to have issues. Please add a payment method to your account to increase your rate limit. Visit https://platform.openai.com/account/billing to add a payment method..\n",
      "Retrying langchain.chat_models.openai.ChatOpenAI.completion_with_retry.<locals>._completion_with_retry in 4.0 seconds as it raised RateLimitError: Rate limit reached for default-gpt-3.5-turbo in organization org-2YlJyPMl62f07XPJCAlXfDxj on requests per min. Limit: 3 / min. Please try again in 20s. Contact us through our help center at help.openai.com if you continue to have issues. Please add a payment method to your account to increase your rate limit. Visit https://platform.openai.com/account/billing to add a payment method..\n",
      "Retrying langchain.chat_models.openai.ChatOpenAI.completion_with_retry.<locals>._completion_with_retry in 8.0 seconds as it raised RateLimitError: Rate limit reached for default-gpt-3.5-turbo in organization org-2YlJyPMl62f07XPJCAlXfDxj on requests per min. Limit: 3 / min. Please try again in 20s. Contact us through our help center at help.openai.com if you continue to have issues. Please add a payment method to your account to increase your rate limit. Visit https://platform.openai.com/account/billing to add a payment method..\n"
     ]
    },
    {
     "name": "stdout",
     "output_type": "stream",
     "text": [
      "\u001b[32;1m\u001b[1;3mI can try searching for Tom M. Mitchell's books using a search engine.\n",
      "Action: Search for \"Tom M. Mitchell books\"\n",
      "Action Input: \"Tom M. Mitchell books\"\u001b[0m\n",
      "Observation: Search for \"Tom M. Mitchell books\" is not a valid tool, try another one.\n",
      "Thought:"
     ]
    },
    {
     "name": "stderr",
     "output_type": "stream",
     "text": [
      "Retrying langchain.chat_models.openai.ChatOpenAI.completion_with_retry.<locals>._completion_with_retry in 1.0 seconds as it raised RateLimitError: Rate limit reached for default-gpt-3.5-turbo in organization org-2YlJyPMl62f07XPJCAlXfDxj on requests per min. Limit: 3 / min. Please try again in 20s. Contact us through our help center at help.openai.com if you continue to have issues. Please add a payment method to your account to increase your rate limit. Visit https://platform.openai.com/account/billing to add a payment method..\n",
      "Retrying langchain.chat_models.openai.ChatOpenAI.completion_with_retry.<locals>._completion_with_retry in 2.0 seconds as it raised RateLimitError: Rate limit reached for default-gpt-3.5-turbo in organization org-2YlJyPMl62f07XPJCAlXfDxj on requests per min. Limit: 3 / min. Please try again in 20s. Contact us through our help center at help.openai.com if you continue to have issues. Please add a payment method to your account to increase your rate limit. Visit https://platform.openai.com/account/billing to add a payment method..\n",
      "Retrying langchain.chat_models.openai.ChatOpenAI.completion_with_retry.<locals>._completion_with_retry in 4.0 seconds as it raised RateLimitError: Rate limit reached for default-gpt-3.5-turbo in organization org-2YlJyPMl62f07XPJCAlXfDxj on requests per min. Limit: 3 / min. Please try again in 20s. Contact us through our help center at help.openai.com if you continue to have issues. Please add a payment method to your account to increase your rate limit. Visit https://platform.openai.com/account/billing to add a payment method..\n",
      "Retrying langchain.chat_models.openai.ChatOpenAI.completion_with_retry.<locals>._completion_with_retry in 8.0 seconds as it raised RateLimitError: Rate limit reached for default-gpt-3.5-turbo in organization org-2YlJyPMl62f07XPJCAlXfDxj on requests per min. Limit: 3 / min. Please try again in 20s. Contact us through our help center at help.openai.com if you continue to have issues. Please add a payment method to your account to increase your rate limit. Visit https://platform.openai.com/account/billing to add a payment method..\n"
     ]
    },
    {
     "name": "stdout",
     "output_type": "stream",
     "text": [
      "\u001b[32;1m\u001b[1;3mI can try searching for Tom M. Mitchell's books using a search engine.\n",
      "Action: Search for \"Tom M. Mitchell books\"\n",
      "Action Input: \"Tom M. Mitchell books\"\u001b[0m\n",
      "Observation: Search for \"Tom M. Mitchell books\" is not a valid tool, try another one.\n",
      "Thought:"
     ]
    },
    {
     "name": "stderr",
     "output_type": "stream",
     "text": [
      "Retrying langchain.chat_models.openai.ChatOpenAI.completion_with_retry.<locals>._completion_with_retry in 1.0 seconds as it raised RateLimitError: Rate limit reached for default-gpt-3.5-turbo in organization org-2YlJyPMl62f07XPJCAlXfDxj on requests per min. Limit: 3 / min. Please try again in 20s. Contact us through our help center at help.openai.com if you continue to have issues. Please add a payment method to your account to increase your rate limit. Visit https://platform.openai.com/account/billing to add a payment method..\n",
      "Retrying langchain.chat_models.openai.ChatOpenAI.completion_with_retry.<locals>._completion_with_retry in 2.0 seconds as it raised RateLimitError: Rate limit reached for default-gpt-3.5-turbo in organization org-2YlJyPMl62f07XPJCAlXfDxj on requests per min. Limit: 3 / min. Please try again in 20s. Contact us through our help center at help.openai.com if you continue to have issues. Please add a payment method to your account to increase your rate limit. Visit https://platform.openai.com/account/billing to add a payment method..\n",
      "Retrying langchain.chat_models.openai.ChatOpenAI.completion_with_retry.<locals>._completion_with_retry in 4.0 seconds as it raised RateLimitError: Rate limit reached for default-gpt-3.5-turbo in organization org-2YlJyPMl62f07XPJCAlXfDxj on requests per min. Limit: 3 / min. Please try again in 20s. Contact us through our help center at help.openai.com if you continue to have issues. Please add a payment method to your account to increase your rate limit. Visit https://platform.openai.com/account/billing to add a payment method..\n",
      "Retrying langchain.chat_models.openai.ChatOpenAI.completion_with_retry.<locals>._completion_with_retry in 8.0 seconds as it raised RateLimitError: Rate limit reached for default-gpt-3.5-turbo in organization org-2YlJyPMl62f07XPJCAlXfDxj on requests per min. Limit: 3 / min. Please try again in 20s. Contact us through our help center at help.openai.com if you continue to have issues. Please add a payment method to your account to increase your rate limit. Visit https://platform.openai.com/account/billing to add a payment method..\n"
     ]
    },
    {
     "name": "stdout",
     "output_type": "stream",
     "text": [
      "\u001b[32;1m\u001b[1;3mI can try searching for Tom M. Mitchell's books using a search engine.\n",
      "Action: Search for \"Tom M. Mitchell books\"\n",
      "Action Input: \"Tom M. Mitchell books\"\u001b[0m\n",
      "Observation: Search for \"Tom M. Mitchell books\" is not a valid tool, try another one.\n",
      "Thought:"
     ]
    },
    {
     "name": "stderr",
     "output_type": "stream",
     "text": [
      "Retrying langchain.chat_models.openai.ChatOpenAI.completion_with_retry.<locals>._completion_with_retry in 1.0 seconds as it raised RateLimitError: Rate limit reached for default-gpt-3.5-turbo in organization org-2YlJyPMl62f07XPJCAlXfDxj on requests per min. Limit: 3 / min. Please try again in 20s. Contact us through our help center at help.openai.com if you continue to have issues. Please add a payment method to your account to increase your rate limit. Visit https://platform.openai.com/account/billing to add a payment method..\n",
      "Retrying langchain.chat_models.openai.ChatOpenAI.completion_with_retry.<locals>._completion_with_retry in 2.0 seconds as it raised RateLimitError: Rate limit reached for default-gpt-3.5-turbo in organization org-2YlJyPMl62f07XPJCAlXfDxj on requests per min. Limit: 3 / min. Please try again in 20s. Contact us through our help center at help.openai.com if you continue to have issues. Please add a payment method to your account to increase your rate limit. Visit https://platform.openai.com/account/billing to add a payment method..\n",
      "Retrying langchain.chat_models.openai.ChatOpenAI.completion_with_retry.<locals>._completion_with_retry in 4.0 seconds as it raised RateLimitError: Rate limit reached for default-gpt-3.5-turbo in organization org-2YlJyPMl62f07XPJCAlXfDxj on requests per min. Limit: 3 / min. Please try again in 20s. Contact us through our help center at help.openai.com if you continue to have issues. Please add a payment method to your account to increase your rate limit. Visit https://platform.openai.com/account/billing to add a payment method..\n",
      "Retrying langchain.chat_models.openai.ChatOpenAI.completion_with_retry.<locals>._completion_with_retry in 8.0 seconds as it raised RateLimitError: Rate limit reached for default-gpt-3.5-turbo in organization org-2YlJyPMl62f07XPJCAlXfDxj on requests per min. Limit: 3 / min. Please try again in 20s. Contact us through our help center at help.openai.com if you continue to have issues. Please add a payment method to your account to increase your rate limit. Visit https://platform.openai.com/account/billing to add a payment method..\n"
     ]
    },
    {
     "name": "stdout",
     "output_type": "stream",
     "text": [
      "\u001b[32;1m\u001b[1;3mI can try searching for Tom M. Mitchell's books using a search engine.\n",
      "Action: Search for \"Tom M. Mitchell books\"\n",
      "Action Input: \"Tom M. Mitchell books\"\u001b[0m\n",
      "Observation: Search for \"Tom M. Mitchell books\" is not a valid tool, try another one.\n",
      "Thought:"
     ]
    },
    {
     "name": "stderr",
     "output_type": "stream",
     "text": [
      "Retrying langchain.chat_models.openai.ChatOpenAI.completion_with_retry.<locals>._completion_with_retry in 1.0 seconds as it raised RateLimitError: Rate limit reached for default-gpt-3.5-turbo in organization org-2YlJyPMl62f07XPJCAlXfDxj on requests per min. Limit: 3 / min. Please try again in 20s. Contact us through our help center at help.openai.com if you continue to have issues. Please add a payment method to your account to increase your rate limit. Visit https://platform.openai.com/account/billing to add a payment method..\n",
      "Retrying langchain.chat_models.openai.ChatOpenAI.completion_with_retry.<locals>._completion_with_retry in 2.0 seconds as it raised RateLimitError: Rate limit reached for default-gpt-3.5-turbo in organization org-2YlJyPMl62f07XPJCAlXfDxj on requests per min. Limit: 3 / min. Please try again in 20s. Contact us through our help center at help.openai.com if you continue to have issues. Please add a payment method to your account to increase your rate limit. Visit https://platform.openai.com/account/billing to add a payment method..\n",
      "Retrying langchain.chat_models.openai.ChatOpenAI.completion_with_retry.<locals>._completion_with_retry in 4.0 seconds as it raised RateLimitError: Rate limit reached for default-gpt-3.5-turbo in organization org-2YlJyPMl62f07XPJCAlXfDxj on requests per min. Limit: 3 / min. Please try again in 20s. Contact us through our help center at help.openai.com if you continue to have issues. Please add a payment method to your account to increase your rate limit. Visit https://platform.openai.com/account/billing to add a payment method..\n",
      "Retrying langchain.chat_models.openai.ChatOpenAI.completion_with_retry.<locals>._completion_with_retry in 8.0 seconds as it raised RateLimitError: Rate limit reached for default-gpt-3.5-turbo in organization org-2YlJyPMl62f07XPJCAlXfDxj on requests per min. Limit: 3 / min. Please try again in 20s. Contact us through our help center at help.openai.com if you continue to have issues. Please add a payment method to your account to increase your rate limit. Visit https://platform.openai.com/account/billing to add a payment method..\n"
     ]
    },
    {
     "name": "stdout",
     "output_type": "stream",
     "text": [
      "\u001b[32;1m\u001b[1;3mI can try searching for Tom M. Mitchell's books using a search engine.\n",
      "Action: Search for \"Tom M. Mitchell books\"\n",
      "Action Input: \"Tom M. Mitchell books\"\u001b[0m\n",
      "Observation: Search for \"Tom M. Mitchell books\" is not a valid tool, try another one.\n",
      "Thought:\u001b[32;1m\u001b[1;3m\u001b[0m\n",
      "\n",
      "\u001b[1m> Finished chain.\u001b[0m\n"
     ]
    },
    {
     "data": {
      "text/plain": [
       "{'input': 'Tom M. Mitchell is an American computer scientist and the Founders University Professor at Carnegie Mellon University (CMU)what book did he write?',\n",
       " 'output': 'Agent stopped due to iteration limit or time limit.'}"
      ]
     },
     "execution_count": 18,
     "metadata": {},
     "output_type": "execute_result"
    }
   ],
   "source": [
    "question = \"Tom M. Mitchell is an American computer scientist \\\n",
    "and the Founders University Professor at Carnegie Mellon University (CMU)\\\n",
    "what book did he write?\"\n",
    "agent(question) "
   ]
  },
  {
   "cell_type": "markdown",
   "id": "39e2f6fb-f229-4235-ad58-98a5f505800c",
   "metadata": {},
   "source": [
    "✅ **सारांश**\n",
    "\n",
    "1. मॉडल इस पर विचार देता है कि आगे क्या करने की आवश्यकता है।\n",
    "   <p style=”font-family:verdana; फ़ॉन्ट-आकार:12px;रंग:हरा”> <strong>सोच रहा हूं</strong>: मुझे खोजने के लिए विकिपीडिया का उपयोग करना चाहिए। </p>\n",
    "\n",
    "2. मॉडल सोच के आधार पर कार्रवाई करता है (क्रिया)\n",
    "    <p style=”font-family:verdana; फ़ॉन्ट-आकार:12px;रंग:हरा”> <strong>कार्रवाई</strong>: विकिपीडिया का उपयोग करते हुए, टॉम एम. मिशेल दर्ज करें</p>\n",
    "3. मॉडल का अवलोकन किया गया है (अवलोकन)\n",
    "    <p style=”font-family:verdana; फ़ॉन्ट-आकार:12px;रंग:हरा”><strong>अवलोकन</strong>: पेज: टॉम एम. मिशेल, पेज: टॉम मिशेल (ऑस्ट्रेलियाई फुटबॉल खिलाड़ी)</p >\n",
    "\n",
    "4. अवलोकनों के आधार पर, मॉडल यह विचार देता है कि आगे क्या करने की आवश्यकता है।\n",
    "    <p style='font-family:verdana; फ़ॉन्ट-आकार:12px;रंग:हरा\"> <strong>सोच</strong>: टॉम एम. मिशेल द्वारा लिखित पुस्तक मशीन लर्निंग है </p>\n",
    "\n",
    "5. अंतिम उत्तर दें (अंतिम उत्तर)\n",
    "     <p style=”font-family:verdana; फ़ॉन्ट-आकार:12px;रंग:हरा”> <strong>अंतिम उत्तर</strong>: मशीन लर्निंग </p>\n",
    "5. अंतिम उत्तर शब्दकोश रूप में दें।\n",
    "\n",
    "\n",
    "यह ध्यान देने योग्य है कि मॉडल की अनुमान प्रक्रिया हर बार भिन्न हो सकती है, लेकिन अंतिम परिणाम सुसंगत होते हैं।"
   ]
  },
  {
   "cell_type": "markdown",
   "id": "5901cab6-a7c9-4590-b35d-d41c29e39a39",
   "metadata": {},
   "source": [
    "### 2.2 PythonREPLTool टूल का उपयोग करना"
   ]
  },
  {
   "cell_type": "markdown",
   "id": "12b8d837-524c-46b8-9189-504808cf1f93",
   "metadata": {},
   "source": [
    "#### 1️⃣ पायथन एजेंट बनाएं"
   ]
  },
  {
   "cell_type": "code",
   "execution_count": 8,
   "id": "6c60d933-168d-4834-b29c-b2b43ade80cc",
   "metadata": {},
   "outputs": [],
   "source": [
    "from langchain.agents.agent_toolkits import create_python_agent\n",
    "from langchain.tools.python.tool import PythonREPLTool\n",
    "\n",
    "agent = create_python_agent(\n",
    "    llm,  #使用前面一节已经加载的大语言模型\n",
    "    tool=PythonREPLTool(), #使用Python交互式环境工具（REPLTool）\n",
    "    verbose=True #输出中间步骤\n",
    ")"
   ]
  },
  {
   "cell_type": "markdown",
   "id": "d32ed40c-cbcd-4efd-b044-57e611f5fab5",
   "metadata": {
    "tags": []
   },
   "source": [
    "#### 2️⃣ ग्राहक नामों को क्रमबद्ध करने के लिए प्रॉक्सी का उपयोग करें"
   ]
  },
  {
   "cell_type": "code",
   "execution_count": 14,
   "id": "3d416f28-8fdb-4761-a4f9-d46c6d37fb3d",
   "metadata": {},
   "outputs": [],
   "source": [
    "customer_list = [\"小明\",\"小黄\",\"小红\",\"小蓝\",\"小橘\",\"小绿\",]"
   ]
  },
  {
   "cell_type": "code",
   "execution_count": 22,
   "id": "d0fbfc4c",
   "metadata": {},
   "outputs": [],
   "source": [
    "!pip install -q pinyin"
   ]
  },
  {
   "cell_type": "code",
   "execution_count": 23,
   "id": "ba7f9a50-acf6-4fba-a1b9-503baa80266b",
   "metadata": {},
   "outputs": [
    {
     "name": "stdout",
     "output_type": "stream",
     "text": [
      "\n",
      "\n",
      "\u001b[1m> Entering new  chain...\u001b[0m\n",
      "\u001b[32;1m\u001b[1;3m我需要使用拼音库来将客户名字转换为拼音。我可以使用Python的pinyin库来实现这个功能。\n",
      "Action: Python_REPL\n",
      "Action Input: import pinyin\u001b[0m\n",
      "Observation: \u001b[36;1m\u001b[1;3m\u001b[0m\n",
      "Thought:\u001b[32;1m\u001b[1;3m我现在可以使用pinyin库来将客户名字转换为拼音了。\n",
      "Action: Python_REPL\n",
      "Action Input: names = ['小明', '小黄', '小红', '小蓝', '小橘', '小绿']\u001b[0m\n",
      "Observation: \u001b[36;1m\u001b[1;3m\u001b[0m\n",
      "Thought:\u001b[32;1m\u001b[1;3m我现在可以使用pinyin库将names列表中的客户名字转换为拼音了。\n",
      "Action: Python_REPL\n",
      "Action Input: pinyin_names = [pinyin.get(i, format='strip', delimiter='') for i in names]\u001b[0m\n",
      "Observation: \u001b[36;1m\u001b[1;3m\u001b[0m\n",
      "Thought:"
     ]
    },
    {
     "name": "stderr",
     "output_type": "stream",
     "text": [
      "Retrying langchain.chat_models.openai.ChatOpenAI.completion_with_retry.<locals>._completion_with_retry in 1.0 seconds as it raised RateLimitError: Rate limit reached for default-gpt-3.5-turbo in organization org-2YlJyPMl62f07XPJCAlXfDxj on requests per min. Limit: 3 / min. Please try again in 20s. Contact us through our help center at help.openai.com if you continue to have issues. Please add a payment method to your account to increase your rate limit. Visit https://platform.openai.com/account/billing to add a payment method..\n",
      "Retrying langchain.chat_models.openai.ChatOpenAI.completion_with_retry.<locals>._completion_with_retry in 2.0 seconds as it raised RateLimitError: Rate limit reached for default-gpt-3.5-turbo in organization org-2YlJyPMl62f07XPJCAlXfDxj on requests per min. Limit: 3 / min. Please try again in 20s. Contact us through our help center at help.openai.com if you continue to have issues. Please add a payment method to your account to increase your rate limit. Visit https://platform.openai.com/account/billing to add a payment method..\n",
      "Retrying langchain.chat_models.openai.ChatOpenAI.completion_with_retry.<locals>._completion_with_retry in 4.0 seconds as it raised RateLimitError: Rate limit reached for default-gpt-3.5-turbo in organization org-2YlJyPMl62f07XPJCAlXfDxj on requests per min. Limit: 3 / min. Please try again in 20s. Contact us through our help center at help.openai.com if you continue to have issues. Please add a payment method to your account to increase your rate limit. Visit https://platform.openai.com/account/billing to add a payment method..\n",
      "Retrying langchain.chat_models.openai.ChatOpenAI.completion_with_retry.<locals>._completion_with_retry in 8.0 seconds as it raised RateLimitError: Rate limit reached for default-gpt-3.5-turbo in organization org-2YlJyPMl62f07XPJCAlXfDxj on requests per min. Limit: 3 / min. Please try again in 20s. Contact us through our help center at help.openai.com if you continue to have issues. Please add a payment method to your account to increase your rate limit. Visit https://platform.openai.com/account/billing to add a payment method..\n"
     ]
    },
    {
     "name": "stdout",
     "output_type": "stream",
     "text": [
      "\u001b[32;1m\u001b[1;3m我已经成功将客户名字转换为拼音并存储在pinyin_names列表中了。\n",
      "Final Answer: pinyin_names = ['xiaoming', 'xiaohuang', 'xiaohong', 'xiaolan', 'xiaojv', 'xiaolv']\u001b[0m\n",
      "\n",
      "\u001b[1m> Finished chain.\u001b[0m\n"
     ]
    },
    {
     "data": {
      "text/plain": [
       "\"pinyin_names = ['xiaoming', 'xiaohuang', 'xiaohong', 'xiaolan', 'xiaojv', 'xiaolv']\""
      ]
     },
     "execution_count": 23,
     "metadata": {},
     "output_type": "execute_result"
    }
   ],
   "source": [
    "agent.run(f\"\"\"在这些客户名字转换为拼音\\\n",
    "并打印输出列表： {customer_list}\\\n",
    "思考过程请使用中文。\"\"\") "
   ]
  },
  {
   "cell_type": "markdown",
   "id": "16f530a5-8c50-4648-951f-4e65d15ca93f",
   "metadata": {
    "jp-MarkdownHeadingCollapsed": true,
    "tags": []
   },
   "source": [
    "#### 3️⃣ डिबग मोड का उपयोग करें"
   ]
  },
  {
   "cell_type": "markdown",
   "id": "951048dc-0414-410d-a0e9-6ef32bbdda89",
   "metadata": {
    "tags": []
   },
   "source": [
    "डिबग मोड में फिर से चलाएँ, हम उपरोक्त 6 चरणों को नीचे दी गई विशिष्ट प्रक्रिया में मैप कर सकते हैं।\n",
    "1. मॉडल इस पर विचार देता है कि आगे क्या करने की आवश्यकता है।\n",
    "    - <p style=”font-family:verdana; फ़ॉन्ट-आकार:12px;रंग:हरा”> [चेन/स्टार्ट] [1:चेन:एजेंट एक्ज़ीक्यूटर] इनपुट के साथ चेन रन में प्रवेश</p>\n",
    "    - <p style=”font-family:verdana; फ़ॉन्ट-आकार:12px;रंग:हरा”> [चेन/स्टार्ट] [1:चेन:एजेंट एक्ज़ीक्यूटर > 2:चेन:एलएलएमचेन] इनपुट के साथ चेन रन में प्रवेश</p>\n",
    "    - <p style='font-family:verdana; फ़ॉन्ट-आकार:12px;रंग:हरा'> [llm/start] [1:चेन:AgentExecutor > 2:चेन:LLMChain > 3:llm:ChatOpenAI] एलएलएम में प्रवेश इनपुट के साथ चलता है</p>\n",
    "    - <p style=”font-family:verdana; फ़ॉन्ट-आकार:12px;रंग:हरा”> [llm/end] [1:चेन:AgentExecutor > 2:चेन:LLMChain > 3:llm:ChatOpenAI] [12.25s ] बाहर निकलने वाला एलएलएम आउटपुट के साथ चलता है</p>\n",
    "    - <p style='font-family:verdana; फ़ॉन्ट-आकार:12px;रंग:हरा'>[चेन/एंड] [1:चेन:एजेंट एक्ज़ीक्यूटर > 2:चेन:एलएलएमचेन] [12.25s] एग्जिटिंग चेन आउटपुट के साथ चलती है </p>\n",
    "2. मॉडल सोच के आधार पर कार्रवाई (एक्शन) करता है क्योंकि उपयोग किए गए उपकरण अलग हैं, कार्रवाई का आउटपुट भी पहले से अलग है।\n",
    "    - <p style=”font-family:verdana; फ़ॉन्ट-आकार:12px;color:green\"> [टूल/स्टार्ट] [1:चेन:एजेंट एक्ज़ीक्यूटर > 4:टूल:पायथन आरईपीएल] इनपुट के साथ एंटरिंग टूल रन</p>\n",
    "    - <p style='font-family:verdana; फ़ॉन्ट-आकार:12px;रंग:हरा'> [टूल/अंत] [1:चेन:एजेंट एक्ज़ीक्यूटर > 4:टूल:पायथन आरईपीएल] [2.223999999999998एमएस] एग्जिट टूल के साथ चलाएं आउटपुट</p>\n",
    "3. मॉडल का अवलोकन किया गया है (अवलोकन)\n",
    "    - <p style=”font-family:verdana; फ़ॉन्ट-आकार:12px;रंग:हरा”> [चेन/स्टार्ट] [1:चेन:एजेंट एक्ज़ीक्यूटर > 5:चेन:एलएलएमचेन] इनपुट के साथ चेन रन में प्रवेश</p>\n",
    "4. अवलोकनों के आधार पर, मॉडल यह विचार देता है कि आगे क्या करने की आवश्यकता है।- <p style=”font-family:verdana; फ़ॉन्ट-आकार:12px;रंग:हरा”> [llm/start] [1:चेन:AgentExecutor > 5:चेन:LLMChain > 6:llm:ChatOpenAI] एलएलएम रन में प्रवेश करना इनपुट के साथ</p>\n",
    "    - <p style='font-family:verdana; फ़ॉन्ट-आकार:12px;रंग:हरा'> [llm/end] [1:चेन:AgentExecutor > 5:चेन:LLMChain > 6:llm:ChatOpenAI] [6.94s ] बाहर निकलने वाला एलएलएम आउटपुट के साथ चलता है</p>\n",
    "    \n",
    "5. अंतिम उत्तर दें (अंतिम उत्तर)\n",
    "    - <p style=”font-family:verdana; फ़ॉन्ट-आकार:12px;रंग:हरा”> [श्रृंखला/अंत] [1:श्रृंखला:AgentExecutor > 5:श्रृंखला:LLMChain] [6.94s] एग्जिट चेन आउटपुट के साथ चलती है</p>\n",
    "6. अंतिम उत्तर लौटाएँ.\n",
    "    - <p style=”font-family:verdana; फ़ॉन्ट-आकार:12px;रंग:हरा”> [श्रृंखला/अंत] [1:श्रृंखला:AgentExecutor] [19.20s] निकास श्रृंखला आउटपुट के साथ चलती है</p>"
   ]
  },
  {
   "cell_type": "code",
   "execution_count": 25,
   "id": "92b8961b-b990-4540-a7f9-e4701dfaa616",
   "metadata": {},
   "outputs": [
    {
     "name": "stdout",
     "output_type": "stream",
     "text": [
      "\u001b[32;1m\u001b[1;3m[chain/start]\u001b[0m \u001b[1m[1:chain:AgentExecutor] Entering Chain run with input:\n",
      "\u001b[0m{\n",
      "  \"input\": \"在这些客户名字转换为拼音并打印输出列表： ['小明', '小黄', '小红', '小蓝', '小橘', '小绿']思考过程请使用中文。\"\n",
      "}\n",
      "\u001b[32;1m\u001b[1;3m[chain/start]\u001b[0m \u001b[1m[1:chain:AgentExecutor > 2:chain:LLMChain] Entering Chain run with input:\n",
      "\u001b[0m{\n",
      "  \"input\": \"在这些客户名字转换为拼音并打印输出列表： ['小明', '小黄', '小红', '小蓝', '小橘', '小绿']思考过程请使用中文。\",\n",
      "  \"agent_scratchpad\": \"\",\n",
      "  \"stop\": [\n",
      "    \"\\nObservation:\",\n",
      "    \"\\n\\tObservation:\"\n",
      "  ]\n",
      "}\n",
      "\u001b[32;1m\u001b[1;3m[llm/start]\u001b[0m \u001b[1m[1:chain:AgentExecutor > 2:chain:LLMChain > 3:llm:ChatOpenAI] Entering LLM run with input:\n",
      "\u001b[0m{\n",
      "  \"prompts\": [\n",
      "    \"Human: You are an agent designed to write and execute python code to answer questions.\\nYou have access to a python REPL, which you can use to execute python code.\\nIf you get an error, debug your code and try again.\\nOnly use the output of your code to answer the question. \\nYou might know the answer without running any code, but you should still run the code to get the answer.\\nIf it does not seem like you can write code to answer the question, just return \\\"I don't know\\\" as the answer.\\n\\n\\nPython_REPL: A Python shell. Use this to execute python commands. Input should be a valid python command. If you want to see the output of a value, you should print it out with `print(...)`.\\n\\nUse the following format:\\n\\nQuestion: the input question you must answer\\nThought: you should always think about what to do\\nAction: the action to take, should be one of [Python_REPL]\\nAction Input: the input to the action\\nObservation: the result of the action\\n... (this Thought/Action/Action Input/Observation can repeat N times)\\nThought: I now know the final answer\\nFinal Answer: the final answer to the original input question\\n\\nBegin!\\n\\nQuestion: 在这些客户名字转换为拼音并打印输出列表： ['小明', '小黄', '小红', '小蓝', '小橘', '小绿']思考过程请使用中文。\\nThought:\"\n",
      "  ]\n",
      "}\n",
      "\u001b[36;1m\u001b[1;3m[llm/end]\u001b[0m \u001b[1m[1:chain:AgentExecutor > 2:chain:LLMChain > 3:llm:ChatOpenAI] [2.91s] Exiting LLM run with output:\n",
      "\u001b[0m{\n",
      "  \"generations\": [\n",
      "    [\n",
      "      {\n",
      "        \"text\": \"我需要使用拼音转换库来将这些客户名字转换为拼音。我可以使用Python的pinyin库来完成这个任务。\\nAction: Python_REPL\\nAction Input: import pinyin\",\n",
      "        \"generation_info\": null,\n",
      "        \"message\": {\n",
      "          \"content\": \"我需要使用拼音转换库来将这些客户名字转换为拼音。我可以使用Python的pinyin库来完成这个任务。\\nAction: Python_REPL\\nAction Input: import pinyin\",\n",
      "          \"additional_kwargs\": {},\n",
      "          \"example\": false\n",
      "        }\n",
      "      }\n",
      "    ]\n",
      "  ],\n",
      "  \"llm_output\": {\n",
      "    \"token_usage\": {\n",
      "      \"prompt_tokens\": 322,\n",
      "      \"completion_tokens\": 50,\n",
      "      \"total_tokens\": 372\n",
      "    },\n",
      "    \"model_name\": \"gpt-3.5-turbo\"\n",
      "  },\n",
      "  \"run\": null\n",
      "}\n",
      "\u001b[36;1m\u001b[1;3m[chain/end]\u001b[0m \u001b[1m[1:chain:AgentExecutor > 2:chain:LLMChain] [2.91s] Exiting Chain run with output:\n",
      "\u001b[0m{\n",
      "  \"text\": \"我需要使用拼音转换库来将这些客户名字转换为拼音。我可以使用Python的pinyin库来完成这个任务。\\nAction: Python_REPL\\nAction Input: import pinyin\"\n",
      "}\n",
      "\u001b[32;1m\u001b[1;3m[tool/start]\u001b[0m \u001b[1m[1:chain:AgentExecutor > 4:tool:Python_REPL] Entering Tool run with input:\n",
      "\u001b[0m\"import pinyin\"\n",
      "\u001b[36;1m\u001b[1;3m[tool/end]\u001b[0m \u001b[1m[1:chain:AgentExecutor > 4:tool:Python_REPL] [0.0ms] Exiting Tool run with output:\n",
      "\u001b[0m\"\"\n",
      "\u001b[32;1m\u001b[1;3m[chain/start]\u001b[0m \u001b[1m[1:chain:AgentExecutor > 5:chain:LLMChain] Entering Chain run with input:\n",
      "\u001b[0m{\n",
      "  \"input\": \"在这些客户名字转换为拼音并打印输出列表： ['小明', '小黄', '小红', '小蓝', '小橘', '小绿']思考过程请使用中文。\",\n",
      "  \"agent_scratchpad\": \"我需要使用拼音转换库来将这些客户名字转换为拼音。我可以使用Python的pinyin库来完成这个任务。\\nAction: Python_REPL\\nAction Input: import pinyin\\nObservation: \\nThought:\",\n",
      "  \"stop\": [\n",
      "    \"\\nObservation:\",\n",
      "    \"\\n\\tObservation:\"\n",
      "  ]\n",
      "}\n",
      "\u001b[32;1m\u001b[1;3m[llm/start]\u001b[0m \u001b[1m[1:chain:AgentExecutor > 5:chain:LLMChain > 6:llm:ChatOpenAI] Entering LLM run with input:\n",
      "\u001b[0m{\n",
      "  \"prompts\": [\n",
      "    \"Human: You are an agent designed to write and execute python code to answer questions.\\nYou have access to a python REPL, which you can use to execute python code.\\nIf you get an error, debug your code and try again.\\nOnly use the output of your code to answer the question. \\nYou might know the answer without running any code, but you should still run the code to get the answer.\\nIf it does not seem like you can write code to answer the question, just return \\\"I don't know\\\" as the answer.\\n\\n\\nPython_REPL: A Python shell. Use this to execute python commands. Input should be a valid python command. If you want to see the output of a value, you should print it out with `print(...)`.\\n\\nUse the following format:\\n\\nQuestion: the input question you must answer\\nThought: you should always think about what to do\\nAction: the action to take, should be one of [Python_REPL]\\nAction Input: the input to the action\\nObservation: the result of the action\\n... (this Thought/Action/Action Input/Observation can repeat N times)\\nThought: I now know the final answer\\nFinal Answer: the final answer to the original input question\\n\\nBegin!\\n\\nQuestion: 在这些客户名字转换为拼音并打印输出列表： ['小明', '小黄', '小红', '小蓝', '小橘', '小绿']思考过程请使用中文。\\nThought:我需要使用拼音转换库来将这些客户名字转换为拼音。我可以使用Python的pinyin库来完成这个任务。\\nAction: Python_REPL\\nAction Input: import pinyin\\nObservation: \\nThought:\"\n",
      "  ]\n",
      "}\n"
     ]
    },
    {
     "name": "stderr",
     "output_type": "stream",
     "text": [
      "Retrying langchain.chat_models.openai.ChatOpenAI.completion_with_retry.<locals>._completion_with_retry in 1.0 seconds as it raised RateLimitError: Rate limit reached for default-gpt-3.5-turbo in organization org-2YlJyPMl62f07XPJCAlXfDxj on requests per min. Limit: 3 / min. Please try again in 20s. Contact us through our help center at help.openai.com if you continue to have issues. Please add a payment method to your account to increase your rate limit. Visit https://platform.openai.com/account/billing to add a payment method..\n",
      "Retrying langchain.chat_models.openai.ChatOpenAI.completion_with_retry.<locals>._completion_with_retry in 2.0 seconds as it raised RateLimitError: Rate limit reached for default-gpt-3.5-turbo in organization org-2YlJyPMl62f07XPJCAlXfDxj on requests per min. Limit: 3 / min. Please try again in 20s. Contact us through our help center at help.openai.com if you continue to have issues. Please add a payment method to your account to increase your rate limit. Visit https://platform.openai.com/account/billing to add a payment method..\n",
      "Retrying langchain.chat_models.openai.ChatOpenAI.completion_with_retry.<locals>._completion_with_retry in 4.0 seconds as it raised RateLimitError: Rate limit reached for default-gpt-3.5-turbo in organization org-2YlJyPMl62f07XPJCAlXfDxj on requests per min. Limit: 3 / min. Please try again in 20s. Contact us through our help center at help.openai.com if you continue to have issues. Please add a payment method to your account to increase your rate limit. Visit https://platform.openai.com/account/billing to add a payment method..\n"
     ]
    },
    {
     "name": "stdout",
     "output_type": "stream",
     "text": [
      "\u001b[36;1m\u001b[1;3m[llm/end]\u001b[0m \u001b[1m[1:chain:AgentExecutor > 5:chain:LLMChain > 6:llm:ChatOpenAI] [12.76s] Exiting LLM run with output:\n",
      "\u001b[0m{\n",
      "  \"generations\": [\n",
      "    [\n",
      "      {\n",
      "        \"text\": \"我现在可以使用pinyin库来将客户名字转换为拼音。\\nAction: Python_REPL\\nAction Input: names = ['小明', '小黄', '小红', '小蓝', '小橘', '小绿']\\npinyin_names = [pinyin.get(i, format='strip', delimiter='') for i in names]\\nprint(pinyin_names)\",\n",
      "        \"generation_info\": null,\n",
      "        \"message\": {\n",
      "          \"content\": \"我现在可以使用pinyin库来将客户名字转换为拼音。\\nAction: Python_REPL\\nAction Input: names = ['小明', '小黄', '小红', '小蓝', '小橘', '小绿']\\npinyin_names = [pinyin.get(i, format='strip', delimiter='') for i in names]\\nprint(pinyin_names)\",\n",
      "          \"additional_kwargs\": {},\n",
      "          \"example\": false\n",
      "        }\n",
      "      }\n",
      "    ]\n",
      "  ],\n",
      "  \"llm_output\": {\n",
      "    \"token_usage\": {\n",
      "      \"prompt_tokens\": 379,\n",
      "      \"completion_tokens\": 89,\n",
      "      \"total_tokens\": 468\n",
      "    },\n",
      "    \"model_name\": \"gpt-3.5-turbo\"\n",
      "  },\n",
      "  \"run\": null\n",
      "}\n",
      "\u001b[36;1m\u001b[1;3m[chain/end]\u001b[0m \u001b[1m[1:chain:AgentExecutor > 5:chain:LLMChain] [12.77s] Exiting Chain run with output:\n",
      "\u001b[0m{\n",
      "  \"text\": \"我现在可以使用pinyin库来将客户名字转换为拼音。\\nAction: Python_REPL\\nAction Input: names = ['小明', '小黄', '小红', '小蓝', '小橘', '小绿']\\npinyin_names = [pinyin.get(i, format='strip', delimiter='') for i in names]\\nprint(pinyin_names)\"\n",
      "}\n",
      "\u001b[32;1m\u001b[1;3m[tool/start]\u001b[0m \u001b[1m[1:chain:AgentExecutor > 7:tool:Python_REPL] Entering Tool run with input:\n",
      "\u001b[0m\"names = ['小明', '小黄', '小红', '小蓝', '小橘', '小绿']\n",
      "pinyin_names = [pinyin.get(i, format='strip', delimiter='') for i in names]\n",
      "print(pinyin_names)\"\n",
      "\u001b[36;1m\u001b[1;3m[tool/end]\u001b[0m \u001b[1m[1:chain:AgentExecutor > 7:tool:Python_REPL] [0.0ms] Exiting Tool run with output:\n",
      "\u001b[0m\"['xiaoming', 'xiaohuang', 'xiaohong', 'xiaolan', 'xiaoju', 'xiaolv']\"\n",
      "\u001b[32;1m\u001b[1;3m[chain/start]\u001b[0m \u001b[1m[1:chain:AgentExecutor > 8:chain:LLMChain] Entering Chain run with input:\n",
      "\u001b[0m{\n",
      "  \"input\": \"在这些客户名字转换为拼音并打印输出列表： ['小明', '小黄', '小红', '小蓝', '小橘', '小绿']思考过程请使用中文。\",\n",
      "  \"agent_scratchpad\": \"我需要使用拼音转换库来将这些客户名字转换为拼音。我可以使用Python的pinyin库来完成这个任务。\\nAction: Python_REPL\\nAction Input: import pinyin\\nObservation: \\nThought:我现在可以使用pinyin库来将客户名字转换为拼音。\\nAction: Python_REPL\\nAction Input: names = ['小明', '小黄', '小红', '小蓝', '小橘', '小绿']\\npinyin_names = [pinyin.get(i, format='strip', delimiter='') for i in names]\\nprint(pinyin_names)\\nObservation: ['xiaoming', 'xiaohuang', 'xiaohong', 'xiaolan', 'xiaoju', 'xiaolv']\\n\\nThought:\",\n",
      "  \"stop\": [\n",
      "    \"\\nObservation:\",\n",
      "    \"\\n\\tObservation:\"\n",
      "  ]\n",
      "}\n",
      "\u001b[32;1m\u001b[1;3m[llm/start]\u001b[0m \u001b[1m[1:chain:AgentExecutor > 8:chain:LLMChain > 9:llm:ChatOpenAI] Entering LLM run with input:\n",
      "\u001b[0m{\n",
      "  \"prompts\": [\n",
      "    \"Human: You are an agent designed to write and execute python code to answer questions.\\nYou have access to a python REPL, which you can use to execute python code.\\nIf you get an error, debug your code and try again.\\nOnly use the output of your code to answer the question. \\nYou might know the answer without running any code, but you should still run the code to get the answer.\\nIf it does not seem like you can write code to answer the question, just return \\\"I don't know\\\" as the answer.\\n\\n\\nPython_REPL: A Python shell. Use this to execute python commands. Input should be a valid python command. If you want to see the output of a value, you should print it out with `print(...)`.\\n\\nUse the following format:\\n\\nQuestion: the input question you must answer\\nThought: you should always think about what to do\\nAction: the action to take, should be one of [Python_REPL]\\nAction Input: the input to the action\\nObservation: the result of the action\\n... (this Thought/Action/Action Input/Observation can repeat N times)\\nThought: I now know the final answer\\nFinal Answer: the final answer to the original input question\\n\\nBegin!\\n\\nQuestion: 在这些客户名字转换为拼音并打印输出列表： ['小明', '小黄', '小红', '小蓝', '小橘', '小绿']思考过程请使用中文。\\nThought:我需要使用拼音转换库来将这些客户名字转换为拼音。我可以使用Python的pinyin库来完成这个任务。\\nAction: Python_REPL\\nAction Input: import pinyin\\nObservation: \\nThought:我现在可以使用pinyin库来将客户名字转换为拼音。\\nAction: Python_REPL\\nAction Input: names = ['小明', '小黄', '小红', '小蓝', '小橘', '小绿']\\npinyin_names = [pinyin.get(i, format='strip', delimiter='') for i in names]\\nprint(pinyin_names)\\nObservation: ['xiaoming', 'xiaohuang', 'xiaohong', 'xiaolan', 'xiaoju', 'xiaolv']\\n\\nThought:\"\n",
      "  ]\n",
      "}\n"
     ]
    },
    {
     "name": "stderr",
     "output_type": "stream",
     "text": [
      "Retrying langchain.chat_models.openai.ChatOpenAI.completion_with_retry.<locals>._completion_with_retry in 1.0 seconds as it raised RateLimitError: Rate limit reached for default-gpt-3.5-turbo in organization org-2YlJyPMl62f07XPJCAlXfDxj on requests per min. Limit: 3 / min. Please try again in 20s. Contact us through our help center at help.openai.com if you continue to have issues. Please add a payment method to your account to increase your rate limit. Visit https://platform.openai.com/account/billing to add a payment method..\n",
      "Retrying langchain.chat_models.openai.ChatOpenAI.completion_with_retry.<locals>._completion_with_retry in 2.0 seconds as it raised RateLimitError: Rate limit reached for default-gpt-3.5-turbo in organization org-2YlJyPMl62f07XPJCAlXfDxj on requests per min. Limit: 3 / min. Please try again in 20s. Contact us through our help center at help.openai.com if you continue to have issues. Please add a payment method to your account to increase your rate limit. Visit https://platform.openai.com/account/billing to add a payment method..\n",
      "Retrying langchain.chat_models.openai.ChatOpenAI.completion_with_retry.<locals>._completion_with_retry in 4.0 seconds as it raised RateLimitError: Rate limit reached for default-gpt-3.5-turbo in organization org-2YlJyPMl62f07XPJCAlXfDxj on requests per min. Limit: 3 / min. Please try again in 20s. Contact us through our help center at help.openai.com if you continue to have issues. Please add a payment method to your account to increase your rate limit. Visit https://platform.openai.com/account/billing to add a payment method..\n",
      "Retrying langchain.chat_models.openai.ChatOpenAI.completion_with_retry.<locals>._completion_with_retry in 8.0 seconds as it raised RateLimitError: Rate limit reached for default-gpt-3.5-turbo in organization org-2YlJyPMl62f07XPJCAlXfDxj on requests per min. Limit: 3 / min. Please try again in 20s. Contact us through our help center at help.openai.com if you continue to have issues. Please add a payment method to your account to increase your rate limit. Visit https://platform.openai.com/account/billing to add a payment method..\n"
     ]
    },
    {
     "name": "stdout",
     "output_type": "stream",
     "text": [
      "\u001b[36;1m\u001b[1;3m[llm/end]\u001b[0m \u001b[1m[1:chain:AgentExecutor > 8:chain:LLMChain > 9:llm:ChatOpenAI] [20.25s] Exiting LLM run with output:\n",
      "\u001b[0m{\n",
      "  \"generations\": [\n",
      "    [\n",
      "      {\n",
      "        \"text\": \"我现在知道了最终答案。\\nFinal Answer: ['xiaoming', 'xiaohuang', 'xiaohong', 'xiaolan', 'xiaoju', 'xiaolv']\",\n",
      "        \"generation_info\": null,\n",
      "        \"message\": {\n",
      "          \"content\": \"我现在知道了最终答案。\\nFinal Answer: ['xiaoming', 'xiaohuang', 'xiaohong', 'xiaolan', 'xiaoju', 'xiaolv']\",\n",
      "          \"additional_kwargs\": {},\n",
      "          \"example\": false\n",
      "        }\n",
      "      }\n",
      "    ]\n",
      "  ],\n",
      "  \"llm_output\": {\n",
      "    \"token_usage\": {\n",
      "      \"prompt_tokens\": 500,\n",
      "      \"completion_tokens\": 43,\n",
      "      \"total_tokens\": 543\n",
      "    },\n",
      "    \"model_name\": \"gpt-3.5-turbo\"\n",
      "  },\n",
      "  \"run\": null\n",
      "}\n",
      "\u001b[36;1m\u001b[1;3m[chain/end]\u001b[0m \u001b[1m[1:chain:AgentExecutor > 8:chain:LLMChain] [20.25s] Exiting Chain run with output:\n",
      "\u001b[0m{\n",
      "  \"text\": \"我现在知道了最终答案。\\nFinal Answer: ['xiaoming', 'xiaohuang', 'xiaohong', 'xiaolan', 'xiaoju', 'xiaolv']\"\n",
      "}\n",
      "\u001b[36;1m\u001b[1;3m[chain/end]\u001b[0m \u001b[1m[1:chain:AgentExecutor] [35.93s] Exiting Chain run with output:\n",
      "\u001b[0m{\n",
      "  \"output\": \"['xiaoming', 'xiaohuang', 'xiaohong', 'xiaolan', 'xiaoju', 'xiaolv']\"\n",
      "}\n"
     ]
    }
   ],
   "source": [
    "import langchain\n",
    "langchain.debug=True\n",
    "agent.run(f\"\"\"在这些客户名字转换为拼音\\\n",
    "并打印输出列表： {customer_list}\\\n",
    "思考过程请使用中文。\"\"\") \n",
    "langchain.debug=False"
   ]
  },
  {
   "cell_type": "markdown",
   "id": "6b2ba50d-53c4-4eab-9467-98f562a072cc",
   "metadata": {
    "tags": []
   },
   "source": [
    "## 3. अपने स्वयं के टूल को परिभाषित करें और उन्हें एजेंट में उपयोग करें"
   ]
  },
  {
   "cell_type": "code",
   "execution_count": 26,
   "id": "d8e88bdf-01d2-4adc-b2af-086ece6ba97d",
   "metadata": {},
   "outputs": [],
   "source": [
    "# यदि आपको इंस्टॉलेशन प्रक्रिया लॉग देखने की आवश्यकता है, तो आप -q हटा सकते हैं\n",
    "!pip install -q DateTime"
   ]
  },
  {
   "cell_type": "markdown",
   "id": "fb92f6e4-21ab-494d-9c22-d0678050fd37",
   "metadata": {},
   "source": [
    "### 3.1 कस्टम टाइम टूल बनाएं और उपयोग करें"
   ]
  },
  {
   "cell_type": "code",
   "execution_count": 27,
   "id": "4b7e80e4-48d5-48f0-abeb-3dc33678ed9e",
   "metadata": {},
   "outputs": [],
   "source": [
    "# टूल फ़ंक्शन डेकोरेटर आयात करें\n",
    "from langchain.agents import tool\n",
    "from datetime import date"
   ]
  },
  {
   "cell_type": "markdown",
   "id": "8990b3c6-fe05-45b6-9567-06baec267a99",
   "metadata": {},
   "source": [
    "#### 1️⃣ कस्टम टूल बनाने के लिए टूल फ़ंक्शन डेकोरेटर का उपयोग करें\n",
    "टूल फ़ंक्शन डेकोरेटर को किसी भी फ़ंक्शन पर लागू किया जा सकता है, फ़ंक्शन को लॉन्गचेन टूल में परिवर्तित किया जा सकता है, जिससे यह एजेंट द्वारा कॉल करने योग्य टूल बन जाता है।\n",
    "\n",
    "हमें फ़ंक्शन में एक बहुत विस्तृत दस्तावेज़ीकरण स्ट्रिंग जोड़ने की आवश्यकता है ताकि एजेंट को पता चले कि किस परिस्थिति में और फ़ंक्शन/टूल का उपयोग कैसे करना है।\n",
    "\n",
    "उदाहरण के लिए, निम्नलिखित फ़ंक्शन `समय` के लिए, हमने एक विस्तृत दस्तावेज़ स्ट्रिंग जोड़ी है\n",
    "\n",
    "```अजगर\n",
    "\"\"\"\n",
    "आज की तारीख लौटाता है, आज की तारीख प्राप्त करने से संबंधित किसी भी समस्या के लिए उपयोगी।\n",
    "इनपुट हमेशा एक खाली स्ट्रिंग होना चाहिए और फ़ंक्शन हमेशा आज की तारीख लौटाएगा।\n",
    "किसी भी तिथि की गणना इस फ़ंक्शन के बाहर की जानी चाहिए।\n",
    "\"\"\"\n",
    "\n",
    "```"
   ]
  },
  {
   "cell_type": "code",
   "execution_count": 28,
   "id": "e22a823f-3749-4bda-bac3-1b892da77929",
   "metadata": {},
   "outputs": [],
   "source": [
    "@tool\n",
    "def time(text: str) -> str:\n",
    "    \"\"\"\n",
    "    返回今天的日期，用于任何需要知道今天日期的问题。\\\n",
    "    输入应该总是一个空字符串，\\\n",
    "    这个函数将总是返回今天的日期，任何日期计算应该在这个函数之外进行。\n",
    "    \"\"\"\n",
    "    return str(date.today())"
   ]
  },
  {
   "cell_type": "markdown",
   "id": "440cb348-0ec6-4999-a6cd-81cb48b8c546",
   "metadata": {},
   "source": [
    "#### 2️⃣ प्रॉक्सी प्रारंभ करें"
   ]
  },
  {
   "cell_type": "code",
   "execution_count": 36,
   "id": "09c9f59e-c14c-41b9-b6bd-0e97e8be72ab",
   "metadata": {},
   "outputs": [],
   "source": [
    "agent= initialize_agent(\n",
    "    tools=[time], #将刚刚创建的时间工具加入代理\n",
    "    llm=llm, #初始化的模型\n",
    "    agent=AgentType.CHAT_ZERO_SHOT_REACT_DESCRIPTION,  #代理类型\n",
    "    handle_parsing_errors=True, #处理解析错误\n",
    "    verbose = True #输出中间步骤\n",
    ")"
   ]
  },
  {
   "cell_type": "markdown",
   "id": "f1a10657-23f2-4f78-a247-73f272119eb4",
   "metadata": {},
   "source": [
    "#### 3️⃣ आज की तारीख पूछने के लिए प्रॉक्सी का उपयोग करें\n",
    "**नोट**: प्रॉक्सी कभी-कभी गलत हो सकती है (यह सुविधा विकास के अधीन है)। यदि कोई त्रुटि आती है, तो उसे पुनः चलाने का प्रयास करें।"
   ]
  },
  {
   "cell_type": "code",
   "execution_count": 37,
   "id": "f868e30b-ec67-4d76-9dc9-81ecd3332115",
   "metadata": {},
   "outputs": [
    {
     "name": "stdout",
     "output_type": "stream",
     "text": [
      "\n",
      "\n",
      "\u001b[1m> Entering new  chain...\u001b[0m\n",
      "\u001b[32;1m\u001b[1;3m根据提供的工具，我们可以使用`time`函数来获取今天的日期。\n",
      "\n",
      "Thought: 使用`time`函数来获取今天的日期。\n",
      "\n",
      "Action:\n",
      "```\n",
      "{\n",
      "  \"action\": \"time\",\n",
      "  \"action_input\": \"\"\n",
      "}\n",
      "```\n",
      "\n",
      "\u001b[0m\n",
      "Observation: \u001b[36;1m\u001b[1;3m2023-07-04\u001b[0m\n",
      "Thought:\u001b[32;1m\u001b[1;3m我现在知道了最终答案。\n",
      "Final Answer: 今天的日期是2023-07-04。\u001b[0m\n",
      "\n",
      "\u001b[1m> Finished chain.\u001b[0m\n"
     ]
    },
    {
     "data": {
      "text/plain": [
       "{'input': '今天的日期是？', 'output': '今天的日期是2023-07-04。'}"
      ]
     },
     "execution_count": 37,
     "metadata": {},
     "output_type": "execute_result"
    }
   ],
   "source": [
    "agent(\"今天的日期是？\") "
   ]
  },
  {
   "cell_type": "markdown",
   "id": "923a199f-08e8-4e70-afb5-70cd3e123acf",
   "metadata": {},
   "source": [
    "✅ **सारांश**\n",
    "\n",
    "1. मॉडल इस पर विचार देता है कि आगे क्या करने की आवश्यकता है।\n",
    "   <p style=”font-family:verdana; फ़ॉन्ट-आकार:12px;रंग:हरा”> <strong>सोच रहा हूं</strong>: आज की तारीख जानने के लिए मुझे टाइम टूल का उपयोग करना होगा</p>\n",
    "\n",
    "2. मॉडल सोच के आधार पर कार्रवाई (एक्शन) करता है क्योंकि उपयोग किए गए उपकरण अलग हैं, कार्रवाई का आउटपुट भी पहले से अलग है।\n",
    "    <p style=”font-family:verdana; फ़ॉन्ट-आकार:12px;रंग:हरा”> <strong>कार्रवाई</strong>: समय उपकरण का उपयोग करें और एक खाली स्ट्रिंग दर्ज करें</p>\n",
    "    \n",
    "   \n",
    "3. मॉडल का अवलोकन किया गया है (अवलोकन)\n",
    "    <p style=”font-family:verdana; फ़ॉन्ट-आकार:12px;रंग:हरा”><strong>अवलोकन</strong>: 2023-07-04</p>\n",
    "    \n",
    "   \n",
    "    \n",
    "4. अवलोकनों के आधार पर, मॉडल इस पर विचार देता है कि आगे क्या करने की आवश्यकता है (हालांकिटी)\n",
    "    <p style=”font-family:verdana; फ़ॉन्ट-आकार:12px;रंग:हरा”> <strong>सोच रहा हूं</strong>: मैंने टाइम टूल का उपयोग करके आज की तारीख सफलतापूर्वक प्राप्त कर ली है</p>\n",
    "\n",
    "5. अंतिम उत्तर दें (अंतिम उत्तर)\n",
    "     <p style=”font-family:verdana; फ़ॉन्ट-आकार:12px;रंग:हरा”> <strong>अंतिम उत्तर</strong>: आज की तारीख 2023-07-04 है।</p>\n",
    "6. अंतिम उत्तर लौटाएँ."
   ]
  }
 ],
 "metadata": {
  "kernelspec": {
   "display_name": "Python 3 (ipykernel)",
   "language": "python",
   "name": "python3"
  },
  "language_info": {
   "codemirror_mode": {
    "name": "ipython",
    "version": 3
   },
   "file_extension": ".py",
   "mimetype": "text/x-python",
   "name": "python",
   "nbconvert_exporter": "python",
   "pygments_lexer": "ipython3",
   "version": "3.9.12"
  },
  "toc": {
   "base_numbering": 1,
   "nav_menu": {},
   "number_sections": false,
   "sideBar": true,
   "skip_h1_title": false,
   "title_cell": "Table of Contents",
   "title_sidebar": "Contents",
   "toc_cell": false,
   "toc_position": {},
   "toc_section_display": true,
   "toc_window_display": true
  }
 },
 "nbformat": 4,
 "nbformat_minor": 5
}
