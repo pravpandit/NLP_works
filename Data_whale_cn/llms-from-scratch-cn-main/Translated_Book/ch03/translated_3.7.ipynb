{
 "cells": [
  {
   "cell_type": "markdown",
   "metadata": {},
   "source": [
    "# 3.7 Summary\n",
    "\n",
    "- The attention mechanism transforms input elements into enhanced context vector representations that incorporate information from all inputs.\n",
    "\n",
    "- The self-attention mechanism computes the context vector representation by weighted summation of the inputs.\n",
    "\n",
    "- In the simplified attention mechanism, the attention weights are computed by dot products.\n",
    "\n",
    "- The dot product is a concise way to multiply corresponding elements of two vectors and then sum them.\n",
    "\n",
    "- Although not strictly necessary, matrix multiplication helps us implement the calculation more efficiently and compactly by replacing nested for loops.\n",
    "\n",
    "- The self-attention mechanism for large language models, also known as scaled dot product attention, contains a trainable weight matrix to compute the intermediate transformation vectors of the inputs: query, value, and key.\n",
    "\n",
    "- When dealing with large language models that read and generate text from left to right, we add causal attention masks to prevent the large language model from accessing subsequent tokens.\n",
    "\n",
    "- In addition to using causal attention masking to zero the attention weights, we can also add dropout masking to reduce overfitting in large language models.\n",
    "\n",
    "- The attention module in a large Transformer-based language model involves multiple causal attention instances, which is called multi-head attention.ention).\n",
    "\n",
    "- We can create a MultiHeadAttention module by stacking multiple CausalAttention modules.\n",
    "\n",
    "- A more efficient way to create a MultiHeadAttention module involves batch matrix multiplication."
   ]
  },
  {
   "cell_type": "code",
   "execution_count": null,
   "metadata": {},
   "outputs": [],
   "source": []
  }
 ],
 "metadata": {
  "kernelspec": {
   "display_name": "Python (Pyodide)",
   "language": "python",
   "name": "python"
  },
  "language_info": {
   "codemirror_mode": {
    "name": "python",
    "version": 3
   },
   "file_extension": ".py",
   "mimetype": "text/x-python",
   "name": "python",
   "nbconvert_exporter": "python",
   "pygments_lexer": "ipython3",
   "version": "3.8"
  }
 },
 "nbformat": 4,
 "nbformat_minor": 4
}
