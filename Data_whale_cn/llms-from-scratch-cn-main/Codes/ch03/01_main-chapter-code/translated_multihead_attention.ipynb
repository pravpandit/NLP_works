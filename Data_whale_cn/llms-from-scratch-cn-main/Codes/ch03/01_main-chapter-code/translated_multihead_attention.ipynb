{
 "cells": [
  {
   "cell_type": "markdown",
   "id": "6c73d8caae2916ec",
   "metadata": {
    "collapsed": false
   },
   "source": [
    "# Multi-head attention mechanism combined with data loading"
   ]
  },
  {
   "cell_type": "markdown",
   "id": "660c1de13c8952cf",
   "metadata": {
    "collapsed": false
   },
   "source": [
    "The complete chapter code is in [ch03.ipynb](./ch03.ipynb).\n",
    "\n",
    "This notebook contains the main learning point, namely the implementation of multi-head attention (and the data loading process in Chapter 2)."
   ]
  },
  {
   "cell_type": "markdown",
   "id": "62c346f743383e17",
   "metadata": {
    "collapsed": false
   },
   "source": [
    "## Data loader in Chapter 2"
   ]
  },
  {
   "cell_type": "code",
   "execution_count": 1,
   "id": "d6020b82c7b6dd6b",
   "metadata": {
    "ExecuteTime": {
     "end_time": "2024-02-28T10:24:30.859707800Z",
     "start_time": "2024-02-28T10:24:28.599202800Z"
    },
    "collapsed": false
   },
   "outputs": [],
   "source": [
    "# Import necessary libraries\n",
    "import tiktoken  # 假设这是一个自定义的分词库\n",
    "import torch\n",
    "import torch.nn as nn\n",
    "from torch.utils.data import Dataset, DataLoader\n",
    "\n",
    "# Define the GPT dataset class\n",
    "class GPTDatasetV1(Dataset):\n",
    "    def __init__(self, txt, tokenizer, max_length, stride):\n",
    "# Initialize the tokenizer\n",
    "        self.tokenizer = tokenizer\n",
    "# Initialize input and target ID lists\n",
    "        self.input_ids = []\n",
    "        self.target_ids = []\n",
    "\n",
    "# Tokenize the entire text\n",
    "        token_ids = tokenizer.encode(txt, allowed_special={'<|endoftext|>'})\n",
    "\n",
    "# Use a sliding window to split the text into overlapping sequences of length max_length\n",
    "        for i in range(0, len(token_ids) - max_length, stride):\n",
    "            input_chunk = token_ids[i:i + max_length]\n",
    "            target_chunk = token_ids[i + 1: i + max_length + 1]\n",
    "# Convert the token ID to a PyTorch tensor and add it to the list\n",
    "            self.input_ids.append(torch.tensor(input_chunk))\n",
    "            self.target_ids.append(torch.tensor(target_chunk))\n",
    "\n",
    "    def __len__(self):\n",
    "# Return the number of samples in the dataset\n",
    "        return len(self.input_ids)\n",
    "\n",
    "    def __getitem__(self, idx):\n",
    "# Return the corresponding input and target tensors according to the index\n",
    "        return self.input_ids[idx], self.target_ids[idx]\n",
    "\n",
    "# Create a data loader function\n",
    "def create_dataloader(txt, batch_size=4, max_length=256, stride=128, shuffle=True):\n",
    "# Initialize the tokenizer\n",
    "    tokenizer = tiktoken.get_encoding(\"gpt2\")\n",
    "\n",
    "# Create dataset\n",
    "    dataset = GPTDatasetV1(txt, tokenizer, max_length, stride)\n",
    "\n",
    "# Create a data loader\n",
    "    dataloader = DataLoader(dataset, batch_size=batch_size, shuffle=shuffle)\n",
    "\n",
    "    return dataloader\n",
    "\n",
    "# Read text file\n",
    "with open(\"small-text-sample.txt\", \"r\", encoding=\"utf-8\") as f:\n",
    "    raw_text = f.read()\n",
    "\n",
    "# Initialize the tokenizer\n",
    "tokenizer = tiktoken.get_encoding(\"gpt2\")\n",
    "# Encode the original text\n",
    "encoded_text = tokenizer.encode(raw_text)\n",
    "\n",
    "# Define vocabulary size, output dimension, maximum length and block size\n",
    "vocab_size = 50257\n",
    "output_dim = 256\n",
    "max_len = 1024\n",
    "block_size = max_len\n",
    "\n",
    "# Create word embedding layer and position embedding layer\n",
    "token_embedding_layer = nn.Embedding(vocab_size, output_dim)\n",
    "pos_embedding_layer = torch.nn.Embedding(block_size, output_dim)\n",
    "\n",
    "# Setting the maximum length to 4 is probably a mistake, since usually the maximum length will be greater than 4\n",
    "max_length = 4\n",
    "# Create a data loader\n",
    "dataloader = create_dataloader(raw_text, batch_size=8, max_length=max_length, stride=5)"
   ]
  },
  {
   "cell_type": "code",
   "execution_count": 2,
   "id": "664397bc-6daa-4b88-90aa-e8fc1fbd5846",
   "metadata": {
    "ExecuteTime": {
     "end_time": "2024-02-28T10:24:30.875711300Z",
     "start_time": "2024-02-28T10:24:30.861708300Z"
    }
   },
   "outputs": [],
   "source": [
    "# Iterate over each batch in the data loader\n",
    "for batch in dataloader:\n",
    "# Unpack input and target data from the current batch\n",
    "    x, y = batch\n",
    "\n",
    "# Use the word embedding layer to calculate the word embedding of the input sequence\n",
    "    token_embeddings = token_embedding_layer(x)\n",
    "# Use the position embedding layer to calculate the position embedding, here we use torch.arange to create a sequence of the same length as max_length\n",
    "    pos_embeddings = pos_embedding_layer(torch.arange(max_length))\n",
    "\n",
    "# Add word embedding and position embedding to get the final input embedding\n",
    "    input_embeddings = token_embeddings + pos_embeddings\n",
    "\n",
    "# Break out of the loop. This may be for demonstration purposes. In actual training, the loop will usually continue until all data are traversed.\n",
    "    break"
   ]
  },
  {
   "cell_type": "code",
   "execution_count": 3,
   "id": "d3664332-e6bb-447e-8b96-203aafde8b24",
   "metadata": {
    "ExecuteTime": {
     "end_time": "2024-02-28T10:24:30.921720700Z",
     "start_time": "2024-02-28T10:24:30.876711400Z"
    }
   },
   "outputs": [
    {
     "name": "stdout",
     "output_type": "stream",
     "text": [
      "torch.Size([8, 4, 256])\n"
     ]
    }
   ],
   "source": [
    "print(input_embeddings.shape)"
   ]
  },
  {
   "cell_type": "markdown",
   "id": "a6589588dfab8a73",
   "metadata": {
    "collapsed": false
   },
   "source": [
    "# Multi-head attention in Chapter 3"
   ]
  },
  {
   "cell_type": "markdown",
   "id": "3960118f9f988847",
   "metadata": {
    "collapsed": false
   },
   "source": [
    "## Method A: Simple implementation"
   ]
  },
  {
   "cell_type": "code",
   "execution_count": 4,
   "id": "a44e682d-1c3c-445d-85fa-b142f89f8503",
   "metadata": {
    "ExecuteTime": {
     "end_time": "2024-02-28T10:24:30.925722100Z",
     "start_time": "2024-02-28T10:24:30.891714900Z"
    }
   },
   "outputs": [],
   "source": [
    "# Define causal self-attention module\n",
    "class CausalSelfAttention(nn.Module):\n",
    "    def __init__(self, d_in, d_out, block_size, dropout, qkv_bias=False):\n",
    "# Call the parent class constructor\n",
    "        super().__init__()\n",
    "# Output dimensions\n",
    "        self.d_out = d_out\n",
    "# Linear transformation layer for query, key and value\n",
    "        self.W_query = nn.Linear(d_in, d_out, bias=qkv_bias)\n",
    "        self.W_key = nn.Linear(d_in, d_out, bias=qkv_bias)\n",
    "        self.W_value = nn.Linear(d_in, d_out, bias=qkv_bias)\n",
    "# Dropout layer, used for regularization\n",
    "        self.dropout = nn.Dropout(dropout)\n",
    "# Register a buffer to store the upper triangle mask for causal self-attention\n",
    "        self.register_buffer('mask', torch.triu(torch.ones(block_size, block_size), diagonal=1))\n",
    "\n",
    "    def forward(self, x):\n",
    "# Get the batch size, sequence length, and input dimension of the input tensor\n",
    "        b, n_tokens, d_in = x.shape\n",
    "# Calculate query, key and value separately\n",
    "        keys = self.W_key(x)\n",
    "        queries = self.W_query(x)\n",
    "        values = self.W_value(x)\n",
    "\n",
    "# Calculate the attention score, using the transpose operation\n",
    "        attn_scores = queries @ keys.transpose(1, 2)\n",
    "# Use mask to set the attention score of future positions to negative infinity to achieve causal self-attention\n",
    "        attn_scores.masked_fill_(self.mask.bool()[:n_tokens, :n_tokens], -torch.inf)\n",
    "# Normalize attention scores\n",
    "        attn_weights = torch.softmax(attn_scores / keys.shape[-1]**0.5, dim=1)\n",
    "# Apply dropout\n",
    "        attn_weights = self.dropout(attn_weights)\n",
    "\n",
    "# Calculate the context vector\n",
    "        context_vec = attn_weights @ values\n",
    "        return context_vec\n",
    "\n",
    "# Define the multi-head attention wrapper module\n",
    "class MultiHeadAttentionWrapper(nn.Module):\n",
    "    def __init__(self, d_in, d_out, block_size, dropout, num_heads, qkv_bias=False):\n",
    "# Call the parent class constructor\n",
    "        super().__init__()\n",
    "# Create multiple causal self-attention modules\n",
    "        self.heads = nn.ModuleList([\n",
    "            CausalSelfAttention(d_in, d_out, block_size, dropout, qkv_bias) \n",
    "            for _ in range(num_heads)\n",
    "        ])\n",
    "# Output projection layer, used to merge the outputs of multiple heads\n",
    "        self.out_proj = nn.Linear(d_out*num_heads, d_out*num_heads)\n",
    "\n",
    "    def forward(self, x):\n",
    "# Concatenate the outputs of all heads along the last dimension\n",
    "        context_vec = torch.cat([head(x) for head in self.heads], dim=-1)\n",
    "# Through the output projection layer\n",
    "        return self.out_proj(context_vec)"
   ]
  },
  {
   "cell_type": "code",
   "execution_count": 5,
   "id": "7898551e-f582-48ac-9f66-3632abe2a93f",
   "metadata": {
    "ExecuteTime": {
     "end_time": "2024-02-28T10:24:30.927722100Z",
     "start_time": "2024-02-28T10:24:30.910719200Z"
    }
   },
   "outputs": [
    {
     "name": "stdout",
     "output_type": "stream",
     "text": [
      "context_vecs.shape: torch.Size([8, 4, 256])\n"
     ]
    }
   ],
   "source": [
    "# Set the random seed to ensure reproducibility of results\n",
    "torch.manual_seed(123)\n",
    "\n",
    "# Define the block size, which is the same as the maximum length\n",
    "block_size = max_length\n",
    "# Input dimensions\n",
    "d_in = output_dim\n",
    "\n",
    "# Define the output dimension of each head in multi-head attention\n",
    "num_heads = 2\n",
    "# Output dimension is input dimension divided by number of heads\n",
    "d_out = d_in // num_heads\n",
    "\n",
    "# Initialize the multi-head attention wrapper\n",
    "mha = MultiHeadAttentionWrapper(d_in, d_out, block_size, 0.0, num_heads)\n",
    "\n",
    "# Assume input_embeddings is the input data prepared before\n",
    "batch = input_embeddings\n",
    "# Use the multi-head attention module to process input data\n",
    "context_vecs = mha(batch)\n",
    "\n",
    "# Print the dimensions of the context vector\n",
    "print(\"context_vecs.shape:\", context_vecs.shape)"
   ]
  },
  {
   "cell_type": "markdown",
   "id": "6d5ad940a95ee6a7",
   "metadata": {
    "collapsed": false
   },
   "source": [
    "## Method B: Alternative Implementation"
   ]
  },
  {
   "cell_type": "code",
   "execution_count": 6,
   "id": "2773c09d-c136-4372-a2be-04b58d292842",
   "metadata": {
    "ExecuteTime": {
     "end_time": "2024-02-28T10:24:30.939725500Z",
     "start_time": "2024-02-28T10:24:30.923721600Z"
    }
   },
   "outputs": [],
   "source": [
    "# Define multi-head self-attention module\n",
    "class MultiHeadAttention(nn.Module):\n",
    "    def __init__(self, d_in, d_out, block_size, dropout, num_heads, qkv_bias=False):\n",
    "# Call the parent class constructor\n",
    "        super().__init__()\n",
    "# Make sure the output dimension is divisible by the number of heads\n",
    "        assert d_out % num_heads == 0, \"d_out must be divisible by n_heads\"\n",
    "\n",
    "# Initialize module properties\n",
    "        self.d_out = d_out\n",
    "        self.num_heads = num_heads\n",
    "        self.head_dim = d_out // num_heads  # 计算每个头的维度\n",
    "        self.W_query = nn.Linear(d_in, d_out, bias=qkv_bias)  # 查询线性层\n",
    "        self.W_key = nn.Linear(d_in, d_out, bias=qkv_bias)    # 键线性层\n",
    "        self.W_value = nn.Linear(d_in, d_out, bias=qkv_bias)  # 值线性层\n",
    "        self.out_proj = nn.Linear(d_out, d_out)  # 输出投影层\n",
    "        self.dropout = nn.Dropout(dropout)  # Dropout层\n",
    "# Register a buffer to store the upper triangle mask for causal self-attention\n",
    "        self.register_buffer('mask', torch.triu(torch.ones(block_size, block_size), diagonal=1))\n",
    "\n",
    "    def forward(self, x):\n",
    "# Get the batch size, sequence length, and input dimension of the input tensor\n",
    "        b, num_tokens, d_in = x.shape\n",
    "\n",
    "# Calculate query, key and value separately\n",
    "        keys = self.W_key(x)\n",
    "        queries = self.W_query(x)\n",
    "        values = self.W_value(x)\n",
    "\n",
    "# Split the matrix by the number of heads and add a dimension\n",
    "        keys = keys.view(b, num_tokens, self.num_heads, self.head_dim)\n",
    "        values = values.view(b, num_tokens, self.num_heads, self.head_dim)\n",
    "        queries = queries.view(b, num_tokens, self.num_heads, self.head_dim)\n",
    "\n",
    "# Transpose to match the dimensions of multi-head attention\n",
    "        keys = keys.transpose(1, 2)\n",
    "        queries = queries.transpose(1, 2)\n",
    "        values = values.transpose(1, 2)\n",
    "\n",
    "# Compute scaled dot product attention scores and apply causal mask\n",
    "        attn_scores = queries @ keys.transpose(2, 3)  # 对每个头进行点积\n",
    "# Truncate the mask to match the sequence length and convert to a boolean\n",
    "        mask_bool = self.mask.bool()[:num_tokens, :num_tokens]\n",
    "# Expand the mask to match the dimensions\n",
    "        mask_unsqueezed = mask_bool.unsqueeze(0).unsqueeze(0)\n",
    "# Fill the attention scores with the expanded mask\n",
    "        attn_scores.masked_fill_(mask_unsqueezed, -torch.inf)\n",
    "        \n",
    "# Normalize attention scores\n",
    "        attn_weights = torch.softmax(attn_scores / keys.shape[-1]**0.5, dim=-1)\n",
    "        attn_weights = self.dropout(attn_weights)\n",
    "\n",
    "# Calculate the context vector\n",
    "        context_vec = (attn_weights @ values).transpose(1, 2)\n",
    "        \n",
    "# Merge header output\n",
    "        context_vec = context_vec.contiguous().view(b, num_tokens, self.d_out)\n",
    "# Optional output projection\n",
    "        context_vec = self.out_proj(context_vec)\n",
    "\n",
    "        return context_vec"
   ]
  },
  {
   "cell_type": "code",
   "execution_count": 7,
   "id": "779fdd04-0152-4308-af08-840800a7f395",
   "metadata": {
    "ExecuteTime": {
     "end_time": "2024-02-28T10:24:30.984735500Z",
     "start_time": "2024-02-28T10:24:30.941725600Z"
    }
   },
   "outputs": [
    {
     "name": "stdout",
     "output_type": "stream",
     "text": [
      "context_vecs.shape: torch.Size([8, 4, 256])\n"
     ]
    }
   ],
   "source": [
    "# Set the random seed to ensure reproducibility of results\n",
    "torch.manual_seed(123)\n",
    "\n",
    "# Define the block size, which is the same as the maximum length\n",
    "block_size = max_length\n",
    "# Input and output dimensions\n",
    "d_in = output_dim\n",
    "# Set the output dimension to be the same as the input dimension\n",
    "d_out = d_in\n",
    "\n",
    "# Initialize the multi-head self-attention module\n",
    "mha = MultiHeadAttention(d_in, d_out, block_size, dropout=0.0, num_heads=2)\n",
    "\n",
    "# Assume input_embeddings is the input data prepared before\n",
    "batch = input_embeddings\n",
    "# Use the multi-head self-attention module to process input data\n",
    "context_vecs = mha(batch)\n",
    "\n",
    "# Print the dimensions of the context vector\n",
    "print(\"context_vecs.shape:\", context_vecs.shape)"
   ]
  }
 ],
 "metadata": {
  "kernelspec": {
   "display_name": "Python 3 (ipykernel)",
   "language": "python",
   "name": "python3"
  },
  "language_info": {
   "codemirror_mode": {
    "name": "ipython",
    "version": 3
   },
   "file_extension": ".py",
   "mimetype": "text/x-python",
   "name": "python",
   "nbconvert_exporter": "python",
   "pygments_lexer": "ipython3",
   "version": "3.10.12"
  }
 },
 "nbformat": 4,
 "nbformat_minor": 5
}
