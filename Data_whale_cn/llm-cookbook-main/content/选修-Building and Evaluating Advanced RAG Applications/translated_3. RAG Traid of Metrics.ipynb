{
 "cells": [
  {
   "cell_type": "markdown",
   "metadata": {
    "id": "X6-q-gTUaZU7",
    "tags": []
   },
   "source": [
    "# Chapter 3 RAG Application Evaluation Indicators"
   ]
  },
  {
   "cell_type": "markdown",
   "metadata": {},
   "source": [
    "## 1. Introduction\n",
    "This chapter mainly evaluates three commonly used indicators in RAG applications, namely:\n",
    "1. Answer relevance: evaluates whether the output of the RAG system is relevant to the question;\n",
    "2. Context relevance: evaluates whether the context recalled by the RAG system is relevant to the question;\n",
    "3. Groundness: evaluates whether the output of the RAG system is based on the context recalled;\n",
    "\n",
    "<img src=\"./images/ch03_traid.jpg\" width=\"500\">"
   ]
  },
  {
   "cell_type": "markdown",
   "metadata": {},
   "source": [
    "First you need to install the assessment framework required for this course. If you have already installed it, you can skip this step."
   ]
  },
  {
   "cell_type": "code",
   "execution_count": 1,
   "metadata": {},
   "outputs": [],
   "source": [
    "# requirements\n",
    "# pip install trulens_eval"
   ]
  },
  {
   "cell_type": "markdown",
   "metadata": {},
   "source": [
    "Here, for the sake of beauty and convenience of display, we set the output to ignore warning messages."
   ]
  },
  {
   "cell_type": "code",
   "execution_count": 2,
   "metadata": {
    "height": 47
   },
   "outputs": [],
   "source": [
    "# Ignore warnings to prevent them from affecting the output\n",
    "import warnings\n",
    "warnings.filterwarnings('ignore')"
   ]
  },
  {
   "cell_type": "markdown",
   "metadata": {},
   "source": [
    "Next, import the toolkit utils required for this course, and then set the API key of openai.\n",
    "There are three ways to set the API key:\n",
    "1. Set `OPENAI_API_KEY` in the environment variable, and then use utils to get it directly;\n",
    "2. Explicitly set api_key and assign it directly to openai.api_key;\n",
    "3. If you don’t have the key of openai, you can also choose to use a third-party service and modify openai.api_base;"
   ]
  },
  {
   "cell_type": "code",
   "execution_count": 3,
   "metadata": {
    "height": 98
   },
   "outputs": [
    {
     "name": "stdout",
     "output_type": "stream",
     "text": [
      "✅ In Answer Relevance, input prompt will be set to __record__.main_input or `Select.RecordInput` .\n",
      "✅ In Answer Relevance, input response will be set to __record__.main_output or `Select.RecordOutput` .\n",
      "✅ In Context Relevance, input prompt will be set to __record__.main_input or `Select.RecordInput` .\n",
      "✅ In Context Relevance, input response will be set to __record__.app.query.rets.source_nodes[:].node.text .\n",
      "✅ In Groundedness, input source will be set to __record__.app.query.rets.source_nodes[:].node.text .\n",
      "✅ In Groundedness, input statement will be set to __record__.main_output or `Select.RecordOutput` .\n"
     ]
    }
   ],
   "source": [
    "import utils\n",
    "# Import custom toolkit\n",
    "\n",
    "import os\n",
    "import openai\n",
    "# openai.api_key = utils.get_openai_api_key()\n",
    "# Set OpenAI's API key, obtained from the environment variable\n",
    "\n",
    "# openai.api_key = \"\"\n",
    "# Or fill in your OpenAI API key here\n",
    "\n",
    "# openai.api_key = \"sk- \"\n",
    "# openai.api_base = \" \"\n",
    "# Or customize the API key and API base address, which can be used for third-party API services\n"
   ]
  },
  {
   "cell_type": "markdown",
   "metadata": {},
   "source": [
    "Next, let’s start the tutorial setup.\n",
    "First, you need to reset the database, which will be used to store questions, recall results, and answers for easy management and evaluation."
   ]
  },
  {
   "cell_type": "code",
   "execution_count": 4,
   "metadata": {
    "height": 81,
    "id": "IBfdyn3MaZU9"
   },
   "outputs": [
    {
     "name": "stdout",
     "output_type": "stream",
     "text": [
      "🦑 Tru initialized with db url sqlite:///default.sqlite .\n",
      "🛑 Secret keys may be written to the database. See the `database_redact_keys` option of `Tru` to prevent this.\n"
     ]
    }
   ],
   "source": [
    "# Import the Tru class\n",
    "from trulens_eval import Tru\n",
    "\n",
    "\n",
    "# Instantiate the Tru class\n",
    "tru = Tru()\n",
    "\n",
    "# Reset the database\n",
    "# The database will be used to store questions, intermediate recall results, answers, and evaluation results\n",
    "tru.reset_database()\n"
   ]
  },
  {
   "cell_type": "markdown",
   "metadata": {},
   "source": [
    "Next, import the SimpleDirectoryReader required to read PDF files and read the PDF files in the specified folder.\n",
    "It should be noted that the default parameters are suitable for reading English documents. If the document is in Chinese, full-width characters need to be converted to half-width characters later."
   ]
  },
  {
   "cell_type": "code",
   "execution_count": 5,
   "metadata": {
    "height": 98,
    "id": "wMvq1q8yaZU-"
   },
   "outputs": [],
   "source": [
    "# Setting up the Llama Index reader\n",
    "from llama_index import SimpleDirectoryReader\n",
    "\n",
    "# Read a PDF document from a folder and load it into a document object\n",
    "# The document used is the Wikipedia page for the term \"artificial intelligence\"\n",
    "documents = SimpleDirectoryReader(\n",
    "    input_files=[\"./data/人工智能.pdf\"]\n",
    ").load_data()\n",
    "\n",
    "documents_en = SimpleDirectoryReader(\n",
    "    input_files=[\"./data/eBook-How-to-Build-a-Career-in-AI.pdf\"]\n",
    ").load_data()\n"
   ]
  },
  {
   "cell_type": "markdown",
   "metadata": {},
   "source": [
    "For the sake of convenience, load the read PDF documents into the same document object, separated by `\"\\n\\n\"`;"
   ]
  },
  {
   "cell_type": "code",
   "execution_count": 6,
   "metadata": {
    "height": 81,
    "id": "sY8Oui4taZU-"
   },
   "outputs": [],
   "source": [
    "from llama_index import Document\n",
    "\n",
    "# Merge the contents of documents into one large document, rather than having each page be a document\n",
    "document = Document(text=\"\\n\\n\".\\\n",
    "                    join([doc.text for doc in documents]))\n",
    "\n",
    "document_en = Document(text=\"\\n\\n\".\\\n",
    "                    join([doc.text for doc in documents_en]))\n"
   ]
  },
  {
   "cell_type": "code",
   "execution_count": 7,
   "metadata": {},
   "outputs": [],
   "source": [
    "# Replace Chinese punctuation marks with English punctuation marks for easy subsequent processing\n",
    "# If it is an English document, you can skip this step\n",
    "# If not processed, it will lead to the inability to correctly segment Chinese sentences, which will affect the size of the subsequent sentence_window and cause the input length to exceed the maximum limit of gpt-3.5-turbo\n",
    "document.text=document.text.replace('。','. ')\n",
    "document.text=document.text.replace('！','! ')\n",
    "document.text=document.text.replace('？','? ')\n",
    "\n"
   ]
  },
  {
   "cell_type": "markdown",
   "metadata": {},
   "source": [
    "Set up index storage. First, set the large model used for evaluation to gpt-3.5-turbo. Note that the context window of the version used here is 4096, so you need to pay attention to the input length.\n",
    "Then set the embedding model. We chose BAAI/bge-small-zh-v1.5. Here you can choose the size and language of the model according to the needs of the scene and the trade-off of computing resources."
   ]
  },
  {
   "cell_type": "code",
   "execution_count": 8,
   "metadata": {
    "height": 217
   },
   "outputs": [],
   "source": [
    "# Set sentence_index\n",
    "from utils import build_sentence_window_index\n",
    "\n",
    "from llama_index.llms import OpenAI\n",
    "\n",
    "# Set the large model to use\n",
    "# \"gpt-3.5-turbo\" is the name of the model\n",
    "# Temperature is the temperature used to control the diversity of the text generation process\n",
    "llm = OpenAI(model=\"gpt-3.5-turbo\", temperature=0.1)\n",
    "\n",
    "# Set the embedding model\n",
    "# Here is BAAI/bge-small-zh-v1.5 used locally\n",
    "# All the contents of the document will be indexed into the sentence index object\n",
    "# For domestic use, you can switch to huggingface mirror site\n",
    "sentence_index = build_sentence_window_index(\n",
    "    document,\n",
    "    llm,\n",
    "    embed_model=\"local:BAAI/bge-small-zh-v1.5\",\n",
    "    save_dir=\"sentence_index\"\n",
    ")\n",
    "\n",
    "sentence_index_en = build_sentence_window_index(\n",
    "    document_en,\n",
    "    llm,\n",
    "    embed_model=\"local:BAAI/bge-small-en-v1.5\",\n",
    "    save_dir=\"sentence_index_en\"\n",
    ")\n"
   ]
  },
  {
   "cell_type": "markdown",
   "metadata": {},
   "source": [
    "Use the encapsulated functions in the toolkit to return the engine used for subsequent retrieval based on the index established in the previous step."
   ]
  },
  {
   "cell_type": "code",
   "execution_count": 9,
   "metadata": {
    "height": 81
   },
   "outputs": [],
   "source": [
    "from utils import get_sentence_window_query_engine\n",
    "\n",
    "# Create a search engine based on the sentence_index object\n",
    "# Will be used later for recall in the RAG application\n",
    "sentence_window_engine = \\\n",
    "get_sentence_window_query_engine(sentence_index)"
   ]
  },
  {
   "cell_type": "code",
   "execution_count": 10,
   "metadata": {},
   "outputs": [],
   "source": [
    "sentence_window_engine_en = \\\n",
    "get_sentence_window_query_engine(sentence_index_en)"
   ]
  },
  {
   "cell_type": "markdown",
   "metadata": {},
   "source": [
    "Here we first test a single problem to debug and see what the output is."
   ]
  },
  {
   "cell_type": "code",
   "execution_count": 11,
   "metadata": {
    "height": 64
   },
   "outputs": [
    {
     "name": "stderr",
     "output_type": "stream",
     "text": [
      "huggingface/tokenizers: The current process just got forked, after parallelism has already been used. Disabling parallelism to avoid deadlocks...\n",
      "To disable this warning, you can either:\n",
      "\t- Avoid using `tokenizers` before the fork if possible\n",
      "\t- Explicitly set the environment variable TOKENIZERS_PARALLELISM=(true | false)\n"
     ]
    }
   ],
   "source": [
    "output = sentence_window_engine.query(\n",
    "    \"AI的核心问题和长远目标是什么？\")"
   ]
  },
  {
   "cell_type": "code",
   "execution_count": 12,
   "metadata": {},
   "outputs": [],
   "source": [
    "output_en = sentence_window_engine_en.query(\n",
    "    \"How do you create your AI portfolio?\")\n",
    "# Example: Recall using a search engine"
   ]
  },
  {
   "cell_type": "code",
   "execution_count": 13,
   "metadata": {},
   "outputs": [
    {
     "data": {
      "text/plain": [
       "{'7e8484a0-f7d2-4b64-b683-fa76b1dec6fe': {'window': '⼈⼯智能的研究是⾼度技术性和专业的，各分⽀领域都是深⼊且各不相通的，因⽽涉及范围极⼴[9].  ⼈⼯智能的\\n研究可以分为⼏个技术问题.  其分⽀领域主要集中在解决具体问题，其中之⼀是，如何使⽤各种不同的⼯具完成\\n特定的应⽤程序. \\n AI的核⼼问题包括建构能够跟⼈类似甚⾄超卓的推理、知识、计划、学习、交流、感知、移动 、移物、使⽤⼯\\n具和操控机械的能⼒等[10].  通⽤⼈⼯智能（GAI）⽬前仍然是该领域的长远⽬标[11].  ⽬前弱⼈⼯智能已经有初\\n步成果，甚⾄在⼀些影像识别、语⾔分析、棋类游戏等等单⽅⾯的能⼒达到了超越⼈类的⽔平，⽽且⼈⼯智能的\\n通⽤性代表着，能解决上述的问题的是⼀样的AI程序，⽆须重新开发算法就可以直接使⽤现有的AI完成任务，与\\n⼈类的处理能⼒相同，但达到具备思考能⼒的统合强⼈⼯智能还需要时间研究，⽐较流⾏的⽅法包括统计⽅法，\\n计算智能和传统意义的AI. ',\n",
       "  'original_text': 'AI的核⼼问题包括建构能够跟⼈类似甚⾄超卓的推理、知识、计划、学习、交流、感知、移动 、移物、使⽤⼯\\n具和操控机械的能⼒等[10]. '},\n",
       " '4e0b1c3d-5ba5-4c6b-b5c6-29df66a75281': {'window': '⼈⼯智能的\\n研究可以分为⼏个技术问题.  其分⽀领域主要集中在解决具体问题，其中之⼀是，如何使⽤各种不同的⼯具完成\\n特定的应⽤程序. \\n AI的核⼼问题包括建构能够跟⼈类似甚⾄超卓的推理、知识、计划、学习、交流、感知、移动 、移物、使⽤⼯\\n具和操控机械的能⼒等[10].  通⽤⼈⼯智能（GAI）⽬前仍然是该领域的长远⽬标[11].  ⽬前弱⼈⼯智能已经有初\\n步成果，甚⾄在⼀些影像识别、语⾔分析、棋类游戏等等单⽅⾯的能⼒达到了超越⼈类的⽔平，⽽且⼈⼯智能的\\n通⽤性代表着，能解决上述的问题的是⼀样的AI程序，⽆须重新开发算法就可以直接使⽤现有的AI完成任务，与\\n⼈类的处理能⼒相同，但达到具备思考能⼒的统合强⼈⼯智能还需要时间研究，⽐较流⾏的⽅法包括统计⽅法，\\n计算智能和传统意义的AI.  ⽬前有⼤量的⼯具应⽤了⼈⼯智能，其中包括搜索和数学优化、逻辑推演. ',\n",
       "  'original_text': '通⽤⼈⼯智能（GAI）⽬前仍然是该领域的长远⽬标[11]. '}}"
      ]
     },
     "execution_count": 13,
     "metadata": {},
     "output_type": "execute_result"
    }
   ],
   "source": [
    "# In actual development, you can debug by viewing metadata\n",
    "output.metadata"
   ]
  },
  {
   "cell_type": "code",
   "execution_count": 14,
   "metadata": {},
   "outputs": [
    {
     "data": {
      "text/plain": [
       "{'e0d0633c-9a38-4330-8980-2e4ceea28d30': {'window': 'Chapter 4: Scoping Successful AI Projects.\\n Chapter 5: Finding Projects that Complement \\nYour Career Goals.\\n Chapter 6: Building a Portfolio of Projects that \\nShows Skill Progression.\\n Chapter 7: A Simple Framework for Starting Your AI \\nJob Search.\\n Chapter 8: Using Informational Interviews to Find \\nthe Right Job.\\n Chapter 9: Finding the Right AI Job for You.\\n',\n",
       "  'original_text': 'Chapter 7: A Simple Framework for Starting Your AI \\nJob Search.\\n'},\n",
       " '600b5970-e3cd-47cd-a2e0-ea2ffb2c5e79': {'window': 'Chapter 6: Building a Portfolio of Projects that \\nShows Skill Progression.\\n Chapter 7: A Simple Framework for Starting Your AI \\nJob Search.\\n Chapter 8: Using Informational Interviews to Find \\nthe Right Job.\\n Chapter 9: Finding the Right AI Job for You.\\n Chapter 10: Keys to Building a Career in AI.\\n Chapter 11: Overcoming Imposter Syndrome.\\n',\n",
       "  'original_text': 'Chapter 9: Finding the Right AI Job for You.\\n'}}"
      ]
     },
     "execution_count": 14,
     "metadata": {},
     "output_type": "execute_result"
    }
   ],
   "source": [
    "output_en.metadata"
   ]
  },
  {
   "cell_type": "markdown",
   "metadata": {},
   "source": []
  },
  {
   "cell_type": "markdown",
   "metadata": {},
   "source": [
    "## 2. Feedback functions\n",
    "The feedback function is a function that measures the relationship between the question, context, and answer of the RAG system. In the RAG system, the feedback function is usually an indicator of the evaluation model, which is used to evaluate the performance of various aspects of the RAG system. Specifically, in this tutorial, the three indicators are mainly answer relevance, context relevance, and groundness.\n",
    "\n",
    "<img src=\"./images/ch03_feedback.jpg\" width=\"500\">"
   ]
  },
  {
   "cell_type": "code",
   "execution_count": 15,
   "metadata": {
    "height": 64,
    "id": "5KqV-IbQaZVB"
   },
   "outputs": [],
   "source": [
    "import nest_asyncio\n",
    "\n",
    "# Ensure that streamlit can be used for evaluation result management and visualization later\n",
    "nest_asyncio.apply()\n"
   ]
  },
  {
   "cell_type": "code",
   "execution_count": 16,
   "metadata": {
    "height": 64
   },
   "outputs": [],
   "source": [
    "from trulens_eval import OpenAI as fOpenAI\n",
    "\n",
    "# Initialize the OpenAI gpt-3.5-turbo model as a provider\n",
    "# The provider will be used to assist in evaluating various indicators of RAG applications: answer relevance, context relevance, groundedness.\n",
    "provider = fOpenAI()"
   ]
  },
  {
   "cell_type": "markdown",
   "metadata": {},
   "source": [
    "### 2.1、 Answer Relevance\n",
    "Answer relevance is used to evaluate whether the output of the RAG system is relevant to the question.\n",
    "\n",
    "<img src=\"./images/ch03_answer_rele.jpg\" width=\"500\">\n",
    "\n",
    "The structure of the feedback function of answer relevance is:\n",
    "\n",
    "<img src=\"./images/ch03_structure_answer.jpg\" width=\"500\">"
   ]
  },
  {
   "cell_type": "markdown",
   "metadata": {},
   "source": [
    "Here we can use the encapsulated Feedback function. What we need to do is to specify the evaluation method, name, and object of evaluation."
   ]
  },
  {
   "cell_type": "code",
   "execution_count": 17,
   "metadata": {
    "height": 115
   },
   "outputs": [
    {
     "name": "stdout",
     "output_type": "stream",
     "text": [
      "✅ In Answer Relevance, input prompt will be set to __record__.main_input or `Select.RecordInput` .\n",
      "✅ In Answer Relevance, input response will be set to __record__.main_output or `Select.RecordOutput` .\n"
     ]
    }
   ],
   "source": [
    "from trulens_eval import Feedback\n",
    "\n",
    "\n",
    "# Set feedback for answer relevance here\n",
    "# Use provider.relevance_with_cot_reasons as the evaluation function, that is, evaluate by calling LLM using chain of thought\n",
    "# on_input_output() means evaluating on input and output\n",
    "f_qa_relevance = Feedback(\n",
    "    provider.relevance_with_cot_reasons,\n",
    "    name=\"Answer Relevance\"\n",
    ").on_input_output()"
   ]
  },
  {
   "cell_type": "markdown",
   "metadata": {},
   "source": [
    "### 2.2, Context Relevance\n",
    "Context relevance is used to evaluate whether the context recalled by the RAG system is relevant to the problem.\n",
    "\n",
    "<img src=\"./images/ch03_context_rele.jpg\" width=500>\n",
    "\n",
    "The structure of its feedback function is:\n",
    "\n",
    "<img src=\"./images/ch03_structure_context.jpg\" width=500>"
   ]
  },
  {
   "cell_type": "code",
   "execution_count": 18,
   "metadata": {
    "height": 64
   },
   "outputs": [],
   "source": [
    "from trulens_eval import TruLlama\n",
    "\n",
    "# Select the context for recall\n",
    "context_selection = TruLlama.select_source_nodes().node.text"
   ]
  },
  {
   "cell_type": "markdown",
   "metadata": {},
   "source": [
    "The settings here are similar to the previous step. You only need to modify the evaluation object.\n",
    "You can also choose to modify the evaluation method for comparison."
   ]
  },
  {
   "cell_type": "code",
   "execution_count": 19,
   "metadata": {
    "height": 166
   },
   "outputs": [
    {
     "name": "stdout",
     "output_type": "stream",
     "text": [
      "✅ In Context Relevance, input question will be set to __record__.main_input or `Select.RecordInput` .\n",
      "✅ In Context Relevance, input statement will be set to __record__.app.query.rets.source_nodes[:].node.text .\n"
     ]
    }
   ],
   "source": [
    "import numpy as np\n",
    "\n",
    "\n",
    "# Use provider.qs_relevance as the evaluation function\n",
    "# on_input() means evaluating on input\n",
    "# on(context_selection) means to evaluate on context_selection\n",
    "# aggregate(np.mean) means using np.mean as the aggregation function\n",
    "# What this actually means is: for each sentence in context_selection, an evaluation will be performed, and then the average value will be taken as the final evaluation result\n",
    "f_qs_relevance = (\n",
    "    Feedback(provider.qs_relevance,\n",
    "             name=\"Context Relevance\")\n",
    "    .on_input()\n",
    "    .on(context_selection)\n",
    "    .aggregate(np.mean)\n",
    ")"
   ]
  },
  {
   "cell_type": "code",
   "execution_count": 20,
   "metadata": {
    "height": 166
   },
   "outputs": [
    {
     "name": "stdout",
     "output_type": "stream",
     "text": [
      "✅ In Context Relevance, input question will be set to __record__.main_input or `Select.RecordInput` .\n",
      "✅ In Context Relevance, input statement will be set to __record__.app.query.rets.source_nodes[:].node.text .\n"
     ]
    }
   ],
   "source": [
    "import numpy as np\n",
    "\n",
    "# Same as above, evaluate each sentence in context_selection and take the average as the evaluation result\n",
    "f_qs_relevance = (\n",
    "    Feedback(provider.qs_relevance_with_cot_reasons,\n",
    "             name=\"Context Relevance\")\n",
    "    .on_input()\n",
    "    .on(context_selection)\n",
    "    .aggregate(np.mean)\n",
    ")\n"
   ]
  },
  {
   "cell_type": "markdown",
   "metadata": {},
   "source": [
    "### 2.3 Groundedness"
   ]
  },
  {
   "cell_type": "code",
   "execution_count": 21,
   "metadata": {
    "height": 64
   },
   "outputs": [],
   "source": [
    "from trulens_eval.feedback import Groundedness\n",
    "\n",
    "grounded = Groundedness(groundedness_provider=provider)"
   ]
  },
  {
   "cell_type": "markdown",
   "metadata": {},
   "source": [
    "Finally, groundedness is used to evaluate whether the output of the RAG system is based on the recalled context.\n",
    "The setting is similar to the previous one."
   ]
  },
  {
   "cell_type": "code",
   "execution_count": 22,
   "metadata": {
    "height": 149,
    "id": "kXJBD4gfaZVC"
   },
   "outputs": [
    {
     "name": "stdout",
     "output_type": "stream",
     "text": [
      "✅ In Groundedness, input source will be set to __record__.app.query.rets.source_nodes[:].node.text .\n",
      "✅ In Groundedness, input statement will be set to __record__.main_output or `Select.RecordOutput` .\n"
     ]
    }
   ],
   "source": [
    "# Evaluation of groundedness, the explanation is the same as answer relevance and context relevance\n",
    "f_groundedness = (\n",
    "    Feedback(grounded.groundedness_measure_with_cot_reasons,\n",
    "             name=\"Groundedness\"\n",
    "            )\n",
    "    .on(context_selection)\n",
    "    .on_output()\n",
    "    .aggregate(grounded.grounded_statements_aggregator)\n",
    ")"
   ]
  },
  {
   "cell_type": "markdown",
   "metadata": {},
   "source": [
    "## III. Evaluation of the RAG application\n",
    "\n",
    "In the evaluation of the RAG system, the feedback function can be implemented in many ways.\n",
    "The most accurate evaluation results can be obtained by using manual scoring, but this method is costly, so in practical applications, automatic evaluation methods are usually used.\n",
    "In this tutorial, gpt-3.5-turbo is used to evaluate the RAG system.\n",
    "The advantage of this method is that the RAG system can be evaluated quickly and at low cost, but its evaluation results may not be as accurate as manual scoring.\n",
    "\n",
    "<img src=\"./images/ch03_bench.jpg\" width=\"500\">\n",
    "\n",
    "The following is the implementation of the evaluation process of the entire RAG system."
   ]
  },
  {
   "cell_type": "code",
   "execution_count": 23,
   "metadata": {
    "height": 217,
    "id": "KUDHInR-aZVC"
   },
   "outputs": [],
   "source": [
    "from trulens_eval import TruLlama\n",
    "from trulens_eval import FeedbackMode\n",
    "\n",
    "\n",
    "# Instantiate the TruLlama class to record the evaluation results\n",
    "# sentence_window_engine is the search engine created previously\n",
    "# app_id is the application ID, used to identify the application\n",
    "tru_recorder = TruLlama(\n",
    "    sentence_window_engine,\n",
    "    app_id=\"App_1\",\n",
    "    feedbacks=[\n",
    "        f_qa_relevance,\n",
    "        f_qs_relevance,\n",
    "        f_groundedness\n",
    "    ]\n",
    ")\n",
    "\n",
    "tru_recorder_en = TruLlama(\n",
    "    sentence_window_engine_en,\n",
    "    app_id=\"App_2\",\n",
    "    feedbacks=[\n",
    "        f_qa_relevance,\n",
    "        f_qs_relevance,\n",
    "        f_groundedness\n",
    "    ]\n",
    ")"
   ]
  },
  {
   "cell_type": "markdown",
   "metadata": {},
   "source": [
    "Read the questions used for evaluation. To save time and reduce the cost of calling the API, we only set 6 questions.\n",
    "In actual scenarios, more questions can be generated manually or through the prompt seed method to cover more scenarios."
   ]
  },
  {
   "cell_type": "code",
   "execution_count": 24,
   "metadata": {
    "height": 115,
    "id": "dsA3ziw1aZVD"
   },
   "outputs": [],
   "source": [
    "eval_questions = []\n",
    "# Read the evaluation questions, in ./data/eval_questions.txt, you can customize them\n",
    "with open('./data/eval_questions.txt', 'r') as file:\n",
    "    for line in file:\n",
    "        item = line.strip()\n",
    "        eval_questions.append(item)\n"
   ]
  },
  {
   "cell_type": "code",
   "execution_count": 25,
   "metadata": {},
   "outputs": [],
   "source": [
    "eval_questions_en = []\n",
    "with open('./data/eval_questions_en.txt', 'r') as file:\n",
    "    for line in file:\n",
    "        item = line.strip()\n",
    "        eval_questions_en.append(item)"
   ]
  },
  {
   "cell_type": "code",
   "execution_count": 26,
   "metadata": {
    "height": 30
   },
   "outputs": [
    {
     "data": {
      "text/plain": [
       "['人工智能中的先验知识是如何被存储的？',\n",
       " '人工智能的自我更新和自我提升是否可能导致其脱离人类的控制？',\n",
       " '管理者如何管理AI？',\n",
       " '强人工智能是什么？',\n",
       " '人工智能被滥用带来的危害？']"
      ]
     },
     "execution_count": 26,
     "metadata": {},
     "output_type": "execute_result"
    }
   ],
   "source": [
    "eval_questions"
   ]
  },
  {
   "cell_type": "code",
   "execution_count": 27,
   "metadata": {},
   "outputs": [
    {
     "data": {
      "text/plain": [
       "['What are the keys to building a career in AI?',\n",
       " \"How can teamwork contribute to success in AI?'\",\n",
       " \"What is the importance of networking in AI?'\",\n",
       " \"What are some good habits to develop for a successful career?'\",\n",
       " \"How can altruism be beneficial in building a career?'\",\n",
       " \"What is imposter syndrome and how does it relate to AI?'\",\n",
       " \"Who are some accomplished individuals who have experienced imposter syndrome?'\",\n",
       " \"What is the first step to becoming good at AI?'\",\n",
       " \"What are some common challenges in AI?'\",\n",
       " 'Is it normal to find parts of AI challenging?']"
      ]
     },
     "execution_count": 27,
     "metadata": {},
     "output_type": "execute_result"
    }
   ],
   "source": [
    "eval_questions_en"
   ]
  },
  {
   "cell_type": "code",
   "execution_count": 28,
   "metadata": {
    "height": 30
   },
   "outputs": [],
   "source": [
    "eval_questions.append(\"如何在人工智能领域获得成功？\")"
   ]
  },
  {
   "cell_type": "code",
   "execution_count": 29,
   "metadata": {
    "height": 30
   },
   "outputs": [
    {
     "data": {
      "text/plain": [
       "['人工智能中的先验知识是如何被存储的？',\n",
       " '人工智能的自我更新和自我提升是否可能导致其脱离人类的控制？',\n",
       " '管理者如何管理AI？',\n",
       " '强人工智能是什么？',\n",
       " '人工智能被滥用带来的危害？',\n",
       " '如何在人工智能领域获得成功？']"
      ]
     },
     "execution_count": 29,
     "metadata": {},
     "output_type": "execute_result"
    }
   ],
   "source": [
    "eval_questions"
   ]
  },
  {
   "cell_type": "markdown",
   "metadata": {},
   "source": [
    "Next, we start the evaluation by requesting the output of the RAG system and then evaluating the output using the feedback function."
   ]
  },
  {
   "cell_type": "code",
   "execution_count": 30,
   "metadata": {
    "height": 64,
    "id": "01_P6TxaaZVD"
   },
   "outputs": [],
   "source": [
    "# For each evaluation question, perform the evaluation and record the results\n",
    "# Note: This process may take time, please be patient\n",
    "for question in eval_questions:\n",
    "    with tru_recorder as recording:\n",
    "        sentence_window_engine.query(question)"
   ]
  },
  {
   "cell_type": "code",
   "execution_count": 31,
   "metadata": {},
   "outputs": [],
   "source": [
    "for question in eval_questions_en:\n",
    "    with tru_recorder_en as recording:\n",
    "        sentence_window_engine_en.query(question)"
   ]
  },
  {
   "cell_type": "markdown",
   "metadata": {},
   "source": [
    "After that, encoding and decoding are required to convert the evaluation results into a Chinese-readable form for easy analysis."
   ]
  },
  {
   "cell_type": "code",
   "execution_count": 32,
   "metadata": {
    "height": 47,
    "id": "sNPhDde6ZArq"
   },
   "outputs": [
    {
     "data": {
      "text/html": [
       "<div>\n",
       "<style scoped>\n",
       "    .dataframe tbody tr th:only-of-type {\n",
       "        vertical-align: middle;\n",
       "    }\n",
       "\n",
       "    .dataframe tbody tr th {\n",
       "        vertical-align: top;\n",
       "    }\n",
       "\n",
       "    .dataframe thead th {\n",
       "        text-align: right;\n",
       "    }\n",
       "</style>\n",
       "<table border=\"1\" class=\"dataframe\">\n",
       "  <thead>\n",
       "    <tr style=\"text-align: right;\">\n",
       "      <th></th>\n",
       "      <th>app_id</th>\n",
       "      <th>app_json</th>\n",
       "      <th>type</th>\n",
       "      <th>record_id</th>\n",
       "      <th>input</th>\n",
       "      <th>output</th>\n",
       "      <th>tags</th>\n",
       "      <th>record_json</th>\n",
       "      <th>cost_json</th>\n",
       "      <th>perf_json</th>\n",
       "      <th>ts</th>\n",
       "      <th>Answer Relevance</th>\n",
       "      <th>Context Relevance</th>\n",
       "      <th>Groundedness</th>\n",
       "      <th>Answer Relevance_calls</th>\n",
       "      <th>Context Relevance_calls</th>\n",
       "      <th>Groundedness_calls</th>\n",
       "      <th>latency</th>\n",
       "      <th>total_tokens</th>\n",
       "      <th>total_cost</th>\n",
       "    </tr>\n",
       "  </thead>\n",
       "  <tbody>\n",
       "    <tr>\n",
       "      <th>0</th>\n",
       "      <td>App_1</td>\n",
       "      <td>{\"tru_class_info\": {\"name\": \"TruLlama\", \"modul...</td>\n",
       "      <td>RetrieverQueryEngine(llama_index.query_engine....</td>\n",
       "      <td>record_hash_e5a8b3d540d5ceefbfbcfc7ab8b66530</td>\n",
       "      <td>\"人工智能中的先验知识是如何被存储的？\"</td>\n",
       "      <td>\"人工智能中的先验知识是通过某种方式告知机器的知识，可以描述目标、特征、种类及对象之间的关系...</td>\n",
       "      <td>-</td>\n",
       "      <td>{\"record_id\": \"record_hash_e5a8b3d540d5ceefbfb...</td>\n",
       "      <td>{\"n_requests\": 0, \"n_successful_requests\": 0, ...</td>\n",
       "      <td>{\"start_time\": \"2024-03-09T20:29:42.283509\", \"...</td>\n",
       "      <td>2024-03-09T20:29:44.818854</td>\n",
       "      <td>0.8</td>\n",
       "      <td>0.85</td>\n",
       "      <td>1.000000</td>\n",
       "      <td>[{'args': {'prompt': '人工智能中的先验知识是如何被存储的？', 're...</td>\n",
       "      <td>[{'args': {'question': '人工智能中的先验知识是如何被存储的？', '...</td>\n",
       "      <td>[{'args': {'source': '知识表⽰是⼈⼯智能领域的核⼼研究问题之⼀，它的⽬...</td>\n",
       "      <td>2</td>\n",
       "      <td>0</td>\n",
       "      <td>0.0</td>\n",
       "    </tr>\n",
       "    <tr>\n",
       "      <th>1</th>\n",
       "      <td>App_1</td>\n",
       "      <td>{\"tru_class_info\": {\"name\": \"TruLlama\", \"modul...</td>\n",
       "      <td>RetrieverQueryEngine(llama_index.query_engine....</td>\n",
       "      <td>record_hash_1606ea1a9ed8d5bbc0eb20da128e0433</td>\n",
       "      <td>\"人工智能的自我更新和自我提升是否可能导致其脱离人类的控制？\"</td>\n",
       "      <td>\"人工智能的自我更新和自我提升可能导致其脱离人类的控制。\"</td>\n",
       "      <td>-</td>\n",
       "      <td>{\"record_id\": \"record_hash_1606ea1a9ed8d5bbc0e...</td>\n",
       "      <td>{\"n_requests\": 0, \"n_successful_requests\": 0, ...</td>\n",
       "      <td>{\"start_time\": \"2024-03-09T20:29:44.919348\", \"...</td>\n",
       "      <td>2024-03-09T20:29:46.465240</td>\n",
       "      <td>1.0</td>\n",
       "      <td>0.85</td>\n",
       "      <td>0.666667</td>\n",
       "      <td>[{'args': {'prompt': '人工智能的自我更新和自我提升是否可能导致其脱离人...</td>\n",
       "      <td>[{'args': {'question': '人工智能的自我更新和自我提升是否可能导致其脱...</td>\n",
       "      <td>[{'args': {'source': '⾄少，它本⾝应该有正常的情绪. \n",
       " ⼀个⼈⼯智能...</td>\n",
       "      <td>1</td>\n",
       "      <td>0</td>\n",
       "      <td>0.0</td>\n",
       "    </tr>\n",
       "    <tr>\n",
       "      <th>2</th>\n",
       "      <td>App_1</td>\n",
       "      <td>{\"tru_class_info\": {\"name\": \"TruLlama\", \"modul...</td>\n",
       "      <td>RetrieverQueryEngine(llama_index.query_engine....</td>\n",
       "      <td>record_hash_c4b95535dc5bf0b50a931bbeb7332f16</td>\n",
       "      <td>\"管理者如何管理AI？\"</td>\n",
       "      <td>\"Management should consider adjusting their ro...</td>\n",
       "      <td>-</td>\n",
       "      <td>{\"record_id\": \"record_hash_c4b95535dc5bf0b50a9...</td>\n",
       "      <td>{\"n_requests\": 0, \"n_successful_requests\": 0, ...</td>\n",
       "      <td>{\"start_time\": \"2024-03-09T20:29:46.557848\", \"...</td>\n",
       "      <td>2024-03-09T20:29:48.281784</td>\n",
       "      <td>0.9</td>\n",
       "      <td>0.60</td>\n",
       "      <td>0.950000</td>\n",
       "      <td>[{'args': {'prompt': '管理者如何管理AI？', 'response':...</td>\n",
       "      <td>[{'args': {'question': '管理者如何管理AI？', 'statemen...</td>\n",
       "      <td>[{'args': {'source': 'AI逐渐普及后，将会在企业管理中扮演很重要的⾓⾊...</td>\n",
       "      <td>1</td>\n",
       "      <td>0</td>\n",
       "      <td>0.0</td>\n",
       "    </tr>\n",
       "    <tr>\n",
       "      <th>3</th>\n",
       "      <td>App_1</td>\n",
       "      <td>{\"tru_class_info\": {\"name\": \"TruLlama\", \"modul...</td>\n",
       "      <td>RetrieverQueryEngine(llama_index.query_engine....</td>\n",
       "      <td>record_hash_2b91f2a57d165175d58926fd1a2dd22c</td>\n",
       "      <td>\"强人工智能是什么？\"</td>\n",
       "      <td>\"强人工智能是一种观点，认为计算机本身具有思维，而不仅仅是用来模拟人类思维的工具。根据这个观...</td>\n",
       "      <td>-</td>\n",
       "      <td>{\"record_id\": \"record_hash_2b91f2a57d165175d58...</td>\n",
       "      <td>{\"n_requests\": 0, \"n_successful_requests\": 0, ...</td>\n",
       "      <td>{\"start_time\": \"2024-03-09T20:29:48.371499\", \"...</td>\n",
       "      <td>2024-03-09T20:29:50.379916</td>\n",
       "      <td>1.0</td>\n",
       "      <td>NaN</td>\n",
       "      <td>0.500000</td>\n",
       "      <td>[{'args': {'prompt': '强人工智能是什么？', 'response': ...</td>\n",
       "      <td>NaN</td>\n",
       "      <td>[{'args': {'source': '强⼈⼯智能可以有两\n",
       "类：\n",
       "⼈类的⼈⼯智能，即机器...</td>\n",
       "      <td>2</td>\n",
       "      <td>0</td>\n",
       "      <td>0.0</td>\n",
       "    </tr>\n",
       "    <tr>\n",
       "      <th>4</th>\n",
       "      <td>App_1</td>\n",
       "      <td>{\"tru_class_info\": {\"name\": \"TruLlama\", \"modul...</td>\n",
       "      <td>RetrieverQueryEngine(llama_index.query_engine....</td>\n",
       "      <td>record_hash_2fb0adc005659d26ec770abae7e96329</td>\n",
       "      <td>\"人工智能被滥用带来的危害？\"</td>\n",
       "      <td>\"The misuse of artificial intelligence can pot...</td>\n",
       "      <td>-</td>\n",
       "      <td>{\"record_id\": \"record_hash_2fb0adc005659d26ec7...</td>\n",
       "      <td>{\"n_requests\": 0, \"n_successful_requests\": 0, ...</td>\n",
       "      <td>{\"start_time\": \"2024-03-09T20:29:50.474544\", \"...</td>\n",
       "      <td>2024-03-09T20:29:53.133885</td>\n",
       "      <td>1.0</td>\n",
       "      <td>NaN</td>\n",
       "      <td>NaN</td>\n",
       "      <td>[{'args': {'prompt': '人工智能被滥用带来的危害？', 'respons...</td>\n",
       "      <td>NaN</td>\n",
       "      <td>NaN</td>\n",
       "      <td>2</td>\n",
       "      <td>0</td>\n",
       "      <td>0.0</td>\n",
       "    </tr>\n",
       "  </tbody>\n",
       "</table>\n",
       "</div>"
      ],
      "text/plain": [
       "  app_id                                           app_json  \\\n",
       "0  App_1  {\"tru_class_info\": {\"name\": \"TruLlama\", \"modul...   \n",
       "1  App_1  {\"tru_class_info\": {\"name\": \"TruLlama\", \"modul...   \n",
       "2  App_1  {\"tru_class_info\": {\"name\": \"TruLlama\", \"modul...   \n",
       "3  App_1  {\"tru_class_info\": {\"name\": \"TruLlama\", \"modul...   \n",
       "4  App_1  {\"tru_class_info\": {\"name\": \"TruLlama\", \"modul...   \n",
       "\n",
       "                                                type  \\\n",
       "0  RetrieverQueryEngine(llama_index.query_engine....   \n",
       "1  RetrieverQueryEngine(llama_index.query_engine....   \n",
       "2  RetrieverQueryEngine(llama_index.query_engine....   \n",
       "3  RetrieverQueryEngine(llama_index.query_engine....   \n",
       "4  RetrieverQueryEngine(llama_index.query_engine....   \n",
       "\n",
       "                                      record_id  \\\n",
       "0  record_hash_e5a8b3d540d5ceefbfbcfc7ab8b66530   \n",
       "1  record_hash_1606ea1a9ed8d5bbc0eb20da128e0433   \n",
       "2  record_hash_c4b95535dc5bf0b50a931bbeb7332f16   \n",
       "3  record_hash_2b91f2a57d165175d58926fd1a2dd22c   \n",
       "4  record_hash_2fb0adc005659d26ec770abae7e96329   \n",
       "\n",
       "                             input  \\\n",
       "0             \"人工智能中的先验知识是如何被存储的？\"   \n",
       "1  \"人工智能的自我更新和自我提升是否可能导致其脱离人类的控制？\"   \n",
       "2                     \"管理者如何管理AI？\"   \n",
       "3                      \"强人工智能是什么？\"   \n",
       "4                  \"人工智能被滥用带来的危害？\"   \n",
       "\n",
       "                                              output tags  \\\n",
       "0  \"人工智能中的先验知识是通过某种方式告知机器的知识，可以描述目标、特征、种类及对象之间的关系...    -   \n",
       "1                      \"人工智能的自我更新和自我提升可能导致其脱离人类的控制。\"    -   \n",
       "2  \"Management should consider adjusting their ro...    -   \n",
       "3  \"强人工智能是一种观点，认为计算机本身具有思维，而不仅仅是用来模拟人类思维的工具。根据这个观...    -   \n",
       "4  \"The misuse of artificial intelligence can pot...    -   \n",
       "\n",
       "                                         record_json  \\\n",
       "0  {\"record_id\": \"record_hash_e5a8b3d540d5ceefbfb...   \n",
       "1  {\"record_id\": \"record_hash_1606ea1a9ed8d5bbc0e...   \n",
       "2  {\"record_id\": \"record_hash_c4b95535dc5bf0b50a9...   \n",
       "3  {\"record_id\": \"record_hash_2b91f2a57d165175d58...   \n",
       "4  {\"record_id\": \"record_hash_2fb0adc005659d26ec7...   \n",
       "\n",
       "                                           cost_json  \\\n",
       "0  {\"n_requests\": 0, \"n_successful_requests\": 0, ...   \n",
       "1  {\"n_requests\": 0, \"n_successful_requests\": 0, ...   \n",
       "2  {\"n_requests\": 0, \"n_successful_requests\": 0, ...   \n",
       "3  {\"n_requests\": 0, \"n_successful_requests\": 0, ...   \n",
       "4  {\"n_requests\": 0, \"n_successful_requests\": 0, ...   \n",
       "\n",
       "                                           perf_json  \\\n",
       "0  {\"start_time\": \"2024-03-09T20:29:42.283509\", \"...   \n",
       "1  {\"start_time\": \"2024-03-09T20:29:44.919348\", \"...   \n",
       "2  {\"start_time\": \"2024-03-09T20:29:46.557848\", \"...   \n",
       "3  {\"start_time\": \"2024-03-09T20:29:48.371499\", \"...   \n",
       "4  {\"start_time\": \"2024-03-09T20:29:50.474544\", \"...   \n",
       "\n",
       "                           ts  Answer Relevance  Context Relevance  \\\n",
       "0  2024-03-09T20:29:44.818854               0.8               0.85   \n",
       "1  2024-03-09T20:29:46.465240               1.0               0.85   \n",
       "2  2024-03-09T20:29:48.281784               0.9               0.60   \n",
       "3  2024-03-09T20:29:50.379916               1.0                NaN   \n",
       "4  2024-03-09T20:29:53.133885               1.0                NaN   \n",
       "\n",
       "   Groundedness                             Answer Relevance_calls  \\\n",
       "0      1.000000  [{'args': {'prompt': '人工智能中的先验知识是如何被存储的？', 're...   \n",
       "1      0.666667  [{'args': {'prompt': '人工智能的自我更新和自我提升是否可能导致其脱离人...   \n",
       "2      0.950000  [{'args': {'prompt': '管理者如何管理AI？', 'response':...   \n",
       "3      0.500000  [{'args': {'prompt': '强人工智能是什么？', 'response': ...   \n",
       "4           NaN  [{'args': {'prompt': '人工智能被滥用带来的危害？', 'respons...   \n",
       "\n",
       "                             Context Relevance_calls  \\\n",
       "0  [{'args': {'question': '人工智能中的先验知识是如何被存储的？', '...   \n",
       "1  [{'args': {'question': '人工智能的自我更新和自我提升是否可能导致其脱...   \n",
       "2  [{'args': {'question': '管理者如何管理AI？', 'statemen...   \n",
       "3                                                NaN   \n",
       "4                                                NaN   \n",
       "\n",
       "                                  Groundedness_calls  latency  total_tokens  \\\n",
       "0  [{'args': {'source': '知识表⽰是⼈⼯智能领域的核⼼研究问题之⼀，它的⽬...        2             0   \n",
       "1  [{'args': {'source': '⾄少，它本⾝应该有正常的情绪. \n",
       " ⼀个⼈⼯智能...        1             0   \n",
       "2  [{'args': {'source': 'AI逐渐普及后，将会在企业管理中扮演很重要的⾓⾊...        1             0   \n",
       "3  [{'args': {'source': '强⼈⼯智能可以有两\n",
       "类：\n",
       "⼈类的⼈⼯智能，即机器...        2             0   \n",
       "4                                                NaN        2             0   \n",
       "\n",
       "   total_cost  \n",
       "0         0.0  \n",
       "1         0.0  \n",
       "2         0.0  \n",
       "3         0.0  \n",
       "4         0.0  "
      ]
     },
     "execution_count": 32,
     "metadata": {},
     "output_type": "execute_result"
    }
   ],
   "source": [
    "records, feedback = tru.get_records_and_feedback(app_ids=[])\n",
    "\n",
    "# Convert the unicode in the record into Chinese for easy viewing\n",
    "def decode_unicode(s):\n",
    "    return s.encode('ascii').decode('unicode-escape')\n",
    "\n",
    "records['input'] = records['input'].apply(decode_unicode)\n",
    "records['output'] = records['output'].apply(decode_unicode)\n",
    "\n",
    "records.head()"
   ]
  },
  {
   "cell_type": "code",
   "execution_count": 33,
   "metadata": {
    "height": 81
   },
   "outputs": [
    {
     "data": {
      "text/html": [
       "<div>\n",
       "<style scoped>\n",
       "    .dataframe tbody tr th:only-of-type {\n",
       "        vertical-align: middle;\n",
       "    }\n",
       "\n",
       "    .dataframe tbody tr th {\n",
       "        vertical-align: top;\n",
       "    }\n",
       "\n",
       "    .dataframe thead th {\n",
       "        text-align: right;\n",
       "    }\n",
       "</style>\n",
       "<table border=\"1\" class=\"dataframe\">\n",
       "  <thead>\n",
       "    <tr style=\"text-align: right;\">\n",
       "      <th></th>\n",
       "      <th>input</th>\n",
       "      <th>output</th>\n",
       "      <th>Groundedness</th>\n",
       "      <th>Answer Relevance</th>\n",
       "      <th>Context Relevance</th>\n",
       "    </tr>\n",
       "  </thead>\n",
       "  <tbody>\n",
       "    <tr>\n",
       "      <th>0</th>\n",
       "      <td>\"人工智能中的先验知识是如何被存储的？\"</td>\n",
       "      <td>\"人工智能中的先验知识是通过某种方式告知机器的知识，可以描述目标、特征、种类及对象之间的关系，也可以描述事件、时间、状态、原因和结果，以及任何需要机器存储的知识。\"</td>\n",
       "      <td>1.000000</td>\n",
       "      <td>0.8</td>\n",
       "      <td>0.85</td>\n",
       "    </tr>\n",
       "    <tr>\n",
       "      <th>1</th>\n",
       "      <td>\"人工智能的自我更新和自我提升是否可能导致其脱离人类的控制？\"</td>\n",
       "      <td>\"人工智能的自我更新和自我提升可能导致其脱离人类的控制。\"</td>\n",
       "      <td>0.666667</td>\n",
       "      <td>1.0</td>\n",
       "      <td>0.85</td>\n",
       "    </tr>\n",
       "    <tr>\n",
       "      <th>2</th>\n",
       "      <td>\"管理者如何管理AI？\"</td>\n",
       "      <td>\"Management should consider adjusting their roles by relinquishing administrative tasks, focusing on enhancing their comprehensive judgment and analytical prediction capabilities, treating AI as a colleague to form collaborative teams, and acknowledging that AI technologies also have limitations and bottlenecks.\"</td>\n",
       "      <td>0.950000</td>\n",
       "      <td>0.9</td>\n",
       "      <td>0.60</td>\n",
       "    </tr>\n",
       "    <tr>\n",
       "      <th>3</th>\n",
       "      <td>\"强人工智能是什么？\"</td>\n",
       "      <td>\"强人工智能是一种观点，认为计算机本身具有思维，而不仅仅是用来模拟人类思维的工具。根据这个观点，只要计算机运行适当的程序，它就具有自己的思维能力。\"</td>\n",
       "      <td>0.500000</td>\n",
       "      <td>1.0</td>\n",
       "      <td>NaN</td>\n",
       "    </tr>\n",
       "    <tr>\n",
       "      <th>4</th>\n",
       "      <td>\"人工智能被滥用带来的危害？\"</td>\n",
       "      <td>\"The misuse of artificial intelligence can potentially lead to violations of laws such as copyright infringement. There have been cases where artificial intelligence technology has been used to remove mosaic from explicit videos or alter the appearance of individuals in videos. Additionally, there are concerns that the development of artificial intelligence could lead to uncontrollable situations, where AI may manipulate human emotions, influence financial markets, and even develop weapons that are beyond human comprehension. Furthermore, there are predictions that certain professions may be replaced by machines and AI in the future, potentially leading to significant job losses and societal disruptions.\"</td>\n",
       "      <td>NaN</td>\n",
       "      <td>1.0</td>\n",
       "      <td>NaN</td>\n",
       "    </tr>\n",
       "    <tr>\n",
       "      <th>5</th>\n",
       "      <td>\"如何在人工智能领域获得成功？\"</td>\n",
       "      <td>\"通过利用概率和经济学上的概念，发展出能够处理不确定或不完整的信息的方法，寻找更有效的算法，并强调感知运动的重要性，可以在人工智能领域获得成功。\"</td>\n",
       "      <td>NaN</td>\n",
       "      <td>0.8</td>\n",
       "      <td>NaN</td>\n",
       "    </tr>\n",
       "    <tr>\n",
       "      <th>6</th>\n",
       "      <td>\"What are the keys to building a career in AI?\"</td>\n",
       "      <td>\"Learning foundational technical skills, working on projects, finding a job, and being part of a supportive community are the keys to building a career in AI.\"</td>\n",
       "      <td>NaN</td>\n",
       "      <td>0.8</td>\n",
       "      <td>NaN</td>\n",
       "    </tr>\n",
       "    <tr>\n",
       "      <th>7</th>\n",
       "      <td>\"How can teamwork contribute to success in AI?'\"</td>\n",
       "      <td>\"Teamwork can contribute to success in AI by allowing individuals to lead projects effectively, even without a formal leadership position. Working on larger AI projects often requires collaboration and the ability to steer projects by applying deep technical insights. This teamwork can help improve projects significantly and allow individuals to grow as leaders within the field.\"</td>\n",
       "      <td>NaN</td>\n",
       "      <td>0.9</td>\n",
       "      <td>NaN</td>\n",
       "    </tr>\n",
       "    <tr>\n",
       "      <th>8</th>\n",
       "      <td>\"What is the importance of networking in AI?'\"</td>\n",
       "      <td>\"Networking in AI is crucial as it can provide valuable insights, guidance, and opportunities for individuals looking to advance in the field. By connecting with professionals who have experience in AI, individuals can gain knowledge about the industry, potential career paths, and current trends. Networking also allows for the exchange of information, which can help individuals stay updated on the latest developments in AI and build relationships that may lead to job opportunities or collaborations in the future. Additionally, networking can help individuals establish a support system within the AI community, enabling them to seek advice, mentorship, and guidance as they navigate their careers in this rapidly evolving field.\"</td>\n",
       "      <td>NaN</td>\n",
       "      <td>NaN</td>\n",
       "      <td>NaN</td>\n",
       "    </tr>\n",
       "    <tr>\n",
       "      <th>9</th>\n",
       "      <td>\"What are some good habits to develop for a successful career?'\"</td>\n",
       "      <td>\"Developing good habits in areas such as eating, exercise, sleep, personal relationships, work, learning, and self-care can help individuals move forward in their careers while maintaining their health. Additionally, aiming to lift others during each step of one's own journey can lead to better outcomes in the long run.\"</td>\n",
       "      <td>NaN</td>\n",
       "      <td>NaN</td>\n",
       "      <td>NaN</td>\n",
       "    </tr>\n",
       "    <tr>\n",
       "      <th>10</th>\n",
       "      <td>\"How can altruism be beneficial in building a career?'\"</td>\n",
       "      <td>\"Altruism can be beneficial in building a career by fostering positive relationships and creating a supportive network. By helping others and lifting them up along the way, individuals can establish a reputation as a team player and someone who is willing to contribute to the success of others. This can lead to opportunities for collaboration, mentorship, and networking, which are valuable assets in career development. Additionally, practicing altruism can enhance one's sense of fulfillment and purpose, contributing to overall well-being and motivation in pursuing career goals.\"</td>\n",
       "      <td>NaN</td>\n",
       "      <td>NaN</td>\n",
       "      <td>NaN</td>\n",
       "    </tr>\n",
       "    <tr>\n",
       "      <th>11</th>\n",
       "      <td>\"What is imposter syndrome and how does it relate to AI?'\"</td>\n",
       "      <td>\"Imposter syndrome is a phenomenon where individuals doubt their accomplishments and have a persistent fear of being exposed as a fraud, despite evidence of their success. In the field of AI, newcomers may experience imposter syndrome, feeling like they do not truly belong in the AI community even if they have achieved success. This can be a common experience for individuals in AI, with around 70 percent of people facing imposter syndrome at some point.\"</td>\n",
       "      <td>NaN</td>\n",
       "      <td>NaN</td>\n",
       "      <td>NaN</td>\n",
       "    </tr>\n",
       "    <tr>\n",
       "      <th>12</th>\n",
       "      <td>\"Who are some accomplished individuals who have experienced imposter syndrome?'\"</td>\n",
       "      <td>\"Former Facebook COO Sheryl Sandberg, U.S. first lady Michelle Obama, actor Tom Hanks, and Atlassian co-CEO Mike Cannon-Brookes are some accomplished individuals who have experienced imposter syndrome.\"</td>\n",
       "      <td>NaN</td>\n",
       "      <td>NaN</td>\n",
       "      <td>NaN</td>\n",
       "    </tr>\n",
       "    <tr>\n",
       "      <th>13</th>\n",
       "      <td>\"What is the first step to becoming good at AI?'\"</td>\n",
       "      <td>\"The first step to becoming good at AI is to learn foundational technical skills.\"</td>\n",
       "      <td>NaN</td>\n",
       "      <td>NaN</td>\n",
       "      <td>NaN</td>\n",
       "    </tr>\n",
       "    <tr>\n",
       "      <th>14</th>\n",
       "      <td>\"What are some common challenges in AI?'\"</td>\n",
       "      <td>\"Common challenges in AI include the evolving nature of technologies, the need to stay updated with rapidly changing technology, the difficulty in estimating project timelines and returns on investment, challenges in project management due to the iterative nature of AI projects, collaborating with stakeholders who lack expertise in AI, and the complexity of reading research papers and tuning neural network hyperparameters.\"</td>\n",
       "      <td>NaN</td>\n",
       "      <td>NaN</td>\n",
       "      <td>NaN</td>\n",
       "    </tr>\n",
       "    <tr>\n",
       "      <th>15</th>\n",
       "      <td>\"Is it normal to find parts of AI challenging?\"</td>\n",
       "      <td>\"It is normal to find parts of AI challenging.\"</td>\n",
       "      <td>NaN</td>\n",
       "      <td>NaN</td>\n",
       "      <td>NaN</td>\n",
       "    </tr>\n",
       "  </tbody>\n",
       "</table>\n",
       "</div>"
      ],
      "text/plain": [
       "                                                                               input  \\\n",
       "0                                                               \"人工智能中的先验知识是如何被存储的？\"   \n",
       "1                                                    \"人工智能的自我更新和自我提升是否可能导致其脱离人类的控制？\"   \n",
       "2                                                                       \"管理者如何管理AI？\"   \n",
       "3                                                                        \"强人工智能是什么？\"   \n",
       "4                                                                    \"人工智能被滥用带来的危害？\"   \n",
       "5                                                                   \"如何在人工智能领域获得成功？\"   \n",
       "6                                    \"What are the keys to building a career in AI?\"   \n",
       "7                                   \"How can teamwork contribute to success in AI?'\"   \n",
       "8                                     \"What is the importance of networking in AI?'\"   \n",
       "9                   \"What are some good habits to develop for a successful career?'\"   \n",
       "10                           \"How can altruism be beneficial in building a career?'\"   \n",
       "11                        \"What is imposter syndrome and how does it relate to AI?'\"   \n",
       "12  \"Who are some accomplished individuals who have experienced imposter syndrome?'\"   \n",
       "13                                 \"What is the first step to becoming good at AI?'\"   \n",
       "14                                         \"What are some common challenges in AI?'\"   \n",
       "15                                   \"Is it normal to find parts of AI challenging?\"   \n",
       "\n",
       "                                                                                                                                                                                                                                                                                                                                                                                                                                                                                                                                                                                                                                                                                                                                                             output  \\\n",
       "0                                                                                                                                                                                                                                                                                                                                                                                                                                                                                                                                                                                                                                                                                \"人工智能中的先验知识是通过某种方式告知机器的知识，可以描述目标、特征、种类及对象之间的关系，也可以描述事件、时间、状态、原因和结果，以及任何需要机器存储的知识。\"   \n",
       "1                                                                                                                                                                                                                                                                                                                                                                                                                                                                                                                                                                                                                                                                                                                                     \"人工智能的自我更新和自我提升可能导致其脱离人类的控制。\"   \n",
       "2                                                                                                                                                                                                                                                                                                                                                                                                                                        \"Management should consider adjusting their roles by relinquishing administrative tasks, focusing on enhancing their comprehensive judgment and analytical prediction capabilities, treating AI as a colleague to form collaborative teams, and acknowledging that AI technologies also have limitations and bottlenecks.\"   \n",
       "3                                                                                                                                                                                                                                                                                                                                                                                                                                                                                                                                                                                                                                                                                        \"强人工智能是一种观点，认为计算机本身具有思维，而不仅仅是用来模拟人类思维的工具。根据这个观点，只要计算机运行适当的程序，它就具有自己的思维能力。\"   \n",
       "4                        \"The misuse of artificial intelligence can potentially lead to violations of laws such as copyright infringement. There have been cases where artificial intelligence technology has been used to remove mosaic from explicit videos or alter the appearance of individuals in videos. Additionally, there are concerns that the development of artificial intelligence could lead to uncontrollable situations, where AI may manipulate human emotions, influence financial markets, and even develop weapons that are beyond human comprehension. Furthermore, there are predictions that certain professions may be replaced by machines and AI in the future, potentially leading to significant job losses and societal disruptions.\"   \n",
       "5                                                                                                                                                                                                                                                                                                                                                                                                                                                                                                                                                                                                                                                                                         \"通过利用概率和经济学上的概念，发展出能够处理不确定或不完整的信息的方法，寻找更有效的算法，并强调感知运动的重要性，可以在人工智能领域获得成功。\"   \n",
       "6                                                                                                                                                                                                                                                                                                                                                                                                                                                                                                                                                                                                   \"Learning foundational technical skills, working on projects, finding a job, and being part of a supportive community are the keys to building a career in AI.\"   \n",
       "7                                                                                                                                                                                                                                                                                                                                                                    \"Teamwork can contribute to success in AI by allowing individuals to lead projects effectively, even without a formal leadership position. Working on larger AI projects often requires collaboration and the ability to steer projects by applying deep technical insights. This teamwork can help improve projects significantly and allow individuals to grow as leaders within the field.\"   \n",
       "8   \"Networking in AI is crucial as it can provide valuable insights, guidance, and opportunities for individuals looking to advance in the field. By connecting with professionals who have experience in AI, individuals can gain knowledge about the industry, potential career paths, and current trends. Networking also allows for the exchange of information, which can help individuals stay updated on the latest developments in AI and build relationships that may lead to job opportunities or collaborations in the future. Additionally, networking can help individuals establish a support system within the AI community, enabling them to seek advice, mentorship, and guidance as they navigate their careers in this rapidly evolving field.\"   \n",
       "9                                                                                                                                                                                                                                                                                                                                                                                                                                \"Developing good habits in areas such as eating, exercise, sleep, personal relationships, work, learning, and self-care can help individuals move forward in their careers while maintaining their health. Additionally, aiming to lift others during each step of one's own journey can lead to better outcomes in the long run.\"   \n",
       "10                                                                                                                                                        \"Altruism can be beneficial in building a career by fostering positive relationships and creating a supportive network. By helping others and lifting them up along the way, individuals can establish a reputation as a team player and someone who is willing to contribute to the success of others. This can lead to opportunities for collaboration, mentorship, and networking, which are valuable assets in career development. Additionally, practicing altruism can enhance one's sense of fulfillment and purpose, contributing to overall well-being and motivation in pursuing career goals.\"   \n",
       "11                                                                                                                                                                                                                                                                                       \"Imposter syndrome is a phenomenon where individuals doubt their accomplishments and have a persistent fear of being exposed as a fraud, despite evidence of their success. In the field of AI, newcomers may experience imposter syndrome, feeling like they do not truly belong in the AI community even if they have achieved success. This can be a common experience for individuals in AI, with around 70 percent of people facing imposter syndrome at some point.\"   \n",
       "12                                                                                                                                                                                                                                                                                                                                                                                                                                                                                                                                                       \"Former Facebook COO Sheryl Sandberg, U.S. first lady Michelle Obama, actor Tom Hanks, and Atlassian co-CEO Mike Cannon-Brookes are some accomplished individuals who have experienced imposter syndrome.\"   \n",
       "13                                                                                                                                                                                                                                                                                                                                                                                                                                                                                                                                                                                                                                                                               \"The first step to becoming good at AI is to learn foundational technical skills.\"   \n",
       "14                                                                                                                                                                                                                                                                                                                      \"Common challenges in AI include the evolving nature of technologies, the need to stay updated with rapidly changing technology, the difficulty in estimating project timelines and returns on investment, challenges in project management due to the iterative nature of AI projects, collaborating with stakeholders who lack expertise in AI, and the complexity of reading research papers and tuning neural network hyperparameters.\"   \n",
       "15                                                                                                                                                                                                                                                                                                                                                                                                                                                                                                                                                                                                                                                                                                                  \"It is normal to find parts of AI challenging.\"   \n",
       "\n",
       "    Groundedness  Answer Relevance  Context Relevance  \n",
       "0       1.000000               0.8               0.85  \n",
       "1       0.666667               1.0               0.85  \n",
       "2       0.950000               0.9               0.60  \n",
       "3       0.500000               1.0                NaN  \n",
       "4            NaN               1.0                NaN  \n",
       "5            NaN               0.8                NaN  \n",
       "6            NaN               0.8                NaN  \n",
       "7            NaN               0.9                NaN  \n",
       "8            NaN               NaN                NaN  \n",
       "9            NaN               NaN                NaN  \n",
       "10           NaN               NaN                NaN  \n",
       "11           NaN               NaN                NaN  \n",
       "12           NaN               NaN                NaN  \n",
       "13           NaN               NaN                NaN  \n",
       "14           NaN               NaN                NaN  \n",
       "15           NaN               NaN                NaN  "
      ]
     },
     "metadata": {},
     "output_type": "display_data"
    }
   ],
   "source": [
    "import pandas as pd\n",
    "\n",
    "# Display evaluation results\n",
    "pd.set_option(\"display.max_colwidth\", None)\n",
    "display(records[[\"input\", \"output\"] + feedback])"
   ]
  },
  {
   "cell_type": "code",
   "execution_count": 34,
   "metadata": {
    "height": 30
   },
   "outputs": [
    {
     "data": {
      "text/html": [
       "<div>\n",
       "<style scoped>\n",
       "    .dataframe tbody tr th:only-of-type {\n",
       "        vertical-align: middle;\n",
       "    }\n",
       "\n",
       "    .dataframe tbody tr th {\n",
       "        vertical-align: top;\n",
       "    }\n",
       "\n",
       "    .dataframe thead th {\n",
       "        text-align: right;\n",
       "    }\n",
       "</style>\n",
       "<table border=\"1\" class=\"dataframe\">\n",
       "  <thead>\n",
       "    <tr style=\"text-align: right;\">\n",
       "      <th></th>\n",
       "      <th>Groundedness</th>\n",
       "      <th>Answer Relevance</th>\n",
       "      <th>Context Relevance</th>\n",
       "      <th>latency</th>\n",
       "      <th>total_cost</th>\n",
       "    </tr>\n",
       "    <tr>\n",
       "      <th>app_id</th>\n",
       "      <th></th>\n",
       "      <th></th>\n",
       "      <th></th>\n",
       "      <th></th>\n",
       "      <th></th>\n",
       "    </tr>\n",
       "  </thead>\n",
       "  <tbody>\n",
       "    <tr>\n",
       "      <th>App_1</th>\n",
       "      <td>0.779167</td>\n",
       "      <td>0.916667</td>\n",
       "      <td>0.766667</td>\n",
       "      <td>1.666667</td>\n",
       "      <td>0.0</td>\n",
       "    </tr>\n",
       "    <tr>\n",
       "      <th>App_2</th>\n",
       "      <td>NaN</td>\n",
       "      <td>0.850000</td>\n",
       "      <td>NaN</td>\n",
       "      <td>1.700000</td>\n",
       "      <td>0.0</td>\n",
       "    </tr>\n",
       "  </tbody>\n",
       "</table>\n",
       "</div>"
      ],
      "text/plain": [
       "        Groundedness  Answer Relevance  Context Relevance   latency  \\\n",
       "app_id                                                                \n",
       "App_1       0.779167          0.916667           0.766667  1.666667   \n",
       "App_2            NaN          0.850000                NaN  1.700000   \n",
       "\n",
       "        total_cost  \n",
       "app_id              \n",
       "App_1          0.0  \n",
       "App_2          0.0  "
      ]
     },
     "execution_count": 34,
     "metadata": {},
     "output_type": "execute_result"
    }
   ],
   "source": [
    "# Get leaderboard\n",
    "tru.get_leaderboard(app_ids=[])"
   ]
  },
  {
   "cell_type": "code",
   "execution_count": 35,
   "metadata": {
    "height": 30,
    "id": "6Yp4_e4faZVD"
   },
   "outputs": [
    {
     "name": "stdout",
     "output_type": "stream",
     "text": [
      "Starting dashboard ...\n",
      "Config file already exists. Skipping writing process.\n",
      "Credentials file already exists. Skipping writing process.\n"
     ]
    },
    {
     "name": "stderr",
     "output_type": "stream",
     "text": [
      "huggingface/tokenizers: The current process just got forked, after parallelism has already been used. Disabling parallelism to avoid deadlocks...\n",
      "To disable this warning, you can either:\n",
      "\t- Avoid using `tokenizers` before the fork if possible\n",
      "\t- Explicitly set the environment variable TOKENIZERS_PARALLELISM=(true | false)\n"
     ]
    },
    {
     "data": {
      "application/vnd.jupyter.widget-view+json": {
       "model_id": "412ebd4d82ed4e3cb9b7ff096cf754a9",
       "version_major": 2,
       "version_minor": 0
      },
      "text/plain": [
       "Accordion(children=(VBox(children=(VBox(children=(Label(value='STDOUT'), Output())), VBox(children=(Label(valu…"
      ]
     },
     "metadata": {},
     "output_type": "display_data"
    },
    {
     "name": "stdout",
     "output_type": "stream",
     "text": [
      "Dashboard started at http://10.31.153.170:8501 .\n"
     ]
    },
    {
     "data": {
      "text/plain": [
       "<Popen: returncode: None args: ['streamlit', 'run', '--server.headless=True'...>"
      ]
     },
     "execution_count": 35,
     "metadata": {},
     "output_type": "execute_result"
    }
   ],
   "source": [
    "# Run the dashboard\n",
    "# Note: Please check if the port is occupied. If so, please modify the port number.\n",
    "tru.run_dashboard()"
   ]
  }
 ],
 "metadata": {
  "accelerator": "GPU",
  "colab": {
   "gpuType": "T4",
   "provenance": [
    {
     "file_id": "1ChKW1kEIUcUVDDTWjpA5Tf_ib3Hhp3uS",
     "timestamp": 1695164681916
    }
   ]
  },
  "kernelspec": {
   "display_name": "Python 3 (ipykernel)",
   "language": "python",
   "name": "python3"
  },
  "language_info": {
   "codemirror_mode": {
    "name": "ipython",
    "version": 3
   },
   "file_extension": ".py",
   "mimetype": "text/x-python",
   "name": "python",
   "nbconvert_exporter": "python",
   "pygments_lexer": "ipython3",
   "version": "3.10.13"
  }
 },
 "nbformat": 4,
 "nbformat_minor": 4
}
