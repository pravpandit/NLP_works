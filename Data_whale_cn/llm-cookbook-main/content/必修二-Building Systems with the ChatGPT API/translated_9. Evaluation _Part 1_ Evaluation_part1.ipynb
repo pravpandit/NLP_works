{
 "cells": [
  {
   "attachments": {},
   "cell_type": "markdown",
   "id": "aa3de8c6",
   "metadata": {
    "height": 30
   },
   "source": [
    "# Chapter 9 Evaluation (Part 1) - When there is a simple correct answer\n",
    "\n",
    "- [I. Environment configuration](#I. Environment configuration)\n",
    "- [1.1 Load the API key and some Python libraries. ](#1.1-Load-API-key-and-some-Python-libraries.)\n",
    "- [1.2-Get-related-products-and-categories](#1.2-Get-related-products-and-categories)\n",
    "- [II. Find-related-product-and-category-names](#II. Find-related-product-and-category-names)\n",
    "- [III. Evaluate-on-some-queries](#III. Evaluate-on-some-queries)\n",
    "- [IV. Harder-test-cases](#IV. Harder-test-cases)\n",
    "- [V. Modify-instructions-to-handle-hard-test-cases](#V. Modify-instructions-to-handle-hard-test-cases)\n",
    "- [VI. Evaluate-modified-instructions-on-hard-test-cases](#VI. Evaluate-modified-instructions-on-hard-test-cases)\n",
    "- [VII. Regression-test: Verify-model-is-still-valid-on-previous-test-cases](#VII. Regression-test: Verify-model-is-still-valid-on-previous-test-cases)\n",
    "- [VIII. Collect-development-sets-for-automated-tests](#VIII. Collect-development-sets-for-automated-tests)\n",
    "- [Nine, evaluate test cases by comparing with ideal answers](#Nine, evaluate test cases by comparing with ideal answers)\n",
    "- [Ten, run evaluation on all test cases and calculate the proportion of correct cases](#Ten,Run the evaluation on all test cases and calculate the proportion of correct cases)"
   ]
  },
  {
   "attachments": {},
   "cell_type": "markdown",
   "id": "c768620b",
   "metadata": {},
   "source": [
    "In the previous chapters, we showed how to build applications using LLM, including evaluating inputs, processing inputs, and doing a final output check before showing the output to the user.\n",
    "\n",
    "Once you build such a system, how do you know how well it works? Even after you deploy it and have users using it, how do you track how well it works, find any flaws, and continuously improve the quality of the system's answers?\n",
    "\n",
    "In this chapter, we want to share with you some best practices for evaluating the output of LLM.\n",
    "\n",
    "Building LLM-based applications is different from traditional supervised learning applications. Because LLM-based applications can be built quickly, the evaluation approach does not usually start with a test set. Instead, a set of test examples is usually built up gradually.\n",
    "\n",
    "In traditional supervised learning settings, you need to collect a training set, a development set, or a holdout cross-validation set, and then use them throughout the development process.\n",
    "\n",
    "However, if you can specify a prompt in a few minutes and get the corresponding results in a few hours, it would be extremely painful to pause for a long time to collect a thousand test examples. Because now, you can achieve this result with zero training examples.\n",
    "\n",
    "So, when you build an application using LLM, you'll experience the following process:\n",
    "\n",
    "First, you'll tweak the prompt on a small sample of one to three examples and try to get it to work on them.\n",
    "\n",
    "Then, as the system is further tested, you might encounterSome tricky examples. Prompt doesn’t work on them, or the algorithm doesn’t work on them.\n",
    "\n",
    "This is the challenge that developers who build applications using the ChatGPT API experience.\n",
    "\n",
    "In this case, you can add these extra few examples to the set you are testing to opportunistically add other tricky examples.\n",
    "\n",
    "Eventually, you have added enough of these examples to your slowly growing development set that it becomes somewhat inconvenient to test Prompt by manually running each example.\n",
    "\n",
    "Then you start developing metrics for measuring performance on these small sets of examples, such as average accuracy.\n",
    "\n",
    "An interesting aspect of this process is that if you feel your system is good enough, you can always stop there and not improve it anymore. In fact, many deployed applications stop at the first or second step and work very well.\n",
    "\n",
    "It is important to note that there are many applications of large models that do not have substantial risk, even if it does not give completely correct answers.\n",
    "\n",
    "However, for some high-risk applications, if there is bias or inappropriate output that could cause harm to someone, it becomes more important to collect a test set, rigorously evaluate the performance of the system, and ensure that it does the right thing before using it.\n",
    "\n",
    "However, if you are only using it to summarize articles for your own reading, rather than for others, then the risk of harm is lower and you can stop early in the process rather than going to a more expensiveThe cost of collecting a larger dataset."
   ]
  },
  {
   "attachments": {},
   "cell_type": "markdown",
   "id": "b0582759",
   "metadata": {
    "height": 30
   },
   "source": [
    "## 1. Environment Configuration"
   ]
  },
  {
   "cell_type": "markdown",
   "id": "e3eec945",
   "metadata": {},
   "source": [
    "### 1.1 Load the API key and some Python libraries.\n",
    "\n",
    "As in the previous chapter, we first need to configure the environment to use the OpenAI API"
   ]
  },
  {
   "cell_type": "code",
   "execution_count": 1,
   "id": "a9726b15",
   "metadata": {
    "height": 166
   },
   "outputs": [],
   "source": [
    "import os\n",
    "import openai\n",
    "import sys\n",
    "import time\n",
    "sys.path.append('../..')\n",
    "import utils_en\n",
    "import utils_zh\n",
    "\n",
    "openai.api_key  = \"sk-...\"\n",
    "# Set API_KEY, please replace it with your own API_KEY\n",
    "\n",
    "# The following is an example of a configuration method based on environment variables, which is safer. It is for reference only and will not be covered later.\n",
    "# import openai\n",
    "# import os\n",
    "# OPENAI_API_KEY = os.environ.get(\"OPENAI_API_KEY\")\n",
    "# openai.api_key = OPENAI_API_KEY"
   ]
  },
  {
   "cell_type": "code",
   "execution_count": 2,
   "id": "458993db",
   "metadata": {
    "height": 149
   },
   "outputs": [],
   "source": [
    "def get_completion_from_messages(messages, \n",
    "                                 model=\"gpt-3.5-turbo\", \n",
    "                                 temperature=0, \n",
    "                                 max_tokens=500):\n",
    "    '''\n",
    "    封装一个访问 OpenAI GPT3.5 的函数\n",
    "\n",
    "    参数: \n",
    "    messages: 这是一个消息列表，每个消息都是一个字典，包含 role(角色）和 content(内容)。角色可以是'system'、'user' 或 'assistant’，内容是角色的消息。\n",
    "    model: 调用的模型，默认为 gpt-3.5-turbo(ChatGPT)，有内测资格的用户可以选择 gpt-4\n",
    "    temperature: 这决定模型输出的随机程度，默认为0，表示输出将非常确定。增加温度会使输出更随机。\n",
    "    max_tokens: 这决定模型输出的最大的 token 数。\n",
    "    '''\n",
    "    response = openai.ChatCompletion.create(\n",
    "        model=model,\n",
    "        messages=messages,\n",
    "        temperature=temperature, # 这决定模型输出的随机程度\n",
    "        max_tokens=max_tokens, # 这决定模型输出的最大的 token 数\n",
    "    )\n",
    "    return response.choices[0].message[\"content\"]"
   ]
  },
  {
   "attachments": {},
   "cell_type": "markdown",
   "id": "3b6a4c17",
   "metadata": {
    "height": 30
   },
   "source": [
    "### 1.2 Get related products and categories\n",
    "\n",
    "We want to get the list of products and categories in the product catalog mentioned in the previous chapters."
   ]
  },
  {
   "cell_type": "code",
   "execution_count": 5,
   "id": "6f4062ea",
   "metadata": {
    "height": 47
   },
   "outputs": [
    {
     "data": {
      "text/plain": [
       "{'Computers and Laptops': ['TechPro Ultrabook',\n",
       "  'BlueWave Gaming Laptop',\n",
       "  'PowerLite Convertible',\n",
       "  'TechPro Desktop',\n",
       "  'BlueWave Chromebook'],\n",
       " 'Smartphones and Accessories': ['SmartX ProPhone',\n",
       "  'MobiTech PowerCase',\n",
       "  'SmartX MiniPhone',\n",
       "  'MobiTech Wireless Charger',\n",
       "  'SmartX EarBuds'],\n",
       " 'Televisions and Home Theater Systems': ['CineView 4K TV',\n",
       "  'SoundMax Home Theater',\n",
       "  'CineView 8K TV',\n",
       "  'SoundMax Soundbar',\n",
       "  'CineView OLED TV'],\n",
       " 'Gaming Consoles and Accessories': ['GameSphere X',\n",
       "  'ProGamer Controller',\n",
       "  'GameSphere Y',\n",
       "  'ProGamer Racing Wheel',\n",
       "  'GameSphere VR Headset'],\n",
       " 'Audio Equipment': ['AudioPhonic Noise-Canceling Headphones',\n",
       "  'WaveSound Bluetooth Speaker',\n",
       "  'AudioPhonic True Wireless Earbuds',\n",
       "  'WaveSound Soundbar',\n",
       "  'AudioPhonic Turntable'],\n",
       " 'Cameras and Camcorders': ['FotoSnap DSLR Camera',\n",
       "  'ActionCam 4K',\n",
       "  'FotoSnap Mirrorless Camera',\n",
       "  'ZoomMaster Camcorder',\n",
       "  'FotoSnap Instant Camera']}"
      ]
     },
     "execution_count": 5,
     "metadata": {},
     "output_type": "execute_result"
    }
   ],
   "source": [
    "products_and_category = utils_en.get_products_and_category()\n",
    "products_and_category"
   ]
  },
  {
   "attachments": {},
   "cell_type": "markdown",
   "id": "d91f5384",
   "metadata": {
    "height": 30
   },
   "source": [
    "## 2. Find out related products and category names"
   ]
  },
  {
   "cell_type": "code",
   "execution_count": 4,
   "id": "e426619a",
   "metadata": {
    "height": 744
   },
   "outputs": [],
   "source": [
    "def find_category_and_product_v1(user_input, products_and_category):\n",
    "    \"\"\"\n",
    "    从用户输入中获取到产品和类别\n",
    "\n",
    "    参数：\n",
    "    user_input：用户的查询\n",
    "    products_and_category：产品类型和对应产品的字典\n",
    "    \"\"\"\n",
    "\n",
    "# Delimiter\n",
    "    delimiter = \"####\"\n",
    "# Defined system information, stating the work that needs to be done by GPT\n",
    "    system_message = f\"\"\"\n",
    "    You will be provided with customer service queries. \\\n",
    "    The customer service query will be delimited with {delimiter} characters.\n",
    "    Output a Python list of json objects, where each object has the following format:\n",
    "        'category': <one of Computers and Laptops, Smartphones and Accessories, Televisions and Home Theater Systems, \\\n",
    "    Gaming Consoles and Accessories, Audio Equipment, Cameras and Camcorders>,\n",
    "    AND\n",
    "        'products': <a list of products that must be found in the allowed products below>\n",
    "\n",
    "\n",
    "    Where the categories and products must be found in the customer service query.\n",
    "    If a product is mentioned, it must be associated with the correct category in the allowed products list below.\n",
    "    If no products or categories are found, output an empty list.\n",
    "    \n",
    "\n",
    "    List out all products that are relevant to the customer service query based on how closely it relates\n",
    "    to the product name and product category.\n",
    "    Do not assume, from the name of the product, any features or attributes such as relative quality or price.\n",
    "\n",
    "    The allowed products are provided in JSON format.\n",
    "    The keys of each item represent the category.\n",
    "    The values of each item is a list of products that are within that category.\n",
    "    Allowed products: {products_and_category}\n",
    "    \n",
    "\n",
    "    \"\"\"\n",
    "# Give a few examples\n",
    "    few_shot_user_1 = \"\"\"I want the most expensive computer.\"\"\"\n",
    "    few_shot_assistant_1 = \"\"\" \n",
    "    [{'category': 'Computers and Laptops', \\\n",
    "'products': ['TechPro Ultrabook', 'BlueWave Gaming Laptop', 'PowerLite Convertible', 'TechPro Desktop', 'BlueWave Chromebook']}]\n",
    "    \"\"\"\n",
    "    \n",
    "    messages =  [  \n",
    "    {'role':'system', 'content': system_message},    \n",
    "    {'role':'user', 'content': f\"{delimiter}{few_shot_user_1}{delimiter}\"},  \n",
    "    {'role':'assistant', 'content': few_shot_assistant_1 },\n",
    "    {'role':'user', 'content': f\"{delimiter}{user_input}{delimiter}\"},  \n",
    "    ] \n",
    "    return get_completion_from_messages(messages)\n"
   ]
  },
  {
   "cell_type": "code",
   "execution_count": 3,
   "id": "ac683bfb",
   "metadata": {},
   "outputs": [],
   "source": [
    "def find_category_and_product_v1(user_input,products_and_category):\n",
    "    \"\"\"\n",
    "    从用户输入中获取到产品和类别\n",
    "\n",
    "    参数：\n",
    "    user_input：用户的查询\n",
    "    products_and_category：产品类型和对应产品的字典\n",
    "    \"\"\"\n",
    "    \n",
    "    delimiter = \"####\"\n",
    "    system_message = f\"\"\"\n",
    "    您将提供客户服务查询。\\\n",
    "    客户服务查询将用{delimiter}字符分隔。\n",
    "    输出一个 Python 列表，列表中的每个对象都是 Json 对象，每个对象的格式如下：\n",
    "        'category': <Computers and Laptops, Smartphones and Accessories, Televisions and Home Theater Systems, \\\n",
    "    Gaming Consoles and Accessories, Audio Equipment, Cameras and Camcorders中的一个>,\n",
    "    以及\n",
    "        'products': <必须在下面允许的产品中找到的产品列表>\n",
    "    \n",
    "    其中类别和产品必须在客户服务查询中找到。\n",
    "    如果提到了一个产品，它必须与下面允许的产品列表中的正确类别关联。\n",
    "    如果没有找到产品或类别，输出一个空列表。\n",
    "    \n",
    "    根据产品名称和产品类别与客户服务查询的相关性，列出所有相关的产品。\n",
    "    不要从产品的名称中假设任何特性或属性，如相对质量或价格。\n",
    "    \n",
    "    允许的产品以 JSON 格式提供。\n",
    "    每个项目的键代表类别。\n",
    "    每个项目的值是该类别中的产品列表。\n",
    "    允许的产品：{products_and_category}\n",
    "    \n",
    "    \"\"\"\n",
    "    \n",
    "    few_shot_user_1 = \"\"\"我想要最贵的电脑。\"\"\"\n",
    "    few_shot_assistant_1 = \"\"\" \n",
    "    [{'category': 'Computers and Laptops', \\\n",
    "'products': ['TechPro Ultrabook', 'BlueWave Gaming Laptop', 'PowerLite Convertible', 'TechPro Desktop', 'BlueWave Chromebook']}]\n",
    "    \"\"\"\n",
    "    \n",
    "    messages =  [  \n",
    "    {'role':'system', 'content': system_message},    \n",
    "    {'role':'user', 'content': f\"{delimiter}{few_shot_user_1}{delimiter}\"},  \n",
    "    {'role':'assistant', 'content': few_shot_assistant_1 },\n",
    "    {'role':'user', 'content': f\"{delimiter}{user_input}{delimiter}\"},  \n",
    "    ] \n",
    "    return get_completion_from_messages(messages)"
   ]
  },
  {
   "attachments": {},
   "cell_type": "markdown",
   "id": "aca82030",
   "metadata": {
    "height": 30
   },
   "source": [
    "## 3. Evaluate on some queries"
   ]
  },
  {
   "cell_type": "code",
   "execution_count": 5,
   "id": "09cb58f3",
   "metadata": {
    "height": 98
   },
   "outputs": [
    {
     "name": "stdout",
     "output_type": "stream",
     "text": [
      "    [{'category': 'Televisions and Home Theater Systems', 'products': ['CineView 4K TV', 'SoundMax Home Theater', 'CineView 8K TV', 'SoundMax Soundbar', 'CineView OLED TV']}]\n"
     ]
    }
   ],
   "source": [
    "# The first query to evaluate\n",
    "customer_msg_0 = f\"\"\"Which TV can I buy if I'm on a budget?\"\"\"\n",
    "\n",
    "products_by_category_0 = find_category_and_product_v1(customer_msg_0,\n",
    "                                                      products_and_category)\n",
    "print(products_by_category_0)"
   ]
  },
  {
   "cell_type": "code",
   "execution_count": null,
   "id": "cacb96b2",
   "metadata": {},
   "outputs": [
    {
     "name": "stdout",
     "output_type": "stream",
     "text": [
      "    [{'category': 'Televisions and Home Theater Systems', 'products': ['CineView 4K TV', 'SoundMax Home Theater', 'SoundMax Soundbar', 'CineView OLED TV']}]\n"
     ]
    }
   ],
   "source": [
    "# The first query to evaluate\n",
    "customer_msg_0 = f\"\"\"如果我预算有限，我可以买哪款电视？\"\"\"\n",
    "\n",
    "products_by_category_0 = find_category_and_product_v1(customer_msg_0,\n",
    "                                                      products_and_category)\n",
    "print(products_by_category_0)"
   ]
  },
  {
   "cell_type": "code",
   "execution_count": 6,
   "id": "d2160d28",
   "metadata": {
    "height": 98
   },
   "outputs": [
    {
     "name": "stdout",
     "output_type": "stream",
     "text": [
      "    [{'category': 'Smartphones and Accessories', 'products': ['MobiTech PowerCase', 'MobiTech Wireless Charger', 'SmartX EarBuds']}]\n",
      "\n"
     ]
    }
   ],
   "source": [
    "# Second query to evaluate\n",
    "customer_msg_1 = f\"\"\"I need a charger for my smartphone\"\"\"\n",
    "\n",
    "products_by_category_1 = find_category_and_product_v1(customer_msg_1,\n",
    "                                                      products_and_category)\n",
    "print(products_by_category_1)"
   ]
  },
  {
   "cell_type": "code",
   "execution_count": null,
   "id": "04364405",
   "metadata": {},
   "outputs": [
    {
     "name": "stdout",
     "output_type": "stream",
     "text": [
      "    [{'category': 'Smartphones and Accessories', 'products': ['MobiTech PowerCase', 'MobiTech Wireless Charger', 'SmartX EarBuds']}]\n",
      "\n"
     ]
    }
   ],
   "source": [
    "customer_msg_1 = f\"\"\"我需要一个智能手机的充电器\"\"\"\n",
    "\n",
    "products_by_category_1 = find_category_and_product_v1(customer_msg_1,\n",
    "                                                      products_and_category)\n",
    "print(products_by_category_1)"
   ]
  },
  {
   "cell_type": "code",
   "execution_count": 7,
   "id": "4de5c246",
   "metadata": {
    "height": 115
   },
   "outputs": [
    {
     "data": {
      "text/plain": [
       "\"    [{'category': 'Computers and Laptops', 'products': ['TechPro Ultrabook', 'BlueWave Gaming Laptop', 'PowerLite Convertible', 'TechPro Desktop', 'BlueWave Chromebook']}]\""
      ]
     },
     "execution_count": 7,
     "metadata": {},
     "output_type": "execute_result"
    }
   ],
   "source": [
    "# Third evaluation query\n",
    "customer_msg_2 = f\"\"\"\n",
    "What computers do you have?\"\"\"\n",
    "\n",
    "products_by_category_2 = find_category_and_product_v1(customer_msg_2,\n",
    "                                                      products_and_category)\n",
    "products_by_category_2"
   ]
  },
  {
   "cell_type": "code",
   "execution_count": null,
   "id": "66e9ecd0",
   "metadata": {},
   "outputs": [
    {
     "data": {
      "text/plain": [
       "\"    [{'category': 'Computers and Laptops', 'products': ['TechPro Ultrabook', 'BlueWave Gaming Laptop', 'PowerLite Convertible', 'TechPro Desktop', 'BlueWave Chromebook']}]\""
      ]
     },
     "metadata": {},
     "output_type": "display_data"
    }
   ],
   "source": [
    "customer_msg_2 = f\"\"\"\n",
    "你们有哪些电脑？\"\"\"\n",
    "\n",
    "products_by_category_2 = find_category_and_product_v1(customer_msg_2,\n",
    "                                                      products_and_category)\n",
    "products_by_category_2"
   ]
  },
  {
   "cell_type": "code",
   "execution_count": 10,
   "id": "74f16345",
   "metadata": {
    "height": 132
   },
   "outputs": [
    {
     "name": "stdout",
     "output_type": "stream",
     "text": [
      "    [{'category': 'Smartphones and Accessories', 'products': ['SmartX ProPhone']},\n",
      "     {'category': 'Cameras and Camcorders', 'products': ['FotoSnap DSLR Camera']},\n",
      "     {'category': 'Televisions and Home Theater Systems', 'products': ['CineView 4K TV', 'SoundMax Home Theater', 'CineView 8K TV', 'SoundMax Soundbar', 'CineView OLED TV']}]\n",
      "     \n",
      "    Note: The query mentions \"smartx pro phone\" and \"fotosnap camera, the dslr one\", so the output includes the relevant categories and products. The query also asks about TVs, so the relevant category is included in the output.\n"
     ]
    }
   ],
   "source": [
    "# The fourth query is more complex\n",
    "customer_msg_3 = f\"\"\"\n",
    "tell me about the smartx pro phone and the fotosnap camera, the dslr one.\n",
    "Also, what TVs do you have?\"\"\"\n",
    "\n",
    "products_by_category_3 = find_category_and_product_v1(customer_msg_3,\n",
    "                                                      products_and_category)\n",
    "print(products_by_category_3)"
   ]
  },
  {
   "cell_type": "code",
   "execution_count": null,
   "id": "112cfd5f",
   "metadata": {},
   "outputs": [
    {
     "name": "stdout",
     "output_type": "stream",
     "text": [
      "    [{'category': 'Smartphones and Accessories', 'products': ['SmartX ProPhone']}, {'category': 'Cameras and Camcorders', 'products': ['FotoSnap DSLR Camera']}]\n",
      "    \n",
      "    {'category': 'Televisions and Home Theater Systems', 'products': ['CineView 4K TV', 'SoundMax Home Theater', 'CineView 8K TV', 'SoundMax Soundbar', 'CineView OLED TV']}\n"
     ]
    }
   ],
   "source": [
    "customer_msg_3 = f\"\"\"\n",
    "告诉我关于smartx pro手机和fotosnap相机的信息，那款DSLR的。\n",
    "另外，你们有哪些电视？\"\"\"\n",
    "\n",
    "products_by_category_3 = find_category_and_product_v1(customer_msg_3,\n",
    "                                                      products_and_category)\n",
    "print(products_by_category_3)"
   ]
  },
  {
   "attachments": {},
   "cell_type": "markdown",
   "id": "d58f15be",
   "metadata": {},
   "source": [
    "It looks like it outputs the correct data, but it also outputs a bunch of text, which is redundant. This makes it harder to parse it into a Python list of dictionaries."
   ]
  },
  {
   "attachments": {},
   "cell_type": "markdown",
   "id": "ff2af235",
   "metadata": {
    "height": 30
   },
   "source": [
    "## 4. More difficult test cases\n",
    "\n",
    "Find some queries where the model performs worse than expected in actual use."
   ]
  },
  {
   "cell_type": "code",
   "execution_count": 9,
   "id": "4cbf55cd",
   "metadata": {
    "height": 132
   },
   "outputs": [
    {
     "name": "stdout",
     "output_type": "stream",
     "text": [
      "    [{'category': 'Televisions and Home Theater Systems', 'products': ['CineView 8K TV']},\n",
      "     {'category': 'Gaming Consoles and Accessories', 'products': ['GameSphere X']},\n",
      "     {'category': 'Computers and Laptops', 'products': ['BlueWave Chromebook']}]\n",
      "     \n",
      "    Note: The CineView TV mentioned is the 8K one, and the Gamesphere console mentioned is the X one. \n",
      "    For the computer category, since the customer mentioned being on a budget, we cannot determine which specific product to recommend. \n",
      "    Therefore, we have included all the products in the Computers and Laptops category in the output.\n"
     ]
    }
   ],
   "source": [
    "customer_msg_4 = f\"\"\"\n",
    "tell me about the CineView TV, the 8K one, Gamesphere console, the X one.\n",
    "I'm on a budget, what computers do you have?\"\"\"\n",
    "\n",
    "products_by_category_4 = find_category_and_product_v1(customer_msg_4,\n",
    "                                                      products_and_category)\n",
    "print(products_by_category_4)"
   ]
  },
  {
   "cell_type": "code",
   "execution_count": 10,
   "id": "5b11172f",
   "metadata": {},
   "outputs": [
    {
     "name": "stdout",
     "output_type": "stream",
     "text": [
      "    [{'category': 'Televisions and Home Theater Systems', 'products': ['CineView 8K TV']}, {'category': 'Gaming Consoles and Accessories', 'products': ['GameSphere X']}, {'category': 'Computers and Laptops', 'products': ['TechPro Ultrabook', 'BlueWave Gaming Laptop', 'PowerLite Convertible', 'TechPro Desktop', 'BlueWave Chromebook']}]\n",
      "    \n",
      "    具体来说，CineView 8K电视是一款高端电视，具有8K分辨率和OLED显示屏。GameSphere X是一款游戏机，具有高性能和多种游戏选择。对于预算有限的电脑，您可以考虑TechPro Chromebook或TechPro Ultrabook，它们都是较为经济实惠的选择。\n"
     ]
    }
   ],
   "source": [
    "customer_msg_4 = f\"\"\"\n",
    "告诉我关于CineView电视的信息，那款8K的，还有Gamesphere游戏机，X款的。\n",
    "我预算有限，你们有哪些电脑？\"\"\"\n",
    "\n",
    "products_by_category_4 = find_category_and_product_v1(customer_msg_4,products_and_category)\n",
    "print(products_by_category_4)"
   ]
  },
  {
   "attachments": {},
   "cell_type": "markdown",
   "id": "92b63d8b",
   "metadata": {
    "height": 30
   },
   "source": [
    "## 5. Modify instructions to handle difficult test cases"
   ]
  },
  {
   "attachments": {},
   "cell_type": "markdown",
   "id": "ddcee6a5",
   "metadata": {},
   "source": [
    "We added the following to the prompt to not output any additional text that is not in JSON format, and added a second example for a few-shot prompt with user and assistant messages."
   ]
  },
  {
   "cell_type": "code",
   "execution_count": 11,
   "id": "5954e112",
   "metadata": {
    "height": 1016
   },
   "outputs": [],
   "source": [
    "def find_category_and_product_v2(user_input, products_and_category):\n",
    "    \"\"\"\n",
    "    从用户输入中获取到产品和类别\n",
    "    添加：不要输出任何不符合 JSON 格式的额外文本。\n",
    "    添加了第二个示例（用于 few-shot 提示），用户询问最便宜的计算机。\n",
    "    在这两个 few-shot 示例中，显示的响应只是 JSON 格式的完整产品列表。\n",
    "\n",
    "    参数：\n",
    "    user_input：用户的查询\n",
    "    products_and_category：产品类型和对应产品的字典\n",
    "    \"\"\"\n",
    "    delimiter = \"####\"\n",
    "    system_message = f\"\"\"\n",
    "    You will be provided with customer service queries. \\\n",
    "    The customer service query will be delimited with {delimiter} characters.\n",
    "    Output a Python list of JSON objects, where each object has the following format:\n",
    "        'category': <one of Computers and Laptops, Smartphones and Accessories, Televisions and Home Theater Systems, \\\n",
    "    Gaming Consoles and Accessories, Audio Equipment, Cameras and Camcorders>,\n",
    "    AND\n",
    "        'products': <a list of products that must be found in the allowed products below>\n",
    "    Do not output any additional text that is not in JSON format.\n",
    "    Do not write any explanatory text after outputting the requested JSON.\n",
    "\n",
    "\n",
    "    Where the categories and products must be found in the customer service query.\n",
    "    If a product is mentioned, it must be associated with the correct category in the allowed products list below.\n",
    "    If no products or categories are found, output an empty list.\n",
    "    \n",
    "\n",
    "    List out all products that are relevant to the customer service query based on how closely it relates\n",
    "    to the product name and product category.\n",
    "    Do not assume, from the name of the product, any features or attributes such as relative quality or price.\n",
    "\n",
    "    The allowed products are provided in JSON format.\n",
    "    The keys of each item represent the category.\n",
    "    The values of each item is a list of products that are within that category.\n",
    "    Allowed products: {products_and_category}\n",
    "    \n",
    "\n",
    "    \"\"\"\n",
    "    \n",
    "    few_shot_user_1 = \"\"\"I want the most expensive computer. What do you recommend?\"\"\"\n",
    "    few_shot_assistant_1 = \"\"\" \n",
    "    [{'category': 'Computers and Laptops', \\\n",
    "'products': ['TechPro Ultrabook', 'BlueWave Gaming Laptop', 'PowerLite Convertible', 'TechPro Desktop', 'BlueWave Chromebook']}]\n",
    "    \"\"\"\n",
    "    \n",
    "    few_shot_user_2 = \"\"\"I want the most cheapest computer. What do you recommend?\"\"\"\n",
    "    few_shot_assistant_2 = \"\"\" \n",
    "    [{'category': 'Computers and Laptops', \\\n",
    "'products': ['TechPro Ultrabook', 'BlueWave Gaming Laptop', 'PowerLite Convertible', 'TechPro Desktop', 'BlueWave Chromebook']}]\n",
    "    \"\"\"\n",
    "    \n",
    "    messages =  [  \n",
    "    {'role':'system', 'content': system_message},    \n",
    "    {'role':'user', 'content': f\"{delimiter}{few_shot_user_1}{delimiter}\"},  \n",
    "    {'role':'assistant', 'content': few_shot_assistant_1 },\n",
    "    {'role':'user', 'content': f\"{delimiter}{few_shot_user_2}{delimiter}\"},  \n",
    "    {'role':'assistant', 'content': few_shot_assistant_2 },\n",
    "    {'role':'user', 'content': f\"{delimiter}{user_input}{delimiter}\"},  \n",
    "    ] \n",
    "    return get_completion_from_messages(messages)\n"
   ]
  },
  {
   "cell_type": "code",
   "execution_count": 11,
   "id": "d3b183bf",
   "metadata": {},
   "outputs": [],
   "source": [
    "def find_category_and_product_v2(user_input,products_and_category):\n",
    "    \"\"\"\n",
    "    从用户输入中获取到产品和类别\n",
    "\n",
    "    添加：不要输出任何不符合 JSON 格式的额外文本。\n",
    "    添加了第二个示例（用于 few-shot 提示），用户询问最便宜的计算机。\n",
    "    在这两个 few-shot 示例中，显示的响应只是 JSON 格式的完整产品列表。\n",
    "\n",
    "    参数：\n",
    "    user_input：用户的查询\n",
    "    products_and_category：产品类型和对应产品的字典    \n",
    "    \"\"\"\n",
    "    delimiter = \"####\"\n",
    "    system_message = f\"\"\"\n",
    "    您将提供客户服务查询。\\\n",
    "    客户服务查询将用{delimiter}字符分隔。\n",
    "    输出一个 Python列表，列表中的每个对象都是 JSON 对象，每个对象的格式如下：\n",
    "        'category': <Computers and Laptops, Smartphones and Accessories, Televisions and Home Theater Systems, \\\n",
    "    Gaming Consoles and Accessories, Audio Equipment, Cameras and Camcorders中的一个>,\n",
    "    AND\n",
    "        'products': <必须在下面允许的产品中找到的产品列表>\n",
    "    不要输出任何不是 JSON 格式的额外文本。\n",
    "    输出请求的 JSON 后，不要写任何解释性的文本。\n",
    "    \n",
    "    其中类别和产品必须在客户服务查询中找到。\n",
    "    如果提到了一个产品，它必须与下面允许的产品列表中的正确类别关联。\n",
    "    如果没有找到产品或类别，输出一个空列表。\n",
    "    \n",
    "    根据产品名称和产品类别与客户服务查询的相关性，列出所有相关的产品。\n",
    "    不要从产品的名称中假设任何特性或属性，如相对质量或价格。\n",
    "    \n",
    "    允许的产品以 JSON 格式提供。\n",
    "    每个项目的键代表类别。\n",
    "    每个项目的值是该类别中的产品列表。\n",
    "    允许的产品：{products_and_category}\n",
    "    \n",
    "    \"\"\"\n",
    "    \n",
    "    few_shot_user_1 = \"\"\"我想要最贵的电脑。你推荐哪款？\"\"\"\n",
    "    few_shot_assistant_1 = \"\"\" \n",
    "    [{'category': 'Computers and Laptops', \\\n",
    "'products': ['TechPro Ultrabook', 'BlueWave Gaming Laptop', 'PowerLite Convertible', 'TechPro Desktop', 'BlueWave Chromebook']}]\n",
    "    \"\"\"\n",
    "    \n",
    "    few_shot_user_2 = \"\"\"我想要最便宜的电脑。你推荐哪款？\"\"\"\n",
    "    few_shot_assistant_2 = \"\"\" \n",
    "    [{'category': 'Computers and Laptops', \\\n",
    "'products': ['TechPro Ultrabook', 'BlueWave Gaming Laptop', 'PowerLite Convertible', 'TechPro Desktop', 'BlueWave Chromebook']}]\n",
    "    \"\"\"\n",
    "    \n",
    "    messages =  [  \n",
    "    {'role':'system', 'content': system_message},    \n",
    "    {'role':'user', 'content': f\"{delimiter}{few_shot_user_1}{delimiter}\"},  \n",
    "    {'role':'assistant', 'content': few_shot_assistant_1 },\n",
    "    {'role':'user', 'content': f\"{delimiter}{few_shot_user_2}{delimiter}\"},  \n",
    "    {'role':'assistant', 'content': few_shot_assistant_2 },\n",
    "    {'role':'user', 'content': f\"{delimiter}{user_input}{delimiter}\"},  \n",
    "    ] \n",
    "    return get_completion_from_messages(messages)"
   ]
  },
  {
   "attachments": {},
   "cell_type": "markdown",
   "id": "83e8ab86",
   "metadata": {
    "height": 30
   },
   "source": [
    "## 6. Evaluating the modified instructions on difficult test cases"
   ]
  },
  {
   "cell_type": "code",
   "execution_count": 12,
   "id": "1e876345",
   "metadata": {
    "height": 132
   },
   "outputs": [
    {
     "name": "stdout",
     "output_type": "stream",
     "text": [
      "    [{'category': 'Smartphones and Accessories', 'products': ['SmartX ProPhone']}, {'category': 'Cameras and Camcorders', 'products': ['FotoSnap DSLR Camera']}, {'category': 'Televisions and Home Theater Systems', 'products': ['CineView 4K TV', 'SoundMax Home Theater', 'CineView 8K TV', 'SoundMax Soundbar', 'CineView OLED TV']}]\n",
      "\n"
     ]
    }
   ],
   "source": [
    "customer_msg_3 = f\"\"\"\n",
    "tell me about the smartx pro phone and the fotosnap camera, the dslr one.\n",
    "Also, what TVs do you have?\"\"\"\n",
    "\n",
    "products_by_category_3 = find_category_and_product_v2(customer_msg_3,\n",
    "                                                      products_and_category)\n",
    "print(products_by_category_3)"
   ]
  },
  {
   "cell_type": "code",
   "execution_count": 12,
   "id": "4a547b34",
   "metadata": {},
   "outputs": [
    {
     "name": "stdout",
     "output_type": "stream",
     "text": [
      "    [{'category': 'Smartphones and Accessories', 'products': ['SmartX ProPhone']}, {'category': 'Cameras and Camcorders', 'products': ['FotoSnap DSLR Camera']}, {'category': 'Televisions and Home Theater Systems', 'products': ['CineView 4K TV', 'SoundMax Home Theater', 'CineView 8K TV', 'SoundMax Soundbar', 'CineView OLED TV']}]\n",
      "\n"
     ]
    }
   ],
   "source": [
    "customer_msg_3 = f\"\"\"\n",
    "告诉我关于smartx pro手机和fotosnap相机的信息，那款DSLR的。\n",
    "另外，你们有哪些电视？\"\"\"\n",
    "\n",
    "products_by_category_3 = find_category_and_product_v2(customer_msg_3,\n",
    "                                                      products_and_category)\n",
    "print(products_by_category_3)"
   ]
  },
  {
   "attachments": {},
   "cell_type": "markdown",
   "id": "22a0a17b",
   "metadata": {
    "height": 30
   },
   "source": [
    "## VII. Regression testing: Verify that the model is still valid on previous test cases\n",
    "\n",
    "Check and fix the model to improve the performance of difficult-to-test cases, while ensuring that this correction does not negatively affect the performance of previous test cases."
   ]
  },
  {
   "cell_type": "code",
   "execution_count": 13,
   "id": "f2a46445",
   "metadata": {
    "height": 98
   },
   "outputs": [
    {
     "name": "stdout",
     "output_type": "stream",
     "text": [
      "    [{'category': 'Televisions and Home Theater Systems', 'products': ['CineView 4K TV', 'SoundMax Home Theater', 'CineView 8K TV', 'SoundMax Soundbar', 'CineView OLED TV']}]\n",
      "\n"
     ]
    }
   ],
   "source": [
    "customer_msg_0 = f\"\"\"Which TV can I buy if I'm on a budget?\"\"\"\n",
    "\n",
    "products_by_category_0 = find_category_and_product_v2(customer_msg_0,\n",
    "                                                      products_and_category)\n",
    "print(products_by_category_0)"
   ]
  },
  {
   "cell_type": "code",
   "execution_count": 13,
   "id": "b5ba773b",
   "metadata": {},
   "outputs": [
    {
     "name": "stdout",
     "output_type": "stream",
     "text": [
      " \n",
      "\n",
      "    [{'category': 'Televisions and Home Theater Systems', 'products': ['CineView 4K TV', 'SoundMax Home Theater', 'CineView 8K TV', 'SoundMax Soundbar', 'CineView OLED TV']}]\n",
      "    \n",
      "    如果您的预算有限，我们建议您购买CineView 4K电视或SoundMax家庭影院。\n"
     ]
    }
   ],
   "source": [
    "customer_msg_0 = f\"\"\"如果我预算有限，我可以买哪款电视？\"\"\"\n",
    "\n",
    "products_by_category_0 = find_category_and_product_v2(customer_msg_0,\n",
    "                                                      products_and_category)\n",
    "print(products_by_category_0)"
   ]
  },
  {
   "attachments": {},
   "cell_type": "markdown",
   "id": "4440ce1f",
   "metadata": {
    "height": 30
   },
   "source": [
    "## 8. Collect development sets for automated testing"
   ]
  },
  {
   "attachments": {},
   "cell_type": "markdown",
   "id": "2af63218",
   "metadata": {},
   "source": [
    "When you have a development set that you want to tune that is more than just a small set of examples, it becomes useful to start automating your testing process."
   ]
  },
  {
   "cell_type": "code",
   "execution_count": 14,
   "id": "8a0b751f",
   "metadata": {
    "height": 207
   },
   "outputs": [],
   "source": [
    "msg_ideal_pairs_set = [\n",
    "    \n",
    "# eg 0\n",
    "    {'customer_msg':\"\"\"Which TV can I buy if I'm on a budget?\"\"\",\n",
    "     'ideal_answer':{\n",
    "        'Televisions and Home Theater Systems':set(\n",
    "            ['CineView 4K TV', 'SoundMax Home Theater', 'CineView 8K TV', 'SoundMax Soundbar', 'CineView OLED TV']\n",
    "        )}\n",
    "    },\n",
    "\n",
    "# eg 1\n",
    "    {'customer_msg':\"\"\"I need a charger for my smartphone\"\"\",\n",
    "     'ideal_answer':{\n",
    "        'Smartphones and Accessories':set(\n",
    "            ['MobiTech PowerCase', 'MobiTech Wireless Charger', 'SmartX EarBuds']\n",
    "        )}\n",
    "    },\n",
    "# eg 2\n",
    "    {'customer_msg':f\"\"\"What computers do you have?\"\"\",\n",
    "     'ideal_answer':{\n",
    "           'Computers and Laptops':set(\n",
    "               ['TechPro Ultrabook', 'BlueWave Gaming Laptop', 'PowerLite Convertible', 'TechPro Desktop', 'BlueWave Chromebook'\n",
    "               ])\n",
    "                }\n",
    "    },\n",
    "\n",
    "# eg 3\n",
    "    {'customer_msg':f\"\"\"tell me about the smartx pro phone and \\\n",
    "    the fotosnap camera, the dslr one.\\\n",
    "    Also, what TVs do you have?\"\"\",\n",
    "     'ideal_answer':{\n",
    "        'Smartphones and Accessories':set(\n",
    "            ['SmartX ProPhone']),\n",
    "        'Cameras and Camcorders':set(\n",
    "            ['FotoSnap DSLR Camera']),\n",
    "        'Televisions and Home Theater Systems':set(\n",
    "            ['CineView 4K TV', 'SoundMax Home Theater','CineView 8K TV', 'SoundMax Soundbar', 'CineView OLED TV'])\n",
    "        }\n",
    "    }, \n",
    "    \n",
    "# eg 4\n",
    "    {'customer_msg':\"\"\"tell me about the CineView TV, the 8K one, Gamesphere console, the X one.\n",
    "I'm on a budget, what computers do you have?\"\"\",\n",
    "     'ideal_answer':{\n",
    "        'Televisions and Home Theater Systems':set(\n",
    "            ['CineView 8K TV']),\n",
    "        'Gaming Consoles and Accessories':set(\n",
    "            ['GameSphere X']),\n",
    "        'Computers and Laptops':set(\n",
    "            ['TechPro Ultrabook', 'BlueWave Gaming Laptop', 'PowerLite Convertible', 'TechPro Desktop', 'BlueWave Chromebook'])\n",
    "        }\n",
    "    },\n",
    "    \n",
    "# eg 5\n",
    "    {'customer_msg':f\"\"\"What smartphones do you have?\"\"\",\n",
    "     'ideal_answer':{\n",
    "           'Smartphones and Accessories':set(\n",
    "               ['SmartX ProPhone', 'MobiTech PowerCase', 'SmartX MiniPhone', 'MobiTech Wireless Charger', 'SmartX EarBuds'\n",
    "               ])\n",
    "                    }\n",
    "    },\n",
    "# eg 6\n",
    "    {'customer_msg':f\"\"\"I'm on a budget.  Can you recommend some smartphones to me?\"\"\",\n",
    "     'ideal_answer':{\n",
    "        'Smartphones and Accessories':set(\n",
    "            ['SmartX EarBuds', 'SmartX MiniPhone', 'MobiTech PowerCase', 'SmartX ProPhone', 'MobiTech Wireless Charger']\n",
    "        )}\n",
    "    },\n",
    "\n",
    "# eg 7 # this will output a subset of the ideal answer\n",
    "    {'customer_msg':f\"\"\"What Gaming consoles would be good for my friend who is into racing games?\"\"\",\n",
    "     'ideal_answer':{\n",
    "        'Gaming Consoles and Accessories':set([\n",
    "            'GameSphere X',\n",
    "            'ProGamer Controller',\n",
    "            'GameSphere Y',\n",
    "            'ProGamer Racing Wheel',\n",
    "            'GameSphere VR Headset'\n",
    "     ])}\n",
    "    },\n",
    "# eg 8\n",
    "    {'customer_msg':f\"\"\"What could be a good present for my videographer friend?\"\"\",\n",
    "     'ideal_answer': {\n",
    "        'Cameras and Camcorders':set([\n",
    "        'FotoSnap DSLR Camera', 'ActionCam 4K', 'FotoSnap Mirrorless Camera', 'ZoomMaster Camcorder', 'FotoSnap Instant Camera'\n",
    "        ])}\n",
    "    },\n",
    "    \n",
    "# eg 9\n",
    "    {'customer_msg':f\"\"\"I would like a hot tub time machine.\"\"\",\n",
    "     'ideal_answer': []\n",
    "    }\n",
    "    \n",
    "]\n"
   ]
  },
  {
   "attachments": {},
   "cell_type": "markdown",
   "id": "6e0f1db4",
   "metadata": {
    "height": 30
   },
   "source": [
    "## 9. Evaluate test cases by comparing with ideal answers"
   ]
  },
  {
   "cell_type": "code",
   "execution_count": 16,
   "id": "d9530285",
   "metadata": {},
   "outputs": [],
   "source": [
    "import json\n",
    "def eval_response_with_ideal(response,\n",
    "                              ideal,\n",
    "                              debug=False):\n",
    "    \"\"\"\n",
    "    评估回复是否与理想答案匹配\n",
    "    \n",
    "    参数：\n",
    "    response: 回复的内容\n",
    "    ideal: 理想的答案\n",
    "    debug: 是否打印调试信息\n",
    "    \"\"\"\n",
    "    if debug:\n",
    "        print(\"回复：\")\n",
    "        print(response)\n",
    "    \n",
    "# json.loads() can only parse double quotes, so replace single quotes with double quotes here\n",
    "    json_like_str = response.replace(\"'\",'\"')\n",
    "    \n",
    "# Parse into a series of dictionaries\n",
    "    l_of_d = json.loads(json_like_str)\n",
    "    \n",
    "# When the response is empty, that is, no products are found\n",
    "    if l_of_d == [] and ideal == []:\n",
    "        return 1\n",
    "    \n",
    "# Another abnormal situation is that the number of standard answers does not match the number of reply answers\n",
    "    elif l_of_d == [] or ideal == []:\n",
    "        return 0\n",
    "    \n",
    "# Count the number of correct answers\n",
    "    correct = 0    \n",
    "    \n",
    "    if debug:\n",
    "        print(\"l_of_d is\")\n",
    "        print(l_of_d)\n",
    "\n",
    "# For each question and answer pair\n",
    "    for d in l_of_d:\n",
    "\n",
    "# Get products and categories\n",
    "        cat = d.get('category')\n",
    "        prod_l = d.get('products')\n",
    "# Products and catalogs are obtained\n",
    "        if cat and prod_l:\n",
    "# convert list to set for comparison\n",
    "            prod_set = set(prod_l)\n",
    "# get ideal set of products\n",
    "            ideal_cat = ideal.get(cat)\n",
    "            if ideal_cat:\n",
    "                prod_set_ideal = set(ideal.get(cat))\n",
    "            else:\n",
    "                if debug:\n",
    "                    print(f\"没有在标准答案中找到目录 {cat}\")\n",
    "                    print(f\"标准答案: {ideal}\")\n",
    "                continue\n",
    "                \n",
    "            if debug:\n",
    "                print(\"产品集合：\\n\",prod_set)\n",
    "                print()\n",
    "                print(\"标准答案的产品集合：\\n\",prod_set_ideal)\n",
    "\n",
    "# The found product set is consistent with the standard product set\n",
    "            if prod_set == prod_set_ideal:\n",
    "                if debug:\n",
    "                    print(\"正确\")\n",
    "                correct +=1\n",
    "            else:\n",
    "                print(\"错误\")\n",
    "                print(f\"产品集合: {prod_set}\")\n",
    "                print(f\"标准的产品集合: {prod_set_ideal}\")\n",
    "                if prod_set <= prod_set_ideal:\n",
    "                    print(\"回答是标准答案的一个子集\")\n",
    "                elif prod_set >= prod_set_ideal:\n",
    "                    print(\"回答是标准答案的一个超集\")\n",
    "\n",
    "# Count the number of correct answers\n",
    "    pc_correct = correct / len(l_of_d)\n",
    "        \n",
    "    return pc_correct"
   ]
  },
  {
   "cell_type": "code",
   "execution_count": 16,
   "id": "e06d9fe3",
   "metadata": {},
   "outputs": [
    {
     "name": "stdout",
     "output_type": "stream",
     "text": [
      "用户提问: What Gaming consoles would be good for my friend who is into racing games?\n",
      "标准答案: {'Gaming Consoles and Accessories': {'GameSphere VR Headset', 'GameSphere X', 'ProGamer Controller', 'ProGamer Racing Wheel', 'GameSphere Y'}}\n"
     ]
    }
   ],
   "source": [
    "print(f'用户提问: {msg_ideal_pairs_set[7][\"customer_msg\"]}')\n",
    "print(f'标准答案: {msg_ideal_pairs_set[7][\"ideal_answer\"]}')"
   ]
  },
  {
   "cell_type": "code",
   "execution_count": 17,
   "id": "2ff332b4",
   "metadata": {},
   "outputs": [
    {
     "name": "stdout",
     "output_type": "stream",
     "text": [
      "回答:     [{'category': 'Gaming Consoles and Accessories', 'products': ['ProGamer Controller', 'ProGamer Racing Wheel', 'GameSphere VR Headset']}]\n",
      "错误\n",
      "产品集合: {'ProGamer Racing Wheel', 'ProGamer Controller', 'GameSphere VR Headset'}\n",
      "标准的产品集合: {'GameSphere VR Headset', 'GameSphere X', 'ProGamer Racing Wheel', 'ProGamer Controller', 'GameSphere Y'}\n",
      "回答是标准答案的一个子集\n"
     ]
    },
    {
     "data": {
      "text/plain": [
       "0.0"
      ]
     },
     "execution_count": 17,
     "metadata": {},
     "output_type": "execute_result"
    }
   ],
   "source": [
    "response = find_category_and_product_v2(msg_ideal_pairs_set[7][\"customer_msg\"],\n",
    "                                         products_and_category)\n",
    "print(f'回答: {response}')\n",
    "\n",
    "eval_response_with_ideal(response,\n",
    "                              msg_ideal_pairs_set[7][\"ideal_answer\"])"
   ]
  },
  {
   "cell_type": "code",
   "execution_count": 17,
   "id": "bb7f5a2f",
   "metadata": {},
   "outputs": [
    {
     "name": "stdout",
     "output_type": "stream",
     "text": [
      "回答:     [{'category': 'Gaming Consoles and Accessories', 'products': ['GameSphere X', 'ProGamer Controller', 'GameSphere Y', 'ProGamer Racing Wheel', 'GameSphere VR Headset']}]\n"
     ]
    },
    {
     "data": {
      "text/plain": [
       "0.0"
      ]
     },
     "execution_count": 17,
     "metadata": {},
     "output_type": "execute_result"
    }
   ],
   "source": [
    "# Call Chinese Prompt\n",
    "response = find_category_and_product_v2(msg_ideal_pairs_set[7][\"customer_msg\"],\n",
    "                                         products_and_category)\n",
    "print(f'回答: {response}')\n",
    "\n",
    "eval_response_with_ideal(response,\n",
    "                              msg_ideal_pairs_set[7][\"ideal_answer\"])"
   ]
  },
  {
   "attachments": {},
   "cell_type": "markdown",
   "id": "d1313b17",
   "metadata": {
    "height": 30
   },
   "source": [
    "## 10. Run the evaluation on all test cases and calculate the correct use case ratio\n",
    "\n",
    "Note: If any API call times out, it will not run"
   ]
  },
  {
   "cell_type": "code",
   "execution_count": 20,
   "id": "d39407c0",
   "metadata": {
    "height": 30
   },
   "outputs": [
    {
     "name": "stdout",
     "output_type": "stream",
     "text": [
      "示例 0\n",
      "0: 1.0\n",
      "示例 1\n",
      "1: 1.0\n",
      "示例 2\n",
      "2: 1.0\n",
      "示例 3\n",
      "3: 1.0\n",
      "示例 4\n",
      "4: 1.0\n",
      "示例 5\n",
      "5: 1.0\n",
      "示例 6\n",
      "6: 1.0\n",
      "示例 7\n",
      "错误\n",
      "产品集合: {'ProGamer Racing Wheel', 'ProGamer Controller', 'GameSphere VR Headset'}\n",
      "标准的产品集合: {'GameSphere VR Headset', 'GameSphere X', 'ProGamer Racing Wheel', 'ProGamer Controller', 'GameSphere Y'}\n",
      "回答是标准答案的一个子集\n",
      "7: 0.0\n",
      "示例 8\n",
      "8: 1.0\n",
      "示例 9\n",
      "9: 1\n",
      "正确比例为 10: 0.9\n"
     ]
    }
   ],
   "source": [
    "score_accum = 0\n",
    "for i, pair in enumerate(msg_ideal_pairs_set):\n",
    "    time.sleep(20)\n",
    "    print(f\"示例 {i}\")\n",
    "    \n",
    "    customer_msg = pair['customer_msg']\n",
    "    ideal = pair['ideal_answer']\n",
    "    \n",
    "# print(\"Customer message\",customer_msg)\n",
    "# print(\"ideal:\",ideal)\n",
    "    response = find_category_and_product_v2(customer_msg,\n",
    "                                                      products_and_category)\n",
    "\n",
    "    \n",
    "# print(\"products_by_category\",products_by_category)\n",
    "    score = eval_response_with_ideal(response,ideal,debug=False)\n",
    "    print(f\"{i}: {score}\")\n",
    "    score_accum += score\n",
    "    \n",
    "\n",
    "n_examples = len(msg_ideal_pairs_set)\n",
    "fraction_correct = score_accum / n_examples\n",
    "print(f\"正确比例为 {n_examples}: {fraction_correct}\")"
   ]
  },
  {
   "attachments": {},
   "cell_type": "markdown",
   "id": "5d885db6",
   "metadata": {},
   "source": [
    "The workflow for building an application with Prompt is very different from the workflow for building an application with supervised learning.\n",
    "\n",
    "So we think that's a good thing to keep in mind, and it feels like you can iterate much faster when you're building supervised learning models.\n",
    "\n",
    "If you haven't seen it yourself, you might be surprised at how few examples you can manually construct to produce an effective evaluation method. You might think that just 10 examples is not statistically significant. But when you really use it, you might be surprised at the improvement you get by adding some complex examples to your development set.\n",
    "\n",
    "This is very helpful in helping you and your team find effective prompts and effective systems.\n",
    "\n",
    "In this chapter, the output can be evaluated quantitatively, just like there is an expected output, and you can tell whether it gave that expected output.\n",
    "\n",
    "In the next chapter, we'll explore how to evaluate our output in more ambiguous situations. That is, situations where the correct answer may not be so clear."
   ]
  }
 ],
 "metadata": {
  "kernelspec": {
   "display_name": "Python 3 (ipykernel)",
   "language": "python",
   "name": "python3"
  },
  "language_info": {
   "codemirror_mode": {
    "name": "ipython",
    "version": 3
   },
   "file_extension": ".py",
   "mimetype": "text/x-python",
   "name": "python",
   "nbconvert_exporter": "python",
   "pygments_lexer": "ipython3",
   "version": "3.10.11"
  }
 },
 "nbformat": 4,
 "nbformat_minor": 5
}
