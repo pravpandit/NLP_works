{
 "cells": [
  {
   "attachments": {},
   "cell_type": "markdown",
   "id": "63651c26",
   "metadata": {},
   "source": [
    "# Chapter 3 Evaluation Input - Classification\n",
    "\n",
    "- [I. Environment Configuration](#I. Environment Configuration)\n",
    "- [II. Classify User Instructions](#II. Classify User Instructions)"
   ]
  },
  {
   "attachments": {},
   "cell_type": "markdown",
   "id": "b12f80c9",
   "metadata": {},
   "source": [
    "In this chapter, we will focus on evaluating input tasks, which is critical to ensuring the quality and security of the system.\n",
    "\n",
    "For tasks that require handling many independent sets of instructions in different situations, it is beneficial to first classify the query type and use this as a basis to determine which instructions to use.\n",
    "\n",
    "This can be achieved by defining fixed categories and hard-coding the instructions that are relevant to handling tasks in a given category.\n",
    "\n",
    "For example, when building a customer service assistant, it may be important to first classify the query type and then determine which instructions to use based on that classification.\n",
    "\n",
    "As a specific example, if the user asks to close their account, then the secondary instruction may be to add additional instructions on how to close the account; whereas if the user asks for information about a specific product, then the secondary instruction may be to add more product information."
   ]
  },
  {
   "attachments": {},
   "cell_type": "markdown",
   "id": "87d9de1d",
   "metadata": {},
   "source": [
    "## 1. Environment Configuration\n",
    "As in the previous chapter, we first need to configure the environment to use the OpenAI API"
   ]
  },
  {
   "cell_type": "code",
   "execution_count": 9,
   "id": "55ee24ab",
   "metadata": {},
   "outputs": [],
   "source": [
    "import openai\n",
    "# Import third-party libraries\n",
    "\n",
    "openai.api_key  = \"sk-...\"\n",
    "# Set API_KEY, please replace it with your own API_KEY\n",
    "\n",
    "# The following is an example of a configuration method based on environment variables, which is safer. It is for reference only and will not be covered later.\n",
    "# import openai\n",
    "# import os\n",
    "# OPENAI_API_KEY = os.environ.get(\"OPENAI_API_KEY\")\n",
    "# openai.api_key = OPENAI_API_KEY"
   ]
  },
  {
   "cell_type": "code",
   "execution_count": 2,
   "id": "0318b89e",
   "metadata": {},
   "outputs": [],
   "source": [
    "def get_completion_from_messages(messages, \n",
    "                                model=\"gpt-3.5-turbo\", \n",
    "                                temperature=0, \n",
    "                                max_tokens=500):\n",
    "    '''\n",
    "    封装一个访问 OpenAI GPT3.5 的函数\n",
    "\n",
    "    参数: \n",
    "    messages: 这是一个消息列表，每个消息都是一个字典，包含 role(角色）和 content(内容)。角色可以是'system'、'user' 或 'assistant’，内容是角色的消息。\n",
    "    model: 调用的模型，默认为 gpt-3.5-turbo(ChatGPT)，有内测资格的用户可以选择 gpt-4\n",
    "    temperature: 这决定模型输出的随机程度，默认为0，表示输出将非常确定。增加温度会使输出更随机。\n",
    "    max_tokens: 这决定模型输出的最大的 token 数。\n",
    "    '''\n",
    "    response = openai.ChatCompletion.create(\n",
    "        model=model,\n",
    "        messages=messages,\n",
    "        temperature=temperature, # 这决定模型输出的随机程度\n",
    "        max_tokens=max_tokens, # 这决定模型输出的最大的 token 数\n",
    "    )\n",
    "    return response.choices[0].message[\"content\"]"
   ]
  },
  {
   "attachments": {},
   "cell_type": "markdown",
   "id": "f2b55807",
   "metadata": {},
   "source": [
    "## 2. Classify user instructions"
   ]
  },
  {
   "attachments": {},
   "cell_type": "markdown",
   "id": "c3216166",
   "metadata": {},
   "source": [
    "Here, we use system_message as the global guide for the system and choose `#` as the delimiter.\n",
    "\n",
    "A delimiter is a tool used to distinguish different parts of a command or output. It helps the model identify the parts, thereby improving the accuracy and efficiency of the system in performing specific tasks.\n",
    "\n",
    "In this example, we choose to use `#` as the delimiter.\n",
    "\n",
    "`#` is an ideal delimiter because it can be treated as an independent token."
   ]
  },
  {
   "cell_type": "code",
   "execution_count": 3,
   "id": "3b406ba8",
   "metadata": {},
   "outputs": [],
   "source": [
    "delimiter = \"####\""
   ]
  },
  {
   "attachments": {},
   "cell_type": "markdown",
   "id": "049d0d82",
   "metadata": {},
   "source": [
    "This is our system message and we are asking the model in the following way."
   ]
  },
  {
   "cell_type": "code",
   "execution_count": 4,
   "id": "29e2d170",
   "metadata": {},
   "outputs": [],
   "source": [
    "system_message = f\"\"\"\n",
    "You will be provided with customer service queries. \\\n",
    "The customer service query will be delimited with \\\n",
    "{delimiter} characters.\n",
    "Classify each query into a primary category \\\n",
    "and a secondary category. \n",
    "Provide your output in json format with the \\\n",
    "keys: primary and secondary.\n",
    "\n",
    "Primary categories: Billing, Technical Support, \\\n",
    "Account Management, or General Inquiry.\n",
    "\n",
    "Billing secondary categories:\n",
    "Unsubscribe or upgrade\n",
    "Add a payment method\n",
    "Explanation for charge\n",
    "Dispute a charge\n",
    "\n",
    "Technical Support secondary categories:\n",
    "General troubleshooting\n",
    "Device compatibility\n",
    "Software updates\n",
    "\n",
    "Account Management secondary categories:\n",
    "Password reset\n",
    "Update personal information\n",
    "Close account\n",
    "Account security\n",
    "\n",
    "General Inquiry secondary categories:\n",
    "Product information\n",
    "Pricing\n",
    "Feedback\n",
    "Speak to a human\n",
    "\n",
    "\"\"\""
   ]
  },
  {
   "cell_type": "code",
   "execution_count": 5,
   "id": "61f4b474",
   "metadata": {},
   "outputs": [],
   "source": [
    "system_message = f\"\"\"\n",
    "你将获得客户服务查询。\n",
    "每个客户服务查询都将用{delimiter}字符分隔。\n",
    "将每个查询分类到一个主要类别和一个次要类别中。\n",
    "以 JSON 格式提供你的输出，包含以下键：primary 和 secondary。\n",
    "\n",
    "主要类别：计费（Billing）、技术支持（Technical Support）、账户管理（Account Management）或一般咨询（General Inquiry）。\n",
    "\n",
    "计费次要类别：\n",
    "取消订阅或升级（Unsubscribe or upgrade）\n",
    "添加付款方式（Add a payment method）\n",
    "收费解释（Explanation for charge）\n",
    "争议费用（Dispute a charge）\n",
    "\n",
    "技术支持次要类别：\n",
    "常规故障排除（General troubleshooting）\n",
    "设备兼容性（Device compatibility）\n",
    "软件更新（Software updates）\n",
    "\n",
    "账户管理次要类别：\n",
    "重置密码（Password reset）\n",
    "更新个人信息（Update personal information）\n",
    "关闭账户（Close account）\n",
    "账户安全（Account security）\n",
    "\n",
    "一般咨询次要类别：\n",
    "产品信息（Product information）\n",
    "定价（Pricing）\n",
    "反馈（Feedback）\n",
    "与人工对话（Speak to a human）\n",
    "\n",
    "\"\"\""
   ]
  },
  {
   "attachments": {},
   "cell_type": "markdown",
   "id": "e6a932ce",
   "metadata": {},
   "source": [
    "Now let's look at an example of a user message."
   ]
  },
  {
   "cell_type": "code",
   "execution_count": 26,
   "id": "2b2df0bf",
   "metadata": {},
   "outputs": [],
   "source": [
    "user_message = f\"\"\"\\ \n",
    "I want you to delete my profile and all of my user data\"\"\""
   ]
  },
  {
   "cell_type": "code",
   "execution_count": 6,
   "id": "3b8070bf",
   "metadata": {},
   "outputs": [],
   "source": [
    "user_message = f\"\"\"\\ \n",
    "我希望你删除我的个人资料和所有用户数据。\"\"\""
   ]
  },
  {
   "attachments": {},
   "cell_type": "markdown",
   "id": "3a2c1cf0",
   "metadata": {},
   "source": [
    "Format this message as a list of messages, with system messages and user messages separated by \"####\".\n",
    "\n",
    "Let's think about which category this sentence belongs to as a human: \"I want you to delete my profile.\"\n",
    "\n",
    "This sentence looks like it belongs to \"Account Management\" or \"Close account\"."
   ]
  },
  {
   "cell_type": "code",
   "execution_count": 7,
   "id": "6e2b9049",
   "metadata": {},
   "outputs": [],
   "source": [
    "messages =  [  \n",
    "{'role':'system', \n",
    " 'content': system_message},    \n",
    "{'role':'user', \n",
    " 'content': f\"{delimiter}{user_message}{delimiter}\"},  \n",
    "]"
   ]
  },
  {
   "attachments": {},
   "cell_type": "markdown",
   "id": "4b295207",
   "metadata": {},
   "source": [
    "Let's see how the model thinks\n",
    "\n",
    "The model's classification is \"Account Management\" as \"primary\" and \"Close account\" as \"secondary\".\n",
    "\n",
    "The benefit of requesting a structured output like JSON is that you can easily read it into an object, such as a dictionary in Python. If you use another language, you can also convert to another object and then input it into the subsequent steps."
   ]
  },
  {
   "cell_type": "code",
   "execution_count": 10,
   "id": "77328388",
   "metadata": {},
   "outputs": [
    {
     "name": "stdout",
     "output_type": "stream",
     "text": [
      "{\n",
      "    \"primary\": \"账户管理\",\n",
      "    \"secondary\": \"关闭账户\"\n",
      "}\n"
     ]
    }
   ],
   "source": [
    "response = get_completion_from_messages(messages)\n",
    "print(response)"
   ]
  },
  {
   "attachments": {},
   "cell_type": "markdown",
   "id": "2f6b353b",
   "metadata": {},
   "source": [
    "Here is another user message: \"Tell me more about your flat screen TV\"\n",
    "\n",
    "We apply the same list of messages to get the model's response and print it out.\n",
    "\n",
    "Another classification result is returned here and it looks like it should be correct."
   ]
  },
  {
   "cell_type": "code",
   "execution_count": 31,
   "id": "edf8fbe9",
   "metadata": {},
   "outputs": [
    {
     "name": "stdout",
     "output_type": "stream",
     "text": [
      "{\n",
      "  \"primary\": \"General Inquiry\",\n",
      "  \"secondary\": \"Product information\"\n",
      "}\n"
     ]
    }
   ],
   "source": [
    "user_message = f\"\"\"\\\n",
    "Tell me more about your flat screen tvs\"\"\"\n",
    "messages =  [  \n",
    "{'role':'system', \n",
    " 'content': system_message},    \n",
    "{'role':'user', \n",
    " 'content': f\"{delimiter}{user_message}{delimiter}\"},  \n",
    "] \n",
    "response = get_completion_from_messages(messages)\n",
    "print(response)"
   ]
  },
  {
   "cell_type": "code",
   "execution_count": 12,
   "id": "f1d738e1",
   "metadata": {},
   "outputs": [
    {
     "name": "stdout",
     "output_type": "stream",
     "text": [
      "以下是针对平板电脑的一般咨询：\n",
      "\n",
      "{\n",
      "  \"primary\": \"General Inquiry\",\n",
      "  \"secondary\": \"Product information\"\n",
      "}\n",
      "\n",
      "如果您有任何特定的问题或需要更详细的信息，请告诉我，我会尽力回答。\n"
     ]
    }
   ],
   "source": [
    "user_message = f\"\"\"\\\n",
    "告诉我更多有关你们的平板电脑的信息\"\"\"\n",
    "messages =  [  \n",
    "{'role':'system', \n",
    " 'content': system_message},    \n",
    "{'role':'user', \n",
    " 'content': f\"{delimiter}{user_message}{delimiter}\"},  \n",
    "] \n",
    "response = get_completion_from_messages(messages)\n",
    "print(response)"
   ]
  },
  {
   "attachments": {},
   "cell_type": "markdown",
   "id": "8f87f68d",
   "metadata": {},
   "source": [
    "So, depending on the classification of the customer inquiry, we can now provide a more specific set of instructions to handle the next steps.\n",
    "\n",
    "In this case, we might add additional information about the TV, while in other cases, we might want to provide a link to close the account or something similar.\n",
    "\n",
    "In the following chapters, we will take a closer look at different ways to handle input\n",
    "\n",
    "In the next chapter, we will explore more about ways to evaluate input, specifically how to ensure that users use the system in a responsible manner."
   ]
  }
 ],
 "metadata": {
  "kernelspec": {
   "display_name": "Python 3 (ipykernel)",
   "language": "python",
   "name": "python3"
  },
  "language_info": {
   "codemirror_mode": {
    "name": "ipython",
    "version": 3
   },
   "file_extension": ".py",
   "mimetype": "text/x-python",
   "name": "python",
   "nbconvert_exporter": "python",
   "pygments_lexer": "ipython3",
   "version": "3.10.11"
  }
 },
 "nbformat": 4,
 "nbformat_minor": 5
}
